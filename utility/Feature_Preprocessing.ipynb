{
 "cells": [
  {
   "cell_type": "code",
   "execution_count": 1,
   "id": "56d883eb",
   "metadata": {},
   "outputs": [],
   "source": [
    "import numpy as np\n",
    "import pandas as pd\n",
    "import tensorflow_recommenders as tfrs\n",
    "import tensorflow as tf\n",
    "from typing import Dict, Text\n",
    "\n",
    "from tensorflow import feature_column\n",
    "from tensorflow.keras import layers\n",
    "from sklearn.model_selection import train_test_split"
   ]
  },
  {
   "cell_type": "code",
   "execution_count": 2,
   "id": "40eb446c",
   "metadata": {},
   "outputs": [],
   "source": [
    "import pathlib\n",
    "import os\n",
    "\n",
    "user_file = \"\\\\Data\\\\Combined Data.csv\"\n",
    "caregiver_file = \"\\\\Data\\\\Processed Caregiver Data.csv\"\n",
    "\n",
    "path = pathlib.Path().resolve()\n",
    "parent_path = path.parent.absolute()\n",
    "\n",
    "user_dataframe = pd.read_csv(str(parent_path) + user_file)\n",
    "caregiver_dataframe = pd.read_csv(str(parent_path) + caregiver_file)\n",
    "\n"
   ]
  },
  {
   "cell_type": "code",
   "execution_count": 3,
   "id": "352ac361",
   "metadata": {},
   "outputs": [],
   "source": [
    "unique_masalah_user = np.unique(' '.join(user_dataframe['Tipe_Masalah']).split(' '))\n",
    "unique_masalah_caregiver = np.unique(' '.join(user_dataframe['Caregiver_Tipe_Masalah']).split(' '))\n",
    "np.delete(unique_masalah_caregiver, np.where(unique_masalah_caregiver == ''))\n",
    "unique_masalah_caregiver = np.delete(unique_masalah_caregiver, 0)\n",
    "\n",
    "unique_masalah_caregiver = unique_masalah_caregiver.tolist()\n",
    "\n",
    "for index, col in enumerate(unique_masalah_caregiver):\n",
    "        unique_masalah_caregiver[index] = 'Caregiver-'+col\n"
   ]
  },
  {
   "cell_type": "code",
   "execution_count": 4,
   "id": "aa1c7286",
   "metadata": {},
   "outputs": [],
   "source": [
    "def convert_categorical_data(df, col='Tipe_Masalah'):\n",
    "    ### Join every string in every row, split the result, pull out the unique values.\n",
    "    genres = np.unique(' '.join(df[col]).split(' '))\n",
    "    ### Drop 'NA'\n",
    "    genres = np.delete(genres, np.where(genres == ''))\n",
    "    if(col=='Tipe_Masalah'):\n",
    "        for genre in genres:\n",
    "            df[genre] = df[col].str.contains(genre).astype('int')\n",
    "    else:\n",
    "        for genre in genres:\n",
    "            df['Caregiver-'+genre] = df[col].str.contains(genre).astype('int')\n",
    "    df.drop(col, axis=1, inplace=True)"
   ]
  },
  {
   "cell_type": "code",
   "execution_count": 5,
   "id": "701cfd6d",
   "metadata": {},
   "outputs": [
    {
     "name": "stderr",
     "output_type": "stream",
     "text": [
      "C:\\Users\\ASUS\\AppData\\Local\\Temp\\ipykernel_28696\\1340759235.py:6: FutureWarning: In a future version of pandas all arguments of DataFrame.drop except for the argument 'labels' will be keyword-only.\n",
      "  user_dataframe.drop([\"USER_ID\"], 1,inplace=True)\n",
      "C:\\Users\\ASUS\\AppData\\Local\\Temp\\ipykernel_28696\\1340759235.py:7: FutureWarning: In a future version of pandas all arguments of DataFrame.drop except for the argument 'labels' will be keyword-only.\n",
      "  user_dataframe.drop([\"CAREGIVER_ID\"], 1,inplace=True)\n"
     ]
    }
   ],
   "source": [
    "convert_categorical_data(user_dataframe)\n",
    "convert_categorical_data(user_dataframe, col='Caregiver_Tipe_Masalah')\n",
    "convert_categorical_data(caregiver_dataframe, col='Caregiver_Tipe_Masalah')\n",
    "\n",
    "\n",
    "user_dataframe.drop([\"USER_ID\"], 1,inplace=True)\n",
    "user_dataframe.drop([\"CAREGIVER_ID\"], 1,inplace=True)"
   ]
  },
  {
   "cell_type": "code",
   "execution_count": 6,
   "id": "118a8f59",
   "metadata": {
    "scrolled": true
   },
   "outputs": [
    {
     "data": {
      "text/html": [
       "<div>\n",
       "<style scoped>\n",
       "    .dataframe tbody tr th:only-of-type {\n",
       "        vertical-align: middle;\n",
       "    }\n",
       "\n",
       "    .dataframe tbody tr th {\n",
       "        vertical-align: top;\n",
       "    }\n",
       "\n",
       "    .dataframe thead th {\n",
       "        text-align: right;\n",
       "    }\n",
       "</style>\n",
       "<table border=\"1\" class=\"dataframe\">\n",
       "  <thead>\n",
       "    <tr style=\"text-align: right;\">\n",
       "      <th></th>\n",
       "      <th>Gender</th>\n",
       "      <th>Age</th>\n",
       "      <th>Caregiver_Gender</th>\n",
       "      <th>Caregiver_Age</th>\n",
       "      <th>ADHD-Hiperaktif-dan-kurang-fokus</th>\n",
       "      <th>Depresi</th>\n",
       "      <th>Gangguan-kecemasan</th>\n",
       "      <th>Gangguan-makan</th>\n",
       "      <th>Gangguan-stres-pascatrauma</th>\n",
       "      <th>Skizofrenia</th>\n",
       "      <th>Caregiver-ADHD-Hiperaktif-dan-kurang-fokus</th>\n",
       "      <th>Caregiver-Depresi</th>\n",
       "      <th>Caregiver-Gangguan-kecemasan</th>\n",
       "      <th>Caregiver-Gangguan-makan</th>\n",
       "      <th>Caregiver-Gangguan-stres-pascatrauma</th>\n",
       "      <th>Caregiver-Skizofrenia</th>\n",
       "    </tr>\n",
       "  </thead>\n",
       "  <tbody>\n",
       "    <tr>\n",
       "      <th>0</th>\n",
       "      <td>Pria</td>\n",
       "      <td>33</td>\n",
       "      <td>Pria</td>\n",
       "      <td>19</td>\n",
       "      <td>1</td>\n",
       "      <td>0</td>\n",
       "      <td>0</td>\n",
       "      <td>0</td>\n",
       "      <td>0</td>\n",
       "      <td>0</td>\n",
       "      <td>1</td>\n",
       "      <td>0</td>\n",
       "      <td>0</td>\n",
       "      <td>0</td>\n",
       "      <td>0</td>\n",
       "      <td>0</td>\n",
       "    </tr>\n",
       "    <tr>\n",
       "      <th>1</th>\n",
       "      <td>Pria</td>\n",
       "      <td>33</td>\n",
       "      <td>Pria</td>\n",
       "      <td>35</td>\n",
       "      <td>1</td>\n",
       "      <td>0</td>\n",
       "      <td>0</td>\n",
       "      <td>0</td>\n",
       "      <td>0</td>\n",
       "      <td>0</td>\n",
       "      <td>1</td>\n",
       "      <td>0</td>\n",
       "      <td>1</td>\n",
       "      <td>0</td>\n",
       "      <td>1</td>\n",
       "      <td>0</td>\n",
       "    </tr>\n",
       "    <tr>\n",
       "      <th>2</th>\n",
       "      <td>Pria</td>\n",
       "      <td>29</td>\n",
       "      <td>Perempuan</td>\n",
       "      <td>33</td>\n",
       "      <td>0</td>\n",
       "      <td>0</td>\n",
       "      <td>0</td>\n",
       "      <td>1</td>\n",
       "      <td>1</td>\n",
       "      <td>0</td>\n",
       "      <td>0</td>\n",
       "      <td>0</td>\n",
       "      <td>0</td>\n",
       "      <td>1</td>\n",
       "      <td>1</td>\n",
       "      <td>0</td>\n",
       "    </tr>\n",
       "    <tr>\n",
       "      <th>3</th>\n",
       "      <td>Pria</td>\n",
       "      <td>29</td>\n",
       "      <td>Pria</td>\n",
       "      <td>38</td>\n",
       "      <td>0</td>\n",
       "      <td>0</td>\n",
       "      <td>0</td>\n",
       "      <td>1</td>\n",
       "      <td>1</td>\n",
       "      <td>0</td>\n",
       "      <td>1</td>\n",
       "      <td>0</td>\n",
       "      <td>0</td>\n",
       "      <td>1</td>\n",
       "      <td>0</td>\n",
       "      <td>0</td>\n",
       "    </tr>\n",
       "    <tr>\n",
       "      <th>4</th>\n",
       "      <td>Perempuan</td>\n",
       "      <td>32</td>\n",
       "      <td>Pria</td>\n",
       "      <td>35</td>\n",
       "      <td>1</td>\n",
       "      <td>0</td>\n",
       "      <td>1</td>\n",
       "      <td>0</td>\n",
       "      <td>0</td>\n",
       "      <td>0</td>\n",
       "      <td>1</td>\n",
       "      <td>0</td>\n",
       "      <td>1</td>\n",
       "      <td>0</td>\n",
       "      <td>1</td>\n",
       "      <td>0</td>\n",
       "    </tr>\n",
       "  </tbody>\n",
       "</table>\n",
       "</div>"
      ],
      "text/plain": [
       "      Gender  Age Caregiver_Gender  Caregiver_Age  \\\n",
       "0       Pria   33             Pria             19   \n",
       "1       Pria   33             Pria             35   \n",
       "2       Pria   29        Perempuan             33   \n",
       "3       Pria   29             Pria             38   \n",
       "4  Perempuan   32             Pria             35   \n",
       "\n",
       "   ADHD-Hiperaktif-dan-kurang-fokus  Depresi  Gangguan-kecemasan  \\\n",
       "0                                 1        0                   0   \n",
       "1                                 1        0                   0   \n",
       "2                                 0        0                   0   \n",
       "3                                 0        0                   0   \n",
       "4                                 1        0                   1   \n",
       "\n",
       "   Gangguan-makan  Gangguan-stres-pascatrauma  Skizofrenia  \\\n",
       "0               0                           0            0   \n",
       "1               0                           0            0   \n",
       "2               1                           1            0   \n",
       "3               1                           1            0   \n",
       "4               0                           0            0   \n",
       "\n",
       "   Caregiver-ADHD-Hiperaktif-dan-kurang-fokus  Caregiver-Depresi  \\\n",
       "0                                           1                  0   \n",
       "1                                           1                  0   \n",
       "2                                           0                  0   \n",
       "3                                           1                  0   \n",
       "4                                           1                  0   \n",
       "\n",
       "   Caregiver-Gangguan-kecemasan  Caregiver-Gangguan-makan  \\\n",
       "0                             0                         0   \n",
       "1                             1                         0   \n",
       "2                             0                         1   \n",
       "3                             0                         1   \n",
       "4                             1                         0   \n",
       "\n",
       "   Caregiver-Gangguan-stres-pascatrauma  Caregiver-Skizofrenia  \n",
       "0                                     0                      0  \n",
       "1                                     1                      0  \n",
       "2                                     1                      0  \n",
       "3                                     0                      0  \n",
       "4                                     1                      0  "
      ]
     },
     "execution_count": 6,
     "metadata": {},
     "output_type": "execute_result"
    }
   ],
   "source": [
    "\n",
    "user_dataframe.head()\n",
    "\n"
   ]
  },
  {
   "cell_type": "code",
   "execution_count": null,
   "id": "58ab5f9a",
   "metadata": {},
   "outputs": [],
   "source": []
  },
  {
   "cell_type": "code",
   "execution_count": 7,
   "id": "5049f45a",
   "metadata": {
    "scrolled": true
   },
   "outputs": [
    {
     "data": {
      "text/html": [
       "<div>\n",
       "<style scoped>\n",
       "    .dataframe tbody tr th:only-of-type {\n",
       "        vertical-align: middle;\n",
       "    }\n",
       "\n",
       "    .dataframe tbody tr th {\n",
       "        vertical-align: top;\n",
       "    }\n",
       "\n",
       "    .dataframe thead th {\n",
       "        text-align: right;\n",
       "    }\n",
       "</style>\n",
       "<table border=\"1\" class=\"dataframe\">\n",
       "  <thead>\n",
       "    <tr style=\"text-align: right;\">\n",
       "      <th></th>\n",
       "      <th>CAREGIVER_ID</th>\n",
       "      <th>Caregiver_Gender</th>\n",
       "      <th>Caregiver_Age</th>\n",
       "      <th>Caregiver-ADHD-Hiperaktif-dan-kurang-fokus</th>\n",
       "      <th>Caregiver-Depresi</th>\n",
       "      <th>Caregiver-Gangguan-kecemasan</th>\n",
       "      <th>Caregiver-Gangguan-makan</th>\n",
       "      <th>Caregiver-Gangguan-stres-pascatrauma</th>\n",
       "      <th>Caregiver-Skizofrenia</th>\n",
       "    </tr>\n",
       "  </thead>\n",
       "  <tbody>\n",
       "    <tr>\n",
       "      <th>0</th>\n",
       "      <td>1</td>\n",
       "      <td>Perempuan</td>\n",
       "      <td>28</td>\n",
       "      <td>1</td>\n",
       "      <td>0</td>\n",
       "      <td>0</td>\n",
       "      <td>1</td>\n",
       "      <td>1</td>\n",
       "      <td>0</td>\n",
       "    </tr>\n",
       "    <tr>\n",
       "      <th>1</th>\n",
       "      <td>2</td>\n",
       "      <td>Pria</td>\n",
       "      <td>33</td>\n",
       "      <td>0</td>\n",
       "      <td>1</td>\n",
       "      <td>0</td>\n",
       "      <td>0</td>\n",
       "      <td>0</td>\n",
       "      <td>1</td>\n",
       "    </tr>\n",
       "    <tr>\n",
       "      <th>2</th>\n",
       "      <td>3</td>\n",
       "      <td>Pria</td>\n",
       "      <td>19</td>\n",
       "      <td>1</td>\n",
       "      <td>0</td>\n",
       "      <td>0</td>\n",
       "      <td>0</td>\n",
       "      <td>0</td>\n",
       "      <td>0</td>\n",
       "    </tr>\n",
       "    <tr>\n",
       "      <th>3</th>\n",
       "      <td>4</td>\n",
       "      <td>Perempuan</td>\n",
       "      <td>18</td>\n",
       "      <td>0</td>\n",
       "      <td>0</td>\n",
       "      <td>0</td>\n",
       "      <td>1</td>\n",
       "      <td>0</td>\n",
       "      <td>1</td>\n",
       "    </tr>\n",
       "    <tr>\n",
       "      <th>4</th>\n",
       "      <td>5</td>\n",
       "      <td>Perempuan</td>\n",
       "      <td>36</td>\n",
       "      <td>0</td>\n",
       "      <td>0</td>\n",
       "      <td>1</td>\n",
       "      <td>0</td>\n",
       "      <td>0</td>\n",
       "      <td>1</td>\n",
       "    </tr>\n",
       "  </tbody>\n",
       "</table>\n",
       "</div>"
      ],
      "text/plain": [
       "   CAREGIVER_ID Caregiver_Gender  Caregiver_Age  \\\n",
       "0             1        Perempuan             28   \n",
       "1             2             Pria             33   \n",
       "2             3             Pria             19   \n",
       "3             4        Perempuan             18   \n",
       "4             5        Perempuan             36   \n",
       "\n",
       "   Caregiver-ADHD-Hiperaktif-dan-kurang-fokus  Caregiver-Depresi  \\\n",
       "0                                           1                  0   \n",
       "1                                           0                  1   \n",
       "2                                           1                  0   \n",
       "3                                           0                  0   \n",
       "4                                           0                  0   \n",
       "\n",
       "   Caregiver-Gangguan-kecemasan  Caregiver-Gangguan-makan  \\\n",
       "0                             0                         1   \n",
       "1                             0                         0   \n",
       "2                             0                         0   \n",
       "3                             0                         1   \n",
       "4                             1                         0   \n",
       "\n",
       "   Caregiver-Gangguan-stres-pascatrauma  Caregiver-Skizofrenia  \n",
       "0                                     1                      0  \n",
       "1                                     0                      1  \n",
       "2                                     0                      0  \n",
       "3                                     0                      1  \n",
       "4                                     0                      1  "
      ]
     },
     "execution_count": 7,
     "metadata": {},
     "output_type": "execute_result"
    }
   ],
   "source": [
    "\n",
    "caregiver_dataframe.head()"
   ]
  },
  {
   "cell_type": "code",
   "execution_count": null,
   "id": "00e2ca4a",
   "metadata": {},
   "outputs": [],
   "source": []
  },
  {
   "cell_type": "code",
   "execution_count": 8,
   "id": "e9aa7bef",
   "metadata": {},
   "outputs": [],
   "source": [
    "# A utility method to create a tf.data dataset from a Pandas Dataframe\n",
    "def df_to_dataset(dataframe, shuffle=True, batch_size=32):\n",
    "  dataframe = dataframe.copy()\n",
    "  ds = tf.data.Dataset.from_tensor_slices(dict(dataframe))\n",
    "  if shuffle:\n",
    "    ds = ds.shuffle(buffer_size=len(dataframe))\n",
    "  ds = ds.batch(batch_size)\n",
    "  return ds"
   ]
  },
  {
   "cell_type": "code",
   "execution_count": 9,
   "id": "b8651c55",
   "metadata": {},
   "outputs": [],
   "source": [
    "batch_size = 5# A small batch sized is used for demonstration purposes\n",
    "caregiver_ds = df_to_dataset(caregiver_dataframe, batch_size=batch_size,  shuffle=False)\n",
    "user_ds = df_to_dataset(user_dataframe, batch_size=batch_size)"
   ]
  },
  {
   "cell_type": "code",
   "execution_count": 10,
   "id": "2759a6bf",
   "metadata": {},
   "outputs": [
    {
     "name": "stdout",
     "output_type": "stream",
     "text": [
      "['Caregiver-ADHD-Hiperaktif-dan-kurang-fokus', 'Caregiver-Depresi', 'Caregiver-Gangguan-kecemasan', 'Caregiver-Gangguan-makan', 'Caregiver-Gangguan-stres-pascatrauma', 'Caregiver-Skizofrenia']\n"
     ]
    }
   ],
   "source": [
    "feature_columns = []\n",
    "\n",
    "number_feature = [\"Age\"]\n",
    "number_feature += unique_masalah_user.tolist()\n",
    "print(unique_masalah_caregiver)\n",
    "# numeric cols\n",
    "for header in number_feature:\n",
    "    feature_columns.append(feature_column.numeric_column(header))\n",
    "\n",
    "age_feature = [\"Age\"]\n",
    "for col in age_feature:\n",
    "    age = feature_column.numeric_column(col)\n",
    "    age_buckets = feature_column.bucketized_column(age, boundaries=[17, 21, 25, 29, 33, 37, 41, 46])\n",
    "    feature_columns.append(age_buckets)"
   ]
  },
  {
   "cell_type": "code",
   "execution_count": 11,
   "id": "e66ceb7f",
   "metadata": {},
   "outputs": [],
   "source": [
    "# indicator_columns\n",
    "indicator_column_names = ['Gender']\n",
    "for col_name in indicator_column_names:\n",
    "  categorical_column = feature_column.categorical_column_with_vocabulary_list(\n",
    "      col_name, user_dataframe[col_name].unique())\n",
    "  indicator_column = feature_column.indicator_column(categorical_column)\n",
    "  feature_columns.append(indicator_column)\n",
    "\n"
   ]
  },
  {
   "cell_type": "code",
   "execution_count": 12,
   "id": "067961c1",
   "metadata": {},
   "outputs": [
    {
     "name": "stdout",
     "output_type": "stream",
     "text": [
      "NumericColumn(key='Age', shape=(1,), default_value=None, dtype=tf.float32, normalizer_fn=None)\n",
      "NumericColumn(key='ADHD-Hiperaktif-dan-kurang-fokus', shape=(1,), default_value=None, dtype=tf.float32, normalizer_fn=None)\n",
      "NumericColumn(key='Depresi', shape=(1,), default_value=None, dtype=tf.float32, normalizer_fn=None)\n",
      "NumericColumn(key='Gangguan-kecemasan', shape=(1,), default_value=None, dtype=tf.float32, normalizer_fn=None)\n",
      "NumericColumn(key='Gangguan-makan', shape=(1,), default_value=None, dtype=tf.float32, normalizer_fn=None)\n",
      "NumericColumn(key='Gangguan-stres-pascatrauma', shape=(1,), default_value=None, dtype=tf.float32, normalizer_fn=None)\n",
      "NumericColumn(key='Skizofrenia', shape=(1,), default_value=None, dtype=tf.float32, normalizer_fn=None)\n",
      "BucketizedColumn(source_column=NumericColumn(key='Age', shape=(1,), default_value=None, dtype=tf.float32, normalizer_fn=None), boundaries=(17, 21, 25, 29, 33, 37, 41, 46))\n",
      "IndicatorColumn(categorical_column=VocabularyListCategoricalColumn(key='Gender', vocabulary_list=('Pria', 'Perempuan'), dtype=tf.string, default_value=-1, num_oov_buckets=0))\n"
     ]
    }
   ],
   "source": [
    "for col in feature_columns:\n",
    "    print(col)"
   ]
  },
  {
   "cell_type": "code",
   "execution_count": 13,
   "id": "c207a630",
   "metadata": {},
   "outputs": [],
   "source": [
    "feature_layer_user= tf.keras.layers.DenseFeatures(feature_columns)"
   ]
  },
  {
   "cell_type": "code",
   "execution_count": 14,
   "id": "d4055c2c",
   "metadata": {},
   "outputs": [
    {
     "name": "stdout",
     "output_type": "stream",
     "text": [
      "['Caregiver-ADHD-Hiperaktif-dan-kurang-fokus', 'Caregiver-Depresi', 'Caregiver-Gangguan-kecemasan', 'Caregiver-Gangguan-makan', 'Caregiver-Gangguan-stres-pascatrauma', 'Caregiver-Skizofrenia']\n"
     ]
    }
   ],
   "source": [
    "feature_columns = []\n",
    "\n",
    "number_feature = [\"Caregiver_Age\"]\n",
    "number_feature += unique_masalah_caregiver\n",
    "print(unique_masalah_caregiver)\n",
    "# numeric cols\n",
    "\n",
    "for header in number_feature:\n",
    "    feature_columns.append(feature_column.numeric_column(header))\n",
    "\n",
    "age_feature = [\"Caregiver_Age\"]\n",
    "for col in age_feature:\n",
    "    age = feature_column.numeric_column(col)\n",
    "    age_buckets = feature_column.bucketized_column(age, boundaries=[17, 21, 25, 29, 33, 37, 41, 46])\n",
    "    feature_columns.append(age_buckets)\n",
    "\n",
    "col_name = 'Caregiver_Gender'\n",
    "categorical_column = feature_column.categorical_column_with_vocabulary_list(\n",
    "      col_name, user_dataframe[col_name].unique())\n",
    "indicator_column = feature_column.indicator_column(categorical_column)\n",
    "feature_columns.append(indicator_column)"
   ]
  },
  {
   "cell_type": "code",
   "execution_count": null,
   "id": "5ce5db7d",
   "metadata": {},
   "outputs": [],
   "source": []
  },
  {
   "cell_type": "code",
   "execution_count": null,
   "id": "293de80c",
   "metadata": {},
   "outputs": [],
   "source": []
  },
  {
   "cell_type": "code",
   "execution_count": 15,
   "id": "e6eb0ccf",
   "metadata": {},
   "outputs": [],
   "source": [
    "feature_layer_caregiver= tf.keras.layers.DenseFeatures(feature_columns)"
   ]
  },
  {
   "cell_type": "code",
   "execution_count": null,
   "id": "cb4e165c",
   "metadata": {},
   "outputs": [],
   "source": []
  },
  {
   "cell_type": "code",
   "execution_count": null,
   "id": "568b4cdc",
   "metadata": {},
   "outputs": [],
   "source": []
  },
  {
   "cell_type": "code",
   "execution_count": null,
   "id": "23834efc",
   "metadata": {},
   "outputs": [],
   "source": []
  },
  {
   "cell_type": "code",
   "execution_count": 16,
   "id": "ecf815dc",
   "metadata": {},
   "outputs": [],
   "source": [
    "class RecomendModel(tfrs.Model):\n",
    "\n",
    "  def __init__(self):\n",
    "    super().__init__()\n",
    "\n",
    "    embedding_dimension = 32\n",
    "\n",
    "    # Set up a model for representing users.\n",
    "    self.user_model = tf.keras.Sequential([\n",
    "        feature_layer_user,\n",
    "        layers.Dense(64),\n",
    "        layers.Dense(32)\n",
    "    ])\n",
    "\n",
    "    # Set up a model for representing caregiver.\n",
    "    self.caregiver_model = tf.keras.Sequential([\n",
    "        feature_layer_caregiver,\n",
    "        layers.Dense(64),\n",
    "        layers.Dense(32)\n",
    "    ])\n",
    "\n",
    "    # Set up a task to optimize the model and compute metrics.\n",
    "    self.task = tfrs.tasks.Retrieval(\n",
    "      metrics=tfrs.metrics.FactorizedTopK(\n",
    "        candidates=caregiver_ds.batch(5).map(self.caregiver_model)\n",
    "      )\n",
    "    )\n",
    "\n",
    "  def compute_loss(self, features: Dict[Text, tf.Tensor], training=False) -> tf.Tensor:\n",
    "    \n",
    "    caregiver_features = ['Caregiver_Gender', 'Caregiver_Age',  'Caregiver-ADHD-Hiperaktif-dan-kurang-fokus', 'Caregiver-Depresi', 'Caregiver-Gangguan-kecemasan', 'Caregiver-Gangguan-makan', 'Caregiver-Gangguan-stres-pascatrauma', 'Caregiver-Skizofrenia']\n",
    "    user_features = ['Gender', 'Age', 'ADHD-Hiperaktif-dan-kurang-fokus', 'Depresi', 'Gangguan-kecemasan', 'Gangguan-makan','Gangguan-stres-pascatrauma', 'Skizofrenia']\n",
    "    \n",
    "    \n",
    "    # We pick out the user features and pass them into the user model.\n",
    "    \n",
    "    print(\"AAAAAAAAAAAAAAAAAA\")\n",
    "    user_embeddings = self.user_model({\n",
    "        'Age':features['Age'],\n",
    "        'Gender':features['Gender'],\n",
    "        'ADHD-Hiperaktif-dan-kurang-fokus':features['ADHD-Hiperaktif-dan-kurang-fokus'],\n",
    "        'Depresi':features['Depresi'],\n",
    "        'Gangguan-kecemasan':features['Gangguan-kecemasan'],\n",
    "        'Gangguan-makan':features['Gangguan-makan'],\n",
    "        'Gangguan-stres-pascatrauma':features['Gangguan-stres-pascatrauma'],\n",
    "        'Skizofrenia':features['Skizofrenia']\n",
    "    })\n",
    "    print(\"BBBBBBBBBBBBBB\")\n",
    "    # And pick out the movie features and pass them into the movie model,\n",
    "    # getting embeddings back.\n",
    "    positive_movie_embeddings = self.caregiver_model({\n",
    "        'Caregiver_Age':features['Caregiver_Age'],\n",
    "        'Caregiver_Gender':features['Caregiver_Gender'],\n",
    "        'Caregiver-ADHD-Hiperaktif-dan-kurang-fokus':features['Caregiver-ADHD-Hiperaktif-dan-kurang-fokus'],\n",
    "        'Caregiver-Depresi':features['Caregiver-Depresi'],\n",
    "        'Caregiver-Gangguan-kecemasan':features['Caregiver-Gangguan-kecemasan'],\n",
    "        'Caregiver-Gangguan-makan':features['Caregiver-Gangguan-makan'],\n",
    "        'Caregiver-Gangguan-stres-pascatrauma':features['Caregiver-Gangguan-stres-pascatrauma'],\n",
    "        'Caregiver-Skizofrenia':features['Caregiver-Skizofrenia']\n",
    "        \n",
    "    })\n",
    "    \n",
    "\n",
    "    # The task computes the loss and the metrics.\n",
    "\n",
    "    return self.task(user_embeddings, positive_movie_embeddings, compute_metrics=not training)"
   ]
  },
  {
   "cell_type": "code",
   "execution_count": 17,
   "id": "acc13ff0",
   "metadata": {},
   "outputs": [],
   "source": [
    "caregiver_features = ['Caregiver_Gender', 'Caregiver_Age',  'Caregiver-ADHD-Hiperaktif-dan-kurang-fokus', 'Caregiver-Depresi', 'Caregiver-Gangguan-kecemasan', 'Caregiver-Gangguan-makan', 'Caregiver-Gangguan-stres-pascatrauma', 'Caregiver-Skizofrenia']\n",
    "user_features = ['Gender', 'Age', 'ADHD-Hiperaktif-dan-kurang-fokus', 'Depresi', 'Gangguan-kecemasan', 'Gangguan-makan','Gangguan-stres-pascatrauma', 'Skizofrenia']"
   ]
  },
  {
   "cell_type": "code",
   "execution_count": 18,
   "id": "f92c75f5",
   "metadata": {},
   "outputs": [
    {
     "name": "stdout",
     "output_type": "stream",
     "text": [
      "Every feature: ['CAREGIVER_ID', 'Caregiver_Gender', 'Caregiver_Age', 'Caregiver-ADHD-Hiperaktif-dan-kurang-fokus', 'Caregiver-Depresi', 'Caregiver-Gangguan-kecemasan', 'Caregiver-Gangguan-makan', 'Caregiver-Gangguan-stres-pascatrauma', 'Caregiver-Skizofrenia']\n",
      "A batch of ages: tf.Tensor([1 0 1 0 0], shape=(5,), dtype=int32)\n"
     ]
    }
   ],
   "source": [
    "\n",
    "for feature_batch in caregiver_ds.take(1):\n",
    "  print('Every feature:', list(feature_batch.keys()))\n",
    "  print('A batch of ages:', feature_batch['Caregiver-ADHD-Hiperaktif-dan-kurang-fokus'])"
   ]
  },
  {
   "cell_type": "code",
   "execution_count": 20,
   "id": "0694d02e",
   "metadata": {
    "scrolled": false
   },
   "outputs": [
    {
     "name": "stdout",
     "output_type": "stream",
     "text": [
      "WARNING:tensorflow:Layers in a Sequential model should only have a single input tensor. Received: inputs={'CAREGIVER_ID': <tf.Tensor 'args_0:0' shape=(None, None) dtype=int64>, 'Caregiver_Gender': <tf.Tensor 'args_8:0' shape=(None, None) dtype=string>, 'Caregiver_Age': <tf.Tensor 'args_7:0' shape=(None, None) dtype=int64>, 'Caregiver-ADHD-Hiperaktif-dan-kurang-fokus': <tf.Tensor 'args_1:0' shape=(None, None) dtype=int32>, 'Caregiver-Depresi': <tf.Tensor 'args_2:0' shape=(None, None) dtype=int32>, 'Caregiver-Gangguan-kecemasan': <tf.Tensor 'args_3:0' shape=(None, None) dtype=int32>, 'Caregiver-Gangguan-makan': <tf.Tensor 'args_4:0' shape=(None, None) dtype=int32>, 'Caregiver-Gangguan-stres-pascatrauma': <tf.Tensor 'args_5:0' shape=(None, None) dtype=int32>, 'Caregiver-Skizofrenia': <tf.Tensor 'args_6:0' shape=(None, None) dtype=int32>}. Consider rewriting this model with the Functional API.\n",
      "Epoch 1/50\n",
      "AAAAAAAAAAAAAAAAAA\n",
      "WARNING:tensorflow:Layers in a Sequential model should only have a single input tensor. Received: inputs={'Age': <tf.Tensor 'IteratorGetNext:1' shape=(None,) dtype=int64>, 'Gender': <tf.Tensor 'IteratorGetNext:14' shape=(None,) dtype=string>, 'ADHD-Hiperaktif-dan-kurang-fokus': <tf.Tensor 'IteratorGetNext:0' shape=(None,) dtype=int32>, 'Depresi': <tf.Tensor 'IteratorGetNext:10' shape=(None,) dtype=int32>, 'Gangguan-kecemasan': <tf.Tensor 'IteratorGetNext:11' shape=(None,) dtype=int32>, 'Gangguan-makan': <tf.Tensor 'IteratorGetNext:12' shape=(None,) dtype=int32>, 'Gangguan-stres-pascatrauma': <tf.Tensor 'IteratorGetNext:13' shape=(None,) dtype=int32>, 'Skizofrenia': <tf.Tensor 'IteratorGetNext:15' shape=(None,) dtype=int32>}. Consider rewriting this model with the Functional API.\n",
      "BBBBBBBBBBBBBB\n",
      "WARNING:tensorflow:Layers in a Sequential model should only have a single input tensor. Received: inputs={'Caregiver_Age': <tf.Tensor 'IteratorGetNext:8' shape=(None,) dtype=int64>, 'Caregiver_Gender': <tf.Tensor 'IteratorGetNext:9' shape=(None,) dtype=string>, 'Caregiver-ADHD-Hiperaktif-dan-kurang-fokus': <tf.Tensor 'IteratorGetNext:2' shape=(None,) dtype=int32>, 'Caregiver-Depresi': <tf.Tensor 'IteratorGetNext:3' shape=(None,) dtype=int32>, 'Caregiver-Gangguan-kecemasan': <tf.Tensor 'IteratorGetNext:4' shape=(None,) dtype=int32>, 'Caregiver-Gangguan-makan': <tf.Tensor 'IteratorGetNext:5' shape=(None,) dtype=int32>, 'Caregiver-Gangguan-stres-pascatrauma': <tf.Tensor 'IteratorGetNext:6' shape=(None,) dtype=int32>, 'Caregiver-Skizofrenia': <tf.Tensor 'IteratorGetNext:7' shape=(None,) dtype=int32>}. Consider rewriting this model with the Functional API.\n",
      "AAAAAAAAAAAAAAAAAA\n",
      "WARNING:tensorflow:Layers in a Sequential model should only have a single input tensor. Received: inputs={'Age': <tf.Tensor 'IteratorGetNext:1' shape=(None,) dtype=int64>, 'Gender': <tf.Tensor 'IteratorGetNext:14' shape=(None,) dtype=string>, 'ADHD-Hiperaktif-dan-kurang-fokus': <tf.Tensor 'IteratorGetNext:0' shape=(None,) dtype=int32>, 'Depresi': <tf.Tensor 'IteratorGetNext:10' shape=(None,) dtype=int32>, 'Gangguan-kecemasan': <tf.Tensor 'IteratorGetNext:11' shape=(None,) dtype=int32>, 'Gangguan-makan': <tf.Tensor 'IteratorGetNext:12' shape=(None,) dtype=int32>, 'Gangguan-stres-pascatrauma': <tf.Tensor 'IteratorGetNext:13' shape=(None,) dtype=int32>, 'Skizofrenia': <tf.Tensor 'IteratorGetNext:15' shape=(None,) dtype=int32>}. Consider rewriting this model with the Functional API.\n",
      "BBBBBBBBBBBBBB\n",
      "WARNING:tensorflow:Layers in a Sequential model should only have a single input tensor. Received: inputs={'Caregiver_Age': <tf.Tensor 'IteratorGetNext:8' shape=(None,) dtype=int64>, 'Caregiver_Gender': <tf.Tensor 'IteratorGetNext:9' shape=(None,) dtype=string>, 'Caregiver-ADHD-Hiperaktif-dan-kurang-fokus': <tf.Tensor 'IteratorGetNext:2' shape=(None,) dtype=int32>, 'Caregiver-Depresi': <tf.Tensor 'IteratorGetNext:3' shape=(None,) dtype=int32>, 'Caregiver-Gangguan-kecemasan': <tf.Tensor 'IteratorGetNext:4' shape=(None,) dtype=int32>, 'Caregiver-Gangguan-makan': <tf.Tensor 'IteratorGetNext:5' shape=(None,) dtype=int32>, 'Caregiver-Gangguan-stres-pascatrauma': <tf.Tensor 'IteratorGetNext:6' shape=(None,) dtype=int32>, 'Caregiver-Skizofrenia': <tf.Tensor 'IteratorGetNext:7' shape=(None,) dtype=int32>}. Consider rewriting this model with the Functional API.\n",
      "40/40 [==============================] - 1s 10ms/step - factorized_top_k/top_1_categorical_accuracy: 0.0000e+00 - factorized_top_k/top_5_categorical_accuracy: 0.0000e+00 - factorized_top_k/top_10_categorical_accuracy: 0.0000e+00 - factorized_top_k/top_50_categorical_accuracy: 0.0000e+00 - factorized_top_k/top_100_categorical_accuracy: 0.0000e+00 - loss: 56.9186 - regularization_loss: 0.0000e+00 - total_loss: 56.9186\n",
      "Epoch 2/50\n",
      "40/40 [==============================] - 0s 9ms/step - factorized_top_k/top_1_categorical_accuracy: 0.0000e+00 - factorized_top_k/top_5_categorical_accuracy: 0.0000e+00 - factorized_top_k/top_10_categorical_accuracy: 0.0000e+00 - factorized_top_k/top_50_categorical_accuracy: 0.0000e+00 - factorized_top_k/top_100_categorical_accuracy: 0.0000e+00 - loss: 17.5906 - regularization_loss: 0.0000e+00 - total_loss: 17.5906\n",
      "Epoch 3/50\n",
      "40/40 [==============================] - 0s 9ms/step - factorized_top_k/top_1_categorical_accuracy: 0.0000e+00 - factorized_top_k/top_5_categorical_accuracy: 0.0000e+00 - factorized_top_k/top_10_categorical_accuracy: 0.0000e+00 - factorized_top_k/top_50_categorical_accuracy: 0.0000e+00 - factorized_top_k/top_100_categorical_accuracy: 0.0000e+00 - loss: 14.8835 - regularization_loss: 0.0000e+00 - total_loss: 14.8835\n",
      "Epoch 4/50\n",
      "40/40 [==============================] - 0s 10ms/step - factorized_top_k/top_1_categorical_accuracy: 0.0000e+00 - factorized_top_k/top_5_categorical_accuracy: 0.0000e+00 - factorized_top_k/top_10_categorical_accuracy: 0.0000e+00 - factorized_top_k/top_50_categorical_accuracy: 0.0000e+00 - factorized_top_k/top_100_categorical_accuracy: 0.0000e+00 - loss: 15.4438 - regularization_loss: 0.0000e+00 - total_loss: 15.4438\n",
      "Epoch 5/50\n",
      "40/40 [==============================] - 0s 9ms/step - factorized_top_k/top_1_categorical_accuracy: 0.0000e+00 - factorized_top_k/top_5_categorical_accuracy: 0.0000e+00 - factorized_top_k/top_10_categorical_accuracy: 0.0000e+00 - factorized_top_k/top_50_categorical_accuracy: 0.0000e+00 - factorized_top_k/top_100_categorical_accuracy: 0.0000e+00 - loss: 18.1042 - regularization_loss: 0.0000e+00 - total_loss: 18.1042\n",
      "Epoch 6/50\n",
      "40/40 [==============================] - 0s 9ms/step - factorized_top_k/top_1_categorical_accuracy: 0.0000e+00 - factorized_top_k/top_5_categorical_accuracy: 0.0000e+00 - factorized_top_k/top_10_categorical_accuracy: 0.0000e+00 - factorized_top_k/top_50_categorical_accuracy: 0.0000e+00 - factorized_top_k/top_100_categorical_accuracy: 0.0000e+00 - loss: 25.0545 - regularization_loss: 0.0000e+00 - total_loss: 25.0545\n",
      "Epoch 7/50\n",
      "40/40 [==============================] - 0s 9ms/step - factorized_top_k/top_1_categorical_accuracy: 0.0000e+00 - factorized_top_k/top_5_categorical_accuracy: 0.0000e+00 - factorized_top_k/top_10_categorical_accuracy: 0.0000e+00 - factorized_top_k/top_50_categorical_accuracy: 0.0000e+00 - factorized_top_k/top_100_categorical_accuracy: 0.0000e+00 - loss: 14.2961 - regularization_loss: 0.0000e+00 - total_loss: 14.2961\n",
      "Epoch 8/50\n",
      "40/40 [==============================] - 0s 9ms/step - factorized_top_k/top_1_categorical_accuracy: 0.0000e+00 - factorized_top_k/top_5_categorical_accuracy: 0.0000e+00 - factorized_top_k/top_10_categorical_accuracy: 0.0000e+00 - factorized_top_k/top_50_categorical_accuracy: 0.0000e+00 - factorized_top_k/top_100_categorical_accuracy: 0.0000e+00 - loss: 17.3068 - regularization_loss: 0.0000e+00 - total_loss: 17.3068\n",
      "Epoch 9/50\n",
      "40/40 [==============================] - 0s 9ms/step - factorized_top_k/top_1_categorical_accuracy: 0.0000e+00 - factorized_top_k/top_5_categorical_accuracy: 0.0000e+00 - factorized_top_k/top_10_categorical_accuracy: 0.0000e+00 - factorized_top_k/top_50_categorical_accuracy: 0.0000e+00 - factorized_top_k/top_100_categorical_accuracy: 0.0000e+00 - loss: 11.9381 - regularization_loss: 0.0000e+00 - total_loss: 11.9381\n",
      "Epoch 10/50\n",
      "40/40 [==============================] - 0s 9ms/step - factorized_top_k/top_1_categorical_accuracy: 0.0000e+00 - factorized_top_k/top_5_categorical_accuracy: 0.0000e+00 - factorized_top_k/top_10_categorical_accuracy: 0.0000e+00 - factorized_top_k/top_50_categorical_accuracy: 0.0000e+00 - factorized_top_k/top_100_categorical_accuracy: 0.0000e+00 - loss: 15.9807 - regularization_loss: 0.0000e+00 - total_loss: 15.9807\n",
      "Epoch 11/50\n",
      "40/40 [==============================] - 0s 9ms/step - factorized_top_k/top_1_categorical_accuracy: 0.0000e+00 - factorized_top_k/top_5_categorical_accuracy: 0.0000e+00 - factorized_top_k/top_10_categorical_accuracy: 0.0000e+00 - factorized_top_k/top_50_categorical_accuracy: 0.0000e+00 - factorized_top_k/top_100_categorical_accuracy: 0.0000e+00 - loss: 16.5739 - regularization_loss: 0.0000e+00 - total_loss: 16.5739\n",
      "Epoch 12/50\n",
      "40/40 [==============================] - 0s 9ms/step - factorized_top_k/top_1_categorical_accuracy: 0.0000e+00 - factorized_top_k/top_5_categorical_accuracy: 0.0000e+00 - factorized_top_k/top_10_categorical_accuracy: 0.0000e+00 - factorized_top_k/top_50_categorical_accuracy: 0.0000e+00 - factorized_top_k/top_100_categorical_accuracy: 0.0000e+00 - loss: 13.9214 - regularization_loss: 0.0000e+00 - total_loss: 13.9214\n",
      "Epoch 13/50\n",
      "40/40 [==============================] - 0s 9ms/step - factorized_top_k/top_1_categorical_accuracy: 0.0000e+00 - factorized_top_k/top_5_categorical_accuracy: 0.0000e+00 - factorized_top_k/top_10_categorical_accuracy: 0.0000e+00 - factorized_top_k/top_50_categorical_accuracy: 0.0000e+00 - factorized_top_k/top_100_categorical_accuracy: 0.0000e+00 - loss: 10.8295 - regularization_loss: 0.0000e+00 - total_loss: 10.8295\n",
      "Epoch 14/50\n",
      "40/40 [==============================] - 0s 9ms/step - factorized_top_k/top_1_categorical_accuracy: 0.0000e+00 - factorized_top_k/top_5_categorical_accuracy: 0.0000e+00 - factorized_top_k/top_10_categorical_accuracy: 0.0000e+00 - factorized_top_k/top_50_categorical_accuracy: 0.0000e+00 - factorized_top_k/top_100_categorical_accuracy: 0.0000e+00 - loss: 10.4328 - regularization_loss: 0.0000e+00 - total_loss: 10.4328\n",
      "Epoch 15/50\n",
      "40/40 [==============================] - 0s 9ms/step - factorized_top_k/top_1_categorical_accuracy: 0.0000e+00 - factorized_top_k/top_5_categorical_accuracy: 0.0000e+00 - factorized_top_k/top_10_categorical_accuracy: 0.0000e+00 - factorized_top_k/top_50_categorical_accuracy: 0.0000e+00 - factorized_top_k/top_100_categorical_accuracy: 0.0000e+00 - loss: 10.0256 - regularization_loss: 0.0000e+00 - total_loss: 10.0256\n",
      "Epoch 16/50\n",
      "40/40 [==============================] - 0s 9ms/step - factorized_top_k/top_1_categorical_accuracy: 0.0000e+00 - factorized_top_k/top_5_categorical_accuracy: 0.0000e+00 - factorized_top_k/top_10_categorical_accuracy: 0.0000e+00 - factorized_top_k/top_50_categorical_accuracy: 0.0000e+00 - factorized_top_k/top_100_categorical_accuracy: 0.0000e+00 - loss: 10.3042 - regularization_loss: 0.0000e+00 - total_loss: 10.3042\n",
      "Epoch 17/50\n",
      "40/40 [==============================] - 0s 9ms/step - factorized_top_k/top_1_categorical_accuracy: 0.0000e+00 - factorized_top_k/top_5_categorical_accuracy: 0.0000e+00 - factorized_top_k/top_10_categorical_accuracy: 0.0000e+00 - factorized_top_k/top_50_categorical_accuracy: 0.0000e+00 - factorized_top_k/top_100_categorical_accuracy: 0.0000e+00 - loss: 16.3121 - regularization_loss: 0.0000e+00 - total_loss: 16.3121\n",
      "Epoch 18/50\n",
      "40/40 [==============================] - 0s 9ms/step - factorized_top_k/top_1_categorical_accuracy: 0.0000e+00 - factorized_top_k/top_5_categorical_accuracy: 0.0000e+00 - factorized_top_k/top_10_categorical_accuracy: 0.0000e+00 - factorized_top_k/top_50_categorical_accuracy: 0.0000e+00 - factorized_top_k/top_100_categorical_accuracy: 0.0000e+00 - loss: 11.9604 - regularization_loss: 0.0000e+00 - total_loss: 11.9604\n",
      "Epoch 19/50\n",
      "40/40 [==============================] - 0s 9ms/step - factorized_top_k/top_1_categorical_accuracy: 0.0000e+00 - factorized_top_k/top_5_categorical_accuracy: 0.0000e+00 - factorized_top_k/top_10_categorical_accuracy: 0.0000e+00 - factorized_top_k/top_50_categorical_accuracy: 0.0000e+00 - factorized_top_k/top_100_categorical_accuracy: 0.0000e+00 - loss: 13.2697 - regularization_loss: 0.0000e+00 - total_loss: 13.2697\n",
      "Epoch 20/50\n",
      "40/40 [==============================] - 0s 9ms/step - factorized_top_k/top_1_categorical_accuracy: 0.0000e+00 - factorized_top_k/top_5_categorical_accuracy: 0.0000e+00 - factorized_top_k/top_10_categorical_accuracy: 0.0000e+00 - factorized_top_k/top_50_categorical_accuracy: 0.0000e+00 - factorized_top_k/top_100_categorical_accuracy: 0.0000e+00 - loss: 8.6810 - regularization_loss: 0.0000e+00 - total_loss: 8.6810\n",
      "Epoch 21/50\n",
      "40/40 [==============================] - 0s 9ms/step - factorized_top_k/top_1_categorical_accuracy: 0.0000e+00 - factorized_top_k/top_5_categorical_accuracy: 0.0000e+00 - factorized_top_k/top_10_categorical_accuracy: 0.0000e+00 - factorized_top_k/top_50_categorical_accuracy: 0.0000e+00 - factorized_top_k/top_100_categorical_accuracy: 0.0000e+00 - loss: 11.3115 - regularization_loss: 0.0000e+00 - total_loss: 11.3115\n",
      "Epoch 22/50\n",
      "40/40 [==============================] - 0s 9ms/step - factorized_top_k/top_1_categorical_accuracy: 0.0000e+00 - factorized_top_k/top_5_categorical_accuracy: 0.0000e+00 - factorized_top_k/top_10_categorical_accuracy: 0.0000e+00 - factorized_top_k/top_50_categorical_accuracy: 0.0000e+00 - factorized_top_k/top_100_categorical_accuracy: 0.0000e+00 - loss: 10.9727 - regularization_loss: 0.0000e+00 - total_loss: 10.9727\n",
      "Epoch 23/50\n",
      "40/40 [==============================] - 0s 9ms/step - factorized_top_k/top_1_categorical_accuracy: 0.0000e+00 - factorized_top_k/top_5_categorical_accuracy: 0.0000e+00 - factorized_top_k/top_10_categorical_accuracy: 0.0000e+00 - factorized_top_k/top_50_categorical_accuracy: 0.0000e+00 - factorized_top_k/top_100_categorical_accuracy: 0.0000e+00 - loss: 10.2666 - regularization_loss: 0.0000e+00 - total_loss: 10.2666\n",
      "Epoch 24/50\n",
      "40/40 [==============================] - 0s 9ms/step - factorized_top_k/top_1_categorical_accuracy: 0.0000e+00 - factorized_top_k/top_5_categorical_accuracy: 0.0000e+00 - factorized_top_k/top_10_categorical_accuracy: 0.0000e+00 - factorized_top_k/top_50_categorical_accuracy: 0.0000e+00 - factorized_top_k/top_100_categorical_accuracy: 0.0000e+00 - loss: 8.1240 - regularization_loss: 0.0000e+00 - total_loss: 8.1240\n",
      "Epoch 25/50\n",
      "40/40 [==============================] - 0s 9ms/step - factorized_top_k/top_1_categorical_accuracy: 0.0000e+00 - factorized_top_k/top_5_categorical_accuracy: 0.0000e+00 - factorized_top_k/top_10_categorical_accuracy: 0.0000e+00 - factorized_top_k/top_50_categorical_accuracy: 0.0000e+00 - factorized_top_k/top_100_categorical_accuracy: 0.0000e+00 - loss: 9.4107 - regularization_loss: 0.0000e+00 - total_loss: 9.4107\n",
      "Epoch 26/50\n",
      "40/40 [==============================] - 0s 9ms/step - factorized_top_k/top_1_categorical_accuracy: 0.0000e+00 - factorized_top_k/top_5_categorical_accuracy: 0.0000e+00 - factorized_top_k/top_10_categorical_accuracy: 0.0000e+00 - factorized_top_k/top_50_categorical_accuracy: 0.0000e+00 - factorized_top_k/top_100_categorical_accuracy: 0.0000e+00 - loss: 8.2007 - regularization_loss: 0.0000e+00 - total_loss: 8.2007\n",
      "Epoch 27/50\n",
      "40/40 [==============================] - 0s 9ms/step - factorized_top_k/top_1_categorical_accuracy: 0.0000e+00 - factorized_top_k/top_5_categorical_accuracy: 0.0000e+00 - factorized_top_k/top_10_categorical_accuracy: 0.0000e+00 - factorized_top_k/top_50_categorical_accuracy: 0.0000e+00 - factorized_top_k/top_100_categorical_accuracy: 0.0000e+00 - loss: 8.3719 - regularization_loss: 0.0000e+00 - total_loss: 8.3719\n",
      "Epoch 28/50\n",
      "40/40 [==============================] - 0s 9ms/step - factorized_top_k/top_1_categorical_accuracy: 0.0000e+00 - factorized_top_k/top_5_categorical_accuracy: 0.0000e+00 - factorized_top_k/top_10_categorical_accuracy: 0.0000e+00 - factorized_top_k/top_50_categorical_accuracy: 0.0000e+00 - factorized_top_k/top_100_categorical_accuracy: 0.0000e+00 - loss: 8.4248 - regularization_loss: 0.0000e+00 - total_loss: 8.4248\n",
      "Epoch 29/50\n"
     ]
    },
    {
     "name": "stdout",
     "output_type": "stream",
     "text": [
      "40/40 [==============================] - 0s 9ms/step - factorized_top_k/top_1_categorical_accuracy: 0.0000e+00 - factorized_top_k/top_5_categorical_accuracy: 0.0000e+00 - factorized_top_k/top_10_categorical_accuracy: 0.0000e+00 - factorized_top_k/top_50_categorical_accuracy: 0.0000e+00 - factorized_top_k/top_100_categorical_accuracy: 0.0000e+00 - loss: 7.8536 - regularization_loss: 0.0000e+00 - total_loss: 7.8536\n",
      "Epoch 30/50\n",
      "40/40 [==============================] - 0s 9ms/step - factorized_top_k/top_1_categorical_accuracy: 0.0000e+00 - factorized_top_k/top_5_categorical_accuracy: 0.0000e+00 - factorized_top_k/top_10_categorical_accuracy: 0.0000e+00 - factorized_top_k/top_50_categorical_accuracy: 0.0000e+00 - factorized_top_k/top_100_categorical_accuracy: 0.0000e+00 - loss: 8.5783 - regularization_loss: 0.0000e+00 - total_loss: 8.5783\n",
      "Epoch 31/50\n",
      "40/40 [==============================] - 0s 9ms/step - factorized_top_k/top_1_categorical_accuracy: 0.0000e+00 - factorized_top_k/top_5_categorical_accuracy: 0.0000e+00 - factorized_top_k/top_10_categorical_accuracy: 0.0000e+00 - factorized_top_k/top_50_categorical_accuracy: 0.0000e+00 - factorized_top_k/top_100_categorical_accuracy: 0.0000e+00 - loss: 9.3891 - regularization_loss: 0.0000e+00 - total_loss: 9.3891\n",
      "Epoch 32/50\n",
      "40/40 [==============================] - 0s 9ms/step - factorized_top_k/top_1_categorical_accuracy: 0.0000e+00 - factorized_top_k/top_5_categorical_accuracy: 0.0000e+00 - factorized_top_k/top_10_categorical_accuracy: 0.0000e+00 - factorized_top_k/top_50_categorical_accuracy: 0.0000e+00 - factorized_top_k/top_100_categorical_accuracy: 0.0000e+00 - loss: 7.2356 - regularization_loss: 0.0000e+00 - total_loss: 7.2356\n",
      "Epoch 33/50\n",
      "40/40 [==============================] - 0s 9ms/step - factorized_top_k/top_1_categorical_accuracy: 0.0000e+00 - factorized_top_k/top_5_categorical_accuracy: 0.0000e+00 - factorized_top_k/top_10_categorical_accuracy: 0.0000e+00 - factorized_top_k/top_50_categorical_accuracy: 0.0000e+00 - factorized_top_k/top_100_categorical_accuracy: 0.0000e+00 - loss: 6.9828 - regularization_loss: 0.0000e+00 - total_loss: 6.9828\n",
      "Epoch 34/50\n",
      "40/40 [==============================] - 0s 9ms/step - factorized_top_k/top_1_categorical_accuracy: 0.0000e+00 - factorized_top_k/top_5_categorical_accuracy: 0.0000e+00 - factorized_top_k/top_10_categorical_accuracy: 0.0000e+00 - factorized_top_k/top_50_categorical_accuracy: 0.0000e+00 - factorized_top_k/top_100_categorical_accuracy: 0.0000e+00 - loss: 7.1489 - regularization_loss: 0.0000e+00 - total_loss: 7.1489\n",
      "Epoch 35/50\n",
      "40/40 [==============================] - 0s 9ms/step - factorized_top_k/top_1_categorical_accuracy: 0.0000e+00 - factorized_top_k/top_5_categorical_accuracy: 0.0000e+00 - factorized_top_k/top_10_categorical_accuracy: 0.0000e+00 - factorized_top_k/top_50_categorical_accuracy: 0.0000e+00 - factorized_top_k/top_100_categorical_accuracy: 0.0000e+00 - loss: 7.4608 - regularization_loss: 0.0000e+00 - total_loss: 7.4608\n",
      "Epoch 36/50\n",
      "40/40 [==============================] - 0s 9ms/step - factorized_top_k/top_1_categorical_accuracy: 0.0000e+00 - factorized_top_k/top_5_categorical_accuracy: 0.0000e+00 - factorized_top_k/top_10_categorical_accuracy: 0.0000e+00 - factorized_top_k/top_50_categorical_accuracy: 0.0000e+00 - factorized_top_k/top_100_categorical_accuracy: 0.0000e+00 - loss: 7.7044 - regularization_loss: 0.0000e+00 - total_loss: 7.7044\n",
      "Epoch 37/50\n",
      "40/40 [==============================] - 0s 9ms/step - factorized_top_k/top_1_categorical_accuracy: 0.0000e+00 - factorized_top_k/top_5_categorical_accuracy: 0.0000e+00 - factorized_top_k/top_10_categorical_accuracy: 0.0000e+00 - factorized_top_k/top_50_categorical_accuracy: 0.0000e+00 - factorized_top_k/top_100_categorical_accuracy: 0.0000e+00 - loss: 7.9562 - regularization_loss: 0.0000e+00 - total_loss: 7.9562\n",
      "Epoch 38/50\n",
      "40/40 [==============================] - 0s 9ms/step - factorized_top_k/top_1_categorical_accuracy: 0.0000e+00 - factorized_top_k/top_5_categorical_accuracy: 0.0000e+00 - factorized_top_k/top_10_categorical_accuracy: 0.0000e+00 - factorized_top_k/top_50_categorical_accuracy: 0.0000e+00 - factorized_top_k/top_100_categorical_accuracy: 0.0000e+00 - loss: 8.3962 - regularization_loss: 0.0000e+00 - total_loss: 8.3962\n",
      "Epoch 39/50\n",
      "40/40 [==============================] - 0s 9ms/step - factorized_top_k/top_1_categorical_accuracy: 0.0000e+00 - factorized_top_k/top_5_categorical_accuracy: 0.0000e+00 - factorized_top_k/top_10_categorical_accuracy: 0.0000e+00 - factorized_top_k/top_50_categorical_accuracy: 0.0000e+00 - factorized_top_k/top_100_categorical_accuracy: 0.0000e+00 - loss: 7.3582 - regularization_loss: 0.0000e+00 - total_loss: 7.3582\n",
      "Epoch 40/50\n",
      "40/40 [==============================] - 0s 9ms/step - factorized_top_k/top_1_categorical_accuracy: 0.0000e+00 - factorized_top_k/top_5_categorical_accuracy: 0.0000e+00 - factorized_top_k/top_10_categorical_accuracy: 0.0000e+00 - factorized_top_k/top_50_categorical_accuracy: 0.0000e+00 - factorized_top_k/top_100_categorical_accuracy: 0.0000e+00 - loss: 6.9416 - regularization_loss: 0.0000e+00 - total_loss: 6.9416\n",
      "Epoch 41/50\n",
      "40/40 [==============================] - 0s 9ms/step - factorized_top_k/top_1_categorical_accuracy: 0.0000e+00 - factorized_top_k/top_5_categorical_accuracy: 0.0000e+00 - factorized_top_k/top_10_categorical_accuracy: 0.0000e+00 - factorized_top_k/top_50_categorical_accuracy: 0.0000e+00 - factorized_top_k/top_100_categorical_accuracy: 0.0000e+00 - loss: 7.0269 - regularization_loss: 0.0000e+00 - total_loss: 7.0269\n",
      "Epoch 42/50\n",
      "40/40 [==============================] - 0s 9ms/step - factorized_top_k/top_1_categorical_accuracy: 0.0000e+00 - factorized_top_k/top_5_categorical_accuracy: 0.0000e+00 - factorized_top_k/top_10_categorical_accuracy: 0.0000e+00 - factorized_top_k/top_50_categorical_accuracy: 0.0000e+00 - factorized_top_k/top_100_categorical_accuracy: 0.0000e+00 - loss: 7.0201 - regularization_loss: 0.0000e+00 - total_loss: 7.0201\n",
      "Epoch 43/50\n",
      "40/40 [==============================] - 0s 9ms/step - factorized_top_k/top_1_categorical_accuracy: 0.0000e+00 - factorized_top_k/top_5_categorical_accuracy: 0.0000e+00 - factorized_top_k/top_10_categorical_accuracy: 0.0000e+00 - factorized_top_k/top_50_categorical_accuracy: 0.0000e+00 - factorized_top_k/top_100_categorical_accuracy: 0.0000e+00 - loss: 6.6890 - regularization_loss: 0.0000e+00 - total_loss: 6.6890\n",
      "Epoch 44/50\n",
      "40/40 [==============================] - 0s 9ms/step - factorized_top_k/top_1_categorical_accuracy: 0.0000e+00 - factorized_top_k/top_5_categorical_accuracy: 0.0000e+00 - factorized_top_k/top_10_categorical_accuracy: 0.0000e+00 - factorized_top_k/top_50_categorical_accuracy: 0.0000e+00 - factorized_top_k/top_100_categorical_accuracy: 0.0000e+00 - loss: 6.5808 - regularization_loss: 0.0000e+00 - total_loss: 6.5808\n",
      "Epoch 45/50\n",
      "40/40 [==============================] - 0s 9ms/step - factorized_top_k/top_1_categorical_accuracy: 0.0000e+00 - factorized_top_k/top_5_categorical_accuracy: 0.0000e+00 - factorized_top_k/top_10_categorical_accuracy: 0.0000e+00 - factorized_top_k/top_50_categorical_accuracy: 0.0000e+00 - factorized_top_k/top_100_categorical_accuracy: 0.0000e+00 - loss: 6.7549 - regularization_loss: 0.0000e+00 - total_loss: 6.7549\n",
      "Epoch 46/50\n",
      "40/40 [==============================] - 0s 9ms/step - factorized_top_k/top_1_categorical_accuracy: 0.0000e+00 - factorized_top_k/top_5_categorical_accuracy: 0.0000e+00 - factorized_top_k/top_10_categorical_accuracy: 0.0000e+00 - factorized_top_k/top_50_categorical_accuracy: 0.0000e+00 - factorized_top_k/top_100_categorical_accuracy: 0.0000e+00 - loss: 7.3632 - regularization_loss: 0.0000e+00 - total_loss: 7.3632\n",
      "Epoch 47/50\n",
      "40/40 [==============================] - 0s 9ms/step - factorized_top_k/top_1_categorical_accuracy: 0.0000e+00 - factorized_top_k/top_5_categorical_accuracy: 0.0000e+00 - factorized_top_k/top_10_categorical_accuracy: 0.0000e+00 - factorized_top_k/top_50_categorical_accuracy: 0.0000e+00 - factorized_top_k/top_100_categorical_accuracy: 0.0000e+00 - loss: 7.2753 - regularization_loss: 0.0000e+00 - total_loss: 7.2753\n",
      "Epoch 48/50\n",
      "40/40 [==============================] - 0s 9ms/step - factorized_top_k/top_1_categorical_accuracy: 0.0000e+00 - factorized_top_k/top_5_categorical_accuracy: 0.0000e+00 - factorized_top_k/top_10_categorical_accuracy: 0.0000e+00 - factorized_top_k/top_50_categorical_accuracy: 0.0000e+00 - factorized_top_k/top_100_categorical_accuracy: 0.0000e+00 - loss: 7.2345 - regularization_loss: 0.0000e+00 - total_loss: 7.2345\n",
      "Epoch 49/50\n",
      "40/40 [==============================] - 0s 9ms/step - factorized_top_k/top_1_categorical_accuracy: 0.0000e+00 - factorized_top_k/top_5_categorical_accuracy: 0.0000e+00 - factorized_top_k/top_10_categorical_accuracy: 0.0000e+00 - factorized_top_k/top_50_categorical_accuracy: 0.0000e+00 - factorized_top_k/top_100_categorical_accuracy: 0.0000e+00 - loss: 7.7991 - regularization_loss: 0.0000e+00 - total_loss: 7.7991\n",
      "Epoch 50/50\n",
      "40/40 [==============================] - 0s 9ms/step - factorized_top_k/top_1_categorical_accuracy: 0.0000e+00 - factorized_top_k/top_5_categorical_accuracy: 0.0000e+00 - factorized_top_k/top_10_categorical_accuracy: 0.0000e+00 - factorized_top_k/top_50_categorical_accuracy: 0.0000e+00 - factorized_top_k/top_100_categorical_accuracy: 0.0000e+00 - loss: 7.2499 - regularization_loss: 0.0000e+00 - total_loss: 7.2499\n"
     ]
    },
    {
     "data": {
      "text/plain": [
       "<keras.callbacks.History at 0x25b22704940>"
      ]
     },
     "execution_count": 20,
     "metadata": {},
     "output_type": "execute_result"
    }
   ],
   "source": [
    "model = RecomendModel()\n",
    "\n",
    "model.compile(optimizer='adam',\n",
    "              loss=tf.keras.losses.BinaryCrossentropy(from_logits=True),\n",
    "              metrics=['accuracy'])\n",
    "model.fit(user_ds,\n",
    "          epochs=50)"
   ]
  },
  {
   "cell_type": "code",
   "execution_count": 21,
   "id": "5420b2fe",
   "metadata": {},
   "outputs": [
    {
     "name": "stdout",
     "output_type": "stream",
     "text": [
      "Every feature: ['CAREGIVER_ID', 'Caregiver_Gender', 'Caregiver_Age', 'Caregiver-ADHD-Hiperaktif-dan-kurang-fokus', 'Caregiver-Depresi', 'Caregiver-Gangguan-kecemasan', 'Caregiver-Gangguan-makan', 'Caregiver-Gangguan-stres-pascatrauma', 'Caregiver-Skizofrenia']\n",
      "Every feature: ['CAREGIVER_ID', 'Caregiver_Gender', 'Caregiver_Age', 'Caregiver-ADHD-Hiperaktif-dan-kurang-fokus', 'Caregiver-Depresi', 'Caregiver-Gangguan-kecemasan', 'Caregiver-Gangguan-makan', 'Caregiver-Gangguan-stres-pascatrauma', 'Caregiver-Skizofrenia']\n",
      "Every feature: ['CAREGIVER_ID', 'Caregiver_Gender', 'Caregiver_Age', 'Caregiver-ADHD-Hiperaktif-dan-kurang-fokus', 'Caregiver-Depresi', 'Caregiver-Gangguan-kecemasan', 'Caregiver-Gangguan-makan', 'Caregiver-Gangguan-stres-pascatrauma', 'Caregiver-Skizofrenia']\n",
      "Every feature: ['CAREGIVER_ID', 'Caregiver_Gender', 'Caregiver_Age', 'Caregiver-ADHD-Hiperaktif-dan-kurang-fokus', 'Caregiver-Depresi', 'Caregiver-Gangguan-kecemasan', 'Caregiver-Gangguan-makan', 'Caregiver-Gangguan-stres-pascatrauma', 'Caregiver-Skizofrenia']\n",
      "Every feature: ['CAREGIVER_ID', 'Caregiver_Gender', 'Caregiver_Age', 'Caregiver-ADHD-Hiperaktif-dan-kurang-fokus', 'Caregiver-Depresi', 'Caregiver-Gangguan-kecemasan', 'Caregiver-Gangguan-makan', 'Caregiver-Gangguan-stres-pascatrauma', 'Caregiver-Skizofrenia']\n",
      "Every feature: ['CAREGIVER_ID', 'Caregiver_Gender', 'Caregiver_Age', 'Caregiver-ADHD-Hiperaktif-dan-kurang-fokus', 'Caregiver-Depresi', 'Caregiver-Gangguan-kecemasan', 'Caregiver-Gangguan-makan', 'Caregiver-Gangguan-stres-pascatrauma', 'Caregiver-Skizofrenia']\n"
     ]
    }
   ],
   "source": [
    "for feature_batch in caregiver_ds:\n",
    "  print('Every feature:', list(feature_batch.keys()))"
   ]
  },
  {
   "cell_type": "code",
   "execution_count": 22,
   "id": "6099e2a5",
   "metadata": {},
   "outputs": [
    {
     "name": "stdout",
     "output_type": "stream",
     "text": [
      "WARNING:tensorflow:Layers in a Sequential model should only have a single input tensor. Received: inputs={'CAREGIVER_ID': <tf.Tensor 'args_0:0' shape=(None,) dtype=int64>, 'Caregiver_Gender': <tf.Tensor 'args_8:0' shape=(None,) dtype=string>, 'Caregiver_Age': <tf.Tensor 'args_7:0' shape=(None,) dtype=int64>, 'Caregiver-ADHD-Hiperaktif-dan-kurang-fokus': <tf.Tensor 'args_1:0' shape=(None,) dtype=int32>, 'Caregiver-Depresi': <tf.Tensor 'args_2:0' shape=(None,) dtype=int32>, 'Caregiver-Gangguan-kecemasan': <tf.Tensor 'args_3:0' shape=(None,) dtype=int32>, 'Caregiver-Gangguan-makan': <tf.Tensor 'args_4:0' shape=(None,) dtype=int32>, 'Caregiver-Gangguan-stres-pascatrauma': <tf.Tensor 'args_5:0' shape=(None,) dtype=int32>, 'Caregiver-Skizofrenia': <tf.Tensor 'args_6:0' shape=(None,) dtype=int32>}. Consider rewriting this model with the Functional API.\n"
     ]
    },
    {
     "data": {
      "text/plain": [
       "<tensorflow_recommenders.layers.factorized_top_k.BruteForce at 0x259f3fb8dc0>"
      ]
     },
     "execution_count": 22,
     "metadata": {},
     "output_type": "execute_result"
    }
   ],
   "source": [
    "brute_force = tfrs.layers.factorized_top_k.BruteForce(model.user_model)\n",
    "brute_force.index_from_dataset(  \n",
    "       caregiver_ds.map(lambda features: (features['CAREGIVER_ID'], model.caregiver_model(features)))\n",
    ")\n",
    "\n",
    "\n",
    "\n"
   ]
  },
  {
   "cell_type": "code",
   "execution_count": null,
   "id": "30ea1164",
   "metadata": {},
   "outputs": [],
   "source": []
  },
  {
   "cell_type": "code",
   "execution_count": null,
   "id": "6e5dc7f3",
   "metadata": {},
   "outputs": [],
   "source": []
  },
  {
   "cell_type": "code",
   "execution_count": 23,
   "id": "d510961b",
   "metadata": {},
   "outputs": [
    {
     "name": "stdout",
     "output_type": "stream",
     "text": [
      "{'Gender': ['Pria'], 'Age': [30], 'ADHD-Hiperaktif-dan-kurang-fokus': [0], 'Depresi': [1], 'Gangguan-kecemasan': [0], 'Gangguan-makan': [0], 'Gangguan-stres-pascatrauma': [1], 'Skizofrenia': [0]}\n"
     ]
    }
   ],
   "source": [
    "a =['Gender', 'Age', 'ADHD-Hiperaktif-dan-kurang-fokus', 'Depresi', 'Gangguan-kecemasan', 'Gangguan-makan','Gangguan-stres-pascatrauma', 'Skizofrenia']\n",
    "value = ['Pria', 30, 0, 1, 0, 0, 1, 0]\n",
    "dictionary_Test = dict((el,([value[ix]])) for ix,el in enumerate(a))\n",
    "print(dictionary_Test)"
   ]
  },
  {
   "cell_type": "code",
   "execution_count": 24,
   "id": "ce0b86bc",
   "metadata": {},
   "outputs": [
    {
     "name": "stdout",
     "output_type": "stream",
     "text": [
      "{'Caregiver_Gender': ['Pria'], 'Caregiver_Age': [30], 'Caregiver-ADHD-Hiperaktif-dan-kurang-fokus': [0], 'Caregiver-Depresi': [1], 'Caregiver-Gangguan-kecemasan': [0], 'Caregiver-Gangguan-makan': [0], 'Caregiver-Gangguan-stres-pascatrauma': [1], 'Caregiver-Skizofrenia': [0]}\n"
     ]
    }
   ],
   "source": [
    "a =['Caregiver_Gender', 'Caregiver_Age', 'Caregiver-ADHD-Hiperaktif-dan-kurang-fokus', 'Caregiver-Depresi', 'Caregiver-Gangguan-kecemasan', 'Caregiver-Gangguan-makan','Caregiver-Gangguan-stres-pascatrauma', 'Caregiver-Skizofrenia']\n",
    "value = ['Pria', 30, 0, 1, 0, 0, 1, 0]\n",
    "dictionary_Test_Caregiver = dict((el,([value[ix]])) for ix,el in enumerate(a))\n",
    "print(dictionary_Test_Caregiver)"
   ]
  },
  {
   "cell_type": "code",
   "execution_count": 25,
   "id": "ab7cbaaf",
   "metadata": {
    "scrolled": true
   },
   "outputs": [
    {
     "name": "stdout",
     "output_type": "stream",
     "text": [
      "WARNING:tensorflow:Layers in a Sequential model should only have a single input tensor. Received: inputs={'Gender': ['Pria'], 'Age': [<tf.Tensor: shape=(), dtype=int32, numpy=30>], 'ADHD-Hiperaktif-dan-kurang-fokus': [<tf.Tensor: shape=(), dtype=int32, numpy=0>], 'Depresi': [<tf.Tensor: shape=(), dtype=int32, numpy=1>], 'Gangguan-kecemasan': [<tf.Tensor: shape=(), dtype=int32, numpy=0>], 'Gangguan-makan': [<tf.Tensor: shape=(), dtype=int32, numpy=0>], 'Gangguan-stres-pascatrauma': [<tf.Tensor: shape=(), dtype=int32, numpy=1>], 'Skizofrenia': [<tf.Tensor: shape=(), dtype=int32, numpy=0>]}. Consider rewriting this model with the Functional API.\n",
      "Top recommendations: [11  1]\n"
     ]
    }
   ],
   "source": [
    "# Get predictions for user 42.\n",
    "a, titles = brute_force(dictionary_Test, k=2)\n",
    "print(f\"Top recommendations: {titles[0]}\")"
   ]
  },
  {
   "cell_type": "code",
   "execution_count": 26,
   "id": "ab27a59e",
   "metadata": {},
   "outputs": [
    {
     "name": "stdout",
     "output_type": "stream",
     "text": [
      "WARNING:tensorflow:Layers in a Sequential model should only have a single input tensor. Received: inputs={'Caregiver_Gender': ['Pria'], 'Caregiver_Age': [<tf.Tensor: shape=(), dtype=int32, numpy=30>], 'Caregiver-ADHD-Hiperaktif-dan-kurang-fokus': [<tf.Tensor: shape=(), dtype=int32, numpy=0>], 'Caregiver-Depresi': [<tf.Tensor: shape=(), dtype=int32, numpy=1>], 'Caregiver-Gangguan-kecemasan': [<tf.Tensor: shape=(), dtype=int32, numpy=0>], 'Caregiver-Gangguan-makan': [<tf.Tensor: shape=(), dtype=int32, numpy=0>], 'Caregiver-Gangguan-stres-pascatrauma': [<tf.Tensor: shape=(), dtype=int32, numpy=1>], 'Caregiver-Skizofrenia': [<tf.Tensor: shape=(), dtype=int32, numpy=0>]}. Consider rewriting this model with the Functional API.\n"
     ]
    },
    {
     "data": {
      "text/plain": [
       "array([[ 3.1579328e-01,  3.9391607e-01,  1.3375446e+00, -8.5921639e-01,\n",
       "        -4.5878882e+00,  1.5695357e-01,  1.9208274e+00, -2.6860711e-01,\n",
       "        -3.8104892e-01,  1.8821605e-01, -6.3457197e-01, -2.2838409e-01,\n",
       "        -9.7358507e-01,  5.8465042e+00,  1.1693569e-01,  2.6583606e-01,\n",
       "        -8.6488003e-01, -1.4620021e-03,  1.2510519e-01, -3.0973715e-01,\n",
       "        -9.6210875e-02, -4.3897104e-01,  1.4634188e+00, -1.2985393e+00,\n",
       "         1.9011959e-01, -9.8073971e-01,  6.4827404e+00,  4.5363913e+00,\n",
       "        -3.9511628e+00,  1.2739626e+00,  1.0682169e+00,  1.1689289e+00]],\n",
       "      dtype=float32)"
      ]
     },
     "execution_count": 26,
     "metadata": {},
     "output_type": "execute_result"
    }
   ],
   "source": [
    "tensor = model.caregiver_model(dictionary_Test_Caregiver)\n",
    "tensor.numpy()"
   ]
  },
  {
   "cell_type": "code",
   "execution_count": 27,
   "id": "7089edc3",
   "metadata": {
    "scrolled": true
   },
   "outputs": [
    {
     "name": "stdout",
     "output_type": "stream",
     "text": [
      "WARNING:tensorflow:Layers in a Sequential model should only have a single input tensor. Received: inputs={'Gender': ['Pria'], 'Age': [<tf.Tensor: shape=(), dtype=int32, numpy=30>], 'ADHD-Hiperaktif-dan-kurang-fokus': [<tf.Tensor: shape=(), dtype=int32, numpy=0>], 'Depresi': [<tf.Tensor: shape=(), dtype=int32, numpy=1>], 'Gangguan-kecemasan': [<tf.Tensor: shape=(), dtype=int32, numpy=0>], 'Gangguan-makan': [<tf.Tensor: shape=(), dtype=int32, numpy=0>], 'Gangguan-stres-pascatrauma': [<tf.Tensor: shape=(), dtype=int32, numpy=1>], 'Skizofrenia': [<tf.Tensor: shape=(), dtype=int32, numpy=0>]}. Consider rewriting this model with the Functional API.\n"
     ]
    },
    {
     "data": {
      "text/plain": [
       "array([[ 0.64673376,  0.72850835, -0.12784478, -0.6835696 , -2.969006  ,\n",
       "         0.35297424,  1.8349602 ,  0.39980578,  0.1041425 ,  0.15065643,\n",
       "         0.2228162 ,  1.8783839 , -1.1703529 ,  2.854777  ,  0.46349487,\n",
       "         1.776469  ,  0.96256036, -0.05481011, -0.13111317, -0.12231349,\n",
       "         0.6570233 ,  1.6315539 , -2.0097766 , -1.5701414 , -0.27140173,\n",
       "        -0.63929135, -4.742543  , -1.49361   , -0.82271767,  1.1917223 ,\n",
       "        -0.42567462,  0.6244748 ]], dtype=float32)"
      ]
     },
     "execution_count": 27,
     "metadata": {},
     "output_type": "execute_result"
    }
   ],
   "source": [
    "tensor = model.user_model(dictionary_Test)\n",
    "tensor.numpy()"
   ]
  },
  {
   "cell_type": "code",
   "execution_count": 28,
   "id": "ca36293e",
   "metadata": {},
   "outputs": [
    {
     "name": "stdout",
     "output_type": "stream",
     "text": [
      "WARNING:tensorflow:Layers in a Sequential model should only have a single input tensor. Received: inputs={'CAREGIVER_ID': <tf.Tensor 'args_0:0' shape=(None, None) dtype=int64>, 'Caregiver_Gender': <tf.Tensor 'args_8:0' shape=(None, None) dtype=string>, 'Caregiver_Age': <tf.Tensor 'args_7:0' shape=(None, None) dtype=int64>, 'Caregiver-ADHD-Hiperaktif-dan-kurang-fokus': <tf.Tensor 'args_1:0' shape=(None, None) dtype=int32>, 'Caregiver-Depresi': <tf.Tensor 'args_2:0' shape=(None, None) dtype=int32>, 'Caregiver-Gangguan-kecemasan': <tf.Tensor 'args_3:0' shape=(None, None) dtype=int32>, 'Caregiver-Gangguan-makan': <tf.Tensor 'args_4:0' shape=(None, None) dtype=int32>, 'Caregiver-Gangguan-stres-pascatrauma': <tf.Tensor 'args_5:0' shape=(None, None) dtype=int32>, 'Caregiver-Skizofrenia': <tf.Tensor 'args_6:0' shape=(None, None) dtype=int32>}. Consider rewriting this model with the Functional API.\n"
     ]
    }
   ],
   "source": [
    "processed_ds = caregiver_ds.batch(5).map(model.caregiver_model)\n"
   ]
  },
  {
   "cell_type": "code",
   "execution_count": 29,
   "id": "9770b62c",
   "metadata": {},
   "outputs": [
    {
     "data": {
      "text/plain": [
       "<bound method Model.save of <__main__.RecomendModel object at 0x000002598859AF10>>"
      ]
     },
     "execution_count": 29,
     "metadata": {},
     "output_type": "execute_result"
    }
   ],
   "source": [
    "model.save"
   ]
  },
  {
   "cell_type": "code",
   "execution_count": 30,
   "id": "b8932037",
   "metadata": {},
   "outputs": [
    {
     "data": {
      "text/plain": [
       "<MapDataset element_spec=TensorSpec(shape=(None, 32), dtype=tf.float32, name=None)>"
      ]
     },
     "execution_count": 30,
     "metadata": {},
     "output_type": "execute_result"
    }
   ],
   "source": [
    "processed_ds"
   ]
  },
  {
   "cell_type": "code",
   "execution_count": 46,
   "id": "7b0f03cc",
   "metadata": {},
   "outputs": [],
   "source": [
    "\n",
    "model.user_model.save('saved_model/user_query_v1.hdf5')\n",
    "model.caregiver_model.save('saved__model/caregiver_query_v1.hdf5')"
   ]
  },
  {
   "cell_type": "code",
   "execution_count": 47,
   "id": "3721667a",
   "metadata": {},
   "outputs": [
    {
     "ename": "ValueError",
     "evalue": "Layer count mismatch when loading weights from file. Model expected 0 layers, found 2 saved layers.",
     "output_type": "error",
     "traceback": [
      "\u001b[1;31m---------------------------------------------------------------------------\u001b[0m",
      "\u001b[1;31mValueError\u001b[0m                                Traceback (most recent call last)",
      "Input \u001b[1;32mIn [47]\u001b[0m, in \u001b[0;36m<cell line: 1>\u001b[1;34m()\u001b[0m\n\u001b[1;32m----> 1\u001b[0m new_model \u001b[38;5;241m=\u001b[39m \u001b[43mtf\u001b[49m\u001b[38;5;241;43m.\u001b[39;49m\u001b[43mkeras\u001b[49m\u001b[38;5;241;43m.\u001b[39;49m\u001b[43mmodels\u001b[49m\u001b[38;5;241;43m.\u001b[39;49m\u001b[43mload_model\u001b[49m\u001b[43m(\u001b[49m\u001b[38;5;124;43m'\u001b[39;49m\u001b[38;5;124;43mmy_model.h5\u001b[39;49m\u001b[38;5;124;43m'\u001b[39;49m\u001b[43m)\u001b[49m\n",
      "File \u001b[1;32mc:\\users\\asus\\anaconda3\\envs\\notebook\\lib\\site-packages\\keras\\utils\\traceback_utils.py:67\u001b[0m, in \u001b[0;36mfilter_traceback.<locals>.error_handler\u001b[1;34m(*args, **kwargs)\u001b[0m\n\u001b[0;32m     65\u001b[0m \u001b[38;5;28;01mexcept\u001b[39;00m \u001b[38;5;167;01mException\u001b[39;00m \u001b[38;5;28;01mas\u001b[39;00m e:  \u001b[38;5;66;03m# pylint: disable=broad-except\u001b[39;00m\n\u001b[0;32m     66\u001b[0m   filtered_tb \u001b[38;5;241m=\u001b[39m _process_traceback_frames(e\u001b[38;5;241m.\u001b[39m__traceback__)\n\u001b[1;32m---> 67\u001b[0m   \u001b[38;5;28;01mraise\u001b[39;00m e\u001b[38;5;241m.\u001b[39mwith_traceback(filtered_tb) \u001b[38;5;28;01mfrom\u001b[39;00m \u001b[38;5;28mNone\u001b[39m\n\u001b[0;32m     68\u001b[0m \u001b[38;5;28;01mfinally\u001b[39;00m:\n\u001b[0;32m     69\u001b[0m   \u001b[38;5;28;01mdel\u001b[39;00m filtered_tb\n",
      "File \u001b[1;32mc:\\users\\asus\\anaconda3\\envs\\notebook\\lib\\site-packages\\keras\\saving\\hdf5_format.py:728\u001b[0m, in \u001b[0;36mload_weights_from_hdf5_group\u001b[1;34m(f, model)\u001b[0m\n\u001b[0;32m    726\u001b[0m layer_names \u001b[38;5;241m=\u001b[39m filtered_layer_names\n\u001b[0;32m    727\u001b[0m \u001b[38;5;28;01mif\u001b[39;00m \u001b[38;5;28mlen\u001b[39m(layer_names) \u001b[38;5;241m!=\u001b[39m \u001b[38;5;28mlen\u001b[39m(filtered_layers):\n\u001b[1;32m--> 728\u001b[0m   \u001b[38;5;28;01mraise\u001b[39;00m \u001b[38;5;167;01mValueError\u001b[39;00m(\n\u001b[0;32m    729\u001b[0m       \u001b[38;5;124mf\u001b[39m\u001b[38;5;124m'\u001b[39m\u001b[38;5;124mLayer count mismatch when loading weights from file. \u001b[39m\u001b[38;5;124m'\u001b[39m\n\u001b[0;32m    730\u001b[0m       \u001b[38;5;124mf\u001b[39m\u001b[38;5;124m'\u001b[39m\u001b[38;5;124mModel expected \u001b[39m\u001b[38;5;132;01m{\u001b[39;00m\u001b[38;5;28mlen\u001b[39m(filtered_layers)\u001b[38;5;132;01m}\u001b[39;00m\u001b[38;5;124m layers, found \u001b[39m\u001b[38;5;124m'\u001b[39m\n\u001b[0;32m    731\u001b[0m       \u001b[38;5;124mf\u001b[39m\u001b[38;5;124m'\u001b[39m\u001b[38;5;132;01m{\u001b[39;00m\u001b[38;5;28mlen\u001b[39m(layer_names)\u001b[38;5;132;01m}\u001b[39;00m\u001b[38;5;124m saved layers.\u001b[39m\u001b[38;5;124m'\u001b[39m)\n\u001b[0;32m    733\u001b[0m \u001b[38;5;66;03m# We batch weight value assignments in a single backend call\u001b[39;00m\n\u001b[0;32m    734\u001b[0m \u001b[38;5;66;03m# which provides a speedup in TensorFlow.\u001b[39;00m\n\u001b[0;32m    735\u001b[0m weight_value_tuples \u001b[38;5;241m=\u001b[39m []\n",
      "\u001b[1;31mValueError\u001b[0m: Layer count mismatch when loading weights from file. Model expected 0 layers, found 2 saved layers."
     ]
    }
   ],
   "source": [
    "new_model = tf.keras.models.load_model('my_model.h5')"
   ]
  },
  {
   "cell_type": "code",
   "execution_count": 45,
   "id": "86eba516",
   "metadata": {},
   "outputs": [
    {
     "ename": "NameError",
     "evalue": "name 'tfkeras' is not defined",
     "output_type": "error",
     "traceback": [
      "\u001b[1;31m---------------------------------------------------------------------------\u001b[0m",
      "\u001b[1;31mNameError\u001b[0m                                 Traceback (most recent call last)",
      "Input \u001b[1;32mIn [45]\u001b[0m, in \u001b[0;36m<cell line: 1>\u001b[1;34m()\u001b[0m\n\u001b[1;32m----> 1\u001b[0m MAIN_USER_MODEL \u001b[38;5;241m=\u001b[39m   \u001b[43mtfkeras\u001b[49m\u001b[38;5;241m.\u001b[39mmodels\u001b[38;5;241m.\u001b[39mload_model(\u001b[38;5;124m'\u001b[39m\u001b[38;5;124msaved_h5_model/user_query_v1.hdf5\u001b[39m\u001b[38;5;124m'\u001b[39m)\n\u001b[0;32m      2\u001b[0m MAIN_CAREGIVER_MODEL \u001b[38;5;241m=\u001b[39m  tf\u001b[38;5;241m.\u001b[39mkeras\u001b[38;5;241m.\u001b[39mmodels\u001b[38;5;241m.\u001b[39mload_model(\u001b[38;5;124m'\u001b[39m\u001b[38;5;124msaved_h5_model/caregiver_query_v1.hdf5\u001b[39m\u001b[38;5;124m'\u001b[39m)\n",
      "\u001b[1;31mNameError\u001b[0m: name 'tfkeras' is not defined"
     ]
    }
   ],
   "source": [
    "\n",
    "MAIN_USER_MODEL =   tfkeras.models.load_model('saved_model/user_query_v1')\n",
    "MAIN_CAREGIVER_MODEL =  tf.keras.models.load_model('saved_model/caregiver_query_v1')"
   ]
  },
  {
   "cell_type": "code",
   "execution_count": null,
   "id": "4d326d87",
   "metadata": {},
   "outputs": [],
   "source": [
    "saved_test = caregiver_ds.map(lambda features: (features['CAREGIVER_ID'], MAIN_CAREGIVER_MODEL(features)))"
   ]
  },
  {
   "cell_type": "code",
   "execution_count": null,
   "id": "f18a9d7e",
   "metadata": {},
   "outputs": [],
   "source": [
    "MAIN_USER_MODEL(dictionary_Test)"
   ]
  },
  {
   "cell_type": "code",
   "execution_count": null,
   "id": "3c7a6091",
   "metadata": {},
   "outputs": [],
   "source": [
    "MAIN_CAREGIVER_MODEL(dictionary_Test_Caregiver)"
   ]
  },
  {
   "cell_type": "code",
   "execution_count": null,
   "id": "067f22b6",
   "metadata": {},
   "outputs": [],
   "source": [
    "print(\"s\")"
   ]
  },
  {
   "cell_type": "code",
   "execution_count": null,
   "id": "0a827c5c",
   "metadata": {},
   "outputs": [],
   "source": []
  },
  {
   "cell_type": "code",
   "execution_count": null,
   "id": "8fb682b7",
   "metadata": {},
   "outputs": [],
   "source": []
  },
  {
   "cell_type": "code",
   "execution_count": null,
   "id": "ac232cbc",
   "metadata": {},
   "outputs": [],
   "source": []
  },
  {
   "cell_type": "code",
   "execution_count": null,
   "id": "8a206cb2",
   "metadata": {},
   "outputs": [],
   "source": []
  }
 ],
 "metadata": {
  "kernelspec": {
   "display_name": "Python 3",
   "language": "python",
   "name": "python3"
  },
  "language_info": {
   "codemirror_mode": {
    "name": "ipython",
    "version": 3
   },
   "file_extension": ".py",
   "mimetype": "text/x-python",
   "name": "python",
   "nbconvert_exporter": "python",
   "pygments_lexer": "ipython3",
   "version": "3.9.11"
  }
 },
 "nbformat": 4,
 "nbformat_minor": 5
}
