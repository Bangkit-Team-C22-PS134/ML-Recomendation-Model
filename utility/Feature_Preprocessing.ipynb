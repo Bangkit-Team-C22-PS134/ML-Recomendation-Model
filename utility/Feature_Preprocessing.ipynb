{
 "cells": [
  {
   "cell_type": "code",
   "execution_count": 1,
   "id": "56d883eb",
   "metadata": {},
   "outputs": [],
   "source": [
    "import numpy as np\n",
    "import pandas as pd\n",
    "import tensorflow_recommenders as tfrs\n",
    "import tensorflow as tf\n",
    "from typing import Dict, Text\n",
    "\n",
    "from tensorflow import feature_column\n",
    "from tensorflow.keras import layers\n",
    "from sklearn.model_selection import train_test_split"
   ]
  },
  {
   "cell_type": "code",
   "execution_count": 2,
   "id": "40eb446c",
   "metadata": {},
   "outputs": [],
   "source": [
    "import pathlib\n",
    "import os\n",
    "\n",
    "user_file = \"\\\\Data\\\\Combined Data.csv\"\n",
    "caregiver_file = \"\\\\Data\\\\Processed Caregiver Data.csv\"\n",
    "\n",
    "path = pathlib.Path().resolve()\n",
    "parent_path = path.parent.absolute()\n",
    "\n",
    "user_dataframe = pd.read_csv(str(parent_path) + user_file)\n",
    "caregiver_dataframe = pd.read_csv(str(parent_path) + caregiver_file)\n",
    "\n"
   ]
  },
  {
   "cell_type": "code",
   "execution_count": 3,
   "id": "352ac361",
   "metadata": {},
   "outputs": [],
   "source": [
    "unique_masalah_user = np.unique(' '.join(user_dataframe['Tipe_Masalah']).split(' '))\n",
    "unique_masalah_caregiver = np.unique(' '.join(user_dataframe['Caregiver_Tipe_Masalah']).split(' '))\n",
    "np.delete(unique_masalah_caregiver, np.where(unique_masalah_caregiver == ''))\n",
    "unique_masalah_caregiver = np.delete(unique_masalah_caregiver, 0)\n",
    "\n",
    "unique_masalah_caregiver = unique_masalah_caregiver.tolist()\n",
    "\n",
    "for index, col in enumerate(unique_masalah_caregiver):\n",
    "        unique_masalah_caregiver[index] = 'Caregiver-'+col\n"
   ]
  },
  {
   "cell_type": "code",
   "execution_count": 4,
   "id": "aa1c7286",
   "metadata": {},
   "outputs": [],
   "source": [
    "def convert_categorical_data(df, col='Tipe_Masalah'):\n",
    "    ### Join every string in every row, split the result, pull out the unique values.\n",
    "    genres = np.unique(' '.join(df[col]).split(' '))\n",
    "    ### Drop 'NA'\n",
    "    genres = np.delete(genres, np.where(genres == ''))\n",
    "    if(col=='Tipe_Masalah'):\n",
    "        for genre in genres:\n",
    "            df[genre] = df[col].str.contains(genre).astype('int')\n",
    "    else:\n",
    "        for genre in genres:\n",
    "            df['Caregiver-'+genre] = df[col].str.contains(genre).astype('int')\n",
    "    df.drop(col, axis=1, inplace=True)"
   ]
  },
  {
   "cell_type": "code",
   "execution_count": 5,
   "id": "701cfd6d",
   "metadata": {},
   "outputs": [
    {
     "name": "stderr",
     "output_type": "stream",
     "text": [
      "C:\\Users\\ASUS\\AppData\\Local\\Temp\\ipykernel_13900\\1340759235.py:6: FutureWarning: In a future version of pandas all arguments of DataFrame.drop except for the argument 'labels' will be keyword-only.\n",
      "  user_dataframe.drop([\"USER_ID\"], 1,inplace=True)\n",
      "C:\\Users\\ASUS\\AppData\\Local\\Temp\\ipykernel_13900\\1340759235.py:7: FutureWarning: In a future version of pandas all arguments of DataFrame.drop except for the argument 'labels' will be keyword-only.\n",
      "  user_dataframe.drop([\"CAREGIVER_ID\"], 1,inplace=True)\n"
     ]
    }
   ],
   "source": [
    "convert_categorical_data(user_dataframe)\n",
    "convert_categorical_data(user_dataframe, col='Caregiver_Tipe_Masalah')\n",
    "convert_categorical_data(caregiver_dataframe, col='Caregiver_Tipe_Masalah')\n",
    "\n",
    "\n",
    "user_dataframe.drop([\"USER_ID\"], 1,inplace=True)\n",
    "user_dataframe.drop([\"CAREGIVER_ID\"], 1,inplace=True)"
   ]
  },
  {
   "cell_type": "code",
   "execution_count": 6,
   "id": "118a8f59",
   "metadata": {
    "scrolled": true
   },
   "outputs": [
    {
     "data": {
      "text/html": [
       "<div>\n",
       "<style scoped>\n",
       "    .dataframe tbody tr th:only-of-type {\n",
       "        vertical-align: middle;\n",
       "    }\n",
       "\n",
       "    .dataframe tbody tr th {\n",
       "        vertical-align: top;\n",
       "    }\n",
       "\n",
       "    .dataframe thead th {\n",
       "        text-align: right;\n",
       "    }\n",
       "</style>\n",
       "<table border=\"1\" class=\"dataframe\">\n",
       "  <thead>\n",
       "    <tr style=\"text-align: right;\">\n",
       "      <th></th>\n",
       "      <th>Gender</th>\n",
       "      <th>Age</th>\n",
       "      <th>Caregiver_Gender</th>\n",
       "      <th>Caregiver_Age</th>\n",
       "      <th>ADHD-Hiperaktif-dan-kurang-fokus</th>\n",
       "      <th>Depresi</th>\n",
       "      <th>Gangguan-kecemasan</th>\n",
       "      <th>Gangguan-makan</th>\n",
       "      <th>Gangguan-stres-pascatrauma</th>\n",
       "      <th>Skizofrenia</th>\n",
       "      <th>Caregiver-ADHD-Hiperaktif-dan-kurang-fokus</th>\n",
       "      <th>Caregiver-Depresi</th>\n",
       "      <th>Caregiver-Gangguan-kecemasan</th>\n",
       "      <th>Caregiver-Gangguan-makan</th>\n",
       "      <th>Caregiver-Gangguan-stres-pascatrauma</th>\n",
       "      <th>Caregiver-Skizofrenia</th>\n",
       "    </tr>\n",
       "  </thead>\n",
       "  <tbody>\n",
       "    <tr>\n",
       "      <th>0</th>\n",
       "      <td>Pria</td>\n",
       "      <td>33</td>\n",
       "      <td>Pria</td>\n",
       "      <td>19</td>\n",
       "      <td>1</td>\n",
       "      <td>0</td>\n",
       "      <td>0</td>\n",
       "      <td>0</td>\n",
       "      <td>0</td>\n",
       "      <td>0</td>\n",
       "      <td>1</td>\n",
       "      <td>0</td>\n",
       "      <td>0</td>\n",
       "      <td>0</td>\n",
       "      <td>0</td>\n",
       "      <td>0</td>\n",
       "    </tr>\n",
       "    <tr>\n",
       "      <th>1</th>\n",
       "      <td>Pria</td>\n",
       "      <td>33</td>\n",
       "      <td>Pria</td>\n",
       "      <td>35</td>\n",
       "      <td>1</td>\n",
       "      <td>0</td>\n",
       "      <td>0</td>\n",
       "      <td>0</td>\n",
       "      <td>0</td>\n",
       "      <td>0</td>\n",
       "      <td>1</td>\n",
       "      <td>0</td>\n",
       "      <td>1</td>\n",
       "      <td>0</td>\n",
       "      <td>1</td>\n",
       "      <td>0</td>\n",
       "    </tr>\n",
       "    <tr>\n",
       "      <th>2</th>\n",
       "      <td>Pria</td>\n",
       "      <td>29</td>\n",
       "      <td>Perempuan</td>\n",
       "      <td>33</td>\n",
       "      <td>0</td>\n",
       "      <td>0</td>\n",
       "      <td>0</td>\n",
       "      <td>1</td>\n",
       "      <td>1</td>\n",
       "      <td>0</td>\n",
       "      <td>0</td>\n",
       "      <td>0</td>\n",
       "      <td>0</td>\n",
       "      <td>1</td>\n",
       "      <td>1</td>\n",
       "      <td>0</td>\n",
       "    </tr>\n",
       "    <tr>\n",
       "      <th>3</th>\n",
       "      <td>Pria</td>\n",
       "      <td>29</td>\n",
       "      <td>Pria</td>\n",
       "      <td>38</td>\n",
       "      <td>0</td>\n",
       "      <td>0</td>\n",
       "      <td>0</td>\n",
       "      <td>1</td>\n",
       "      <td>1</td>\n",
       "      <td>0</td>\n",
       "      <td>1</td>\n",
       "      <td>0</td>\n",
       "      <td>0</td>\n",
       "      <td>1</td>\n",
       "      <td>0</td>\n",
       "      <td>0</td>\n",
       "    </tr>\n",
       "    <tr>\n",
       "      <th>4</th>\n",
       "      <td>Perempuan</td>\n",
       "      <td>32</td>\n",
       "      <td>Pria</td>\n",
       "      <td>35</td>\n",
       "      <td>1</td>\n",
       "      <td>0</td>\n",
       "      <td>1</td>\n",
       "      <td>0</td>\n",
       "      <td>0</td>\n",
       "      <td>0</td>\n",
       "      <td>1</td>\n",
       "      <td>0</td>\n",
       "      <td>1</td>\n",
       "      <td>0</td>\n",
       "      <td>1</td>\n",
       "      <td>0</td>\n",
       "    </tr>\n",
       "  </tbody>\n",
       "</table>\n",
       "</div>"
      ],
      "text/plain": [
       "      Gender  Age Caregiver_Gender  Caregiver_Age  \\\n",
       "0       Pria   33             Pria             19   \n",
       "1       Pria   33             Pria             35   \n",
       "2       Pria   29        Perempuan             33   \n",
       "3       Pria   29             Pria             38   \n",
       "4  Perempuan   32             Pria             35   \n",
       "\n",
       "   ADHD-Hiperaktif-dan-kurang-fokus  Depresi  Gangguan-kecemasan  \\\n",
       "0                                 1        0                   0   \n",
       "1                                 1        0                   0   \n",
       "2                                 0        0                   0   \n",
       "3                                 0        0                   0   \n",
       "4                                 1        0                   1   \n",
       "\n",
       "   Gangguan-makan  Gangguan-stres-pascatrauma  Skizofrenia  \\\n",
       "0               0                           0            0   \n",
       "1               0                           0            0   \n",
       "2               1                           1            0   \n",
       "3               1                           1            0   \n",
       "4               0                           0            0   \n",
       "\n",
       "   Caregiver-ADHD-Hiperaktif-dan-kurang-fokus  Caregiver-Depresi  \\\n",
       "0                                           1                  0   \n",
       "1                                           1                  0   \n",
       "2                                           0                  0   \n",
       "3                                           1                  0   \n",
       "4                                           1                  0   \n",
       "\n",
       "   Caregiver-Gangguan-kecemasan  Caregiver-Gangguan-makan  \\\n",
       "0                             0                         0   \n",
       "1                             1                         0   \n",
       "2                             0                         1   \n",
       "3                             0                         1   \n",
       "4                             1                         0   \n",
       "\n",
       "   Caregiver-Gangguan-stres-pascatrauma  Caregiver-Skizofrenia  \n",
       "0                                     0                      0  \n",
       "1                                     1                      0  \n",
       "2                                     1                      0  \n",
       "3                                     0                      0  \n",
       "4                                     1                      0  "
      ]
     },
     "execution_count": 6,
     "metadata": {},
     "output_type": "execute_result"
    }
   ],
   "source": [
    "\n",
    "user_dataframe.head()\n",
    "\n"
   ]
  },
  {
   "cell_type": "code",
   "execution_count": null,
   "id": "58ab5f9a",
   "metadata": {},
   "outputs": [],
   "source": []
  },
  {
   "cell_type": "code",
   "execution_count": 7,
   "id": "5049f45a",
   "metadata": {
    "scrolled": true
   },
   "outputs": [
    {
     "data": {
      "text/html": [
       "<div>\n",
       "<style scoped>\n",
       "    .dataframe tbody tr th:only-of-type {\n",
       "        vertical-align: middle;\n",
       "    }\n",
       "\n",
       "    .dataframe tbody tr th {\n",
       "        vertical-align: top;\n",
       "    }\n",
       "\n",
       "    .dataframe thead th {\n",
       "        text-align: right;\n",
       "    }\n",
       "</style>\n",
       "<table border=\"1\" class=\"dataframe\">\n",
       "  <thead>\n",
       "    <tr style=\"text-align: right;\">\n",
       "      <th></th>\n",
       "      <th>CAREGIVER_ID</th>\n",
       "      <th>Caregiver_Gender</th>\n",
       "      <th>Caregiver_Age</th>\n",
       "      <th>Caregiver-ADHD-Hiperaktif-dan-kurang-fokus</th>\n",
       "      <th>Caregiver-Depresi</th>\n",
       "      <th>Caregiver-Gangguan-kecemasan</th>\n",
       "      <th>Caregiver-Gangguan-makan</th>\n",
       "      <th>Caregiver-Gangguan-stres-pascatrauma</th>\n",
       "      <th>Caregiver-Skizofrenia</th>\n",
       "    </tr>\n",
       "  </thead>\n",
       "  <tbody>\n",
       "    <tr>\n",
       "      <th>0</th>\n",
       "      <td>1</td>\n",
       "      <td>Perempuan</td>\n",
       "      <td>28</td>\n",
       "      <td>1</td>\n",
       "      <td>0</td>\n",
       "      <td>0</td>\n",
       "      <td>1</td>\n",
       "      <td>1</td>\n",
       "      <td>0</td>\n",
       "    </tr>\n",
       "    <tr>\n",
       "      <th>1</th>\n",
       "      <td>2</td>\n",
       "      <td>Pria</td>\n",
       "      <td>33</td>\n",
       "      <td>0</td>\n",
       "      <td>1</td>\n",
       "      <td>0</td>\n",
       "      <td>0</td>\n",
       "      <td>0</td>\n",
       "      <td>1</td>\n",
       "    </tr>\n",
       "    <tr>\n",
       "      <th>2</th>\n",
       "      <td>3</td>\n",
       "      <td>Pria</td>\n",
       "      <td>19</td>\n",
       "      <td>1</td>\n",
       "      <td>0</td>\n",
       "      <td>0</td>\n",
       "      <td>0</td>\n",
       "      <td>0</td>\n",
       "      <td>0</td>\n",
       "    </tr>\n",
       "    <tr>\n",
       "      <th>3</th>\n",
       "      <td>4</td>\n",
       "      <td>Perempuan</td>\n",
       "      <td>18</td>\n",
       "      <td>0</td>\n",
       "      <td>0</td>\n",
       "      <td>0</td>\n",
       "      <td>1</td>\n",
       "      <td>0</td>\n",
       "      <td>1</td>\n",
       "    </tr>\n",
       "    <tr>\n",
       "      <th>4</th>\n",
       "      <td>5</td>\n",
       "      <td>Perempuan</td>\n",
       "      <td>36</td>\n",
       "      <td>0</td>\n",
       "      <td>0</td>\n",
       "      <td>1</td>\n",
       "      <td>0</td>\n",
       "      <td>0</td>\n",
       "      <td>1</td>\n",
       "    </tr>\n",
       "  </tbody>\n",
       "</table>\n",
       "</div>"
      ],
      "text/plain": [
       "   CAREGIVER_ID Caregiver_Gender  Caregiver_Age  \\\n",
       "0             1        Perempuan             28   \n",
       "1             2             Pria             33   \n",
       "2             3             Pria             19   \n",
       "3             4        Perempuan             18   \n",
       "4             5        Perempuan             36   \n",
       "\n",
       "   Caregiver-ADHD-Hiperaktif-dan-kurang-fokus  Caregiver-Depresi  \\\n",
       "0                                           1                  0   \n",
       "1                                           0                  1   \n",
       "2                                           1                  0   \n",
       "3                                           0                  0   \n",
       "4                                           0                  0   \n",
       "\n",
       "   Caregiver-Gangguan-kecemasan  Caregiver-Gangguan-makan  \\\n",
       "0                             0                         1   \n",
       "1                             0                         0   \n",
       "2                             0                         0   \n",
       "3                             0                         1   \n",
       "4                             1                         0   \n",
       "\n",
       "   Caregiver-Gangguan-stres-pascatrauma  Caregiver-Skizofrenia  \n",
       "0                                     1                      0  \n",
       "1                                     0                      1  \n",
       "2                                     0                      0  \n",
       "3                                     0                      1  \n",
       "4                                     0                      1  "
      ]
     },
     "execution_count": 7,
     "metadata": {},
     "output_type": "execute_result"
    }
   ],
   "source": [
    "\n",
    "caregiver_dataframe.head()"
   ]
  },
  {
   "cell_type": "code",
   "execution_count": null,
   "id": "00e2ca4a",
   "metadata": {},
   "outputs": [],
   "source": []
  },
  {
   "cell_type": "code",
   "execution_count": 8,
   "id": "e9aa7bef",
   "metadata": {},
   "outputs": [],
   "source": [
    "# A utility method to create a tf.data dataset from a Pandas Dataframe\n",
    "def df_to_dataset(dataframe, shuffle=True, batch_size=32):\n",
    "  dataframe = dataframe.copy()\n",
    "  ds = tf.data.Dataset.from_tensor_slices(dict(dataframe))\n",
    "  if shuffle:\n",
    "    ds = ds.shuffle(buffer_size=len(dataframe))\n",
    "  ds = ds.batch(batch_size)\n",
    "  return ds"
   ]
  },
  {
   "cell_type": "code",
   "execution_count": 9,
   "id": "b8651c55",
   "metadata": {},
   "outputs": [],
   "source": [
    "batch_size = 5# A small batch sized is used for demonstration purposes\n",
    "caregiver_ds = df_to_dataset(caregiver_dataframe, batch_size=batch_size,  shuffle=False)\n",
    "user_ds = df_to_dataset(user_dataframe, batch_size=batch_size)"
   ]
  },
  {
   "cell_type": "code",
   "execution_count": 10,
   "id": "2759a6bf",
   "metadata": {},
   "outputs": [
    {
     "name": "stdout",
     "output_type": "stream",
     "text": [
      "['Caregiver-ADHD-Hiperaktif-dan-kurang-fokus', 'Caregiver-Depresi', 'Caregiver-Gangguan-kecemasan', 'Caregiver-Gangguan-makan', 'Caregiver-Gangguan-stres-pascatrauma', 'Caregiver-Skizofrenia']\n"
     ]
    }
   ],
   "source": [
    "feature_columns = []\n",
    "\n",
    "number_feature = [\"Age\"]\n",
    "number_feature += unique_masalah_user.tolist()\n",
    "print(unique_masalah_caregiver)\n",
    "# numeric cols\n",
    "for header in number_feature:\n",
    "    feature_columns.append(feature_column.numeric_column(header))\n",
    "\n",
    "age_feature = [\"Age\"]\n",
    "for col in age_feature:\n",
    "    age = feature_column.numeric_column(col)\n",
    "    age_buckets = feature_column.bucketized_column(age, boundaries=[17, 21, 25, 29, 33, 37, 41, 46])\n",
    "    feature_columns.append(age_buckets)"
   ]
  },
  {
   "cell_type": "code",
   "execution_count": 11,
   "id": "e66ceb7f",
   "metadata": {},
   "outputs": [],
   "source": [
    "# indicator_columns\n",
    "indicator_column_names = ['Gender']\n",
    "for col_name in indicator_column_names:\n",
    "  categorical_column = feature_column.categorical_column_with_vocabulary_list(\n",
    "      col_name, user_dataframe[col_name].unique())\n",
    "  indicator_column = feature_column.indicator_column(categorical_column)\n",
    "  feature_columns.append(indicator_column)\n",
    "\n"
   ]
  },
  {
   "cell_type": "code",
   "execution_count": 12,
   "id": "067961c1",
   "metadata": {},
   "outputs": [
    {
     "name": "stdout",
     "output_type": "stream",
     "text": [
      "NumericColumn(key='Age', shape=(1,), default_value=None, dtype=tf.float32, normalizer_fn=None)\n",
      "NumericColumn(key='ADHD-Hiperaktif-dan-kurang-fokus', shape=(1,), default_value=None, dtype=tf.float32, normalizer_fn=None)\n",
      "NumericColumn(key='Depresi', shape=(1,), default_value=None, dtype=tf.float32, normalizer_fn=None)\n",
      "NumericColumn(key='Gangguan-kecemasan', shape=(1,), default_value=None, dtype=tf.float32, normalizer_fn=None)\n",
      "NumericColumn(key='Gangguan-makan', shape=(1,), default_value=None, dtype=tf.float32, normalizer_fn=None)\n",
      "NumericColumn(key='Gangguan-stres-pascatrauma', shape=(1,), default_value=None, dtype=tf.float32, normalizer_fn=None)\n",
      "NumericColumn(key='Skizofrenia', shape=(1,), default_value=None, dtype=tf.float32, normalizer_fn=None)\n",
      "BucketizedColumn(source_column=NumericColumn(key='Age', shape=(1,), default_value=None, dtype=tf.float32, normalizer_fn=None), boundaries=(17, 21, 25, 29, 33, 37, 41, 46))\n",
      "IndicatorColumn(categorical_column=VocabularyListCategoricalColumn(key='Gender', vocabulary_list=('Pria', 'Perempuan'), dtype=tf.string, default_value=-1, num_oov_buckets=0))\n"
     ]
    }
   ],
   "source": [
    "for col in feature_columns:\n",
    "    print(col)"
   ]
  },
  {
   "cell_type": "code",
   "execution_count": 13,
   "id": "c207a630",
   "metadata": {},
   "outputs": [],
   "source": [
    "feature_layer_user= tf.keras.layers.DenseFeatures(feature_columns)"
   ]
  },
  {
   "cell_type": "code",
   "execution_count": 14,
   "id": "d4055c2c",
   "metadata": {},
   "outputs": [
    {
     "name": "stdout",
     "output_type": "stream",
     "text": [
      "['Caregiver-ADHD-Hiperaktif-dan-kurang-fokus', 'Caregiver-Depresi', 'Caregiver-Gangguan-kecemasan', 'Caregiver-Gangguan-makan', 'Caregiver-Gangguan-stres-pascatrauma', 'Caregiver-Skizofrenia']\n"
     ]
    }
   ],
   "source": [
    "feature_columns = []\n",
    "\n",
    "number_feature = [\"Caregiver_Age\"]\n",
    "number_feature += unique_masalah_caregiver\n",
    "print(unique_masalah_caregiver)\n",
    "# numeric cols\n",
    "\n",
    "for header in number_feature:\n",
    "    feature_columns.append(feature_column.numeric_column(header))\n",
    "\n",
    "age_feature = [\"Caregiver_Age\"]\n",
    "for col in age_feature:\n",
    "    age = feature_column.numeric_column(col)\n",
    "    age_buckets = feature_column.bucketized_column(age, boundaries=[17, 21, 25, 29, 33, 37, 41, 46])\n",
    "    feature_columns.append(age_buckets)\n",
    "\n",
    "col_name = 'Caregiver_Gender'\n",
    "categorical_column = feature_column.categorical_column_with_vocabulary_list(\n",
    "      col_name, user_dataframe[col_name].unique())\n",
    "indicator_column = feature_column.indicator_column(categorical_column)\n",
    "feature_columns.append(indicator_column)"
   ]
  },
  {
   "cell_type": "code",
   "execution_count": null,
   "id": "5ce5db7d",
   "metadata": {},
   "outputs": [],
   "source": []
  },
  {
   "cell_type": "code",
   "execution_count": null,
   "id": "293de80c",
   "metadata": {},
   "outputs": [],
   "source": []
  },
  {
   "cell_type": "code",
   "execution_count": 15,
   "id": "e6eb0ccf",
   "metadata": {},
   "outputs": [],
   "source": [
    "feature_layer_caregiver= tf.keras.layers.DenseFeatures(feature_columns)"
   ]
  },
  {
   "cell_type": "code",
   "execution_count": null,
   "id": "cb4e165c",
   "metadata": {},
   "outputs": [],
   "source": []
  },
  {
   "cell_type": "code",
   "execution_count": null,
   "id": "568b4cdc",
   "metadata": {},
   "outputs": [],
   "source": []
  },
  {
   "cell_type": "code",
   "execution_count": null,
   "id": "23834efc",
   "metadata": {},
   "outputs": [],
   "source": []
  },
  {
   "cell_type": "code",
   "execution_count": 16,
   "id": "ecf815dc",
   "metadata": {},
   "outputs": [],
   "source": [
    "class RecomendModel(tfrs.Model):\n",
    "\n",
    "  def __init__(self):\n",
    "    super().__init__()\n",
    "\n",
    "    embedding_dimension = 32\n",
    "\n",
    "    # Set up a model for representing users.\n",
    "    self.user_model = tf.keras.Sequential([\n",
    "        feature_layer_user,\n",
    "        layers.Dense(64),\n",
    "        layers.Dense(32)\n",
    "    ])\n",
    "\n",
    "    # Set up a model for representing caregiver.\n",
    "    self.caregiver_model = tf.keras.Sequential([\n",
    "        feature_layer_caregiver,\n",
    "        layers.Dense(64),\n",
    "        layers.Dense(32)\n",
    "    ])\n",
    "\n",
    "    # Set up a task to optimize the model and compute metrics.\n",
    "    self.task = tfrs.tasks.Retrieval(\n",
    "      metrics=tfrs.metrics.FactorizedTopK(\n",
    "        candidates=caregiver_ds.batch(5).map(self.caregiver_model)\n",
    "      )\n",
    "    )\n",
    "\n",
    "  def compute_loss(self, features: Dict[Text, tf.Tensor], training=False) -> tf.Tensor:\n",
    "    \n",
    "    caregiver_features = ['Caregiver_Gender', 'Caregiver_Age',  'Caregiver-ADHD-Hiperaktif-dan-kurang-fokus', 'Caregiver-Depresi', 'Caregiver-Gangguan-kecemasan', 'Caregiver-Gangguan-makan', 'Caregiver-Gangguan-stres-pascatrauma', 'Caregiver-Skizofrenia']\n",
    "    user_features = ['Gender', 'Age', 'ADHD-Hiperaktif-dan-kurang-fokus', 'Depresi', 'Gangguan-kecemasan', 'Gangguan-makan','Gangguan-stres-pascatrauma', 'Skizofrenia']\n",
    "    \n",
    "    \n",
    "    # We pick out the user features and pass them into the user model.\n",
    "    \n",
    "    print(\"AAAAAAAAAAAAAAAAAA\")\n",
    "    user_embeddings = self.user_model({\n",
    "        'Age':features['Age'],\n",
    "        'Gender':features['Gender'],\n",
    "        'ADHD-Hiperaktif-dan-kurang-fokus':features['ADHD-Hiperaktif-dan-kurang-fokus'],\n",
    "        'Depresi':features['Depresi'],\n",
    "        'Gangguan-kecemasan':features['Gangguan-kecemasan'],\n",
    "        'Gangguan-makan':features['Gangguan-makan'],\n",
    "        'Gangguan-stres-pascatrauma':features['Gangguan-stres-pascatrauma'],\n",
    "        'Skizofrenia':features['Skizofrenia']\n",
    "    })\n",
    "    print(\"BBBBBBBBBBBBBB\")\n",
    "    # And pick out the movie features and pass them into the movie model,\n",
    "    # getting embeddings back.\n",
    "    positive_movie_embeddings = self.caregiver_model({\n",
    "        'Caregiver_Age':features['Caregiver_Age'],\n",
    "        'Caregiver_Gender':features['Caregiver_Gender'],\n",
    "        'Caregiver-ADHD-Hiperaktif-dan-kurang-fokus':features['Caregiver-ADHD-Hiperaktif-dan-kurang-fokus'],\n",
    "        'Caregiver-Depresi':features['Caregiver-Depresi'],\n",
    "        'Caregiver-Gangguan-kecemasan':features['Caregiver-Gangguan-kecemasan'],\n",
    "        'Caregiver-Gangguan-makan':features['Caregiver-Gangguan-makan'],\n",
    "        'Caregiver-Gangguan-stres-pascatrauma':features['Caregiver-Gangguan-stres-pascatrauma'],\n",
    "        'Caregiver-Skizofrenia':features['Caregiver-Skizofrenia']\n",
    "        \n",
    "    })\n",
    "    \n",
    "\n",
    "    # The task computes the loss and the metrics.\n",
    "\n",
    "    return self.task(user_embeddings, positive_movie_embeddings, compute_metrics=not training)"
   ]
  },
  {
   "cell_type": "code",
   "execution_count": 17,
   "id": "acc13ff0",
   "metadata": {},
   "outputs": [],
   "source": [
    "caregiver_features = ['Caregiver_Gender', 'Caregiver_Age',  'Caregiver-ADHD-Hiperaktif-dan-kurang-fokus', 'Caregiver-Depresi', 'Caregiver-Gangguan-kecemasan', 'Caregiver-Gangguan-makan', 'Caregiver-Gangguan-stres-pascatrauma', 'Caregiver-Skizofrenia']\n",
    "user_features = ['Gender', 'Age', 'ADHD-Hiperaktif-dan-kurang-fokus', 'Depresi', 'Gangguan-kecemasan', 'Gangguan-makan','Gangguan-stres-pascatrauma', 'Skizofrenia']"
   ]
  },
  {
   "cell_type": "code",
   "execution_count": 18,
   "id": "f92c75f5",
   "metadata": {},
   "outputs": [
    {
     "name": "stdout",
     "output_type": "stream",
     "text": [
      "Every feature: ['CAREGIVER_ID', 'Caregiver_Gender', 'Caregiver_Age', 'Caregiver-ADHD-Hiperaktif-dan-kurang-fokus', 'Caregiver-Depresi', 'Caregiver-Gangguan-kecemasan', 'Caregiver-Gangguan-makan', 'Caregiver-Gangguan-stres-pascatrauma', 'Caregiver-Skizofrenia']\n",
      "A batch of ages: tf.Tensor([1 0 1 0 0], shape=(5,), dtype=int32)\n"
     ]
    }
   ],
   "source": [
    "\n",
    "for feature_batch in caregiver_ds.take(1):\n",
    "  print('Every feature:', list(feature_batch.keys()))\n",
    "  print('A batch of ages:', feature_batch['Caregiver-ADHD-Hiperaktif-dan-kurang-fokus'])"
   ]
  },
  {
   "cell_type": "code",
   "execution_count": 19,
   "id": "0694d02e",
   "metadata": {
    "scrolled": false
   },
   "outputs": [
    {
     "name": "stdout",
     "output_type": "stream",
     "text": [
      "WARNING:tensorflow:Layers in a Sequential model should only have a single input tensor. Received: inputs={'CAREGIVER_ID': <tf.Tensor 'args_0:0' shape=(None, None) dtype=int64>, 'Caregiver_Gender': <tf.Tensor 'args_8:0' shape=(None, None) dtype=string>, 'Caregiver_Age': <tf.Tensor 'args_7:0' shape=(None, None) dtype=int64>, 'Caregiver-ADHD-Hiperaktif-dan-kurang-fokus': <tf.Tensor 'args_1:0' shape=(None, None) dtype=int32>, 'Caregiver-Depresi': <tf.Tensor 'args_2:0' shape=(None, None) dtype=int32>, 'Caregiver-Gangguan-kecemasan': <tf.Tensor 'args_3:0' shape=(None, None) dtype=int32>, 'Caregiver-Gangguan-makan': <tf.Tensor 'args_4:0' shape=(None, None) dtype=int32>, 'Caregiver-Gangguan-stres-pascatrauma': <tf.Tensor 'args_5:0' shape=(None, None) dtype=int32>, 'Caregiver-Skizofrenia': <tf.Tensor 'args_6:0' shape=(None, None) dtype=int32>}. Consider rewriting this model with the Functional API.\n",
      "Epoch 1/50\n",
      "AAAAAAAAAAAAAAAAAA\n",
      "WARNING:tensorflow:Layers in a Sequential model should only have a single input tensor. Received: inputs={'Age': <tf.Tensor 'IteratorGetNext:1' shape=(None,) dtype=int64>, 'Gender': <tf.Tensor 'IteratorGetNext:14' shape=(None,) dtype=string>, 'ADHD-Hiperaktif-dan-kurang-fokus': <tf.Tensor 'IteratorGetNext:0' shape=(None,) dtype=int32>, 'Depresi': <tf.Tensor 'IteratorGetNext:10' shape=(None,) dtype=int32>, 'Gangguan-kecemasan': <tf.Tensor 'IteratorGetNext:11' shape=(None,) dtype=int32>, 'Gangguan-makan': <tf.Tensor 'IteratorGetNext:12' shape=(None,) dtype=int32>, 'Gangguan-stres-pascatrauma': <tf.Tensor 'IteratorGetNext:13' shape=(None,) dtype=int32>, 'Skizofrenia': <tf.Tensor 'IteratorGetNext:15' shape=(None,) dtype=int32>}. Consider rewriting this model with the Functional API.\n",
      "BBBBBBBBBBBBBB\n",
      "WARNING:tensorflow:Layers in a Sequential model should only have a single input tensor. Received: inputs={'Caregiver_Age': <tf.Tensor 'IteratorGetNext:8' shape=(None,) dtype=int64>, 'Caregiver_Gender': <tf.Tensor 'IteratorGetNext:9' shape=(None,) dtype=string>, 'Caregiver-ADHD-Hiperaktif-dan-kurang-fokus': <tf.Tensor 'IteratorGetNext:2' shape=(None,) dtype=int32>, 'Caregiver-Depresi': <tf.Tensor 'IteratorGetNext:3' shape=(None,) dtype=int32>, 'Caregiver-Gangguan-kecemasan': <tf.Tensor 'IteratorGetNext:4' shape=(None,) dtype=int32>, 'Caregiver-Gangguan-makan': <tf.Tensor 'IteratorGetNext:5' shape=(None,) dtype=int32>, 'Caregiver-Gangguan-stres-pascatrauma': <tf.Tensor 'IteratorGetNext:6' shape=(None,) dtype=int32>, 'Caregiver-Skizofrenia': <tf.Tensor 'IteratorGetNext:7' shape=(None,) dtype=int32>}. Consider rewriting this model with the Functional API.\n",
      "AAAAAAAAAAAAAAAAAA\n",
      "WARNING:tensorflow:Layers in a Sequential model should only have a single input tensor. Received: inputs={'Age': <tf.Tensor 'IteratorGetNext:1' shape=(None,) dtype=int64>, 'Gender': <tf.Tensor 'IteratorGetNext:14' shape=(None,) dtype=string>, 'ADHD-Hiperaktif-dan-kurang-fokus': <tf.Tensor 'IteratorGetNext:0' shape=(None,) dtype=int32>, 'Depresi': <tf.Tensor 'IteratorGetNext:10' shape=(None,) dtype=int32>, 'Gangguan-kecemasan': <tf.Tensor 'IteratorGetNext:11' shape=(None,) dtype=int32>, 'Gangguan-makan': <tf.Tensor 'IteratorGetNext:12' shape=(None,) dtype=int32>, 'Gangguan-stres-pascatrauma': <tf.Tensor 'IteratorGetNext:13' shape=(None,) dtype=int32>, 'Skizofrenia': <tf.Tensor 'IteratorGetNext:15' shape=(None,) dtype=int32>}. Consider rewriting this model with the Functional API.\n",
      "BBBBBBBBBBBBBB\n",
      "WARNING:tensorflow:Layers in a Sequential model should only have a single input tensor. Received: inputs={'Caregiver_Age': <tf.Tensor 'IteratorGetNext:8' shape=(None,) dtype=int64>, 'Caregiver_Gender': <tf.Tensor 'IteratorGetNext:9' shape=(None,) dtype=string>, 'Caregiver-ADHD-Hiperaktif-dan-kurang-fokus': <tf.Tensor 'IteratorGetNext:2' shape=(None,) dtype=int32>, 'Caregiver-Depresi': <tf.Tensor 'IteratorGetNext:3' shape=(None,) dtype=int32>, 'Caregiver-Gangguan-kecemasan': <tf.Tensor 'IteratorGetNext:4' shape=(None,) dtype=int32>, 'Caregiver-Gangguan-makan': <tf.Tensor 'IteratorGetNext:5' shape=(None,) dtype=int32>, 'Caregiver-Gangguan-stres-pascatrauma': <tf.Tensor 'IteratorGetNext:6' shape=(None,) dtype=int32>, 'Caregiver-Skizofrenia': <tf.Tensor 'IteratorGetNext:7' shape=(None,) dtype=int32>}. Consider rewriting this model with the Functional API.\n",
      "40/40 [==============================] - 2s 7ms/step - factorized_top_k/top_1_categorical_accuracy: 0.0000e+00 - factorized_top_k/top_5_categorical_accuracy: 0.0000e+00 - factorized_top_k/top_10_categorical_accuracy: 0.0000e+00 - factorized_top_k/top_50_categorical_accuracy: 0.0000e+00 - factorized_top_k/top_100_categorical_accuracy: 0.0000e+00 - loss: 84.1777 - regularization_loss: 0.0000e+00 - total_loss: 84.1777\n",
      "Epoch 2/50\n",
      "40/40 [==============================] - 0s 7ms/step - factorized_top_k/top_1_categorical_accuracy: 0.0000e+00 - factorized_top_k/top_5_categorical_accuracy: 0.0000e+00 - factorized_top_k/top_10_categorical_accuracy: 0.0000e+00 - factorized_top_k/top_50_categorical_accuracy: 0.0000e+00 - factorized_top_k/top_100_categorical_accuracy: 0.0000e+00 - loss: 20.4741 - regularization_loss: 0.0000e+00 - total_loss: 20.4741\n",
      "Epoch 3/50\n",
      "40/40 [==============================] - 0s 7ms/step - factorized_top_k/top_1_categorical_accuracy: 0.0000e+00 - factorized_top_k/top_5_categorical_accuracy: 0.0000e+00 - factorized_top_k/top_10_categorical_accuracy: 0.0000e+00 - factorized_top_k/top_50_categorical_accuracy: 0.0000e+00 - factorized_top_k/top_100_categorical_accuracy: 0.0000e+00 - loss: 20.7526 - regularization_loss: 0.0000e+00 - total_loss: 20.7526\n",
      "Epoch 4/50\n",
      "40/40 [==============================] - 0s 7ms/step - factorized_top_k/top_1_categorical_accuracy: 0.0000e+00 - factorized_top_k/top_5_categorical_accuracy: 0.0000e+00 - factorized_top_k/top_10_categorical_accuracy: 0.0000e+00 - factorized_top_k/top_50_categorical_accuracy: 0.0000e+00 - factorized_top_k/top_100_categorical_accuracy: 0.0000e+00 - loss: 13.4173 - regularization_loss: 0.0000e+00 - total_loss: 13.4173\n",
      "Epoch 5/50\n",
      "40/40 [==============================] - 0s 7ms/step - factorized_top_k/top_1_categorical_accuracy: 0.0000e+00 - factorized_top_k/top_5_categorical_accuracy: 0.0000e+00 - factorized_top_k/top_10_categorical_accuracy: 0.0000e+00 - factorized_top_k/top_50_categorical_accuracy: 0.0000e+00 - factorized_top_k/top_100_categorical_accuracy: 0.0000e+00 - loss: 13.7801 - regularization_loss: 0.0000e+00 - total_loss: 13.7801\n",
      "Epoch 6/50\n",
      "40/40 [==============================] - 0s 7ms/step - factorized_top_k/top_1_categorical_accuracy: 0.0000e+00 - factorized_top_k/top_5_categorical_accuracy: 0.0000e+00 - factorized_top_k/top_10_categorical_accuracy: 0.0000e+00 - factorized_top_k/top_50_categorical_accuracy: 0.0000e+00 - factorized_top_k/top_100_categorical_accuracy: 0.0000e+00 - loss: 13.5223 - regularization_loss: 0.0000e+00 - total_loss: 13.5223\n",
      "Epoch 7/50\n",
      "40/40 [==============================] - 0s 7ms/step - factorized_top_k/top_1_categorical_accuracy: 0.0000e+00 - factorized_top_k/top_5_categorical_accuracy: 0.0000e+00 - factorized_top_k/top_10_categorical_accuracy: 0.0000e+00 - factorized_top_k/top_50_categorical_accuracy: 0.0000e+00 - factorized_top_k/top_100_categorical_accuracy: 0.0000e+00 - loss: 10.0655 - regularization_loss: 0.0000e+00 - total_loss: 10.0655\n",
      "Epoch 8/50\n",
      "40/40 [==============================] - 0s 8ms/step - factorized_top_k/top_1_categorical_accuracy: 0.0000e+00 - factorized_top_k/top_5_categorical_accuracy: 0.0000e+00 - factorized_top_k/top_10_categorical_accuracy: 0.0000e+00 - factorized_top_k/top_50_categorical_accuracy: 0.0000e+00 - factorized_top_k/top_100_categorical_accuracy: 0.0000e+00 - loss: 15.5175 - regularization_loss: 0.0000e+00 - total_loss: 15.5175\n",
      "Epoch 9/50\n",
      "40/40 [==============================] - 0s 8ms/step - factorized_top_k/top_1_categorical_accuracy: 0.0000e+00 - factorized_top_k/top_5_categorical_accuracy: 0.0000e+00 - factorized_top_k/top_10_categorical_accuracy: 0.0000e+00 - factorized_top_k/top_50_categorical_accuracy: 0.0000e+00 - factorized_top_k/top_100_categorical_accuracy: 0.0000e+00 - loss: 9.8261 - regularization_loss: 0.0000e+00 - total_loss: 9.8261\n",
      "Epoch 10/50\n"
     ]
    },
    {
     "name": "stdout",
     "output_type": "stream",
     "text": [
      "40/40 [==============================] - 0s 8ms/step - factorized_top_k/top_1_categorical_accuracy: 0.0000e+00 - factorized_top_k/top_5_categorical_accuracy: 0.0000e+00 - factorized_top_k/top_10_categorical_accuracy: 0.0000e+00 - factorized_top_k/top_50_categorical_accuracy: 0.0000e+00 - factorized_top_k/top_100_categorical_accuracy: 0.0000e+00 - loss: 8.6093 - regularization_loss: 0.0000e+00 - total_loss: 8.6093\n",
      "Epoch 11/50\n",
      "40/40 [==============================] - 0s 8ms/step - factorized_top_k/top_1_categorical_accuracy: 0.0000e+00 - factorized_top_k/top_5_categorical_accuracy: 0.0000e+00 - factorized_top_k/top_10_categorical_accuracy: 0.0000e+00 - factorized_top_k/top_50_categorical_accuracy: 0.0000e+00 - factorized_top_k/top_100_categorical_accuracy: 0.0000e+00 - loss: 8.6342 - regularization_loss: 0.0000e+00 - total_loss: 8.6342\n",
      "Epoch 12/50\n",
      "40/40 [==============================] - 0s 8ms/step - factorized_top_k/top_1_categorical_accuracy: 0.0000e+00 - factorized_top_k/top_5_categorical_accuracy: 0.0000e+00 - factorized_top_k/top_10_categorical_accuracy: 0.0000e+00 - factorized_top_k/top_50_categorical_accuracy: 0.0000e+00 - factorized_top_k/top_100_categorical_accuracy: 0.0000e+00 - loss: 8.6163 - regularization_loss: 0.0000e+00 - total_loss: 8.6163\n",
      "Epoch 13/50\n",
      "40/40 [==============================] - 0s 8ms/step - factorized_top_k/top_1_categorical_accuracy: 0.0000e+00 - factorized_top_k/top_5_categorical_accuracy: 0.0000e+00 - factorized_top_k/top_10_categorical_accuracy: 0.0000e+00 - factorized_top_k/top_50_categorical_accuracy: 0.0000e+00 - factorized_top_k/top_100_categorical_accuracy: 0.0000e+00 - loss: 8.9610 - regularization_loss: 0.0000e+00 - total_loss: 8.9610\n",
      "Epoch 14/50\n",
      "40/40 [==============================] - 0s 8ms/step - factorized_top_k/top_1_categorical_accuracy: 0.0000e+00 - factorized_top_k/top_5_categorical_accuracy: 0.0000e+00 - factorized_top_k/top_10_categorical_accuracy: 0.0000e+00 - factorized_top_k/top_50_categorical_accuracy: 0.0000e+00 - factorized_top_k/top_100_categorical_accuracy: 0.0000e+00 - loss: 8.2712 - regularization_loss: 0.0000e+00 - total_loss: 8.2712\n",
      "Epoch 15/50\n",
      "40/40 [==============================] - 0s 8ms/step - factorized_top_k/top_1_categorical_accuracy: 0.0000e+00 - factorized_top_k/top_5_categorical_accuracy: 0.0000e+00 - factorized_top_k/top_10_categorical_accuracy: 0.0000e+00 - factorized_top_k/top_50_categorical_accuracy: 0.0000e+00 - factorized_top_k/top_100_categorical_accuracy: 0.0000e+00 - loss: 12.3590 - regularization_loss: 0.0000e+00 - total_loss: 12.3590\n",
      "Epoch 16/50\n",
      "40/40 [==============================] - 0s 8ms/step - factorized_top_k/top_1_categorical_accuracy: 0.0000e+00 - factorized_top_k/top_5_categorical_accuracy: 0.0000e+00 - factorized_top_k/top_10_categorical_accuracy: 0.0000e+00 - factorized_top_k/top_50_categorical_accuracy: 0.0000e+00 - factorized_top_k/top_100_categorical_accuracy: 0.0000e+00 - loss: 11.6419 - regularization_loss: 0.0000e+00 - total_loss: 11.6419\n",
      "Epoch 17/50\n",
      "40/40 [==============================] - 0s 8ms/step - factorized_top_k/top_1_categorical_accuracy: 0.0000e+00 - factorized_top_k/top_5_categorical_accuracy: 0.0000e+00 - factorized_top_k/top_10_categorical_accuracy: 0.0000e+00 - factorized_top_k/top_50_categorical_accuracy: 0.0000e+00 - factorized_top_k/top_100_categorical_accuracy: 0.0000e+00 - loss: 9.4147 - regularization_loss: 0.0000e+00 - total_loss: 9.4147\n",
      "Epoch 18/50\n",
      "40/40 [==============================] - 0s 8ms/step - factorized_top_k/top_1_categorical_accuracy: 0.0000e+00 - factorized_top_k/top_5_categorical_accuracy: 0.0000e+00 - factorized_top_k/top_10_categorical_accuracy: 0.0000e+00 - factorized_top_k/top_50_categorical_accuracy: 0.0000e+00 - factorized_top_k/top_100_categorical_accuracy: 0.0000e+00 - loss: 10.8413 - regularization_loss: 0.0000e+00 - total_loss: 10.8413\n",
      "Epoch 19/50\n",
      "40/40 [==============================] - 0s 8ms/step - factorized_top_k/top_1_categorical_accuracy: 0.0000e+00 - factorized_top_k/top_5_categorical_accuracy: 0.0000e+00 - factorized_top_k/top_10_categorical_accuracy: 0.0000e+00 - factorized_top_k/top_50_categorical_accuracy: 0.0000e+00 - factorized_top_k/top_100_categorical_accuracy: 0.0000e+00 - loss: 8.3151 - regularization_loss: 0.0000e+00 - total_loss: 8.3151\n",
      "Epoch 20/50\n",
      "40/40 [==============================] - 0s 8ms/step - factorized_top_k/top_1_categorical_accuracy: 0.0000e+00 - factorized_top_k/top_5_categorical_accuracy: 0.0000e+00 - factorized_top_k/top_10_categorical_accuracy: 0.0000e+00 - factorized_top_k/top_50_categorical_accuracy: 0.0000e+00 - factorized_top_k/top_100_categorical_accuracy: 0.0000e+00 - loss: 7.5145 - regularization_loss: 0.0000e+00 - total_loss: 7.5145\n",
      "Epoch 21/50\n",
      "40/40 [==============================] - 0s 8ms/step - factorized_top_k/top_1_categorical_accuracy: 0.0000e+00 - factorized_top_k/top_5_categorical_accuracy: 0.0000e+00 - factorized_top_k/top_10_categorical_accuracy: 0.0000e+00 - factorized_top_k/top_50_categorical_accuracy: 0.0000e+00 - factorized_top_k/top_100_categorical_accuracy: 0.0000e+00 - loss: 8.4811 - regularization_loss: 0.0000e+00 - total_loss: 8.4811\n",
      "Epoch 22/50\n",
      "40/40 [==============================] - 0s 8ms/step - factorized_top_k/top_1_categorical_accuracy: 0.0000e+00 - factorized_top_k/top_5_categorical_accuracy: 0.0000e+00 - factorized_top_k/top_10_categorical_accuracy: 0.0000e+00 - factorized_top_k/top_50_categorical_accuracy: 0.0000e+00 - factorized_top_k/top_100_categorical_accuracy: 0.0000e+00 - loss: 7.8365 - regularization_loss: 0.0000e+00 - total_loss: 7.8365\n",
      "Epoch 23/50\n",
      "40/40 [==============================] - 0s 8ms/step - factorized_top_k/top_1_categorical_accuracy: 0.0000e+00 - factorized_top_k/top_5_categorical_accuracy: 0.0000e+00 - factorized_top_k/top_10_categorical_accuracy: 0.0000e+00 - factorized_top_k/top_50_categorical_accuracy: 0.0000e+00 - factorized_top_k/top_100_categorical_accuracy: 0.0000e+00 - loss: 7.4853 - regularization_loss: 0.0000e+00 - total_loss: 7.4853\n",
      "Epoch 24/50\n",
      "40/40 [==============================] - 0s 8ms/step - factorized_top_k/top_1_categorical_accuracy: 0.0000e+00 - factorized_top_k/top_5_categorical_accuracy: 0.0000e+00 - factorized_top_k/top_10_categorical_accuracy: 0.0000e+00 - factorized_top_k/top_50_categorical_accuracy: 0.0000e+00 - factorized_top_k/top_100_categorical_accuracy: 0.0000e+00 - loss: 7.2013 - regularization_loss: 0.0000e+00 - total_loss: 7.2013\n",
      "Epoch 25/50\n",
      "40/40 [==============================] - 0s 8ms/step - factorized_top_k/top_1_categorical_accuracy: 0.0000e+00 - factorized_top_k/top_5_categorical_accuracy: 0.0000e+00 - factorized_top_k/top_10_categorical_accuracy: 0.0000e+00 - factorized_top_k/top_50_categorical_accuracy: 0.0000e+00 - factorized_top_k/top_100_categorical_accuracy: 0.0000e+00 - loss: 7.3665 - regularization_loss: 0.0000e+00 - total_loss: 7.3665\n",
      "Epoch 26/50\n",
      "40/40 [==============================] - 0s 8ms/step - factorized_top_k/top_1_categorical_accuracy: 0.0000e+00 - factorized_top_k/top_5_categorical_accuracy: 0.0000e+00 - factorized_top_k/top_10_categorical_accuracy: 0.0000e+00 - factorized_top_k/top_50_categorical_accuracy: 0.0000e+00 - factorized_top_k/top_100_categorical_accuracy: 0.0000e+00 - loss: 8.0599 - regularization_loss: 0.0000e+00 - total_loss: 8.0599\n",
      "Epoch 27/50\n",
      "40/40 [==============================] - 0s 8ms/step - factorized_top_k/top_1_categorical_accuracy: 0.0000e+00 - factorized_top_k/top_5_categorical_accuracy: 0.0000e+00 - factorized_top_k/top_10_categorical_accuracy: 0.0000e+00 - factorized_top_k/top_50_categorical_accuracy: 0.0000e+00 - factorized_top_k/top_100_categorical_accuracy: 0.0000e+00 - loss: 7.8327 - regularization_loss: 0.0000e+00 - total_loss: 7.8327\n",
      "Epoch 28/50\n",
      "40/40 [==============================] - 0s 8ms/step - factorized_top_k/top_1_categorical_accuracy: 0.0000e+00 - factorized_top_k/top_5_categorical_accuracy: 0.0000e+00 - factorized_top_k/top_10_categorical_accuracy: 0.0000e+00 - factorized_top_k/top_50_categorical_accuracy: 0.0000e+00 - factorized_top_k/top_100_categorical_accuracy: 0.0000e+00 - loss: 7.6023 - regularization_loss: 0.0000e+00 - total_loss: 7.6023\n",
      "Epoch 29/50\n"
     ]
    },
    {
     "name": "stdout",
     "output_type": "stream",
     "text": [
      "40/40 [==============================] - 0s 8ms/step - factorized_top_k/top_1_categorical_accuracy: 0.0000e+00 - factorized_top_k/top_5_categorical_accuracy: 0.0000e+00 - factorized_top_k/top_10_categorical_accuracy: 0.0000e+00 - factorized_top_k/top_50_categorical_accuracy: 0.0000e+00 - factorized_top_k/top_100_categorical_accuracy: 0.0000e+00 - loss: 7.3609 - regularization_loss: 0.0000e+00 - total_loss: 7.3609\n",
      "Epoch 30/50\n",
      "40/40 [==============================] - 0s 8ms/step - factorized_top_k/top_1_categorical_accuracy: 0.0000e+00 - factorized_top_k/top_5_categorical_accuracy: 0.0000e+00 - factorized_top_k/top_10_categorical_accuracy: 0.0000e+00 - factorized_top_k/top_50_categorical_accuracy: 0.0000e+00 - factorized_top_k/top_100_categorical_accuracy: 0.0000e+00 - loss: 7.0016 - regularization_loss: 0.0000e+00 - total_loss: 7.0016\n",
      "Epoch 31/50\n",
      "40/40 [==============================] - 0s 8ms/step - factorized_top_k/top_1_categorical_accuracy: 0.0000e+00 - factorized_top_k/top_5_categorical_accuracy: 0.0000e+00 - factorized_top_k/top_10_categorical_accuracy: 0.0000e+00 - factorized_top_k/top_50_categorical_accuracy: 0.0000e+00 - factorized_top_k/top_100_categorical_accuracy: 0.0000e+00 - loss: 6.9296 - regularization_loss: 0.0000e+00 - total_loss: 6.9296\n",
      "Epoch 32/50\n",
      "40/40 [==============================] - 0s 8ms/step - factorized_top_k/top_1_categorical_accuracy: 0.0000e+00 - factorized_top_k/top_5_categorical_accuracy: 0.0000e+00 - factorized_top_k/top_10_categorical_accuracy: 0.0000e+00 - factorized_top_k/top_50_categorical_accuracy: 0.0000e+00 - factorized_top_k/top_100_categorical_accuracy: 0.0000e+00 - loss: 7.1011 - regularization_loss: 0.0000e+00 - total_loss: 7.1011\n",
      "Epoch 33/50\n",
      "40/40 [==============================] - 0s 8ms/step - factorized_top_k/top_1_categorical_accuracy: 0.0000e+00 - factorized_top_k/top_5_categorical_accuracy: 0.0000e+00 - factorized_top_k/top_10_categorical_accuracy: 0.0000e+00 - factorized_top_k/top_50_categorical_accuracy: 0.0000e+00 - factorized_top_k/top_100_categorical_accuracy: 0.0000e+00 - loss: 6.8747 - regularization_loss: 0.0000e+00 - total_loss: 6.8747\n",
      "Epoch 34/50\n",
      "40/40 [==============================] - 0s 8ms/step - factorized_top_k/top_1_categorical_accuracy: 0.0000e+00 - factorized_top_k/top_5_categorical_accuracy: 0.0000e+00 - factorized_top_k/top_10_categorical_accuracy: 0.0000e+00 - factorized_top_k/top_50_categorical_accuracy: 0.0000e+00 - factorized_top_k/top_100_categorical_accuracy: 0.0000e+00 - loss: 7.0743 - regularization_loss: 0.0000e+00 - total_loss: 7.0743\n",
      "Epoch 35/50\n",
      "40/40 [==============================] - 0s 8ms/step - factorized_top_k/top_1_categorical_accuracy: 0.0000e+00 - factorized_top_k/top_5_categorical_accuracy: 0.0000e+00 - factorized_top_k/top_10_categorical_accuracy: 0.0000e+00 - factorized_top_k/top_50_categorical_accuracy: 0.0000e+00 - factorized_top_k/top_100_categorical_accuracy: 0.0000e+00 - loss: 7.1604 - regularization_loss: 0.0000e+00 - total_loss: 7.1604\n",
      "Epoch 36/50\n",
      "40/40 [==============================] - 0s 8ms/step - factorized_top_k/top_1_categorical_accuracy: 0.0000e+00 - factorized_top_k/top_5_categorical_accuracy: 0.0000e+00 - factorized_top_k/top_10_categorical_accuracy: 0.0000e+00 - factorized_top_k/top_50_categorical_accuracy: 0.0000e+00 - factorized_top_k/top_100_categorical_accuracy: 0.0000e+00 - loss: 6.8832 - regularization_loss: 0.0000e+00 - total_loss: 6.8832\n",
      "Epoch 37/50\n",
      "40/40 [==============================] - 0s 8ms/step - factorized_top_k/top_1_categorical_accuracy: 0.0000e+00 - factorized_top_k/top_5_categorical_accuracy: 0.0000e+00 - factorized_top_k/top_10_categorical_accuracy: 0.0000e+00 - factorized_top_k/top_50_categorical_accuracy: 0.0000e+00 - factorized_top_k/top_100_categorical_accuracy: 0.0000e+00 - loss: 7.0852 - regularization_loss: 0.0000e+00 - total_loss: 7.0852\n",
      "Epoch 38/50\n",
      "40/40 [==============================] - 0s 8ms/step - factorized_top_k/top_1_categorical_accuracy: 0.0000e+00 - factorized_top_k/top_5_categorical_accuracy: 0.0000e+00 - factorized_top_k/top_10_categorical_accuracy: 0.0000e+00 - factorized_top_k/top_50_categorical_accuracy: 0.0000e+00 - factorized_top_k/top_100_categorical_accuracy: 0.0000e+00 - loss: 7.0471 - regularization_loss: 0.0000e+00 - total_loss: 7.0471\n",
      "Epoch 39/50\n",
      "40/40 [==============================] - 0s 8ms/step - factorized_top_k/top_1_categorical_accuracy: 0.0000e+00 - factorized_top_k/top_5_categorical_accuracy: 0.0000e+00 - factorized_top_k/top_10_categorical_accuracy: 0.0000e+00 - factorized_top_k/top_50_categorical_accuracy: 0.0000e+00 - factorized_top_k/top_100_categorical_accuracy: 0.0000e+00 - loss: 7.5927 - regularization_loss: 0.0000e+00 - total_loss: 7.5927\n",
      "Epoch 40/50\n",
      "40/40 [==============================] - 0s 8ms/step - factorized_top_k/top_1_categorical_accuracy: 0.0000e+00 - factorized_top_k/top_5_categorical_accuracy: 0.0000e+00 - factorized_top_k/top_10_categorical_accuracy: 0.0000e+00 - factorized_top_k/top_50_categorical_accuracy: 0.0000e+00 - factorized_top_k/top_100_categorical_accuracy: 0.0000e+00 - loss: 7.0087 - regularization_loss: 0.0000e+00 - total_loss: 7.0087\n",
      "Epoch 41/50\n",
      "40/40 [==============================] - 0s 8ms/step - factorized_top_k/top_1_categorical_accuracy: 0.0000e+00 - factorized_top_k/top_5_categorical_accuracy: 0.0000e+00 - factorized_top_k/top_10_categorical_accuracy: 0.0000e+00 - factorized_top_k/top_50_categorical_accuracy: 0.0000e+00 - factorized_top_k/top_100_categorical_accuracy: 0.0000e+00 - loss: 6.9774 - regularization_loss: 0.0000e+00 - total_loss: 6.9774\n",
      "Epoch 42/50\n",
      "40/40 [==============================] - 0s 8ms/step - factorized_top_k/top_1_categorical_accuracy: 0.0000e+00 - factorized_top_k/top_5_categorical_accuracy: 0.0000e+00 - factorized_top_k/top_10_categorical_accuracy: 0.0000e+00 - factorized_top_k/top_50_categorical_accuracy: 0.0000e+00 - factorized_top_k/top_100_categorical_accuracy: 0.0000e+00 - loss: 6.9558 - regularization_loss: 0.0000e+00 - total_loss: 6.9558\n",
      "Epoch 43/50\n",
      "40/40 [==============================] - 0s 8ms/step - factorized_top_k/top_1_categorical_accuracy: 0.0000e+00 - factorized_top_k/top_5_categorical_accuracy: 0.0000e+00 - factorized_top_k/top_10_categorical_accuracy: 0.0000e+00 - factorized_top_k/top_50_categorical_accuracy: 0.0000e+00 - factorized_top_k/top_100_categorical_accuracy: 0.0000e+00 - loss: 6.9379 - regularization_loss: 0.0000e+00 - total_loss: 6.9379\n",
      "Epoch 44/50\n",
      "40/40 [==============================] - 0s 8ms/step - factorized_top_k/top_1_categorical_accuracy: 0.0000e+00 - factorized_top_k/top_5_categorical_accuracy: 0.0000e+00 - factorized_top_k/top_10_categorical_accuracy: 0.0000e+00 - factorized_top_k/top_50_categorical_accuracy: 0.0000e+00 - factorized_top_k/top_100_categorical_accuracy: 0.0000e+00 - loss: 6.5661 - regularization_loss: 0.0000e+00 - total_loss: 6.5661\n",
      "Epoch 45/50\n",
      "40/40 [==============================] - 0s 8ms/step - factorized_top_k/top_1_categorical_accuracy: 0.0000e+00 - factorized_top_k/top_5_categorical_accuracy: 0.0000e+00 - factorized_top_k/top_10_categorical_accuracy: 0.0000e+00 - factorized_top_k/top_50_categorical_accuracy: 0.0000e+00 - factorized_top_k/top_100_categorical_accuracy: 0.0000e+00 - loss: 6.9792 - regularization_loss: 0.0000e+00 - total_loss: 6.9792\n",
      "Epoch 46/50\n",
      "40/40 [==============================] - 0s 8ms/step - factorized_top_k/top_1_categorical_accuracy: 0.0000e+00 - factorized_top_k/top_5_categorical_accuracy: 0.0000e+00 - factorized_top_k/top_10_categorical_accuracy: 0.0000e+00 - factorized_top_k/top_50_categorical_accuracy: 0.0000e+00 - factorized_top_k/top_100_categorical_accuracy: 0.0000e+00 - loss: 6.5765 - regularization_loss: 0.0000e+00 - total_loss: 6.5765\n",
      "Epoch 47/50\n",
      "40/40 [==============================] - 0s 8ms/step - factorized_top_k/top_1_categorical_accuracy: 0.0000e+00 - factorized_top_k/top_5_categorical_accuracy: 0.0000e+00 - factorized_top_k/top_10_categorical_accuracy: 0.0000e+00 - factorized_top_k/top_50_categorical_accuracy: 0.0000e+00 - factorized_top_k/top_100_categorical_accuracy: 0.0000e+00 - loss: 6.4156 - regularization_loss: 0.0000e+00 - total_loss: 6.4156\n",
      "Epoch 48/50\n"
     ]
    },
    {
     "name": "stdout",
     "output_type": "stream",
     "text": [
      "40/40 [==============================] - 0s 8ms/step - factorized_top_k/top_1_categorical_accuracy: 0.0000e+00 - factorized_top_k/top_5_categorical_accuracy: 0.0000e+00 - factorized_top_k/top_10_categorical_accuracy: 0.0000e+00 - factorized_top_k/top_50_categorical_accuracy: 0.0000e+00 - factorized_top_k/top_100_categorical_accuracy: 0.0000e+00 - loss: 6.4783 - regularization_loss: 0.0000e+00 - total_loss: 6.4783\n",
      "Epoch 49/50\n",
      "40/40 [==============================] - 0s 8ms/step - factorized_top_k/top_1_categorical_accuracy: 0.0000e+00 - factorized_top_k/top_5_categorical_accuracy: 0.0000e+00 - factorized_top_k/top_10_categorical_accuracy: 0.0000e+00 - factorized_top_k/top_50_categorical_accuracy: 0.0000e+00 - factorized_top_k/top_100_categorical_accuracy: 0.0000e+00 - loss: 6.6240 - regularization_loss: 0.0000e+00 - total_loss: 6.6240\n",
      "Epoch 50/50\n",
      "40/40 [==============================] - 0s 8ms/step - factorized_top_k/top_1_categorical_accuracy: 0.0000e+00 - factorized_top_k/top_5_categorical_accuracy: 0.0000e+00 - factorized_top_k/top_10_categorical_accuracy: 0.0000e+00 - factorized_top_k/top_50_categorical_accuracy: 0.0000e+00 - factorized_top_k/top_100_categorical_accuracy: 0.0000e+00 - loss: 6.4811 - regularization_loss: 0.0000e+00 - total_loss: 6.4811\n"
     ]
    },
    {
     "data": {
      "text/plain": [
       "<keras.callbacks.History at 0x1976a897160>"
      ]
     },
     "execution_count": 19,
     "metadata": {},
     "output_type": "execute_result"
    }
   ],
   "source": [
    "model = RecomendModel()\n",
    "\n",
    "model.compile(optimizer='adam',\n",
    "              loss=tf.keras.losses.BinaryCrossentropy(from_logits=True),\n",
    "              metrics=['accuracy'])\n",
    "model.fit(user_ds,\n",
    "          epochs=50)"
   ]
  },
  {
   "cell_type": "code",
   "execution_count": 20,
   "id": "5420b2fe",
   "metadata": {},
   "outputs": [
    {
     "name": "stdout",
     "output_type": "stream",
     "text": [
      "Every feature: ['CAREGIVER_ID', 'Caregiver_Gender', 'Caregiver_Age', 'Caregiver-ADHD-Hiperaktif-dan-kurang-fokus', 'Caregiver-Depresi', 'Caregiver-Gangguan-kecemasan', 'Caregiver-Gangguan-makan', 'Caregiver-Gangguan-stres-pascatrauma', 'Caregiver-Skizofrenia']\n",
      "A batch of ages: {'CAREGIVER_ID': <tf.Tensor: shape=(5,), dtype=int64, numpy=array([1, 2, 3, 4, 5], dtype=int64)>, 'Caregiver_Gender': <tf.Tensor: shape=(5,), dtype=string, numpy=\n",
      "array([b'Perempuan', b'Pria', b'Pria', b'Perempuan', b'Perempuan'],\n",
      "      dtype=object)>, 'Caregiver_Age': <tf.Tensor: shape=(5,), dtype=int64, numpy=array([28, 33, 19, 18, 36], dtype=int64)>, 'Caregiver-ADHD-Hiperaktif-dan-kurang-fokus': <tf.Tensor: shape=(5,), dtype=int32, numpy=array([1, 0, 1, 0, 0])>, 'Caregiver-Depresi': <tf.Tensor: shape=(5,), dtype=int32, numpy=array([0, 1, 0, 0, 0])>, 'Caregiver-Gangguan-kecemasan': <tf.Tensor: shape=(5,), dtype=int32, numpy=array([0, 0, 0, 0, 1])>, 'Caregiver-Gangguan-makan': <tf.Tensor: shape=(5,), dtype=int32, numpy=array([1, 0, 0, 1, 0])>, 'Caregiver-Gangguan-stres-pascatrauma': <tf.Tensor: shape=(5,), dtype=int32, numpy=array([1, 0, 0, 0, 0])>, 'Caregiver-Skizofrenia': <tf.Tensor: shape=(5,), dtype=int32, numpy=array([0, 1, 0, 1, 1])>}\n",
      "Every feature: ['CAREGIVER_ID', 'Caregiver_Gender', 'Caregiver_Age', 'Caregiver-ADHD-Hiperaktif-dan-kurang-fokus', 'Caregiver-Depresi', 'Caregiver-Gangguan-kecemasan', 'Caregiver-Gangguan-makan', 'Caregiver-Gangguan-stres-pascatrauma', 'Caregiver-Skizofrenia']\n",
      "A batch of ages: {'CAREGIVER_ID': <tf.Tensor: shape=(5,), dtype=int64, numpy=array([ 6,  7,  8,  9, 10], dtype=int64)>, 'Caregiver_Gender': <tf.Tensor: shape=(5,), dtype=string, numpy=array([b'Pria', b'Pria', b'Pria', b'Pria', b'Pria'], dtype=object)>, 'Caregiver_Age': <tf.Tensor: shape=(5,), dtype=int64, numpy=array([35, 24, 28, 27, 27], dtype=int64)>, 'Caregiver-ADHD-Hiperaktif-dan-kurang-fokus': <tf.Tensor: shape=(5,), dtype=int32, numpy=array([1, 1, 0, 0, 0])>, 'Caregiver-Depresi': <tf.Tensor: shape=(5,), dtype=int32, numpy=array([0, 0, 0, 0, 0])>, 'Caregiver-Gangguan-kecemasan': <tf.Tensor: shape=(5,), dtype=int32, numpy=array([1, 0, 0, 0, 0])>, 'Caregiver-Gangguan-makan': <tf.Tensor: shape=(5,), dtype=int32, numpy=array([0, 0, 1, 0, 0])>, 'Caregiver-Gangguan-stres-pascatrauma': <tf.Tensor: shape=(5,), dtype=int32, numpy=array([1, 1, 1, 1, 1])>, 'Caregiver-Skizofrenia': <tf.Tensor: shape=(5,), dtype=int32, numpy=array([0, 1, 1, 0, 0])>}\n",
      "Every feature: ['CAREGIVER_ID', 'Caregiver_Gender', 'Caregiver_Age', 'Caregiver-ADHD-Hiperaktif-dan-kurang-fokus', 'Caregiver-Depresi', 'Caregiver-Gangguan-kecemasan', 'Caregiver-Gangguan-makan', 'Caregiver-Gangguan-stres-pascatrauma', 'Caregiver-Skizofrenia']\n",
      "A batch of ages: {'CAREGIVER_ID': <tf.Tensor: shape=(5,), dtype=int64, numpy=array([11, 12, 13, 14, 15], dtype=int64)>, 'Caregiver_Gender': <tf.Tensor: shape=(5,), dtype=string, numpy=\n",
      "array([b'Perempuan', b'Perempuan', b'Perempuan', b'Perempuan', b'Pria'],\n",
      "      dtype=object)>, 'Caregiver_Age': <tf.Tensor: shape=(5,), dtype=int64, numpy=array([28, 19, 33, 22, 38], dtype=int64)>, 'Caregiver-ADHD-Hiperaktif-dan-kurang-fokus': <tf.Tensor: shape=(5,), dtype=int32, numpy=array([1, 0, 0, 1, 1])>, 'Caregiver-Depresi': <tf.Tensor: shape=(5,), dtype=int32, numpy=array([0, 0, 0, 0, 0])>, 'Caregiver-Gangguan-kecemasan': <tf.Tensor: shape=(5,), dtype=int32, numpy=array([0, 0, 0, 0, 0])>, 'Caregiver-Gangguan-makan': <tf.Tensor: shape=(5,), dtype=int32, numpy=array([0, 0, 1, 0, 1])>, 'Caregiver-Gangguan-stres-pascatrauma': <tf.Tensor: shape=(5,), dtype=int32, numpy=array([1, 0, 1, 0, 0])>, 'Caregiver-Skizofrenia': <tf.Tensor: shape=(5,), dtype=int32, numpy=array([0, 1, 0, 1, 0])>}\n",
      "Every feature: ['CAREGIVER_ID', 'Caregiver_Gender', 'Caregiver_Age', 'Caregiver-ADHD-Hiperaktif-dan-kurang-fokus', 'Caregiver-Depresi', 'Caregiver-Gangguan-kecemasan', 'Caregiver-Gangguan-makan', 'Caregiver-Gangguan-stres-pascatrauma', 'Caregiver-Skizofrenia']\n",
      "A batch of ages: {'CAREGIVER_ID': <tf.Tensor: shape=(5,), dtype=int64, numpy=array([16, 17, 18, 19, 20], dtype=int64)>, 'Caregiver_Gender': <tf.Tensor: shape=(5,), dtype=string, numpy=\n",
      "array([b'Perempuan', b'Perempuan', b'Pria', b'Pria', b'Perempuan'],\n",
      "      dtype=object)>, 'Caregiver_Age': <tf.Tensor: shape=(5,), dtype=int64, numpy=array([31, 20, 25, 39, 30], dtype=int64)>, 'Caregiver-ADHD-Hiperaktif-dan-kurang-fokus': <tf.Tensor: shape=(5,), dtype=int32, numpy=array([0, 1, 1, 0, 0])>, 'Caregiver-Depresi': <tf.Tensor: shape=(5,), dtype=int32, numpy=array([1, 0, 1, 0, 1])>, 'Caregiver-Gangguan-kecemasan': <tf.Tensor: shape=(5,), dtype=int32, numpy=array([0, 0, 1, 1, 0])>, 'Caregiver-Gangguan-makan': <tf.Tensor: shape=(5,), dtype=int32, numpy=array([1, 0, 0, 1, 1])>, 'Caregiver-Gangguan-stres-pascatrauma': <tf.Tensor: shape=(5,), dtype=int32, numpy=array([1, 0, 0, 0, 0])>, 'Caregiver-Skizofrenia': <tf.Tensor: shape=(5,), dtype=int32, numpy=array([0, 0, 0, 0, 0])>}\n",
      "Every feature: ['CAREGIVER_ID', 'Caregiver_Gender', 'Caregiver_Age', 'Caregiver-ADHD-Hiperaktif-dan-kurang-fokus', 'Caregiver-Depresi', 'Caregiver-Gangguan-kecemasan', 'Caregiver-Gangguan-makan', 'Caregiver-Gangguan-stres-pascatrauma', 'Caregiver-Skizofrenia']\n",
      "A batch of ages: {'CAREGIVER_ID': <tf.Tensor: shape=(5,), dtype=int64, numpy=array([21, 22, 23, 24, 25], dtype=int64)>, 'Caregiver_Gender': <tf.Tensor: shape=(5,), dtype=string, numpy=\n",
      "array([b'Perempuan', b'Pria', b'Pria', b'Pria', b'Perempuan'],\n",
      "      dtype=object)>, 'Caregiver_Age': <tf.Tensor: shape=(5,), dtype=int64, numpy=array([39, 29, 36, 39, 36], dtype=int64)>, 'Caregiver-ADHD-Hiperaktif-dan-kurang-fokus': <tf.Tensor: shape=(5,), dtype=int32, numpy=array([0, 0, 0, 0, 0])>, 'Caregiver-Depresi': <tf.Tensor: shape=(5,), dtype=int32, numpy=array([0, 1, 1, 1, 1])>, 'Caregiver-Gangguan-kecemasan': <tf.Tensor: shape=(5,), dtype=int32, numpy=array([1, 0, 1, 1, 0])>, 'Caregiver-Gangguan-makan': <tf.Tensor: shape=(5,), dtype=int32, numpy=array([1, 1, 0, 0, 1])>, 'Caregiver-Gangguan-stres-pascatrauma': <tf.Tensor: shape=(5,), dtype=int32, numpy=array([0, 1, 0, 1, 0])>, 'Caregiver-Skizofrenia': <tf.Tensor: shape=(5,), dtype=int32, numpy=array([0, 0, 0, 0, 0])>}\n",
      "Every feature: ['CAREGIVER_ID', 'Caregiver_Gender', 'Caregiver_Age', 'Caregiver-ADHD-Hiperaktif-dan-kurang-fokus', 'Caregiver-Depresi', 'Caregiver-Gangguan-kecemasan', 'Caregiver-Gangguan-makan', 'Caregiver-Gangguan-stres-pascatrauma', 'Caregiver-Skizofrenia']\n",
      "A batch of ages: {'CAREGIVER_ID': <tf.Tensor: shape=(5,), dtype=int64, numpy=array([26, 27, 28, 29, 30], dtype=int64)>, 'Caregiver_Gender': <tf.Tensor: shape=(5,), dtype=string, numpy=\n",
      "array([b'Perempuan', b'Pria', b'Pria', b'Perempuan', b'Perempuan'],\n",
      "      dtype=object)>, 'Caregiver_Age': <tf.Tensor: shape=(5,), dtype=int64, numpy=array([24, 31, 22, 28, 32], dtype=int64)>, 'Caregiver-ADHD-Hiperaktif-dan-kurang-fokus': <tf.Tensor: shape=(5,), dtype=int32, numpy=array([0, 1, 0, 1, 1])>, 'Caregiver-Depresi': <tf.Tensor: shape=(5,), dtype=int32, numpy=array([1, 1, 0, 0, 0])>, 'Caregiver-Gangguan-kecemasan': <tf.Tensor: shape=(5,), dtype=int32, numpy=array([0, 0, 0, 0, 0])>, 'Caregiver-Gangguan-makan': <tf.Tensor: shape=(5,), dtype=int32, numpy=array([0, 1, 0, 0, 0])>, 'Caregiver-Gangguan-stres-pascatrauma': <tf.Tensor: shape=(5,), dtype=int32, numpy=array([1, 0, 0, 0, 0])>, 'Caregiver-Skizofrenia': <tf.Tensor: shape=(5,), dtype=int32, numpy=array([1, 0, 1, 0, 0])>}\n"
     ]
    }
   ],
   "source": [
    "for feature_batch in caregiver_ds:\n",
    "  print('Every feature:', list(feature_batch.keys()))\n",
    "  print('A batch of ages:', feature_batch)"
   ]
  },
  {
   "cell_type": "code",
   "execution_count": 31,
   "id": "6099e2a5",
   "metadata": {},
   "outputs": [
    {
     "name": "stdout",
     "output_type": "stream",
     "text": [
      "WARNING:tensorflow:Layers in a Sequential model should only have a single input tensor. Received: inputs={'CAREGIVER_ID': <tf.Tensor 'args_0:0' shape=(None,) dtype=int64>, 'Caregiver_Gender': <tf.Tensor 'args_8:0' shape=(None,) dtype=string>, 'Caregiver_Age': <tf.Tensor 'args_7:0' shape=(None,) dtype=int64>, 'Caregiver-ADHD-Hiperaktif-dan-kurang-fokus': <tf.Tensor 'args_1:0' shape=(None,) dtype=int32>, 'Caregiver-Depresi': <tf.Tensor 'args_2:0' shape=(None,) dtype=int32>, 'Caregiver-Gangguan-kecemasan': <tf.Tensor 'args_3:0' shape=(None,) dtype=int32>, 'Caregiver-Gangguan-makan': <tf.Tensor 'args_4:0' shape=(None,) dtype=int32>, 'Caregiver-Gangguan-stres-pascatrauma': <tf.Tensor 'args_5:0' shape=(None,) dtype=int32>, 'Caregiver-Skizofrenia': <tf.Tensor 'args_6:0' shape=(None,) dtype=int32>}. Consider rewriting this model with the Functional API.\n"
     ]
    },
    {
     "name": "stderr",
     "output_type": "stream",
     "text": [
      "WARNING:tensorflow:Layers in a Sequential model should only have a single input tensor. Received: inputs={'CAREGIVER_ID': <tf.Tensor 'args_0:0' shape=(None,) dtype=int64>, 'Caregiver_Gender': <tf.Tensor 'args_8:0' shape=(None,) dtype=string>, 'Caregiver_Age': <tf.Tensor 'args_7:0' shape=(None,) dtype=int64>, 'Caregiver-ADHD-Hiperaktif-dan-kurang-fokus': <tf.Tensor 'args_1:0' shape=(None,) dtype=int32>, 'Caregiver-Depresi': <tf.Tensor 'args_2:0' shape=(None,) dtype=int32>, 'Caregiver-Gangguan-kecemasan': <tf.Tensor 'args_3:0' shape=(None,) dtype=int32>, 'Caregiver-Gangguan-makan': <tf.Tensor 'args_4:0' shape=(None,) dtype=int32>, 'Caregiver-Gangguan-stres-pascatrauma': <tf.Tensor 'args_5:0' shape=(None,) dtype=int32>, 'Caregiver-Skizofrenia': <tf.Tensor 'args_6:0' shape=(None,) dtype=int32>}. Consider rewriting this model with the Functional API.\n"
     ]
    },
    {
     "data": {
      "text/plain": [
       "<tensorflow_recommenders.layers.factorized_top_k.BruteForce at 0x198a2a15190>"
      ]
     },
     "execution_count": 31,
     "metadata": {},
     "output_type": "execute_result"
    }
   ],
   "source": [
    "brute_force = tfrs.layers.factorized_top_k.BruteForce(model.user_model)\n",
    "brute_force.index_from_dataset(  \n",
    "       caregiver_ds.map(lambda features: (features['CAREGIVER_ID'], model.caregiver_model(features)))\n",
    ")\n",
    "\n",
    "\n",
    "\n"
   ]
  },
  {
   "cell_type": "code",
   "execution_count": null,
   "id": "30ea1164",
   "metadata": {},
   "outputs": [],
   "source": []
  },
  {
   "cell_type": "code",
   "execution_count": null,
   "id": "6e5dc7f3",
   "metadata": {},
   "outputs": [],
   "source": []
  },
  {
   "cell_type": "code",
   "execution_count": 22,
   "id": "d510961b",
   "metadata": {},
   "outputs": [
    {
     "name": "stdout",
     "output_type": "stream",
     "text": [
      "{'Gender': array(['Pria'], dtype='<U4'), 'Age': array([30]), 'ADHD-Hiperaktif-dan-kurang-fokus': array([0]), 'Depresi': array([1]), 'Gangguan-kecemasan': array([0]), 'Gangguan-makan': array([0]), 'Gangguan-stres-pascatrauma': array([1]), 'Skizofrenia': array([0])}\n"
     ]
    }
   ],
   "source": [
    "a =['Gender', 'Age', 'ADHD-Hiperaktif-dan-kurang-fokus', 'Depresi', 'Gangguan-kecemasan', 'Gangguan-makan','Gangguan-stres-pascatrauma', 'Skizofrenia']\n",
    "value = ['Pria', 30, 0, 1, 0, 0, 1, 0]\n",
    "dictionary_Test = dict((el,np.array([value[ix]])) for ix,el in enumerate(a))\n",
    "print(dictionary_Test)"
   ]
  },
  {
   "cell_type": "code",
   "execution_count": 23,
   "id": "ab7cbaaf",
   "metadata": {
    "scrolled": true
   },
   "outputs": [
    {
     "name": "stdout",
     "output_type": "stream",
     "text": [
      "WARNING:tensorflow:Layers in a Sequential model should only have a single input tensor. Received: inputs={'Gender': <tf.Tensor: shape=(1,), dtype=string, numpy=array([b'Pria'], dtype=object)>, 'Age': <tf.Tensor: shape=(1,), dtype=int32, numpy=array([30])>, 'ADHD-Hiperaktif-dan-kurang-fokus': <tf.Tensor: shape=(1,), dtype=int32, numpy=array([0])>, 'Depresi': <tf.Tensor: shape=(1,), dtype=int32, numpy=array([1])>, 'Gangguan-kecemasan': <tf.Tensor: shape=(1,), dtype=int32, numpy=array([0])>, 'Gangguan-makan': <tf.Tensor: shape=(1,), dtype=int32, numpy=array([0])>, 'Gangguan-stres-pascatrauma': <tf.Tensor: shape=(1,), dtype=int32, numpy=array([1])>, 'Skizofrenia': <tf.Tensor: shape=(1,), dtype=int32, numpy=array([0])>}. Consider rewriting this model with the Functional API.\n",
      "Top recommendations: [17 11]\n"
     ]
    }
   ],
   "source": [
    "# Get predictions for user 42.\n",
    "a, titles = brute_force(dictionary_Test, k=2)\n",
    "print(f\"Top recommendations: {titles[0]}\")"
   ]
  },
  {
   "cell_type": "code",
   "execution_count": null,
   "id": "ab27a59e",
   "metadata": {},
   "outputs": [],
   "source": []
  },
  {
   "cell_type": "code",
   "execution_count": 25,
   "id": "7089edc3",
   "metadata": {
    "scrolled": true
   },
   "outputs": [
    {
     "name": "stdout",
     "output_type": "stream",
     "text": [
      "WARNING:tensorflow:Layers in a Sequential model should only have a single input tensor. Received: inputs={'Gender': <tf.Tensor: shape=(1,), dtype=string, numpy=array([b'Pria'], dtype=object)>, 'Age': <tf.Tensor: shape=(1,), dtype=int32, numpy=array([30])>, 'ADHD-Hiperaktif-dan-kurang-fokus': <tf.Tensor: shape=(1,), dtype=int32, numpy=array([0])>, 'Depresi': <tf.Tensor: shape=(1,), dtype=int32, numpy=array([1])>, 'Gangguan-kecemasan': <tf.Tensor: shape=(1,), dtype=int32, numpy=array([0])>, 'Gangguan-makan': <tf.Tensor: shape=(1,), dtype=int32, numpy=array([0])>, 'Gangguan-stres-pascatrauma': <tf.Tensor: shape=(1,), dtype=int32, numpy=array([1])>, 'Skizofrenia': <tf.Tensor: shape=(1,), dtype=int32, numpy=array([0])>}. Consider rewriting this model with the Functional API.\n"
     ]
    },
    {
     "data": {
      "text/plain": [
       "array([[ 0.07992546,  0.04781152, -0.3413666 , -1.2493048 ,  0.50396305,\n",
       "         0.6881075 ,  0.55912286, -1.15427   ,  0.1509069 ,  1.337718  ,\n",
       "        -0.45005974,  3.1346717 ,  0.26507953,  0.12471665, -1.0504792 ,\n",
       "        -0.44568485,  1.4500772 ,  1.8927057 ,  0.0526594 , -0.95920485,\n",
       "        -0.09666137, -2.2241206 ,  2.7120328 ,  0.30885193,  0.33919173,\n",
       "         1.2163811 , -1.7750607 , -1.0678444 ,  0.435505  , -0.07476552,\n",
       "        -0.6076032 ,  0.7087519 ]], dtype=float32)"
      ]
     },
     "execution_count": 25,
     "metadata": {},
     "output_type": "execute_result"
    }
   ],
   "source": [
    "tensor = model.user_model(dictionary_Test)\n",
    "tensor.numpy()"
   ]
  },
  {
   "cell_type": "code",
   "execution_count": 26,
   "id": "ca36293e",
   "metadata": {},
   "outputs": [
    {
     "name": "stdout",
     "output_type": "stream",
     "text": [
      "WARNING:tensorflow:Layers in a Sequential model should only have a single input tensor. Received: inputs={'CAREGIVER_ID': <tf.Tensor 'args_0:0' shape=(None, None) dtype=int64>, 'Caregiver_Gender': <tf.Tensor 'args_8:0' shape=(None, None) dtype=string>, 'Caregiver_Age': <tf.Tensor 'args_7:0' shape=(None, None) dtype=int64>, 'Caregiver-ADHD-Hiperaktif-dan-kurang-fokus': <tf.Tensor 'args_1:0' shape=(None, None) dtype=int32>, 'Caregiver-Depresi': <tf.Tensor 'args_2:0' shape=(None, None) dtype=int32>, 'Caregiver-Gangguan-kecemasan': <tf.Tensor 'args_3:0' shape=(None, None) dtype=int32>, 'Caregiver-Gangguan-makan': <tf.Tensor 'args_4:0' shape=(None, None) dtype=int32>, 'Caregiver-Gangguan-stres-pascatrauma': <tf.Tensor 'args_5:0' shape=(None, None) dtype=int32>, 'Caregiver-Skizofrenia': <tf.Tensor 'args_6:0' shape=(None, None) dtype=int32>}. Consider rewriting this model with the Functional API.\n"
     ]
    }
   ],
   "source": [
    "processed_ds = caregiver_ds.batch(5).map(model.caregiver_model)\n"
   ]
  },
  {
   "cell_type": "code",
   "execution_count": 27,
   "id": "9770b62c",
   "metadata": {},
   "outputs": [
    {
     "data": {
      "text/plain": [
       "<bound method Model.save of <__main__.RecomendModel object at 0x000001975DC0C0A0>>"
      ]
     },
     "execution_count": 27,
     "metadata": {},
     "output_type": "execute_result"
    }
   ],
   "source": [
    "model.save"
   ]
  },
  {
   "cell_type": "code",
   "execution_count": 28,
   "id": "b8932037",
   "metadata": {},
   "outputs": [
    {
     "data": {
      "text/plain": [
       "<MapDataset element_spec=TensorSpec(shape=(None, 32), dtype=tf.float32, name=None)>"
      ]
     },
     "execution_count": 28,
     "metadata": {},
     "output_type": "execute_result"
    }
   ],
   "source": [
    "processed_ds"
   ]
  },
  {
   "cell_type": "code",
   "execution_count": 29,
   "id": "7b0f03cc",
   "metadata": {},
   "outputs": [
    {
     "name": "stdout",
     "output_type": "stream",
     "text": [
      "WARNING:tensorflow:Layers in a Sequential model should only have a single input tensor. Received: inputs={'Age': <tf.Tensor 'Age:0' shape=(None,) dtype=int64>, 'Gender': <tf.Tensor 'Gender:0' shape=(None,) dtype=string>, 'ADHD-Hiperaktif-dan-kurang-fokus': <tf.Tensor 'ADHD-Hiperaktif-dan-kurang-fokus:0' shape=(None,) dtype=int32>, 'Depresi': <tf.Tensor 'Depresi:0' shape=(None,) dtype=int32>, 'Gangguan-kecemasan': <tf.Tensor 'Gangguan-kecemasan:0' shape=(None,) dtype=int32>, 'Gangguan-makan': <tf.Tensor 'Gangguan-makan:0' shape=(None,) dtype=int32>, 'Gangguan-stres-pascatrauma': <tf.Tensor 'Gangguan-stres-pascatrauma:0' shape=(None,) dtype=int32>, 'Skizofrenia': <tf.Tensor 'Skizofrenia:0' shape=(None,) dtype=int32>}. Consider rewriting this model with the Functional API.\n",
      "WARNING:tensorflow:Layers in a Sequential model should only have a single input tensor. Received: inputs={'Age': <tf.Tensor 'inputs_1:0' shape=(None,) dtype=int64>, 'Gender': <tf.Tensor 'inputs_6:0' shape=(None,) dtype=string>, 'ADHD-Hiperaktif-dan-kurang-fokus': <tf.Tensor 'inputs:0' shape=(None,) dtype=int32>, 'Depresi': <tf.Tensor 'inputs_2:0' shape=(None,) dtype=int32>, 'Gangguan-kecemasan': <tf.Tensor 'inputs_3:0' shape=(None,) dtype=int32>, 'Gangguan-makan': <tf.Tensor 'inputs_4:0' shape=(None,) dtype=int32>, 'Gangguan-stres-pascatrauma': <tf.Tensor 'inputs_5:0' shape=(None,) dtype=int32>, 'Skizofrenia': <tf.Tensor 'inputs_7:0' shape=(None,) dtype=int32>}. Consider rewriting this model with the Functional API.\n",
      "WARNING:tensorflow:Layers in a Sequential model should only have a single input tensor. Received: inputs={'Age': <tf.Tensor 'inputs_1:0' shape=(None,) dtype=int64>, 'Gender': <tf.Tensor 'inputs_6:0' shape=(None,) dtype=string>, 'ADHD-Hiperaktif-dan-kurang-fokus': <tf.Tensor 'inputs:0' shape=(None,) dtype=int32>, 'Depresi': <tf.Tensor 'inputs_2:0' shape=(None,) dtype=int32>, 'Gangguan-kecemasan': <tf.Tensor 'inputs_3:0' shape=(None,) dtype=int32>, 'Gangguan-makan': <tf.Tensor 'inputs_4:0' shape=(None,) dtype=int32>, 'Gangguan-stres-pascatrauma': <tf.Tensor 'inputs_5:0' shape=(None,) dtype=int32>, 'Skizofrenia': <tf.Tensor 'inputs_7:0' shape=(None,) dtype=int32>}. Consider rewriting this model with the Functional API.\n",
      "WARNING:tensorflow:Layers in a Sequential model should only have a single input tensor. Received: inputs={'Age': <tf.Tensor 'Age:0' shape=(None,) dtype=int64>, 'Gender': <tf.Tensor 'Gender:0' shape=(None,) dtype=string>, 'ADHD-Hiperaktif-dan-kurang-fokus': <tf.Tensor 'ADHD-Hiperaktif-dan-kurang-fokus:0' shape=(None,) dtype=int32>, 'Depresi': <tf.Tensor 'Depresi:0' shape=(None,) dtype=int32>, 'Gangguan-kecemasan': <tf.Tensor 'Gangguan-kecemasan:0' shape=(None,) dtype=int32>, 'Gangguan-makan': <tf.Tensor 'Gangguan-makan:0' shape=(None,) dtype=int32>, 'Gangguan-stres-pascatrauma': <tf.Tensor 'Gangguan-stres-pascatrauma:0' shape=(None,) dtype=int32>, 'Skizofrenia': <tf.Tensor 'Skizofrenia:0' shape=(None,) dtype=int32>}. Consider rewriting this model with the Functional API.\n",
      "WARNING:tensorflow:Layers in a Sequential model should only have a single input tensor. Received: inputs={'Age': <tf.Tensor 'Age:0' shape=(None,) dtype=int64>, 'Gender': <tf.Tensor 'Gender:0' shape=(None,) dtype=string>, 'ADHD-Hiperaktif-dan-kurang-fokus': <tf.Tensor 'ADHD-Hiperaktif-dan-kurang-fokus:0' shape=(None,) dtype=int32>, 'Depresi': <tf.Tensor 'Depresi:0' shape=(None,) dtype=int32>, 'Gangguan-kecemasan': <tf.Tensor 'Gangguan-kecemasan:0' shape=(None,) dtype=int32>, 'Gangguan-makan': <tf.Tensor 'Gangguan-makan:0' shape=(None,) dtype=int32>, 'Gangguan-stres-pascatrauma': <tf.Tensor 'Gangguan-stres-pascatrauma:0' shape=(None,) dtype=int32>, 'Skizofrenia': <tf.Tensor 'Skizofrenia:0' shape=(None,) dtype=int32>}. Consider rewriting this model with the Functional API.\n",
      "WARNING:tensorflow:Layers in a Sequential model should only have a single input tensor. Received: inputs={'Age': <tf.Tensor 'inputs/Age:0' shape=(None,) dtype=int64>, 'Gender': <tf.Tensor 'inputs/Gender:0' shape=(None,) dtype=string>, 'ADHD-Hiperaktif-dan-kurang-fokus': <tf.Tensor 'inputs/ADHD-Hiperaktif-dan-kurang-fokus:0' shape=(None,) dtype=int32>, 'Depresi': <tf.Tensor 'inputs/Depresi:0' shape=(None,) dtype=int32>, 'Gangguan-kecemasan': <tf.Tensor 'inputs/Gangguan-kecemasan:0' shape=(None,) dtype=int32>, 'Gangguan-makan': <tf.Tensor 'inputs/Gangguan-makan:0' shape=(None,) dtype=int32>, 'Gangguan-stres-pascatrauma': <tf.Tensor 'inputs/Gangguan-stres-pascatrauma:0' shape=(None,) dtype=int32>, 'Skizofrenia': <tf.Tensor 'inputs/Skizofrenia:0' shape=(None,) dtype=int32>}. Consider rewriting this model with the Functional API.\n",
      "WARNING:tensorflow:Layers in a Sequential model should only have a single input tensor. Received: inputs={'Age': <tf.Tensor 'inputs/Age:0' shape=(None,) dtype=int64>, 'Gender': <tf.Tensor 'inputs/Gender:0' shape=(None,) dtype=string>, 'ADHD-Hiperaktif-dan-kurang-fokus': <tf.Tensor 'inputs/ADHD-Hiperaktif-dan-kurang-fokus:0' shape=(None,) dtype=int32>, 'Depresi': <tf.Tensor 'inputs/Depresi:0' shape=(None,) dtype=int32>, 'Gangguan-kecemasan': <tf.Tensor 'inputs/Gangguan-kecemasan:0' shape=(None,) dtype=int32>, 'Gangguan-makan': <tf.Tensor 'inputs/Gangguan-makan:0' shape=(None,) dtype=int32>, 'Gangguan-stres-pascatrauma': <tf.Tensor 'inputs/Gangguan-stres-pascatrauma:0' shape=(None,) dtype=int32>, 'Skizofrenia': <tf.Tensor 'inputs/Skizofrenia:0' shape=(None,) dtype=int32>}. Consider rewriting this model with the Functional API.\n"
     ]
    },
    {
     "name": "stderr",
     "output_type": "stream",
     "text": [
      "WARNING:absl:Function `_wrapped_model` contains input name(s) ADHD-Hiperaktif-dan-kurang-fokus, Age, Depresi, Gangguan-kecemasan, Gangguan-makan, Gangguan-stres-pascatrauma, Gender, Skizofrenia with unsupported characters which will be renamed to adhd_hiperaktif_dan_kurang_fokus, age, depresi, gangguan_kecemasan, gangguan_makan, gangguan_stres_pascatrauma, gender, skizofrenia in the SavedModel.\n"
     ]
    },
    {
     "name": "stdout",
     "output_type": "stream",
     "text": [
      "INFO:tensorflow:Assets written to: saved_model/user_query_v1\\assets\n"
     ]
    },
    {
     "name": "stderr",
     "output_type": "stream",
     "text": [
      "INFO:tensorflow:Assets written to: saved_model/user_query_v1\\assets\n"
     ]
    }
   ],
   "source": [
    "tf.saved_model.save(model.user_model, 'saved_model/user_query_v1')"
   ]
  },
  {
   "cell_type": "code",
   "execution_count": 30,
   "id": "ef76da1b",
   "metadata": {},
   "outputs": [
    {
     "name": "stdout",
     "output_type": "stream",
     "text": [
      "WARNING:tensorflow:Layers in a Sequential model should only have a single input tensor. Received: inputs={'CAREGIVER_ID': <tf.Tensor 'CAREGIVER_ID:0' shape=(None, None) dtype=int64>, 'Caregiver_Gender': <tf.Tensor 'Caregiver_Gender:0' shape=(None, None) dtype=string>, 'Caregiver_Age': <tf.Tensor 'Caregiver_Age:0' shape=(None, None) dtype=int64>, 'Caregiver-ADHD-Hiperaktif-dan-kurang-fokus': <tf.Tensor 'Caregiver-ADHD-Hiperaktif-dan-kurang-fokus:0' shape=(None, None) dtype=int32>, 'Caregiver-Depresi': <tf.Tensor 'Caregiver-Depresi:0' shape=(None, None) dtype=int32>, 'Caregiver-Gangguan-kecemasan': <tf.Tensor 'Caregiver-Gangguan-kecemasan:0' shape=(None, None) dtype=int32>, 'Caregiver-Gangguan-makan': <tf.Tensor 'Caregiver-Gangguan-makan:0' shape=(None, None) dtype=int32>, 'Caregiver-Gangguan-stres-pascatrauma': <tf.Tensor 'Caregiver-Gangguan-stres-pascatrauma:0' shape=(None, None) dtype=int32>, 'Caregiver-Skizofrenia': <tf.Tensor 'Caregiver-Skizofrenia:0' shape=(None, None) dtype=int32>}. Consider rewriting this model with the Functional API.\n"
     ]
    },
    {
     "name": "stderr",
     "output_type": "stream",
     "text": [
      "WARNING:tensorflow:Layers in a Sequential model should only have a single input tensor. Received: inputs={'CAREGIVER_ID': <tf.Tensor 'CAREGIVER_ID:0' shape=(None, None) dtype=int64>, 'Caregiver_Gender': <tf.Tensor 'Caregiver_Gender:0' shape=(None, None) dtype=string>, 'Caregiver_Age': <tf.Tensor 'Caregiver_Age:0' shape=(None, None) dtype=int64>, 'Caregiver-ADHD-Hiperaktif-dan-kurang-fokus': <tf.Tensor 'Caregiver-ADHD-Hiperaktif-dan-kurang-fokus:0' shape=(None, None) dtype=int32>, 'Caregiver-Depresi': <tf.Tensor 'Caregiver-Depresi:0' shape=(None, None) dtype=int32>, 'Caregiver-Gangguan-kecemasan': <tf.Tensor 'Caregiver-Gangguan-kecemasan:0' shape=(None, None) dtype=int32>, 'Caregiver-Gangguan-makan': <tf.Tensor 'Caregiver-Gangguan-makan:0' shape=(None, None) dtype=int32>, 'Caregiver-Gangguan-stres-pascatrauma': <tf.Tensor 'Caregiver-Gangguan-stres-pascatrauma:0' shape=(None, None) dtype=int32>, 'Caregiver-Skizofrenia': <tf.Tensor 'Caregiver-Skizofrenia:0' shape=(None, None) dtype=int32>}. Consider rewriting this model with the Functional API.\n"
     ]
    },
    {
     "name": "stdout",
     "output_type": "stream",
     "text": [
      "WARNING:tensorflow:Layers in a Sequential model should only have a single input tensor. Received: inputs={'CAREGIVER_ID': <tf.Tensor 'inputs:0' shape=(None, None) dtype=int64>, 'Caregiver_Gender': <tf.Tensor 'inputs_8:0' shape=(None, None) dtype=string>, 'Caregiver_Age': <tf.Tensor 'inputs_7:0' shape=(None, None) dtype=int64>, 'Caregiver-ADHD-Hiperaktif-dan-kurang-fokus': <tf.Tensor 'inputs_1:0' shape=(None, None) dtype=int32>, 'Caregiver-Depresi': <tf.Tensor 'inputs_2:0' shape=(None, None) dtype=int32>, 'Caregiver-Gangguan-kecemasan': <tf.Tensor 'inputs_3:0' shape=(None, None) dtype=int32>, 'Caregiver-Gangguan-makan': <tf.Tensor 'inputs_4:0' shape=(None, None) dtype=int32>, 'Caregiver-Gangguan-stres-pascatrauma': <tf.Tensor 'inputs_5:0' shape=(None, None) dtype=int32>, 'Caregiver-Skizofrenia': <tf.Tensor 'inputs_6:0' shape=(None, None) dtype=int32>}. Consider rewriting this model with the Functional API.\n"
     ]
    },
    {
     "name": "stderr",
     "output_type": "stream",
     "text": [
      "WARNING:tensorflow:Layers in a Sequential model should only have a single input tensor. Received: inputs={'CAREGIVER_ID': <tf.Tensor 'inputs:0' shape=(None, None) dtype=int64>, 'Caregiver_Gender': <tf.Tensor 'inputs_8:0' shape=(None, None) dtype=string>, 'Caregiver_Age': <tf.Tensor 'inputs_7:0' shape=(None, None) dtype=int64>, 'Caregiver-ADHD-Hiperaktif-dan-kurang-fokus': <tf.Tensor 'inputs_1:0' shape=(None, None) dtype=int32>, 'Caregiver-Depresi': <tf.Tensor 'inputs_2:0' shape=(None, None) dtype=int32>, 'Caregiver-Gangguan-kecemasan': <tf.Tensor 'inputs_3:0' shape=(None, None) dtype=int32>, 'Caregiver-Gangguan-makan': <tf.Tensor 'inputs_4:0' shape=(None, None) dtype=int32>, 'Caregiver-Gangguan-stres-pascatrauma': <tf.Tensor 'inputs_5:0' shape=(None, None) dtype=int32>, 'Caregiver-Skizofrenia': <tf.Tensor 'inputs_6:0' shape=(None, None) dtype=int32>}. Consider rewriting this model with the Functional API.\n"
     ]
    },
    {
     "name": "stdout",
     "output_type": "stream",
     "text": [
      "WARNING:tensorflow:Layers in a Sequential model should only have a single input tensor. Received: inputs={'CAREGIVER_ID': <tf.Tensor 'inputs:0' shape=(None, None) dtype=int64>, 'Caregiver_Gender': <tf.Tensor 'inputs_8:0' shape=(None, None) dtype=string>, 'Caregiver_Age': <tf.Tensor 'inputs_7:0' shape=(None, None) dtype=int64>, 'Caregiver-ADHD-Hiperaktif-dan-kurang-fokus': <tf.Tensor 'inputs_1:0' shape=(None, None) dtype=int32>, 'Caregiver-Depresi': <tf.Tensor 'inputs_2:0' shape=(None, None) dtype=int32>, 'Caregiver-Gangguan-kecemasan': <tf.Tensor 'inputs_3:0' shape=(None, None) dtype=int32>, 'Caregiver-Gangguan-makan': <tf.Tensor 'inputs_4:0' shape=(None, None) dtype=int32>, 'Caregiver-Gangguan-stres-pascatrauma': <tf.Tensor 'inputs_5:0' shape=(None, None) dtype=int32>, 'Caregiver-Skizofrenia': <tf.Tensor 'inputs_6:0' shape=(None, None) dtype=int32>}. Consider rewriting this model with the Functional API.\n"
     ]
    },
    {
     "name": "stderr",
     "output_type": "stream",
     "text": [
      "WARNING:tensorflow:Layers in a Sequential model should only have a single input tensor. Received: inputs={'CAREGIVER_ID': <tf.Tensor 'inputs:0' shape=(None, None) dtype=int64>, 'Caregiver_Gender': <tf.Tensor 'inputs_8:0' shape=(None, None) dtype=string>, 'Caregiver_Age': <tf.Tensor 'inputs_7:0' shape=(None, None) dtype=int64>, 'Caregiver-ADHD-Hiperaktif-dan-kurang-fokus': <tf.Tensor 'inputs_1:0' shape=(None, None) dtype=int32>, 'Caregiver-Depresi': <tf.Tensor 'inputs_2:0' shape=(None, None) dtype=int32>, 'Caregiver-Gangguan-kecemasan': <tf.Tensor 'inputs_3:0' shape=(None, None) dtype=int32>, 'Caregiver-Gangguan-makan': <tf.Tensor 'inputs_4:0' shape=(None, None) dtype=int32>, 'Caregiver-Gangguan-stres-pascatrauma': <tf.Tensor 'inputs_5:0' shape=(None, None) dtype=int32>, 'Caregiver-Skizofrenia': <tf.Tensor 'inputs_6:0' shape=(None, None) dtype=int32>}. Consider rewriting this model with the Functional API.\n"
     ]
    },
    {
     "name": "stdout",
     "output_type": "stream",
     "text": [
      "WARNING:tensorflow:Layers in a Sequential model should only have a single input tensor. Received: inputs={'CAREGIVER_ID': <tf.Tensor 'CAREGIVER_ID:0' shape=(None, None) dtype=int64>, 'Caregiver_Gender': <tf.Tensor 'Caregiver_Gender:0' shape=(None, None) dtype=string>, 'Caregiver_Age': <tf.Tensor 'Caregiver_Age:0' shape=(None, None) dtype=int64>, 'Caregiver-ADHD-Hiperaktif-dan-kurang-fokus': <tf.Tensor 'Caregiver-ADHD-Hiperaktif-dan-kurang-fokus:0' shape=(None, None) dtype=int32>, 'Caregiver-Depresi': <tf.Tensor 'Caregiver-Depresi:0' shape=(None, None) dtype=int32>, 'Caregiver-Gangguan-kecemasan': <tf.Tensor 'Caregiver-Gangguan-kecemasan:0' shape=(None, None) dtype=int32>, 'Caregiver-Gangguan-makan': <tf.Tensor 'Caregiver-Gangguan-makan:0' shape=(None, None) dtype=int32>, 'Caregiver-Gangguan-stres-pascatrauma': <tf.Tensor 'Caregiver-Gangguan-stres-pascatrauma:0' shape=(None, None) dtype=int32>, 'Caregiver-Skizofrenia': <tf.Tensor 'Caregiver-Skizofrenia:0' shape=(None, None) dtype=int32>}. Consider rewriting this model with the Functional API.\n"
     ]
    },
    {
     "name": "stderr",
     "output_type": "stream",
     "text": [
      "WARNING:tensorflow:Layers in a Sequential model should only have a single input tensor. Received: inputs={'CAREGIVER_ID': <tf.Tensor 'CAREGIVER_ID:0' shape=(None, None) dtype=int64>, 'Caregiver_Gender': <tf.Tensor 'Caregiver_Gender:0' shape=(None, None) dtype=string>, 'Caregiver_Age': <tf.Tensor 'Caregiver_Age:0' shape=(None, None) dtype=int64>, 'Caregiver-ADHD-Hiperaktif-dan-kurang-fokus': <tf.Tensor 'Caregiver-ADHD-Hiperaktif-dan-kurang-fokus:0' shape=(None, None) dtype=int32>, 'Caregiver-Depresi': <tf.Tensor 'Caregiver-Depresi:0' shape=(None, None) dtype=int32>, 'Caregiver-Gangguan-kecemasan': <tf.Tensor 'Caregiver-Gangguan-kecemasan:0' shape=(None, None) dtype=int32>, 'Caregiver-Gangguan-makan': <tf.Tensor 'Caregiver-Gangguan-makan:0' shape=(None, None) dtype=int32>, 'Caregiver-Gangguan-stres-pascatrauma': <tf.Tensor 'Caregiver-Gangguan-stres-pascatrauma:0' shape=(None, None) dtype=int32>, 'Caregiver-Skizofrenia': <tf.Tensor 'Caregiver-Skizofrenia:0' shape=(None, None) dtype=int32>}. Consider rewriting this model with the Functional API.\n"
     ]
    },
    {
     "name": "stdout",
     "output_type": "stream",
     "text": [
      "WARNING:tensorflow:Layers in a Sequential model should only have a single input tensor. Received: inputs={'CAREGIVER_ID': <tf.Tensor 'CAREGIVER_ID:0' shape=(None, None) dtype=int64>, 'Caregiver_Gender': <tf.Tensor 'Caregiver_Gender:0' shape=(None, None) dtype=string>, 'Caregiver_Age': <tf.Tensor 'Caregiver_Age:0' shape=(None, None) dtype=int64>, 'Caregiver-ADHD-Hiperaktif-dan-kurang-fokus': <tf.Tensor 'Caregiver-ADHD-Hiperaktif-dan-kurang-fokus:0' shape=(None, None) dtype=int32>, 'Caregiver-Depresi': <tf.Tensor 'Caregiver-Depresi:0' shape=(None, None) dtype=int32>, 'Caregiver-Gangguan-kecemasan': <tf.Tensor 'Caregiver-Gangguan-kecemasan:0' shape=(None, None) dtype=int32>, 'Caregiver-Gangguan-makan': <tf.Tensor 'Caregiver-Gangguan-makan:0' shape=(None, None) dtype=int32>, 'Caregiver-Gangguan-stres-pascatrauma': <tf.Tensor 'Caregiver-Gangguan-stres-pascatrauma:0' shape=(None, None) dtype=int32>, 'Caregiver-Skizofrenia': <tf.Tensor 'Caregiver-Skizofrenia:0' shape=(None, None) dtype=int32>}. Consider rewriting this model with the Functional API.\n"
     ]
    },
    {
     "name": "stderr",
     "output_type": "stream",
     "text": [
      "WARNING:tensorflow:Layers in a Sequential model should only have a single input tensor. Received: inputs={'CAREGIVER_ID': <tf.Tensor 'CAREGIVER_ID:0' shape=(None, None) dtype=int64>, 'Caregiver_Gender': <tf.Tensor 'Caregiver_Gender:0' shape=(None, None) dtype=string>, 'Caregiver_Age': <tf.Tensor 'Caregiver_Age:0' shape=(None, None) dtype=int64>, 'Caregiver-ADHD-Hiperaktif-dan-kurang-fokus': <tf.Tensor 'Caregiver-ADHD-Hiperaktif-dan-kurang-fokus:0' shape=(None, None) dtype=int32>, 'Caregiver-Depresi': <tf.Tensor 'Caregiver-Depresi:0' shape=(None, None) dtype=int32>, 'Caregiver-Gangguan-kecemasan': <tf.Tensor 'Caregiver-Gangguan-kecemasan:0' shape=(None, None) dtype=int32>, 'Caregiver-Gangguan-makan': <tf.Tensor 'Caregiver-Gangguan-makan:0' shape=(None, None) dtype=int32>, 'Caregiver-Gangguan-stres-pascatrauma': <tf.Tensor 'Caregiver-Gangguan-stres-pascatrauma:0' shape=(None, None) dtype=int32>, 'Caregiver-Skizofrenia': <tf.Tensor 'Caregiver-Skizofrenia:0' shape=(None, None) dtype=int32>}. Consider rewriting this model with the Functional API.\n"
     ]
    },
    {
     "name": "stdout",
     "output_type": "stream",
     "text": [
      "WARNING:tensorflow:Layers in a Sequential model should only have a single input tensor. Received: inputs={'CAREGIVER_ID': <tf.Tensor 'inputs/CAREGIVER_ID:0' shape=(None, None) dtype=int64>, 'Caregiver_Gender': <tf.Tensor 'inputs/Caregiver_Gender:0' shape=(None, None) dtype=string>, 'Caregiver_Age': <tf.Tensor 'inputs/Caregiver_Age:0' shape=(None, None) dtype=int64>, 'Caregiver-ADHD-Hiperaktif-dan-kurang-fokus': <tf.Tensor 'inputs/Caregiver-ADHD-Hiperaktif-dan-kurang-fokus:0' shape=(None, None) dtype=int32>, 'Caregiver-Depresi': <tf.Tensor 'inputs/Caregiver-Depresi:0' shape=(None, None) dtype=int32>, 'Caregiver-Gangguan-kecemasan': <tf.Tensor 'inputs/Caregiver-Gangguan-kecemasan:0' shape=(None, None) dtype=int32>, 'Caregiver-Gangguan-makan': <tf.Tensor 'inputs/Caregiver-Gangguan-makan:0' shape=(None, None) dtype=int32>, 'Caregiver-Gangguan-stres-pascatrauma': <tf.Tensor 'inputs/Caregiver-Gangguan-stres-pascatrauma:0' shape=(None, None) dtype=int32>, 'Caregiver-Skizofrenia': <tf.Tensor 'inputs/Caregiver-Skizofrenia:0' shape=(None, None) dtype=int32>}. Consider rewriting this model with the Functional API.\n"
     ]
    },
    {
     "name": "stderr",
     "output_type": "stream",
     "text": [
      "WARNING:tensorflow:Layers in a Sequential model should only have a single input tensor. Received: inputs={'CAREGIVER_ID': <tf.Tensor 'inputs/CAREGIVER_ID:0' shape=(None, None) dtype=int64>, 'Caregiver_Gender': <tf.Tensor 'inputs/Caregiver_Gender:0' shape=(None, None) dtype=string>, 'Caregiver_Age': <tf.Tensor 'inputs/Caregiver_Age:0' shape=(None, None) dtype=int64>, 'Caregiver-ADHD-Hiperaktif-dan-kurang-fokus': <tf.Tensor 'inputs/Caregiver-ADHD-Hiperaktif-dan-kurang-fokus:0' shape=(None, None) dtype=int32>, 'Caregiver-Depresi': <tf.Tensor 'inputs/Caregiver-Depresi:0' shape=(None, None) dtype=int32>, 'Caregiver-Gangguan-kecemasan': <tf.Tensor 'inputs/Caregiver-Gangguan-kecemasan:0' shape=(None, None) dtype=int32>, 'Caregiver-Gangguan-makan': <tf.Tensor 'inputs/Caregiver-Gangguan-makan:0' shape=(None, None) dtype=int32>, 'Caregiver-Gangguan-stres-pascatrauma': <tf.Tensor 'inputs/Caregiver-Gangguan-stres-pascatrauma:0' shape=(None, None) dtype=int32>, 'Caregiver-Skizofrenia': <tf.Tensor 'inputs/Caregiver-Skizofrenia:0' shape=(None, None) dtype=int32>}. Consider rewriting this model with the Functional API.\n"
     ]
    },
    {
     "name": "stdout",
     "output_type": "stream",
     "text": [
      "WARNING:tensorflow:Layers in a Sequential model should only have a single input tensor. Received: inputs={'CAREGIVER_ID': <tf.Tensor 'inputs/CAREGIVER_ID:0' shape=(None, None) dtype=int64>, 'Caregiver_Gender': <tf.Tensor 'inputs/Caregiver_Gender:0' shape=(None, None) dtype=string>, 'Caregiver_Age': <tf.Tensor 'inputs/Caregiver_Age:0' shape=(None, None) dtype=int64>, 'Caregiver-ADHD-Hiperaktif-dan-kurang-fokus': <tf.Tensor 'inputs/Caregiver-ADHD-Hiperaktif-dan-kurang-fokus:0' shape=(None, None) dtype=int32>, 'Caregiver-Depresi': <tf.Tensor 'inputs/Caregiver-Depresi:0' shape=(None, None) dtype=int32>, 'Caregiver-Gangguan-kecemasan': <tf.Tensor 'inputs/Caregiver-Gangguan-kecemasan:0' shape=(None, None) dtype=int32>, 'Caregiver-Gangguan-makan': <tf.Tensor 'inputs/Caregiver-Gangguan-makan:0' shape=(None, None) dtype=int32>, 'Caregiver-Gangguan-stres-pascatrauma': <tf.Tensor 'inputs/Caregiver-Gangguan-stres-pascatrauma:0' shape=(None, None) dtype=int32>, 'Caregiver-Skizofrenia': <tf.Tensor 'inputs/Caregiver-Skizofrenia:0' shape=(None, None) dtype=int32>}. Consider rewriting this model with the Functional API.\n"
     ]
    },
    {
     "name": "stderr",
     "output_type": "stream",
     "text": [
      "WARNING:tensorflow:Layers in a Sequential model should only have a single input tensor. Received: inputs={'CAREGIVER_ID': <tf.Tensor 'inputs/CAREGIVER_ID:0' shape=(None, None) dtype=int64>, 'Caregiver_Gender': <tf.Tensor 'inputs/Caregiver_Gender:0' shape=(None, None) dtype=string>, 'Caregiver_Age': <tf.Tensor 'inputs/Caregiver_Age:0' shape=(None, None) dtype=int64>, 'Caregiver-ADHD-Hiperaktif-dan-kurang-fokus': <tf.Tensor 'inputs/Caregiver-ADHD-Hiperaktif-dan-kurang-fokus:0' shape=(None, None) dtype=int32>, 'Caregiver-Depresi': <tf.Tensor 'inputs/Caregiver-Depresi:0' shape=(None, None) dtype=int32>, 'Caregiver-Gangguan-kecemasan': <tf.Tensor 'inputs/Caregiver-Gangguan-kecemasan:0' shape=(None, None) dtype=int32>, 'Caregiver-Gangguan-makan': <tf.Tensor 'inputs/Caregiver-Gangguan-makan:0' shape=(None, None) dtype=int32>, 'Caregiver-Gangguan-stres-pascatrauma': <tf.Tensor 'inputs/Caregiver-Gangguan-stres-pascatrauma:0' shape=(None, None) dtype=int32>, 'Caregiver-Skizofrenia': <tf.Tensor 'inputs/Caregiver-Skizofrenia:0' shape=(None, None) dtype=int32>}. Consider rewriting this model with the Functional API.\n",
      "WARNING:absl:Function `_wrapped_model` contains input name(s) CAREGIVER_ID, Caregiver-ADHD-Hiperaktif-dan-kurang-fokus, Caregiver-Depresi, Caregiver-Gangguan-kecemasan, Caregiver-Gangguan-makan, Caregiver-Gangguan-stres-pascatrauma, Caregiver-Skizofrenia, Caregiver_Age, Caregiver_Gender with unsupported characters which will be renamed to caregiver_id, caregiver_adhd_hiperaktif_dan_kurang_fokus, caregiver_depresi, caregiver_gangguan_kecemasan, caregiver_gangguan_makan, caregiver_gangguan_stres_pascatrauma, caregiver_skizofrenia, caregiver_age, caregiver_gender in the SavedModel.\n"
     ]
    },
    {
     "name": "stdout",
     "output_type": "stream",
     "text": [
      "INFO:tensorflow:Assets written to: saved_model/caregiver_query_v1\\assets\n"
     ]
    },
    {
     "name": "stderr",
     "output_type": "stream",
     "text": [
      "INFO:tensorflow:Assets written to: saved_model/caregiver_query_v1\\assets\n"
     ]
    }
   ],
   "source": [
    "tf.saved_model.save(model.caregiver_model, 'saved_model/caregiver_query_v1')"
   ]
  },
  {
   "cell_type": "code",
   "execution_count": null,
   "id": "10428d96",
   "metadata": {},
   "outputs": [],
   "source": []
  }
 ],
 "metadata": {
  "kernelspec": {
   "display_name": "Python 3",
   "language": "python",
   "name": "python3"
  },
  "language_info": {
   "codemirror_mode": {
    "name": "ipython",
    "version": 3
   },
   "file_extension": ".py",
   "mimetype": "text/x-python",
   "name": "python",
   "nbconvert_exporter": "python",
   "pygments_lexer": "ipython3",
   "version": "3.9.11"
  }
 },
 "nbformat": 4,
 "nbformat_minor": 5
}
