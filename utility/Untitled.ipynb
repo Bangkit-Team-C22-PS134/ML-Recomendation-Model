{
 "cells": [
  {
   "cell_type": "code",
   "execution_count": 1,
   "id": "ef3313e8",
   "metadata": {},
   "outputs": [],
   "source": [
    "import os\n",
    "import tensorflow as tf\n",
    "import json\n",
    "import pandas as pd\n",
    "from os import getenv\n",
    "#from keras import models\n",
    "from firebase_admin import credentials, firestore, initialize_app"
   ]
  },
  {
   "cell_type": "code",
   "execution_count": 2,
   "id": "e913dd2a",
   "metadata": {},
   "outputs": [],
   "source": [
    "cred = credentials.Certificate(\"key.json\")\n",
    "default_app = initialize_app(cred)\n",
    "db = firestore.client()"
   ]
  },
  {
   "cell_type": "code",
   "execution_count": 3,
   "id": "5ee355ee",
   "metadata": {},
   "outputs": [],
   "source": [
    "class User(object):\n",
    "    def __init__(self, USER_ID, Nama, Gender, Age, Tipe_Masalah):\n",
    "        self.USER_ID = USER_ID\n",
    "        self.Nama = Nama\n",
    "        self.Gender = Gender\n",
    "        self.Age = Age\n",
    "        self.Tipe_Masalah = Tipe_Masalah\n",
    "\n",
    "    @staticmethod\n",
    "    def from_json_do_not_use(source):\n",
    "        \"\"\"\n",
    "        Source is expected from pure json string\n",
    "        \"\"\"\n",
    "        return source\n",
    "\n",
    "    @staticmethod\n",
    "    def from_dict(source):\n",
    "        # [START_EXCLUDE]\n",
    "        user = User(source[u'USER_ID'], source[u'Nama'], source[u'Gender'], source[u'Age'], source[u'Tipe_Masalah'])\n",
    "\n",
    "        if u'USER_ID' in source:\n",
    "            user.USER_ID = source[u'USER_ID']\n",
    "\n",
    "        if u'Nama' in source:\n",
    "            user.Nama = source[u'Nama']\n",
    "\n",
    "        if u'Gender' in source:\n",
    "            user.Gender = source[u'Gender']\n",
    "\n",
    "        if u'Age' in source:\n",
    "            user.Age = source[u'Age']\n",
    "\n",
    "        if u'Tipe_Masalah' in source:\n",
    "            user.Tipe_Masalah = source[u'Tipe_Masalah']\n",
    "\n",
    "        return user\n",
    "        # [END_EXCLUDE]\n",
    "\n",
    "    def to_dict(self):\n",
    "        # [START_EXCLUDE]\n",
    "        dest = {\n",
    "            u'USER_ID': self.USER_ID,\n",
    "            u'Nama': self.Nama,\n",
    "            u'Gender': self.Gender,\n",
    "            u'Age': self.Age,\n",
    "            u'Tipe_Masalah': self.Tipe_Masalah\n",
    "        }\n",
    "\n",
    "        if self.USER_ID:\n",
    "            dest[u'USER_ID'] = self.USER_ID\n",
    "\n",
    "        if self.Nama:\n",
    "            dest[u'Nama'] = self.Nama\n",
    "\n",
    "        if self.Gender:\n",
    "            dest[u'Gender'] = self.Gender\n",
    "\n",
    "        if self.Age:\n",
    "            dest[u'Age'] = self.Age\n",
    "\n",
    "        if self.Tipe_Masalah:\n",
    "            dest[u'Tipe_Masalah'] = self.Tipe_Masalah\n",
    "\n",
    "        return dest\n",
    "        # [END_EXCLUDE]\n",
    "\n",
    "    \n",
    "    def __repr__(self):\n",
    "        return (\n",
    "            f'City(\\\n",
    "                USER_ID={self.USER_ID}, \\\n",
    "                Nama={self.Nama}, \\\n",
    "                Age={self.Age}, \\\n",
    "                Gender={self.Gender}, \\\n",
    "                Tipe_Masalah={self.Tipe_Masalah}\\\n",
    "            )'\n",
    "        )"
   ]
  },
  {
   "cell_type": "code",
   "execution_count": 4,
   "id": "faa75d42",
   "metadata": {},
   "outputs": [],
   "source": [
    "zidan = User(1, \"zidan\", \"pria\", 43, \"Depresi\")"
   ]
  },
  {
   "cell_type": "code",
   "execution_count": 5,
   "id": "4146df79",
   "metadata": {},
   "outputs": [
    {
     "data": {
      "text/plain": [
       "City(                USER_ID=1,                 Nama=zidan,                 Age=43,                 Gender=pria,                 Tipe_Masalah=Depresi            )"
      ]
     },
     "execution_count": 5,
     "metadata": {},
     "output_type": "execute_result"
    }
   ],
   "source": [
    "zidan"
   ]
  },
  {
   "cell_type": "code",
   "execution_count": 6,
   "id": "369d698a",
   "metadata": {},
   "outputs": [
    {
     "data": {
      "text/plain": [
       "__main__.User"
      ]
     },
     "execution_count": 6,
     "metadata": {},
     "output_type": "execute_result"
    }
   ],
   "source": [
    "type(zidan)"
   ]
  },
  {
   "cell_type": "code",
   "execution_count": 7,
   "id": "f5583517",
   "metadata": {},
   "outputs": [
    {
     "data": {
      "text/plain": [
       "dict"
      ]
     },
     "execution_count": 7,
     "metadata": {},
     "output_type": "execute_result"
    }
   ],
   "source": [
    "type(zidan.to_dict())"
   ]
  },
  {
   "cell_type": "code",
   "execution_count": 8,
   "id": "813e2fe2",
   "metadata": {},
   "outputs": [],
   "source": [
    "import pathlib\n",
    "import os\n",
    "\n",
    "user_file = \"\\\\Data\\\\Processed User Data.json\"\n",
    "caregiver_file = \"\\\\Data\\\\Processed Caregiver Data.json\"\n",
    "\n",
    "path = pathlib.Path().resolve()\n",
    "parent_path = path.parent.absolute()\n",
    "\n",
    "user_path = str(parent_path) + user_file\n",
    "caregiver_ = str(parent_path) + caregiver_file"
   ]
  },
  {
   "cell_type": "code",
   "execution_count": 9,
   "id": "38f9da10",
   "metadata": {},
   "outputs": [],
   "source": [
    "\n",
    "with open(user_path) as file:\n",
    "    data = json.load(file)\n",
    "    db_user_placeholder = db.collection(u'User_Data_Placeholder')\n",
    "    for user_dict in data:\n",
    "        user_dict['Nama'] = 'placeholder_nama'\n",
    "        user_dict['Text'] = 'Placeholder_text'\n",
    "        db_user_placeholder.add(user_dict)"
   ]
  },
  {
   "cell_type": "code",
   "execution_count": 10,
   "id": "5e199bb7",
   "metadata": {},
   "outputs": [],
   "source": [
    "data = db.collection(u'User_Data_Placeholder').get()\n"
   ]
  },
  {
   "cell_type": "code",
   "execution_count": 20,
   "id": "99c1d749",
   "metadata": {},
   "outputs": [],
   "source": [
    "def convert_snapshot(data, desired_key):\n",
    "    \"\"\"\n",
    "    this extract desired keys from list of dicts from snapshot\n",
    "    \"\"\"\n",
    "    data_dictionary = map(lambda x: x.to_dict(), data)\n",
    "    x = map(lambda x: dict((k, x[k]) for k in desired_key if k in x) , list(data_dictionary))\n",
    "    \n",
    "    return list(x)"
   ]
  },
  {
   "cell_type": "code",
   "execution_count": 21,
   "id": "6b753765",
   "metadata": {},
   "outputs": [],
   "source": [
    "new_data = convert_snapshot(data, [\"Age\",\"Tipe_Masalah\",\"Gender\",\"Text\"])"
   ]
  },
  {
   "cell_type": "code",
   "execution_count": 22,
   "id": "0ab4f5e3",
   "metadata": {},
   "outputs": [
    {
     "name": "stdout",
     "output_type": "stream",
     "text": [
      "[{'Age': 27, 'Tipe_Masalah': 'Gangguan-kecemasan', 'Gender': 'Pria', 'Text': 'Placeholder_text'}, {'Age': 22, 'Tipe_Masalah': 'Gangguan-makan ADHD-Hiperaktif-dan-kurang-fokus', 'Gender': 'Pria', 'Text': 'Placeholder_text'}, {'Age': 44, 'Tipe_Masalah': 'Skizofrenia Depresi', 'Gender': 'Perempuan', 'Text': 'Placeholder_text'}, {'Age': 34, 'Tipe_Masalah': 'Skizofrenia', 'Gender': 'Perempuan', 'Text': 'Placeholder_text'}, {'Age': 44, 'Tipe_Masalah': 'Depresi', 'Gender': 'Perempuan', 'Text': 'Placeholder_text'}, {'Age': 37, 'Tipe_Masalah': 'Gangguan-stres-pascatrauma', 'Gender': 'Pria', 'Text': 'Placeholder_text'}, {'Age': 27, 'Tipe_Masalah': 'Depresi', 'Gender': 'Pria', 'Text': 'Placeholder_text'}, {'Age': 22, 'Tipe_Masalah': 'Gangguan-stres-pascatrauma', 'Gender': 'Pria', 'Text': 'Placeholder_text'}, {'Age': 39, 'Tipe_Masalah': 'Depresi Gangguan-kecemasan', 'Gender': 'Pria', 'Text': 'Placeholder_text'}, {'Age': 40, 'Tipe_Masalah': 'Gangguan-stres-pascatrauma ADHD-Hiperaktif-dan-kurang-fokus', 'Gender': 'Perempuan', 'Text': 'Placeholder_text'}, {'Age': 40, 'Tipe_Masalah': 'Depresi Skizofrenia', 'Gender': 'Pria', 'Text': 'Placeholder_text'}, {'Age': 28, 'Tipe_Masalah': 'Skizofrenia ADHD-Hiperaktif-dan-kurang-fokus Gangguan-stres-pascatrauma', 'Gender': 'Perempuan', 'Text': 'Placeholder_text'}, {'Age': 35, 'Tipe_Masalah': 'Skizofrenia Depresi', 'Gender': 'Perempuan', 'Text': 'Placeholder_text'}, {'Age': 27, 'Tipe_Masalah': 'Skizofrenia ADHD-Hiperaktif-dan-kurang-fokus', 'Gender': 'Pria', 'Text': 'Placeholder_text'}, {'Age': 36, 'Tipe_Masalah': 'Gangguan-stres-pascatrauma Gangguan-makan', 'Gender': 'Perempuan', 'Text': 'Placeholder_text'}, {'Age': 43, 'Tipe_Masalah': 'Skizofrenia ADHD-Hiperaktif-dan-kurang-fokus', 'Gender': 'Perempuan', 'Text': 'Placeholder_text'}, {'Age': 39, 'Tipe_Masalah': 'ADHD-Hiperaktif-dan-kurang-fokus Depresi Gangguan-kecemasan', 'Gender': 'Perempuan', 'Text': 'Placeholder_text'}, {'Age': 35, 'Tipe_Masalah': 'Gangguan-stres-pascatrauma Depresi', 'Gender': 'Pria', 'Text': 'Placeholder_text'}, {'Age': 39, 'Tipe_Masalah': 'Skizofrenia', 'Gender': 'Pria', 'Text': 'Placeholder_text'}, {'Age': 38, 'Tipe_Masalah': 'ADHD-Hiperaktif-dan-kurang-fokus Gangguan-kecemasan', 'Gender': 'Pria', 'Text': 'Placeholder_text'}, {'Age': 29, 'Tipe_Masalah': 'Depresi', 'Gender': 'Pria', 'Text': 'Placeholder_text'}, {'Age': 28, 'Tipe_Masalah': 'Skizofrenia Gangguan-makan', 'Gender': 'Perempuan', 'Text': 'Placeholder_text'}, {'Age': 28, 'Tipe_Masalah': 'Gangguan-makan Depresi', 'Gender': 'Pria', 'Text': 'Placeholder_text'}, {'Age': 37, 'Tipe_Masalah': 'Gangguan-stres-pascatrauma', 'Gender': 'Pria', 'Text': 'Placeholder_text'}, {'Age': 21, 'Tipe_Masalah': 'Skizofrenia', 'Gender': 'Perempuan', 'Text': 'Placeholder_text'}, {'Age': 38, 'Tipe_Masalah': 'ADHD-Hiperaktif-dan-kurang-fokus Gangguan-kecemasan', 'Gender': 'Pria', 'Text': 'Placeholder_text'}, {'Age': 28, 'Tipe_Masalah': 'ADHD-Hiperaktif-dan-kurang-fokus Gangguan-stres-pascatrauma', 'Gender': 'Pria', 'Text': 'Placeholder_text'}, {'Age': 31, 'Tipe_Masalah': 'Skizofrenia Depresi ADHD-Hiperaktif-dan-kurang-fokus', 'Gender': 'Pria', 'Text': 'Placeholder_text'}, {'Age': 26, 'Tipe_Masalah': 'ADHD-Hiperaktif-dan-kurang-fokus', 'Gender': 'Perempuan', 'Text': 'Placeholder_text'}, {'Age': 39, 'Tipe_Masalah': 'Skizofrenia', 'Gender': 'Pria', 'Text': 'Placeholder_text'}, {'Age': 31, 'Tipe_Masalah': 'ADHD-Hiperaktif-dan-kurang-fokus Gangguan-stres-pascatrauma', 'Gender': 'Perempuan', 'Text': 'Placeholder_text'}, {'Age': 43, 'Tipe_Masalah': 'Gangguan-kecemasan Gangguan-makan', 'Gender': 'Pria', 'Text': 'Placeholder_text'}, {'Age': 33, 'Tipe_Masalah': 'Skizofrenia', 'Gender': 'Perempuan', 'Text': 'Placeholder_text'}, {'Age': 34, 'Tipe_Masalah': 'Gangguan-stres-pascatrauma Gangguan-makan', 'Gender': 'Perempuan', 'Text': 'Placeholder_text'}, {'Age': 23, 'Tipe_Masalah': 'Skizofrenia Gangguan-kecemasan', 'Gender': 'Perempuan', 'Text': 'Placeholder_text'}, {'Age': 32, 'Tipe_Masalah': 'Depresi', 'Gender': 'Perempuan', 'Text': 'Placeholder_text'}, {'Age': 22, 'Tipe_Masalah': 'ADHD-Hiperaktif-dan-kurang-fokus', 'Gender': 'Pria', 'Text': 'Placeholder_text'}, {'Age': 23, 'Tipe_Masalah': 'Gangguan-makan', 'Gender': 'Perempuan', 'Text': 'Placeholder_text'}, {'Age': 32, 'Tipe_Masalah': 'Gangguan-stres-pascatrauma Gangguan-kecemasan', 'Gender': 'Pria', 'Text': 'Placeholder_text'}, {'Age': 44, 'Tipe_Masalah': 'ADHD-Hiperaktif-dan-kurang-fokus Gangguan-makan', 'Gender': 'Pria', 'Text': 'Placeholder_text'}, {'Age': 44, 'Tipe_Masalah': 'ADHD-Hiperaktif-dan-kurang-fokus Skizofrenia Gangguan-stres-pascatrauma', 'Gender': 'Pria', 'Text': 'Placeholder_text'}, {'Age': 20, 'Tipe_Masalah': 'Skizofrenia', 'Gender': 'Pria', 'Text': 'Placeholder_text'}, {'Age': 31, 'Tipe_Masalah': 'ADHD-Hiperaktif-dan-kurang-fokus Gangguan-kecemasan', 'Gender': 'Perempuan', 'Text': 'Placeholder_text'}, {'Age': 20, 'Tipe_Masalah': 'Depresi ADHD-Hiperaktif-dan-kurang-fokus Gangguan-stres-pascatrauma', 'Gender': 'Pria', 'Text': 'Placeholder_text'}, {'Age': 27, 'Tipe_Masalah': 'Depresi Skizofrenia', 'Gender': 'Perempuan', 'Text': 'Placeholder_text'}, {'Age': 24, 'Tipe_Masalah': 'Gangguan-makan Depresi', 'Gender': 'Perempuan', 'Text': 'Placeholder_text'}, {'Age': 39, 'Tipe_Masalah': 'Depresi Gangguan-kecemasan', 'Gender': 'Pria', 'Text': 'Placeholder_text'}, {'Age': 31, 'Tipe_Masalah': 'Depresi ADHD-Hiperaktif-dan-kurang-fokus', 'Gender': 'Perempuan', 'Text': 'Placeholder_text'}, {'Age': 42, 'Tipe_Masalah': 'ADHD-Hiperaktif-dan-kurang-fokus', 'Gender': 'Pria', 'Text': 'Placeholder_text'}, {'Age': 34, 'Tipe_Masalah': 'Skizofrenia', 'Gender': 'Perempuan', 'Text': 'Placeholder_text'}, {'Age': 39, 'Tipe_Masalah': 'Gangguan-kecemasan Skizofrenia', 'Gender': 'Perempuan', 'Text': 'Placeholder_text'}, {'Age': 31, 'Tipe_Masalah': 'ADHD-Hiperaktif-dan-kurang-fokus Gangguan-kecemasan', 'Gender': 'Perempuan', 'Text': 'Placeholder_text'}, {'Age': 31, 'Tipe_Masalah': 'ADHD-Hiperaktif-dan-kurang-fokus Gangguan-stres-pascatrauma', 'Gender': 'Perempuan', 'Text': 'Placeholder_text'}, {'Age': 28, 'Tipe_Masalah': 'Gangguan-makan Depresi', 'Gender': 'Pria', 'Text': 'Placeholder_text'}, {'Age': 35, 'Tipe_Masalah': 'Skizofrenia Gangguan-stres-pascatrauma', 'Gender': 'Pria', 'Text': 'Placeholder_text'}, {'Age': 44, 'Tipe_Masalah': 'Skizofrenia Depresi', 'Gender': 'Perempuan', 'Text': 'Placeholder_text'}, {'Age': 36, 'Tipe_Masalah': 'Gangguan-makan Gangguan-stres-pascatrauma', 'Gender': 'Pria', 'Text': 'Placeholder_text'}, {'Age': 43, 'Tipe_Masalah': 'Skizofrenia ADHD-Hiperaktif-dan-kurang-fokus', 'Gender': 'Perempuan', 'Text': 'Placeholder_text'}, {'Age': 40, 'Tipe_Masalah': 'Gangguan-kecemasan', 'Gender': 'Perempuan', 'Text': 'Placeholder_text'}, {'Age': 44, 'Tipe_Masalah': 'Depresi', 'Gender': 'Perempuan', 'Text': 'Placeholder_text'}, {'Age': 45, 'Tipe_Masalah': 'Gangguan-kecemasan', 'Gender': 'Pria', 'Text': 'Placeholder_text'}, {'Age': 45, 'Tipe_Masalah': 'ADHD-Hiperaktif-dan-kurang-fokus Depresi Gangguan-stres-pascatrauma', 'Gender': 'Pria', 'Text': 'Placeholder_text'}, {'Age': 21, 'Tipe_Masalah': 'Skizofrenia', 'Gender': 'Pria', 'Text': 'Placeholder_text'}, {'Age': 32, 'Tipe_Masalah': 'Gangguan-stres-pascatrauma Gangguan-kecemasan', 'Gender': 'Pria', 'Text': 'Placeholder_text'}, {'Age': 43, 'Tipe_Masalah': 'Gangguan-stres-pascatrauma Gangguan-makan Depresi', 'Gender': 'Perempuan', 'Text': 'Placeholder_text'}, {'Age': 21, 'Tipe_Masalah': 'Depresi', 'Gender': 'Perempuan', 'Text': 'Placeholder_text'}, {'Age': 42, 'Tipe_Masalah': 'Gangguan-kecemasan Gangguan-stres-pascatrauma', 'Gender': 'Pria', 'Text': 'Placeholder_text'}, {'Age': 40, 'Tipe_Masalah': 'Gangguan-kecemasan', 'Gender': 'Perempuan', 'Text': 'Placeholder_text'}, {'Age': 40, 'Tipe_Masalah': 'Gangguan-stres-pascatrauma ADHD-Hiperaktif-dan-kurang-fokus', 'Gender': 'Perempuan', 'Text': 'Placeholder_text'}, {'Age': 40, 'Tipe_Masalah': 'Depresi Skizofrenia', 'Gender': 'Pria', 'Text': 'Placeholder_text'}, {'Age': 23, 'Tipe_Masalah': 'Skizofrenia ADHD-Hiperaktif-dan-kurang-fokus', 'Gender': 'Perempuan', 'Text': 'Placeholder_text'}, {'Age': 43, 'Tipe_Masalah': 'Depresi Gangguan-stres-pascatrauma', 'Gender': 'Perempuan', 'Text': 'Placeholder_text'}, {'Age': 41, 'Tipe_Masalah': 'Gangguan-stres-pascatrauma Gangguan-makan', 'Gender': 'Pria', 'Text': 'Placeholder_text'}, {'Age': 28, 'Tipe_Masalah': 'Skizofrenia Gangguan-makan', 'Gender': 'Perempuan', 'Text': 'Placeholder_text'}, {'Age': 36, 'Tipe_Masalah': 'Gangguan-stres-pascatrauma Gangguan-makan', 'Gender': 'Perempuan', 'Text': 'Placeholder_text'}, {'Age': 27, 'Tipe_Masalah': 'Depresi', 'Gender': 'Pria', 'Text': 'Placeholder_text'}, {'Age': 34, 'Tipe_Masalah': 'Depresi Skizofrenia', 'Gender': 'Pria', 'Text': 'Placeholder_text'}, {'Age': 27, 'Tipe_Masalah': 'Gangguan-makan ADHD-Hiperaktif-dan-kurang-fokus', 'Gender': 'Pria', 'Text': 'Placeholder_text'}, {'Age': 45, 'Tipe_Masalah': 'ADHD-Hiperaktif-dan-kurang-fokus Depresi Gangguan-stres-pascatrauma', 'Gender': 'Pria', 'Text': 'Placeholder_text'}, {'Age': 44, 'Tipe_Masalah': 'Skizofrenia ADHD-Hiperaktif-dan-kurang-fokus', 'Gender': 'Perempuan', 'Text': 'Placeholder_text'}, {'Age': 23, 'Tipe_Masalah': 'Skizofrenia Gangguan-kecemasan', 'Gender': 'Perempuan', 'Text': 'Placeholder_text'}, {'Age': 34, 'Tipe_Masalah': 'Depresi Gangguan-stres-pascatrauma', 'Gender': 'Pria', 'Text': 'Placeholder_text'}, {'Age': 38, 'Tipe_Masalah': 'Depresi Gangguan-stres-pascatrauma', 'Gender': 'Perempuan', 'Text': 'Placeholder_text'}, {'Age': 20, 'Tipe_Masalah': 'Depresi ADHD-Hiperaktif-dan-kurang-fokus Gangguan-stres-pascatrauma', 'Gender': 'Pria', 'Text': 'Placeholder_text'}, {'Age': 32, 'Tipe_Masalah': 'Depresi Gangguan-makan', 'Gender': 'Perempuan', 'Text': 'Placeholder_text'}, {'Age': 39, 'Tipe_Masalah': 'ADHD-Hiperaktif-dan-kurang-fokus Depresi Gangguan-kecemasan', 'Gender': 'Perempuan', 'Text': 'Placeholder_text'}, {'Age': 28, 'Tipe_Masalah': 'Gangguan-makan Depresi', 'Gender': 'Pria', 'Text': 'Placeholder_text'}, {'Age': 23, 'Tipe_Masalah': 'Gangguan-kecemasan', 'Gender': 'Pria', 'Text': 'Placeholder_text'}, {'Age': 27, 'Tipe_Masalah': 'Depresi Skizofrenia', 'Gender': 'Perempuan', 'Text': 'Placeholder_text'}, {'Age': 21, 'Tipe_Masalah': 'ADHD-Hiperaktif-dan-kurang-fokus Gangguan-kecemasan', 'Gender': 'Pria', 'Text': 'Placeholder_text'}, {'Age': 44, 'Tipe_Masalah': 'Skizofrenia ADHD-Hiperaktif-dan-kurang-fokus', 'Gender': 'Perempuan', 'Text': 'Placeholder_text'}, {'Age': 21, 'Tipe_Masalah': 'ADHD-Hiperaktif-dan-kurang-fokus Gangguan-kecemasan', 'Gender': 'Pria', 'Text': 'Placeholder_text'}, {'Age': 30, 'Tipe_Masalah': 'Depresi Skizofrenia', 'Gender': 'Perempuan', 'Text': 'Placeholder_text'}, {'Age': 20, 'Tipe_Masalah': 'Skizofrenia', 'Gender': 'Pria', 'Text': 'Placeholder_text'}, {'Age': 37, 'Tipe_Masalah': 'Skizofrenia', 'Gender': 'Pria', 'Text': 'Placeholder_text'}, {'Age': 45, 'Tipe_Masalah': 'ADHD-Hiperaktif-dan-kurang-fokus Gangguan-kecemasan', 'Gender': 'Perempuan', 'Text': 'Placeholder_text'}, {'Age': 18, 'Tipe_Masalah': 'Gangguan-stres-pascatrauma', 'Gender': 'Perempuan', 'Text': 'Placeholder_text'}, {'Age': 27, 'Tipe_Masalah': 'Skizofrenia ADHD-Hiperaktif-dan-kurang-fokus', 'Gender': 'Pria', 'Text': 'Placeholder_text'}, {'Age': 34, 'Tipe_Masalah': 'Gangguan-kecemasan Depresi', 'Gender': 'Perempuan', 'Text': 'Placeholder_text'}, {'Age': 28, 'Tipe_Masalah': 'Gangguan-kecemasan Depresi Gangguan-stres-pascatrauma', 'Gender': 'Pria', 'Text': 'Placeholder_text'}, {'Age': 37, 'Tipe_Masalah': 'ADHD-Hiperaktif-dan-kurang-fokus Gangguan-stres-pascatrauma', 'Gender': 'Perempuan', 'Text': 'Placeholder_text'}, {'Age': 28, 'Tipe_Masalah': 'Gangguan-makan Depresi', 'Gender': 'Pria', 'Text': 'Placeholder_text'}, {'Age': 43, 'Tipe_Masalah': 'Depresi Gangguan-stres-pascatrauma', 'Gender': 'Perempuan', 'Text': 'Placeholder_text'}, {'Age': 42, 'Tipe_Masalah': 'Gangguan-kecemasan Gangguan-stres-pascatrauma', 'Gender': 'Pria', 'Text': 'Placeholder_text'}, {'Age': 44, 'Tipe_Masalah': 'ADHD-Hiperaktif-dan-kurang-fokus Skizofrenia Gangguan-stres-pascatrauma', 'Gender': 'Pria', 'Text': 'Placeholder_text'}, {'Age': 39, 'Tipe_Masalah': 'Gangguan-kecemasan', 'Gender': 'Perempuan', 'Text': 'Placeholder_text'}, {'Age': 35, 'Tipe_Masalah': 'Depresi Gangguan-stres-pascatrauma', 'Gender': 'Pria', 'Text': 'Placeholder_text'}, {'Age': 22, 'Tipe_Masalah': 'ADHD-Hiperaktif-dan-kurang-fokus', 'Gender': 'Pria', 'Text': 'Placeholder_text'}, {'Age': 31, 'Tipe_Masalah': 'Skizofrenia Depresi ADHD-Hiperaktif-dan-kurang-fokus', 'Gender': 'Pria', 'Text': 'Placeholder_text'}, {'Age': 39, 'Tipe_Masalah': 'Gangguan-makan Depresi', 'Gender': 'Pria', 'Text': 'Placeholder_text'}, {'Age': 34, 'Tipe_Masalah': 'Gangguan-stres-pascatrauma Gangguan-makan', 'Gender': 'Perempuan', 'Text': 'Placeholder_text'}, {'Age': 40, 'Tipe_Masalah': 'ADHD-Hiperaktif-dan-kurang-fokus Gangguan-kecemasan Depresi', 'Gender': 'Perempuan', 'Text': 'Placeholder_text'}, {'Age': 31, 'Tipe_Masalah': 'Depresi Gangguan-kecemasan ADHD-Hiperaktif-dan-kurang-fokus', 'Gender': 'Perempuan', 'Text': 'Placeholder_text'}, {'Age': 42, 'Tipe_Masalah': 'Gangguan-stres-pascatrauma Depresi Gangguan-makan', 'Gender': 'Pria', 'Text': 'Placeholder_text'}, {'Age': 33, 'Tipe_Masalah': 'Skizofrenia Gangguan-makan', 'Gender': 'Pria', 'Text': 'Placeholder_text'}, {'Age': 34, 'Tipe_Masalah': 'Gangguan-kecemasan Depresi', 'Gender': 'Perempuan', 'Text': 'Placeholder_text'}, {'Age': 30, 'Tipe_Masalah': 'Gangguan-kecemasan Gangguan-stres-pascatrauma', 'Gender': 'Pria', 'Text': 'Placeholder_text'}, {'Age': 29, 'Tipe_Masalah': 'Depresi Gangguan-makan', 'Gender': 'Pria', 'Text': 'Placeholder_text'}, {'Age': 43, 'Tipe_Masalah': 'Gangguan-stres-pascatrauma Gangguan-makan Depresi', 'Gender': 'Perempuan', 'Text': 'Placeholder_text'}, {'Age': 31, 'Tipe_Masalah': 'Gangguan-kecemasan ADHD-Hiperaktif-dan-kurang-fokus', 'Gender': 'Perempuan', 'Text': 'Placeholder_text'}, {'Age': 30, 'Tipe_Masalah': 'Skizofrenia', 'Gender': 'Perempuan', 'Text': 'Placeholder_text'}, {'Age': 31, 'Tipe_Masalah': 'Gangguan-kecemasan Gangguan-makan', 'Gender': 'Pria', 'Text': 'Placeholder_text'}, {'Age': 31, 'Tipe_Masalah': 'Gangguan-kecemasan Gangguan-makan', 'Gender': 'Pria', 'Text': 'Placeholder_text'}, {'Age': 20, 'Tipe_Masalah': 'Depresi Gangguan-makan', 'Gender': 'Perempuan', 'Text': 'Placeholder_text'}, {'Age': 28, 'Tipe_Masalah': 'ADHD-Hiperaktif-dan-kurang-fokus Gangguan-stres-pascatrauma', 'Gender': 'Pria', 'Text': 'Placeholder_text'}, {'Age': 30, 'Tipe_Masalah': 'Gangguan-kecemasan Gangguan-stres-pascatrauma', 'Gender': 'Pria', 'Text': 'Placeholder_text'}, {'Age': 44, 'Tipe_Masalah': 'Gangguan-makan Gangguan-kecemasan', 'Gender': 'Pria', 'Text': 'Placeholder_text'}, {'Age': 23, 'Tipe_Masalah': 'Gangguan-makan', 'Gender': 'Perempuan', 'Text': 'Placeholder_text'}, {'Age': 43, 'Tipe_Masalah': 'Skizofrenia ADHD-Hiperaktif-dan-kurang-fokus', 'Gender': 'Pria', 'Text': 'Placeholder_text'}, {'Age': 42, 'Tipe_Masalah': 'Gangguan-stres-pascatrauma Depresi Gangguan-makan', 'Gender': 'Pria', 'Text': 'Placeholder_text'}, {'Age': 26, 'Tipe_Masalah': 'ADHD-Hiperaktif-dan-kurang-fokus', 'Gender': 'Perempuan', 'Text': 'Placeholder_text'}, {'Age': 30, 'Tipe_Masalah': 'Depresi Gangguan-kecemasan Gangguan-stres-pascatrauma', 'Gender': 'Pria', 'Text': 'Placeholder_text'}, {'Age': 27, 'Tipe_Masalah': 'Gangguan-kecemasan', 'Gender': 'Pria', 'Text': 'Placeholder_text'}, {'Age': 18, 'Tipe_Masalah': 'Gangguan-stres-pascatrauma', 'Gender': 'Perempuan', 'Text': 'Placeholder_text'}, {'Age': 44, 'Tipe_Masalah': 'Skizofrenia Gangguan-makan', 'Gender': 'Pria', 'Text': 'Placeholder_text'}, {'Age': 44, 'Tipe_Masalah': 'Skizofrenia Gangguan-makan', 'Gender': 'Pria', 'Text': 'Placeholder_text'}, {'Age': 31, 'Tipe_Masalah': 'Depresi ADHD-Hiperaktif-dan-kurang-fokus', 'Gender': 'Perempuan', 'Text': 'Placeholder_text'}, {'Age': 37, 'Tipe_Masalah': 'Skizofrenia', 'Gender': 'Pria', 'Text': 'Placeholder_text'}, {'Age': 32, 'Tipe_Masalah': 'Depresi Gangguan-makan', 'Gender': 'Perempuan', 'Text': 'Placeholder_text'}, {'Age': 37, 'Tipe_Masalah': 'ADHD-Hiperaktif-dan-kurang-fokus Gangguan-stres-pascatrauma', 'Gender': 'Perempuan', 'Text': 'Placeholder_text'}, {'Age': 29, 'Tipe_Masalah': 'Depresi Gangguan-makan', 'Gender': 'Pria', 'Text': 'Placeholder_text'}, {'Age': 19, 'Tipe_Masalah': 'Depresi Gangguan-kecemasan Gangguan-makan', 'Gender': 'Pria', 'Text': 'Placeholder_text'}, {'Age': 45, 'Tipe_Masalah': 'ADHD-Hiperaktif-dan-kurang-fokus Gangguan-kecemasan', 'Gender': 'Perempuan', 'Text': 'Placeholder_text'}, {'Age': 21, 'Tipe_Masalah': 'Skizofrenia', 'Gender': 'Perempuan', 'Text': 'Placeholder_text'}, {'Age': 22, 'Tipe_Masalah': 'Gangguan-makan ADHD-Hiperaktif-dan-kurang-fokus', 'Gender': 'Pria', 'Text': 'Placeholder_text'}, {'Age': 38, 'Tipe_Masalah': 'Depresi Gangguan-stres-pascatrauma', 'Gender': 'Perempuan', 'Text': 'Placeholder_text'}, {'Age': 39, 'Tipe_Masalah': 'Gangguan-makan Depresi', 'Gender': 'Pria', 'Text': 'Placeholder_text'}, {'Age': 34, 'Tipe_Masalah': 'Depresi Gangguan-stres-pascatrauma', 'Gender': 'Pria', 'Text': 'Placeholder_text'}, {'Age': 44, 'Tipe_Masalah': 'ADHD-Hiperaktif-dan-kurang-fokus Gangguan-makan', 'Gender': 'Pria', 'Text': 'Placeholder_text'}, {'Age': 31, 'Tipe_Masalah': 'Gangguan-kecemasan ADHD-Hiperaktif-dan-kurang-fokus', 'Gender': 'Perempuan', 'Text': 'Placeholder_text'}, {'Age': 39, 'Tipe_Masalah': 'Gangguan-kecemasan Skizofrenia', 'Gender': 'Perempuan', 'Text': 'Placeholder_text'}, {'Age': 45, 'Tipe_Masalah': 'Gangguan-kecemasan', 'Gender': 'Pria', 'Text': 'Placeholder_text'}, {'Age': 26, 'Tipe_Masalah': 'Skizofrenia Gangguan-makan', 'Gender': 'Pria', 'Text': 'Placeholder_text'}, {'Age': 25, 'Tipe_Masalah': 'Gangguan-stres-pascatrauma Gangguan-makan', 'Gender': 'Pria', 'Text': 'Placeholder_text'}, {'Age': 26, 'Tipe_Masalah': 'Skizofrenia Gangguan-makan', 'Gender': 'Pria', 'Text': 'Placeholder_text'}, {'Age': 36, 'Tipe_Masalah': 'Gangguan-makan Gangguan-stres-pascatrauma', 'Gender': 'Pria', 'Text': 'Placeholder_text'}, {'Age': 24, 'Tipe_Masalah': 'Gangguan-makan Depresi', 'Gender': 'Perempuan', 'Text': 'Placeholder_text'}, {'Age': 27, 'Tipe_Masalah': 'Gangguan-makan ADHD-Hiperaktif-dan-kurang-fokus Skizofrenia', 'Gender': 'Perempuan', 'Text': 'Placeholder_text'}, {'Age': 33, 'Tipe_Masalah': 'ADHD-Hiperaktif-dan-kurang-fokus', 'Gender': 'Perempuan', 'Text': 'Placeholder_text'}, {'Age': 23, 'Tipe_Masalah': 'Gangguan-kecemasan ADHD-Hiperaktif-dan-kurang-fokus', 'Gender': 'Perempuan', 'Text': 'Placeholder_text'}, {'Age': 21, 'Tipe_Masalah': 'Gangguan-makan', 'Gender': 'Pria', 'Text': 'Placeholder_text'}, {'Age': 22, 'Tipe_Masalah': 'Gangguan-stres-pascatrauma', 'Gender': 'Pria', 'Text': 'Placeholder_text'}, {'Age': 35, 'Tipe_Masalah': 'Depresi Gangguan-stres-pascatrauma', 'Gender': 'Pria', 'Text': 'Placeholder_text'}, {'Age': 20, 'Tipe_Masalah': 'Depresi Gangguan-makan', 'Gender': 'Perempuan', 'Text': 'Placeholder_text'}, {'Age': 32, 'Tipe_Masalah': 'Depresi', 'Gender': 'Perempuan', 'Text': 'Placeholder_text'}, {'Age': 25, 'Tipe_Masalah': 'Gangguan-stres-pascatrauma Gangguan-makan', 'Gender': 'Pria', 'Text': 'Placeholder_text'}, {'Age': 41, 'Tipe_Masalah': 'Gangguan-stres-pascatrauma Gangguan-makan', 'Gender': 'Pria', 'Text': 'Placeholder_text'}, {'Age': 35, 'Tipe_Masalah': 'Gangguan-stres-pascatrauma Depresi', 'Gender': 'Pria', 'Text': 'Placeholder_text'}, {'Age': 33, 'Tipe_Masalah': 'ADHD-Hiperaktif-dan-kurang-fokus', 'Gender': 'Perempuan', 'Text': 'Placeholder_text'}, {'Age': 33, 'Tipe_Masalah': 'Skizofrenia Gangguan-makan', 'Gender': 'Pria', 'Text': 'Placeholder_text'}, {'Age': 28, 'Tipe_Masalah': 'Skizofrenia ADHD-Hiperaktif-dan-kurang-fokus Gangguan-stres-pascatrauma', 'Gender': 'Perempuan', 'Text': 'Placeholder_text'}, {'Age': 28, 'Tipe_Masalah': 'Gangguan-kecemasan Depresi Gangguan-stres-pascatrauma', 'Gender': 'Pria', 'Text': 'Placeholder_text'}, {'Age': 30, 'Tipe_Masalah': 'Depresi Gangguan-kecemasan Gangguan-stres-pascatrauma', 'Gender': 'Pria', 'Text': 'Placeholder_text'}, {'Age': 30, 'Tipe_Masalah': 'Skizofrenia', 'Gender': 'Perempuan', 'Text': 'Placeholder_text'}, {'Age': 27, 'Tipe_Masalah': 'Gangguan-makan ADHD-Hiperaktif-dan-kurang-fokus Skizofrenia', 'Gender': 'Perempuan', 'Text': 'Placeholder_text'}, {'Age': 36, 'Tipe_Masalah': 'Skizofrenia', 'Gender': 'Pria', 'Text': 'Placeholder_text'}, {'Age': 42, 'Tipe_Masalah': 'ADHD-Hiperaktif-dan-kurang-fokus', 'Gender': 'Pria', 'Text': 'Placeholder_text'}, {'Age': 35, 'Tipe_Masalah': 'Skizofrenia Depresi', 'Gender': 'Perempuan', 'Text': 'Placeholder_text'}, {'Age': 36, 'Tipe_Masalah': 'Skizofrenia', 'Gender': 'Pria', 'Text': 'Placeholder_text'}, {'Age': 19, 'Tipe_Masalah': 'Depresi Gangguan-kecemasan Gangguan-makan', 'Gender': 'Pria', 'Text': 'Placeholder_text'}, {'Age': 21, 'Tipe_Masalah': 'Skizofrenia', 'Gender': 'Pria', 'Text': 'Placeholder_text'}, {'Age': 43, 'Tipe_Masalah': 'Skizofrenia ADHD-Hiperaktif-dan-kurang-fokus', 'Gender': 'Pria', 'Text': 'Placeholder_text'}, {'Age': 31, 'Tipe_Masalah': 'Depresi Gangguan-kecemasan ADHD-Hiperaktif-dan-kurang-fokus', 'Gender': 'Perempuan', 'Text': 'Placeholder_text'}, {'Age': 21, 'Tipe_Masalah': 'Gangguan-makan', 'Gender': 'Pria', 'Text': 'Placeholder_text'}, {'Age': 34, 'Tipe_Masalah': 'Depresi Skizofrenia', 'Gender': 'Pria', 'Text': 'Placeholder_text'}, {'Age': 43, 'Tipe_Masalah': 'Gangguan-kecemasan Gangguan-makan', 'Gender': 'Pria', 'Text': 'Placeholder_text'}, {'Age': 23, 'Tipe_Masalah': 'Gangguan-kecemasan', 'Gender': 'Pria', 'Text': 'Placeholder_text'}, {'Age': 23, 'Tipe_Masalah': 'Gangguan-kecemasan ADHD-Hiperaktif-dan-kurang-fokus', 'Gender': 'Perempuan', 'Text': 'Placeholder_text'}, {'Age': 29, 'Tipe_Masalah': 'Depresi', 'Gender': 'Pria', 'Text': 'Placeholder_text'}, {'Age': 23, 'Tipe_Masalah': 'Skizofrenia ADHD-Hiperaktif-dan-kurang-fokus', 'Gender': 'Perempuan', 'Text': 'Placeholder_text'}, {'Age': 40, 'Tipe_Masalah': 'ADHD-Hiperaktif-dan-kurang-fokus Gangguan-kecemasan Depresi', 'Gender': 'Perempuan', 'Text': 'Placeholder_text'}, {'Age': 21, 'Tipe_Masalah': 'Depresi', 'Gender': 'Perempuan', 'Text': 'Placeholder_text'}, {'Age': 30, 'Tipe_Masalah': 'Depresi Skizofrenia', 'Gender': 'Perempuan', 'Text': 'Placeholder_text'}, {'Age': 27, 'Tipe_Masalah': 'Gangguan-makan ADHD-Hiperaktif-dan-kurang-fokus', 'Gender': 'Pria', 'Text': 'Placeholder_text'}, {'Age': 44, 'Tipe_Masalah': 'Gangguan-makan Gangguan-kecemasan', 'Gender': 'Pria', 'Text': 'Placeholder_text'}, {'Age': 31, 'Tipe_Masalah': 'Gangguan-stres-pascatrauma Depresi', 'Gender': 'Perempuan', 'Text': 'Placeholder_text'}, {'Age': 33, 'Tipe_Masalah': 'Skizofrenia', 'Gender': 'Perempuan', 'Text': 'Placeholder_text'}, {'Age': 31, 'Tipe_Masalah': 'Gangguan-stres-pascatrauma Depresi', 'Gender': 'Perempuan', 'Text': 'Placeholder_text'}, {'Age': 35, 'Tipe_Masalah': 'Skizofrenia Gangguan-stres-pascatrauma', 'Gender': 'Pria', 'Text': 'Placeholder_text'}, {'Age': 39, 'Tipe_Masalah': 'Gangguan-kecemasan', 'Gender': 'Perempuan', 'Text': 'Placeholder_text'}]\n"
     ]
    }
   ],
   "source": [
    "print(new_data)"
   ]
  },
  {
   "cell_type": "code",
   "execution_count": null,
   "id": "05abae58",
   "metadata": {},
   "outputs": [],
   "source": []
  },
  {
   "cell_type": "code",
   "execution_count": null,
   "id": "f9c49ff6",
   "metadata": {},
   "outputs": [],
   "source": []
  },
  {
   "cell_type": "code",
   "execution_count": 23,
   "id": "4f4b2c3f",
   "metadata": {},
   "outputs": [
    {
     "ename": "ValueError",
     "evalue": "Can't convert Python sequence with mixed types to Tensor.",
     "output_type": "error",
     "traceback": [
      "\u001b[1;31m---------------------------------------------------------------------------\u001b[0m",
      "\u001b[1;31mTypeError\u001b[0m                                 Traceback (most recent call last)",
      "File \u001b[1;32m~\\anaconda3\\envs\\notebook\\lib\\site-packages\\tensorflow\\python\\data\\util\\structure.py:102\u001b[0m, in \u001b[0;36mnormalize_element\u001b[1;34m(element, element_signature)\u001b[0m\n\u001b[0;32m    101\u001b[0m   \u001b[38;5;28;01mif\u001b[39;00m spec \u001b[38;5;129;01mis\u001b[39;00m \u001b[38;5;28;01mNone\u001b[39;00m:\n\u001b[1;32m--> 102\u001b[0m     spec \u001b[38;5;241m=\u001b[39m \u001b[43mtype_spec_from_value\u001b[49m\u001b[43m(\u001b[49m\u001b[43mt\u001b[49m\u001b[43m,\u001b[49m\u001b[43m \u001b[49m\u001b[43muse_fallback\u001b[49m\u001b[38;5;241;43m=\u001b[39;49m\u001b[38;5;28;43;01mFalse\u001b[39;49;00m\u001b[43m)\u001b[49m\n\u001b[0;32m    103\u001b[0m \u001b[38;5;28;01mexcept\u001b[39;00m \u001b[38;5;167;01mTypeError\u001b[39;00m:\n\u001b[0;32m    104\u001b[0m   \u001b[38;5;66;03m# TypeError indicates it was not possible to compute a `TypeSpec` for\u001b[39;00m\n\u001b[0;32m    105\u001b[0m   \u001b[38;5;66;03m# the value. As a fallback try converting the value to a tensor.\u001b[39;00m\n",
      "File \u001b[1;32m~\\anaconda3\\envs\\notebook\\lib\\site-packages\\tensorflow\\python\\data\\util\\structure.py:485\u001b[0m, in \u001b[0;36mtype_spec_from_value\u001b[1;34m(element, use_fallback)\u001b[0m\n\u001b[0;32m    482\u001b[0m     logging\u001b[38;5;241m.\u001b[39mvlog(\n\u001b[0;32m    483\u001b[0m         \u001b[38;5;241m3\u001b[39m, \u001b[38;5;124m\"\u001b[39m\u001b[38;5;124mFailed to convert \u001b[39m\u001b[38;5;132;01m%r\u001b[39;00m\u001b[38;5;124m to tensor: \u001b[39m\u001b[38;5;132;01m%s\u001b[39;00m\u001b[38;5;124m\"\u001b[39m \u001b[38;5;241m%\u001b[39m (\u001b[38;5;28mtype\u001b[39m(element)\u001b[38;5;241m.\u001b[39m\u001b[38;5;18m__name__\u001b[39m, e))\n\u001b[1;32m--> 485\u001b[0m \u001b[38;5;28;01mraise\u001b[39;00m \u001b[38;5;167;01mTypeError\u001b[39;00m(\u001b[38;5;124m\"\u001b[39m\u001b[38;5;124mCould not build a `TypeSpec` for \u001b[39m\u001b[38;5;132;01m{}\u001b[39;00m\u001b[38;5;124m with type \u001b[39m\u001b[38;5;132;01m{}\u001b[39;00m\u001b[38;5;124m\"\u001b[39m\u001b[38;5;241m.\u001b[39mformat(\n\u001b[0;32m    486\u001b[0m     element,\n\u001b[0;32m    487\u001b[0m     \u001b[38;5;28mtype\u001b[39m(element)\u001b[38;5;241m.\u001b[39m\u001b[38;5;18m__name__\u001b[39m))\n",
      "\u001b[1;31mTypeError\u001b[0m: Could not build a `TypeSpec` for [nan, nan, nan, nan, nan, nan, <google.cloud.firestore_v1.document.DocumentReference object at 0x0000025C6FA543D0>, nan, nan, nan, nan, nan, nan, nan, nan, nan, nan, nan, nan, nan, nan, nan, nan, nan, nan, nan, nan, nan, nan, nan, nan, nan, nan, nan, nan, nan, nan, nan, nan, nan, nan, nan, nan, nan, nan, nan, nan, nan, nan, nan, nan, nan, nan, nan, nan, nan, nan, nan, nan, nan, nan, nan, nan, nan, nan, nan, nan, nan, nan, nan, nan, nan, nan, nan, nan, nan, nan, nan, nan, nan, nan, nan, nan, nan, nan, nan, nan, nan, nan, nan, nan, nan, nan, nan, nan, nan, nan, nan, nan, nan, nan, nan, nan, nan, nan, nan, nan, nan, nan, nan, nan, nan, nan, nan, nan, nan, nan, nan, nan, nan, nan, nan, nan, nan, nan, nan, nan, nan, nan, nan, nan, nan, nan, nan, nan, nan, nan, nan, nan, nan, nan, nan, nan, nan, nan, nan, nan, nan, nan, nan, nan, nan, nan, nan, nan, nan, nan, nan, nan, nan, nan, nan, nan, nan, nan, nan, nan, nan, nan, nan, nan, nan, nan, nan, nan, nan, nan, nan, nan, nan, nan, nan, nan, nan, nan, nan, nan, nan, nan, nan, nan, nan, nan, nan, nan, nan, nan, nan, nan, nan] with type list",
      "\nDuring handling of the above exception, another exception occurred:\n",
      "\u001b[1;31mValueError\u001b[0m                                Traceback (most recent call last)",
      "Input \u001b[1;32mIn [23]\u001b[0m, in \u001b[0;36m<cell line: 1>\u001b[1;34m()\u001b[0m\n\u001b[1;32m----> 1\u001b[0m ds_kalimat \u001b[38;5;241m=\u001b[39m \u001b[43mtf\u001b[49m\u001b[38;5;241;43m.\u001b[39;49m\u001b[43mdata\u001b[49m\u001b[38;5;241;43m.\u001b[39;49m\u001b[43mDataset\u001b[49m\u001b[38;5;241;43m.\u001b[39;49m\u001b[43mfrom_tensor_slices\u001b[49m\u001b[43m(\u001b[49m\u001b[43mpd\u001b[49m\u001b[38;5;241;43m.\u001b[39;49m\u001b[43mDataFrame\u001b[49m\u001b[38;5;241;43m.\u001b[39;49m\u001b[43mfrom_dict\u001b[49m\u001b[43m(\u001b[49m\u001b[43mnew_data\u001b[49m\u001b[43m)\u001b[49m\u001b[38;5;241;43m.\u001b[39;49m\u001b[43mto_dict\u001b[49m\u001b[43m(\u001b[49m\u001b[43morient\u001b[49m\u001b[38;5;241;43m=\u001b[39;49m\u001b[38;5;124;43m\"\u001b[39;49m\u001b[38;5;124;43mlist\u001b[39;49m\u001b[38;5;124;43m\"\u001b[39;49m\u001b[43m)\u001b[49m\u001b[43m)\u001b[49m\n",
      "File \u001b[1;32m~\\anaconda3\\envs\\notebook\\lib\\site-packages\\tensorflow\\python\\data\\ops\\dataset_ops.py:793\u001b[0m, in \u001b[0;36mDatasetV2.from_tensor_slices\u001b[1;34m(tensors, name)\u001b[0m\n\u001b[0;32m    715\u001b[0m \u001b[38;5;129m@staticmethod\u001b[39m\n\u001b[0;32m    716\u001b[0m \u001b[38;5;28;01mdef\u001b[39;00m \u001b[38;5;21mfrom_tensor_slices\u001b[39m(tensors, name\u001b[38;5;241m=\u001b[39m\u001b[38;5;28;01mNone\u001b[39;00m):\n\u001b[0;32m    717\u001b[0m   \u001b[38;5;124;03m\"\"\"Creates a `Dataset` whose elements are slices of the given tensors.\u001b[39;00m\n\u001b[0;32m    718\u001b[0m \n\u001b[0;32m    719\u001b[0m \u001b[38;5;124;03m  The given tensors are sliced along their first dimension. This operation\u001b[39;00m\n\u001b[1;32m   (...)\u001b[0m\n\u001b[0;32m    791\u001b[0m \u001b[38;5;124;03m    Dataset: A `Dataset`.\u001b[39;00m\n\u001b[0;32m    792\u001b[0m \u001b[38;5;124;03m  \"\"\"\u001b[39;00m\n\u001b[1;32m--> 793\u001b[0m   \u001b[38;5;28;01mreturn\u001b[39;00m \u001b[43mTensorSliceDataset\u001b[49m\u001b[43m(\u001b[49m\u001b[43mtensors\u001b[49m\u001b[43m,\u001b[49m\u001b[43m \u001b[49m\u001b[43mname\u001b[49m\u001b[38;5;241;43m=\u001b[39;49m\u001b[43mname\u001b[49m\u001b[43m)\u001b[49m\n",
      "File \u001b[1;32m~\\anaconda3\\envs\\notebook\\lib\\site-packages\\tensorflow\\python\\data\\ops\\dataset_ops.py:4477\u001b[0m, in \u001b[0;36mTensorSliceDataset.__init__\u001b[1;34m(self, element, is_files, name)\u001b[0m\n\u001b[0;32m   4475\u001b[0m \u001b[38;5;28;01mdef\u001b[39;00m \u001b[38;5;21m__init__\u001b[39m(\u001b[38;5;28mself\u001b[39m, element, is_files\u001b[38;5;241m=\u001b[39m\u001b[38;5;28;01mFalse\u001b[39;00m, name\u001b[38;5;241m=\u001b[39m\u001b[38;5;28;01mNone\u001b[39;00m):\n\u001b[0;32m   4476\u001b[0m   \u001b[38;5;124;03m\"\"\"See `Dataset.from_tensor_slices()` for details.\"\"\"\u001b[39;00m\n\u001b[1;32m-> 4477\u001b[0m   element \u001b[38;5;241m=\u001b[39m \u001b[43mstructure\u001b[49m\u001b[38;5;241;43m.\u001b[39;49m\u001b[43mnormalize_element\u001b[49m\u001b[43m(\u001b[49m\u001b[43melement\u001b[49m\u001b[43m)\u001b[49m\n\u001b[0;32m   4478\u001b[0m   batched_spec \u001b[38;5;241m=\u001b[39m structure\u001b[38;5;241m.\u001b[39mtype_spec_from_value(element)\n\u001b[0;32m   4479\u001b[0m   \u001b[38;5;28mself\u001b[39m\u001b[38;5;241m.\u001b[39m_tensors \u001b[38;5;241m=\u001b[39m structure\u001b[38;5;241m.\u001b[39mto_batched_tensor_list(batched_spec, element)\n",
      "File \u001b[1;32m~\\anaconda3\\envs\\notebook\\lib\\site-packages\\tensorflow\\python\\data\\util\\structure.py:107\u001b[0m, in \u001b[0;36mnormalize_element\u001b[1;34m(element, element_signature)\u001b[0m\n\u001b[0;32m    102\u001b[0m     spec \u001b[38;5;241m=\u001b[39m type_spec_from_value(t, use_fallback\u001b[38;5;241m=\u001b[39m\u001b[38;5;28;01mFalse\u001b[39;00m)\n\u001b[0;32m    103\u001b[0m \u001b[38;5;28;01mexcept\u001b[39;00m \u001b[38;5;167;01mTypeError\u001b[39;00m:\n\u001b[0;32m    104\u001b[0m   \u001b[38;5;66;03m# TypeError indicates it was not possible to compute a `TypeSpec` for\u001b[39;00m\n\u001b[0;32m    105\u001b[0m   \u001b[38;5;66;03m# the value. As a fallback try converting the value to a tensor.\u001b[39;00m\n\u001b[0;32m    106\u001b[0m   normalized_components\u001b[38;5;241m.\u001b[39mappend(\n\u001b[1;32m--> 107\u001b[0m       \u001b[43mops\u001b[49m\u001b[38;5;241;43m.\u001b[39;49m\u001b[43mconvert_to_tensor\u001b[49m\u001b[43m(\u001b[49m\u001b[43mt\u001b[49m\u001b[43m,\u001b[49m\u001b[43m \u001b[49m\u001b[43mname\u001b[49m\u001b[38;5;241;43m=\u001b[39;49m\u001b[38;5;124;43m\"\u001b[39;49m\u001b[38;5;124;43mcomponent_\u001b[39;49m\u001b[38;5;132;43;01m%d\u001b[39;49;00m\u001b[38;5;124;43m\"\u001b[39;49m\u001b[43m \u001b[49m\u001b[38;5;241;43m%\u001b[39;49m\u001b[43m \u001b[49m\u001b[43mi\u001b[49m\u001b[43m)\u001b[49m)\n\u001b[0;32m    108\u001b[0m \u001b[38;5;28;01melse\u001b[39;00m:\n\u001b[0;32m    109\u001b[0m   \u001b[38;5;28;01mif\u001b[39;00m \u001b[38;5;28misinstance\u001b[39m(spec, sparse_tensor\u001b[38;5;241m.\u001b[39mSparseTensorSpec):\n",
      "File \u001b[1;32m~\\anaconda3\\envs\\notebook\\lib\\site-packages\\tensorflow\\python\\profiler\\trace.py:183\u001b[0m, in \u001b[0;36mtrace_wrapper.<locals>.inner_wrapper.<locals>.wrapped\u001b[1;34m(*args, **kwargs)\u001b[0m\n\u001b[0;32m    181\u001b[0m   \u001b[38;5;28;01mwith\u001b[39;00m Trace(trace_name, \u001b[38;5;241m*\u001b[39m\u001b[38;5;241m*\u001b[39mtrace_kwargs):\n\u001b[0;32m    182\u001b[0m     \u001b[38;5;28;01mreturn\u001b[39;00m func(\u001b[38;5;241m*\u001b[39margs, \u001b[38;5;241m*\u001b[39m\u001b[38;5;241m*\u001b[39mkwargs)\n\u001b[1;32m--> 183\u001b[0m \u001b[38;5;28;01mreturn\u001b[39;00m func(\u001b[38;5;241m*\u001b[39margs, \u001b[38;5;241m*\u001b[39m\u001b[38;5;241m*\u001b[39mkwargs)\n",
      "File \u001b[1;32m~\\anaconda3\\envs\\notebook\\lib\\site-packages\\tensorflow\\python\\framework\\ops.py:1695\u001b[0m, in \u001b[0;36mconvert_to_tensor\u001b[1;34m(value, dtype, name, as_ref, preferred_dtype, dtype_hint, ctx, accepted_result_types)\u001b[0m\n\u001b[0;32m   1690\u001b[0m       \u001b[38;5;28;01mraise\u001b[39;00m \u001b[38;5;167;01mTypeError\u001b[39;00m(\u001b[38;5;124m\"\u001b[39m\u001b[38;5;124mconvert_to_tensor did not convert to \u001b[39m\u001b[38;5;124m\"\u001b[39m\n\u001b[0;32m   1691\u001b[0m                       \u001b[38;5;124m\"\u001b[39m\u001b[38;5;124mthe preferred dtype: \u001b[39m\u001b[38;5;132;01m%s\u001b[39;00m\u001b[38;5;124m vs \u001b[39m\u001b[38;5;132;01m%s\u001b[39;00m\u001b[38;5;124m \u001b[39m\u001b[38;5;124m\"\u001b[39m \u001b[38;5;241m%\u001b[39m\n\u001b[0;32m   1692\u001b[0m                       (ret\u001b[38;5;241m.\u001b[39mdtype\u001b[38;5;241m.\u001b[39mbase_dtype, preferred_dtype\u001b[38;5;241m.\u001b[39mbase_dtype))\n\u001b[0;32m   1694\u001b[0m \u001b[38;5;28;01mif\u001b[39;00m ret \u001b[38;5;129;01mis\u001b[39;00m \u001b[38;5;28;01mNone\u001b[39;00m:\n\u001b[1;32m-> 1695\u001b[0m   ret \u001b[38;5;241m=\u001b[39m \u001b[43mconversion_func\u001b[49m\u001b[43m(\u001b[49m\u001b[43mvalue\u001b[49m\u001b[43m,\u001b[49m\u001b[43m \u001b[49m\u001b[43mdtype\u001b[49m\u001b[38;5;241;43m=\u001b[39;49m\u001b[43mdtype\u001b[49m\u001b[43m,\u001b[49m\u001b[43m \u001b[49m\u001b[43mname\u001b[49m\u001b[38;5;241;43m=\u001b[39;49m\u001b[43mname\u001b[49m\u001b[43m,\u001b[49m\u001b[43m \u001b[49m\u001b[43mas_ref\u001b[49m\u001b[38;5;241;43m=\u001b[39;49m\u001b[43mas_ref\u001b[49m\u001b[43m)\u001b[49m\n\u001b[0;32m   1697\u001b[0m \u001b[38;5;28;01mif\u001b[39;00m ret \u001b[38;5;129;01mis\u001b[39;00m \u001b[38;5;28mNotImplemented\u001b[39m:\n\u001b[0;32m   1698\u001b[0m   \u001b[38;5;28;01mcontinue\u001b[39;00m\n",
      "File \u001b[1;32m~\\anaconda3\\envs\\notebook\\lib\\site-packages\\tensorflow\\python\\framework\\constant_op.py:343\u001b[0m, in \u001b[0;36m_constant_tensor_conversion_function\u001b[1;34m(v, dtype, name, as_ref)\u001b[0m\n\u001b[0;32m    340\u001b[0m \u001b[38;5;28;01mdef\u001b[39;00m \u001b[38;5;21m_constant_tensor_conversion_function\u001b[39m(v, dtype\u001b[38;5;241m=\u001b[39m\u001b[38;5;28;01mNone\u001b[39;00m, name\u001b[38;5;241m=\u001b[39m\u001b[38;5;28;01mNone\u001b[39;00m,\n\u001b[0;32m    341\u001b[0m                                          as_ref\u001b[38;5;241m=\u001b[39m\u001b[38;5;28;01mFalse\u001b[39;00m):\n\u001b[0;32m    342\u001b[0m   _ \u001b[38;5;241m=\u001b[39m as_ref\n\u001b[1;32m--> 343\u001b[0m   \u001b[38;5;28;01mreturn\u001b[39;00m \u001b[43mconstant\u001b[49m\u001b[43m(\u001b[49m\u001b[43mv\u001b[49m\u001b[43m,\u001b[49m\u001b[43m \u001b[49m\u001b[43mdtype\u001b[49m\u001b[38;5;241;43m=\u001b[39;49m\u001b[43mdtype\u001b[49m\u001b[43m,\u001b[49m\u001b[43m \u001b[49m\u001b[43mname\u001b[49m\u001b[38;5;241;43m=\u001b[39;49m\u001b[43mname\u001b[49m\u001b[43m)\u001b[49m\n",
      "File \u001b[1;32m~\\anaconda3\\envs\\notebook\\lib\\site-packages\\tensorflow\\python\\framework\\constant_op.py:267\u001b[0m, in \u001b[0;36mconstant\u001b[1;34m(value, dtype, shape, name)\u001b[0m\n\u001b[0;32m    170\u001b[0m \u001b[38;5;129m@tf_export\u001b[39m(\u001b[38;5;124m\"\u001b[39m\u001b[38;5;124mconstant\u001b[39m\u001b[38;5;124m\"\u001b[39m, v1\u001b[38;5;241m=\u001b[39m[])\n\u001b[0;32m    171\u001b[0m \u001b[38;5;28;01mdef\u001b[39;00m \u001b[38;5;21mconstant\u001b[39m(value, dtype\u001b[38;5;241m=\u001b[39m\u001b[38;5;28;01mNone\u001b[39;00m, shape\u001b[38;5;241m=\u001b[39m\u001b[38;5;28;01mNone\u001b[39;00m, name\u001b[38;5;241m=\u001b[39m\u001b[38;5;124m\"\u001b[39m\u001b[38;5;124mConst\u001b[39m\u001b[38;5;124m\"\u001b[39m):\n\u001b[0;32m    172\u001b[0m   \u001b[38;5;124;03m\"\"\"Creates a constant tensor from a tensor-like object.\u001b[39;00m\n\u001b[0;32m    173\u001b[0m \n\u001b[0;32m    174\u001b[0m \u001b[38;5;124;03m  Note: All eager `tf.Tensor` values are immutable (in contrast to\u001b[39;00m\n\u001b[1;32m   (...)\u001b[0m\n\u001b[0;32m    265\u001b[0m \u001b[38;5;124;03m    ValueError: if called on a symbolic tensor.\u001b[39;00m\n\u001b[0;32m    266\u001b[0m \u001b[38;5;124;03m  \"\"\"\u001b[39;00m\n\u001b[1;32m--> 267\u001b[0m   \u001b[38;5;28;01mreturn\u001b[39;00m \u001b[43m_constant_impl\u001b[49m\u001b[43m(\u001b[49m\u001b[43mvalue\u001b[49m\u001b[43m,\u001b[49m\u001b[43m \u001b[49m\u001b[43mdtype\u001b[49m\u001b[43m,\u001b[49m\u001b[43m \u001b[49m\u001b[43mshape\u001b[49m\u001b[43m,\u001b[49m\u001b[43m \u001b[49m\u001b[43mname\u001b[49m\u001b[43m,\u001b[49m\u001b[43m \u001b[49m\u001b[43mverify_shape\u001b[49m\u001b[38;5;241;43m=\u001b[39;49m\u001b[38;5;28;43;01mFalse\u001b[39;49;00m\u001b[43m,\u001b[49m\n\u001b[0;32m    268\u001b[0m \u001b[43m                        \u001b[49m\u001b[43mallow_broadcast\u001b[49m\u001b[38;5;241;43m=\u001b[39;49m\u001b[38;5;28;43;01mTrue\u001b[39;49;00m\u001b[43m)\u001b[49m\n",
      "File \u001b[1;32m~\\anaconda3\\envs\\notebook\\lib\\site-packages\\tensorflow\\python\\framework\\constant_op.py:279\u001b[0m, in \u001b[0;36m_constant_impl\u001b[1;34m(value, dtype, shape, name, verify_shape, allow_broadcast)\u001b[0m\n\u001b[0;32m    277\u001b[0m     \u001b[38;5;28;01mwith\u001b[39;00m trace\u001b[38;5;241m.\u001b[39mTrace(\u001b[38;5;124m\"\u001b[39m\u001b[38;5;124mtf.constant\u001b[39m\u001b[38;5;124m\"\u001b[39m):\n\u001b[0;32m    278\u001b[0m       \u001b[38;5;28;01mreturn\u001b[39;00m _constant_eager_impl(ctx, value, dtype, shape, verify_shape)\n\u001b[1;32m--> 279\u001b[0m   \u001b[38;5;28;01mreturn\u001b[39;00m \u001b[43m_constant_eager_impl\u001b[49m\u001b[43m(\u001b[49m\u001b[43mctx\u001b[49m\u001b[43m,\u001b[49m\u001b[43m \u001b[49m\u001b[43mvalue\u001b[49m\u001b[43m,\u001b[49m\u001b[43m \u001b[49m\u001b[43mdtype\u001b[49m\u001b[43m,\u001b[49m\u001b[43m \u001b[49m\u001b[43mshape\u001b[49m\u001b[43m,\u001b[49m\u001b[43m \u001b[49m\u001b[43mverify_shape\u001b[49m\u001b[43m)\u001b[49m\n\u001b[0;32m    281\u001b[0m g \u001b[38;5;241m=\u001b[39m ops\u001b[38;5;241m.\u001b[39mget_default_graph()\n\u001b[0;32m    282\u001b[0m tensor_value \u001b[38;5;241m=\u001b[39m attr_value_pb2\u001b[38;5;241m.\u001b[39mAttrValue()\n",
      "File \u001b[1;32m~\\anaconda3\\envs\\notebook\\lib\\site-packages\\tensorflow\\python\\framework\\constant_op.py:304\u001b[0m, in \u001b[0;36m_constant_eager_impl\u001b[1;34m(ctx, value, dtype, shape, verify_shape)\u001b[0m\n\u001b[0;32m    302\u001b[0m \u001b[38;5;28;01mdef\u001b[39;00m \u001b[38;5;21m_constant_eager_impl\u001b[39m(ctx, value, dtype, shape, verify_shape):\n\u001b[0;32m    303\u001b[0m   \u001b[38;5;124;03m\"\"\"Creates a constant on the current device.\"\"\"\u001b[39;00m\n\u001b[1;32m--> 304\u001b[0m   t \u001b[38;5;241m=\u001b[39m \u001b[43mconvert_to_eager_tensor\u001b[49m\u001b[43m(\u001b[49m\u001b[43mvalue\u001b[49m\u001b[43m,\u001b[49m\u001b[43m \u001b[49m\u001b[43mctx\u001b[49m\u001b[43m,\u001b[49m\u001b[43m \u001b[49m\u001b[43mdtype\u001b[49m\u001b[43m)\u001b[49m\n\u001b[0;32m    305\u001b[0m   \u001b[38;5;28;01mif\u001b[39;00m shape \u001b[38;5;129;01mis\u001b[39;00m \u001b[38;5;28;01mNone\u001b[39;00m:\n\u001b[0;32m    306\u001b[0m     \u001b[38;5;28;01mreturn\u001b[39;00m t\n",
      "File \u001b[1;32m~\\anaconda3\\envs\\notebook\\lib\\site-packages\\tensorflow\\python\\framework\\constant_op.py:102\u001b[0m, in \u001b[0;36mconvert_to_eager_tensor\u001b[1;34m(value, ctx, dtype)\u001b[0m\n\u001b[0;32m    100\u001b[0m     dtype \u001b[38;5;241m=\u001b[39m dtypes\u001b[38;5;241m.\u001b[39mas_dtype(dtype)\u001b[38;5;241m.\u001b[39mas_datatype_enum\n\u001b[0;32m    101\u001b[0m ctx\u001b[38;5;241m.\u001b[39mensure_initialized()\n\u001b[1;32m--> 102\u001b[0m \u001b[38;5;28;01mreturn\u001b[39;00m \u001b[43mops\u001b[49m\u001b[38;5;241;43m.\u001b[39;49m\u001b[43mEagerTensor\u001b[49m\u001b[43m(\u001b[49m\u001b[43mvalue\u001b[49m\u001b[43m,\u001b[49m\u001b[43m \u001b[49m\u001b[43mctx\u001b[49m\u001b[38;5;241;43m.\u001b[39;49m\u001b[43mdevice_name\u001b[49m\u001b[43m,\u001b[49m\u001b[43m \u001b[49m\u001b[43mdtype\u001b[49m\u001b[43m)\u001b[49m\n",
      "\u001b[1;31mValueError\u001b[0m: Can't convert Python sequence with mixed types to Tensor."
     ]
    }
   ],
   "source": [
    "ds_kalimat = tf.data.Dataset.from_tensor_slices(pd.DataFrame.from_dict(new_data).to_dict(orient=\"list\"))"
   ]
  },
  {
   "cell_type": "code",
   "execution_count": null,
   "id": "9b462862",
   "metadata": {},
   "outputs": [],
   "source": [
    "\n",
    "def df_to_dataset(dataframe, shuffle=True, batch_size=32):\n",
    "    \"\"\"\n",
    "    A utility method to create a tf.data dataset from a Pandas Dataframe\n",
    "    \"\"\"\n",
    "    dataframe = dataframe.copy()\n",
    "    ds = tf.data.Dataset.from_tensor_slices(dict(dataframe))\n",
    "    if shuffle:\n",
    "        ds = ds.shuffle(buffer_size=len(dataframe))\n",
    "    ds = ds.batch(batch_size)\n",
    "    return ds"
   ]
  },
  {
   "cell_type": "code",
   "execution_count": 34,
   "id": "ec4eb1c0",
   "metadata": {},
   "outputs": [],
   "source": [
    "def convert_categorical_data(df, col='Tipe_Masalah'):\n",
    "    \"\"\"\n",
    "    Convert categorical data that splited by space to their own column in pandas dataframe , making them like one hot encoded\n",
    "    \"\"\"\n",
    "    import numpy as np\n",
    "    ### Join every string in every row, split the result, pull out the unique values.\n",
    "    genres = np.unique(' '.join(df[col]).split(' '))\n",
    "    ### Drop 'NA'\n",
    "    genres = np.delete(genres, np.where(genres == ''))\n",
    "    if(col=='Tipe_Masalah'):\n",
    "        for genre in genres:\n",
    "            df[genre] = df[col].str.contains(genre).astype('int')\n",
    "    else:\n",
    "        for genre in genres:\n",
    "            df['Caregiver-'+genre] = df[col].str.contains(genre).astype('int')\n",
    "    df.drop(col, axis=1, inplace=True)"
   ]
  },
  {
   "cell_type": "code",
   "execution_count": 35,
   "id": "38c8b001",
   "metadata": {},
   "outputs": [],
   "source": [
    "user_ds = pd.DataFrame.from_dict(new_data)"
   ]
  },
  {
   "cell_type": "code",
   "execution_count": 38,
   "id": "7eaebdc7",
   "metadata": {},
   "outputs": [
    {
     "data": {
      "text/html": [
       "<div>\n",
       "<style scoped>\n",
       "    .dataframe tbody tr th:only-of-type {\n",
       "        vertical-align: middle;\n",
       "    }\n",
       "\n",
       "    .dataframe tbody tr th {\n",
       "        vertical-align: top;\n",
       "    }\n",
       "\n",
       "    .dataframe thead th {\n",
       "        text-align: right;\n",
       "    }\n",
       "</style>\n",
       "<table border=\"1\" class=\"dataframe\">\n",
       "  <thead>\n",
       "    <tr style=\"text-align: right;\">\n",
       "      <th></th>\n",
       "      <th>Age</th>\n",
       "      <th>Gender</th>\n",
       "      <th>Text</th>\n",
       "      <th>ADHD-Hiperaktif-dan-kurang-fokus</th>\n",
       "      <th>Depresi</th>\n",
       "      <th>Gangguan-kecemasan</th>\n",
       "      <th>Gangguan-makan</th>\n",
       "      <th>Gangguan-stres-pascatrauma</th>\n",
       "      <th>Skizofrenia</th>\n",
       "    </tr>\n",
       "  </thead>\n",
       "  <tbody>\n",
       "    <tr>\n",
       "      <th>0</th>\n",
       "      <td>27</td>\n",
       "      <td>Pria</td>\n",
       "      <td>Placeholder_text</td>\n",
       "      <td>0</td>\n",
       "      <td>0</td>\n",
       "      <td>1</td>\n",
       "      <td>0</td>\n",
       "      <td>0</td>\n",
       "      <td>0</td>\n",
       "    </tr>\n",
       "    <tr>\n",
       "      <th>1</th>\n",
       "      <td>22</td>\n",
       "      <td>Pria</td>\n",
       "      <td>Placeholder_text</td>\n",
       "      <td>1</td>\n",
       "      <td>0</td>\n",
       "      <td>0</td>\n",
       "      <td>1</td>\n",
       "      <td>0</td>\n",
       "      <td>0</td>\n",
       "    </tr>\n",
       "    <tr>\n",
       "      <th>2</th>\n",
       "      <td>44</td>\n",
       "      <td>Perempuan</td>\n",
       "      <td>Placeholder_text</td>\n",
       "      <td>0</td>\n",
       "      <td>1</td>\n",
       "      <td>0</td>\n",
       "      <td>0</td>\n",
       "      <td>0</td>\n",
       "      <td>1</td>\n",
       "    </tr>\n",
       "    <tr>\n",
       "      <th>3</th>\n",
       "      <td>34</td>\n",
       "      <td>Perempuan</td>\n",
       "      <td>Placeholder_text</td>\n",
       "      <td>0</td>\n",
       "      <td>0</td>\n",
       "      <td>0</td>\n",
       "      <td>0</td>\n",
       "      <td>0</td>\n",
       "      <td>1</td>\n",
       "    </tr>\n",
       "  </tbody>\n",
       "</table>\n",
       "</div>"
      ],
      "text/plain": [
       "   Age     Gender              Text  ADHD-Hiperaktif-dan-kurang-fokus  \\\n",
       "0   27       Pria  Placeholder_text                                 0   \n",
       "1   22       Pria  Placeholder_text                                 1   \n",
       "2   44  Perempuan  Placeholder_text                                 0   \n",
       "3   34  Perempuan  Placeholder_text                                 0   \n",
       "\n",
       "   Depresi  Gangguan-kecemasan  Gangguan-makan  Gangguan-stres-pascatrauma  \\\n",
       "0        0                   1               0                           0   \n",
       "1        0                   0               1                           0   \n",
       "2        1                   0               0                           0   \n",
       "3        0                   0               0                           0   \n",
       "\n",
       "   Skizofrenia  \n",
       "0            0  \n",
       "1            0  \n",
       "2            1  \n",
       "3            1  "
      ]
     },
     "execution_count": 38,
     "metadata": {},
     "output_type": "execute_result"
    }
   ],
   "source": [
    "user_ds.head(4)"
   ]
  },
  {
   "cell_type": "code",
   "execution_count": 37,
   "id": "28e4880e",
   "metadata": {},
   "outputs": [],
   "source": [
    "convert_categorical_data(user_ds, col='Tipe_Masalah')"
   ]
  },
  {
   "cell_type": "code",
   "execution_count": null,
   "id": "f2ea9238",
   "metadata": {},
   "outputs": [],
   "source": [
    "user_ds.head(4)"
   ]
  }
 ],
 "metadata": {
  "kernelspec": {
   "display_name": "Python 3",
   "language": "python",
   "name": "python3"
  },
  "language_info": {
   "codemirror_mode": {
    "name": "ipython",
    "version": 3
   },
   "file_extension": ".py",
   "mimetype": "text/x-python",
   "name": "python",
   "nbconvert_exporter": "python",
   "pygments_lexer": "ipython3",
   "version": "3.9.11"
  }
 },
 "nbformat": 4,
 "nbformat_minor": 5
}
