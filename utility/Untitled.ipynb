{
 "cells": [
  {
   "cell_type": "code",
   "execution_count": 1,
   "id": "4c9a41b1",
   "metadata": {},
   "outputs": [],
   "source": [
    "import tensorflow as tf\n",
    "import numpy as np\n",
    "import pandas as pd\n",
    "from datetime import date\n",
    "\n",
    "###TO DO MAKE THE CODE MORE MODULAR AND REMOVE THE SHITTY MAGIC VARIABLE\n",
    "### I WILL NOT REFACTOR THIS UNTIL THE MAIN FEATURE IS DONE\n",
    "\n",
    "def convert_snapshot(data, desired_key = None):\n",
    "    \"\"\"\n",
    "    this extract desired keys from list of dicts from snapshot\n",
    "    \"\"\"\n",
    "    data_dictionary = map(lambda x: x.to_dict(), data)\n",
    "    if (desired_key is not None):\n",
    "        data_dictionary = map(lambda x: dict((k, x[k]) for k in desired_key if k in x), list(data_dictionary))\n",
    "\n",
    "    return list(data_dictionary)\n",
    "\n",
    "\n",
    "def fill_non_existent_column(df, is_caregiver=False):\n",
    "    \"\"\"\n",
    "    This fill the df with unique problems column i\n",
    "    \"\"\"\n",
    "    if is_caregiver is False:\n",
    "        new_column = ['ADHD-Hiperaktif-dan-kurang-fokus', 'Depresi', 'Gangguan-kecemasan', 'Gangguan-makan',\n",
    "                      'Gangguan-stres-pascatrauma', 'Skizofrenia']\n",
    "    else:\n",
    "        new_column = ['Caregiver-ADHD-Hiperaktif-dan-kurang-fokus', 'Caregiver-Depresi', 'Caregiver-Gangguan-kecemasan',\n",
    "                      'Caregiver-Gangguan-makan', 'Caregiver-Gangguan-stres-pascatrauma', 'Caregiver-Skizofrenia']\n",
    "\n",
    "    for col in new_column:\n",
    "        if (col in df.columns):\n",
    "            pass\n",
    "        else:\n",
    "            df[col] = 0\n",
    "\n",
    "\n",
    "def df_to_dataset(dataframe, shuffle=True, batch_size=32, text_processed=False):\n",
    "    \"\"\"\n",
    "    A utility method to create a tf.data dataset from a Pandas Dataframe\n",
    "    \"\"\"\n",
    "    dataframe = dataframe.copy()\n",
    "    if(text_processed):\n",
    "        processed_text = dataframe.pop('text_processed')\n",
    "        ds = tf.data.Dataset.from_tensor_slices(dict(dataframe))\n",
    "        ds_processed = tf.data.Dataset.from_tensors(dict(processed_text))\n",
    "        ds = tf.data.Dataset.zip((ds,ds_processed))\n",
    "    else:\n",
    "        ds = tf.data.Dataset.from_tensor_slices(dict(dataframe))\n",
    "\n",
    "    if shuffle:\n",
    "        ds = ds.shuffle(buffer_size=len(dataframe))\n",
    "    ds = ds.batch(batch_size)\n",
    "    return ds\n",
    "\n",
    "\n",
    "\n",
    "def age(birthdate):\n",
    "    today = date.today()\n",
    "    age = today.year - birthdate.year - ((today.month, today.day) < (birthdate.month, birthdate.day))\n",
    "    return age\n",
    "\n",
    "def convert_categorical_data(df, col, is_caregiver = False):\n",
    "    \"\"\"\n",
    "    Convert categorical data that splited by space to their own column in pandas dataframe , making them like one hot encoded\n",
    "    \"\"\"\n",
    "    ### Join every string in every row, split the result, pull out the unique values.\n",
    "    genres = np.unique(' '.join(df[col]).split(' '))\n",
    "    ### Drop 'NA'\n",
    "    genres = np.delete(genres, np.where(genres == ''))\n",
    "    if(not is_caregiver):\n",
    "        for genre in genres:\n",
    "            df[genre] = df[col].str.contains(genre).astype('int')\n",
    "    else:\n",
    "        for genre in genres:\n",
    "            df['Caregiver-'+genre] = df[col].str.contains(genre).astype('int')\n",
    "    df.drop(col, axis=1, inplace=True)\n",
    "\n",
    "\n",
    "def change_column_name(df, old_name, new_name):\n",
    "    \"\"\"\n",
    "    replace list of column name in old_name to new colum name in new_name\n",
    "    the order of old_name and new_name need to be exact\n",
    "    \"\"\"\n",
    "    res = {old_name[i]: new_name[i] for i in range(len(new_name))}\n",
    "    df.rename(columns=res, inplace=True)\n",
    "\n",
    "\n",
    "def Merge(dict1, dict2):\n",
    "    \"\"\"\n",
    "    Python code to merge dict\n",
    "    \"\"\"\n",
    "    res = {**dict1, **dict2}\n",
    "    return res\n",
    "\n",
    "\n",
    "def unpack_caregiver_snapshot(data):\n",
    "    \"\"\"\n",
    "\n",
    "    :param data: data is a snapshot of chatroom collection\n",
    "    :return: list of caregiver in form of dictionary\n",
    "    \"\"\"\n",
    "    desired_keys = [\"problems\", \"birthday\", \"gender\", \"caregiver_id\", \"text\"]\n",
    "    # this unpack the value of snapshot list and turn the snapshot into dictionary also add aditional key for caregiver_id\n",
    "    caregiver_dict_unpacked = map(lambda feature: Merge(feature.to_dict(), {'caregiver_id': feature.id}), data)\n",
    "\n",
    "    # this unpack the snapshot in 'caregiver' snapshot and add them back to main dictionary\n",
    "    caregiver_dict = map(lambda feature: Merge(feature, feature.pop('caregiver').get().to_dict()),\n",
    "                         caregiver_dict_unpacked)\n",
    "\n",
    "    #check for room capacity\n",
    "    caregiver_dict = filter(lambda feature: feature['max_user'] > len(feature['users']) , caregiver_dict)\n",
    "\n",
    "    # this seperate desired keys from unused keys\n",
    "    caregiver_dict = map(lambda x: dict((k, x[k]) for k in desired_keys if k in x), caregiver_dict)\n",
    "\n",
    "    # this convert birthday stamp into interger age\n",
    "    caregiver_dict = map(lambda feature: Merge(feature, {'age': age(feature.pop('birthday'))}), caregiver_dict)\n",
    "\n",
    "    return list(caregiver_dict)\n",
    "\n",
    "def convert_caregiver_dictList_to_df(dictionary):\n",
    "    \"\"\"\n",
    "    :param dictionary: list of dictionary\n",
    "    :return: dataframe of the said dictionary\n",
    "    \"\"\"\n",
    "    # Creates DataFrame.\n",
    "    df = pd.DataFrame(dictionary)\n",
    "    #change column name to feature according to the model\n",
    "    change_column_name(df, ['problems','gender','caregiver_id','age'],['Caregiver_Tipe_Masalah','Caregiver_Gender','CAREGIVER_ID','Caregiver_Age'])\n",
    "    #convert categorical data into their own column\n",
    "    convert_categorical_data(df, \"Caregiver_Tipe_Masalah\", is_caregiver = True)\n",
    "    #fill missing column with default value\n",
    "    fill_non_existent_column(df, is_caregiver = True)\n",
    "    return df\n",
    "\n"
   ]
  },
  {
   "cell_type": "code",
   "execution_count": null,
   "id": "dc45c81b",
   "metadata": {},
   "outputs": [],
   "source": []
  },
  {
   "cell_type": "code",
   "execution_count": 2,
   "id": "c3e0468d",
   "metadata": {},
   "outputs": [],
   "source": [
    "\n",
    "from firebase_admin import credentials, firestore, initialize_app\n",
    "cred = credentials.Certificate(\"key.json\")\n",
    "default_app = initialize_app(cred)\n",
    "db = firestore.client()\n"
   ]
  },
  {
   "cell_type": "code",
   "execution_count": 3,
   "id": "445355e3",
   "metadata": {},
   "outputs": [
    {
     "name": "stdout",
     "output_type": "stream",
     "text": [
      "WARNING:tensorflow:No training configuration found in save file, so the model was *not* compiled. Compile it manually.\n"
     ]
    },
    {
     "name": "stderr",
     "output_type": "stream",
     "text": [
      "c:\\users\\asus\\anaconda3\\envs\\notebook\\lib\\site-packages\\keras\\saving\\saved_model\\load.py:115: RuntimeWarning: Unexpected end-group tag: Not all data was converted\n",
      "  metadata.ParseFromString(file_content)\n"
     ]
    }
   ],
   "source": [
    "\n",
    "MAIN_TEXT_MODEL = tf.keras.models.load_model('saved_manual_model/text_query_v1')\n",
    "MAIN_USER_MODEL = tf.keras.models.load_model('saved_manual_model/user_query_v1')\n",
    "MAIN_CAREGIVER_MODEL = tf.keras.models.load_model('saved_manual_model/caregiver_query_v1')"
   ]
  },
  {
   "cell_type": "code",
   "execution_count": 4,
   "id": "c254f6dd",
   "metadata": {},
   "outputs": [],
   "source": [
    "\n",
    "db_ref = db.collection('chat_room_pref')\n",
    "data = db_ref.get()"
   ]
  },
  {
   "cell_type": "code",
   "execution_count": null,
   "id": "22c57d73",
   "metadata": {},
   "outputs": [],
   "source": []
  },
  {
   "cell_type": "code",
   "execution_count": null,
   "id": "57ddc738",
   "metadata": {},
   "outputs": [],
   "source": []
  },
  {
   "cell_type": "code",
   "execution_count": 5,
   "id": "f925edfa",
   "metadata": {},
   "outputs": [],
   "source": [
    "import tensorflow_recommenders as tfrs\n",
    "data = unpack_caregiver_snapshot(data)\n",
    "data = convert_caregiver_dictList_to_df(data)\n",
    "caregiver_ds = df_to_dataset(data)\n",
    "TEXT_INDEX = tfrs.layers.factorized_top_k.BruteForce(MAIN_TEXT_MODEL)"
   ]
  },
  {
   "cell_type": "code",
   "execution_count": 6,
   "id": "b5996f66",
   "metadata": {},
   "outputs": [],
   "source": [
    "TEXT_INDEX = tfrs.layers.factorized_top_k.BruteForce(MAIN_TEXT_MODEL)\n",
    "\n",
    "\n",
    "\n",
    "INDEX = tfrs.layers.factorized_top_k.BruteForce(MAIN_USER_MODEL)\n"
   ]
  },
  {
   "cell_type": "code",
   "execution_count": 7,
   "id": "28da969d",
   "metadata": {},
   "outputs": [
    {
     "ename": "ValueError",
     "evalue": "in user code:\n\n    File \"C:\\Users\\ASUS\\AppData\\Local\\Temp\\ipykernel_3952\\1999664232.py\", line 8, in None  *\n        lambda features: (features['CAREGIVER_ID'], MAIN_CAREGIVER_MODEL(features))\n\n    ValueError: Could not find matching concrete function to call loaded from the SavedModel. Got:\n      Positional arguments (3 total):\n        * {'Caregiver_Gender': <tf.Tensor 'inputs_12:0' shape=(None,) dtype=string>, 'CAREGIVER_ID': <tf.Tensor 'inputs:0' shape=(None,) dtype=string>, 'text': <tf.Tensor 'inputs_13:0' shape=(None,) dtype=string>, 'Caregiver_Age': <tf.Tensor 'inputs_11:0' shape=(None,) dtype=int64>, 'Caregiver-Anxiety': <tf.Tensor 'inputs_2:0' shape=(None,) dtype=int32>, 'Caregiver-Depresi': <tf.Tensor 'inputs_3:0' shape=(None,) dtype=int32>, 'Caregiver-Gangguan-kecemasan': <tf.Tensor 'inputs_4:0' shape=(None,) dtype=int32>, 'Caregiver-Gangguan-stress-pascatrauma': <tf.Tensor 'inputs_7:0' shape=(None,) dtype=int32>, 'Caregiver-Kekerasan': <tf.Tensor 'inputs_8:0' shape=(None,) dtype=int32>, 'Caregiver-Masalah-Tidur': <tf.Tensor 'inputs_9:0' shape=(None,) dtype=int32>, 'Caregiver-Skizofrenia': <tf.Tensor 'inputs_10:0' shape=(None,) dtype=int32>, 'Caregiver-ADHD-Hiperaktif-dan-kurang-fokus': <tf.Tensor 'inputs_1:0' shape=(None,) dtype=int64>, 'Caregiver-Gangguan-makan': <tf.Tensor 'inputs_5:0' shape=(None,) dtype=int64>, 'Caregiver-Gangguan-stres-pascatrauma': <tf.Tensor 'inputs_6:0' shape=(None,) dtype=int64>}\n        * False\n        * None\n      Keyword arguments: {}\n    \n     Expected these arguments to match one of the following 4 option(s):\n    \n    Option 1:\n      Positional arguments (3 total):\n        * {'Caregiver-Gangguan-kecemasan': TensorSpec(shape=(None, None), dtype=tf.int32, name='Caregiver-Gangguan-kecemasan'), 'Caregiver-Depresi': TensorSpec(shape=(None, None), dtype=tf.int32, name='Caregiver-Depresi'), 'Caregiver_Gender': TensorSpec(shape=(None, None), dtype=tf.string, name='Caregiver_Gender'), 'CAREGIVER_ID': TensorSpec(shape=(None, None), dtype=tf.int64, name='CAREGIVER_ID'), 'Caregiver-Gangguan-stres-pascatrauma': TensorSpec(shape=(None, None), dtype=tf.int32, name='Caregiver-Gangguan-stres-pascatrauma'), 'Caregiver-ADHD-Hiperaktif-dan-kurang-fokus': TensorSpec(shape=(None, None), dtype=tf.int32, name='Caregiver-ADHD-Hiperaktif-dan-kurang-fokus'), 'Caregiver-Skizofrenia': TensorSpec(shape=(None, None), dtype=tf.int32, name='Caregiver-Skizofrenia'), 'Caregiver_Age': TensorSpec(shape=(None, None), dtype=tf.int64, name='Caregiver_Age'), 'Caregiver-Gangguan-makan': TensorSpec(shape=(None, None), dtype=tf.int32, name='Caregiver-Gangguan-makan')}\n        * False\n        * None\n      Keyword arguments: {}\n    \n    Option 2:\n      Positional arguments (3 total):\n        * {'Caregiver-ADHD-Hiperaktif-dan-kurang-fokus': TensorSpec(shape=(None, None), dtype=tf.int32, name='inputs/Caregiver-ADHD-Hiperaktif-dan-kurang-fokus'), 'Caregiver_Age': TensorSpec(shape=(None, None), dtype=tf.int64, name='inputs/Caregiver_Age'), 'Caregiver-Gangguan-stres-pascatrauma': TensorSpec(shape=(None, None), dtype=tf.int32, name='inputs/Caregiver-Gangguan-stres-pascatrauma'), 'Caregiver-Skizofrenia': TensorSpec(shape=(None, None), dtype=tf.int32, name='inputs/Caregiver-Skizofrenia'), 'Caregiver-Gangguan-makan': TensorSpec(shape=(None, None), dtype=tf.int32, name='inputs/Caregiver-Gangguan-makan'), 'Caregiver-Gangguan-kecemasan': TensorSpec(shape=(None, None), dtype=tf.int32, name='inputs/Caregiver-Gangguan-kecemasan'), 'Caregiver-Depresi': TensorSpec(shape=(None, None), dtype=tf.int32, name='inputs/Caregiver-Depresi'), 'CAREGIVER_ID': TensorSpec(shape=(None, None), dtype=tf.int64, name='inputs/CAREGIVER_ID'), 'Caregiver_Gender': TensorSpec(shape=(None, None), dtype=tf.string, name='inputs/Caregiver_Gender')}\n        * False\n        * None\n      Keyword arguments: {}\n    \n    Option 3:\n      Positional arguments (3 total):\n        * {'CAREGIVER_ID': TensorSpec(shape=(None, None), dtype=tf.int64, name='inputs/CAREGIVER_ID'), 'Caregiver-Gangguan-kecemasan': TensorSpec(shape=(None, None), dtype=tf.int32, name='inputs/Caregiver-Gangguan-kecemasan'), 'Caregiver-Gangguan-stres-pascatrauma': TensorSpec(shape=(None, None), dtype=tf.int32, name='inputs/Caregiver-Gangguan-stres-pascatrauma'), 'Caregiver-Depresi': TensorSpec(shape=(None, None), dtype=tf.int32, name='inputs/Caregiver-Depresi'), 'Caregiver_Age': TensorSpec(shape=(None, None), dtype=tf.int64, name='inputs/Caregiver_Age'), 'Caregiver_Gender': TensorSpec(shape=(None, None), dtype=tf.string, name='inputs/Caregiver_Gender'), 'Caregiver-Skizofrenia': TensorSpec(shape=(None, None), dtype=tf.int32, name='inputs/Caregiver-Skizofrenia'), 'Caregiver-ADHD-Hiperaktif-dan-kurang-fokus': TensorSpec(shape=(None, None), dtype=tf.int32, name='inputs/Caregiver-ADHD-Hiperaktif-dan-kurang-fokus'), 'Caregiver-Gangguan-makan': TensorSpec(shape=(None, None), dtype=tf.int32, name='inputs/Caregiver-Gangguan-makan')}\n        * True\n        * None\n      Keyword arguments: {}\n    \n    Option 4:\n      Positional arguments (3 total):\n        * {'Caregiver_Age': TensorSpec(shape=(None, None), dtype=tf.int64, name='Caregiver_Age'), 'Caregiver-Gangguan-makan': TensorSpec(shape=(None, None), dtype=tf.int32, name='Caregiver-Gangguan-makan'), 'Caregiver_Gender': TensorSpec(shape=(None, None), dtype=tf.string, name='Caregiver_Gender'), 'Caregiver-Gangguan-kecemasan': TensorSpec(shape=(None, None), dtype=tf.int32, name='Caregiver-Gangguan-kecemasan'), 'CAREGIVER_ID': TensorSpec(shape=(None, None), dtype=tf.int64, name='CAREGIVER_ID'), 'Caregiver-Depresi': TensorSpec(shape=(None, None), dtype=tf.int32, name='Caregiver-Depresi'), 'Caregiver-Skizofrenia': TensorSpec(shape=(None, None), dtype=tf.int32, name='Caregiver-Skizofrenia'), 'Caregiver-ADHD-Hiperaktif-dan-kurang-fokus': TensorSpec(shape=(None, None), dtype=tf.int32, name='Caregiver-ADHD-Hiperaktif-dan-kurang-fokus'), 'Caregiver-Gangguan-stres-pascatrauma': TensorSpec(shape=(None, None), dtype=tf.int32, name='Caregiver-Gangguan-stres-pascatrauma')}\n        * True\n        * None\n      Keyword arguments: {}\n",
     "output_type": "error",
     "traceback": [
      "\u001b[1;31m---------------------------------------------------------------------------\u001b[0m",
      "\u001b[1;31mValueError\u001b[0m                                Traceback (most recent call last)",
      "Input \u001b[1;32mIn [7]\u001b[0m, in \u001b[0;36m<cell line: 7>\u001b[1;34m()\u001b[0m\n\u001b[0;32m      2\u001b[0m TEXT_INDEX\u001b[38;5;241m.\u001b[39mindex_from_dataset(\n\u001b[0;32m      3\u001b[0m     caregiver_ds\u001b[38;5;241m.\u001b[39mmap(\u001b[38;5;28;01mlambda\u001b[39;00m features: (features[\u001b[38;5;124m'\u001b[39m\u001b[38;5;124mCAREGIVER_ID\u001b[39m\u001b[38;5;124m'\u001b[39m], MAIN_TEXT_MODEL([features[\u001b[38;5;124m'\u001b[39m\u001b[38;5;124mtext\u001b[39m\u001b[38;5;124m'\u001b[39m]])))\n\u001b[0;32m      4\u001b[0m )\n\u001b[0;32m      6\u001b[0m \u001b[38;5;66;03m# update_this\u001b[39;00m\n\u001b[0;32m      7\u001b[0m INDEX\u001b[38;5;241m.\u001b[39mindex_from_dataset(\n\u001b[1;32m----> 8\u001b[0m     \u001b[43mcaregiver_ds\u001b[49m\u001b[38;5;241;43m.\u001b[39;49m\u001b[43mmap\u001b[49m\u001b[43m(\u001b[49m\u001b[38;5;28;43;01mlambda\u001b[39;49;00m\u001b[43m \u001b[49m\u001b[43mfeatures\u001b[49m\u001b[43m:\u001b[49m\u001b[43m \u001b[49m\u001b[43m(\u001b[49m\u001b[43mfeatures\u001b[49m\u001b[43m[\u001b[49m\u001b[38;5;124;43m'\u001b[39;49m\u001b[38;5;124;43mCAREGIVER_ID\u001b[39;49m\u001b[38;5;124;43m'\u001b[39;49m\u001b[43m]\u001b[49m\u001b[43m,\u001b[49m\u001b[43m \u001b[49m\u001b[43mMAIN_CAREGIVER_MODEL\u001b[49m\u001b[43m(\u001b[49m\u001b[43mfeatures\u001b[49m\u001b[43m)\u001b[49m\u001b[43m)\u001b[49m\u001b[43m)\u001b[49m\n\u001b[0;32m      9\u001b[0m )\n",
      "File \u001b[1;32mc:\\users\\asus\\anaconda3\\envs\\notebook\\lib\\site-packages\\tensorflow\\python\\data\\ops\\dataset_ops.py:2016\u001b[0m, in \u001b[0;36mDatasetV2.map\u001b[1;34m(self, map_func, num_parallel_calls, deterministic, name)\u001b[0m\n\u001b[0;32m   2013\u001b[0m   \u001b[38;5;28;01mif\u001b[39;00m deterministic \u001b[38;5;129;01mis\u001b[39;00m \u001b[38;5;129;01mnot\u001b[39;00m \u001b[38;5;28;01mNone\u001b[39;00m \u001b[38;5;129;01mand\u001b[39;00m \u001b[38;5;129;01mnot\u001b[39;00m DEBUG_MODE:\n\u001b[0;32m   2014\u001b[0m     warnings\u001b[38;5;241m.\u001b[39mwarn(\u001b[38;5;124m\"\u001b[39m\u001b[38;5;124mThe `deterministic` argument has no effect unless the \u001b[39m\u001b[38;5;124m\"\u001b[39m\n\u001b[0;32m   2015\u001b[0m                   \u001b[38;5;124m\"\u001b[39m\u001b[38;5;124m`num_parallel_calls` argument is specified.\u001b[39m\u001b[38;5;124m\"\u001b[39m)\n\u001b[1;32m-> 2016\u001b[0m   \u001b[38;5;28;01mreturn\u001b[39;00m \u001b[43mMapDataset\u001b[49m\u001b[43m(\u001b[49m\u001b[38;5;28;43mself\u001b[39;49m\u001b[43m,\u001b[49m\u001b[43m \u001b[49m\u001b[43mmap_func\u001b[49m\u001b[43m,\u001b[49m\u001b[43m \u001b[49m\u001b[43mpreserve_cardinality\u001b[49m\u001b[38;5;241;43m=\u001b[39;49m\u001b[38;5;28;43;01mTrue\u001b[39;49;00m\u001b[43m,\u001b[49m\u001b[43m \u001b[49m\u001b[43mname\u001b[49m\u001b[38;5;241;43m=\u001b[39;49m\u001b[43mname\u001b[49m\u001b[43m)\u001b[49m\n\u001b[0;32m   2017\u001b[0m \u001b[38;5;28;01melse\u001b[39;00m:\n\u001b[0;32m   2018\u001b[0m   \u001b[38;5;28;01mreturn\u001b[39;00m ParallelMapDataset(\n\u001b[0;32m   2019\u001b[0m       \u001b[38;5;28mself\u001b[39m,\n\u001b[0;32m   2020\u001b[0m       map_func,\n\u001b[1;32m   (...)\u001b[0m\n\u001b[0;32m   2023\u001b[0m       preserve_cardinality\u001b[38;5;241m=\u001b[39m\u001b[38;5;28;01mTrue\u001b[39;00m,\n\u001b[0;32m   2024\u001b[0m       name\u001b[38;5;241m=\u001b[39mname)\n",
      "File \u001b[1;32mc:\\users\\asus\\anaconda3\\envs\\notebook\\lib\\site-packages\\tensorflow\\python\\data\\ops\\dataset_ops.py:5191\u001b[0m, in \u001b[0;36mMapDataset.__init__\u001b[1;34m(self, input_dataset, map_func, use_inter_op_parallelism, preserve_cardinality, use_legacy_function, name)\u001b[0m\n\u001b[0;32m   5189\u001b[0m \u001b[38;5;28mself\u001b[39m\u001b[38;5;241m.\u001b[39m_use_inter_op_parallelism \u001b[38;5;241m=\u001b[39m use_inter_op_parallelism\n\u001b[0;32m   5190\u001b[0m \u001b[38;5;28mself\u001b[39m\u001b[38;5;241m.\u001b[39m_preserve_cardinality \u001b[38;5;241m=\u001b[39m preserve_cardinality\n\u001b[1;32m-> 5191\u001b[0m \u001b[38;5;28mself\u001b[39m\u001b[38;5;241m.\u001b[39m_map_func \u001b[38;5;241m=\u001b[39m \u001b[43mstructured_function\u001b[49m\u001b[38;5;241;43m.\u001b[39;49m\u001b[43mStructuredFunctionWrapper\u001b[49m\u001b[43m(\u001b[49m\n\u001b[0;32m   5192\u001b[0m \u001b[43m    \u001b[49m\u001b[43mmap_func\u001b[49m\u001b[43m,\u001b[49m\n\u001b[0;32m   5193\u001b[0m \u001b[43m    \u001b[49m\u001b[38;5;28;43mself\u001b[39;49m\u001b[38;5;241;43m.\u001b[39;49m\u001b[43m_transformation_name\u001b[49m\u001b[43m(\u001b[49m\u001b[43m)\u001b[49m\u001b[43m,\u001b[49m\n\u001b[0;32m   5194\u001b[0m \u001b[43m    \u001b[49m\u001b[43mdataset\u001b[49m\u001b[38;5;241;43m=\u001b[39;49m\u001b[43minput_dataset\u001b[49m\u001b[43m,\u001b[49m\n\u001b[0;32m   5195\u001b[0m \u001b[43m    \u001b[49m\u001b[43muse_legacy_function\u001b[49m\u001b[38;5;241;43m=\u001b[39;49m\u001b[43muse_legacy_function\u001b[49m\u001b[43m)\u001b[49m\n\u001b[0;32m   5196\u001b[0m \u001b[38;5;28mself\u001b[39m\u001b[38;5;241m.\u001b[39m_metadata \u001b[38;5;241m=\u001b[39m dataset_metadata_pb2\u001b[38;5;241m.\u001b[39mMetadata()\n\u001b[0;32m   5197\u001b[0m \u001b[38;5;28;01mif\u001b[39;00m name:\n",
      "File \u001b[1;32mc:\\users\\asus\\anaconda3\\envs\\notebook\\lib\\site-packages\\tensorflow\\python\\data\\ops\\structured_function.py:271\u001b[0m, in \u001b[0;36mStructuredFunctionWrapper.__init__\u001b[1;34m(self, func, transformation_name, dataset, input_classes, input_shapes, input_types, input_structure, add_to_graph, use_legacy_function, defun_kwargs)\u001b[0m\n\u001b[0;32m    264\u001b[0m       warnings\u001b[38;5;241m.\u001b[39mwarn(\n\u001b[0;32m    265\u001b[0m           \u001b[38;5;124m\"\u001b[39m\u001b[38;5;124mEven though the `tf.config.experimental_run_functions_eagerly` \u001b[39m\u001b[38;5;124m\"\u001b[39m\n\u001b[0;32m    266\u001b[0m           \u001b[38;5;124m\"\u001b[39m\u001b[38;5;124moption is set, this option does not apply to tf.data functions. \u001b[39m\u001b[38;5;124m\"\u001b[39m\n\u001b[0;32m    267\u001b[0m           \u001b[38;5;124m\"\u001b[39m\u001b[38;5;124mTo force eager execution of tf.data functions, please use \u001b[39m\u001b[38;5;124m\"\u001b[39m\n\u001b[0;32m    268\u001b[0m           \u001b[38;5;124m\"\u001b[39m\u001b[38;5;124m`tf.data.experimental.enable_debug_mode()`.\u001b[39m\u001b[38;5;124m\"\u001b[39m)\n\u001b[0;32m    269\u001b[0m     fn_factory \u001b[38;5;241m=\u001b[39m trace_tf_function(defun_kwargs)\n\u001b[1;32m--> 271\u001b[0m \u001b[38;5;28mself\u001b[39m\u001b[38;5;241m.\u001b[39m_function \u001b[38;5;241m=\u001b[39m \u001b[43mfn_factory\u001b[49m\u001b[43m(\u001b[49m\u001b[43m)\u001b[49m\n\u001b[0;32m    272\u001b[0m \u001b[38;5;66;03m# There is no graph to add in eager mode.\u001b[39;00m\n\u001b[0;32m    273\u001b[0m add_to_graph \u001b[38;5;241m&\u001b[39m\u001b[38;5;241m=\u001b[39m \u001b[38;5;129;01mnot\u001b[39;00m context\u001b[38;5;241m.\u001b[39mexecuting_eagerly()\n",
      "File \u001b[1;32mc:\\users\\asus\\anaconda3\\envs\\notebook\\lib\\site-packages\\tensorflow\\python\\eager\\function.py:3070\u001b[0m, in \u001b[0;36mFunction.get_concrete_function\u001b[1;34m(self, *args, **kwargs)\u001b[0m\n\u001b[0;32m   3061\u001b[0m \u001b[38;5;28;01mdef\u001b[39;00m \u001b[38;5;21mget_concrete_function\u001b[39m(\u001b[38;5;28mself\u001b[39m, \u001b[38;5;241m*\u001b[39margs, \u001b[38;5;241m*\u001b[39m\u001b[38;5;241m*\u001b[39mkwargs):\n\u001b[0;32m   3062\u001b[0m   \u001b[38;5;124;03m\"\"\"Returns a `ConcreteFunction` specialized to inputs and execution context.\u001b[39;00m\n\u001b[0;32m   3063\u001b[0m \n\u001b[0;32m   3064\u001b[0m \u001b[38;5;124;03m  Args:\u001b[39;00m\n\u001b[1;32m   (...)\u001b[0m\n\u001b[0;32m   3068\u001b[0m \u001b[38;5;124;03m       or `tf.Tensor` or `tf.TensorSpec`.\u001b[39;00m\n\u001b[0;32m   3069\u001b[0m \u001b[38;5;124;03m  \"\"\"\u001b[39;00m\n\u001b[1;32m-> 3070\u001b[0m   graph_function \u001b[38;5;241m=\u001b[39m \u001b[38;5;28mself\u001b[39m\u001b[38;5;241m.\u001b[39m_get_concrete_function_garbage_collected(\n\u001b[0;32m   3071\u001b[0m       \u001b[38;5;241m*\u001b[39margs, \u001b[38;5;241m*\u001b[39m\u001b[38;5;241m*\u001b[39mkwargs)\n\u001b[0;32m   3072\u001b[0m   graph_function\u001b[38;5;241m.\u001b[39m_garbage_collector\u001b[38;5;241m.\u001b[39mrelease()  \u001b[38;5;66;03m# pylint: disable=protected-access\u001b[39;00m\n\u001b[0;32m   3073\u001b[0m   \u001b[38;5;28;01mreturn\u001b[39;00m graph_function\n",
      "File \u001b[1;32mc:\\users\\asus\\anaconda3\\envs\\notebook\\lib\\site-packages\\tensorflow\\python\\eager\\function.py:3036\u001b[0m, in \u001b[0;36mFunction._get_concrete_function_garbage_collected\u001b[1;34m(self, *args, **kwargs)\u001b[0m\n\u001b[0;32m   3034\u001b[0m   args, kwargs \u001b[38;5;241m=\u001b[39m \u001b[38;5;28;01mNone\u001b[39;00m, \u001b[38;5;28;01mNone\u001b[39;00m\n\u001b[0;32m   3035\u001b[0m \u001b[38;5;28;01mwith\u001b[39;00m \u001b[38;5;28mself\u001b[39m\u001b[38;5;241m.\u001b[39m_lock:\n\u001b[1;32m-> 3036\u001b[0m   graph_function, _ \u001b[38;5;241m=\u001b[39m \u001b[38;5;28;43mself\u001b[39;49m\u001b[38;5;241;43m.\u001b[39;49m\u001b[43m_maybe_define_function\u001b[49m\u001b[43m(\u001b[49m\u001b[43margs\u001b[49m\u001b[43m,\u001b[49m\u001b[43m \u001b[49m\u001b[43mkwargs\u001b[49m\u001b[43m)\u001b[49m\n\u001b[0;32m   3037\u001b[0m   seen_names \u001b[38;5;241m=\u001b[39m \u001b[38;5;28mset\u001b[39m()\n\u001b[0;32m   3038\u001b[0m   captured \u001b[38;5;241m=\u001b[39m object_identity\u001b[38;5;241m.\u001b[39mObjectIdentitySet(\n\u001b[0;32m   3039\u001b[0m       graph_function\u001b[38;5;241m.\u001b[39mgraph\u001b[38;5;241m.\u001b[39minternal_captures)\n",
      "File \u001b[1;32mc:\\users\\asus\\anaconda3\\envs\\notebook\\lib\\site-packages\\tensorflow\\python\\eager\\function.py:3292\u001b[0m, in \u001b[0;36mFunction._maybe_define_function\u001b[1;34m(self, args, kwargs)\u001b[0m\n\u001b[0;32m   3288\u001b[0m   \u001b[38;5;28;01mreturn\u001b[39;00m \u001b[38;5;28mself\u001b[39m\u001b[38;5;241m.\u001b[39m_define_function_with_shape_relaxation(\n\u001b[0;32m   3289\u001b[0m       args, kwargs, flat_args, filtered_flat_args)\n\u001b[0;32m   3291\u001b[0m \u001b[38;5;28mself\u001b[39m\u001b[38;5;241m.\u001b[39m_function_cache\u001b[38;5;241m.\u001b[39madd_call_context(cache_key\u001b[38;5;241m.\u001b[39mcall_context)\n\u001b[1;32m-> 3292\u001b[0m graph_function \u001b[38;5;241m=\u001b[39m \u001b[38;5;28;43mself\u001b[39;49m\u001b[38;5;241;43m.\u001b[39;49m\u001b[43m_create_graph_function\u001b[49m\u001b[43m(\u001b[49m\u001b[43margs\u001b[49m\u001b[43m,\u001b[49m\u001b[43m \u001b[49m\u001b[43mkwargs\u001b[49m\u001b[43m)\u001b[49m\n\u001b[0;32m   3293\u001b[0m \u001b[38;5;28mself\u001b[39m\u001b[38;5;241m.\u001b[39m_function_cache\u001b[38;5;241m.\u001b[39madd(cache_key, cache_key_deletion_observer,\n\u001b[0;32m   3294\u001b[0m                          graph_function)\n\u001b[0;32m   3296\u001b[0m \u001b[38;5;28;01mreturn\u001b[39;00m graph_function, filtered_flat_args\n",
      "File \u001b[1;32mc:\\users\\asus\\anaconda3\\envs\\notebook\\lib\\site-packages\\tensorflow\\python\\eager\\function.py:3130\u001b[0m, in \u001b[0;36mFunction._create_graph_function\u001b[1;34m(self, args, kwargs, override_flat_arg_shapes)\u001b[0m\n\u001b[0;32m   3125\u001b[0m missing_arg_names \u001b[38;5;241m=\u001b[39m [\n\u001b[0;32m   3126\u001b[0m     \u001b[38;5;124m\"\u001b[39m\u001b[38;5;132;01m%s\u001b[39;00m\u001b[38;5;124m_\u001b[39m\u001b[38;5;132;01m%d\u001b[39;00m\u001b[38;5;124m\"\u001b[39m \u001b[38;5;241m%\u001b[39m (arg, i) \u001b[38;5;28;01mfor\u001b[39;00m i, arg \u001b[38;5;129;01min\u001b[39;00m \u001b[38;5;28menumerate\u001b[39m(missing_arg_names)\n\u001b[0;32m   3127\u001b[0m ]\n\u001b[0;32m   3128\u001b[0m arg_names \u001b[38;5;241m=\u001b[39m base_arg_names \u001b[38;5;241m+\u001b[39m missing_arg_names\n\u001b[0;32m   3129\u001b[0m graph_function \u001b[38;5;241m=\u001b[39m ConcreteFunction(\n\u001b[1;32m-> 3130\u001b[0m     \u001b[43mfunc_graph_module\u001b[49m\u001b[38;5;241;43m.\u001b[39;49m\u001b[43mfunc_graph_from_py_func\u001b[49m\u001b[43m(\u001b[49m\n\u001b[0;32m   3131\u001b[0m \u001b[43m        \u001b[49m\u001b[38;5;28;43mself\u001b[39;49m\u001b[38;5;241;43m.\u001b[39;49m\u001b[43m_name\u001b[49m\u001b[43m,\u001b[49m\n\u001b[0;32m   3132\u001b[0m \u001b[43m        \u001b[49m\u001b[38;5;28;43mself\u001b[39;49m\u001b[38;5;241;43m.\u001b[39;49m\u001b[43m_python_function\u001b[49m\u001b[43m,\u001b[49m\n\u001b[0;32m   3133\u001b[0m \u001b[43m        \u001b[49m\u001b[43margs\u001b[49m\u001b[43m,\u001b[49m\n\u001b[0;32m   3134\u001b[0m \u001b[43m        \u001b[49m\u001b[43mkwargs\u001b[49m\u001b[43m,\u001b[49m\n\u001b[0;32m   3135\u001b[0m \u001b[43m        \u001b[49m\u001b[38;5;28;43mself\u001b[39;49m\u001b[38;5;241;43m.\u001b[39;49m\u001b[43minput_signature\u001b[49m\u001b[43m,\u001b[49m\n\u001b[0;32m   3136\u001b[0m \u001b[43m        \u001b[49m\u001b[43mautograph\u001b[49m\u001b[38;5;241;43m=\u001b[39;49m\u001b[38;5;28;43mself\u001b[39;49m\u001b[38;5;241;43m.\u001b[39;49m\u001b[43m_autograph\u001b[49m\u001b[43m,\u001b[49m\n\u001b[0;32m   3137\u001b[0m \u001b[43m        \u001b[49m\u001b[43mautograph_options\u001b[49m\u001b[38;5;241;43m=\u001b[39;49m\u001b[38;5;28;43mself\u001b[39;49m\u001b[38;5;241;43m.\u001b[39;49m\u001b[43m_autograph_options\u001b[49m\u001b[43m,\u001b[49m\n\u001b[0;32m   3138\u001b[0m \u001b[43m        \u001b[49m\u001b[43marg_names\u001b[49m\u001b[38;5;241;43m=\u001b[39;49m\u001b[43marg_names\u001b[49m\u001b[43m,\u001b[49m\n\u001b[0;32m   3139\u001b[0m \u001b[43m        \u001b[49m\u001b[43moverride_flat_arg_shapes\u001b[49m\u001b[38;5;241;43m=\u001b[39;49m\u001b[43moverride_flat_arg_shapes\u001b[49m\u001b[43m,\u001b[49m\n\u001b[0;32m   3140\u001b[0m \u001b[43m        \u001b[49m\u001b[43mcapture_by_value\u001b[49m\u001b[38;5;241;43m=\u001b[39;49m\u001b[38;5;28;43mself\u001b[39;49m\u001b[38;5;241;43m.\u001b[39;49m\u001b[43m_capture_by_value\u001b[49m\u001b[43m)\u001b[49m,\n\u001b[0;32m   3141\u001b[0m     \u001b[38;5;28mself\u001b[39m\u001b[38;5;241m.\u001b[39m_function_attributes,\n\u001b[0;32m   3142\u001b[0m     function_spec\u001b[38;5;241m=\u001b[39m\u001b[38;5;28mself\u001b[39m\u001b[38;5;241m.\u001b[39mfunction_spec,\n\u001b[0;32m   3143\u001b[0m     \u001b[38;5;66;03m# Tell the ConcreteFunction to clean up its graph once it goes out of\u001b[39;00m\n\u001b[0;32m   3144\u001b[0m     \u001b[38;5;66;03m# scope. This is not the default behavior since it gets used in some\u001b[39;00m\n\u001b[0;32m   3145\u001b[0m     \u001b[38;5;66;03m# places (like Keras) where the FuncGraph lives longer than the\u001b[39;00m\n\u001b[0;32m   3146\u001b[0m     \u001b[38;5;66;03m# ConcreteFunction.\u001b[39;00m\n\u001b[0;32m   3147\u001b[0m     shared_func_graph\u001b[38;5;241m=\u001b[39m\u001b[38;5;28;01mFalse\u001b[39;00m)\n\u001b[0;32m   3148\u001b[0m \u001b[38;5;28;01mreturn\u001b[39;00m graph_function\n",
      "File \u001b[1;32mc:\\users\\asus\\anaconda3\\envs\\notebook\\lib\\site-packages\\tensorflow\\python\\framework\\func_graph.py:1161\u001b[0m, in \u001b[0;36mfunc_graph_from_py_func\u001b[1;34m(name, python_func, args, kwargs, signature, func_graph, autograph, autograph_options, add_control_dependencies, arg_names, op_return_value, collections, capture_by_value, override_flat_arg_shapes, acd_record_initial_resource_uses)\u001b[0m\n\u001b[0;32m   1158\u001b[0m \u001b[38;5;28;01melse\u001b[39;00m:\n\u001b[0;32m   1159\u001b[0m   _, original_func \u001b[38;5;241m=\u001b[39m tf_decorator\u001b[38;5;241m.\u001b[39munwrap(python_func)\n\u001b[1;32m-> 1161\u001b[0m func_outputs \u001b[38;5;241m=\u001b[39m python_func(\u001b[38;5;241m*\u001b[39mfunc_args, \u001b[38;5;241m*\u001b[39m\u001b[38;5;241m*\u001b[39mfunc_kwargs)\n\u001b[0;32m   1163\u001b[0m \u001b[38;5;66;03m# invariant: `func_outputs` contains only Tensors, CompositeTensors,\u001b[39;00m\n\u001b[0;32m   1164\u001b[0m \u001b[38;5;66;03m# TensorArrays and `None`s.\u001b[39;00m\n\u001b[0;32m   1165\u001b[0m func_outputs \u001b[38;5;241m=\u001b[39m nest\u001b[38;5;241m.\u001b[39mmap_structure(convert, func_outputs,\n\u001b[0;32m   1166\u001b[0m                                   expand_composites\u001b[38;5;241m=\u001b[39m\u001b[38;5;28;01mTrue\u001b[39;00m)\n",
      "File \u001b[1;32mc:\\users\\asus\\anaconda3\\envs\\notebook\\lib\\site-packages\\tensorflow\\python\\data\\ops\\structured_function.py:248\u001b[0m, in \u001b[0;36mStructuredFunctionWrapper.__init__.<locals>.trace_tf_function.<locals>.wrapped_fn\u001b[1;34m(*args)\u001b[0m\n\u001b[0;32m    242\u001b[0m \u001b[38;5;129m@eager_function\u001b[39m\u001b[38;5;241m.\u001b[39mdefun_with_attributes(\n\u001b[0;32m    243\u001b[0m     input_signature\u001b[38;5;241m=\u001b[39mstructure\u001b[38;5;241m.\u001b[39mget_flat_tensor_specs(\n\u001b[0;32m    244\u001b[0m         \u001b[38;5;28mself\u001b[39m\u001b[38;5;241m.\u001b[39m_input_structure),\n\u001b[0;32m    245\u001b[0m     autograph\u001b[38;5;241m=\u001b[39m\u001b[38;5;28;01mFalse\u001b[39;00m,\n\u001b[0;32m    246\u001b[0m     attributes\u001b[38;5;241m=\u001b[39mdefun_kwargs)\n\u001b[0;32m    247\u001b[0m \u001b[38;5;28;01mdef\u001b[39;00m \u001b[38;5;21mwrapped_fn\u001b[39m(\u001b[38;5;241m*\u001b[39margs):  \u001b[38;5;66;03m# pylint: disable=missing-docstring\u001b[39;00m\n\u001b[1;32m--> 248\u001b[0m   ret \u001b[38;5;241m=\u001b[39m \u001b[43mwrapper_helper\u001b[49m\u001b[43m(\u001b[49m\u001b[38;5;241;43m*\u001b[39;49m\u001b[43margs\u001b[49m\u001b[43m)\u001b[49m\n\u001b[0;32m    249\u001b[0m   ret \u001b[38;5;241m=\u001b[39m structure\u001b[38;5;241m.\u001b[39mto_tensor_list(\u001b[38;5;28mself\u001b[39m\u001b[38;5;241m.\u001b[39m_output_structure, ret)\n\u001b[0;32m    250\u001b[0m   \u001b[38;5;28;01mreturn\u001b[39;00m [ops\u001b[38;5;241m.\u001b[39mconvert_to_tensor(t) \u001b[38;5;28;01mfor\u001b[39;00m t \u001b[38;5;129;01min\u001b[39;00m ret]\n",
      "File \u001b[1;32mc:\\users\\asus\\anaconda3\\envs\\notebook\\lib\\site-packages\\tensorflow\\python\\data\\ops\\structured_function.py:177\u001b[0m, in \u001b[0;36mStructuredFunctionWrapper.__init__.<locals>.wrapper_helper\u001b[1;34m(*args)\u001b[0m\n\u001b[0;32m    175\u001b[0m \u001b[38;5;28;01mif\u001b[39;00m \u001b[38;5;129;01mnot\u001b[39;00m _should_unpack(nested_args):\n\u001b[0;32m    176\u001b[0m   nested_args \u001b[38;5;241m=\u001b[39m (nested_args,)\n\u001b[1;32m--> 177\u001b[0m ret \u001b[38;5;241m=\u001b[39m \u001b[43mautograph\u001b[49m\u001b[38;5;241;43m.\u001b[39;49m\u001b[43mtf_convert\u001b[49m\u001b[43m(\u001b[49m\u001b[38;5;28;43mself\u001b[39;49m\u001b[38;5;241;43m.\u001b[39;49m\u001b[43m_func\u001b[49m\u001b[43m,\u001b[49m\u001b[43m \u001b[49m\u001b[43mag_ctx\u001b[49m\u001b[43m)\u001b[49m\u001b[43m(\u001b[49m\u001b[38;5;241;43m*\u001b[39;49m\u001b[43mnested_args\u001b[49m\u001b[43m)\u001b[49m\n\u001b[0;32m    178\u001b[0m \u001b[38;5;28;01mif\u001b[39;00m _should_pack(ret):\n\u001b[0;32m    179\u001b[0m   ret \u001b[38;5;241m=\u001b[39m \u001b[38;5;28mtuple\u001b[39m(ret)\n",
      "File \u001b[1;32mc:\\users\\asus\\anaconda3\\envs\\notebook\\lib\\site-packages\\tensorflow\\python\\autograph\\impl\\api.py:692\u001b[0m, in \u001b[0;36mconvert.<locals>.decorator.<locals>.wrapper\u001b[1;34m(*args, **kwargs)\u001b[0m\n\u001b[0;32m    690\u001b[0m \u001b[38;5;28;01mexcept\u001b[39;00m \u001b[38;5;167;01mException\u001b[39;00m \u001b[38;5;28;01mas\u001b[39;00m e:  \u001b[38;5;66;03m# pylint:disable=broad-except\u001b[39;00m\n\u001b[0;32m    691\u001b[0m   \u001b[38;5;28;01mif\u001b[39;00m \u001b[38;5;28mhasattr\u001b[39m(e, \u001b[38;5;124m'\u001b[39m\u001b[38;5;124mag_error_metadata\u001b[39m\u001b[38;5;124m'\u001b[39m):\n\u001b[1;32m--> 692\u001b[0m     \u001b[38;5;28;01mraise\u001b[39;00m e\u001b[38;5;241m.\u001b[39mag_error_metadata\u001b[38;5;241m.\u001b[39mto_exception(e)\n\u001b[0;32m    693\u001b[0m   \u001b[38;5;28;01melse\u001b[39;00m:\n\u001b[0;32m    694\u001b[0m     \u001b[38;5;28;01mraise\u001b[39;00m\n",
      "\u001b[1;31mValueError\u001b[0m: in user code:\n\n    File \"C:\\Users\\ASUS\\AppData\\Local\\Temp\\ipykernel_3952\\1999664232.py\", line 8, in None  *\n        lambda features: (features['CAREGIVER_ID'], MAIN_CAREGIVER_MODEL(features))\n\n    ValueError: Could not find matching concrete function to call loaded from the SavedModel. Got:\n      Positional arguments (3 total):\n        * {'Caregiver_Gender': <tf.Tensor 'inputs_12:0' shape=(None,) dtype=string>, 'CAREGIVER_ID': <tf.Tensor 'inputs:0' shape=(None,) dtype=string>, 'text': <tf.Tensor 'inputs_13:0' shape=(None,) dtype=string>, 'Caregiver_Age': <tf.Tensor 'inputs_11:0' shape=(None,) dtype=int64>, 'Caregiver-Anxiety': <tf.Tensor 'inputs_2:0' shape=(None,) dtype=int32>, 'Caregiver-Depresi': <tf.Tensor 'inputs_3:0' shape=(None,) dtype=int32>, 'Caregiver-Gangguan-kecemasan': <tf.Tensor 'inputs_4:0' shape=(None,) dtype=int32>, 'Caregiver-Gangguan-stress-pascatrauma': <tf.Tensor 'inputs_7:0' shape=(None,) dtype=int32>, 'Caregiver-Kekerasan': <tf.Tensor 'inputs_8:0' shape=(None,) dtype=int32>, 'Caregiver-Masalah-Tidur': <tf.Tensor 'inputs_9:0' shape=(None,) dtype=int32>, 'Caregiver-Skizofrenia': <tf.Tensor 'inputs_10:0' shape=(None,) dtype=int32>, 'Caregiver-ADHD-Hiperaktif-dan-kurang-fokus': <tf.Tensor 'inputs_1:0' shape=(None,) dtype=int64>, 'Caregiver-Gangguan-makan': <tf.Tensor 'inputs_5:0' shape=(None,) dtype=int64>, 'Caregiver-Gangguan-stres-pascatrauma': <tf.Tensor 'inputs_6:0' shape=(None,) dtype=int64>}\n        * False\n        * None\n      Keyword arguments: {}\n    \n     Expected these arguments to match one of the following 4 option(s):\n    \n    Option 1:\n      Positional arguments (3 total):\n        * {'Caregiver-Gangguan-kecemasan': TensorSpec(shape=(None, None), dtype=tf.int32, name='Caregiver-Gangguan-kecemasan'), 'Caregiver-Depresi': TensorSpec(shape=(None, None), dtype=tf.int32, name='Caregiver-Depresi'), 'Caregiver_Gender': TensorSpec(shape=(None, None), dtype=tf.string, name='Caregiver_Gender'), 'CAREGIVER_ID': TensorSpec(shape=(None, None), dtype=tf.int64, name='CAREGIVER_ID'), 'Caregiver-Gangguan-stres-pascatrauma': TensorSpec(shape=(None, None), dtype=tf.int32, name='Caregiver-Gangguan-stres-pascatrauma'), 'Caregiver-ADHD-Hiperaktif-dan-kurang-fokus': TensorSpec(shape=(None, None), dtype=tf.int32, name='Caregiver-ADHD-Hiperaktif-dan-kurang-fokus'), 'Caregiver-Skizofrenia': TensorSpec(shape=(None, None), dtype=tf.int32, name='Caregiver-Skizofrenia'), 'Caregiver_Age': TensorSpec(shape=(None, None), dtype=tf.int64, name='Caregiver_Age'), 'Caregiver-Gangguan-makan': TensorSpec(shape=(None, None), dtype=tf.int32, name='Caregiver-Gangguan-makan')}\n        * False\n        * None\n      Keyword arguments: {}\n    \n    Option 2:\n      Positional arguments (3 total):\n        * {'Caregiver-ADHD-Hiperaktif-dan-kurang-fokus': TensorSpec(shape=(None, None), dtype=tf.int32, name='inputs/Caregiver-ADHD-Hiperaktif-dan-kurang-fokus'), 'Caregiver_Age': TensorSpec(shape=(None, None), dtype=tf.int64, name='inputs/Caregiver_Age'), 'Caregiver-Gangguan-stres-pascatrauma': TensorSpec(shape=(None, None), dtype=tf.int32, name='inputs/Caregiver-Gangguan-stres-pascatrauma'), 'Caregiver-Skizofrenia': TensorSpec(shape=(None, None), dtype=tf.int32, name='inputs/Caregiver-Skizofrenia'), 'Caregiver-Gangguan-makan': TensorSpec(shape=(None, None), dtype=tf.int32, name='inputs/Caregiver-Gangguan-makan'), 'Caregiver-Gangguan-kecemasan': TensorSpec(shape=(None, None), dtype=tf.int32, name='inputs/Caregiver-Gangguan-kecemasan'), 'Caregiver-Depresi': TensorSpec(shape=(None, None), dtype=tf.int32, name='inputs/Caregiver-Depresi'), 'CAREGIVER_ID': TensorSpec(shape=(None, None), dtype=tf.int64, name='inputs/CAREGIVER_ID'), 'Caregiver_Gender': TensorSpec(shape=(None, None), dtype=tf.string, name='inputs/Caregiver_Gender')}\n        * False\n        * None\n      Keyword arguments: {}\n    \n    Option 3:\n      Positional arguments (3 total):\n        * {'CAREGIVER_ID': TensorSpec(shape=(None, None), dtype=tf.int64, name='inputs/CAREGIVER_ID'), 'Caregiver-Gangguan-kecemasan': TensorSpec(shape=(None, None), dtype=tf.int32, name='inputs/Caregiver-Gangguan-kecemasan'), 'Caregiver-Gangguan-stres-pascatrauma': TensorSpec(shape=(None, None), dtype=tf.int32, name='inputs/Caregiver-Gangguan-stres-pascatrauma'), 'Caregiver-Depresi': TensorSpec(shape=(None, None), dtype=tf.int32, name='inputs/Caregiver-Depresi'), 'Caregiver_Age': TensorSpec(shape=(None, None), dtype=tf.int64, name='inputs/Caregiver_Age'), 'Caregiver_Gender': TensorSpec(shape=(None, None), dtype=tf.string, name='inputs/Caregiver_Gender'), 'Caregiver-Skizofrenia': TensorSpec(shape=(None, None), dtype=tf.int32, name='inputs/Caregiver-Skizofrenia'), 'Caregiver-ADHD-Hiperaktif-dan-kurang-fokus': TensorSpec(shape=(None, None), dtype=tf.int32, name='inputs/Caregiver-ADHD-Hiperaktif-dan-kurang-fokus'), 'Caregiver-Gangguan-makan': TensorSpec(shape=(None, None), dtype=tf.int32, name='inputs/Caregiver-Gangguan-makan')}\n        * True\n        * None\n      Keyword arguments: {}\n    \n    Option 4:\n      Positional arguments (3 total):\n        * {'Caregiver_Age': TensorSpec(shape=(None, None), dtype=tf.int64, name='Caregiver_Age'), 'Caregiver-Gangguan-makan': TensorSpec(shape=(None, None), dtype=tf.int32, name='Caregiver-Gangguan-makan'), 'Caregiver_Gender': TensorSpec(shape=(None, None), dtype=tf.string, name='Caregiver_Gender'), 'Caregiver-Gangguan-kecemasan': TensorSpec(shape=(None, None), dtype=tf.int32, name='Caregiver-Gangguan-kecemasan'), 'CAREGIVER_ID': TensorSpec(shape=(None, None), dtype=tf.int64, name='CAREGIVER_ID'), 'Caregiver-Depresi': TensorSpec(shape=(None, None), dtype=tf.int32, name='Caregiver-Depresi'), 'Caregiver-Skizofrenia': TensorSpec(shape=(None, None), dtype=tf.int32, name='Caregiver-Skizofrenia'), 'Caregiver-ADHD-Hiperaktif-dan-kurang-fokus': TensorSpec(shape=(None, None), dtype=tf.int32, name='Caregiver-ADHD-Hiperaktif-dan-kurang-fokus'), 'Caregiver-Gangguan-stres-pascatrauma': TensorSpec(shape=(None, None), dtype=tf.int32, name='Caregiver-Gangguan-stres-pascatrauma')}\n        * True\n        * None\n      Keyword arguments: {}\n"
     ]
    }
   ],
   "source": [
    "# update this\n",
    "TEXT_INDEX.index_from_dataset(\n",
    "    caregiver_ds.map(lambda features: (features['CAREGIVER_ID'], MAIN_TEXT_MODEL([features['text']])))\n",
    ")\n",
    "\n",
    "# update_this\n",
    "INDEX.index_from_dataset(\n",
    "    caregiver_ds.map(lambda features: (features['CAREGIVER_ID'], MAIN_CAREGIVER_MODEL(features)))\n",
    ")"
   ]
  },
  {
   "cell_type": "code",
   "execution_count": null,
   "id": "7c1bed72",
   "metadata": {},
   "outputs": [],
   "source": []
  },
  {
   "cell_type": "code",
   "execution_count": null,
   "id": "348cfdcd",
   "metadata": {},
   "outputs": [],
   "source": [
    "a = ['Gender', 'Age', 'ADHD-Hiperaktif-dan-kurang-fokus', 'Depresi', 'Gangguan-kecemasan', 'Gangguan-makan',\n",
    "         'Gangguan-stres-pascatrauma', 'Skizofrenia']\n",
    "value = ['Pria', 30, 0, 1, 0, 0, 1, 0]\n",
    "dictionary_Test = dict((el, ([value[ix]])) for ix, el in enumerate(a))\n",
    "print(dictionary_Test)\n",
    "\n",
    "a, titles = INDEX(dictionary_Test, k=1)\n",
    "print(f\"Top recommendations: {titles[0]}\")\n",
    "\n",
    "a, titles = TEXT_INDEX(np.array([\"AAAA sa sayang\"]), k=1)\n",
    "\n",
    "print(f\"Top recommendations: {titles[0]}\")\n",
    "\n",
    "print(MAIN_TEXT_MODEL(np.array([\"aa sss\"])))"
   ]
  },
  {
   "cell_type": "code",
   "execution_count": 8,
   "id": "725097f9",
   "metadata": {},
   "outputs": [],
   "source": [
    "def unpack_user_snapshot(data):\n",
    "    print(type(data))\n",
    "    if (type(data) != list):\n",
    "        data = [data]\n",
    "    print(type(data))\n",
    "    data = convert_snapshot(data, desired_key=[\"problems\", \"gender\", \"birthday\", \"text\"])\n",
    "    data = map(lambda feature: Merge(feature, {'age': age(feature.pop('birthday'))}), data)\n",
    "    \n",
    "    return data\n",
    "\n",
    "def convert_user_dictList_to_df(dictionary):\n",
    "    \"\"\"\n",
    "    :param dictionary: list of dictionary\n",
    "    :return: dataframe of the said dictionary\n",
    "    \"\"\"\n",
    "    # Creates DataFrame.\n",
    "    df = pd.DataFrame(dictionary)\n",
    "    #change column name to feature according to the model\n",
    "    change_column_name(df, ['problems','gender','caregiver_id','age'],['Tipe_Masalah','Gender','CAREGIVER_ID','Age'])\n",
    "    #convert categorical data into their own column\n",
    "    convert_categorical_data(df, \"Tipe_Masalah\", is_caregiver = False)\n",
    "    #fill missing column with default value\n",
    "    fill_non_existent_column(df, is_caregiver = False)\n",
    "    return df\n",
    "\n"
   ]
  },
  {
   "cell_type": "code",
   "execution_count": 9,
   "id": "fa08843a",
   "metadata": {},
   "outputs": [],
   "source": [
    "db_user = db.collection('users').document(\"4R3TTPINWhPzUvwIUEXbldtNAY72\")\n"
   ]
  },
  {
   "cell_type": "code",
   "execution_count": 10,
   "id": "3358e781",
   "metadata": {},
   "outputs": [],
   "source": [
    "data_ref = db_user.get()"
   ]
  },
  {
   "cell_type": "code",
   "execution_count": 11,
   "id": "fbdad883",
   "metadata": {},
   "outputs": [
    {
     "name": "stdout",
     "output_type": "stream",
     "text": [
      "{'birthday': DatetimeWithNanoseconds(2000, 11, 16, 16, 0, tzinfo=datetime.timezone.utc), 'text': 'aku stress', 'img': 'https://upload.wikimedia.org/wikipedia/commons/thumb/6/60/John_Cena_July_2018.jpg/640px-John_Cena_July_2018.jpg', 'rating': [4, 5], 'name': 'Dhiva', 'problems': ' Anxiety Kekerasan Masalah-Tidur', 'point': 0, 'gender': 'Pria'}\n"
     ]
    }
   ],
   "source": [
    "data = data_ref\n",
    "print(data.to_dict())"
   ]
  },
  {
   "cell_type": "code",
   "execution_count": 12,
   "id": "f0ae0f9a",
   "metadata": {},
   "outputs": [
    {
     "name": "stdout",
     "output_type": "stream",
     "text": [
      "<class 'google.cloud.firestore_v1.base_document.DocumentSnapshot'>\n",
      "<class 'list'>\n",
      "[{'problems': ' Anxiety Kekerasan Masalah-Tidur', 'gender': 'Pria', 'text': 'aku stress', 'age': 21}]\n"
     ]
    }
   ],
   "source": [
    "data = list(unpack_user_snapshot(data))\n",
    "print(data)"
   ]
  },
  {
   "cell_type": "code",
   "execution_count": 13,
   "id": "966d1c37",
   "metadata": {},
   "outputs": [
    {
     "data": {
      "text/html": [
       "<div>\n",
       "<style scoped>\n",
       "    .dataframe tbody tr th:only-of-type {\n",
       "        vertical-align: middle;\n",
       "    }\n",
       "\n",
       "    .dataframe tbody tr th {\n",
       "        vertical-align: top;\n",
       "    }\n",
       "\n",
       "    .dataframe thead th {\n",
       "        text-align: right;\n",
       "    }\n",
       "</style>\n",
       "<table border=\"1\" class=\"dataframe\">\n",
       "  <thead>\n",
       "    <tr style=\"text-align: right;\">\n",
       "      <th></th>\n",
       "      <th>Gender</th>\n",
       "      <th>text</th>\n",
       "      <th>Age</th>\n",
       "      <th>Anxiety</th>\n",
       "      <th>Kekerasan</th>\n",
       "      <th>Masalah-Tidur</th>\n",
       "      <th>ADHD-Hiperaktif-dan-kurang-fokus</th>\n",
       "      <th>Depresi</th>\n",
       "      <th>Gangguan-kecemasan</th>\n",
       "      <th>Gangguan-makan</th>\n",
       "      <th>Gangguan-stres-pascatrauma</th>\n",
       "      <th>Skizofrenia</th>\n",
       "    </tr>\n",
       "  </thead>\n",
       "  <tbody>\n",
       "    <tr>\n",
       "      <th>0</th>\n",
       "      <td>Pria</td>\n",
       "      <td>aku stress</td>\n",
       "      <td>21</td>\n",
       "      <td>1</td>\n",
       "      <td>1</td>\n",
       "      <td>1</td>\n",
       "      <td>0</td>\n",
       "      <td>0</td>\n",
       "      <td>0</td>\n",
       "      <td>0</td>\n",
       "      <td>0</td>\n",
       "      <td>0</td>\n",
       "    </tr>\n",
       "  </tbody>\n",
       "</table>\n",
       "</div>"
      ],
      "text/plain": [
       "  Gender        text  Age  Anxiety  Kekerasan  Masalah-Tidur  \\\n",
       "0   Pria  aku stress   21        1          1              1   \n",
       "\n",
       "   ADHD-Hiperaktif-dan-kurang-fokus  Depresi  Gangguan-kecemasan  \\\n",
       "0                                 0        0                   0   \n",
       "\n",
       "   Gangguan-makan  Gangguan-stres-pascatrauma  Skizofrenia  \n",
       "0               0                           0            0  "
      ]
     },
     "execution_count": 13,
     "metadata": {},
     "output_type": "execute_result"
    }
   ],
   "source": [
    "data = convert_user_dictList_to_df(data)\n",
    "data.head(4)"
   ]
  },
  {
   "cell_type": "code",
   "execution_count": 14,
   "id": "e3d55e15",
   "metadata": {},
   "outputs": [],
   "source": [
    "data =data.to_dict('records')[0]"
   ]
  },
  {
   "cell_type": "code",
   "execution_count": null,
   "id": "f1b068ae",
   "metadata": {},
   "outputs": [],
   "source": []
  },
  {
   "cell_type": "code",
   "execution_count": 15,
   "id": "cdb3e170",
   "metadata": {},
   "outputs": [],
   "source": [
    "for k, v in data.items():\n",
    "    data[k] = [v]"
   ]
  },
  {
   "cell_type": "code",
   "execution_count": 16,
   "id": "5b847c1d",
   "metadata": {},
   "outputs": [
    {
     "ename": "AttributeError",
     "evalue": "Exception encountered when calling layer \"brute_force_2\" (type BruteForce).\n\n'BruteForce' object has no attribute '_candidates'\n\nCall arguments received:\n  • queries={'Gender': [\"'Pria'\"], 'text': [\"'aku stress'\"], 'Age': ['tf.Tensor(shape=(), dtype=int32)'], 'Anxiety': ['tf.Tensor(shape=(), dtype=int32)'], 'Kekerasan': ['tf.Tensor(shape=(), dtype=int32)'], 'Masalah-Tidur': ['tf.Tensor(shape=(), dtype=int32)'], 'ADHD-Hiperaktif-dan-kurang-fokus': ['tf.Tensor(shape=(), dtype=int32)'], 'Depresi': ['tf.Tensor(shape=(), dtype=int32)'], 'Gangguan-kecemasan': ['tf.Tensor(shape=(), dtype=int32)'], 'Gangguan-makan': ['tf.Tensor(shape=(), dtype=int32)'], 'Gangguan-stres-pascatrauma': ['tf.Tensor(shape=(), dtype=int32)'], 'Skizofrenia': ['tf.Tensor(shape=(), dtype=int32)']}\n  • k=1",
     "output_type": "error",
     "traceback": [
      "\u001b[1;31m---------------------------------------------------------------------------\u001b[0m",
      "\u001b[1;31mAttributeError\u001b[0m                            Traceback (most recent call last)",
      "Input \u001b[1;32mIn [16]\u001b[0m, in \u001b[0;36m<cell line: 1>\u001b[1;34m()\u001b[0m\n\u001b[1;32m----> 1\u001b[0m a, titles \u001b[38;5;241m=\u001b[39m \u001b[43mINDEX\u001b[49m\u001b[43m(\u001b[49m\u001b[43mdata\u001b[49m\u001b[43m,\u001b[49m\u001b[43m \u001b[49m\u001b[43mk\u001b[49m\u001b[38;5;241;43m=\u001b[39;49m\u001b[38;5;241;43m1\u001b[39;49m\u001b[43m)\u001b[49m\n\u001b[0;32m      2\u001b[0m \u001b[38;5;28mprint\u001b[39m(\u001b[38;5;124mf\u001b[39m\u001b[38;5;124m\"\u001b[39m\u001b[38;5;124mTop recommendations: \u001b[39m\u001b[38;5;132;01m{\u001b[39;00mtitles[\u001b[38;5;241m0\u001b[39m]\u001b[38;5;132;01m}\u001b[39;00m\u001b[38;5;124m\"\u001b[39m)\n",
      "File \u001b[1;32mc:\\users\\asus\\anaconda3\\envs\\notebook\\lib\\site-packages\\keras\\utils\\traceback_utils.py:67\u001b[0m, in \u001b[0;36mfilter_traceback.<locals>.error_handler\u001b[1;34m(*args, **kwargs)\u001b[0m\n\u001b[0;32m     65\u001b[0m \u001b[38;5;28;01mexcept\u001b[39;00m \u001b[38;5;167;01mException\u001b[39;00m \u001b[38;5;28;01mas\u001b[39;00m e:  \u001b[38;5;66;03m# pylint: disable=broad-except\u001b[39;00m\n\u001b[0;32m     66\u001b[0m   filtered_tb \u001b[38;5;241m=\u001b[39m _process_traceback_frames(e\u001b[38;5;241m.\u001b[39m__traceback__)\n\u001b[1;32m---> 67\u001b[0m   \u001b[38;5;28;01mraise\u001b[39;00m e\u001b[38;5;241m.\u001b[39mwith_traceback(filtered_tb) \u001b[38;5;28;01mfrom\u001b[39;00m \u001b[38;5;28mNone\u001b[39m\n\u001b[0;32m     68\u001b[0m \u001b[38;5;28;01mfinally\u001b[39;00m:\n\u001b[0;32m     69\u001b[0m   \u001b[38;5;28;01mdel\u001b[39;00m filtered_tb\n",
      "File \u001b[1;32mc:\\users\\asus\\anaconda3\\envs\\notebook\\lib\\site-packages\\tensorflow_recommenders\\layers\\factorized_top_k.py:562\u001b[0m, in \u001b[0;36mBruteForce.call\u001b[1;34m(self, queries, k)\u001b[0m\n\u001b[0;32m    554\u001b[0m \u001b[38;5;28;01mdef\u001b[39;00m \u001b[38;5;21mcall\u001b[39m(\n\u001b[0;32m    555\u001b[0m     \u001b[38;5;28mself\u001b[39m,\n\u001b[0;32m    556\u001b[0m     queries: Union[tf\u001b[38;5;241m.\u001b[39mTensor, Dict[Text, tf\u001b[38;5;241m.\u001b[39mTensor]],\n\u001b[0;32m    557\u001b[0m     k: Optional[\u001b[38;5;28mint\u001b[39m] \u001b[38;5;241m=\u001b[39m \u001b[38;5;28;01mNone\u001b[39;00m,\n\u001b[0;32m    558\u001b[0m ) \u001b[38;5;241m-\u001b[39m\u001b[38;5;241m>\u001b[39m Tuple[tf\u001b[38;5;241m.\u001b[39mTensor, tf\u001b[38;5;241m.\u001b[39mTensor]:\n\u001b[0;32m    560\u001b[0m   k \u001b[38;5;241m=\u001b[39m k \u001b[38;5;28;01mif\u001b[39;00m k \u001b[38;5;129;01mis\u001b[39;00m \u001b[38;5;129;01mnot\u001b[39;00m \u001b[38;5;28;01mNone\u001b[39;00m \u001b[38;5;28;01melse\u001b[39;00m \u001b[38;5;28mself\u001b[39m\u001b[38;5;241m.\u001b[39m_k\n\u001b[1;32m--> 562\u001b[0m   \u001b[38;5;28;01mif\u001b[39;00m \u001b[38;5;28;43mself\u001b[39;49m\u001b[38;5;241;43m.\u001b[39;49m\u001b[43m_candidates\u001b[49m \u001b[38;5;129;01mis\u001b[39;00m \u001b[38;5;28;01mNone\u001b[39;00m:\n\u001b[0;32m    563\u001b[0m     \u001b[38;5;28;01mraise\u001b[39;00m \u001b[38;5;167;01mValueError\u001b[39;00m(\u001b[38;5;124m\"\u001b[39m\u001b[38;5;124mThe `index` method must be called first to \u001b[39m\u001b[38;5;124m\"\u001b[39m\n\u001b[0;32m    564\u001b[0m                      \u001b[38;5;124m\"\u001b[39m\u001b[38;5;124mcreate the retrieval index.\u001b[39m\u001b[38;5;124m\"\u001b[39m)\n\u001b[0;32m    566\u001b[0m   \u001b[38;5;28;01mif\u001b[39;00m \u001b[38;5;28mself\u001b[39m\u001b[38;5;241m.\u001b[39mquery_model \u001b[38;5;129;01mis\u001b[39;00m \u001b[38;5;129;01mnot\u001b[39;00m \u001b[38;5;28;01mNone\u001b[39;00m:\n",
      "\u001b[1;31mAttributeError\u001b[0m: Exception encountered when calling layer \"brute_force_2\" (type BruteForce).\n\n'BruteForce' object has no attribute '_candidates'\n\nCall arguments received:\n  • queries={'Gender': [\"'Pria'\"], 'text': [\"'aku stress'\"], 'Age': ['tf.Tensor(shape=(), dtype=int32)'], 'Anxiety': ['tf.Tensor(shape=(), dtype=int32)'], 'Kekerasan': ['tf.Tensor(shape=(), dtype=int32)'], 'Masalah-Tidur': ['tf.Tensor(shape=(), dtype=int32)'], 'ADHD-Hiperaktif-dan-kurang-fokus': ['tf.Tensor(shape=(), dtype=int32)'], 'Depresi': ['tf.Tensor(shape=(), dtype=int32)'], 'Gangguan-kecemasan': ['tf.Tensor(shape=(), dtype=int32)'], 'Gangguan-makan': ['tf.Tensor(shape=(), dtype=int32)'], 'Gangguan-stres-pascatrauma': ['tf.Tensor(shape=(), dtype=int32)'], 'Skizofrenia': ['tf.Tensor(shape=(), dtype=int32)']}\n  • k=1"
     ]
    }
   ],
   "source": [
    "a, titles = INDEX(data, k=1)\n",
    "print(f\"Top recommendations: {titles[0]}\")"
   ]
  },
  {
   "cell_type": "code",
   "execution_count": 17,
   "id": "10bb635f",
   "metadata": {},
   "outputs": [],
   "source": [
    "from flask import json"
   ]
  },
  {
   "cell_type": "code",
   "execution_count": 18,
   "id": "d81e2c2c",
   "metadata": {},
   "outputs": [
    {
     "ename": "NameError",
     "evalue": "name 'titles' is not defined",
     "output_type": "error",
     "traceback": [
      "\u001b[1;31m---------------------------------------------------------------------------\u001b[0m",
      "\u001b[1;31mNameError\u001b[0m                                 Traceback (most recent call last)",
      "Input \u001b[1;32mIn [18]\u001b[0m, in \u001b[0;36m<cell line: 2>\u001b[1;34m()\u001b[0m\n\u001b[0;32m      1\u001b[0m test \u001b[38;5;241m=\u001b[39m {\n\u001b[1;32m----> 2\u001b[0m     \u001b[38;5;124m'\u001b[39m\u001b[38;5;124mrecommendation\u001b[39m\u001b[38;5;124m'\u001b[39m: \u001b[43mtitles\u001b[49m[\u001b[38;5;241m0\u001b[39m]\u001b[38;5;241m.\u001b[39mnumpy()\u001b[38;5;241m.\u001b[39mtolist()\n\u001b[0;32m      3\u001b[0m }\n",
      "\u001b[1;31mNameError\u001b[0m: name 'titles' is not defined"
     ]
    }
   ],
   "source": [
    "test = {\n",
    "    'recommendation': titles[0].numpy().tolist()\n",
    "}"
   ]
  },
  {
   "cell_type": "code",
   "execution_count": 19,
   "id": "7ef48a38",
   "metadata": {},
   "outputs": [
    {
     "ename": "NameError",
     "evalue": "name 'test' is not defined",
     "output_type": "error",
     "traceback": [
      "\u001b[1;31m---------------------------------------------------------------------------\u001b[0m",
      "\u001b[1;31mNameError\u001b[0m                                 Traceback (most recent call last)",
      "Input \u001b[1;32mIn [19]\u001b[0m, in \u001b[0;36m<cell line: 1>\u001b[1;34m()\u001b[0m\n\u001b[1;32m----> 1\u001b[0m \u001b[38;5;28mtype\u001b[39m(\u001b[43mtest\u001b[49m[\u001b[38;5;124m'\u001b[39m\u001b[38;5;124mrecommendation\u001b[39m\u001b[38;5;124m'\u001b[39m])\n",
      "\u001b[1;31mNameError\u001b[0m: name 'test' is not defined"
     ]
    }
   ],
   "source": [
    "type(test['recommendation'])"
   ]
  },
  {
   "cell_type": "code",
   "execution_count": 20,
   "id": "a9c3c619",
   "metadata": {},
   "outputs": [
    {
     "ename": "NameError",
     "evalue": "name 'test' is not defined",
     "output_type": "error",
     "traceback": [
      "\u001b[1;31m---------------------------------------------------------------------------\u001b[0m",
      "\u001b[1;31mNameError\u001b[0m                                 Traceback (most recent call last)",
      "Input \u001b[1;32mIn [20]\u001b[0m, in \u001b[0;36m<cell line: 1>\u001b[1;34m()\u001b[0m\n\u001b[1;32m----> 1\u001b[0m test \u001b[38;5;241m=\u001b[39m \u001b[38;5;28mlist\u001b[39m(\u001b[38;5;28mmap\u001b[39m(\u001b[38;5;28;01mlambda\u001b[39;00m string: string\u001b[38;5;241m.\u001b[39mdecode(\u001b[38;5;124m\"\u001b[39m\u001b[38;5;124mutf-8\u001b[39m\u001b[38;5;124m\"\u001b[39m), \u001b[43mtest\u001b[49m[\u001b[38;5;124m'\u001b[39m\u001b[38;5;124mrecommendation\u001b[39m\u001b[38;5;124m'\u001b[39m]))\n",
      "\u001b[1;31mNameError\u001b[0m: name 'test' is not defined"
     ]
    }
   ],
   "source": [
    "test = list(map(lambda string: string.decode(\"utf-8\"), test['recommendation']))"
   ]
  },
  {
   "cell_type": "code",
   "execution_count": 21,
   "id": "24fc984c",
   "metadata": {},
   "outputs": [
    {
     "ename": "NameError",
     "evalue": "name 'test' is not defined",
     "output_type": "error",
     "traceback": [
      "\u001b[1;31m---------------------------------------------------------------------------\u001b[0m",
      "\u001b[1;31mNameError\u001b[0m                                 Traceback (most recent call last)",
      "Input \u001b[1;32mIn [21]\u001b[0m, in \u001b[0;36m<cell line: 1>\u001b[1;34m()\u001b[0m\n\u001b[1;32m----> 1\u001b[0m \u001b[43mtest\u001b[49m\n",
      "\u001b[1;31mNameError\u001b[0m: name 'test' is not defined"
     ]
    }
   ],
   "source": [
    "test"
   ]
  },
  {
   "cell_type": "code",
   "execution_count": 22,
   "id": "e5582c8b",
   "metadata": {},
   "outputs": [],
   "source": [
    "db_chat_room_pref = db.collection('chat_room_pref')"
   ]
  },
  {
   "cell_type": "code",
   "execution_count": 24,
   "id": "d5f4adaa",
   "metadata": {},
   "outputs": [],
   "source": [
    "chat_data = db_chat_room_pref.get()"
   ]
  },
  {
   "cell_type": "code",
   "execution_count": 146,
   "id": "06d35336",
   "metadata": {},
   "outputs": [],
   "source": [
    "\n",
    "data = unpack_caregiver_snapshot(chat_data)\n",
    "data = convert_caregiver_dictList_to_df(data)"
   ]
  },
  {
   "cell_type": "code",
   "execution_count": 147,
   "id": "cd0e16c2",
   "metadata": {},
   "outputs": [
    {
     "data": {
      "text/html": [
       "<div>\n",
       "<style scoped>\n",
       "    .dataframe tbody tr th:only-of-type {\n",
       "        vertical-align: middle;\n",
       "    }\n",
       "\n",
       "    .dataframe tbody tr th {\n",
       "        vertical-align: top;\n",
       "    }\n",
       "\n",
       "    .dataframe thead th {\n",
       "        text-align: right;\n",
       "    }\n",
       "</style>\n",
       "<table border=\"1\" class=\"dataframe\">\n",
       "  <thead>\n",
       "    <tr style=\"text-align: right;\">\n",
       "      <th></th>\n",
       "      <th>Caregiver_Gender</th>\n",
       "      <th>CAREGIVER_ID</th>\n",
       "      <th>text</th>\n",
       "      <th>Caregiver_Age</th>\n",
       "      <th>Caregiver-Anxiety</th>\n",
       "      <th>Caregiver-Depresi</th>\n",
       "      <th>Caregiver-Gangguan-kecemasan</th>\n",
       "      <th>Caregiver-Gangguan-stress-pascatrauma</th>\n",
       "      <th>Caregiver-Kekerasan</th>\n",
       "      <th>Caregiver-Masalah-Tidur</th>\n",
       "      <th>Caregiver-Skizofrenia</th>\n",
       "      <th>Caregiver-ADHD-Hiperaktif-dan-kurang-fokus</th>\n",
       "      <th>Caregiver-Gangguan-makan</th>\n",
       "      <th>Caregiver-Gangguan-stres-pascatrauma</th>\n",
       "    </tr>\n",
       "  </thead>\n",
       "  <tbody>\n",
       "    <tr>\n",
       "      <th>0</th>\n",
       "      <td>Pria</td>\n",
       "      <td>HUDwzgELY1OEzwieoHXK</td>\n",
       "      <td>aku stress</td>\n",
       "      <td>21</td>\n",
       "      <td>1</td>\n",
       "      <td>0</td>\n",
       "      <td>0</td>\n",
       "      <td>0</td>\n",
       "      <td>1</td>\n",
       "      <td>1</td>\n",
       "      <td>0</td>\n",
       "      <td>0</td>\n",
       "      <td>0</td>\n",
       "      <td>0</td>\n",
       "    </tr>\n",
       "    <tr>\n",
       "      <th>1</th>\n",
       "      <td>Perempuan</td>\n",
       "      <td>49cugkYNFakCCkId9Iai</td>\n",
       "      <td>Lagi menunggu ujian sbmptn</td>\n",
       "      <td>21</td>\n",
       "      <td>0</td>\n",
       "      <td>0</td>\n",
       "      <td>1</td>\n",
       "      <td>0</td>\n",
       "      <td>0</td>\n",
       "      <td>0</td>\n",
       "      <td>0</td>\n",
       "      <td>0</td>\n",
       "      <td>0</td>\n",
       "      <td>0</td>\n",
       "    </tr>\n",
       "    <tr>\n",
       "      <th>2</th>\n",
       "      <td>Pria</td>\n",
       "      <td>db5wFkLGR4pb7ongAd3e</td>\n",
       "      <td>Kekerasan fisik</td>\n",
       "      <td>22</td>\n",
       "      <td>0</td>\n",
       "      <td>1</td>\n",
       "      <td>0</td>\n",
       "      <td>1</td>\n",
       "      <td>0</td>\n",
       "      <td>0</td>\n",
       "      <td>0</td>\n",
       "      <td>0</td>\n",
       "      <td>0</td>\n",
       "      <td>0</td>\n",
       "    </tr>\n",
       "    <tr>\n",
       "      <th>3</th>\n",
       "      <td>Perempuan</td>\n",
       "      <td>gSshnDOP0BbKXuaYTHZI</td>\n",
       "      <td>Kesulitan dalam berkonsentrasi dan mengingat s...</td>\n",
       "      <td>21</td>\n",
       "      <td>0</td>\n",
       "      <td>0</td>\n",
       "      <td>0</td>\n",
       "      <td>0</td>\n",
       "      <td>0</td>\n",
       "      <td>0</td>\n",
       "      <td>1</td>\n",
       "      <td>0</td>\n",
       "      <td>0</td>\n",
       "      <td>0</td>\n",
       "    </tr>\n",
       "  </tbody>\n",
       "</table>\n",
       "</div>"
      ],
      "text/plain": [
       "  Caregiver_Gender           CAREGIVER_ID  \\\n",
       "0             Pria   HUDwzgELY1OEzwieoHXK   \n",
       "1        Perempuan   49cugkYNFakCCkId9Iai   \n",
       "2             Pria   db5wFkLGR4pb7ongAd3e   \n",
       "3        Perempuan   gSshnDOP0BbKXuaYTHZI   \n",
       "\n",
       "                                                text  Caregiver_Age  \\\n",
       "0                                         aku stress             21   \n",
       "1                         Lagi menunggu ujian sbmptn             21   \n",
       "2                                    Kekerasan fisik             22   \n",
       "3  Kesulitan dalam berkonsentrasi dan mengingat s...             21   \n",
       "\n",
       "   Caregiver-Anxiety  Caregiver-Depresi  Caregiver-Gangguan-kecemasan  \\\n",
       "0                  1                  0                             0   \n",
       "1                  0                  0                             1   \n",
       "2                  0                  1                             0   \n",
       "3                  0                  0                             0   \n",
       "\n",
       "   Caregiver-Gangguan-stress-pascatrauma  Caregiver-Kekerasan  \\\n",
       "0                                      0                    1   \n",
       "1                                      0                    0   \n",
       "2                                      1                    0   \n",
       "3                                      0                    0   \n",
       "\n",
       "   Caregiver-Masalah-Tidur  Caregiver-Skizofrenia  \\\n",
       "0                        1                      0   \n",
       "1                        0                      0   \n",
       "2                        0                      0   \n",
       "3                        0                      1   \n",
       "\n",
       "   Caregiver-ADHD-Hiperaktif-dan-kurang-fokus  Caregiver-Gangguan-makan  \\\n",
       "0                                           0                         0   \n",
       "1                                           0                         0   \n",
       "2                                           0                         0   \n",
       "3                                           0                         0   \n",
       "\n",
       "   Caregiver-Gangguan-stres-pascatrauma  \n",
       "0                                     0  \n",
       "1                                     0  \n",
       "2                                     0  \n",
       "3                                     0  "
      ]
     },
     "execution_count": 147,
     "metadata": {},
     "output_type": "execute_result"
    }
   ],
   "source": [
    "data"
   ]
  },
  {
   "cell_type": "code",
   "execution_count": 148,
   "id": "d3fc5d4e",
   "metadata": {},
   "outputs": [],
   "source": [
    "MAIN_DATAFRAME = data"
   ]
  },
  {
   "cell_type": "code",
   "execution_count": null,
   "id": "b0ea6d51",
   "metadata": {},
   "outputs": [],
   "source": []
  },
  {
   "cell_type": "code",
   "execution_count": 149,
   "id": "138a60de",
   "metadata": {
    "scrolled": true
   },
   "outputs": [
    {
     "data": {
      "text/html": [
       "<div>\n",
       "<style scoped>\n",
       "    .dataframe tbody tr th:only-of-type {\n",
       "        vertical-align: middle;\n",
       "    }\n",
       "\n",
       "    .dataframe tbody tr th {\n",
       "        vertical-align: top;\n",
       "    }\n",
       "\n",
       "    .dataframe thead th {\n",
       "        text-align: right;\n",
       "    }\n",
       "</style>\n",
       "<table border=\"1\" class=\"dataframe\">\n",
       "  <thead>\n",
       "    <tr style=\"text-align: right;\">\n",
       "      <th></th>\n",
       "      <th>Caregiver_Gender</th>\n",
       "      <th>CAREGIVER_ID</th>\n",
       "      <th>text</th>\n",
       "      <th>Caregiver_Age</th>\n",
       "      <th>Caregiver-Anxiety</th>\n",
       "      <th>Caregiver-Depresi</th>\n",
       "      <th>Caregiver-Gangguan-kecemasan</th>\n",
       "      <th>Caregiver-Gangguan-stress-pascatrauma</th>\n",
       "      <th>Caregiver-Kekerasan</th>\n",
       "      <th>Caregiver-Masalah-Tidur</th>\n",
       "      <th>Caregiver-Skizofrenia</th>\n",
       "      <th>Caregiver-ADHD-Hiperaktif-dan-kurang-fokus</th>\n",
       "      <th>Caregiver-Gangguan-makan</th>\n",
       "      <th>Caregiver-Gangguan-stres-pascatrauma</th>\n",
       "    </tr>\n",
       "  </thead>\n",
       "  <tbody>\n",
       "    <tr>\n",
       "      <th>0</th>\n",
       "      <td>Pria</td>\n",
       "      <td>HUDwzgELY1OEzwieoHXK</td>\n",
       "      <td>aku stress</td>\n",
       "      <td>21</td>\n",
       "      <td>1</td>\n",
       "      <td>0</td>\n",
       "      <td>0</td>\n",
       "      <td>0</td>\n",
       "      <td>1</td>\n",
       "      <td>1</td>\n",
       "      <td>0</td>\n",
       "      <td>0</td>\n",
       "      <td>0</td>\n",
       "      <td>0</td>\n",
       "    </tr>\n",
       "    <tr>\n",
       "      <th>1</th>\n",
       "      <td>Perempuan</td>\n",
       "      <td>49cugkYNFakCCkId9Iai</td>\n",
       "      <td>Lagi menunggu ujian sbmptn</td>\n",
       "      <td>21</td>\n",
       "      <td>0</td>\n",
       "      <td>0</td>\n",
       "      <td>1</td>\n",
       "      <td>0</td>\n",
       "      <td>0</td>\n",
       "      <td>0</td>\n",
       "      <td>0</td>\n",
       "      <td>0</td>\n",
       "      <td>0</td>\n",
       "      <td>0</td>\n",
       "    </tr>\n",
       "    <tr>\n",
       "      <th>2</th>\n",
       "      <td>Pria</td>\n",
       "      <td>db5wFkLGR4pb7ongAd3e</td>\n",
       "      <td>Kekerasan fisik</td>\n",
       "      <td>22</td>\n",
       "      <td>0</td>\n",
       "      <td>1</td>\n",
       "      <td>0</td>\n",
       "      <td>1</td>\n",
       "      <td>0</td>\n",
       "      <td>0</td>\n",
       "      <td>0</td>\n",
       "      <td>0</td>\n",
       "      <td>0</td>\n",
       "      <td>0</td>\n",
       "    </tr>\n",
       "    <tr>\n",
       "      <th>3</th>\n",
       "      <td>Perempuan</td>\n",
       "      <td>gSshnDOP0BbKXuaYTHZI</td>\n",
       "      <td>Kesulitan dalam berkonsentrasi dan mengingat s...</td>\n",
       "      <td>21</td>\n",
       "      <td>0</td>\n",
       "      <td>0</td>\n",
       "      <td>0</td>\n",
       "      <td>0</td>\n",
       "      <td>0</td>\n",
       "      <td>0</td>\n",
       "      <td>1</td>\n",
       "      <td>0</td>\n",
       "      <td>0</td>\n",
       "      <td>0</td>\n",
       "    </tr>\n",
       "  </tbody>\n",
       "</table>\n",
       "</div>"
      ],
      "text/plain": [
       "  Caregiver_Gender           CAREGIVER_ID  \\\n",
       "0             Pria   HUDwzgELY1OEzwieoHXK   \n",
       "1        Perempuan   49cugkYNFakCCkId9Iai   \n",
       "2             Pria   db5wFkLGR4pb7ongAd3e   \n",
       "3        Perempuan   gSshnDOP0BbKXuaYTHZI   \n",
       "\n",
       "                                                text  Caregiver_Age  \\\n",
       "0                                         aku stress             21   \n",
       "1                         Lagi menunggu ujian sbmptn             21   \n",
       "2                                    Kekerasan fisik             22   \n",
       "3  Kesulitan dalam berkonsentrasi dan mengingat s...             21   \n",
       "\n",
       "   Caregiver-Anxiety  Caregiver-Depresi  Caregiver-Gangguan-kecemasan  \\\n",
       "0                  1                  0                             0   \n",
       "1                  0                  0                             1   \n",
       "2                  0                  1                             0   \n",
       "3                  0                  0                             0   \n",
       "\n",
       "   Caregiver-Gangguan-stress-pascatrauma  Caregiver-Kekerasan  \\\n",
       "0                                      0                    1   \n",
       "1                                      0                    0   \n",
       "2                                      1                    0   \n",
       "3                                      0                    0   \n",
       "\n",
       "   Caregiver-Masalah-Tidur  Caregiver-Skizofrenia  \\\n",
       "0                        1                      0   \n",
       "1                        0                      0   \n",
       "2                        0                      0   \n",
       "3                        0                      1   \n",
       "\n",
       "   Caregiver-ADHD-Hiperaktif-dan-kurang-fokus  Caregiver-Gangguan-makan  \\\n",
       "0                                           0                         0   \n",
       "1                                           0                         0   \n",
       "2                                           0                         0   \n",
       "3                                           0                         0   \n",
       "\n",
       "   Caregiver-Gangguan-stres-pascatrauma  \n",
       "0                                     0  \n",
       "1                                     0  \n",
       "2                                     0  \n",
       "3                                     0  "
      ]
     },
     "execution_count": 149,
     "metadata": {},
     "output_type": "execute_result"
    }
   ],
   "source": [
    "MAIN_DATAFRAME"
   ]
  },
  {
   "cell_type": "code",
   "execution_count": 150,
   "id": "ff1a4da0",
   "metadata": {},
   "outputs": [
    {
     "data": {
      "text/plain": [
       "{'Caregiver_Gender': 0         Pria\n",
       " 1    Perempuan\n",
       " 2         Pria\n",
       " 3    Perempuan\n",
       " Name: Caregiver_Gender, dtype: object,\n",
       " 'CAREGIVER_ID': 0     HUDwzgELY1OEzwieoHXK\n",
       " 1     49cugkYNFakCCkId9Iai\n",
       " 2     db5wFkLGR4pb7ongAd3e\n",
       " 3     gSshnDOP0BbKXuaYTHZI\n",
       " Name: CAREGIVER_ID, dtype: object,\n",
       " 'text': 0                                           aku stress\n",
       " 1                           Lagi menunggu ujian sbmptn\n",
       " 2                                      Kekerasan fisik\n",
       " 3    Kesulitan dalam berkonsentrasi dan mengingat s...\n",
       " Name: text, dtype: object,\n",
       " 'Caregiver_Age': 0    21\n",
       " 1    21\n",
       " 2    22\n",
       " 3    21\n",
       " Name: Caregiver_Age, dtype: int64,\n",
       " 'Caregiver-Anxiety': 0    1\n",
       " 1    0\n",
       " 2    0\n",
       " 3    0\n",
       " Name: Caregiver-Anxiety, dtype: int32,\n",
       " 'Caregiver-Depresi': 0    0\n",
       " 1    0\n",
       " 2    1\n",
       " 3    0\n",
       " Name: Caregiver-Depresi, dtype: int32,\n",
       " 'Caregiver-Gangguan-kecemasan': 0    0\n",
       " 1    1\n",
       " 2    0\n",
       " 3    0\n",
       " Name: Caregiver-Gangguan-kecemasan, dtype: int32,\n",
       " 'Caregiver-Gangguan-stress-pascatrauma': 0    0\n",
       " 1    0\n",
       " 2    1\n",
       " 3    0\n",
       " Name: Caregiver-Gangguan-stress-pascatrauma, dtype: int32,\n",
       " 'Caregiver-Kekerasan': 0    1\n",
       " 1    0\n",
       " 2    0\n",
       " 3    0\n",
       " Name: Caregiver-Kekerasan, dtype: int32,\n",
       " 'Caregiver-Masalah-Tidur': 0    1\n",
       " 1    0\n",
       " 2    0\n",
       " 3    0\n",
       " Name: Caregiver-Masalah-Tidur, dtype: int32,\n",
       " 'Caregiver-Skizofrenia': 0    0\n",
       " 1    0\n",
       " 2    0\n",
       " 3    1\n",
       " Name: Caregiver-Skizofrenia, dtype: int32,\n",
       " 'Caregiver-ADHD-Hiperaktif-dan-kurang-fokus': 0    0\n",
       " 1    0\n",
       " 2    0\n",
       " 3    0\n",
       " Name: Caregiver-ADHD-Hiperaktif-dan-kurang-fokus, dtype: int64,\n",
       " 'Caregiver-Gangguan-makan': 0    0\n",
       " 1    0\n",
       " 2    0\n",
       " 3    0\n",
       " Name: Caregiver-Gangguan-makan, dtype: int64,\n",
       " 'Caregiver-Gangguan-stres-pascatrauma': 0    0\n",
       " 1    0\n",
       " 2    0\n",
       " 3    0\n",
       " Name: Caregiver-Gangguan-stres-pascatrauma, dtype: int64}"
      ]
     },
     "execution_count": 150,
     "metadata": {},
     "output_type": "execute_result"
    }
   ],
   "source": [
    "dict(MAIN_DATAFRAME)"
   ]
  },
  {
   "cell_type": "code",
   "execution_count": 145,
   "id": "6898285c",
   "metadata": {},
   "outputs": [],
   "source": [
    "def df_to_dataset(dataframe, shuffle=True, batch_size=32, text_processed=False):\n",
    "    \"\"\"\n",
    "    A utility method to create a tf.data dataset from a Pandas Dataframe\n",
    "    \"\"\"\n",
    "    dataframe = dataframe.copy()\n",
    "    if(text_processed):\n",
    "        processed_text = dataframe.pop('text_processed')\n",
    "        ds = tf.data.Dataset.from_tensor_slices(dict(dataframe))\n",
    "        ds_processed = tf.data.Dataset.from_tensors(dict(processed_text))\n",
    "        ds = tf.data.Dataset.zip((ds,ds_processed))\n",
    "    else:\n",
    "        ds = tf.data.Dataset.from_tensors(dict(dataframe))\n",
    "\n",
    "    if shuffle:\n",
    "        ds = ds.shuffle(buffer_size=len(dataframe))\n",
    "    ds = ds.batch(batch_size)\n",
    "    return ds\n"
   ]
  },
  {
   "cell_type": "code",
   "execution_count": 151,
   "id": "df5f65c7",
   "metadata": {},
   "outputs": [],
   "source": [
    "a =df_to_dataset(MAIN_DATAFRAME)"
   ]
  },
  {
   "cell_type": "code",
   "execution_count": 152,
   "id": "7b22592d",
   "metadata": {},
   "outputs": [
    {
     "name": "stdout",
     "output_type": "stream",
     "text": [
      "{'Caregiver_Gender': <tf.Tensor: shape=(1, 4), dtype=string, numpy=array([[b'Pria', b'Perempuan', b'Pria', b'Perempuan']], dtype=object)>, 'CAREGIVER_ID': <tf.Tensor: shape=(1, 4), dtype=string, numpy=\n",
      "array([[b' HUDwzgELY1OEzwieoHXK', b'49cugkYNFakCCkId9Iai',\n",
      "        b'db5wFkLGR4pb7ongAd3e', b'gSshnDOP0BbKXuaYTHZI']], dtype=object)>, 'text': <tf.Tensor: shape=(1, 4), dtype=string, numpy=\n",
      "array([[b'aku stress', b'Lagi menunggu ujian sbmptn', b'Kekerasan fisik',\n",
      "        b'Kesulitan dalam berkonsentrasi dan mengingat serta ucapan atau perilaku yang tidak teratur']],\n",
      "      dtype=object)>, 'Caregiver_Age': <tf.Tensor: shape=(1, 4), dtype=int64, numpy=array([[21, 21, 22, 21]], dtype=int64)>, 'Caregiver-Anxiety': <tf.Tensor: shape=(1, 4), dtype=int32, numpy=array([[1, 0, 0, 0]])>, 'Caregiver-Depresi': <tf.Tensor: shape=(1, 4), dtype=int32, numpy=array([[0, 0, 1, 0]])>, 'Caregiver-Gangguan-kecemasan': <tf.Tensor: shape=(1, 4), dtype=int32, numpy=array([[0, 1, 0, 0]])>, 'Caregiver-Gangguan-stress-pascatrauma': <tf.Tensor: shape=(1, 4), dtype=int32, numpy=array([[0, 0, 1, 0]])>, 'Caregiver-Kekerasan': <tf.Tensor: shape=(1, 4), dtype=int32, numpy=array([[1, 0, 0, 0]])>, 'Caregiver-Masalah-Tidur': <tf.Tensor: shape=(1, 4), dtype=int32, numpy=array([[1, 0, 0, 0]])>, 'Caregiver-Skizofrenia': <tf.Tensor: shape=(1, 4), dtype=int32, numpy=array([[0, 0, 0, 1]])>, 'Caregiver-ADHD-Hiperaktif-dan-kurang-fokus': <tf.Tensor: shape=(1, 4), dtype=int64, numpy=array([[0, 0, 0, 0]], dtype=int64)>, 'Caregiver-Gangguan-makan': <tf.Tensor: shape=(1, 4), dtype=int64, numpy=array([[0, 0, 0, 0]], dtype=int64)>, 'Caregiver-Gangguan-stres-pascatrauma': <tf.Tensor: shape=(1, 4), dtype=int64, numpy=array([[0, 0, 0, 0]], dtype=int64)>}\n"
     ]
    }
   ],
   "source": [
    "for feature in a.take(5):\n",
    "    print(feature)"
   ]
  },
  {
   "cell_type": "code",
   "execution_count": 153,
   "id": "ad68fd07",
   "metadata": {},
   "outputs": [
    {
     "ename": "ValueError",
     "evalue": "Exception encountered when calling layer \"keras_layer\" (type KerasLayer).\n\nCould not find matching concrete function to call loaded from the SavedModel. Got:\n  Positional arguments (2 total):\n    * Tensor(\"inputs:0\", shape=(1, 4), dtype=string)\n    * False\n  Keyword arguments: {}\n\n Expected these arguments to match one of the following 2 option(s):\n\nOption 1:\n  Positional arguments (2 total):\n    * TensorSpec(shape=(None,), dtype=tf.string, name='inputs')\n    * False\n  Keyword arguments: {}\n\nOption 2:\n  Positional arguments (2 total):\n    * TensorSpec(shape=(None,), dtype=tf.string, name='inputs')\n    * True\n  Keyword arguments: {}\n\nCall arguments received:\n  • args=('tf.Tensor(shape=(1, 4), dtype=string)',)\n  • kwargs={'training': 'False'}",
     "output_type": "error",
     "traceback": [
      "\u001b[1;31m---------------------------------------------------------------------------\u001b[0m",
      "\u001b[1;31mValueError\u001b[0m                                Traceback (most recent call last)",
      "Input \u001b[1;32mIn [153]\u001b[0m, in \u001b[0;36m<cell line: 1>\u001b[1;34m()\u001b[0m\n\u001b[1;32m----> 1\u001b[0m b \u001b[38;5;241m=\u001b[39m a\u001b[38;5;241m.\u001b[39mmap(\u001b[38;5;28;01mlambda\u001b[39;00m feature: feature[\u001b[38;5;124m'\u001b[39m\u001b[38;5;124mCAREGIVER_ID\u001b[39m\u001b[38;5;124m'\u001b[39m], \u001b[43mMAIN_TEXT_MODEL\u001b[49m\u001b[43m(\u001b[49m\u001b[43mfeature\u001b[49m\u001b[43m[\u001b[49m\u001b[38;5;124;43m'\u001b[39;49m\u001b[38;5;124;43mtext\u001b[39;49m\u001b[38;5;124;43m'\u001b[39;49m\u001b[43m]\u001b[49m\u001b[43m)\u001b[49m)\n",
      "File \u001b[1;32mc:\\users\\asus\\anaconda3\\envs\\notebook\\lib\\site-packages\\keras\\utils\\traceback_utils.py:67\u001b[0m, in \u001b[0;36mfilter_traceback.<locals>.error_handler\u001b[1;34m(*args, **kwargs)\u001b[0m\n\u001b[0;32m     65\u001b[0m \u001b[38;5;28;01mexcept\u001b[39;00m \u001b[38;5;167;01mException\u001b[39;00m \u001b[38;5;28;01mas\u001b[39;00m e:  \u001b[38;5;66;03m# pylint: disable=broad-except\u001b[39;00m\n\u001b[0;32m     66\u001b[0m   filtered_tb \u001b[38;5;241m=\u001b[39m _process_traceback_frames(e\u001b[38;5;241m.\u001b[39m__traceback__)\n\u001b[1;32m---> 67\u001b[0m   \u001b[38;5;28;01mraise\u001b[39;00m e\u001b[38;5;241m.\u001b[39mwith_traceback(filtered_tb) \u001b[38;5;28;01mfrom\u001b[39;00m \u001b[38;5;28mNone\u001b[39m\n\u001b[0;32m     68\u001b[0m \u001b[38;5;28;01mfinally\u001b[39;00m:\n\u001b[0;32m     69\u001b[0m   \u001b[38;5;28;01mdel\u001b[39;00m filtered_tb\n",
      "File \u001b[1;32mc:\\users\\asus\\anaconda3\\envs\\notebook\\lib\\site-packages\\tensorflow\\python\\saved_model\\function_deserialization.py:283\u001b[0m, in \u001b[0;36mrecreate_function.<locals>.restored_function_body\u001b[1;34m(*args, **kwargs)\u001b[0m\n\u001b[0;32m    279\u001b[0m   positional, keyword \u001b[38;5;241m=\u001b[39m concrete_function\u001b[38;5;241m.\u001b[39mstructured_input_signature\n\u001b[0;32m    280\u001b[0m   signature_descriptions\u001b[38;5;241m.\u001b[39mappend(\n\u001b[0;32m    281\u001b[0m       \u001b[38;5;124m\"\u001b[39m\u001b[38;5;124mOption \u001b[39m\u001b[38;5;132;01m{}\u001b[39;00m\u001b[38;5;124m:\u001b[39m\u001b[38;5;130;01m\\n\u001b[39;00m\u001b[38;5;124m  \u001b[39m\u001b[38;5;132;01m{}\u001b[39;00m\u001b[38;5;130;01m\\n\u001b[39;00m\u001b[38;5;124m  Keyword arguments: \u001b[39m\u001b[38;5;132;01m{}\u001b[39;00m\u001b[38;5;124m\"\u001b[39m\n\u001b[0;32m    282\u001b[0m       \u001b[38;5;241m.\u001b[39mformat(index \u001b[38;5;241m+\u001b[39m \u001b[38;5;241m1\u001b[39m, _pretty_format_positional(positional), keyword))\n\u001b[1;32m--> 283\u001b[0m \u001b[38;5;28;01mraise\u001b[39;00m \u001b[38;5;167;01mValueError\u001b[39;00m(\n\u001b[0;32m    284\u001b[0m     \u001b[38;5;124m\"\u001b[39m\u001b[38;5;124mCould not find matching concrete function to call loaded from the \u001b[39m\u001b[38;5;124m\"\u001b[39m\n\u001b[0;32m    285\u001b[0m     \u001b[38;5;124mf\u001b[39m\u001b[38;5;124m\"\u001b[39m\u001b[38;5;124mSavedModel. Got:\u001b[39m\u001b[38;5;130;01m\\n\u001b[39;00m\u001b[38;5;124m  \u001b[39m\u001b[38;5;132;01m{\u001b[39;00m_pretty_format_positional(args)\u001b[38;5;132;01m}\u001b[39;00m\u001b[38;5;130;01m\\n\u001b[39;00m\u001b[38;5;124m  Keyword \u001b[39m\u001b[38;5;124m\"\u001b[39m\n\u001b[0;32m    286\u001b[0m     \u001b[38;5;124mf\u001b[39m\u001b[38;5;124m\"\u001b[39m\u001b[38;5;124marguments: \u001b[39m\u001b[38;5;132;01m{\u001b[39;00mkwargs\u001b[38;5;132;01m}\u001b[39;00m\u001b[38;5;130;01m\\n\u001b[39;00m\u001b[38;5;130;01m\\n\u001b[39;00m\u001b[38;5;124m Expected these arguments to match one of the \u001b[39m\u001b[38;5;124m\"\u001b[39m\n\u001b[0;32m    287\u001b[0m     \u001b[38;5;124mf\u001b[39m\u001b[38;5;124m\"\u001b[39m\u001b[38;5;124mfollowing \u001b[39m\u001b[38;5;132;01m{\u001b[39;00m\u001b[38;5;28mlen\u001b[39m(saved_function\u001b[38;5;241m.\u001b[39mconcrete_functions)\u001b[38;5;132;01m}\u001b[39;00m\u001b[38;5;124m option(s):\u001b[39m\u001b[38;5;130;01m\\n\u001b[39;00m\u001b[38;5;130;01m\\n\u001b[39;00m\u001b[38;5;124m\"\u001b[39m\n\u001b[0;32m    288\u001b[0m     \u001b[38;5;124mf\u001b[39m\u001b[38;5;124m\"\u001b[39m\u001b[38;5;132;01m{\u001b[39;00m(\u001b[38;5;28mchr\u001b[39m(\u001b[38;5;241m10\u001b[39m)\u001b[38;5;241m+\u001b[39m\u001b[38;5;28mchr\u001b[39m(\u001b[38;5;241m10\u001b[39m))\u001b[38;5;241m.\u001b[39mjoin(signature_descriptions)\u001b[38;5;132;01m}\u001b[39;00m\u001b[38;5;124m\"\u001b[39m)\n",
      "\u001b[1;31mValueError\u001b[0m: Exception encountered when calling layer \"keras_layer\" (type KerasLayer).\n\nCould not find matching concrete function to call loaded from the SavedModel. Got:\n  Positional arguments (2 total):\n    * Tensor(\"inputs:0\", shape=(1, 4), dtype=string)\n    * False\n  Keyword arguments: {}\n\n Expected these arguments to match one of the following 2 option(s):\n\nOption 1:\n  Positional arguments (2 total):\n    * TensorSpec(shape=(None,), dtype=tf.string, name='inputs')\n    * False\n  Keyword arguments: {}\n\nOption 2:\n  Positional arguments (2 total):\n    * TensorSpec(shape=(None,), dtype=tf.string, name='inputs')\n    * True\n  Keyword arguments: {}\n\nCall arguments received:\n  • args=('tf.Tensor(shape=(1, 4), dtype=string)',)\n  • kwargs={'training': 'False'}"
     ]
    }
   ],
   "source": [
    "b = a.map(lambda feature: feature['CAREGIVER_ID'], MAIN_TEXT_MODEL(feature['text']))"
   ]
  },
  {
   "cell_type": "code",
   "execution_count": 79,
   "id": "a906d7f6",
   "metadata": {},
   "outputs": [
    {
     "data": {
      "text/plain": [
       "<TensorSliceDataset element_spec=TensorSpec(shape=(), dtype=tf.float32, name=None)>"
      ]
     },
     "execution_count": 79,
     "metadata": {},
     "output_type": "execute_result"
    }
   ],
   "source": [
    "tf.data.Dataset.from_tensor_slices([0.234,0.4232])"
   ]
  },
  {
   "cell_type": "code",
   "execution_count": 87,
   "id": "a892d1a9",
   "metadata": {},
   "outputs": [],
   "source": [
    "data = [0.42, 2.12]\n",
    "data_np = np.asarray(data, np.float32)"
   ]
  },
  {
   "cell_type": "code",
   "execution_count": 88,
   "id": "9c123af4",
   "metadata": {},
   "outputs": [
    {
     "data": {
      "text/plain": [
       "<TensorSliceDataset element_spec=TensorSpec(shape=(), dtype=tf.float32, name=None)>"
      ]
     },
     "execution_count": 88,
     "metadata": {},
     "output_type": "execute_result"
    }
   ],
   "source": [
    "tf.data.Dataset.from_tensor_slices(data_np)"
   ]
  },
  {
   "cell_type": "code",
   "execution_count": 89,
   "id": "a33ff7d8",
   "metadata": {},
   "outputs": [
    {
     "data": {
      "text/plain": [
       "array([0.42, 2.12], dtype=float32)"
      ]
     },
     "execution_count": 89,
     "metadata": {},
     "output_type": "execute_result"
    }
   ],
   "source": [
    "data_np"
   ]
  },
  {
   "cell_type": "code",
   "execution_count": 91,
   "id": "819e86cb",
   "metadata": {},
   "outputs": [
    {
     "data": {
      "text/plain": [
       "array([1, 2])"
      ]
     },
     "execution_count": 91,
     "metadata": {},
     "output_type": "execute_result"
    }
   ],
   "source": [
    "np.array([1,2])"
   ]
  },
  {
   "cell_type": "code",
   "execution_count": null,
   "id": "c346e283",
   "metadata": {},
   "outputs": [],
   "source": []
  }
 ],
 "metadata": {
  "kernelspec": {
   "display_name": "Python 3",
   "language": "python",
   "name": "python3"
  },
  "language_info": {
   "codemirror_mode": {
    "name": "ipython",
    "version": 3
   },
   "file_extension": ".py",
   "mimetype": "text/x-python",
   "name": "python",
   "nbconvert_exporter": "python",
   "pygments_lexer": "ipython3",
   "version": "3.9.11"
  }
 },
 "nbformat": 4,
 "nbformat_minor": 5
}
