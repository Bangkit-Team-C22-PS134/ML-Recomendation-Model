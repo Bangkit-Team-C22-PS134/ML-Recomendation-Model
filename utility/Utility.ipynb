{
 "cells": [
  {
   "cell_type": "code",
   "execution_count": 1,
   "id": "ef3313e8",
   "metadata": {},
   "outputs": [],
   "source": [
    "import os\n",
    "import tensorflow as tf\n",
    "import tensorflow_recommenders as tfrs\n",
    "import json\n",
    "import pandas as pd\n",
    "from os import getenv\n",
    "#from keras import models\n",
    "from firebase_admin import credentials, firestore, initialize_app"
   ]
  },
  {
   "cell_type": "code",
   "execution_count": 2,
   "id": "e913dd2a",
   "metadata": {},
   "outputs": [],
   "source": [
    "cred = credentials.Certificate(\"key.json\")\n",
    "default_app = initialize_app(cred)\n",
    "db = firestore.client()"
   ]
  },
  {
   "cell_type": "code",
   "execution_count": 3,
   "id": "5ee355ee",
   "metadata": {},
   "outputs": [],
   "source": [
    "class User(object):\n",
    "    def __init__(self, USER_ID, Nama, Gender, Age, Tipe_Masalah):\n",
    "        self.USER_ID = USER_ID\n",
    "        self.Nama = Nama\n",
    "        self.Gender = Gender\n",
    "        self.Age = Age\n",
    "        self.Tipe_Masalah = Tipe_Masalah\n",
    "\n",
    "    @staticmethod\n",
    "    def from_json_do_not_use(source):\n",
    "        \"\"\"\n",
    "        Source is expected from pure json string\n",
    "        \"\"\"\n",
    "        return source\n",
    "\n",
    "    @staticmethod\n",
    "    def from_dict(source):\n",
    "        # [START_EXCLUDE]\n",
    "        user = User(source[u'USER_ID'], source[u'Nama'], source[u'Gender'], source[u'Age'], source[u'Tipe_Masalah'])\n",
    "\n",
    "        if u'USER_ID' in source:\n",
    "            user.USER_ID = source[u'USER_ID']\n",
    "\n",
    "        if u'Nama' in source:\n",
    "            user.Nama = source[u'Nama']\n",
    "\n",
    "        if u'Gender' in source:\n",
    "            user.Gender = source[u'Gender']\n",
    "\n",
    "        if u'Age' in source:\n",
    "            user.Age = source[u'Age']\n",
    "\n",
    "        if u'Tipe_Masalah' in source:\n",
    "            user.Tipe_Masalah = source[u'Tipe_Masalah']\n",
    "\n",
    "        return user\n",
    "        # [END_EXCLUDE]\n",
    "\n",
    "    def to_dict(self):\n",
    "        # [START_EXCLUDE]\n",
    "        dest = {\n",
    "            u'USER_ID': self.USER_ID,\n",
    "            u'Nama': self.Nama,\n",
    "            u'Gender': self.Gender,\n",
    "            u'Age': self.Age,\n",
    "            u'Tipe_Masalah': self.Tipe_Masalah\n",
    "        }\n",
    "\n",
    "        if self.USER_ID:\n",
    "            dest[u'USER_ID'] = self.USER_ID\n",
    "\n",
    "        if self.Nama:\n",
    "            dest[u'Nama'] = self.Nama\n",
    "\n",
    "        if self.Gender:\n",
    "            dest[u'Gender'] = self.Gender\n",
    "\n",
    "        if self.Age:\n",
    "            dest[u'Age'] = self.Age\n",
    "\n",
    "        if self.Tipe_Masalah:\n",
    "            dest[u'Tipe_Masalah'] = self.Tipe_Masalah\n",
    "\n",
    "        return dest\n",
    "        # [END_EXCLUDE]\n",
    "\n",
    "    \n",
    "    def __repr__(self):\n",
    "        return (\n",
    "            f'City(\\\n",
    "                USER_ID={self.USER_ID}, \\\n",
    "                Nama={self.Nama}, \\\n",
    "                Age={self.Age}, \\\n",
    "                Gender={self.Gender}, \\\n",
    "                Tipe_Masalah={self.Tipe_Masalah}\\\n",
    "            )'\n",
    "        )"
   ]
  },
  {
   "cell_type": "code",
   "execution_count": 4,
   "id": "faa75d42",
   "metadata": {},
   "outputs": [],
   "source": [
    "zidan = User(1, \"zidan\", \"pria\", 43, \"Depresi\")"
   ]
  },
  {
   "cell_type": "code",
   "execution_count": 5,
   "id": "4146df79",
   "metadata": {},
   "outputs": [
    {
     "data": {
      "text/plain": [
       "City(                USER_ID=1,                 Nama=zidan,                 Age=43,                 Gender=pria,                 Tipe_Masalah=Depresi            )"
      ]
     },
     "execution_count": 5,
     "metadata": {},
     "output_type": "execute_result"
    }
   ],
   "source": [
    "zidan"
   ]
  },
  {
   "cell_type": "code",
   "execution_count": 6,
   "id": "369d698a",
   "metadata": {},
   "outputs": [
    {
     "data": {
      "text/plain": [
       "__main__.User"
      ]
     },
     "execution_count": 6,
     "metadata": {},
     "output_type": "execute_result"
    }
   ],
   "source": [
    "type(zidan)"
   ]
  },
  {
   "cell_type": "code",
   "execution_count": 7,
   "id": "f5583517",
   "metadata": {},
   "outputs": [
    {
     "data": {
      "text/plain": [
       "dict"
      ]
     },
     "execution_count": 7,
     "metadata": {},
     "output_type": "execute_result"
    }
   ],
   "source": [
    "type(zidan.to_dict())"
   ]
  },
  {
   "cell_type": "code",
   "execution_count": 8,
   "id": "813e2fe2",
   "metadata": {},
   "outputs": [],
   "source": [
    "import pathlib\n",
    "import os\n",
    "\n",
    "user_file = \"\\\\Data\\\\Processed User Data.json\"\n",
    "caregiver_file = \"\\\\Data\\\\Processed Caregiver Data.json\"\n",
    "\n",
    "path = pathlib.Path().resolve()\n",
    "parent_path = path.parent.absolute()\n",
    "\n",
    "user_path = str(parent_path) + user_file\n",
    "caregiver_ = str(parent_path) + caregiver_file"
   ]
  },
  {
   "cell_type": "code",
   "execution_count": 9,
   "id": "38f9da10",
   "metadata": {},
   "outputs": [
    {
     "data": {
      "text/plain": [
       "\"\\nwith open(user_path) as file:\\n    data = json.load(file)\\n    db_user_placeholder = db.collection(u'User_Data_Placeholder')\\n    for user_dict in data:\\n        user_dict['Nama'] = 'placeholder_nama'\\n        user_dict['Text'] = 'Placeholder_text'\\n        db_user_placeholder.add(user_dict)\\n\""
      ]
     },
     "execution_count": 9,
     "metadata": {},
     "output_type": "execute_result"
    }
   ],
   "source": [
    "\"\"\"\n",
    "with open(user_path) as file:\n",
    "    data = json.load(file)\n",
    "    db_user_placeholder = db.collection(u'User_Data_Placeholder')\n",
    "    for user_dict in data:\n",
    "        user_dict['Nama'] = 'placeholder_nama'\n",
    "        user_dict['Text'] = 'Placeholder_text'\n",
    "        db_user_placeholder.add(user_dict)\n",
    "\"\"\""
   ]
  },
  {
   "cell_type": "code",
   "execution_count": 10,
   "id": "5e199bb7",
   "metadata": {},
   "outputs": [],
   "source": [
    "data = db.collection(u'user_pref').get()\n"
   ]
  },
  {
   "cell_type": "code",
   "execution_count": 11,
   "id": "d925eded",
   "metadata": {},
   "outputs": [
    {
     "name": "stdout",
     "output_type": "stream",
     "text": [
      "{'problems': 'Gangguan-kecemasan Depresi', 'text': 'Placeholder_text', 'age': 27, 'gender': 'Laki-laki', 'name': 'dhiva'}\n"
     ]
    }
   ],
   "source": [
    "print(data[0].to_dict())"
   ]
  },
  {
   "cell_type": "code",
   "execution_count": 12,
   "id": "99c1d749",
   "metadata": {},
   "outputs": [],
   "source": [
    "def convert_snapshot(data, desired_key = None):\n",
    "    \"\"\"\n",
    "    this extract desired keys from list of dicts from snapshot\n",
    "    \"\"\"\n",
    "    data_dictionary = map(lambda x: x.to_dict(), data)\n",
    "    if (desired_key is not None):\n",
    "        data_dictionary = map(lambda x: dict((k, x[k]) for k in desired_key if k in x), list(data_dictionary))\n",
    "\n",
    "    return list(data_dictionary)"
   ]
  },
  {
   "cell_type": "code",
   "execution_count": 13,
   "id": "6b753765",
   "metadata": {},
   "outputs": [],
   "source": [
    "new_data = convert_snapshot(data, [\"gender\",\"problems\",\"age\",\"text\"])"
   ]
  },
  {
   "cell_type": "code",
   "execution_count": null,
   "id": "0ab4f5e3",
   "metadata": {},
   "outputs": [],
   "source": []
  },
  {
   "cell_type": "code",
   "execution_count": 14,
   "id": "05abae58",
   "metadata": {},
   "outputs": [],
   "source": [
    "def df_to_dataset(dataframe, shuffle=True, batch_size=32):\n",
    "    \"\"\"\n",
    "    A utility method to create a tf.data dataset from a Pandas Dataframe\n",
    "    \"\"\"\n",
    "    dataframe = dataframe.copy()\n",
    "    ds = tf.data.Dataset.from_tensor_slices(dict(dataframe))\n",
    "    if shuffle:\n",
    "        ds = ds.shuffle(buffer_size=len(dataframe))\n",
    "    ds = ds.batch(batch_size)\n",
    "    return ds"
   ]
  },
  {
   "cell_type": "code",
   "execution_count": 15,
   "id": "f9c49ff6",
   "metadata": {},
   "outputs": [],
   "source": [
    "def convert_categorical_data(df, col, is_caregiver = False):\n",
    "    \"\"\"\n",
    "    Convert categorical data that splited by space to their own column in pandas dataframe , making them like one hot encoded\n",
    "    \"\"\"\n",
    "    import numpy as np\n",
    "    ### Join every string in every row, split the result, pull out the unique values.\n",
    "    genres = np.unique(' '.join(df[col]).split(' '))\n",
    "    ### Drop 'NA'\n",
    "    genres = np.delete(genres, np.where(genres == ''))\n",
    "    if(not is_caregiver):\n",
    "        for genre in genres:\n",
    "            df[genre] = df[col].str.contains(genre).astype('int')\n",
    "    else:\n",
    "        for genre in genres:\n",
    "            df['Caregiver-'+genre] = df[col].str.contains(genre).astype('int')\n",
    "    df.drop(col, axis=1, inplace=True)"
   ]
  },
  {
   "cell_type": "code",
   "execution_count": 16,
   "id": "da0cbb78",
   "metadata": {},
   "outputs": [],
   "source": [
    "def fill_non_existent_column(df, is_caregiver = False):\n",
    "    \"\"\"\n",
    "    This fill the df with unique problems column i\n",
    "    \"\"\"\n",
    "    if is_caregiver is False:\n",
    "         new_column = ['ADHD-Hiperaktif-dan-kurang-fokus', 'Depresi', 'Gangguan-kecemasan', 'Gangguan-makan','Gangguan-stres-pascatrauma', 'Skizofrenia']\n",
    "    else:\n",
    "        new_column = ['Caregiver-ADHD-Hiperaktif-dan-kurang-fokus', 'Caregiver-Depresi', 'Caregiver-Gangguan-kecemasan', 'Caregiver-Gangguan-makan','Caregiver-Gangguan-stres-pascatrauma', 'Caregiver-Skizofrenia']\n",
    "\n",
    "    for col in new_column:\n",
    "        if(col in df.columns):\n",
    "            pass\n",
    "        else:\n",
    "            df[col] = 0\n",
    "    \n",
    "    "
   ]
  },
  {
   "cell_type": "code",
   "execution_count": 17,
   "id": "c869be88",
   "metadata": {},
   "outputs": [],
   "source": [
    "def change_column_name(df, old_name,new_name):\n",
    "    \"\"\"\n",
    "    replace list of column name in old_name to new colum name in new_name\n",
    "    the order of old_name and new_name need to be exact\n",
    "    \"\"\"\n",
    "    res = {old_name[i]: new_name[i] for i in range(len(new_name))}\n",
    "    df.rename(columns = res, inplace = True)\n",
    "    \n",
    "    "
   ]
  },
  {
   "cell_type": "code",
   "execution_count": 18,
   "id": "a097f99a",
   "metadata": {},
   "outputs": [],
   "source": [
    "def desired_keys(dictionary , desired_key):\n",
    "    if (desired_key is not None):\n",
    "        dictionary = map(lambda x: dict((k, x[k]) for k in desired_key if k in x), list(dictionary))\n",
    "    return list(dictionary)"
   ]
  },
  {
   "cell_type": "code",
   "execution_count": 19,
   "id": "4f4b2c3f",
   "metadata": {},
   "outputs": [],
   "source": [
    "#ds_kalimat = tf.data.Dataset.from_tensor_slices(pd.DataFrame.from_dict(new_data).to_dict(orient=\"list\"))"
   ]
  },
  {
   "cell_type": "code",
   "execution_count": 20,
   "id": "38c8b001",
   "metadata": {},
   "outputs": [],
   "source": [
    "user_df = pd.DataFrame.from_dict(new_data)"
   ]
  },
  {
   "cell_type": "code",
   "execution_count": 21,
   "id": "7eaebdc7",
   "metadata": {},
   "outputs": [
    {
     "data": {
      "text/html": [
       "<div>\n",
       "<style scoped>\n",
       "    .dataframe tbody tr th:only-of-type {\n",
       "        vertical-align: middle;\n",
       "    }\n",
       "\n",
       "    .dataframe tbody tr th {\n",
       "        vertical-align: top;\n",
       "    }\n",
       "\n",
       "    .dataframe thead th {\n",
       "        text-align: right;\n",
       "    }\n",
       "</style>\n",
       "<table border=\"1\" class=\"dataframe\">\n",
       "  <thead>\n",
       "    <tr style=\"text-align: right;\">\n",
       "      <th></th>\n",
       "      <th>gender</th>\n",
       "      <th>problems</th>\n",
       "      <th>age</th>\n",
       "      <th>text</th>\n",
       "    </tr>\n",
       "  </thead>\n",
       "  <tbody>\n",
       "    <tr>\n",
       "      <th>0</th>\n",
       "      <td>Laki-laki</td>\n",
       "      <td>Gangguan-kecemasan Depresi</td>\n",
       "      <td>27</td>\n",
       "      <td>Placeholder_text</td>\n",
       "    </tr>\n",
       "  </tbody>\n",
       "</table>\n",
       "</div>"
      ],
      "text/plain": [
       "      gender                    problems  age              text\n",
       "0  Laki-laki  Gangguan-kecemasan Depresi   27  Placeholder_text"
      ]
     },
     "execution_count": 21,
     "metadata": {},
     "output_type": "execute_result"
    }
   ],
   "source": [
    "user_df.head(4)"
   ]
  },
  {
   "cell_type": "code",
   "execution_count": 22,
   "id": "28e4880e",
   "metadata": {},
   "outputs": [],
   "source": [
    "convert_categorical_data(user_df, col='problems')"
   ]
  },
  {
   "cell_type": "code",
   "execution_count": 23,
   "id": "f2ea9238",
   "metadata": {},
   "outputs": [
    {
     "data": {
      "text/html": [
       "<div>\n",
       "<style scoped>\n",
       "    .dataframe tbody tr th:only-of-type {\n",
       "        vertical-align: middle;\n",
       "    }\n",
       "\n",
       "    .dataframe tbody tr th {\n",
       "        vertical-align: top;\n",
       "    }\n",
       "\n",
       "    .dataframe thead th {\n",
       "        text-align: right;\n",
       "    }\n",
       "</style>\n",
       "<table border=\"1\" class=\"dataframe\">\n",
       "  <thead>\n",
       "    <tr style=\"text-align: right;\">\n",
       "      <th></th>\n",
       "      <th>gender</th>\n",
       "      <th>age</th>\n",
       "      <th>text</th>\n",
       "      <th>Depresi</th>\n",
       "      <th>Gangguan-kecemasan</th>\n",
       "    </tr>\n",
       "  </thead>\n",
       "  <tbody>\n",
       "    <tr>\n",
       "      <th>0</th>\n",
       "      <td>Laki-laki</td>\n",
       "      <td>27</td>\n",
       "      <td>Placeholder_text</td>\n",
       "      <td>1</td>\n",
       "      <td>1</td>\n",
       "    </tr>\n",
       "  </tbody>\n",
       "</table>\n",
       "</div>"
      ],
      "text/plain": [
       "      gender  age              text  Depresi  Gangguan-kecemasan\n",
       "0  Laki-laki   27  Placeholder_text        1                   1"
      ]
     },
     "execution_count": 23,
     "metadata": {},
     "output_type": "execute_result"
    }
   ],
   "source": [
    "user_df.head(4)"
   ]
  },
  {
   "cell_type": "code",
   "execution_count": 24,
   "id": "9040f64f",
   "metadata": {},
   "outputs": [],
   "source": [
    "change_column_name(user_df, ['gender','age'], ['Gender','Age'])"
   ]
  },
  {
   "cell_type": "code",
   "execution_count": 25,
   "id": "293673a7",
   "metadata": {},
   "outputs": [
    {
     "data": {
      "text/html": [
       "<div>\n",
       "<style scoped>\n",
       "    .dataframe tbody tr th:only-of-type {\n",
       "        vertical-align: middle;\n",
       "    }\n",
       "\n",
       "    .dataframe tbody tr th {\n",
       "        vertical-align: top;\n",
       "    }\n",
       "\n",
       "    .dataframe thead th {\n",
       "        text-align: right;\n",
       "    }\n",
       "</style>\n",
       "<table border=\"1\" class=\"dataframe\">\n",
       "  <thead>\n",
       "    <tr style=\"text-align: right;\">\n",
       "      <th></th>\n",
       "      <th>Gender</th>\n",
       "      <th>Age</th>\n",
       "      <th>text</th>\n",
       "      <th>Depresi</th>\n",
       "      <th>Gangguan-kecemasan</th>\n",
       "    </tr>\n",
       "  </thead>\n",
       "  <tbody>\n",
       "    <tr>\n",
       "      <th>0</th>\n",
       "      <td>Laki-laki</td>\n",
       "      <td>27</td>\n",
       "      <td>Placeholder_text</td>\n",
       "      <td>1</td>\n",
       "      <td>1</td>\n",
       "    </tr>\n",
       "  </tbody>\n",
       "</table>\n",
       "</div>"
      ],
      "text/plain": [
       "      Gender  Age              text  Depresi  Gangguan-kecemasan\n",
       "0  Laki-laki   27  Placeholder_text        1                   1"
      ]
     },
     "execution_count": 25,
     "metadata": {},
     "output_type": "execute_result"
    }
   ],
   "source": [
    "user_df.head(4)"
   ]
  },
  {
   "cell_type": "code",
   "execution_count": 26,
   "id": "0b90185e",
   "metadata": {},
   "outputs": [
    {
     "data": {
      "text/plain": [
       "Index(['Gender', 'Age', 'text', 'Depresi', 'Gangguan-kecemasan'], dtype='object')"
      ]
     },
     "execution_count": 26,
     "metadata": {},
     "output_type": "execute_result"
    }
   ],
   "source": [
    "user_df.columns"
   ]
  },
  {
   "cell_type": "code",
   "execution_count": 27,
   "id": "b4173945",
   "metadata": {},
   "outputs": [],
   "source": [
    " fill_non_existent_column(user_df)"
   ]
  },
  {
   "cell_type": "code",
   "execution_count": 28,
   "id": "659e3374",
   "metadata": {},
   "outputs": [
    {
     "data": {
      "text/html": [
       "<div>\n",
       "<style scoped>\n",
       "    .dataframe tbody tr th:only-of-type {\n",
       "        vertical-align: middle;\n",
       "    }\n",
       "\n",
       "    .dataframe tbody tr th {\n",
       "        vertical-align: top;\n",
       "    }\n",
       "\n",
       "    .dataframe thead th {\n",
       "        text-align: right;\n",
       "    }\n",
       "</style>\n",
       "<table border=\"1\" class=\"dataframe\">\n",
       "  <thead>\n",
       "    <tr style=\"text-align: right;\">\n",
       "      <th></th>\n",
       "      <th>Gender</th>\n",
       "      <th>Age</th>\n",
       "      <th>text</th>\n",
       "      <th>Depresi</th>\n",
       "      <th>Gangguan-kecemasan</th>\n",
       "      <th>ADHD-Hiperaktif-dan-kurang-fokus</th>\n",
       "      <th>Gangguan-makan</th>\n",
       "      <th>Gangguan-stres-pascatrauma</th>\n",
       "      <th>Skizofrenia</th>\n",
       "    </tr>\n",
       "  </thead>\n",
       "  <tbody>\n",
       "    <tr>\n",
       "      <th>0</th>\n",
       "      <td>Laki-laki</td>\n",
       "      <td>27</td>\n",
       "      <td>Placeholder_text</td>\n",
       "      <td>1</td>\n",
       "      <td>1</td>\n",
       "      <td>0</td>\n",
       "      <td>0</td>\n",
       "      <td>0</td>\n",
       "      <td>0</td>\n",
       "    </tr>\n",
       "  </tbody>\n",
       "</table>\n",
       "</div>"
      ],
      "text/plain": [
       "      Gender  Age              text  Depresi  Gangguan-kecemasan  \\\n",
       "0  Laki-laki   27  Placeholder_text        1                   1   \n",
       "\n",
       "   ADHD-Hiperaktif-dan-kurang-fokus  Gangguan-makan  \\\n",
       "0                                 0               0   \n",
       "\n",
       "   Gangguan-stres-pascatrauma  Skizofrenia  \n",
       "0                           0            0  "
      ]
     },
     "execution_count": 28,
     "metadata": {},
     "output_type": "execute_result"
    }
   ],
   "source": [
    "user_df.head(4)\n"
   ]
  },
  {
   "cell_type": "code",
   "execution_count": 29,
   "id": "f5f52d1a",
   "metadata": {},
   "outputs": [],
   "source": [
    "user_ds = df_to_dataset(user_df)"
   ]
  },
  {
   "cell_type": "code",
   "execution_count": 30,
   "id": "142fb91f",
   "metadata": {},
   "outputs": [],
   "source": [
    "#caregiver_query"
   ]
  },
  {
   "cell_type": "code",
   "execution_count": 31,
   "id": "b35bf25a",
   "metadata": {},
   "outputs": [],
   "source": [
    "data = db.collection(u'chat_rooms').get()"
   ]
  },
  {
   "cell_type": "code",
   "execution_count": 32,
   "id": "bc9b5c7f",
   "metadata": {},
   "outputs": [],
   "source": [
    "from datetime import date\n",
    " \n",
    "def age(birthdate):\n",
    "    today = date.today()\n",
    "    age = today.year - birthdate.year - ((today.month, today.day) < (birthdate.month, birthdate.day))\n",
    "    return age"
   ]
  },
  {
   "cell_type": "code",
   "execution_count": null,
   "id": "c1c59424",
   "metadata": {},
   "outputs": [],
   "source": []
  },
  {
   "cell_type": "code",
   "execution_count": 33,
   "id": "82ab4f8a",
   "metadata": {},
   "outputs": [],
   "source": [
    "import flatdict"
   ]
  },
  {
   "cell_type": "code",
   "execution_count": 34,
   "id": "486c10f2",
   "metadata": {},
   "outputs": [],
   "source": [
    "\n",
    "def Merge(dict1, dict2):\n",
    "    \"\"\"\n",
    "    Python code to merge dict\n",
    "    \"\"\"\n",
    "    res = {**dict1, **dict2}\n",
    "    return res\n",
    "    \n",
    "\n",
    "def unpack_caregiver_dict(dictionary):\n",
    "    return 0"
   ]
  },
  {
   "cell_type": "code",
   "execution_count": 50,
   "id": "6266efc7",
   "metadata": {},
   "outputs": [],
   "source": [
    "def unpack_caregiver_snapshot(data):\n",
    "    desired_keys = [\"problems\", \"birthday\", \"gender\",\"caregiver_id\",\"text\"]\n",
    "    #this unpack the value of snapshot list and turn the snapshot into dictionary also add aditional key for caregiver_id\n",
    "    caregiver_dict_unpacked = map(lambda feature: Merge(feature.to_dict(), {'caregiver_id':feature.id}) , data)\n",
    "    \n",
    "    #this unpack the snapshot in 'caregiver' snapshot and add them back to main dictionary\n",
    "    caregiver_dict = map(lambda feature: Merge(feature , feature.pop('caregiver').get().to_dict()) , caregiver_dict_unpacked )\n",
    "    \n",
    "    #this seperate desired keys from unused keys\n",
    "    caregiver_dict = map(lambda x: dict((k, x[k]) for k in desired_keys if k in x), caregiver_dict)\n",
    "    \n",
    "    #this convert birthday stamp into interger age\n",
    "    caregiver_dict = map(lambda feature: Merge(feature , {'age':age(feature.pop('birthday'))}), caregiver_dict)\n",
    "    \n",
    "    return list(caregiver_dict)"
   ]
  },
  {
   "cell_type": "code",
   "execution_count": 51,
   "id": "0e247ad8",
   "metadata": {},
   "outputs": [],
   "source": [
    "caregiver_dict = unpack_caregiver_snapshot(data)"
   ]
  },
  {
   "cell_type": "code",
   "execution_count": 52,
   "id": "6c49e806",
   "metadata": {},
   "outputs": [
    {
     "data": {
      "text/plain": [
       "[{'problems': 'Skizofrenia Depresi',\n",
       "  'gender': 'Pria',\n",
       "  'caregiver_id': '1294NxDFF60ozpXtMLzj',\n",
       "  'text': 'cxcxc',\n",
       "  'age': 21},\n",
       " {'problems': 'Gangguan-makan ADHD-Hiperaktif-dan-kurang-fokus',\n",
       "  'gender': 'Pria',\n",
       "  'caregiver_id': 'HUDwzgELY1OEzwieoHXK',\n",
       "  'text': 'wrre',\n",
       "  'age': 21},\n",
       " {'problems': 'Gangguan-makan Gangguan-stres-pascatrauma',\n",
       "  'gender': 'Pria',\n",
       "  'caregiver_id': 'UQr9WtwBTKhClEoe1AsS',\n",
       "  'text': 'w344',\n",
       "  'age': 21},\n",
       " {'problems': 'Gangguan-stres-pascatrauma',\n",
       "  'gender': 'Pria',\n",
       "  'caregiver_id': 'bYyoJYfth1fKqWBNI86A',\n",
       "  'text': 'trtr',\n",
       "  'age': 21},\n",
       " {'problems': 'Gangguan-stres-pascatrauma',\n",
       "  'gender': 'Pria',\n",
       "  'caregiver_id': 'hYwGH1IJzqwiDChn3zUU',\n",
       "  'text': 'sf',\n",
       "  'age': 21}]"
      ]
     },
     "execution_count": 52,
     "metadata": {},
     "output_type": "execute_result"
    }
   ],
   "source": [
    "caregiver_dict"
   ]
  },
  {
   "cell_type": "code",
   "execution_count": 53,
   "id": "849e0db0",
   "metadata": {},
   "outputs": [],
   "source": [
    "def convert_caregiver_dictList_to_df(dictionary):\n",
    "    # Creates DataFrame. \n",
    "    df = pd.DataFrame(dictionary) \n",
    "    #change column name to feature according to the model\n",
    "    change_column_name(df, ['problems','gender','caregiver_id','age'],['Caregiver_Tipe_Masalah','Caregiver_Gender','CAREGIVER_ID','Caregiver_Age'])\n",
    "    #convert categorical data into their own column\n",
    "    convert_categorical_data(df, \"Caregiver_Tipe_Masalah\", is_caregiver = True)\n",
    "    #fill missing column with default value\n",
    "    fill_non_existent_column(df, is_caregiver = True)\n",
    "    return df"
   ]
  },
  {
   "cell_type": "code",
   "execution_count": 54,
   "id": "4eeb0c48",
   "metadata": {},
   "outputs": [],
   "source": [
    "# Creates DataFrame. \n",
    "df = convert_caregiver_dictList_to_df(caregiver_dict) "
   ]
  },
  {
   "cell_type": "code",
   "execution_count": 55,
   "id": "162daaed",
   "metadata": {},
   "outputs": [],
   "source": [
    "caregiver_ds = df_to_dataset(df)"
   ]
  },
  {
   "cell_type": "code",
   "execution_count": 56,
   "id": "b7bd3f84",
   "metadata": {},
   "outputs": [
    {
     "name": "stdout",
     "output_type": "stream",
     "text": [
      "Every feature: ['Caregiver_Gender', 'CAREGIVER_ID', 'text', 'Caregiver_Age', 'Caregiver-ADHD-Hiperaktif-dan-kurang-fokus', 'Caregiver-Depresi', 'Caregiver-Gangguan-makan', 'Caregiver-Gangguan-stres-pascatrauma', 'Caregiver-Skizofrenia', 'Caregiver-Gangguan-kecemasan']\n"
     ]
    }
   ],
   "source": [
    "for feature_batch in caregiver_ds:\n",
    "  print('Every feature:', list(feature_batch.keys()))"
   ]
  },
  {
   "cell_type": "code",
   "execution_count": 57,
   "id": "90677472",
   "metadata": {},
   "outputs": [
    {
     "data": {
      "text/html": [
       "<div>\n",
       "<style scoped>\n",
       "    .dataframe tbody tr th:only-of-type {\n",
       "        vertical-align: middle;\n",
       "    }\n",
       "\n",
       "    .dataframe tbody tr th {\n",
       "        vertical-align: top;\n",
       "    }\n",
       "\n",
       "    .dataframe thead th {\n",
       "        text-align: right;\n",
       "    }\n",
       "</style>\n",
       "<table border=\"1\" class=\"dataframe\">\n",
       "  <thead>\n",
       "    <tr style=\"text-align: right;\">\n",
       "      <th></th>\n",
       "      <th>Caregiver_Gender</th>\n",
       "      <th>CAREGIVER_ID</th>\n",
       "      <th>text</th>\n",
       "      <th>Caregiver_Age</th>\n",
       "      <th>Caregiver-ADHD-Hiperaktif-dan-kurang-fokus</th>\n",
       "      <th>Caregiver-Depresi</th>\n",
       "      <th>Caregiver-Gangguan-makan</th>\n",
       "      <th>Caregiver-Gangguan-stres-pascatrauma</th>\n",
       "      <th>Caregiver-Skizofrenia</th>\n",
       "      <th>Caregiver-Gangguan-kecemasan</th>\n",
       "    </tr>\n",
       "  </thead>\n",
       "  <tbody>\n",
       "    <tr>\n",
       "      <th>0</th>\n",
       "      <td>Pria</td>\n",
       "      <td>1294NxDFF60ozpXtMLzj</td>\n",
       "      <td>cxcxc</td>\n",
       "      <td>21</td>\n",
       "      <td>0</td>\n",
       "      <td>1</td>\n",
       "      <td>0</td>\n",
       "      <td>0</td>\n",
       "      <td>1</td>\n",
       "      <td>0</td>\n",
       "    </tr>\n",
       "    <tr>\n",
       "      <th>1</th>\n",
       "      <td>Pria</td>\n",
       "      <td>HUDwzgELY1OEzwieoHXK</td>\n",
       "      <td>wrre</td>\n",
       "      <td>21</td>\n",
       "      <td>1</td>\n",
       "      <td>0</td>\n",
       "      <td>1</td>\n",
       "      <td>0</td>\n",
       "      <td>0</td>\n",
       "      <td>0</td>\n",
       "    </tr>\n",
       "    <tr>\n",
       "      <th>2</th>\n",
       "      <td>Pria</td>\n",
       "      <td>UQr9WtwBTKhClEoe1AsS</td>\n",
       "      <td>w344</td>\n",
       "      <td>21</td>\n",
       "      <td>0</td>\n",
       "      <td>0</td>\n",
       "      <td>1</td>\n",
       "      <td>1</td>\n",
       "      <td>0</td>\n",
       "      <td>0</td>\n",
       "    </tr>\n",
       "    <tr>\n",
       "      <th>3</th>\n",
       "      <td>Pria</td>\n",
       "      <td>bYyoJYfth1fKqWBNI86A</td>\n",
       "      <td>trtr</td>\n",
       "      <td>21</td>\n",
       "      <td>0</td>\n",
       "      <td>0</td>\n",
       "      <td>0</td>\n",
       "      <td>1</td>\n",
       "      <td>0</td>\n",
       "      <td>0</td>\n",
       "    </tr>\n",
       "    <tr>\n",
       "      <th>4</th>\n",
       "      <td>Pria</td>\n",
       "      <td>hYwGH1IJzqwiDChn3zUU</td>\n",
       "      <td>sf</td>\n",
       "      <td>21</td>\n",
       "      <td>0</td>\n",
       "      <td>0</td>\n",
       "      <td>0</td>\n",
       "      <td>1</td>\n",
       "      <td>0</td>\n",
       "      <td>0</td>\n",
       "    </tr>\n",
       "  </tbody>\n",
       "</table>\n",
       "</div>"
      ],
      "text/plain": [
       "  Caregiver_Gender          CAREGIVER_ID   text  Caregiver_Age  \\\n",
       "0             Pria  1294NxDFF60ozpXtMLzj  cxcxc             21   \n",
       "1             Pria  HUDwzgELY1OEzwieoHXK   wrre             21   \n",
       "2             Pria  UQr9WtwBTKhClEoe1AsS   w344             21   \n",
       "3             Pria  bYyoJYfth1fKqWBNI86A   trtr             21   \n",
       "4             Pria  hYwGH1IJzqwiDChn3zUU     sf             21   \n",
       "\n",
       "   Caregiver-ADHD-Hiperaktif-dan-kurang-fokus  Caregiver-Depresi  \\\n",
       "0                                           0                  1   \n",
       "1                                           1                  0   \n",
       "2                                           0                  0   \n",
       "3                                           0                  0   \n",
       "4                                           0                  0   \n",
       "\n",
       "   Caregiver-Gangguan-makan  Caregiver-Gangguan-stres-pascatrauma  \\\n",
       "0                         0                                     0   \n",
       "1                         1                                     0   \n",
       "2                         1                                     1   \n",
       "3                         0                                     1   \n",
       "4                         0                                     1   \n",
       "\n",
       "   Caregiver-Skizofrenia  Caregiver-Gangguan-kecemasan  \n",
       "0                      1                             0  \n",
       "1                      0                             0  \n",
       "2                      0                             0  \n",
       "3                      0                             0  \n",
       "4                      0                             0  "
      ]
     },
     "execution_count": 57,
     "metadata": {},
     "output_type": "execute_result"
    }
   ],
   "source": [
    "df"
   ]
  },
  {
   "cell_type": "code",
   "execution_count": 58,
   "id": "9a311800",
   "metadata": {},
   "outputs": [
    {
     "name": "stdout",
     "output_type": "stream",
     "text": [
      "WARNING:tensorflow:Layers in a Sequential model should only have a single input tensor. Received: inputs={'Caregiver_Gender': <tf.Tensor 'args_8:0' shape=(None,) dtype=string>, 'CAREGIVER_ID': <tf.Tensor 'args_0:0' shape=(None,) dtype=string>, 'text': <tf.Tensor 'args_9:0' shape=(None,) dtype=string>, 'Caregiver_Age': <tf.Tensor 'args_7:0' shape=(None,) dtype=int64>, 'Caregiver-ADHD-Hiperaktif-dan-kurang-fokus': <tf.Tensor 'args_1:0' shape=(None,) dtype=int32>, 'Caregiver-Depresi': <tf.Tensor 'args_2:0' shape=(None,) dtype=int32>, 'Caregiver-Gangguan-makan': <tf.Tensor 'args_4:0' shape=(None,) dtype=int32>, 'Caregiver-Gangguan-stres-pascatrauma': <tf.Tensor 'args_5:0' shape=(None,) dtype=int32>, 'Caregiver-Skizofrenia': <tf.Tensor 'args_6:0' shape=(None,) dtype=int32>, 'Caregiver-Gangguan-kecemasan': <tf.Tensor 'args_3:0' shape=(None,) dtype=int64>}. Consider rewriting this model with the Functional API.\n"
     ]
    },
    {
     "data": {
      "text/plain": [
       "<MapDataset element_spec=(TensorSpec(shape=(None,), dtype=tf.string, name=None), TensorSpec(shape=(None, 32), dtype=tf.float32, name=None))>"
      ]
     },
     "execution_count": 58,
     "metadata": {},
     "output_type": "execute_result"
    }
   ],
   "source": [
    "caregiver_ds.map(lambda features: (features['CAREGIVER_ID'], MAIN_CAREGIVER_MODEL(features)))"
   ]
  },
  {
   "cell_type": "code",
   "execution_count": null,
   "id": "729978fe",
   "metadata": {},
   "outputs": [],
   "source": []
  },
  {
   "cell_type": "code",
   "execution_count": null,
   "id": "970f78de",
   "metadata": {},
   "outputs": [],
   "source": []
  },
  {
   "cell_type": "code",
   "execution_count": 59,
   "id": "c33e05f8",
   "metadata": {},
   "outputs": [],
   "source": [
    "caregiver_index = df.to_dict('records')"
   ]
  },
  {
   "cell_type": "code",
   "execution_count": 60,
   "id": "160dfcac",
   "metadata": {},
   "outputs": [
    {
     "data": {
      "text/plain": [
       "[{'Caregiver_Gender': 'Pria',\n",
       "  'CAREGIVER_ID': '1294NxDFF60ozpXtMLzj',\n",
       "  'text': 'cxcxc',\n",
       "  'Caregiver_Age': 21,\n",
       "  'Caregiver-ADHD-Hiperaktif-dan-kurang-fokus': 0,\n",
       "  'Caregiver-Depresi': 1,\n",
       "  'Caregiver-Gangguan-makan': 0,\n",
       "  'Caregiver-Gangguan-stres-pascatrauma': 0,\n",
       "  'Caregiver-Skizofrenia': 1,\n",
       "  'Caregiver-Gangguan-kecemasan': 0},\n",
       " {'Caregiver_Gender': 'Pria',\n",
       "  'CAREGIVER_ID': 'HUDwzgELY1OEzwieoHXK',\n",
       "  'text': 'wrre',\n",
       "  'Caregiver_Age': 21,\n",
       "  'Caregiver-ADHD-Hiperaktif-dan-kurang-fokus': 1,\n",
       "  'Caregiver-Depresi': 0,\n",
       "  'Caregiver-Gangguan-makan': 1,\n",
       "  'Caregiver-Gangguan-stres-pascatrauma': 0,\n",
       "  'Caregiver-Skizofrenia': 0,\n",
       "  'Caregiver-Gangguan-kecemasan': 0},\n",
       " {'Caregiver_Gender': 'Pria',\n",
       "  'CAREGIVER_ID': 'UQr9WtwBTKhClEoe1AsS',\n",
       "  'text': 'w344',\n",
       "  'Caregiver_Age': 21,\n",
       "  'Caregiver-ADHD-Hiperaktif-dan-kurang-fokus': 0,\n",
       "  'Caregiver-Depresi': 0,\n",
       "  'Caregiver-Gangguan-makan': 1,\n",
       "  'Caregiver-Gangguan-stres-pascatrauma': 1,\n",
       "  'Caregiver-Skizofrenia': 0,\n",
       "  'Caregiver-Gangguan-kecemasan': 0},\n",
       " {'Caregiver_Gender': 'Pria',\n",
       "  'CAREGIVER_ID': 'bYyoJYfth1fKqWBNI86A',\n",
       "  'text': 'trtr',\n",
       "  'Caregiver_Age': 21,\n",
       "  'Caregiver-ADHD-Hiperaktif-dan-kurang-fokus': 0,\n",
       "  'Caregiver-Depresi': 0,\n",
       "  'Caregiver-Gangguan-makan': 0,\n",
       "  'Caregiver-Gangguan-stres-pascatrauma': 1,\n",
       "  'Caregiver-Skizofrenia': 0,\n",
       "  'Caregiver-Gangguan-kecemasan': 0},\n",
       " {'Caregiver_Gender': 'Pria',\n",
       "  'CAREGIVER_ID': 'hYwGH1IJzqwiDChn3zUU',\n",
       "  'text': 'sf',\n",
       "  'Caregiver_Age': 21,\n",
       "  'Caregiver-ADHD-Hiperaktif-dan-kurang-fokus': 0,\n",
       "  'Caregiver-Depresi': 0,\n",
       "  'Caregiver-Gangguan-makan': 0,\n",
       "  'Caregiver-Gangguan-stres-pascatrauma': 1,\n",
       "  'Caregiver-Skizofrenia': 0,\n",
       "  'Caregiver-Gangguan-kecemasan': 0}]"
      ]
     },
     "execution_count": 60,
     "metadata": {},
     "output_type": "execute_result"
    }
   ],
   "source": [
    "caregiver_index"
   ]
  },
  {
   "cell_type": "code",
   "execution_count": null,
   "id": "8363750e",
   "metadata": {},
   "outputs": [],
   "source": [
    "caregiver_index = map(lambda x: dict((k, [x[k]]) for k in x), caregiver_index)"
   ]
  },
  {
   "cell_type": "code",
   "execution_count": null,
   "id": "c3fe5a91",
   "metadata": {},
   "outputs": [],
   "source": [
    "list(caregiver_index)"
   ]
  },
  {
   "cell_type": "code",
   "execution_count": null,
   "id": "96a3b28b",
   "metadata": {},
   "outputs": [],
   "source": []
  },
  {
   "cell_type": "code",
   "execution_count": 45,
   "id": "dbde275d",
   "metadata": {},
   "outputs": [
    {
     "name": "stdout",
     "output_type": "stream",
     "text": [
      "WARNING:tensorflow:No training configuration found in save file, so the model was *not* compiled. Compile it manually.\n",
      "WARNING:tensorflow:No training configuration found in save file, so the model was *not* compiled. Compile it manually.\n"
     ]
    }
   ],
   "source": [
    "MAIN_TEXT_MODEL = tf.saved_model.load('saved_model_v1/text_query_v1')\n",
    "MAIN_USER_MODEL =   tf.keras.models.load_model('saved_manual_model/user_query_v1')\n",
    "MAIN_CAREGIVER_MODEL =  tf.keras.models.load_model('saved_manual_model/caregiver_query_v1')"
   ]
  },
  {
   "cell_type": "code",
   "execution_count": 61,
   "id": "3d753c30",
   "metadata": {},
   "outputs": [
    {
     "name": "stdout",
     "output_type": "stream",
     "text": [
      "WARNING:tensorflow:Layers in a Sequential model should only have a single input tensor. Received: inputs={'Caregiver_Gender': <tf.Tensor 'args_8:0' shape=(None,) dtype=string>, 'CAREGIVER_ID': <tf.Tensor 'args_0:0' shape=(None,) dtype=string>, 'text': <tf.Tensor 'args_9:0' shape=(None,) dtype=string>, 'Caregiver_Age': <tf.Tensor 'args_7:0' shape=(None,) dtype=int64>, 'Caregiver-ADHD-Hiperaktif-dan-kurang-fokus': <tf.Tensor 'args_1:0' shape=(None,) dtype=int32>, 'Caregiver-Depresi': <tf.Tensor 'args_2:0' shape=(None,) dtype=int32>, 'Caregiver-Gangguan-makan': <tf.Tensor 'args_4:0' shape=(None,) dtype=int32>, 'Caregiver-Gangguan-stres-pascatrauma': <tf.Tensor 'args_5:0' shape=(None,) dtype=int32>, 'Caregiver-Skizofrenia': <tf.Tensor 'args_6:0' shape=(None,) dtype=int32>, 'Caregiver-Gangguan-kecemasan': <tf.Tensor 'args_3:0' shape=(None,) dtype=int64>}. Consider rewriting this model with the Functional API.\n"
     ]
    }
   ],
   "source": [
    "caregiver_index = caregiver_ds.map(lambda features: (features['CAREGIVER_ID'], MAIN_CAREGIVER_MODEL(features)))"
   ]
  },
  {
   "cell_type": "code",
   "execution_count": 62,
   "id": "eab8d8e6",
   "metadata": {},
   "outputs": [
    {
     "name": "stdout",
     "output_type": "stream",
     "text": [
      "WARNING:tensorflow:Layers in a Sequential model should only have a single input tensor. Received: inputs={'Caregiver_Gender': <tf.Tensor 'args_8:0' shape=(None,) dtype=string>, 'CAREGIVER_ID': <tf.Tensor 'args_0:0' shape=(None,) dtype=string>, 'text': <tf.Tensor 'args_9:0' shape=(None,) dtype=string>, 'Caregiver_Age': <tf.Tensor 'args_7:0' shape=(None,) dtype=int64>, 'Caregiver-ADHD-Hiperaktif-dan-kurang-fokus': <tf.Tensor 'args_1:0' shape=(None,) dtype=int32>, 'Caregiver-Depresi': <tf.Tensor 'args_2:0' shape=(None,) dtype=int32>, 'Caregiver-Gangguan-makan': <tf.Tensor 'args_4:0' shape=(None,) dtype=int32>, 'Caregiver-Gangguan-stres-pascatrauma': <tf.Tensor 'args_5:0' shape=(None,) dtype=int32>, 'Caregiver-Skizofrenia': <tf.Tensor 'args_6:0' shape=(None,) dtype=int32>, 'Caregiver-Gangguan-kecemasan': <tf.Tensor 'args_3:0' shape=(None,) dtype=int64>}. Consider rewriting this model with the Functional API.\n"
     ]
    },
    {
     "data": {
      "text/plain": [
       "<tensorflow_recommenders.layers.factorized_top_k.BruteForce at 0x2130393b190>"
      ]
     },
     "execution_count": 62,
     "metadata": {},
     "output_type": "execute_result"
    }
   ],
   "source": [
    "brute_force = tfrs.layers.factorized_top_k.BruteForce(MAIN_USER_MODEL)\n",
    "brute_force.index_from_dataset(  \n",
    "       caregiver_ds.map(lambda features: (features['CAREGIVER_ID'], MAIN_CAREGIVER_MODEL(features)))\n",
    ")\n",
    "\n",
    "\n",
    "\n"
   ]
  },
  {
   "cell_type": "code",
   "execution_count": 63,
   "id": "059dd1c1",
   "metadata": {},
   "outputs": [
    {
     "name": "stdout",
     "output_type": "stream",
     "text": [
      "{'Gender': ['Pria'], 'Age': [30], 'ADHD-Hiperaktif-dan-kurang-fokus': [0], 'Depresi': [1], 'Gangguan-kecemasan': [0], 'Gangguan-makan': [0], 'Gangguan-stres-pascatrauma': [1], 'Skizofrenia': [0]}\n"
     ]
    }
   ],
   "source": [
    "a =['Gender', 'Age', 'ADHD-Hiperaktif-dan-kurang-fokus', 'Depresi', 'Gangguan-kecemasan', 'Gangguan-makan','Gangguan-stres-pascatrauma', 'Skizofrenia']\n",
    "value = ['Pria', 30, 0, 1, 0, 0, 1, 0]\n",
    "dictionary_Test = dict((el,([value[ix]])) for ix,el in enumerate(a))\n",
    "print(dictionary_Test)"
   ]
  },
  {
   "cell_type": "code",
   "execution_count": 64,
   "id": "2509b753",
   "metadata": {},
   "outputs": [
    {
     "name": "stdout",
     "output_type": "stream",
     "text": [
      "WARNING:tensorflow:Layers in a Sequential model should only have a single input tensor. Received: inputs={'Gender': ['Pria'], 'Age': [<tf.Tensor: shape=(), dtype=int32, numpy=30>], 'ADHD-Hiperaktif-dan-kurang-fokus': [<tf.Tensor: shape=(), dtype=int32, numpy=0>], 'Depresi': [<tf.Tensor: shape=(), dtype=int32, numpy=1>], 'Gangguan-kecemasan': [<tf.Tensor: shape=(), dtype=int32, numpy=0>], 'Gangguan-makan': [<tf.Tensor: shape=(), dtype=int32, numpy=0>], 'Gangguan-stres-pascatrauma': [<tf.Tensor: shape=(), dtype=int32, numpy=1>], 'Skizofrenia': [<tf.Tensor: shape=(), dtype=int32, numpy=0>]}. Consider rewriting this model with the Functional API.\n",
      "Top recommendations: [b'bYyoJYfth1fKqWBNI86A' b'hYwGH1IJzqwiDChn3zUU']\n"
     ]
    }
   ],
   "source": [
    "\n",
    "a, titles = brute_force(dictionary_Test, k=2)\n",
    "print(f\"Top recommendations: {titles[0]}\")"
   ]
  },
  {
   "cell_type": "code",
   "execution_count": null,
   "id": "b7569d66",
   "metadata": {},
   "outputs": [],
   "source": []
  }
 ],
 "metadata": {
  "kernelspec": {
   "display_name": "Python 3",
   "language": "python",
   "name": "python3"
  },
  "language_info": {
   "codemirror_mode": {
    "name": "ipython",
    "version": 3
   },
   "file_extension": ".py",
   "mimetype": "text/x-python",
   "name": "python",
   "nbconvert_exporter": "python",
   "pygments_lexer": "ipython3",
   "version": "3.9.11"
  }
 },
 "nbformat": 4,
 "nbformat_minor": 5
}
