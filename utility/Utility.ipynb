{
 "cells": [
  {
   "cell_type": "code",
   "execution_count": 1,
   "id": "ef3313e8",
   "metadata": {},
   "outputs": [],
   "source": [
    "import os\n",
    "import tensorflow as tf\n",
    "import tensorflow_recommenders as tfrs\n",
    "import json\n",
    "import pandas as pd\n",
    "from os import getenv\n",
    "import numpy as np\n",
    "#from keras import models\n",
    "from firebase_admin import credentials, firestore, initialize_app"
   ]
  },
  {
   "cell_type": "code",
   "execution_count": 2,
   "id": "e913dd2a",
   "metadata": {},
   "outputs": [],
   "source": [
    "cred = credentials.Certificate(\"key.json\")\n",
    "default_app = initialize_app(cred)\n",
    "db = firestore.client()"
   ]
  },
  {
   "cell_type": "code",
   "execution_count": 3,
   "id": "5ee355ee",
   "metadata": {},
   "outputs": [],
   "source": [
    "class User(object):\n",
    "    def __init__(self, USER_ID, Nama, Gender, Age, Tipe_Masalah):\n",
    "        self.USER_ID = USER_ID\n",
    "        self.Nama = Nama\n",
    "        self.Gender = Gender\n",
    "        self.Age = Age\n",
    "        self.Tipe_Masalah = Tipe_Masalah\n",
    "\n",
    "    @staticmethod\n",
    "    def from_json_do_not_use(source):\n",
    "        \"\"\"\n",
    "        Source is expected from pure json string\n",
    "        \"\"\"\n",
    "        return source\n",
    "\n",
    "    @staticmethod\n",
    "    def from_dict(source):\n",
    "        # [START_EXCLUDE]\n",
    "        user = User(source[u'USER_ID'], source[u'Nama'], source[u'Gender'], source[u'Age'], source[u'Tipe_Masalah'])\n",
    "\n",
    "        if u'USER_ID' in source:\n",
    "            user.USER_ID = source[u'USER_ID']\n",
    "\n",
    "        if u'Nama' in source:\n",
    "            user.Nama = source[u'Nama']\n",
    "\n",
    "        if u'Gender' in source:\n",
    "            user.Gender = source[u'Gender']\n",
    "\n",
    "        if u'Age' in source:\n",
    "            user.Age = source[u'Age']\n",
    "\n",
    "        if u'Tipe_Masalah' in source:\n",
    "            user.Tipe_Masalah = source[u'Tipe_Masalah']\n",
    "\n",
    "        return user\n",
    "        # [END_EXCLUDE]\n",
    "\n",
    "    def to_dict(self):\n",
    "        # [START_EXCLUDE]\n",
    "        dest = {\n",
    "            u'USER_ID': self.USER_ID,\n",
    "            u'Nama': self.Nama,\n",
    "            u'Gender': self.Gender,\n",
    "            u'Age': self.Age,\n",
    "            u'Tipe_Masalah': self.Tipe_Masalah\n",
    "        }\n",
    "\n",
    "        if self.USER_ID:\n",
    "            dest[u'USER_ID'] = self.USER_ID\n",
    "\n",
    "        if self.Nama:\n",
    "            dest[u'Nama'] = self.Nama\n",
    "\n",
    "        if self.Gender:\n",
    "            dest[u'Gender'] = self.Gender\n",
    "\n",
    "        if self.Age:\n",
    "            dest[u'Age'] = self.Age\n",
    "\n",
    "        if self.Tipe_Masalah:\n",
    "            dest[u'Tipe_Masalah'] = self.Tipe_Masalah\n",
    "\n",
    "        return dest\n",
    "        # [END_EXCLUDE]\n",
    "\n",
    "    \n",
    "    def __repr__(self):\n",
    "        return (\n",
    "            f'City(\\\n",
    "                USER_ID={self.USER_ID}, \\\n",
    "                Nama={self.Nama}, \\\n",
    "                Age={self.Age}, \\\n",
    "                Gender={self.Gender}, \\\n",
    "                Tipe_Masalah={self.Tipe_Masalah}\\\n",
    "            )'\n",
    "        )"
   ]
  },
  {
   "cell_type": "code",
   "execution_count": 4,
   "id": "faa75d42",
   "metadata": {},
   "outputs": [],
   "source": [
    "zidan = User(1, \"zidan\", \"pria\", 43, \"Depresi\")"
   ]
  },
  {
   "cell_type": "code",
   "execution_count": 5,
   "id": "4146df79",
   "metadata": {},
   "outputs": [
    {
     "data": {
      "text/plain": [
       "City(                USER_ID=1,                 Nama=zidan,                 Age=43,                 Gender=pria,                 Tipe_Masalah=Depresi            )"
      ]
     },
     "execution_count": 5,
     "metadata": {},
     "output_type": "execute_result"
    }
   ],
   "source": [
    "zidan"
   ]
  },
  {
   "cell_type": "code",
   "execution_count": 6,
   "id": "369d698a",
   "metadata": {},
   "outputs": [
    {
     "data": {
      "text/plain": [
       "__main__.User"
      ]
     },
     "execution_count": 6,
     "metadata": {},
     "output_type": "execute_result"
    }
   ],
   "source": [
    "type(zidan)"
   ]
  },
  {
   "cell_type": "code",
   "execution_count": 7,
   "id": "f5583517",
   "metadata": {},
   "outputs": [
    {
     "data": {
      "text/plain": [
       "dict"
      ]
     },
     "execution_count": 7,
     "metadata": {},
     "output_type": "execute_result"
    }
   ],
   "source": [
    "type(zidan.to_dict())"
   ]
  },
  {
   "cell_type": "code",
   "execution_count": 8,
   "id": "813e2fe2",
   "metadata": {},
   "outputs": [],
   "source": [
    "import pathlib\n",
    "import os\n",
    "\n",
    "user_file = \"\\\\Data\\\\Processed User Data.json\"\n",
    "caregiver_file = \"\\\\Data\\\\Processed Caregiver Data.json\"\n",
    "\n",
    "path = pathlib.Path().resolve()\n",
    "parent_path = path.parent.absolute()\n",
    "\n",
    "user_path = str(parent_path) + user_file\n",
    "caregiver_ = str(parent_path) + caregiver_file"
   ]
  },
  {
   "cell_type": "code",
   "execution_count": 9,
   "id": "38f9da10",
   "metadata": {},
   "outputs": [
    {
     "data": {
      "text/plain": [
       "\"\\nwith open(user_path) as file:\\n    data = json.load(file)\\n    db_user_placeholder = db.collection(u'User_Data_Placeholder')\\n    for user_dict in data:\\n        user_dict['Nama'] = 'placeholder_nama'\\n        user_dict['Text'] = 'Placeholder_text'\\n        db_user_placeholder.add(user_dict)\\n\""
      ]
     },
     "execution_count": 9,
     "metadata": {},
     "output_type": "execute_result"
    }
   ],
   "source": [
    "\"\"\"\n",
    "with open(user_path) as file:\n",
    "    data = json.load(file)\n",
    "    db_user_placeholder = db.collection(u'User_Data_Placeholder')\n",
    "    for user_dict in data:\n",
    "        user_dict['Nama'] = 'placeholder_nama'\n",
    "        user_dict['Text'] = 'Placeholder_text'\n",
    "        db_user_placeholder.add(user_dict)\n",
    "\"\"\""
   ]
  },
  {
   "cell_type": "code",
   "execution_count": 10,
   "id": "5e199bb7",
   "metadata": {},
   "outputs": [],
   "source": [
    "data = db.collection(u'user_pref').get()\n"
   ]
  },
  {
   "cell_type": "code",
   "execution_count": 11,
   "id": "d925eded",
   "metadata": {},
   "outputs": [
    {
     "name": "stdout",
     "output_type": "stream",
     "text": [
      "{'gender': 'Pria', 'birthday': DatetimeWithNanoseconds(2000, 11, 16, 17, 0, tzinfo=datetime.timezone.utc), 'text': 'placeholder text', 'problems': 'Depresi Gangguan-makan'}\n"
     ]
    }
   ],
   "source": [
    "print(data[0].to_dict())"
   ]
  },
  {
   "cell_type": "code",
   "execution_count": 12,
   "id": "99c1d749",
   "metadata": {},
   "outputs": [],
   "source": [
    "def convert_snapshot(data, desired_key = None):\n",
    "    \"\"\"\n",
    "    this extract desired keys from list of dicts from snapshot\n",
    "    \"\"\"\n",
    "    data_dictionary = map(lambda x: x.to_dict(), data)\n",
    "    if (desired_key is not None):\n",
    "        data_dictionary = map(lambda x: dict((k, x[k]) for k in desired_key if k in x), list(data_dictionary))\n",
    "\n",
    "    return list(data_dictionary)"
   ]
  },
  {
   "cell_type": "code",
   "execution_count": 13,
   "id": "6b753765",
   "metadata": {},
   "outputs": [],
   "source": [
    "new_data = convert_snapshot(data, [\"gender\",\"problems\",\"age\",\"text\"])"
   ]
  },
  {
   "cell_type": "code",
   "execution_count": null,
   "id": "0ab4f5e3",
   "metadata": {},
   "outputs": [],
   "source": []
  },
  {
   "cell_type": "code",
   "execution_count": 14,
   "id": "05abae58",
   "metadata": {},
   "outputs": [],
   "source": [
    "def df_to_dataset(dataframe, shuffle=True, batch_size=32):\n",
    "    \"\"\"\n",
    "    A utility method to create a tf.data dataset from a Pandas Dataframe\n",
    "    \"\"\"\n",
    "    dataframe = dataframe.copy()\n",
    "    ds = tf.data.Dataset.from_tensor_slices(dict(dataframe))\n",
    "    if shuffle:\n",
    "        ds = ds.shuffle(buffer_size=len(dataframe))\n",
    "    ds = ds.batch(batch_size)\n",
    "    return ds"
   ]
  },
  {
   "cell_type": "code",
   "execution_count": 15,
   "id": "f9c49ff6",
   "metadata": {},
   "outputs": [],
   "source": [
    "def convert_categorical_data(df, col, is_caregiver = False):\n",
    "    \"\"\"\n",
    "    Convert categorical data that splited by space to their own column in pandas dataframe , making them like one hot encoded\n",
    "    \"\"\"\n",
    "    import numpy as np\n",
    "    ### Join every string in every row, split the result, pull out the unique values.\n",
    "    genres = np.unique(' '.join(df[col]).split(' '))\n",
    "    ### Drop 'NA'\n",
    "    genres = np.delete(genres, np.where(genres == ''))\n",
    "    if(not is_caregiver):\n",
    "        for genre in genres:\n",
    "            df[genre] = df[col].str.contains(genre).astype('int')\n",
    "    else:\n",
    "        for genre in genres:\n",
    "            df['Caregiver-'+genre] = df[col].str.contains(genre).astype('int')\n",
    "    df.drop(col, axis=1, inplace=True)"
   ]
  },
  {
   "cell_type": "code",
   "execution_count": 16,
   "id": "da0cbb78",
   "metadata": {},
   "outputs": [],
   "source": [
    "def fill_non_existent_column(df, is_caregiver = False):\n",
    "    \"\"\"\n",
    "    This fill the df with unique problems column i\n",
    "    \"\"\"\n",
    "    if is_caregiver is False:\n",
    "         new_column = ['ADHD-Hiperaktif-dan-kurang-fokus', 'Depresi', 'Gangguan-kecemasan', 'Gangguan-makan','Gangguan-stres-pascatrauma', 'Skizofrenia']\n",
    "    else:\n",
    "        new_column = ['Caregiver-ADHD-Hiperaktif-dan-kurang-fokus', 'Caregiver-Depresi', 'Caregiver-Gangguan-kecemasan', 'Caregiver-Gangguan-makan','Caregiver-Gangguan-stres-pascatrauma', 'Caregiver-Skizofrenia']\n",
    "\n",
    "    for col in new_column:\n",
    "        if(col in df.columns):\n",
    "            pass\n",
    "        else:\n",
    "            df[col] = 0\n",
    "    \n",
    "    "
   ]
  },
  {
   "cell_type": "code",
   "execution_count": 17,
   "id": "c869be88",
   "metadata": {},
   "outputs": [],
   "source": [
    "def change_column_name(df, old_name,new_name):\n",
    "    \"\"\"\n",
    "    replace list of column name in old_name to new colum name in new_name\n",
    "    the order of old_name and new_name need to be exact\n",
    "    \"\"\"\n",
    "    res = {old_name[i]: new_name[i] for i in range(len(new_name))}\n",
    "    df.rename(columns = res, inplace = True)\n",
    "    \n",
    "    "
   ]
  },
  {
   "cell_type": "code",
   "execution_count": 18,
   "id": "a886b18f",
   "metadata": {},
   "outputs": [],
   "source": [
    "def desired_keys(dictionary , desired_key):\n",
    "    if (desired_key is not None):\n",
    "        dictionary = map(lambda x: dict((k, x[k]) for k in desired_key if k in x), list(dictionary))\n",
    "    return list(dictionary)"
   ]
  },
  {
   "cell_type": "code",
   "execution_count": 19,
   "id": "4f4b2c3f",
   "metadata": {},
   "outputs": [],
   "source": [
    "#ds_kalimat = tf.data.Dataset.from_tensor_slices(pd.DataFrame.from_dict(new_data).to_dict(orient=\"list\"))"
   ]
  },
  {
   "cell_type": "code",
   "execution_count": 20,
   "id": "38c8b001",
   "metadata": {},
   "outputs": [],
   "source": [
    "user_df = pd.DataFrame.from_dict(new_data)"
   ]
  },
  {
   "cell_type": "code",
   "execution_count": 21,
   "id": "7eaebdc7",
   "metadata": {},
   "outputs": [
    {
     "data": {
      "text/html": [
       "<div>\n",
       "<style scoped>\n",
       "    .dataframe tbody tr th:only-of-type {\n",
       "        vertical-align: middle;\n",
       "    }\n",
       "\n",
       "    .dataframe tbody tr th {\n",
       "        vertical-align: top;\n",
       "    }\n",
       "\n",
       "    .dataframe thead th {\n",
       "        text-align: right;\n",
       "    }\n",
       "</style>\n",
       "<table border=\"1\" class=\"dataframe\">\n",
       "  <thead>\n",
       "    <tr style=\"text-align: right;\">\n",
       "      <th></th>\n",
       "      <th>gender</th>\n",
       "      <th>problems</th>\n",
       "      <th>text</th>\n",
       "      <th>age</th>\n",
       "    </tr>\n",
       "  </thead>\n",
       "  <tbody>\n",
       "    <tr>\n",
       "      <th>0</th>\n",
       "      <td>Pria</td>\n",
       "      <td>Depresi Gangguan-makan</td>\n",
       "      <td>placeholder text</td>\n",
       "      <td>NaN</td>\n",
       "    </tr>\n",
       "    <tr>\n",
       "      <th>1</th>\n",
       "      <td>Laki-laki</td>\n",
       "      <td>Gangguan-kecemasan Depresi</td>\n",
       "      <td>Placeholder_text</td>\n",
       "      <td>27.0</td>\n",
       "    </tr>\n",
       "  </tbody>\n",
       "</table>\n",
       "</div>"
      ],
      "text/plain": [
       "      gender                    problems              text   age\n",
       "0       Pria      Depresi Gangguan-makan  placeholder text   NaN\n",
       "1  Laki-laki  Gangguan-kecemasan Depresi  Placeholder_text  27.0"
      ]
     },
     "execution_count": 21,
     "metadata": {},
     "output_type": "execute_result"
    }
   ],
   "source": [
    "user_df.head(4)"
   ]
  },
  {
   "cell_type": "code",
   "execution_count": 22,
   "id": "28e4880e",
   "metadata": {},
   "outputs": [],
   "source": [
    "convert_categorical_data(user_df, col='problems')"
   ]
  },
  {
   "cell_type": "code",
   "execution_count": 23,
   "id": "f2ea9238",
   "metadata": {},
   "outputs": [
    {
     "data": {
      "text/html": [
       "<div>\n",
       "<style scoped>\n",
       "    .dataframe tbody tr th:only-of-type {\n",
       "        vertical-align: middle;\n",
       "    }\n",
       "\n",
       "    .dataframe tbody tr th {\n",
       "        vertical-align: top;\n",
       "    }\n",
       "\n",
       "    .dataframe thead th {\n",
       "        text-align: right;\n",
       "    }\n",
       "</style>\n",
       "<table border=\"1\" class=\"dataframe\">\n",
       "  <thead>\n",
       "    <tr style=\"text-align: right;\">\n",
       "      <th></th>\n",
       "      <th>gender</th>\n",
       "      <th>text</th>\n",
       "      <th>age</th>\n",
       "      <th>Depresi</th>\n",
       "      <th>Gangguan-kecemasan</th>\n",
       "      <th>Gangguan-makan</th>\n",
       "    </tr>\n",
       "  </thead>\n",
       "  <tbody>\n",
       "    <tr>\n",
       "      <th>0</th>\n",
       "      <td>Pria</td>\n",
       "      <td>placeholder text</td>\n",
       "      <td>NaN</td>\n",
       "      <td>1</td>\n",
       "      <td>0</td>\n",
       "      <td>1</td>\n",
       "    </tr>\n",
       "    <tr>\n",
       "      <th>1</th>\n",
       "      <td>Laki-laki</td>\n",
       "      <td>Placeholder_text</td>\n",
       "      <td>27.0</td>\n",
       "      <td>1</td>\n",
       "      <td>1</td>\n",
       "      <td>0</td>\n",
       "    </tr>\n",
       "  </tbody>\n",
       "</table>\n",
       "</div>"
      ],
      "text/plain": [
       "      gender              text   age  Depresi  Gangguan-kecemasan  \\\n",
       "0       Pria  placeholder text   NaN        1                   0   \n",
       "1  Laki-laki  Placeholder_text  27.0        1                   1   \n",
       "\n",
       "   Gangguan-makan  \n",
       "0               1  \n",
       "1               0  "
      ]
     },
     "execution_count": 23,
     "metadata": {},
     "output_type": "execute_result"
    }
   ],
   "source": [
    "user_df.head(4)"
   ]
  },
  {
   "cell_type": "code",
   "execution_count": 24,
   "id": "9040f64f",
   "metadata": {},
   "outputs": [],
   "source": [
    "change_column_name(user_df, ['gender','age'], ['Gender','Age'])"
   ]
  },
  {
   "cell_type": "code",
   "execution_count": 25,
   "id": "293673a7",
   "metadata": {},
   "outputs": [
    {
     "data": {
      "text/html": [
       "<div>\n",
       "<style scoped>\n",
       "    .dataframe tbody tr th:only-of-type {\n",
       "        vertical-align: middle;\n",
       "    }\n",
       "\n",
       "    .dataframe tbody tr th {\n",
       "        vertical-align: top;\n",
       "    }\n",
       "\n",
       "    .dataframe thead th {\n",
       "        text-align: right;\n",
       "    }\n",
       "</style>\n",
       "<table border=\"1\" class=\"dataframe\">\n",
       "  <thead>\n",
       "    <tr style=\"text-align: right;\">\n",
       "      <th></th>\n",
       "      <th>Gender</th>\n",
       "      <th>text</th>\n",
       "      <th>Age</th>\n",
       "      <th>Depresi</th>\n",
       "      <th>Gangguan-kecemasan</th>\n",
       "      <th>Gangguan-makan</th>\n",
       "    </tr>\n",
       "  </thead>\n",
       "  <tbody>\n",
       "    <tr>\n",
       "      <th>0</th>\n",
       "      <td>Pria</td>\n",
       "      <td>placeholder text</td>\n",
       "      <td>NaN</td>\n",
       "      <td>1</td>\n",
       "      <td>0</td>\n",
       "      <td>1</td>\n",
       "    </tr>\n",
       "    <tr>\n",
       "      <th>1</th>\n",
       "      <td>Laki-laki</td>\n",
       "      <td>Placeholder_text</td>\n",
       "      <td>27.0</td>\n",
       "      <td>1</td>\n",
       "      <td>1</td>\n",
       "      <td>0</td>\n",
       "    </tr>\n",
       "  </tbody>\n",
       "</table>\n",
       "</div>"
      ],
      "text/plain": [
       "      Gender              text   Age  Depresi  Gangguan-kecemasan  \\\n",
       "0       Pria  placeholder text   NaN        1                   0   \n",
       "1  Laki-laki  Placeholder_text  27.0        1                   1   \n",
       "\n",
       "   Gangguan-makan  \n",
       "0               1  \n",
       "1               0  "
      ]
     },
     "execution_count": 25,
     "metadata": {},
     "output_type": "execute_result"
    }
   ],
   "source": [
    "user_df.head(4)"
   ]
  },
  {
   "cell_type": "code",
   "execution_count": 26,
   "id": "0b90185e",
   "metadata": {},
   "outputs": [
    {
     "data": {
      "text/plain": [
       "Index(['Gender', 'text', 'Age', 'Depresi', 'Gangguan-kecemasan',\n",
       "       'Gangguan-makan'],\n",
       "      dtype='object')"
      ]
     },
     "execution_count": 26,
     "metadata": {},
     "output_type": "execute_result"
    }
   ],
   "source": [
    "user_df.columns"
   ]
  },
  {
   "cell_type": "code",
   "execution_count": 27,
   "id": "b4173945",
   "metadata": {},
   "outputs": [],
   "source": [
    " fill_non_existent_column(user_df)"
   ]
  },
  {
   "cell_type": "code",
   "execution_count": 28,
   "id": "659e3374",
   "metadata": {},
   "outputs": [
    {
     "data": {
      "text/html": [
       "<div>\n",
       "<style scoped>\n",
       "    .dataframe tbody tr th:only-of-type {\n",
       "        vertical-align: middle;\n",
       "    }\n",
       "\n",
       "    .dataframe tbody tr th {\n",
       "        vertical-align: top;\n",
       "    }\n",
       "\n",
       "    .dataframe thead th {\n",
       "        text-align: right;\n",
       "    }\n",
       "</style>\n",
       "<table border=\"1\" class=\"dataframe\">\n",
       "  <thead>\n",
       "    <tr style=\"text-align: right;\">\n",
       "      <th></th>\n",
       "      <th>Gender</th>\n",
       "      <th>text</th>\n",
       "      <th>Age</th>\n",
       "      <th>Depresi</th>\n",
       "      <th>Gangguan-kecemasan</th>\n",
       "      <th>Gangguan-makan</th>\n",
       "      <th>ADHD-Hiperaktif-dan-kurang-fokus</th>\n",
       "      <th>Gangguan-stres-pascatrauma</th>\n",
       "      <th>Skizofrenia</th>\n",
       "    </tr>\n",
       "  </thead>\n",
       "  <tbody>\n",
       "    <tr>\n",
       "      <th>0</th>\n",
       "      <td>Pria</td>\n",
       "      <td>placeholder text</td>\n",
       "      <td>NaN</td>\n",
       "      <td>1</td>\n",
       "      <td>0</td>\n",
       "      <td>1</td>\n",
       "      <td>0</td>\n",
       "      <td>0</td>\n",
       "      <td>0</td>\n",
       "    </tr>\n",
       "    <tr>\n",
       "      <th>1</th>\n",
       "      <td>Laki-laki</td>\n",
       "      <td>Placeholder_text</td>\n",
       "      <td>27.0</td>\n",
       "      <td>1</td>\n",
       "      <td>1</td>\n",
       "      <td>0</td>\n",
       "      <td>0</td>\n",
       "      <td>0</td>\n",
       "      <td>0</td>\n",
       "    </tr>\n",
       "  </tbody>\n",
       "</table>\n",
       "</div>"
      ],
      "text/plain": [
       "      Gender              text   Age  Depresi  Gangguan-kecemasan  \\\n",
       "0       Pria  placeholder text   NaN        1                   0   \n",
       "1  Laki-laki  Placeholder_text  27.0        1                   1   \n",
       "\n",
       "   Gangguan-makan  ADHD-Hiperaktif-dan-kurang-fokus  \\\n",
       "0               1                                 0   \n",
       "1               0                                 0   \n",
       "\n",
       "   Gangguan-stres-pascatrauma  Skizofrenia  \n",
       "0                           0            0  \n",
       "1                           0            0  "
      ]
     },
     "execution_count": 28,
     "metadata": {},
     "output_type": "execute_result"
    }
   ],
   "source": [
    "user_df.head(4)\n"
   ]
  },
  {
   "cell_type": "code",
   "execution_count": 29,
   "id": "f5f52d1a",
   "metadata": {},
   "outputs": [],
   "source": [
    "user_ds = df_to_dataset(user_df)"
   ]
  },
  {
   "cell_type": "code",
   "execution_count": 30,
   "id": "142fb91f",
   "metadata": {},
   "outputs": [],
   "source": [
    "#caregiver_query"
   ]
  },
  {
   "cell_type": "code",
   "execution_count": 31,
   "id": "b35bf25a",
   "metadata": {},
   "outputs": [],
   "source": [
    "data = db.collection(u'chat_rooms').get()"
   ]
  },
  {
   "cell_type": "code",
   "execution_count": 32,
   "id": "bc9b5c7f",
   "metadata": {},
   "outputs": [],
   "source": [
    "from datetime import date\n",
    " \n",
    "def age(birthdate):\n",
    "    today = date.today()\n",
    "    age = today.year - birthdate.year - ((today.month, today.day) < (birthdate.month, birthdate.day))\n",
    "    return age"
   ]
  },
  {
   "cell_type": "code",
   "execution_count": null,
   "id": "c1c59424",
   "metadata": {},
   "outputs": [],
   "source": []
  },
  {
   "cell_type": "code",
   "execution_count": 33,
   "id": "82ab4f8a",
   "metadata": {},
   "outputs": [],
   "source": [
    "import flatdict"
   ]
  },
  {
   "cell_type": "code",
   "execution_count": 34,
   "id": "486c10f2",
   "metadata": {},
   "outputs": [],
   "source": [
    "\n",
    "def Merge(dict1, dict2):\n",
    "    \"\"\"\n",
    "    Python code to merge dict\n",
    "    \"\"\"\n",
    "    res = {**dict1, **dict2}\n",
    "    return res\n",
    "    \n",
    "\n",
    "def unpack_caregiver_dict(dictionary):\n",
    "    return 0"
   ]
  },
  {
   "cell_type": "code",
   "execution_count": 35,
   "id": "c5a01f85",
   "metadata": {},
   "outputs": [],
   "source": [
    "def unpack_caregiver_snapshot(data):\n",
    "    desired_keys = [\"problems\", \"birthday\", \"gender\",\"caregiver_id\",\"text\"]\n",
    "    #this unpack the value of snapshot list and turn the snapshot into dictionary also add aditional key for caregiver_id\n",
    "    caregiver_dict_unpacked = map(lambda feature: Merge(feature.to_dict(), {'caregiver_id':feature.id}) , data)\n",
    "    \n",
    "    #this unpack the snapshot in 'caregiver' snapshot and add them back to main dictionary\n",
    "    caregiver_dict = map(lambda feature: Merge(feature , feature.pop('caregiver').get().to_dict()) , caregiver_dict_unpacked )\n",
    "    \n",
    "    #this seperate desired keys from unused keys\n",
    "    caregiver_dict = map(lambda x: dict((k, x[k]) for k in desired_keys if k in x), caregiver_dict)\n",
    "    \n",
    "    #this convert birthday stamp into interger age\n",
    "    caregiver_dict = map(lambda feature: Merge(feature , {'age':age(feature.pop('birthday'))}), caregiver_dict)\n",
    "    \n",
    "    return list(caregiver_dict)"
   ]
  },
  {
   "cell_type": "code",
   "execution_count": 36,
   "id": "0cb89d36",
   "metadata": {},
   "outputs": [],
   "source": [
    "caregiver_dict = unpack_caregiver_snapshot(data)"
   ]
  },
  {
   "cell_type": "code",
   "execution_count": 37,
   "id": "987a94bb",
   "metadata": {},
   "outputs": [
    {
     "data": {
      "text/plain": [
       "[{'problems': 'Depresi Gangguan-makan',\n",
       "  'gender': 'Pria',\n",
       "  'caregiver_id': 'HUDwzgELY1OEzwieoHXK',\n",
       "  'text': 'Susah makan gara-gara diputusin pacar',\n",
       "  'age': 21}]"
      ]
     },
     "execution_count": 37,
     "metadata": {},
     "output_type": "execute_result"
    }
   ],
   "source": [
    "caregiver_dict"
   ]
  },
  {
   "cell_type": "code",
   "execution_count": 38,
   "id": "9e582a6a",
   "metadata": {},
   "outputs": [],
   "source": [
    "def convert_caregiver_dictList_to_df(dictionary):\n",
    "    # Creates DataFrame. \n",
    "    df = pd.DataFrame(dictionary) \n",
    "    #change column name to feature according to the model\n",
    "    change_column_name(df, ['problems','gender','caregiver_id','age'],['Caregiver_Tipe_Masalah','Caregiver_Gender','CAREGIVER_ID','Caregiver_Age'])\n",
    "    #convert categorical data into their own column\n",
    "    convert_categorical_data(df, \"Caregiver_Tipe_Masalah\", is_caregiver = True)\n",
    "    #fill missing column with default value\n",
    "    fill_non_existent_column(df, is_caregiver = True)\n",
    "    return df"
   ]
  },
  {
   "cell_type": "code",
   "execution_count": 39,
   "id": "4eeb0c48",
   "metadata": {},
   "outputs": [],
   "source": [
    "# Creates DataFrame. \n",
    "df = convert_caregiver_dictList_to_df(caregiver_dict) "
   ]
  },
  {
   "cell_type": "code",
   "execution_count": 40,
   "id": "162daaed",
   "metadata": {},
   "outputs": [],
   "source": [
    "caregiver_ds = df_to_dataset(df)"
   ]
  },
  {
   "cell_type": "code",
   "execution_count": 41,
   "id": "396b2d25",
   "metadata": {},
   "outputs": [
    {
     "name": "stdout",
     "output_type": "stream",
     "text": [
      "Every feature: ['Caregiver_Gender', 'CAREGIVER_ID', 'text', 'Caregiver_Age', 'Caregiver-Depresi', 'Caregiver-Gangguan-makan', 'Caregiver-ADHD-Hiperaktif-dan-kurang-fokus', 'Caregiver-Gangguan-kecemasan', 'Caregiver-Gangguan-stres-pascatrauma', 'Caregiver-Skizofrenia']\n"
     ]
    }
   ],
   "source": [
    "for feature_batch in caregiver_ds:\n",
    "  print('Every feature:', list(feature_batch.keys()))"
   ]
  },
  {
   "cell_type": "code",
   "execution_count": 42,
   "id": "90677472",
   "metadata": {},
   "outputs": [
    {
     "data": {
      "text/html": [
       "<div>\n",
       "<style scoped>\n",
       "    .dataframe tbody tr th:only-of-type {\n",
       "        vertical-align: middle;\n",
       "    }\n",
       "\n",
       "    .dataframe tbody tr th {\n",
       "        vertical-align: top;\n",
       "    }\n",
       "\n",
       "    .dataframe thead th {\n",
       "        text-align: right;\n",
       "    }\n",
       "</style>\n",
       "<table border=\"1\" class=\"dataframe\">\n",
       "  <thead>\n",
       "    <tr style=\"text-align: right;\">\n",
       "      <th></th>\n",
       "      <th>Caregiver_Gender</th>\n",
       "      <th>CAREGIVER_ID</th>\n",
       "      <th>text</th>\n",
       "      <th>Caregiver_Age</th>\n",
       "      <th>Caregiver-Depresi</th>\n",
       "      <th>Caregiver-Gangguan-makan</th>\n",
       "      <th>Caregiver-ADHD-Hiperaktif-dan-kurang-fokus</th>\n",
       "      <th>Caregiver-Gangguan-kecemasan</th>\n",
       "      <th>Caregiver-Gangguan-stres-pascatrauma</th>\n",
       "      <th>Caregiver-Skizofrenia</th>\n",
       "    </tr>\n",
       "  </thead>\n",
       "  <tbody>\n",
       "    <tr>\n",
       "      <th>0</th>\n",
       "      <td>Pria</td>\n",
       "      <td>HUDwzgELY1OEzwieoHXK</td>\n",
       "      <td>Susah makan gara-gara diputusin pacar</td>\n",
       "      <td>21</td>\n",
       "      <td>1</td>\n",
       "      <td>1</td>\n",
       "      <td>0</td>\n",
       "      <td>0</td>\n",
       "      <td>0</td>\n",
       "      <td>0</td>\n",
       "    </tr>\n",
       "  </tbody>\n",
       "</table>\n",
       "</div>"
      ],
      "text/plain": [
       "  Caregiver_Gender          CAREGIVER_ID  \\\n",
       "0             Pria  HUDwzgELY1OEzwieoHXK   \n",
       "\n",
       "                                    text  Caregiver_Age  Caregiver-Depresi  \\\n",
       "0  Susah makan gara-gara diputusin pacar             21                  1   \n",
       "\n",
       "   Caregiver-Gangguan-makan  Caregiver-ADHD-Hiperaktif-dan-kurang-fokus  \\\n",
       "0                         1                                           0   \n",
       "\n",
       "   Caregiver-Gangguan-kecemasan  Caregiver-Gangguan-stres-pascatrauma  \\\n",
       "0                             0                                     0   \n",
       "\n",
       "   Caregiver-Skizofrenia  \n",
       "0                      0  "
      ]
     },
     "execution_count": 42,
     "metadata": {},
     "output_type": "execute_result"
    }
   ],
   "source": [
    "df"
   ]
  },
  {
   "cell_type": "code",
   "execution_count": null,
   "id": "16679d3f",
   "metadata": {},
   "outputs": [],
   "source": []
  },
  {
   "cell_type": "code",
   "execution_count": null,
   "id": "729978fe",
   "metadata": {},
   "outputs": [],
   "source": []
  },
  {
   "cell_type": "code",
   "execution_count": null,
   "id": "99b73f68",
   "metadata": {},
   "outputs": [],
   "source": []
  },
  {
   "cell_type": "code",
   "execution_count": 43,
   "id": "bd423041",
   "metadata": {},
   "outputs": [],
   "source": [
    "caregiver_index = df.to_dict('records')"
   ]
  },
  {
   "cell_type": "code",
   "execution_count": 44,
   "id": "f4793a4f",
   "metadata": {},
   "outputs": [
    {
     "data": {
      "text/plain": [
       "[{'Caregiver_Gender': 'Pria',\n",
       "  'CAREGIVER_ID': 'HUDwzgELY1OEzwieoHXK',\n",
       "  'text': 'Susah makan gara-gara diputusin pacar',\n",
       "  'Caregiver_Age': 21,\n",
       "  'Caregiver-Depresi': 1,\n",
       "  'Caregiver-Gangguan-makan': 1,\n",
       "  'Caregiver-ADHD-Hiperaktif-dan-kurang-fokus': 0,\n",
       "  'Caregiver-Gangguan-kecemasan': 0,\n",
       "  'Caregiver-Gangguan-stres-pascatrauma': 0,\n",
       "  'Caregiver-Skizofrenia': 0}]"
      ]
     },
     "execution_count": 44,
     "metadata": {},
     "output_type": "execute_result"
    }
   ],
   "source": [
    "caregiver_index"
   ]
  },
  {
   "cell_type": "code",
   "execution_count": 45,
   "id": "deeec694",
   "metadata": {},
   "outputs": [],
   "source": [
    "caregiver_index = map(lambda x: dict((k, [x[k]]) for k in x), caregiver_index)"
   ]
  },
  {
   "cell_type": "code",
   "execution_count": 46,
   "id": "bbe5ef03",
   "metadata": {},
   "outputs": [
    {
     "data": {
      "text/plain": [
       "[{'Caregiver_Gender': ['Pria'],\n",
       "  'CAREGIVER_ID': ['HUDwzgELY1OEzwieoHXK'],\n",
       "  'text': ['Susah makan gara-gara diputusin pacar'],\n",
       "  'Caregiver_Age': [21],\n",
       "  'Caregiver-Depresi': [1],\n",
       "  'Caregiver-Gangguan-makan': [1],\n",
       "  'Caregiver-ADHD-Hiperaktif-dan-kurang-fokus': [0],\n",
       "  'Caregiver-Gangguan-kecemasan': [0],\n",
       "  'Caregiver-Gangguan-stres-pascatrauma': [0],\n",
       "  'Caregiver-Skizofrenia': [0]}]"
      ]
     },
     "execution_count": 46,
     "metadata": {},
     "output_type": "execute_result"
    }
   ],
   "source": [
    "list(caregiver_index)"
   ]
  },
  {
   "cell_type": "code",
   "execution_count": null,
   "id": "94f7c200",
   "metadata": {},
   "outputs": [],
   "source": []
  },
  {
   "cell_type": "code",
   "execution_count": 47,
   "id": "3df40910",
   "metadata": {},
   "outputs": [
    {
     "name": "stdout",
     "output_type": "stream",
     "text": [
      "WARNING:tensorflow:No training configuration found in save file, so the model was *not* compiled. Compile it manually.\n",
      "WARNING:tensorflow:No training configuration found in save file, so the model was *not* compiled. Compile it manually.\n",
      "WARNING:tensorflow:No training configuration found in save file, so the model was *not* compiled. Compile it manually.\n"
     ]
    }
   ],
   "source": [
    "MAIN_TEXT_MODEL =  tf.keras.models.load_model('saved_manual_model/text_query_v1')\n",
    "MAIN_USER_MODEL =   tf.keras.models.load_model('saved_manual_model/user_query_v1')\n",
    "MAIN_CAREGIVER_MODEL =  tf.keras.models.load_model('saved_manual_model/caregiver_query_v1')"
   ]
  },
  {
   "cell_type": "code",
   "execution_count": 48,
   "id": "cc5ab89a",
   "metadata": {},
   "outputs": [
    {
     "name": "stdout",
     "output_type": "stream",
     "text": [
      "WARNING:tensorflow:Layers in a Sequential model should only have a single input tensor. Received: inputs={'Caregiver_Gender': <tf.Tensor 'args_8:0' shape=(None,) dtype=string>, 'CAREGIVER_ID': <tf.Tensor 'args_0:0' shape=(None,) dtype=string>, 'text': <tf.Tensor 'args_9:0' shape=(None,) dtype=string>, 'Caregiver_Age': <tf.Tensor 'args_7:0' shape=(None,) dtype=int64>, 'Caregiver-Depresi': <tf.Tensor 'args_2:0' shape=(None,) dtype=int32>, 'Caregiver-Gangguan-makan': <tf.Tensor 'args_4:0' shape=(None,) dtype=int32>, 'Caregiver-ADHD-Hiperaktif-dan-kurang-fokus': <tf.Tensor 'args_1:0' shape=(None,) dtype=int64>, 'Caregiver-Gangguan-kecemasan': <tf.Tensor 'args_3:0' shape=(None,) dtype=int64>, 'Caregiver-Gangguan-stres-pascatrauma': <tf.Tensor 'args_5:0' shape=(None,) dtype=int64>, 'Caregiver-Skizofrenia': <tf.Tensor 'args_6:0' shape=(None,) dtype=int64>}. Consider rewriting this model with the Functional API.\n"
     ]
    }
   ],
   "source": [
    "caregiver_index = caregiver_ds.map(lambda features: (features['CAREGIVER_ID'], MAIN_CAREGIVER_MODEL(features)))"
   ]
  },
  {
   "cell_type": "code",
   "execution_count": 49,
   "id": "c16e1ccf",
   "metadata": {},
   "outputs": [
    {
     "name": "stdout",
     "output_type": "stream",
     "text": [
      "WARNING:tensorflow:Layers in a Sequential model should only have a single input tensor. Received: inputs={'Caregiver_Gender': <tf.Tensor 'args_8:0' shape=(None,) dtype=string>, 'CAREGIVER_ID': <tf.Tensor 'args_0:0' shape=(None,) dtype=string>, 'text': <tf.Tensor 'args_9:0' shape=(None,) dtype=string>, 'Caregiver_Age': <tf.Tensor 'args_7:0' shape=(None,) dtype=int64>, 'Caregiver-Depresi': <tf.Tensor 'args_2:0' shape=(None,) dtype=int32>, 'Caregiver-Gangguan-makan': <tf.Tensor 'args_4:0' shape=(None,) dtype=int32>, 'Caregiver-ADHD-Hiperaktif-dan-kurang-fokus': <tf.Tensor 'args_1:0' shape=(None,) dtype=int64>, 'Caregiver-Gangguan-kecemasan': <tf.Tensor 'args_3:0' shape=(None,) dtype=int64>, 'Caregiver-Gangguan-stres-pascatrauma': <tf.Tensor 'args_5:0' shape=(None,) dtype=int64>, 'Caregiver-Skizofrenia': <tf.Tensor 'args_6:0' shape=(None,) dtype=int64>}. Consider rewriting this model with the Functional API.\n"
     ]
    },
    {
     "data": {
      "text/plain": [
       "<tensorflow_recommenders.layers.factorized_top_k.BruteForce at 0x183bd223ca0>"
      ]
     },
     "execution_count": 49,
     "metadata": {},
     "output_type": "execute_result"
    }
   ],
   "source": [
    "brute_force = tfrs.layers.factorized_top_k.BruteForce(MAIN_USER_MODEL)\n",
    "brute_force.index_from_dataset(  \n",
    "       caregiver_ds.map(lambda features: (features['CAREGIVER_ID'], MAIN_CAREGIVER_MODEL(features)))\n",
    ")\n",
    "\n",
    "\n",
    "\n"
   ]
  },
  {
   "cell_type": "code",
   "execution_count": 50,
   "id": "48d8962d",
   "metadata": {},
   "outputs": [
    {
     "name": "stdout",
     "output_type": "stream",
     "text": [
      "{'Gender': ['Pria'], 'Age': [30], 'ADHD-Hiperaktif-dan-kurang-fokus': [0], 'Depresi': [1], 'Gangguan-kecemasan': [0], 'Gangguan-makan': [0], 'Gangguan-stres-pascatrauma': [1], 'Skizofrenia': [0]}\n"
     ]
    }
   ],
   "source": [
    "a =['Gender', 'Age', 'ADHD-Hiperaktif-dan-kurang-fokus', 'Depresi', 'Gangguan-kecemasan', 'Gangguan-makan','Gangguan-stres-pascatrauma', 'Skizofrenia']\n",
    "value = ['Pria', 30, 0, 1, 0, 0, 1, 0]\n",
    "dictionary_Test = dict((el,([value[ix]])) for ix,el in enumerate(a))\n",
    "print(dictionary_Test)"
   ]
  },
  {
   "cell_type": "code",
   "execution_count": 52,
   "id": "1a472d8b",
   "metadata": {},
   "outputs": [
    {
     "name": "stdout",
     "output_type": "stream",
     "text": [
      "WARNING:tensorflow:Layers in a Sequential model should only have a single input tensor. Received: inputs={'Gender': ['Pria'], 'Age': [<tf.Tensor: shape=(), dtype=int32, numpy=30>], 'ADHD-Hiperaktif-dan-kurang-fokus': [<tf.Tensor: shape=(), dtype=int32, numpy=0>], 'Depresi': [<tf.Tensor: shape=(), dtype=int32, numpy=1>], 'Gangguan-kecemasan': [<tf.Tensor: shape=(), dtype=int32, numpy=0>], 'Gangguan-makan': [<tf.Tensor: shape=(), dtype=int32, numpy=0>], 'Gangguan-stres-pascatrauma': [<tf.Tensor: shape=(), dtype=int32, numpy=1>], 'Skizofrenia': [<tf.Tensor: shape=(), dtype=int32, numpy=0>]}. Consider rewriting this model with the Functional API.\n",
      "Top recommendations: [b'HUDwzgELY1OEzwieoHXK']\n"
     ]
    }
   ],
   "source": [
    "\n",
    "a, titles = brute_force(dictionary_Test, k=1)\n",
    "print(f\"Top recommendations: {titles[0]}\")"
   ]
  },
  {
   "cell_type": "code",
   "execution_count": 53,
   "id": "56cd3147",
   "metadata": {},
   "outputs": [
    {
     "data": {
      "text/plain": [
       "<tensorflow_recommenders.layers.factorized_top_k.BruteForce at 0x183bd31e0a0>"
      ]
     },
     "execution_count": 53,
     "metadata": {},
     "output_type": "execute_result"
    }
   ],
   "source": [
    "brute_force = tfrs.layers.factorized_top_k.BruteForce(MAIN_TEXT_MODEL)\n",
    "brute_force.index_from_dataset(  \n",
    "       caregiver_ds.map(lambda features: (features['CAREGIVER_ID'], MAIN_TEXT_MODEL(features['text'])))\n",
    ")\n"
   ]
  },
  {
   "cell_type": "code",
   "execution_count": 55,
   "id": "79c00a5d",
   "metadata": {},
   "outputs": [
    {
     "name": "stdout",
     "output_type": "stream",
     "text": [
      "Top recommendations: [b'HUDwzgELY1OEzwieoHXK']\n"
     ]
    }
   ],
   "source": [
    "\n",
    "a, titles = brute_force(np.array([\"halo aku zidan\"]), k=1)\n",
    "print(f\"Top recommendations: {titles[0]}\")"
   ]
  },
  {
   "cell_type": "code",
   "execution_count": 56,
   "id": "32071449",
   "metadata": {},
   "outputs": [],
   "source": [
    "MAIN_TEXT_MODEL.save_weights(\"saved_model_weights/text_query_v1\")\n",
    "MAIN_USER_MODEL.save_weights(\"saved_model_weights/user_query_v1\")\n",
    "MAIN_CAREGIVER_MODEL.save_weights(\"saved_model_weights/caregiver_query_v1\")"
   ]
  },
  {
   "cell_type": "code",
   "execution_count": 63,
   "id": "d546da63",
   "metadata": {},
   "outputs": [],
   "source": [
    "feature_layer_caregiver = None\n",
    "feature_layer_user = None\n",
    "\n",
    "from typing import Dict, Text\n",
    "def build_recommend_model():\n",
    "    global feature_layer_caregiver, feature_layer_user\n",
    "    feature_columns = []\n",
    "\n",
    "    number_feature = [\"Age\"]\n",
    "    number_feature += unique_masalah_user.tolist()\n",
    "    print(unique_masalah_caregiver)\n",
    "    # numeric cols\n",
    "    for header in number_feature:\n",
    "        feature_columns.append(feature_column.numeric_column(header))\n",
    "\n",
    "    age_feature = [\"Age\"]\n",
    "    for col in age_feature:\n",
    "        age = feature_column.numeric_column(col)\n",
    "        age_buckets = feature_column.bucketized_column(age, boundaries=[17, 21, 25, 29, 33, 37, 41, 46])\n",
    "        feature_columns.append(age_buckets)\n",
    "\n",
    "    # indicator_columns\n",
    "    indicator_column_names = ['Gender']\n",
    "    for col_name in indicator_column_names:\n",
    "      categorical_column = feature_column.categorical_column_with_vocabulary_list(\n",
    "          col_name, user_dataframe[col_name].unique())\n",
    "      indicator_column = feature_column.indicator_column(categorical_column)\n",
    "      feature_columns.append(indicator_column)\n",
    "    \n",
    "    feature_layer_user= tf.keras.layers.DenseFeatures(feature_columns)\n",
    "    \n",
    "    feature_columns = []\n",
    "\n",
    "    number_feature = [\"Caregiver_Age\"]\n",
    "    number_feature += unique_masalah_caregiver\n",
    "    print(unique_masalah_caregiver)\n",
    "    # numeric cols\n",
    "\n",
    "    for header in number_feature:\n",
    "        feature_columns.append(feature_column.numeric_column(header))\n",
    "\n",
    "    age_feature = [\"Caregiver_Age\"]\n",
    "    for col in age_feature:\n",
    "        age = feature_column.numeric_column(col)\n",
    "        age_buckets = feature_column.bucketized_column(age, boundaries=[17, 21, 25, 29, 33, 37, 41, 46])\n",
    "        feature_columns.append(age_buckets)\n",
    "\n",
    "    col_name = 'Caregiver_Gender'\n",
    "    categorical_column = feature_column.categorical_column_with_vocabulary_list(\n",
    "          col_name, user_dataframe[col_name].unique())\n",
    "    indicator_column = feature_column.indicator_column(categorical_column)\n",
    "    feature_columns.append(indicator_column)\n",
    "    \n",
    "    feature_layer_caregiver= tf.keras.layers.DenseFeatures(feature_columns)\n",
    "    \n",
    "    "
   ]
  },
  {
   "cell_type": "code",
   "execution_count": 64,
   "id": "e4dd1a82",
   "metadata": {},
   "outputs": [],
   "source": [
    "class RecomendModel(tfrs.Model):\n",
    "\n",
    "  def __init__(self):\n",
    "    super().__init__()\n",
    "\n",
    "    embedding_dimension = 32\n",
    "\n",
    "    # Set up a model for representing users.\n",
    "    self.user_model = tf.keras.Sequential([\n",
    "        feature_layer_user,\n",
    "        layers.Dense(64),\n",
    "        layers.Dense(32)\n",
    "    ])\n",
    "\n",
    "    # Set up a model for representing caregiver.\n",
    "    self.caregiver_model = tf.keras.Sequential([\n",
    "        feature_layer_caregiver,\n",
    "        layers.Dense(64),\n",
    "        layers.Dense(32)\n",
    "    ])\n",
    "\n",
    "    # Set up a task to optimize the model and compute metrics.\n",
    "    self.task = tfrs.tasks.Retrieval(\n",
    "      metrics=tfrs.metrics.FactorizedTopK(\n",
    "        candidates=caregiver_ds.batch(5).map(self.caregiver_model)\n",
    "      )\n",
    "    )\n",
    "\n",
    "  def compute_loss(self, features: Dict[Text, tf.Tensor], training=False) -> tf.Tensor:\n",
    "    \n",
    "    caregiver_features = ['Caregiver_Gender', 'Caregiver_Age',  'Caregiver-ADHD-Hiperaktif-dan-kurang-fokus', 'Caregiver-Depresi', 'Caregiver-Gangguan-kecemasan', 'Caregiver-Gangguan-makan', 'Caregiver-Gangguan-stres-pascatrauma', 'Caregiver-Skizofrenia']\n",
    "    user_features = ['Gender', 'Age', 'ADHD-Hiperaktif-dan-kurang-fokus', 'Depresi', 'Gangguan-kecemasan', 'Gangguan-makan','Gangguan-stres-pascatrauma', 'Skizofrenia']\n",
    "    \n",
    "    \n",
    "    # We pick out the user features and pass them into the user model.\n",
    "    \n",
    "    print(\"AAAAAAAAAAAAAAAAAA\")\n",
    "    user_embeddings = self.user_model({\n",
    "        'Age':features['Age'],\n",
    "        'Gender':features['Gender'],\n",
    "        'ADHD-Hiperaktif-dan-kurang-fokus':features['ADHD-Hiperaktif-dan-kurang-fokus'],\n",
    "        'Depresi':features['Depresi'],\n",
    "        'Gangguan-kecemasan':features['Gangguan-kecemasan'],\n",
    "        'Gangguan-makan':features['Gangguan-makan'],\n",
    "        'Gangguan-stres-pascatrauma':features['Gangguan-stres-pascatrauma'],\n",
    "        'Skizofrenia':features['Skizofrenia']\n",
    "    })\n",
    "    print(\"BBBBBBBBBBBBBB\")\n",
    "    # And pick out the movie features and pass them into the movie model,\n",
    "    # getting embeddings back.\n",
    "    positive_movie_embeddings = self.caregiver_model({\n",
    "        'Caregiver_Age':features['Caregiver_Age'],\n",
    "        'Caregiver_Gender':features['Caregiver_Gender'],\n",
    "        'Caregiver-ADHD-Hiperaktif-dan-kurang-fokus':features['Caregiver-ADHD-Hiperaktif-dan-kurang-fokus'],\n",
    "        'Caregiver-Depresi':features['Caregiver-Depresi'],\n",
    "        'Caregiver-Gangguan-kecemasan':features['Caregiver-Gangguan-kecemasan'],\n",
    "        'Caregiver-Gangguan-makan':features['Caregiver-Gangguan-makan'],\n",
    "        'Caregiver-Gangguan-stres-pascatrauma':features['Caregiver-Gangguan-stres-pascatrauma'],\n",
    "        'Caregiver-Skizofrenia':features['Caregiver-Skizofrenia']\n",
    "        \n",
    "    })\n",
    "    \n",
    "\n",
    "    # The task computes the loss and the metrics.\n",
    "\n",
    "    return self.task(user_embeddings, positive_movie_embeddings, compute_metrics=not training)"
   ]
  },
  {
   "cell_type": "code",
   "execution_count": 65,
   "id": "536d8ff9",
   "metadata": {},
   "outputs": [
    {
     "ename": "NameError",
     "evalue": "name 'unique_masalah_user' is not defined",
     "output_type": "error",
     "traceback": [
      "\u001b[1;31m---------------------------------------------------------------------------\u001b[0m",
      "\u001b[1;31mNameError\u001b[0m                                 Traceback (most recent call last)",
      "Input \u001b[1;32mIn [65]\u001b[0m, in \u001b[0;36m<cell line: 1>\u001b[1;34m()\u001b[0m\n\u001b[1;32m----> 1\u001b[0m \u001b[43mbuild_recommend_model\u001b[49m\u001b[43m(\u001b[49m\u001b[43m)\u001b[49m\n",
      "Input \u001b[1;32mIn [63]\u001b[0m, in \u001b[0;36mbuild_recommend_model\u001b[1;34m()\u001b[0m\n\u001b[0;32m      7\u001b[0m feature_columns \u001b[38;5;241m=\u001b[39m []\n\u001b[0;32m      9\u001b[0m number_feature \u001b[38;5;241m=\u001b[39m [\u001b[38;5;124m\"\u001b[39m\u001b[38;5;124mAge\u001b[39m\u001b[38;5;124m\"\u001b[39m]\n\u001b[1;32m---> 10\u001b[0m number_feature \u001b[38;5;241m+\u001b[39m\u001b[38;5;241m=\u001b[39m \u001b[43munique_masalah_user\u001b[49m\u001b[38;5;241m.\u001b[39mtolist()\n\u001b[0;32m     11\u001b[0m \u001b[38;5;28mprint\u001b[39m(unique_masalah_caregiver)\n\u001b[0;32m     12\u001b[0m \u001b[38;5;66;03m# numeric cols\u001b[39;00m\n",
      "\u001b[1;31mNameError\u001b[0m: name 'unique_masalah_user' is not defined"
     ]
    }
   ],
   "source": [
    "build_recommend_model()"
   ]
  },
  {
   "cell_type": "code",
   "execution_count": null,
   "id": "5af8f738",
   "metadata": {},
   "outputs": [],
   "source": []
  }
 ],
 "metadata": {
  "kernelspec": {
   "display_name": "Python 3",
   "language": "python",
   "name": "python3"
  },
  "language_info": {
   "codemirror_mode": {
    "name": "ipython",
    "version": 3
   },
   "file_extension": ".py",
   "mimetype": "text/x-python",
   "name": "python",
   "nbconvert_exporter": "python",
   "pygments_lexer": "ipython3",
   "version": "3.9.11"
  }
 },
 "nbformat": 4,
 "nbformat_minor": 5
}
