{
 "cells": [
  {
   "cell_type": "code",
   "execution_count": 1,
   "id": "ef3313e8",
   "metadata": {},
   "outputs": [],
   "source": [
    "import os\n",
    "import tensorflow as tf\n",
    "import json\n",
    "import pandas as pd\n",
    "from os import getenv\n",
    "#from keras import models\n",
    "from firebase_admin import credentials, firestore, initialize_app"
   ]
  },
  {
   "cell_type": "code",
   "execution_count": 2,
   "id": "e913dd2a",
   "metadata": {},
   "outputs": [],
   "source": [
    "cred = credentials.Certificate(\"key.json\")\n",
    "default_app = initialize_app(cred)\n",
    "db = firestore.client()"
   ]
  },
  {
   "cell_type": "code",
   "execution_count": 3,
   "id": "5ee355ee",
   "metadata": {},
   "outputs": [],
   "source": [
    "class User(object):\n",
    "    def __init__(self, USER_ID, Nama, Gender, Age, Tipe_Masalah):\n",
    "        self.USER_ID = USER_ID\n",
    "        self.Nama = Nama\n",
    "        self.Gender = Gender\n",
    "        self.Age = Age\n",
    "        self.Tipe_Masalah = Tipe_Masalah\n",
    "\n",
    "    @staticmethod\n",
    "    def from_json_do_not_use(source):\n",
    "        \"\"\"\n",
    "        Source is expected from pure json string\n",
    "        \"\"\"\n",
    "        return source\n",
    "\n",
    "    @staticmethod\n",
    "    def from_dict(source):\n",
    "        # [START_EXCLUDE]\n",
    "        user = User(source[u'USER_ID'], source[u'Nama'], source[u'Gender'], source[u'Age'], source[u'Tipe_Masalah'])\n",
    "\n",
    "        if u'USER_ID' in source:\n",
    "            user.USER_ID = source[u'USER_ID']\n",
    "\n",
    "        if u'Nama' in source:\n",
    "            user.Nama = source[u'Nama']\n",
    "\n",
    "        if u'Gender' in source:\n",
    "            user.Gender = source[u'Gender']\n",
    "\n",
    "        if u'Age' in source:\n",
    "            user.Age = source[u'Age']\n",
    "\n",
    "        if u'Tipe_Masalah' in source:\n",
    "            user.Tipe_Masalah = source[u'Tipe_Masalah']\n",
    "\n",
    "        return user\n",
    "        # [END_EXCLUDE]\n",
    "\n",
    "    def to_dict(self):\n",
    "        # [START_EXCLUDE]\n",
    "        dest = {\n",
    "            u'USER_ID': self.USER_ID,\n",
    "            u'Nama': self.Nama,\n",
    "            u'Gender': self.Gender,\n",
    "            u'Age': self.Age,\n",
    "            u'Tipe_Masalah': self.Tipe_Masalah\n",
    "        }\n",
    "\n",
    "        if self.USER_ID:\n",
    "            dest[u'USER_ID'] = self.USER_ID\n",
    "\n",
    "        if self.Nama:\n",
    "            dest[u'Nama'] = self.Nama\n",
    "\n",
    "        if self.Gender:\n",
    "            dest[u'Gender'] = self.Gender\n",
    "\n",
    "        if self.Age:\n",
    "            dest[u'Age'] = self.Age\n",
    "\n",
    "        if self.Tipe_Masalah:\n",
    "            dest[u'Tipe_Masalah'] = self.Tipe_Masalah\n",
    "\n",
    "        return dest\n",
    "        # [END_EXCLUDE]\n",
    "\n",
    "    \n",
    "    def __repr__(self):\n",
    "        return (\n",
    "            f'City(\\\n",
    "                USER_ID={self.USER_ID}, \\\n",
    "                Nama={self.Nama}, \\\n",
    "                Age={self.Age}, \\\n",
    "                Gender={self.Gender}, \\\n",
    "                Tipe_Masalah={self.Tipe_Masalah}\\\n",
    "            )'\n",
    "        )"
   ]
  },
  {
   "cell_type": "code",
   "execution_count": 4,
   "id": "faa75d42",
   "metadata": {},
   "outputs": [],
   "source": [
    "zidan = User(1, \"zidan\", \"pria\", 43, \"Depresi\")"
   ]
  },
  {
   "cell_type": "code",
   "execution_count": 5,
   "id": "4146df79",
   "metadata": {},
   "outputs": [
    {
     "data": {
      "text/plain": [
       "City(                USER_ID=1,                 Nama=zidan,                 Age=43,                 Gender=pria,                 Tipe_Masalah=Depresi            )"
      ]
     },
     "execution_count": 5,
     "metadata": {},
     "output_type": "execute_result"
    }
   ],
   "source": [
    "zidan"
   ]
  },
  {
   "cell_type": "code",
   "execution_count": 6,
   "id": "369d698a",
   "metadata": {},
   "outputs": [
    {
     "data": {
      "text/plain": [
       "__main__.User"
      ]
     },
     "execution_count": 6,
     "metadata": {},
     "output_type": "execute_result"
    }
   ],
   "source": [
    "type(zidan)"
   ]
  },
  {
   "cell_type": "code",
   "execution_count": 7,
   "id": "f5583517",
   "metadata": {},
   "outputs": [
    {
     "data": {
      "text/plain": [
       "dict"
      ]
     },
     "execution_count": 7,
     "metadata": {},
     "output_type": "execute_result"
    }
   ],
   "source": [
    "type(zidan.to_dict())"
   ]
  },
  {
   "cell_type": "code",
   "execution_count": 8,
   "id": "813e2fe2",
   "metadata": {},
   "outputs": [],
   "source": [
    "import pathlib\n",
    "import os\n",
    "\n",
    "user_file = \"\\\\Data\\\\Processed User Data.json\"\n",
    "caregiver_file = \"\\\\Data\\\\Processed Caregiver Data.json\"\n",
    "\n",
    "path = pathlib.Path().resolve()\n",
    "parent_path = path.parent.absolute()\n",
    "\n",
    "user_path = str(parent_path) + user_file\n",
    "caregiver_ = str(parent_path) + caregiver_file"
   ]
  },
  {
   "cell_type": "code",
   "execution_count": 9,
   "id": "38f9da10",
   "metadata": {},
   "outputs": [
    {
     "data": {
      "text/plain": [
       "\"\\nwith open(user_path) as file:\\n    data = json.load(file)\\n    db_user_placeholder = db.collection(u'User_Data_Placeholder')\\n    for user_dict in data:\\n        user_dict['Nama'] = 'placeholder_nama'\\n        user_dict['Text'] = 'Placeholder_text'\\n        db_user_placeholder.add(user_dict)\\n\""
      ]
     },
     "execution_count": 9,
     "metadata": {},
     "output_type": "execute_result"
    }
   ],
   "source": [
    "\"\"\"\n",
    "with open(user_path) as file:\n",
    "    data = json.load(file)\n",
    "    db_user_placeholder = db.collection(u'User_Data_Placeholder')\n",
    "    for user_dict in data:\n",
    "        user_dict['Nama'] = 'placeholder_nama'\n",
    "        user_dict['Text'] = 'Placeholder_text'\n",
    "        db_user_placeholder.add(user_dict)\n",
    "\"\"\""
   ]
  },
  {
   "cell_type": "code",
   "execution_count": 10,
   "id": "5e199bb7",
   "metadata": {},
   "outputs": [],
   "source": [
    "data = db.collection(u'user_pref').get()\n"
   ]
  },
  {
   "cell_type": "code",
   "execution_count": 11,
   "id": "d925eded",
   "metadata": {},
   "outputs": [
    {
     "name": "stdout",
     "output_type": "stream",
     "text": [
      "{'age': 27, 'gender': 'Laki-laki', 'text': 'Placeholder_text', 'problems': 'Gangguan-kecemasan Depresi', 'name': 'dhiva'}\n"
     ]
    }
   ],
   "source": [
    "print(data[0].to_dict())"
   ]
  },
  {
   "cell_type": "code",
   "execution_count": 66,
   "id": "99c1d749",
   "metadata": {},
   "outputs": [],
   "source": [
    "def convert_snapshot(data, desired_key = None):\n",
    "    \"\"\"\n",
    "    this extract desired keys from list of dicts from snapshot\n",
    "    \"\"\"\n",
    "    data_dictionary = map(lambda x: x.to_dict(), data)\n",
    "    if (desired_key is not None):\n",
    "        data_dictionary = map(lambda x: dict((k, x[k]) for k in desired_key if k in x), list(data_dictionary))\n",
    "\n",
    "    return list(data_dictionary)"
   ]
  },
  {
   "cell_type": "code",
   "execution_count": 67,
   "id": "6b753765",
   "metadata": {},
   "outputs": [],
   "source": [
    "new_data = convert_snapshot(data, [\"gender\",\"problems\",\"age\",\"text\"])"
   ]
  },
  {
   "cell_type": "code",
   "execution_count": 68,
   "id": "0ab4f5e3",
   "metadata": {},
   "outputs": [
    {
     "name": "stdout",
     "output_type": "stream",
     "text": [
      "[{'problems': ' Kekerasan', 'text': 'cxcxc'}, {'problems': ' Stress-Karena-Pekerjaan', 'text': 'wrre'}, {'problems': ' Kekerasan', 'text': 'w344'}, {'problems': ' Trauma', 'text': 'trtr'}, {'problems': ' Trauma', 'text': 'sf'}]\n"
     ]
    }
   ],
   "source": [
    "print(new_data)"
   ]
  },
  {
   "cell_type": "code",
   "execution_count": 61,
   "id": "05abae58",
   "metadata": {},
   "outputs": [],
   "source": [
    "def df_to_dataset(dataframe, shuffle=True, batch_size=32):\n",
    "    \"\"\"\n",
    "    A utility method to create a tf.data dataset from a Pandas Dataframe\n",
    "    \"\"\"\n",
    "    dataframe = dataframe.copy()\n",
    "    ds = tf.data.Dataset.from_tensor_slices(dict(dataframe))\n",
    "    if shuffle:\n",
    "        ds = ds.shuffle(buffer_size=len(dataframe))\n",
    "    ds = ds.batch(batch_size)\n",
    "    return ds"
   ]
  },
  {
   "cell_type": "code",
   "execution_count": 62,
   "id": "f9c49ff6",
   "metadata": {},
   "outputs": [],
   "source": [
    "def convert_categorical_data(df, col, is_caregiver = False):\n",
    "    \"\"\"\n",
    "    Convert categorical data that splited by space to their own column in pandas dataframe , making them like one hot encoded\n",
    "    \"\"\"\n",
    "    import numpy as np\n",
    "    ### Join every string in every row, split the result, pull out the unique values.\n",
    "    genres = np.unique(' '.join(df[col]).split(' '))\n",
    "    ### Drop 'NA'\n",
    "    genres = np.delete(genres, np.where(genres == ''))\n",
    "    if(not is_caregiver):\n",
    "        for genre in genres:\n",
    "            df[genre] = df[col].str.contains(genre).astype('int')\n",
    "    else:\n",
    "        for genre in genres:\n",
    "            df['Caregiver-'+genre] = df[col].str.contains(genre).astype('int')\n",
    "    df.drop(col, axis=1, inplace=True)"
   ]
  },
  {
   "cell_type": "code",
   "execution_count": 63,
   "id": "da0cbb78",
   "metadata": {},
   "outputs": [],
   "source": [
    "def fill_non_existent_column(df, new_column=None):\n",
    "    \"\"\"\n",
    "    This fill the df with unique problems column i\n",
    "    \"\"\"\n",
    "    if new_column is None:\n",
    "         new_column = ['ADHD-Hiperaktif-dan-kurang-fokus', 'Depresi', 'Gangguan-kecemasan', 'Gangguan-makan','Gangguan-stres-pascatrauma', 'Skizofrenia']\n",
    "    for col in new_column:\n",
    "        if(col in df.columns):\n",
    "            pass\n",
    "        df[col] = 0\n",
    "    \n",
    "    "
   ]
  },
  {
   "cell_type": "code",
   "execution_count": 64,
   "id": "c869be88",
   "metadata": {},
   "outputs": [],
   "source": [
    "def change_column_name(df, old_name,new_name):\n",
    "    \"\"\"\n",
    "    replace list of column name in old_name to new colum name in new_name\n",
    "    the order of old_name and new_name need to be exact\n",
    "    \"\"\"\n",
    "    res = {old_name[i]: new_name[i] for i in range(len(new_name))}\n",
    "    df.rename(columns = res, inplace = True)\n",
    "    \n",
    "    "
   ]
  },
  {
   "cell_type": "code",
   "execution_count": 117,
   "id": "ac2ebdba",
   "metadata": {},
   "outputs": [],
   "source": [
    "def desired_keys(dictionary , desired_key):\n",
    "    if (desired_key is not None):\n",
    "        dictionary = map(lambda x: dict((k, x[k]) for k in desired_key if k in x), list(dictionary))\n",
    "    return list(dictionary)"
   ]
  },
  {
   "cell_type": "code",
   "execution_count": 65,
   "id": "4f4b2c3f",
   "metadata": {},
   "outputs": [],
   "source": [
    "#ds_kalimat = tf.data.Dataset.from_tensor_slices(pd.DataFrame.from_dict(new_data).to_dict(orient=\"list\"))"
   ]
  },
  {
   "cell_type": "code",
   "execution_count": null,
   "id": "9b462862",
   "metadata": {},
   "outputs": [],
   "source": []
  },
  {
   "cell_type": "code",
   "execution_count": null,
   "id": "ec4eb1c0",
   "metadata": {},
   "outputs": [],
   "source": []
  },
  {
   "cell_type": "code",
   "execution_count": 20,
   "id": "38c8b001",
   "metadata": {},
   "outputs": [],
   "source": [
    "user_df = pd.DataFrame.from_dict(new_data)"
   ]
  },
  {
   "cell_type": "code",
   "execution_count": 21,
   "id": "7eaebdc7",
   "metadata": {},
   "outputs": [
    {
     "data": {
      "text/html": [
       "<div>\n",
       "<style scoped>\n",
       "    .dataframe tbody tr th:only-of-type {\n",
       "        vertical-align: middle;\n",
       "    }\n",
       "\n",
       "    .dataframe tbody tr th {\n",
       "        vertical-align: top;\n",
       "    }\n",
       "\n",
       "    .dataframe thead th {\n",
       "        text-align: right;\n",
       "    }\n",
       "</style>\n",
       "<table border=\"1\" class=\"dataframe\">\n",
       "  <thead>\n",
       "    <tr style=\"text-align: right;\">\n",
       "      <th></th>\n",
       "      <th>gender</th>\n",
       "      <th>problems</th>\n",
       "      <th>age</th>\n",
       "      <th>text</th>\n",
       "    </tr>\n",
       "  </thead>\n",
       "  <tbody>\n",
       "    <tr>\n",
       "      <th>0</th>\n",
       "      <td>Laki-laki</td>\n",
       "      <td>Gangguan-kecemasan Depresi</td>\n",
       "      <td>27</td>\n",
       "      <td>Placeholder_text</td>\n",
       "    </tr>\n",
       "  </tbody>\n",
       "</table>\n",
       "</div>"
      ],
      "text/plain": [
       "      gender                    problems  age              text\n",
       "0  Laki-laki  Gangguan-kecemasan Depresi   27  Placeholder_text"
      ]
     },
     "execution_count": 21,
     "metadata": {},
     "output_type": "execute_result"
    }
   ],
   "source": [
    "user_df.head(4)"
   ]
  },
  {
   "cell_type": "code",
   "execution_count": 22,
   "id": "28e4880e",
   "metadata": {},
   "outputs": [],
   "source": [
    "convert_categorical_data(user_df, col='problems')"
   ]
  },
  {
   "cell_type": "code",
   "execution_count": 23,
   "id": "f2ea9238",
   "metadata": {},
   "outputs": [
    {
     "data": {
      "text/html": [
       "<div>\n",
       "<style scoped>\n",
       "    .dataframe tbody tr th:only-of-type {\n",
       "        vertical-align: middle;\n",
       "    }\n",
       "\n",
       "    .dataframe tbody tr th {\n",
       "        vertical-align: top;\n",
       "    }\n",
       "\n",
       "    .dataframe thead th {\n",
       "        text-align: right;\n",
       "    }\n",
       "</style>\n",
       "<table border=\"1\" class=\"dataframe\">\n",
       "  <thead>\n",
       "    <tr style=\"text-align: right;\">\n",
       "      <th></th>\n",
       "      <th>gender</th>\n",
       "      <th>age</th>\n",
       "      <th>text</th>\n",
       "      <th>Depresi</th>\n",
       "      <th>Gangguan-kecemasan</th>\n",
       "    </tr>\n",
       "  </thead>\n",
       "  <tbody>\n",
       "    <tr>\n",
       "      <th>0</th>\n",
       "      <td>Laki-laki</td>\n",
       "      <td>27</td>\n",
       "      <td>Placeholder_text</td>\n",
       "      <td>1</td>\n",
       "      <td>1</td>\n",
       "    </tr>\n",
       "  </tbody>\n",
       "</table>\n",
       "</div>"
      ],
      "text/plain": [
       "      gender  age              text  Depresi  Gangguan-kecemasan\n",
       "0  Laki-laki   27  Placeholder_text        1                   1"
      ]
     },
     "execution_count": 23,
     "metadata": {},
     "output_type": "execute_result"
    }
   ],
   "source": [
    "user_df.head(4)"
   ]
  },
  {
   "cell_type": "code",
   "execution_count": 24,
   "id": "9040f64f",
   "metadata": {},
   "outputs": [],
   "source": [
    "change_column_name(user_df, ['gender','age'], ['Gender','Age'])"
   ]
  },
  {
   "cell_type": "code",
   "execution_count": 25,
   "id": "293673a7",
   "metadata": {},
   "outputs": [
    {
     "data": {
      "text/html": [
       "<div>\n",
       "<style scoped>\n",
       "    .dataframe tbody tr th:only-of-type {\n",
       "        vertical-align: middle;\n",
       "    }\n",
       "\n",
       "    .dataframe tbody tr th {\n",
       "        vertical-align: top;\n",
       "    }\n",
       "\n",
       "    .dataframe thead th {\n",
       "        text-align: right;\n",
       "    }\n",
       "</style>\n",
       "<table border=\"1\" class=\"dataframe\">\n",
       "  <thead>\n",
       "    <tr style=\"text-align: right;\">\n",
       "      <th></th>\n",
       "      <th>Gender</th>\n",
       "      <th>Age</th>\n",
       "      <th>text</th>\n",
       "      <th>Depresi</th>\n",
       "      <th>Gangguan-kecemasan</th>\n",
       "    </tr>\n",
       "  </thead>\n",
       "  <tbody>\n",
       "    <tr>\n",
       "      <th>0</th>\n",
       "      <td>Laki-laki</td>\n",
       "      <td>27</td>\n",
       "      <td>Placeholder_text</td>\n",
       "      <td>1</td>\n",
       "      <td>1</td>\n",
       "    </tr>\n",
       "  </tbody>\n",
       "</table>\n",
       "</div>"
      ],
      "text/plain": [
       "      Gender  Age              text  Depresi  Gangguan-kecemasan\n",
       "0  Laki-laki   27  Placeholder_text        1                   1"
      ]
     },
     "execution_count": 25,
     "metadata": {},
     "output_type": "execute_result"
    }
   ],
   "source": [
    "user_df.head(4)"
   ]
  },
  {
   "cell_type": "code",
   "execution_count": 26,
   "id": "0b90185e",
   "metadata": {},
   "outputs": [
    {
     "data": {
      "text/plain": [
       "Index(['Gender', 'Age', 'text', 'Depresi', 'Gangguan-kecemasan'], dtype='object')"
      ]
     },
     "execution_count": 26,
     "metadata": {},
     "output_type": "execute_result"
    }
   ],
   "source": [
    "user_df.columns"
   ]
  },
  {
   "cell_type": "code",
   "execution_count": 27,
   "id": "b4173945",
   "metadata": {},
   "outputs": [],
   "source": [
    " fill_non_existent_column(user_df)"
   ]
  },
  {
   "cell_type": "code",
   "execution_count": 28,
   "id": "659e3374",
   "metadata": {},
   "outputs": [
    {
     "data": {
      "text/html": [
       "<div>\n",
       "<style scoped>\n",
       "    .dataframe tbody tr th:only-of-type {\n",
       "        vertical-align: middle;\n",
       "    }\n",
       "\n",
       "    .dataframe tbody tr th {\n",
       "        vertical-align: top;\n",
       "    }\n",
       "\n",
       "    .dataframe thead th {\n",
       "        text-align: right;\n",
       "    }\n",
       "</style>\n",
       "<table border=\"1\" class=\"dataframe\">\n",
       "  <thead>\n",
       "    <tr style=\"text-align: right;\">\n",
       "      <th></th>\n",
       "      <th>Gender</th>\n",
       "      <th>Age</th>\n",
       "      <th>text</th>\n",
       "      <th>Depresi</th>\n",
       "      <th>Gangguan-kecemasan</th>\n",
       "      <th>ADHD-Hiperaktif-dan-kurang-fokus</th>\n",
       "      <th>Gangguan-makan</th>\n",
       "      <th>Gangguan-stres-pascatrauma</th>\n",
       "      <th>Skizofrenia</th>\n",
       "    </tr>\n",
       "  </thead>\n",
       "  <tbody>\n",
       "    <tr>\n",
       "      <th>0</th>\n",
       "      <td>Laki-laki</td>\n",
       "      <td>27</td>\n",
       "      <td>Placeholder_text</td>\n",
       "      <td>0</td>\n",
       "      <td>0</td>\n",
       "      <td>0</td>\n",
       "      <td>0</td>\n",
       "      <td>0</td>\n",
       "      <td>0</td>\n",
       "    </tr>\n",
       "  </tbody>\n",
       "</table>\n",
       "</div>"
      ],
      "text/plain": [
       "      Gender  Age              text  Depresi  Gangguan-kecemasan  \\\n",
       "0  Laki-laki   27  Placeholder_text        0                   0   \n",
       "\n",
       "   ADHD-Hiperaktif-dan-kurang-fokus  Gangguan-makan  \\\n",
       "0                                 0               0   \n",
       "\n",
       "   Gangguan-stres-pascatrauma  Skizofrenia  \n",
       "0                           0            0  "
      ]
     },
     "execution_count": 28,
     "metadata": {},
     "output_type": "execute_result"
    }
   ],
   "source": [
    "user_df.head(4)\n"
   ]
  },
  {
   "cell_type": "raw",
   "id": "4baf2c99",
   "metadata": {},
   "source": [
    "\n"
   ]
  },
  {
   "cell_type": "code",
   "execution_count": 29,
   "id": "f5f52d1a",
   "metadata": {},
   "outputs": [],
   "source": [
    "user_ds = df_to_dataset(user_df)"
   ]
  },
  {
   "cell_type": "code",
   "execution_count": null,
   "id": "def84d14",
   "metadata": {},
   "outputs": [],
   "source": []
  },
  {
   "cell_type": "code",
   "execution_count": null,
   "id": "234c75df",
   "metadata": {},
   "outputs": [],
   "source": []
  },
  {
   "cell_type": "code",
   "execution_count": 30,
   "id": "142fb91f",
   "metadata": {},
   "outputs": [],
   "source": [
    "#caregiver_query"
   ]
  },
  {
   "cell_type": "code",
   "execution_count": 87,
   "id": "b35bf25a",
   "metadata": {},
   "outputs": [],
   "source": [
    "data = db.collection(u'chat_rooms').get()"
   ]
  },
  {
   "cell_type": "code",
   "execution_count": 32,
   "id": "2c425cae",
   "metadata": {},
   "outputs": [],
   "source": [
    "test_data = data[0].to_dict()"
   ]
  },
  {
   "cell_type": "code",
   "execution_count": 90,
   "id": "4a784c07",
   "metadata": {},
   "outputs": [],
   "source": [
    "test_data_caregiver = test_data['caregiver'].get(['gender','birthday'])"
   ]
  },
  {
   "cell_type": "code",
   "execution_count": 91,
   "id": "6406a97e",
   "metadata": {},
   "outputs": [
    {
     "data": {
      "text/plain": [
       "{'gender': 'Laki-laki',\n",
       " 'birthday': DatetimeWithNanoseconds(2000, 11, 16, 16, 0, tzinfo=datetime.timezone.utc)}"
      ]
     },
     "execution_count": 91,
     "metadata": {},
     "output_type": "execute_result"
    }
   ],
   "source": [
    "test_data_caregiver.to_dict()"
   ]
  },
  {
   "cell_type": "code",
   "execution_count": 35,
   "id": "09503b35",
   "metadata": {},
   "outputs": [
    {
     "data": {
      "text/plain": [
       "{'title': '1',\n",
       " 'is_open': True,\n",
       " 'last_message': '',\n",
       " 'problems': ' Kekerasan',\n",
       " 'last_update': DatetimeWithNanoseconds(2022, 6, 3, 17, 28, 40, 6000, tzinfo=datetime.timezone.utc),\n",
       " 'text': 'cxcxc',\n",
       " 'max_user': 3,\n",
       " 'users': ['4R3TTPINWhPzUvwIUEXbldtNAY72'],\n",
       " 'caregiver': <google.cloud.firestore_v1.document.DocumentReference at 0x16c29183400>}"
      ]
     },
     "execution_count": 35,
     "metadata": {},
     "output_type": "execute_result"
    }
   ],
   "source": [
    "test_data"
   ]
  },
  {
   "cell_type": "code",
   "execution_count": 36,
   "id": "bc9b5c7f",
   "metadata": {},
   "outputs": [],
   "source": [
    "from datetime import date\n",
    " \n",
    "def age(birthdate):\n",
    "    today = date.today()\n",
    "    age = today.year - birthdate.year - ((today.month, today.day) < (birthdate.month, birthdate.day))\n",
    "    return age"
   ]
  },
  {
   "cell_type": "code",
   "execution_count": 37,
   "id": "c1c59424",
   "metadata": {},
   "outputs": [
    {
     "data": {
      "text/plain": [
       "21"
      ]
     },
     "execution_count": 37,
     "metadata": {},
     "output_type": "execute_result"
    }
   ],
   "source": [
    "age(test_data_caregiver.to_dict()['birthday'])"
   ]
  },
  {
   "cell_type": "code",
   "execution_count": 38,
   "id": "82ab4f8a",
   "metadata": {},
   "outputs": [],
   "source": [
    "import flatdict"
   ]
  },
  {
   "cell_type": "code",
   "execution_count": 124,
   "id": "486c10f2",
   "metadata": {},
   "outputs": [],
   "source": [
    "\n",
    "def Merge(dict1, dict2):\n",
    "    \"\"\"\n",
    "    Python code to merge dict\n",
    "    \"\"\"\n",
    "    res = {**dict1, **dict2}\n",
    "    return res\n",
    "    \n",
    "\n",
    "def unpack_caregiver_dict(dictionary):\n",
    "    return 0"
   ]
  },
  {
   "cell_type": "code",
   "execution_count": 155,
   "id": "452d3959",
   "metadata": {},
   "outputs": [],
   "source": [
    "def unpack_caregiver_snapshot(data):\n",
    "    desired_keys = [\"problems\", \"birthday\", \"gender\",\"caregiver_id\"]\n",
    "    #this unpack the value of snapshot list and turn the snapshot into dictionary also add aditional key for caregiver_id\n",
    "    caregiver_dict_unpacked = map(lambda feature: Merge(feature.to_dict(), {'caregiver_id':feature.id}) , data)\n",
    "    \n",
    "    #this unpack the snapshot in 'caregiver' snapshot and add them back to main dictionary\n",
    "    caregiver_dict = map(lambda feature: Merge(feature , feature.pop('caregiver').get().to_dict()) , caregiver_dict_unpacked )\n",
    "    \n",
    "    #this seperate desired keys from unused keys\n",
    "    caregiver_dict = map(lambda x: dict((k, x[k]) for k in desired_keys if k in x), caregiver_dict)\n",
    "    \n",
    "    #this convert birthday stamp into interger age\n",
    "    caregiver_dict = map(lambda feature: Merge(feature , {'age':age(feature.pop('birthday'))}), caregiver_dict)\n",
    "    \n",
    "    return list(caregiver_dict)"
   ]
  },
  {
   "cell_type": "code",
   "execution_count": 156,
   "id": "9333f881",
   "metadata": {},
   "outputs": [],
   "source": [
    "caregiver_dict = unpack_caregiver_snapshot(data)"
   ]
  },
  {
   "cell_type": "code",
   "execution_count": 157,
   "id": "90dd06f4",
   "metadata": {},
   "outputs": [
    {
     "data": {
      "text/plain": [
       "[{'problems': 'Skizofrenia Depresi',\n",
       "  'gender': 'Laki-laki',\n",
       "  'caregiver_id': '1294NxDFF60ozpXtMLzj',\n",
       "  'age': 21},\n",
       " {'problems': 'Gangguan-makan ADHD-Hiperaktif-dan-kurang-fokus',\n",
       "  'gender': 'Laki-laki',\n",
       "  'caregiver_id': 'HUDwzgELY1OEzwieoHXK',\n",
       "  'age': 21},\n",
       " {'problems': 'Gangguan-makan Gangguan-stres-pascatrauma',\n",
       "  'gender': 'Laki-laki',\n",
       "  'caregiver_id': 'UQr9WtwBTKhClEoe1AsS',\n",
       "  'age': 21},\n",
       " {'problems': 'Gangguan-stres-pascatrauma',\n",
       "  'gender': 'Laki-laki',\n",
       "  'caregiver_id': 'bYyoJYfth1fKqWBNI86A',\n",
       "  'age': 21},\n",
       " {'problems': 'Gangguan-stres-pascatrauma',\n",
       "  'gender': 'Laki-laki',\n",
       "  'caregiver_id': 'hYwGH1IJzqwiDChn3zUU',\n",
       "  'age': 21}]"
      ]
     },
     "execution_count": 157,
     "metadata": {},
     "output_type": "execute_result"
    }
   ],
   "source": [
    "caregiver_dict"
   ]
  },
  {
   "cell_type": "code",
   "execution_count": 128,
   "id": "4eeb0c48",
   "metadata": {},
   "outputs": [],
   "source": []
  },
  {
   "cell_type": "code",
   "execution_count": 129,
   "id": "162daaed",
   "metadata": {},
   "outputs": [],
   "source": []
  },
  {
   "cell_type": "code",
   "execution_count": 130,
   "id": "d2e6aa27",
   "metadata": {},
   "outputs": [],
   "source": []
  },
  {
   "cell_type": "code",
   "execution_count": 131,
   "id": "90677472",
   "metadata": {},
   "outputs": [
    {
     "name": "stdout",
     "output_type": "stream",
     "text": [
      "[{'problems': 'Skizofrenia Depresi', 'is_open': True, 'title': '1', 'last_message': '', 'last_update': DatetimeWithNanoseconds(2022, 6, 3, 17, 28, 40, 6000, tzinfo=datetime.timezone.utc), 'text': 'cxcxc', 'max_user': 3, 'users': ['4R3TTPINWhPzUvwIUEXbldtNAY72'], 'caregiver_id': '1294NxDFF60ozpXtMLzj', 'gender': 'Laki-laki', 'point': 0, 'birthday': DatetimeWithNanoseconds(2000, 11, 16, 16, 0, tzinfo=datetime.timezone.utc), 'name': 'dhiva'}, {'last_update': DatetimeWithNanoseconds(2022, 6, 3, 17, 39, 40, 843000, tzinfo=datetime.timezone.utc), 'max_user': 3, 'is_open': True, 'title': 'erer', 'problems': 'Gangguan-makan ADHD-Hiperaktif-dan-kurang-fokus', 'text': 'wrre', 'last_message': '', 'caregiver_id': 'HUDwzgELY1OEzwieoHXK', 'birthday': DatetimeWithNanoseconds(2000, 11, 16, 16, 0, tzinfo=datetime.timezone.utc), 'gender': 'Laki-laki', 'point': 0, 'name': 'dhiva'}, {'is_open': True, 'problems': 'Gangguan-makan Gangguan-stres-pascatrauma', 'title': 'w34', 'last_message': '', 'max_user': 3, 'text': 'w344', 'last_update': DatetimeWithNanoseconds(2022, 6, 3, 17, 37, 14, 421000, tzinfo=datetime.timezone.utc), 'caregiver_id': 'UQr9WtwBTKhClEoe1AsS', 'point': 0, 'gender': 'Laki-laki', 'name': 'dhiva', 'birthday': DatetimeWithNanoseconds(2000, 11, 16, 16, 0, tzinfo=datetime.timezone.utc)}, {'title': 'trtrt', 'is_open': True, 'last_message': '', 'problems': 'Gangguan-stres-pascatrauma', 'last_update': DatetimeWithNanoseconds(2022, 6, 3, 17, 43, 58, 275000, tzinfo=datetime.timezone.utc), 'text': 'trtr', 'max_user': 3, 'caregiver_id': 'bYyoJYfth1fKqWBNI86A', 'gender': 'Laki-laki', 'birthday': DatetimeWithNanoseconds(2000, 11, 16, 16, 0, tzinfo=datetime.timezone.utc), 'name': 'dhiva', 'point': 0}, {'max_user': 3, 'last_update': DatetimeWithNanoseconds(2022, 6, 3, 17, 43, 40, 270000, tzinfo=datetime.timezone.utc), 'text': 'sf', 'problems': 'Gangguan-stres-pascatrauma', 'last_message': '', 'is_open': True, 'title': 'sdf', 'caregiver_id': 'hYwGH1IJzqwiDChn3zUU', 'gender': 'Laki-laki', 'birthday': DatetimeWithNanoseconds(2000, 11, 16, 16, 0, tzinfo=datetime.timezone.utc), 'name': 'dhiva', 'point': 0}]\n"
     ]
    }
   ],
   "source": []
  },
  {
   "cell_type": "code",
   "execution_count": 133,
   "id": "e624d12f",
   "metadata": {},
   "outputs": [],
   "source": [
    "caregiver_dict = desired_keys(caregiver_dict, [\"problems\", \"birthday\", \"gender\",\"caregiver_id\"])"
   ]
  },
  {
   "cell_type": "code",
   "execution_count": 134,
   "id": "811c5793",
   "metadata": {},
   "outputs": [
    {
     "data": {
      "text/plain": [
       "[{'problems': 'Skizofrenia Depresi',\n",
       "  'birthday': DatetimeWithNanoseconds(2000, 11, 16, 16, 0, tzinfo=datetime.timezone.utc),\n",
       "  'gender': 'Laki-laki',\n",
       "  'caregiver_id': '1294NxDFF60ozpXtMLzj'},\n",
       " {'problems': 'Gangguan-makan ADHD-Hiperaktif-dan-kurang-fokus',\n",
       "  'birthday': DatetimeWithNanoseconds(2000, 11, 16, 16, 0, tzinfo=datetime.timezone.utc),\n",
       "  'gender': 'Laki-laki',\n",
       "  'caregiver_id': 'HUDwzgELY1OEzwieoHXK'},\n",
       " {'problems': 'Gangguan-makan Gangguan-stres-pascatrauma',\n",
       "  'birthday': DatetimeWithNanoseconds(2000, 11, 16, 16, 0, tzinfo=datetime.timezone.utc),\n",
       "  'gender': 'Laki-laki',\n",
       "  'caregiver_id': 'UQr9WtwBTKhClEoe1AsS'},\n",
       " {'problems': 'Gangguan-stres-pascatrauma',\n",
       "  'birthday': DatetimeWithNanoseconds(2000, 11, 16, 16, 0, tzinfo=datetime.timezone.utc),\n",
       "  'gender': 'Laki-laki',\n",
       "  'caregiver_id': 'bYyoJYfth1fKqWBNI86A'},\n",
       " {'problems': 'Gangguan-stres-pascatrauma',\n",
       "  'birthday': DatetimeWithNanoseconds(2000, 11, 16, 16, 0, tzinfo=datetime.timezone.utc),\n",
       "  'gender': 'Laki-laki',\n",
       "  'caregiver_id': 'hYwGH1IJzqwiDChn3zUU'}]"
      ]
     },
     "execution_count": 134,
     "metadata": {},
     "output_type": "execute_result"
    }
   ],
   "source": [
    "caregiver_dict"
   ]
  },
  {
   "cell_type": "code",
   "execution_count": 92,
   "id": "729978fe",
   "metadata": {},
   "outputs": [
    {
     "data": {
      "text/plain": [
       "{'gender': 'Laki-laki',\n",
       " 'birthday': DatetimeWithNanoseconds(2000, 11, 16, 16, 0, tzinfo=datetime.timezone.utc)}"
      ]
     },
     "execution_count": 92,
     "metadata": {},
     "output_type": "execute_result"
    }
   ],
   "source": [
    "test_data_caregiver.to_dict()"
   ]
  },
  {
   "cell_type": "code",
   "execution_count": 93,
   "id": "6fa22fe1",
   "metadata": {},
   "outputs": [],
   "source": [
    "combined_data = Merge(test_data, test_data_caregiver.to_dict())"
   ]
  },
  {
   "cell_type": "code",
   "execution_count": 95,
   "id": "8700b996",
   "metadata": {},
   "outputs": [
    {
     "name": "stdout",
     "output_type": "stream",
     "text": [
      "{'title': '1', 'is_open': True, 'last_message': '', 'problems': ' Kekerasan', 'last_update': DatetimeWithNanoseconds(2022, 6, 3, 17, 28, 40, 6000, tzinfo=datetime.timezone.utc), 'text': 'cxcxc', 'max_user': 3, 'users': ['4R3TTPINWhPzUvwIUEXbldtNAY72'], 'caregiver': <google.cloud.firestore_v1.document.DocumentReference object at 0x0000016C29183400>, 'gender': 'Laki-laki', 'birthday': DatetimeWithNanoseconds(2000, 11, 16, 16, 0, tzinfo=datetime.timezone.utc)}\n"
     ]
    }
   ],
   "source": [
    "print(combined_data)"
   ]
  },
  {
   "cell_type": "code",
   "execution_count": null,
   "id": "fc2365ac",
   "metadata": {},
   "outputs": [],
   "source": []
  }
 ],
 "metadata": {
  "kernelspec": {
   "display_name": "Python 3",
   "language": "python",
   "name": "python3"
  },
  "language_info": {
   "codemirror_mode": {
    "name": "ipython",
    "version": 3
   },
   "file_extension": ".py",
   "mimetype": "text/x-python",
   "name": "python",
   "nbconvert_exporter": "python",
   "pygments_lexer": "ipython3",
   "version": "3.9.11"
  }
 },
 "nbformat": 4,
 "nbformat_minor": 5
}
