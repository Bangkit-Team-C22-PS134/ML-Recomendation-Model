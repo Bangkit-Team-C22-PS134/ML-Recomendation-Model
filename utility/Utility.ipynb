{
 "cells": [
  {
   "cell_type": "code",
   "execution_count": 2,
   "id": "ef3313e8",
   "metadata": {},
   "outputs": [],
   "source": [
    "import os\n",
    "import tensorflow as tf\n",
    "import json\n",
    "import pandas as pd\n",
    "from os import getenv\n",
    "#from keras import models\n",
    "from firebase_admin import credentials, firestore, initialize_app"
   ]
  },
  {
   "cell_type": "code",
   "execution_count": 3,
   "id": "e913dd2a",
   "metadata": {},
   "outputs": [],
   "source": [
    "cred = credentials.Certificate(\"key.json\")\n",
    "default_app = initialize_app(cred)\n",
    "db = firestore.client()"
   ]
  },
  {
   "cell_type": "code",
   "execution_count": 4,
   "id": "5ee355ee",
   "metadata": {},
   "outputs": [],
   "source": [
    "class User(object):\n",
    "    def __init__(self, USER_ID, Nama, Gender, Age, Tipe_Masalah):\n",
    "        self.USER_ID = USER_ID\n",
    "        self.Nama = Nama\n",
    "        self.Gender = Gender\n",
    "        self.Age = Age\n",
    "        self.Tipe_Masalah = Tipe_Masalah\n",
    "\n",
    "    @staticmethod\n",
    "    def from_json_do_not_use(source):\n",
    "        \"\"\"\n",
    "        Source is expected from pure json string\n",
    "        \"\"\"\n",
    "        return source\n",
    "\n",
    "    @staticmethod\n",
    "    def from_dict(source):\n",
    "        # [START_EXCLUDE]\n",
    "        user = User(source[u'USER_ID'], source[u'Nama'], source[u'Gender'], source[u'Age'], source[u'Tipe_Masalah'])\n",
    "\n",
    "        if u'USER_ID' in source:\n",
    "            user.USER_ID = source[u'USER_ID']\n",
    "\n",
    "        if u'Nama' in source:\n",
    "            user.Nama = source[u'Nama']\n",
    "\n",
    "        if u'Gender' in source:\n",
    "            user.Gender = source[u'Gender']\n",
    "\n",
    "        if u'Age' in source:\n",
    "            user.Age = source[u'Age']\n",
    "\n",
    "        if u'Tipe_Masalah' in source:\n",
    "            user.Tipe_Masalah = source[u'Tipe_Masalah']\n",
    "\n",
    "        return user\n",
    "        # [END_EXCLUDE]\n",
    "\n",
    "    def to_dict(self):\n",
    "        # [START_EXCLUDE]\n",
    "        dest = {\n",
    "            u'USER_ID': self.USER_ID,\n",
    "            u'Nama': self.Nama,\n",
    "            u'Gender': self.Gender,\n",
    "            u'Age': self.Age,\n",
    "            u'Tipe_Masalah': self.Tipe_Masalah\n",
    "        }\n",
    "\n",
    "        if self.USER_ID:\n",
    "            dest[u'USER_ID'] = self.USER_ID\n",
    "\n",
    "        if self.Nama:\n",
    "            dest[u'Nama'] = self.Nama\n",
    "\n",
    "        if self.Gender:\n",
    "            dest[u'Gender'] = self.Gender\n",
    "\n",
    "        if self.Age:\n",
    "            dest[u'Age'] = self.Age\n",
    "\n",
    "        if self.Tipe_Masalah:\n",
    "            dest[u'Tipe_Masalah'] = self.Tipe_Masalah\n",
    "\n",
    "        return dest\n",
    "        # [END_EXCLUDE]\n",
    "\n",
    "    \n",
    "    def __repr__(self):\n",
    "        return (\n",
    "            f'City(\\\n",
    "                USER_ID={self.USER_ID}, \\\n",
    "                Nama={self.Nama}, \\\n",
    "                Age={self.Age}, \\\n",
    "                Gender={self.Gender}, \\\n",
    "                Tipe_Masalah={self.Tipe_Masalah}\\\n",
    "            )'\n",
    "        )"
   ]
  },
  {
   "cell_type": "code",
   "execution_count": 5,
   "id": "faa75d42",
   "metadata": {},
   "outputs": [],
   "source": [
    "zidan = User(1, \"zidan\", \"pria\", 43, \"Depresi\")"
   ]
  },
  {
   "cell_type": "code",
   "execution_count": 6,
   "id": "4146df79",
   "metadata": {},
   "outputs": [
    {
     "data": {
      "text/plain": [
       "City(                USER_ID=1,                 Nama=zidan,                 Age=43,                 Gender=pria,                 Tipe_Masalah=Depresi            )"
      ]
     },
     "execution_count": 6,
     "metadata": {},
     "output_type": "execute_result"
    }
   ],
   "source": [
    "zidan"
   ]
  },
  {
   "cell_type": "code",
   "execution_count": 7,
   "id": "369d698a",
   "metadata": {},
   "outputs": [
    {
     "data": {
      "text/plain": [
       "__main__.User"
      ]
     },
     "execution_count": 7,
     "metadata": {},
     "output_type": "execute_result"
    }
   ],
   "source": [
    "type(zidan)"
   ]
  },
  {
   "cell_type": "code",
   "execution_count": 8,
   "id": "f5583517",
   "metadata": {},
   "outputs": [
    {
     "data": {
      "text/plain": [
       "dict"
      ]
     },
     "execution_count": 8,
     "metadata": {},
     "output_type": "execute_result"
    }
   ],
   "source": [
    "type(zidan.to_dict())"
   ]
  },
  {
   "cell_type": "code",
   "execution_count": 8,
   "id": "813e2fe2",
   "metadata": {},
   "outputs": [],
   "source": [
    "import pathlib\n",
    "import os\n",
    "\n",
    "user_file = \"\\\\Data\\\\Processed User Data.json\"\n",
    "caregiver_file = \"\\\\Data\\\\Processed Caregiver Data.json\"\n",
    "\n",
    "path = pathlib.Path().resolve()\n",
    "parent_path = path.parent.absolute()\n",
    "\n",
    "user_path = str(parent_path) + user_file\n",
    "caregiver_ = str(parent_path) + caregiver_file"
   ]
  },
  {
   "cell_type": "code",
   "execution_count": 9,
   "id": "38f9da10",
   "metadata": {},
   "outputs": [],
   "source": [
    "\"\"\"\n",
    "with open(user_path) as file:\n",
    "    data = json.load(file)\n",
    "    db_user_placeholder = db.collection(u'User_Data_Placeholder')\n",
    "    for user_dict in data:\n",
    "        user_dict['Nama'] = 'placeholder_nama'\n",
    "        user_dict['Text'] = 'Placeholder_text'\n",
    "        db_user_placeholder.add(user_dict)\n",
    "\"\"\""
   ]
  },
  {
   "cell_type": "code",
   "execution_count": 11,
   "id": "5e199bb7",
   "metadata": {},
   "outputs": [],
   "source": [
    "data = db.collection(u'user_pref').get()\n"
   ]
  },
  {
   "cell_type": "code",
   "execution_count": 23,
   "id": "d925eded",
   "metadata": {},
   "outputs": [
    {
     "name": "stdout",
     "output_type": "stream",
     "text": [
      "{'gender': 'Laki-laki', 'age': 27, 'text': 'Placeholder_text', 'problems': 'Gangguan-kecemasan Depresi', 'name': 'dhiva'}\n"
     ]
    }
   ],
   "source": [
    "print(data[0].to_dict())"
   ]
  },
  {
   "cell_type": "code",
   "execution_count": 24,
   "id": "99c1d749",
   "metadata": {},
   "outputs": [],
   "source": [
    "def convert_snapshot(data, desired_key):\n",
    "    \"\"\"\n",
    "    this extract desired keys from list of dicts from snapshot\n",
    "    \"\"\"\n",
    "    data_dictionary = map(lambda x: x.to_dict(), data)\n",
    "    x = map(lambda x: dict((k, x[k]) for k in desired_key if k in x) , list(data_dictionary))\n",
    "    \n",
    "    return list(x)"
   ]
  },
  {
   "cell_type": "code",
   "execution_count": 25,
   "id": "6b753765",
   "metadata": {},
   "outputs": [],
   "source": [
    "new_data = convert_snapshot(data, [\"gender\",\"problems\",\"age\",\"text\"])"
   ]
  },
  {
   "cell_type": "code",
   "execution_count": 26,
   "id": "0ab4f5e3",
   "metadata": {},
   "outputs": [
    {
     "name": "stdout",
     "output_type": "stream",
     "text": [
      "[{'gender': 'Laki-laki', 'problems': 'Gangguan-kecemasan Depresi', 'age': 27, 'text': 'Placeholder_text'}]\n"
     ]
    }
   ],
   "source": [
    "print(new_data)"
   ]
  },
  {
   "cell_type": "code",
   "execution_count": 27,
   "id": "05abae58",
   "metadata": {},
   "outputs": [],
   "source": [
    "def df_to_dataset(dataframe, shuffle=True, batch_size=32):\n",
    "    \"\"\"\n",
    "    A utility method to create a tf.data dataset from a Pandas Dataframe\n",
    "    \"\"\"\n",
    "    dataframe = dataframe.copy()\n",
    "    ds = tf.data.Dataset.from_tensor_slices(dict(dataframe))\n",
    "    if shuffle:\n",
    "        ds = ds.shuffle(buffer_size=len(dataframe))\n",
    "    ds = ds.batch(batch_size)\n",
    "    return ds"
   ]
  },
  {
   "cell_type": "code",
   "execution_count": 35,
   "id": "f9c49ff6",
   "metadata": {},
   "outputs": [],
   "source": [
    "def convert_categorical_data(df, col, is_caregiver = False):\n",
    "    \"\"\"\n",
    "    Convert categorical data that splited by space to their own column in pandas dataframe , making them like one hot encoded\n",
    "    \"\"\"\n",
    "    import numpy as np\n",
    "    ### Join every string in every row, split the result, pull out the unique values.\n",
    "    genres = np.unique(' '.join(df[col]).split(' '))\n",
    "    ### Drop 'NA'\n",
    "    genres = np.delete(genres, np.where(genres == ''))\n",
    "    if(not is_caregiver):\n",
    "        for genre in genres:\n",
    "            df[genre] = df[col].str.contains(genre).astype('int')\n",
    "    else:\n",
    "        for genre in genres:\n",
    "            df['Caregiver-'+genre] = df[col].str.contains(genre).astype('int')\n",
    "    df.drop(col, axis=1, inplace=True)"
   ]
  },
  {
   "cell_type": "code",
   "execution_count": 58,
   "id": "da0cbb78",
   "metadata": {},
   "outputs": [],
   "source": [
    "def fill_non_existent_column(df, new_column=None):\n",
    "    \"\"\"\n",
    "    This fill the df with unique problems column i\n",
    "    \"\"\"\n",
    "    if new_column is None:\n",
    "         new_column = ['ADHD-Hiperaktif-dan-kurang-fokus', 'Depresi', 'Gangguan-kecemasan', 'Gangguan-makan','Gangguan-stres-pascatrauma', 'Skizofrenia']\n",
    "    for col in new_column:\n",
    "        if(col in df.columns):\n",
    "            pass\n",
    "        df[col] = 0\n",
    "    \n",
    "    "
   ]
  },
  {
   "cell_type": "code",
   "execution_count": 45,
   "id": "c869be88",
   "metadata": {},
   "outputs": [],
   "source": [
    "def change_column_name(df, old_name,new_name):\n",
    "    \"\"\"\n",
    "    replace list of column name in old_name to new colum name in new_name\n",
    "    the order of old_name and new_name need to be exact\n",
    "    \"\"\"\n",
    "    res = {old_name[i]: new_name[i] for i in range(len(new_name))}\n",
    "    df.rename(columns = res, inplace = True)\n",
    "    \n",
    "    "
   ]
  },
  {
   "cell_type": "code",
   "execution_count": 36,
   "id": "4f4b2c3f",
   "metadata": {},
   "outputs": [],
   "source": [
    "#ds_kalimat = tf.data.Dataset.from_tensor_slices(pd.DataFrame.from_dict(new_data).to_dict(orient=\"list\"))"
   ]
  },
  {
   "cell_type": "code",
   "execution_count": null,
   "id": "9b462862",
   "metadata": {},
   "outputs": [],
   "source": []
  },
  {
   "cell_type": "code",
   "execution_count": null,
   "id": "ec4eb1c0",
   "metadata": {},
   "outputs": [],
   "source": []
  },
  {
   "cell_type": "code",
   "execution_count": 46,
   "id": "38c8b001",
   "metadata": {},
   "outputs": [],
   "source": [
    "user_df = pd.DataFrame.from_dict(new_data)"
   ]
  },
  {
   "cell_type": "code",
   "execution_count": 47,
   "id": "7eaebdc7",
   "metadata": {},
   "outputs": [
    {
     "data": {
      "text/html": [
       "<div>\n",
       "<style scoped>\n",
       "    .dataframe tbody tr th:only-of-type {\n",
       "        vertical-align: middle;\n",
       "    }\n",
       "\n",
       "    .dataframe tbody tr th {\n",
       "        vertical-align: top;\n",
       "    }\n",
       "\n",
       "    .dataframe thead th {\n",
       "        text-align: right;\n",
       "    }\n",
       "</style>\n",
       "<table border=\"1\" class=\"dataframe\">\n",
       "  <thead>\n",
       "    <tr style=\"text-align: right;\">\n",
       "      <th></th>\n",
       "      <th>gender</th>\n",
       "      <th>problems</th>\n",
       "      <th>age</th>\n",
       "      <th>text</th>\n",
       "    </tr>\n",
       "  </thead>\n",
       "  <tbody>\n",
       "    <tr>\n",
       "      <th>0</th>\n",
       "      <td>Laki-laki</td>\n",
       "      <td>Gangguan-kecemasan Depresi</td>\n",
       "      <td>27</td>\n",
       "      <td>Placeholder_text</td>\n",
       "    </tr>\n",
       "  </tbody>\n",
       "</table>\n",
       "</div>"
      ],
      "text/plain": [
       "      gender                    problems  age              text\n",
       "0  Laki-laki  Gangguan-kecemasan Depresi   27  Placeholder_text"
      ]
     },
     "execution_count": 47,
     "metadata": {},
     "output_type": "execute_result"
    }
   ],
   "source": [
    "user_df.head(4)"
   ]
  },
  {
   "cell_type": "code",
   "execution_count": 49,
   "id": "28e4880e",
   "metadata": {},
   "outputs": [],
   "source": [
    "convert_categorical_data(user_df, col='problems')"
   ]
  },
  {
   "cell_type": "code",
   "execution_count": 50,
   "id": "f2ea9238",
   "metadata": {},
   "outputs": [
    {
     "data": {
      "text/html": [
       "<div>\n",
       "<style scoped>\n",
       "    .dataframe tbody tr th:only-of-type {\n",
       "        vertical-align: middle;\n",
       "    }\n",
       "\n",
       "    .dataframe tbody tr th {\n",
       "        vertical-align: top;\n",
       "    }\n",
       "\n",
       "    .dataframe thead th {\n",
       "        text-align: right;\n",
       "    }\n",
       "</style>\n",
       "<table border=\"1\" class=\"dataframe\">\n",
       "  <thead>\n",
       "    <tr style=\"text-align: right;\">\n",
       "      <th></th>\n",
       "      <th>gender</th>\n",
       "      <th>age</th>\n",
       "      <th>text</th>\n",
       "      <th>Depresi</th>\n",
       "      <th>Gangguan-kecemasan</th>\n",
       "    </tr>\n",
       "  </thead>\n",
       "  <tbody>\n",
       "    <tr>\n",
       "      <th>0</th>\n",
       "      <td>Laki-laki</td>\n",
       "      <td>27</td>\n",
       "      <td>Placeholder_text</td>\n",
       "      <td>1</td>\n",
       "      <td>1</td>\n",
       "    </tr>\n",
       "  </tbody>\n",
       "</table>\n",
       "</div>"
      ],
      "text/plain": [
       "      gender  age              text  Depresi  Gangguan-kecemasan\n",
       "0  Laki-laki   27  Placeholder_text        1                   1"
      ]
     },
     "execution_count": 50,
     "metadata": {},
     "output_type": "execute_result"
    }
   ],
   "source": [
    "user_df.head(4)"
   ]
  },
  {
   "cell_type": "code",
   "execution_count": 51,
   "id": "9040f64f",
   "metadata": {},
   "outputs": [],
   "source": [
    "change_column_name(user_df, ['gender','age'], ['Gender','Age'])"
   ]
  },
  {
   "cell_type": "code",
   "execution_count": 52,
   "id": "293673a7",
   "metadata": {},
   "outputs": [
    {
     "data": {
      "text/html": [
       "<div>\n",
       "<style scoped>\n",
       "    .dataframe tbody tr th:only-of-type {\n",
       "        vertical-align: middle;\n",
       "    }\n",
       "\n",
       "    .dataframe tbody tr th {\n",
       "        vertical-align: top;\n",
       "    }\n",
       "\n",
       "    .dataframe thead th {\n",
       "        text-align: right;\n",
       "    }\n",
       "</style>\n",
       "<table border=\"1\" class=\"dataframe\">\n",
       "  <thead>\n",
       "    <tr style=\"text-align: right;\">\n",
       "      <th></th>\n",
       "      <th>Gender</th>\n",
       "      <th>Age</th>\n",
       "      <th>text</th>\n",
       "      <th>Depresi</th>\n",
       "      <th>Gangguan-kecemasan</th>\n",
       "    </tr>\n",
       "  </thead>\n",
       "  <tbody>\n",
       "    <tr>\n",
       "      <th>0</th>\n",
       "      <td>Laki-laki</td>\n",
       "      <td>27</td>\n",
       "      <td>Placeholder_text</td>\n",
       "      <td>1</td>\n",
       "      <td>1</td>\n",
       "    </tr>\n",
       "  </tbody>\n",
       "</table>\n",
       "</div>"
      ],
      "text/plain": [
       "      Gender  Age              text  Depresi  Gangguan-kecemasan\n",
       "0  Laki-laki   27  Placeholder_text        1                   1"
      ]
     },
     "execution_count": 52,
     "metadata": {},
     "output_type": "execute_result"
    }
   ],
   "source": [
    "user_df.head(4)"
   ]
  },
  {
   "cell_type": "code",
   "execution_count": 59,
   "id": "0b90185e",
   "metadata": {},
   "outputs": [
    {
     "data": {
      "text/plain": [
       "Index(['Gender', 'Age', 'text', 'Depresi', 'Gangguan-kecemasan'], dtype='object')"
      ]
     },
     "execution_count": 59,
     "metadata": {},
     "output_type": "execute_result"
    }
   ],
   "source": [
    "user_df.columns"
   ]
  },
  {
   "cell_type": "code",
   "execution_count": 60,
   "id": "b4173945",
   "metadata": {},
   "outputs": [],
   "source": [
    " fill_non_existent_column(user_df)"
   ]
  },
  {
   "cell_type": "code",
   "execution_count": 61,
   "id": "659e3374",
   "metadata": {},
   "outputs": [
    {
     "data": {
      "text/html": [
       "<div>\n",
       "<style scoped>\n",
       "    .dataframe tbody tr th:only-of-type {\n",
       "        vertical-align: middle;\n",
       "    }\n",
       "\n",
       "    .dataframe tbody tr th {\n",
       "        vertical-align: top;\n",
       "    }\n",
       "\n",
       "    .dataframe thead th {\n",
       "        text-align: right;\n",
       "    }\n",
       "</style>\n",
       "<table border=\"1\" class=\"dataframe\">\n",
       "  <thead>\n",
       "    <tr style=\"text-align: right;\">\n",
       "      <th></th>\n",
       "      <th>Gender</th>\n",
       "      <th>Age</th>\n",
       "      <th>text</th>\n",
       "      <th>Depresi</th>\n",
       "      <th>Gangguan-kecemasan</th>\n",
       "      <th>ADHD-Hiperaktif-dan-kurang-fokus</th>\n",
       "      <th>Gangguan-makan</th>\n",
       "      <th>Gangguan-stres-pascatrauma</th>\n",
       "      <th>Skizofrenia</th>\n",
       "    </tr>\n",
       "  </thead>\n",
       "  <tbody>\n",
       "    <tr>\n",
       "      <th>0</th>\n",
       "      <td>Laki-laki</td>\n",
       "      <td>27</td>\n",
       "      <td>Placeholder_text</td>\n",
       "      <td>0</td>\n",
       "      <td>0</td>\n",
       "      <td>0</td>\n",
       "      <td>0</td>\n",
       "      <td>0</td>\n",
       "      <td>0</td>\n",
       "    </tr>\n",
       "  </tbody>\n",
       "</table>\n",
       "</div>"
      ],
      "text/plain": [
       "      Gender  Age              text  Depresi  Gangguan-kecemasan  \\\n",
       "0  Laki-laki   27  Placeholder_text        0                   0   \n",
       "\n",
       "   ADHD-Hiperaktif-dan-kurang-fokus  Gangguan-makan  \\\n",
       "0                                 0               0   \n",
       "\n",
       "   Gangguan-stres-pascatrauma  Skizofrenia  \n",
       "0                           0            0  "
      ]
     },
     "execution_count": 61,
     "metadata": {},
     "output_type": "execute_result"
    }
   ],
   "source": [
    "user_df.head(4)\n"
   ]
  },
  {
   "cell_type": "raw",
   "id": "4baf2c99",
   "metadata": {},
   "source": [
    "\n"
   ]
  },
  {
   "cell_type": "code",
   "execution_count": 81,
   "id": "f5f52d1a",
   "metadata": {},
   "outputs": [],
   "source": [
    "user_ds = df_to_dataset(user_df)"
   ]
  },
  {
   "cell_type": "code",
   "execution_count": 82,
   "id": "def84d14",
   "metadata": {},
   "outputs": [
    {
     "data": {
      "text/plain": [
       "<BatchDataset element_spec={'Gender': TensorSpec(shape=(None,), dtype=tf.string, name=None), 'Age': TensorSpec(shape=(None,), dtype=tf.int64, name=None), 'text': TensorSpec(shape=(None,), dtype=tf.string, name=None), 'Depresi': TensorSpec(shape=(None,), dtype=tf.int64, name=None), 'Gangguan-kecemasan': TensorSpec(shape=(None,), dtype=tf.int64, name=None), 'ADHD-Hiperaktif-dan-kurang-fokus': TensorSpec(shape=(None,), dtype=tf.int64, name=None), 'Gangguan-makan': TensorSpec(shape=(None,), dtype=tf.int64, name=None), 'Gangguan-stres-pascatrauma': TensorSpec(shape=(None,), dtype=tf.int64, name=None), 'Skizofrenia': TensorSpec(shape=(None,), dtype=tf.int64, name=None)}>"
      ]
     },
     "execution_count": 82,
     "metadata": {},
     "output_type": "execute_result"
    }
   ],
   "source": []
  },
  {
   "cell_type": "code",
   "execution_count": null,
   "id": "234c75df",
   "metadata": {},
   "outputs": [],
   "source": []
  },
  {
   "cell_type": "code",
   "execution_count": null,
   "id": "142fb91f",
   "metadata": {},
   "outputs": [],
   "source": [
    "#caregiver_query"
   ]
  },
  {
   "cell_type": "code",
   "execution_count": 64,
   "id": "b35bf25a",
   "metadata": {},
   "outputs": [],
   "source": [
    "data = db.collection(u'chat_rooms').get()"
   ]
  },
  {
   "cell_type": "code",
   "execution_count": 71,
   "id": "2c425cae",
   "metadata": {},
   "outputs": [],
   "source": [
    "test_data = data[0].to_dict()"
   ]
  },
  {
   "cell_type": "code",
   "execution_count": 72,
   "id": "4a784c07",
   "metadata": {},
   "outputs": [],
   "source": [
    "test_data_caregiver = test_Data['caregiver'].get()"
   ]
  },
  {
   "cell_type": "code",
   "execution_count": 74,
   "id": "6406a97e",
   "metadata": {},
   "outputs": [
    {
     "data": {
      "text/plain": [
       "{'name': 'dhiva',\n",
       " 'gender': 'Laki-laki',\n",
       " 'point': 0,\n",
       " 'birthday': DatetimeWithNanoseconds(2000, 11, 16, 16, 0, tzinfo=datetime.timezone.utc)}"
      ]
     },
     "execution_count": 74,
     "metadata": {},
     "output_type": "execute_result"
    }
   ],
   "source": [
    "test_data_caregiver.to_dict()"
   ]
  },
  {
   "cell_type": "code",
   "execution_count": 75,
   "id": "09503b35",
   "metadata": {},
   "outputs": [
    {
     "data": {
      "text/plain": [
       "{'problems': 'Depresi ADHD-Hiperaktif-dan-kurang-fokus',\n",
       " 'users': ['i5riAITSRidbvwTRZxBwnbiB0A52', 'i5riAITSRidbvwTRZxBwnbiB0A52'],\n",
       " 'text': 'placeholder text',\n",
       " 'max_slot': 3,\n",
       " 'caregiver': <google.cloud.firestore_v1.document.DocumentReference at 0x1f07bd25f40>,\n",
       " 'is_open': True}"
      ]
     },
     "execution_count": 75,
     "metadata": {},
     "output_type": "execute_result"
    }
   ],
   "source": [
    "test_data"
   ]
  },
  {
   "cell_type": "code",
   "execution_count": 76,
   "id": "bc9b5c7f",
   "metadata": {},
   "outputs": [],
   "source": [
    "from datetime import date\n",
    " \n",
    "def age(birthdate):\n",
    "    today = date.today()\n",
    "    age = today.year - birthdate.year - ((today.month, today.day) < (birthdate.month, birthdate.day))\n",
    "    return age"
   ]
  },
  {
   "cell_type": "code",
   "execution_count": 77,
   "id": "c1c59424",
   "metadata": {},
   "outputs": [
    {
     "data": {
      "text/plain": [
       "21"
      ]
     },
     "execution_count": 77,
     "metadata": {},
     "output_type": "execute_result"
    }
   ],
   "source": [
    "age(test_data_caregiver.to_dict()['birthday'])"
   ]
  },
  {
   "cell_type": "code",
   "execution_count": 80,
   "id": "82ab4f8a",
   "metadata": {},
   "outputs": [],
   "source": [
    "import flatdict"
   ]
  },
  {
   "cell_type": "code",
   "execution_count": null,
   "id": "486c10f2",
   "metadata": {},
   "outputs": [],
   "source": [
    "\n",
    "# Python code to merge dict using update() method\n",
    "def Merge(dict1, dict2):\n",
    "    return(dict2.update(dict1))\n",
    "\n",
    "def unpack_caregiver_dict(dictionary):\n",
    "    "
   ]
  },
  {
   "cell_type": "code",
   "execution_count": 109,
   "id": "4eeb0c48",
   "metadata": {},
   "outputs": [],
   "source": [
    "caregiver_dict_unpacked = map(lambda feature: feature.to_dict() , data)"
   ]
  },
  {
   "cell_type": "code",
   "execution_count": 110,
   "id": "162daaed",
   "metadata": {},
   "outputs": [],
   "source": [
    "caregiver_dict = map(lambda feature: feature.update(feature.pop('caregiver').get().to_dict()) , caregiver_dict_unpacked )"
   ]
  },
  {
   "cell_type": "code",
   "execution_count": 111,
   "id": "d2e6aa27",
   "metadata": {},
   "outputs": [],
   "source": [
    "caregiver_dict = list(caregiver_dict)"
   ]
  },
  {
   "cell_type": "code",
   "execution_count": 112,
   "id": "90677472",
   "metadata": {},
   "outputs": [
    {
     "name": "stdout",
     "output_type": "stream",
     "text": [
      "[None, None]\n"
     ]
    }
   ],
   "source": [
    "print(caregiver_dict)"
   ]
  },
  {
   "cell_type": "code",
   "execution_count": null,
   "id": "729978fe",
   "metadata": {},
   "outputs": [],
   "source": []
  }
 ],
 "metadata": {
  "kernelspec": {
   "display_name": "Python 3",
   "language": "python",
   "name": "python3"
  },
  "language_info": {
   "codemirror_mode": {
    "name": "ipython",
    "version": 3
   },
   "file_extension": ".py",
   "mimetype": "text/x-python",
   "name": "python",
   "nbconvert_exporter": "python",
   "pygments_lexer": "ipython3",
   "version": "3.9.11"
  }
 },
 "nbformat": 4,
 "nbformat_minor": 5
}
