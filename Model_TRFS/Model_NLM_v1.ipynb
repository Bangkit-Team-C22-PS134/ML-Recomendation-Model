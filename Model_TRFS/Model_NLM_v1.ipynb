{
 "cells": [
  {
   "cell_type": "code",
<<<<<<< HEAD
   "execution_count": 1,
=======
   "execution_count": 4,
>>>>>>> parent of cd40587 (wtf is this)
   "metadata": {
    "id": "0xAhHOUJqbk-"
   },
   "outputs": [],
   "source": [
    "import pandas as pd"
   ]
  },
  {
   "cell_type": "code",
<<<<<<< HEAD
   "execution_count": 2,
=======
   "execution_count": 5,
>>>>>>> parent of cd40587 (wtf is this)
   "metadata": {
    "id": "yvxyovZFqmwv"
   },
   "outputs": [],
   "source": [
    "#read file\n",
    "import pathlib\n",
    "import os\n",
    "\n",
    "file = \"\\\\Data\\\\deskripsicaregiver.txt\"\n",
    "\n",
    "path = pathlib.Path().resolve()\n",
    "parent_path = path.parent.absolute()\n",
    "\n",
    "file_content = pd.read_csv(str(parent_path) + file)"
   ]
  },
  {
   "cell_type": "code",
<<<<<<< HEAD
   "execution_count": 3,
=======
   "execution_count": 6,
>>>>>>> parent of cd40587 (wtf is this)
   "metadata": {
    "colab": {
     "base_uri": "https://localhost:8080/",
     "height": 676
    },
    "id": "E23Bjud7qtT_",
    "outputId": "e4f84f5d-d200-4f66-c846-37409d599d9b"
   },
   "outputs": [
    {
     "data": {
      "text/html": [
       "<div>\n",
       "<style scoped>\n",
       "    .dataframe tbody tr th:only-of-type {\n",
       "        vertical-align: middle;\n",
       "    }\n",
       "\n",
       "    .dataframe tbody tr th {\n",
       "        vertical-align: top;\n",
       "    }\n",
       "\n",
       "    .dataframe thead th {\n",
       "        text-align: right;\n",
       "    }\n",
       "</style>\n",
       "<table border=\"1\" class=\"dataframe\">\n",
       "  <thead>\n",
       "    <tr style=\"text-align: right;\">\n",
       "      <th></th>\n",
       "      <th>id</th>\n",
       "      <th>deskripsimasalah</th>\n",
       "      <th>kelas</th>\n",
       "    </tr>\n",
       "  </thead>\n",
       "  <tbody>\n",
       "    <tr>\n",
       "      <th>0</th>\n",
       "      <td>1</td>\n",
       "      <td>aku memiliki teman yang pernah mengalami gangg...</td>\n",
       "      <td>Gangguan makan</td>\n",
       "    </tr>\n",
       "    <tr>\n",
       "      <th>1</th>\n",
       "      <td>2</td>\n",
       "      <td>salah satu saudara ku mengalami permasalahan g...</td>\n",
       "      <td>Gangguan pascatrauma</td>\n",
       "    </tr>\n",
       "    <tr>\n",
       "      <th>2</th>\n",
       "      <td>3</td>\n",
       "      <td>Dia kawanku yang sangat aktif dan sulit fokus....</td>\n",
       "      <td>ADHD</td>\n",
       "    </tr>\n",
       "    <tr>\n",
       "      <th>3</th>\n",
       "      <td>4</td>\n",
       "      <td>seseorang pernah curhat kepada ku tentang ruma...</td>\n",
       "      <td>Depresi</td>\n",
       "    </tr>\n",
       "    <tr>\n",
       "      <th>4</th>\n",
       "      <td>5</td>\n",
       "      <td>Penyebab pasti skizofrenia tidak diketahui, na...</td>\n",
       "      <td>Skizofrenia</td>\n",
       "    </tr>\n",
       "    <tr>\n",
       "      <th>5</th>\n",
       "      <td>6</td>\n",
       "      <td>sahabatku memiliki rekan kerja yang pernah men...</td>\n",
       "      <td>Gangguan makan</td>\n",
       "    </tr>\n",
       "    <tr>\n",
       "      <th>6</th>\n",
       "      <td>7</td>\n",
       "      <td>salah satu teman kakakku mengalami permasalaha...</td>\n",
       "      <td>Gangguan pascatrauma</td>\n",
       "    </tr>\n",
       "    <tr>\n",
       "      <th>7</th>\n",
       "      <td>8</td>\n",
       "      <td>Dia(laki-laki) kawanku yang sangat aktif dan s...</td>\n",
       "      <td>ADHD</td>\n",
       "    </tr>\n",
       "    <tr>\n",
       "      <th>8</th>\n",
       "      <td>9</td>\n",
       "      <td>seorang kawan pernah curhat kepadaku tentang k...</td>\n",
       "      <td>Depresi</td>\n",
       "    </tr>\n",
       "    <tr>\n",
       "      <th>9</th>\n",
       "      <td>10</td>\n",
       "      <td>skizofrenia penyakit yang unik, namun kombinas...</td>\n",
       "      <td>Skizofrenia</td>\n",
       "    </tr>\n",
       "    <tr>\n",
       "      <th>10</th>\n",
       "      <td>11</td>\n",
       "      <td>kawan lamaku memiliki teman rumah yang mengala...</td>\n",
       "      <td>Gangguan makan</td>\n",
       "    </tr>\n",
       "    <tr>\n",
       "      <th>11</th>\n",
       "      <td>12</td>\n",
       "      <td>salah satu teman kakakku mengalami permasalaha...</td>\n",
       "      <td>Gangguan pascatrauma</td>\n",
       "    </tr>\n",
       "    <tr>\n",
       "      <th>12</th>\n",
       "      <td>13</td>\n",
       "      <td>salah satu kawanku mengalami sulit fokus atau ...</td>\n",
       "      <td>ADHD</td>\n",
       "    </tr>\n",
       "    <tr>\n",
       "      <th>13</th>\n",
       "      <td>14</td>\n",
       "      <td>seorang yang sudah berumur pernah curhat kepad...</td>\n",
       "      <td>Depresi</td>\n",
       "    </tr>\n",
       "    <tr>\n",
       "      <th>14</th>\n",
       "      <td>15</td>\n",
       "      <td>Adik temanku mengidap skizofrenia, skizofrenia...</td>\n",
       "      <td>Skizofrenia</td>\n",
       "    </tr>\n",
       "    <tr>\n",
       "      <th>15</th>\n",
       "      <td>16</td>\n",
       "      <td>anak teman orang tuaku mengalami gangguan maka...</td>\n",
       "      <td>Gangguan makan</td>\n",
       "    </tr>\n",
       "    <tr>\n",
       "      <th>16</th>\n",
       "      <td>17</td>\n",
       "      <td>teman ayahku mengalami permasalahan gangguan p...</td>\n",
       "      <td>Gangguan pascatrauma</td>\n",
       "    </tr>\n",
       "    <tr>\n",
       "      <th>17</th>\n",
       "      <td>18</td>\n",
       "      <td>salah satu kawanku mengalami sulit fokus atau ...</td>\n",
       "      <td>ADHD</td>\n",
       "    </tr>\n",
       "    <tr>\n",
       "      <th>18</th>\n",
       "      <td>19</td>\n",
       "      <td>seorang wanita paruh baya pernah curhat kepada...</td>\n",
       "      <td>Depresi</td>\n",
       "    </tr>\n",
       "    <tr>\n",
       "      <th>19</th>\n",
       "      <td>20</td>\n",
       "      <td>kakaku temanku mengalami skizofrenia ringan, s...</td>\n",
       "      <td>Skizofrenia</td>\n",
       "    </tr>\n",
       "  </tbody>\n",
       "</table>\n",
       "</div>"
      ],
      "text/plain": [
       "    id                                   deskripsimasalah  \\\n",
       "0    1  aku memiliki teman yang pernah mengalami gangg...   \n",
       "1    2  salah satu saudara ku mengalami permasalahan g...   \n",
       "2    3  Dia kawanku yang sangat aktif dan sulit fokus....   \n",
       "3    4  seseorang pernah curhat kepada ku tentang ruma...   \n",
       "4    5  Penyebab pasti skizofrenia tidak diketahui, na...   \n",
       "5    6  sahabatku memiliki rekan kerja yang pernah men...   \n",
       "6    7  salah satu teman kakakku mengalami permasalaha...   \n",
       "7    8  Dia(laki-laki) kawanku yang sangat aktif dan s...   \n",
       "8    9  seorang kawan pernah curhat kepadaku tentang k...   \n",
       "9   10  skizofrenia penyakit yang unik, namun kombinas...   \n",
       "10  11  kawan lamaku memiliki teman rumah yang mengala...   \n",
       "11  12  salah satu teman kakakku mengalami permasalaha...   \n",
       "12  13  salah satu kawanku mengalami sulit fokus atau ...   \n",
       "13  14  seorang yang sudah berumur pernah curhat kepad...   \n",
       "14  15  Adik temanku mengidap skizofrenia, skizofrenia...   \n",
       "15  16  anak teman orang tuaku mengalami gangguan maka...   \n",
       "16  17  teman ayahku mengalami permasalahan gangguan p...   \n",
       "17  18  salah satu kawanku mengalami sulit fokus atau ...   \n",
       "18  19  seorang wanita paruh baya pernah curhat kepada...   \n",
       "19  20  kakaku temanku mengalami skizofrenia ringan, s...   \n",
       "\n",
       "                   kelas  \n",
       "0         Gangguan makan  \n",
       "1   Gangguan pascatrauma  \n",
       "2                   ADHD  \n",
       "3                Depresi  \n",
       "4            Skizofrenia  \n",
       "5         Gangguan makan  \n",
       "6   Gangguan pascatrauma  \n",
       "7                   ADHD  \n",
       "8                Depresi  \n",
       "9            Skizofrenia  \n",
       "10        Gangguan makan  \n",
       "11  Gangguan pascatrauma  \n",
       "12                  ADHD  \n",
       "13               Depresi  \n",
       "14           Skizofrenia  \n",
       "15        Gangguan makan  \n",
       "16  Gangguan pascatrauma  \n",
       "17                  ADHD  \n",
       "18               Depresi  \n",
       "19           Skizofrenia  "
      ]
     },
<<<<<<< HEAD
     "execution_count": 3,
=======
     "execution_count": 6,
>>>>>>> parent of cd40587 (wtf is this)
     "metadata": {},
     "output_type": "execute_result"
    }
   ],
   "source": [
    "file_content"
   ]
  },
  {
   "cell_type": "code",
<<<<<<< HEAD
   "execution_count": 4,
=======
   "execution_count": 7,
>>>>>>> parent of cd40587 (wtf is this)
   "metadata": {
    "colab": {
     "base_uri": "https://localhost:8080/"
    },
    "id": "PD8Wszwsq0N_",
    "outputId": "38d36570-6efa-4710-f155-7b9013538209"
   },
   "outputs": [
    {
     "name": "stdout",
     "output_type": "stream",
     "text": [
      "<class 'pandas.core.frame.DataFrame'>\n",
      "RangeIndex: 20 entries, 0 to 19\n",
      "Data columns (total 3 columns):\n",
      " #   Column            Non-Null Count  Dtype \n",
      "---  ------            --------------  ----- \n",
      " 0   id                20 non-null     int64 \n",
      " 1   deskripsimasalah  20 non-null     object\n",
      " 2   kelas             20 non-null     object\n",
      "dtypes: int64(1), object(2)\n",
      "memory usage: 608.0+ bytes\n"
     ]
    }
   ],
   "source": [
    "file_content.info()"
   ]
  },
  {
   "cell_type": "code",
<<<<<<< HEAD
   "execution_count": 5,
=======
   "execution_count": 8,
>>>>>>> parent of cd40587 (wtf is this)
   "metadata": {
    "id": "veaaE2J9c-zt"
   },
   "outputs": [],
   "source": [
    "del file_content['kelas']"
   ]
  },
  {
   "cell_type": "code",
<<<<<<< HEAD
   "execution_count": 6,
=======
   "execution_count": 9,
>>>>>>> parent of cd40587 (wtf is this)
   "metadata": {
    "colab": {
     "base_uri": "https://localhost:8080/"
    },
    "id": "O4nXmsUkq4_Y",
    "outputId": "13a77171-32b3-4a4f-f3ab-ea78707f544a"
   },
   "outputs": [
    {
     "name": "stdout",
     "output_type": "stream",
     "text": [
      "<class 'pandas.core.frame.DataFrame'>\n",
      "RangeIndex: 20 entries, 0 to 19\n",
      "Data columns (total 2 columns):\n",
      " #   Column            Non-Null Count  Dtype \n",
      "---  ------            --------------  ----- \n",
      " 0   id                20 non-null     int64 \n",
      " 1   deskripsimasalah  20 non-null     object\n",
      "dtypes: int64(1), object(1)\n",
      "memory usage: 448.0+ bytes\n"
     ]
    }
   ],
   "source": [
    "file_content.info()"
   ]
  },
  {
   "cell_type": "code",
<<<<<<< HEAD
   "execution_count": 7,
=======
   "execution_count": 10,
>>>>>>> parent of cd40587 (wtf is this)
   "metadata": {
    "id": "MHjhCL86q8k-"
   },
   "outputs": [
    {
     "data": {
      "text/plain": [
       "\"\\nKELAS = {\\n    'Gangguan pascatrauma':0,\\n    'Skizofrenia':1,\\n    'Depresi':2,\\n    'Gangguan makan':3,\\n    'ADHD':4\\n}\\nJUMLAH_KELAS = len(KELAS)\\n\""
      ]
     },
<<<<<<< HEAD
     "execution_count": 7,
=======
     "execution_count": 10,
>>>>>>> parent of cd40587 (wtf is this)
     "metadata": {},
     "output_type": "execute_result"
    }
   ],
   "source": [
    "\"\"\"\n",
    "KELAS = {\n",
    "    'Gangguan pascatrauma':0,\n",
    "    'Skizofrenia':1,\n",
    "    'Depresi':2,\n",
    "    'Gangguan makan':3,\n",
    "    'ADHD':4\n",
    "}\n",
    "JUMLAH_KELAS = len(KELAS)\n",
    "\"\"\""
   ]
  },
  {
   "cell_type": "code",
<<<<<<< HEAD
   "execution_count": 8,
=======
   "execution_count": 11,
>>>>>>> parent of cd40587 (wtf is this)
   "metadata": {
    "id": "BDCBy024rBXS"
   },
   "outputs": [
    {
     "data": {
      "text/plain": [
       "'\\nfrom tensorflow.keras.utils import to_categorical\\ndef encode_labels(sources):\\n    kelas = [KELAS[source] for source in sources ]\\n    one_hots = to_categorical(kelas, num_classes=JUMLAH_KELAS)\\n    return one_hot\\n'"
      ]
     },
<<<<<<< HEAD
     "execution_count": 8,
=======
     "execution_count": 11,
>>>>>>> parent of cd40587 (wtf is this)
     "metadata": {},
     "output_type": "execute_result"
    }
   ],
   "source": [
    "\"\"\"\n",
    "from tensorflow.keras.utils import to_categorical\n",
    "def encode_labels(sources):\n",
    "    kelas = [KELAS[source] for source in sources ]\n",
    "    one_hots = to_categorical(kelas, num_classes=JUMLAH_KELAS)\n",
    "    return one_hot\n",
    "\"\"\""
   ]
  },
  {
   "cell_type": "code",
<<<<<<< HEAD
   "execution_count": 9,
=======
   "execution_count": 12,
>>>>>>> parent of cd40587 (wtf is this)
   "metadata": {
    "colab": {
     "base_uri": "https://localhost:8080/"
    },
    "id": "fcYofdEhrFzE",
    "outputId": "8dcaa227-cdab-41ef-e9d6-485c6d82289e"
   },
   "outputs": [
    {
     "data": {
      "text/plain": [
       "'\\nencode_labels(file_content.kelas[:])\\n'"
      ]
     },
<<<<<<< HEAD
     "execution_count": 9,
=======
     "execution_count": 12,
>>>>>>> parent of cd40587 (wtf is this)
     "metadata": {},
     "output_type": "execute_result"
    }
   ],
   "source": [
    "\"\"\"\n",
    "encode_labels(file_content.kelas[:])\n",
    "\"\"\""
   ]
  },
  {
   "cell_type": "code",
<<<<<<< HEAD
   "execution_count": 10,
=======
   "execution_count": 15,
>>>>>>> parent of cd40587 (wtf is this)
   "metadata": {
    "id": "OHrzOJYVrf_T"
   },
   "outputs": [],
   "source": [
    "import tensorflow_hub as hub\n",
    "import tensorflow as tf\n",
    "hub_layer = hub.KerasLayer(\"nlm_50dim\", output_shape=[50],\n",
    "                           input_shape=[], dtype=tf.string)"
   ]
  },
  {
   "cell_type": "code",
<<<<<<< HEAD
   "execution_count": 11,
=======
   "execution_count": 16,
>>>>>>> parent of cd40587 (wtf is this)
   "metadata": {
    "id": "m4mcRZjXrjuD"
   },
   "outputs": [],
   "source": [
    "from tensorflow.keras.utils import to_categorical\n",
    "from keras.layers import Dense, Input, LSTM, Embedding, Dropout, Activation\n",
    "from keras.layers import Bidirectional, GlobalMaxPool1D, Conv1D, SimpleRNN\n",
    "from keras.models import Model\n",
    "from keras.models import Sequential\n",
    "from keras import initializers, regularizers, constraints, optimizers, layers\n",
    "from keras.layers import Dense, Input, Flatten, Dropout, BatchNormalization\n",
    "from keras.layers import Conv1D, MaxPooling1D, Embedding\n",
    "from keras.models import Sequential"
   ]
  },
  {
   "cell_type": "code",
<<<<<<< HEAD
   "execution_count": 12,
=======
   "execution_count": 17,
>>>>>>> parent of cd40587 (wtf is this)
   "metadata": {
    "id": "dlPWpDpbroRX"
   },
   "outputs": [],
   "source": [
    "def build_model(hub_module, name):\n",
    "    model = Sequential([\n",
    "    hub_module])\n",
    "    return model"
   ]
  },
  {
   "cell_type": "code",
<<<<<<< HEAD
   "execution_count": 13,
=======
   "execution_count": 18,
>>>>>>> parent of cd40587 (wtf is this)
   "metadata": {
    "id": "CBgbydtSr3Rq"
   },
   "outputs": [],
   "source": [
    "model_nlm_v1 = build_model(hub_layer, 'modelV1')"
   ]
  },
  {
   "cell_type": "code",
<<<<<<< HEAD
   "execution_count": 14,
   "metadata": {
    "scrolled": true
   },
=======
   "execution_count": 19,
   "metadata": {},
>>>>>>> parent of cd40587 (wtf is this)
   "outputs": [
    {
     "name": "stdout",
     "output_type": "stream",
     "text": [
      "INFO:tensorflow:Assets written to: saved_model/text_query_v1\\assets\n"
     ]
    }
   ],
   "source": [
    "tf.saved_model.save(model_nlm_v1, 'saved_model/text_query_v1')"
   ]
  },
  {
   "cell_type": "code",
<<<<<<< HEAD
   "execution_count": 16,
=======
   "execution_count": null,
>>>>>>> parent of cd40587 (wtf is this)
   "metadata": {
    "colab": {
     "base_uri": "https://localhost:8080/"
    },
    "id": "ZSvHIp-OsEBy",
    "outputId": "6a2b0cee-7408-4c50-a141-1d09913ee437"
   },
   "outputs": [],
   "source": [
    "predicted=model_nlm_v1.predict([\"anak teman orang tuaku mengalami gangguan makan. dia sulit sekali makan sayuran. aku memberitahu orang tuanya untuk mengganti sayuran dengan permen atau vitamin yang mengandung manfaat seperti sayuran\"])\n",
    "print(predicted)"
   ]
  },
  {
   "cell_type": "code",
   "execution_count": 12,
   "metadata": {
    "colab": {
     "base_uri": "https://localhost:8080/"
    },
    "id": "4EGyWC0ne4JP",
    "outputId": "7b8635b8-2944-488c-8e0a-d0a86e35d2b8"
   },
   "outputs": [],
   "source": [
    "\n",
    "import tensorflow_recommenders as tfrs"
   ]
  },
  {
   "cell_type": "code",
   "execution_count": 13,
   "metadata": {
    "id": "oJMnyAB-fkR_"
   },
   "outputs": [],
   "source": [
    "def df_to_dataset(dataframe, shuffle=True, batch_size=32):\n",
    "  dataframe = dataframe.copy()\n",
    "  ds = tf.data.Dataset.from_tensor_slices(dict(dataframe))\n",
    "  if shuffle:\n",
    "    ds = ds.shuffle(buffer_size=len(dataframe))\n",
    "  ds = ds.batch(batch_size)\n",
    "  return ds"
   ]
  },
  {
   "cell_type": "code",
   "execution_count": 14,
   "metadata": {
    "id": "eUioDLAiftUQ"
   },
   "outputs": [],
   "source": [
    "caregiver_ds = df_to_dataset(file_content) "
   ]
  },
  {
   "cell_type": "code",
   "execution_count": 15,
   "metadata": {},
   "outputs": [],
   "source": [
    "test_data = caregiver_ds.map(lambda features: (features['id'], model_nlm_v1(features['deskripsimasalah'])))"
   ]
  },
  {
   "cell_type": "code",
   "execution_count": 16,
   "metadata": {},
   "outputs": [],
   "source": [
    "test_data = list(test_data)\n"
   ]
  },
  {
   "cell_type": "code",
   "execution_count": 17,
   "metadata": {},
   "outputs": [
    {
     "name": "stdout",
     "output_type": "stream",
     "text": [
      "[(<tf.Tensor: shape=(20,), dtype=int64, numpy=\n",
      "array([ 7,  5, 17,  8,  3,  1, 15, 14, 11, 13, 12, 20, 10,  6,  4,  9,  2,\n",
      "       18, 19, 16], dtype=int64)>, <tf.Tensor: shape=(20, 50), dtype=float32, numpy=\n",
      "array([[ 2.13117555e-01, -2.04314560e-01,  3.30747277e-01,\n",
      "        -3.53182375e-01, -3.90620649e-01, -1.34103850e-01,\n",
      "         3.58353078e-01, -2.11284354e-01, -2.72355527e-01,\n",
      "        -2.06685111e-01, -1.49708703e-01,  4.10611629e-02,\n",
      "         7.31492117e-02,  2.73387134e-01, -3.34374636e-01,\n",
      "         4.67024110e-02,  2.19058603e-01,  3.03214729e-01,\n",
      "         2.72506714e-01,  4.01971042e-01,  2.16186240e-01,\n",
      "         6.72437727e-01,  5.60179316e-02,  8.73557925e-02,\n",
      "        -1.52206033e-01,  4.76439558e-02,  5.72133243e-01,\n",
      "         4.00785685e-01,  4.46836166e-02,  9.45744291e-02,\n",
      "        -1.58530414e-01, -4.85775590e-01,  3.22494477e-01,\n",
      "         2.36449152e-01,  2.35719576e-01, -3.05971086e-01,\n",
      "         1.09735310e-01, -3.65414202e-01,  6.38616681e-02,\n",
      "        -2.31405154e-01, -1.95910692e-01,  6.21963620e-01,\n",
      "        -6.30276144e-01,  7.97369897e-01, -2.89970160e-01,\n",
      "        -6.50950670e-01,  1.10080823e-01,  2.63409048e-01,\n",
      "         9.64812636e-02, -9.12685096e-02],\n",
      "       [ 2.09367707e-01,  8.40793643e-03,  2.01448217e-01,\n",
      "        -7.00186253e-01, -5.64455092e-01, -3.94575596e-02,\n",
      "         6.24828517e-01, -3.64553869e-01, -3.60190034e-01,\n",
      "        -1.75558046e-01, -1.21745214e-01, -1.87762260e-01,\n",
      "         6.92513362e-02,  7.09841028e-02, -3.57912987e-01,\n",
      "         4.34644490e-01,  6.21330082e-01,  2.61623144e-01,\n",
      "         3.76638323e-01,  2.28726014e-01,  4.31103557e-01,\n",
      "         8.81741464e-01,  4.29653749e-02,  1.39523849e-01,\n",
      "         1.02807507e-01,  1.28314957e-01,  4.82586622e-01,\n",
      "         3.08043629e-01,  4.01191860e-02, -7.98773468e-02,\n",
      "        -3.43650162e-01, -7.18818247e-01,  6.39508367e-01,\n",
      "         2.59750634e-01,  6.00454547e-02, -4.39310312e-01,\n",
      "        -2.54320383e-01, -3.32219481e-01,  2.85034180e-01,\n",
      "        -3.35269600e-01, -5.22130668e-01,  8.26651394e-01,\n",
      "        -1.00156486e+00,  1.08060992e+00, -4.63223308e-01,\n",
      "        -6.84686780e-01,  1.22241482e-01,  1.42201245e-01,\n",
      "         3.12292695e-01,  1.94100842e-01],\n",
      "       [ 2.04894647e-01, -2.62956381e-01,  4.26030159e-01,\n",
      "        -2.71245033e-01, -4.58635807e-01, -8.97173956e-02,\n",
      "         4.01720941e-01, -2.08595246e-01, -1.66570783e-01,\n",
      "        -2.36977682e-01, -1.68121472e-01,  8.10173973e-02,\n",
      "         1.07231073e-01,  2.77002245e-01, -3.54491055e-01,\n",
      "        -1.05657049e-01,  2.37440407e-01,  3.71501595e-01,\n",
      "         2.04665497e-01,  4.39692825e-01,  2.19027907e-01,\n",
      "         6.96462393e-01,  2.03400962e-02,  1.22312419e-01,\n",
      "        -1.75006166e-01,  2.49655265e-02,  6.08740687e-01,\n",
      "         4.18987453e-01, -2.58958433e-02,  8.19132179e-02,\n",
      "        -1.05194323e-01, -4.27181393e-01,  3.76340777e-01,\n",
      "         2.32563943e-01,  2.42123157e-01, -3.80268276e-01,\n",
      "         2.16850638e-01, -3.35686475e-01,  6.47624582e-02,\n",
      "        -2.00877205e-01, -3.02744210e-01,  5.44726789e-01,\n",
      "        -5.27472556e-01,  7.99055338e-01, -2.76303291e-01,\n",
      "        -6.18291080e-01,  5.44982068e-02,  1.67371303e-01,\n",
      "         1.08285792e-01, -5.02327010e-02],\n",
      "       [ 1.35283932e-01, -5.47666661e-02,  6.00685887e-02,\n",
      "        -4.08337504e-01, -5.28890789e-01, -2.42844418e-01,\n",
      "         4.97859806e-01, -4.38787073e-01, -3.52988720e-01,\n",
      "        -1.05168886e-01, -5.35080843e-02,  3.09131354e-01,\n",
      "        -2.45472118e-01,  1.80923939e-01, -2.56750911e-01,\n",
      "         4.02041465e-01,  3.51305455e-01,  1.94273785e-01,\n",
      "         3.22662264e-01,  1.93446591e-01,  4.57235008e-01,\n",
      "         8.07601929e-01,  2.27217865e-03,  1.40518785e-01,\n",
      "         9.92548540e-02,  2.20002279e-01,  5.08517444e-01,\n",
      "         3.38951200e-01, -8.03600177e-02, -6.68906569e-02,\n",
      "        -2.10052714e-01, -5.45981228e-01,  3.69063735e-01,\n",
      "        -6.07457347e-02,  2.49824584e-01, -1.42840102e-01,\n",
      "         5.20904502e-03, -4.81525898e-01,  8.80251899e-02,\n",
      "        -1.41122833e-01, -3.03822428e-01,  7.23843098e-01,\n",
      "        -7.29029715e-01,  8.61646175e-01, -3.53975654e-01,\n",
      "        -7.96732664e-01,  1.30399629e-01,  2.35519290e-01,\n",
      "         2.88380712e-01,  1.46832302e-01],\n",
      "       [ 1.69849798e-01, -2.25251660e-01,  6.79381043e-02,\n",
      "        -6.62045360e-01, -4.99749064e-01, -1.65166318e-01,\n",
      "         3.30779701e-01, -4.69300032e-01, -4.36831802e-01,\n",
      "        -9.41155851e-02,  1.48927765e-02,  1.99561581e-01,\n",
      "        -3.04209948e-01,  1.91896275e-01, -1.89827755e-01,\n",
      "         4.46374893e-01,  3.64264727e-01,  1.28776208e-01,\n",
      "         4.95756090e-01,  3.09843212e-01,  4.83471155e-01,\n",
      "         8.40164006e-01,  6.19801274e-03,  1.63695931e-01,\n",
      "         2.73928009e-02,  3.04805428e-01,  5.21798432e-01,\n",
      "         2.74362057e-01, -1.10468090e-01, -2.06526630e-02,\n",
      "        -8.95668715e-02, -6.07940972e-01,  4.50777709e-01,\n",
      "         8.61748829e-02,  2.65547812e-01, -1.49896085e-01,\n",
      "         9.73622594e-03, -8.67897332e-01, -3.50087062e-02,\n",
      "        -7.10475668e-02, -3.54428738e-01,  8.16128314e-01,\n",
      "        -1.05115891e+00,  1.02419674e+00, -4.23114657e-01,\n",
      "        -8.00310194e-01,  1.46417409e-01,  8.25432688e-02,\n",
      "         3.62472653e-01,  2.32967556e-01],\n",
      "       [ 7.39885643e-02,  9.68184788e-03, -7.85310864e-02,\n",
      "        -6.69354379e-01, -2.44461507e-01, -1.43269941e-01,\n",
      "         5.52188694e-01, -3.75250459e-01, -3.00792724e-01,\n",
      "        -2.72567958e-01, -1.95146635e-01, -9.78778228e-02,\n",
      "        -1.43464938e-01,  3.07747662e-01, -4.32491481e-01,\n",
      "         5.18799648e-02,  4.01258737e-01,  4.09702271e-01,\n",
      "         5.12406707e-01,  9.88982618e-02,  4.18343604e-01,\n",
      "         4.16971713e-01, -1.19327188e-01, -1.66409686e-02,\n",
      "        -1.58513904e-01,  2.04610258e-01,  7.08055258e-01,\n",
      "         3.77112836e-01,  1.22399658e-01, -9.35944840e-02,\n",
      "        -2.00452313e-01, -2.63514727e-01,  2.89613396e-01,\n",
      "         2.30295748e-01,  6.91165403e-02, -2.90623963e-01,\n",
      "         1.89484045e-01, -4.26765084e-01,  7.51224160e-02,\n",
      "        -2.19560087e-01, -8.66915062e-02,  7.64159739e-01,\n",
      "        -8.14445317e-01,  9.78756368e-01, -2.53067434e-01,\n",
      "        -6.11942053e-01, -2.17159927e-01,  2.66043663e-01,\n",
      "         2.64014781e-01,  3.28616858e-01],\n",
      "       [ 2.18353495e-01, -6.96027949e-02,  7.61946887e-02,\n",
      "        -4.05344039e-01, -5.67475796e-01,  4.13001999e-02,\n",
      "         5.82692504e-01, -1.47004768e-01, -2.04577625e-01,\n",
      "        -1.19966775e-01, -4.99859303e-02, -2.36254826e-01,\n",
      "         1.80152699e-01,  3.03670496e-01, -3.40484858e-01,\n",
      "         4.85387862e-01,  6.14327610e-01,  2.71843314e-01,\n",
      "         3.08226556e-01,  5.18223457e-02,  2.50660807e-01,\n",
      "         7.06315339e-01, -4.02366780e-02,  5.37524372e-02,\n",
      "         4.59871031e-02, -9.72015709e-02,  3.66640300e-01,\n",
      "         1.27990127e-01,  8.88078008e-03, -2.33039148e-02,\n",
      "        -3.31711859e-01, -4.96683985e-01,  7.60036767e-01,\n",
      "        -2.75534205e-02,  2.02985138e-01, -3.25053602e-01,\n",
      "        -2.26438686e-01, -5.96821755e-02,  1.95428640e-01,\n",
      "        -4.60730284e-01, -4.36614901e-01,  8.83266270e-01,\n",
      "        -7.27840960e-01,  9.01131034e-01, -3.90266269e-01,\n",
      "        -5.12777090e-01,  1.82363354e-02,  1.64735898e-01,\n",
      "         3.63755792e-01,  2.15217039e-01],\n",
      "       [ 2.37879187e-01, -1.91240743e-01,  2.51725435e-01,\n",
      "        -4.27928954e-01, -3.88700813e-01, -2.25637212e-01,\n",
      "         4.43085790e-01, -3.53719026e-01, -3.12319070e-01,\n",
      "        -8.93776789e-02,  1.99325502e-01,  1.25683933e-01,\n",
      "         1.24558203e-01,  2.04972997e-01, -1.72049746e-01,\n",
      "         1.14048935e-01,  5.76818168e-01,  4.07988548e-01,\n",
      "         4.70249504e-01, -8.00018534e-02,  2.59196669e-01,\n",
      "         6.51257455e-01, -8.39851215e-04,  1.49850368e-01,\n",
      "         2.34345376e-01,  2.50777960e-01,  6.16632223e-01,\n",
      "         3.31675857e-01,  1.41336471e-01, -1.01287156e-01,\n",
      "        -1.74066380e-01, -4.48614001e-01,  3.92504901e-01,\n",
      "         3.14338982e-01,  2.71118820e-01,  3.48889455e-02,\n",
      "         2.01343745e-02, -3.31207424e-01,  8.16888735e-02,\n",
      "        -3.46406043e-01, -2.58480132e-01,  6.48326874e-01,\n",
      "        -7.54515946e-01,  9.22987163e-01, -4.20619667e-01,\n",
      "        -7.43238032e-01,  6.66852742e-02,  1.25852779e-01,\n",
      "         4.85980213e-01,  3.03012449e-02],\n",
      "       [ 3.94690000e-02, -2.85634715e-02,  1.68624539e-02,\n",
      "        -7.12281346e-01, -4.39623743e-01, -1.09587967e-01,\n",
      "         6.11561358e-01, -3.21079791e-01, -1.29479840e-01,\n",
      "        -4.61077750e-01, -2.01422706e-01, -3.68320122e-02,\n",
      "         5.88528055e-04,  2.25526899e-01, -5.00302017e-01,\n",
      "         5.21807335e-02,  3.30814630e-01,  5.34901857e-01,\n",
      "         6.38252139e-01,  1.84513196e-01,  3.74156803e-01,\n",
      "         5.86614966e-01, -1.25625012e-02,  1.02324050e-03,\n",
      "        -1.14245608e-01,  4.83789109e-02,  5.97922623e-01,\n",
      "         2.79398322e-01,  5.89170419e-02,  1.93727128e-02,\n",
      "        -1.19039588e-01, -3.61441523e-01,  3.85212034e-01,\n",
      "         2.15609431e-01,  1.34884089e-01, -2.62860447e-01,\n",
      "         1.08948918e-02, -6.70452178e-01,  1.70064643e-01,\n",
      "        -1.72987357e-01, -2.39612132e-01,  7.03413785e-01,\n",
      "        -8.40218544e-01,  1.01392531e+00, -2.07278907e-01,\n",
      "        -6.39729857e-01, -2.39153266e-01,  2.68990397e-01,\n",
      "         3.19937348e-01,  2.10174114e-01],\n",
      "       [ 2.15726614e-01, -1.13293707e-01,  8.88335556e-02,\n",
      "        -5.35169542e-01, -3.91336709e-01, -1.45493433e-01,\n",
      "         4.50065076e-01, -2.47586146e-01, -2.14634597e-01,\n",
      "        -2.40775645e-02, -1.27952486e-01,  2.10521668e-02,\n",
      "        -1.73283577e-01,  1.53181762e-01, -7.79631361e-02,\n",
      "         3.74068677e-01,  4.01112378e-01,  1.83012605e-01,\n",
      "         2.65026093e-01,  3.11771512e-01,  1.97477683e-01,\n",
      "         5.12139559e-01,  1.91393718e-01,  1.40956242e-03,\n",
      "         2.03756858e-02,  2.21766531e-01,  3.24487925e-01,\n",
      "         3.34398299e-01,  3.14401835e-02, -5.87062985e-02,\n",
      "        -1.63969934e-01, -4.67735142e-01,  1.53361216e-01,\n",
      "        -2.83187767e-03,  1.12549730e-01, -2.88675874e-01,\n",
      "        -5.88699169e-02, -4.58391905e-01, -4.66463231e-02,\n",
      "        -1.97545096e-01, -3.22586864e-01,  5.37578762e-01,\n",
      "        -6.07252479e-01,  8.33132446e-01, -2.05588594e-01,\n",
      "        -6.66895688e-01,  6.81342110e-02,  1.82021454e-01,\n",
      "         3.75760764e-01, -7.49077797e-02],\n",
      "       [ 2.13117555e-01, -2.04314560e-01,  3.30747277e-01,\n",
      "        -3.53182375e-01, -3.90620649e-01, -1.34103850e-01,\n",
      "         3.58353078e-01, -2.11284354e-01, -2.72355527e-01,\n",
      "        -2.06685111e-01, -1.49708703e-01,  4.10611629e-02,\n",
      "         7.31492117e-02,  2.73387134e-01, -3.34374636e-01,\n",
      "         4.67024110e-02,  2.19058603e-01,  3.03214729e-01,\n",
      "         2.72506714e-01,  4.01971042e-01,  2.16186240e-01,\n",
      "         6.72437727e-01,  5.60179316e-02,  8.73557925e-02,\n",
      "        -1.52206033e-01,  4.76439558e-02,  5.72133243e-01,\n",
      "         4.00785685e-01,  4.46836166e-02,  9.45744291e-02,\n",
      "        -1.58530414e-01, -4.85775590e-01,  3.22494477e-01,\n",
      "         2.36449152e-01,  2.35719576e-01, -3.05971086e-01,\n",
      "         1.09735310e-01, -3.65414202e-01,  6.38616681e-02,\n",
      "        -2.31405154e-01, -1.95910692e-01,  6.21963620e-01,\n",
      "        -6.30276144e-01,  7.97369897e-01, -2.89970160e-01,\n",
      "        -6.50950670e-01,  1.10080823e-01,  2.63409048e-01,\n",
      "         9.64812636e-02, -9.12685096e-02],\n",
      "       [ 2.65128016e-01,  2.78250314e-02, -1.24219067e-01,\n",
      "        -3.78007054e-01, -4.00767207e-01, -2.49761641e-01,\n",
      "         4.15636152e-01, -1.13657750e-01, -2.29621995e-02,\n",
      "         3.48370336e-02, -8.09419602e-02, -1.62184596e-01,\n",
      "        -1.82531640e-01,  4.00591522e-01, -3.61286521e-01,\n",
      "         2.27082729e-01,  6.69890285e-01,  3.21456492e-01,\n",
      "         5.49210981e-02,  5.52106984e-02,  1.89366326e-01,\n",
      "         4.17761356e-01, -1.19594224e-01,  2.40927294e-01,\n",
      "        -1.53335288e-01, -1.54091820e-01,  5.34765065e-01,\n",
      "        -2.00732294e-02, -1.05210375e-02, -9.01568756e-02,\n",
      "        -9.92677137e-02, -3.72859240e-01,  4.40251023e-01,\n",
      "        -2.01533079e-01,  2.39808947e-01, -1.24137536e-01,\n",
      "         1.90277606e-01, -1.57201782e-01,  3.77296954e-02,\n",
      "        -2.85206288e-01, -3.65962535e-01,  6.48596585e-01,\n",
      "        -7.50703156e-01,  8.66633594e-01, -4.93176073e-01,\n",
      "        -7.29143143e-01, -6.69758692e-02,  2.07390144e-01,\n",
      "         3.98029059e-01,  5.99668249e-02],\n",
      "       [ 1.02346092e-01,  6.26519695e-02,  1.89057410e-01,\n",
      "        -5.80689371e-01, -4.48147982e-01,  6.07925095e-02,\n",
      "         3.16673517e-01, -1.75397232e-01, -3.63855988e-01,\n",
      "        -1.11679494e-01, -8.37509558e-02, -2.09740587e-02,\n",
      "         1.33011535e-01,  9.13597196e-02, -5.45989513e-01,\n",
      "         3.67971480e-01,  5.47657967e-01,  2.46468544e-01,\n",
      "         3.23775619e-01,  6.60687089e-02,  3.17207366e-01,\n",
      "         7.84891903e-01,  1.31773546e-01,  4.21636924e-02,\n",
      "        -5.68308793e-02,  6.63612261e-02,  4.02884215e-01,\n",
      "         9.32897106e-02, -1.23494156e-02, -1.10569768e-01,\n",
      "        -2.22973660e-01, -6.96222961e-01,  6.77741170e-01,\n",
      "         1.27141684e-01,  6.52269572e-02, -3.31991971e-01,\n",
      "        -3.30270588e-01, -9.44108441e-02,  3.75138164e-01,\n",
      "        -4.22154635e-01, -4.20231849e-01,  7.25545287e-01,\n",
      "        -9.35856104e-01,  1.05067086e+00, -3.74540955e-01,\n",
      "        -6.31145358e-01, -1.28650457e-01,  1.85963809e-01,\n",
      "         3.32883745e-01,  2.19224110e-01],\n",
      "       [ 4.53068949e-02, -2.73898011e-03, -7.77170286e-02,\n",
      "        -6.21784508e-01, -3.28756630e-01, -5.61052151e-02,\n",
      "         6.31223142e-01, -3.63017589e-01, -1.73314750e-01,\n",
      "        -2.87645727e-01, -1.99861601e-01,  5.11486381e-02,\n",
      "        -1.00241795e-01,  2.97341347e-01, -4.65451956e-01,\n",
      "         9.69257727e-02,  3.87187093e-01,  4.63634580e-01,\n",
      "         6.36497140e-01,  1.79445520e-01,  4.35440451e-01,\n",
      "         4.78992790e-01, -4.97232191e-02, -5.47438953e-03,\n",
      "        -7.65057057e-02,  1.08134530e-01,  6.96569562e-01,\n",
      "         3.43798965e-01,  7.32559664e-03,  4.68294732e-02,\n",
      "        -1.23853482e-01, -2.81411678e-01,  2.58348495e-01,\n",
      "         7.88133964e-02,  2.60632604e-01, -2.61498302e-01,\n",
      "         1.24482282e-01, -5.39611995e-01,  1.27670795e-01,\n",
      "        -1.23945169e-01, -8.95409510e-02,  7.09097564e-01,\n",
      "        -7.77056277e-01,  1.04076302e+00, -1.88684061e-01,\n",
      "        -6.36285186e-01, -2.60453641e-01,  2.84242153e-01,\n",
      "         3.83072525e-01,  3.22309285e-01],\n",
      "       [ 2.90607899e-01, -2.39825696e-01,  7.14196637e-02,\n",
      "        -5.53834736e-01, -5.05505383e-01, -3.27800870e-01,\n",
      "         5.42303801e-01, -3.43756616e-01, -1.98793888e-01,\n",
      "         2.13510197e-04,  1.40514627e-01, -7.41700921e-03,\n",
      "        -4.11648840e-01,  1.98285997e-01, -2.15516359e-01,\n",
      "         1.57018632e-01,  5.55527925e-01,  2.63591498e-01,\n",
      "         4.49435741e-01,  8.20177794e-02,  6.14676833e-01,\n",
      "         7.04970837e-01, -1.68043151e-01,  3.00665736e-01,\n",
      "         1.25280440e-01, -7.20314533e-02,  7.26439595e-01,\n",
      "         1.47825539e-01, -1.48218080e-01, -8.60344544e-02,\n",
      "        -2.38624036e-01, -4.37757701e-01,  3.93935561e-01,\n",
      "         2.20342413e-01,  2.51464427e-01, -1.52737284e-02,\n",
      "         2.38625810e-01, -6.64952636e-01,  6.19214363e-02,\n",
      "        -1.87213898e-01, -2.86593258e-01,  9.53370869e-01,\n",
      "        -1.14433122e+00,  9.08389986e-01, -5.65909147e-01,\n",
      "        -1.15290320e+00,  5.90061508e-02,  1.63819209e-01,\n",
      "         4.01705563e-01,  6.18178695e-02],\n",
      "       [ 3.37855428e-01, -2.56430387e-01,  8.51203427e-02,\n",
      "        -4.65965569e-01, -4.92214054e-01, -2.79989958e-01,\n",
      "         5.71134210e-01, -3.56185287e-01, -1.70214102e-01,\n",
      "         1.67012133e-03,  1.24882773e-01, -2.63197236e-02,\n",
      "        -3.86823773e-01,  2.44467750e-01, -1.63926065e-01,\n",
      "         1.99257448e-01,  5.26630223e-01,  3.09313118e-01,\n",
      "         4.22780186e-01,  3.45143341e-02,  4.59166288e-01,\n",
      "         7.94095159e-01, -1.67876959e-01,  2.93487668e-01,\n",
      "         1.24163546e-01, -3.35699543e-02,  6.68111444e-01,\n",
      "         2.20356852e-01, -7.66165853e-02, -9.33436900e-02,\n",
      "        -1.83213115e-01, -3.70012909e-01,  4.17553008e-01,\n",
      "         2.15501979e-01,  2.58290708e-01,  7.36802467e-04,\n",
      "         2.53837287e-01, -5.67665040e-01,  1.19069979e-01,\n",
      "        -2.32970253e-01, -2.72653639e-01,  8.29082191e-01,\n",
      "        -1.05928552e+00,  9.05140042e-01, -6.02110028e-01,\n",
      "        -1.17361236e+00,  7.78918266e-02,  2.04646394e-01,\n",
      "         4.22665805e-01,  3.73565629e-02],\n",
      "       [ 1.83282897e-01, -2.50394404e-01,  1.62438318e-01,\n",
      "        -3.40122491e-01, -3.66716802e-01, -9.48611200e-02,\n",
      "         2.76551783e-01, -2.82147616e-01, -5.35441339e-01,\n",
      "        -2.09103718e-01, -1.19760819e-01,  1.57922730e-01,\n",
      "         8.94884318e-02,  3.45873892e-01, -2.30985209e-01,\n",
      "         1.91550359e-01,  2.24874526e-01,  1.75583750e-01,\n",
      "         9.37555507e-02,  4.89344984e-01,  3.19881469e-01,\n",
      "         5.13001442e-01,  1.42268926e-01,  9.59311947e-02,\n",
      "        -4.09888253e-02,  1.33395672e-01,  5.52550197e-01,\n",
      "         4.31238979e-01, -6.30759969e-02,  1.45304129e-01,\n",
      "        -1.92475632e-01, -5.05862832e-01,  3.63365203e-01,\n",
      "         2.22778559e-01,  1.84995130e-01, -2.71723598e-01,\n",
      "         4.60153036e-02, -5.55471778e-01,  9.75429788e-02,\n",
      "        -2.27124795e-01, -2.20029265e-01,  7.07655966e-01,\n",
      "        -5.73183179e-01,  7.51256526e-01, -2.06162140e-01,\n",
      "        -5.94415188e-01,  7.51663223e-02,  1.62959591e-01,\n",
      "         1.52941868e-01,  2.35750731e-02],\n",
      "       [ 2.15726614e-01, -1.13293707e-01,  8.88335556e-02,\n",
      "        -5.35169542e-01, -3.91336709e-01, -1.45493433e-01,\n",
      "         4.50065076e-01, -2.47586146e-01, -2.14634597e-01,\n",
      "        -2.40775645e-02, -1.27952486e-01,  2.10521668e-02,\n",
      "        -1.73283577e-01,  1.53181762e-01, -7.79631361e-02,\n",
      "         3.74068677e-01,  4.01112378e-01,  1.83012605e-01,\n",
      "         2.65026093e-01,  3.11771512e-01,  1.97477683e-01,\n",
      "         5.12139559e-01,  1.91393718e-01,  1.40956242e-03,\n",
      "         2.03756858e-02,  2.21766531e-01,  3.24487925e-01,\n",
      "         3.34398299e-01,  3.14401835e-02, -5.87062985e-02,\n",
      "        -1.63969934e-01, -4.67735142e-01,  1.53361216e-01,\n",
      "        -2.83187767e-03,  1.12549730e-01, -2.88675874e-01,\n",
      "        -5.88699169e-02, -4.58391905e-01, -4.66463231e-02,\n",
      "        -1.97545096e-01, -3.22586864e-01,  5.37578762e-01,\n",
      "        -6.07252479e-01,  8.33132446e-01, -2.05588594e-01,\n",
      "        -6.66895688e-01,  6.81342110e-02,  1.82021454e-01,\n",
      "         3.75760764e-01, -7.49077797e-02],\n",
      "       [ 2.42507666e-01, -2.86031365e-01,  2.68802226e-01,\n",
      "        -3.70180517e-01, -4.35849667e-01, -2.11805865e-01,\n",
      "         4.95468855e-01, -4.71702933e-01, -3.63583177e-01,\n",
      "         8.72231275e-02,  2.37315401e-01,  8.79746005e-02,\n",
      "         9.39115509e-02,  2.35368431e-01, -1.71852589e-01,\n",
      "         1.58946142e-01,  7.07974255e-01,  4.55449730e-01,\n",
      "         4.09295291e-01, -2.20986754e-02,  2.58071005e-01,\n",
      "         6.11255467e-01,  8.35842863e-02,  1.63135529e-01,\n",
      "         4.27225418e-02,  6.19631186e-02,  5.75094283e-01,\n",
      "         3.36224616e-01,  1.50229871e-01, -2.45713014e-02,\n",
      "        -1.11510776e-01, -3.96366566e-01,  3.46499652e-01,\n",
      "         2.63160080e-01,  2.10083932e-01,  6.35610372e-02,\n",
      "         7.82049149e-02, -3.97486657e-01,  1.19346246e-01,\n",
      "        -3.89337242e-01, -1.15331940e-01,  7.45790124e-01,\n",
      "        -7.16347396e-01,  1.02871609e+00, -3.27252805e-01,\n",
      "        -6.88109040e-01,  1.71245243e-02,  1.58292875e-01,\n",
      "         6.64706588e-01,  1.87537462e-01],\n",
      "       [-2.84827530e-01,  4.05606702e-02, -6.75484678e-03,\n",
      "        -4.05097187e-01, -3.06138039e-01, -1.34871006e-01,\n",
      "         2.70096958e-01, -4.36006263e-02, -3.20615083e-01,\n",
      "        -1.08626373e-01, -1.27966419e-01, -2.96075106e-01,\n",
      "         7.43045285e-02,  3.91014159e-01, -2.75268704e-01,\n",
      "         5.82000911e-02,  3.58886570e-01,  6.69855356e-01,\n",
      "         4.71197337e-01, -1.67070135e-01,  3.50387007e-01,\n",
      "         2.48490453e-01, -5.07888235e-02, -2.63873134e-02,\n",
      "        -1.55687034e-01, -4.94410135e-02,  4.50372279e-01,\n",
      "         1.67927787e-01,  2.42864385e-01, -3.98483761e-02,\n",
      "        -3.57024111e-02,  1.06726542e-01,  3.82321030e-01,\n",
      "         6.16971217e-02,  1.32210283e-02,  8.93973261e-02,\n",
      "         1.82335958e-01, -9.82351080e-02,  3.52491945e-01,\n",
      "        -4.72044498e-01,  1.88487679e-01,  5.72563648e-01,\n",
      "        -4.95976567e-01,  4.79041308e-01, -1.67455152e-01,\n",
      "        -4.15993482e-01, -3.24539632e-01,  1.14182077e-01,\n",
      "         5.00226438e-01,  2.21089169e-01]], dtype=float32)>)]\n"
     ]
    }
   ],
   "source": [
    "print(test_data)"
   ]
  },
  {
   "cell_type": "code",
   "execution_count": 18,
   "metadata": {
    "colab": {
     "base_uri": "https://localhost:8080/"
    },
    "id": "OzRNL7nAfIUa",
    "outputId": "0c55c85c-3509-4a04-bf4d-e035cfdb8d3c"
   },
   "outputs": [
    {
     "ename": "NameError",
     "evalue": "name 'model' is not defined",
     "output_type": "error",
     "traceback": [
      "\u001b[1;31m---------------------------------------------------------------------------\u001b[0m",
      "\u001b[1;31mNameError\u001b[0m                                 Traceback (most recent call last)",
      "Input \u001b[1;32mIn [18]\u001b[0m, in \u001b[0;36m<cell line: 1>\u001b[1;34m()\u001b[0m\n\u001b[1;32m----> 1\u001b[0m scann  \u001b[38;5;241m=\u001b[39m tfrs\u001b[38;5;241m.\u001b[39mlayers\u001b[38;5;241m.\u001b[39mfactorized_top_k\u001b[38;5;241m.\u001b[39mBruteForce(\u001b[43mmodel\u001b[49m)\n\u001b[0;32m      2\u001b[0m scann\u001b[38;5;241m.\u001b[39mindex_from_dataset(  \n\u001b[0;32m      3\u001b[0m        test_data\n\u001b[0;32m      4\u001b[0m )\n",
      "\u001b[1;31mNameError\u001b[0m: name 'model' is not defined"
     ]
    }
   ],
   "source": [
    "brute_force = tfrs.layers.factorized_top_k.BruteForce(model)\n",
    "brute_force.index_from_dataset(  \n",
    "       test_data\n",
    ")\n",
    "\n"
   ]
  },
  {
   "cell_type": "code",
   "execution_count": null,
   "metadata": {
    "colab": {
     "base_uri": "https://localhost:8080/"
    },
    "id": "m8sqZgqEghsD",
    "outputId": "3c8c2d5d-a4aa-4d99-d29c-5dcc2c5a4011"
   },
   "outputs": [],
   "source": [
    "import numpy as np\n",
    "a, titles = brute_force(np.array([\"anak teman orang tuaku mengalami gangguan makan. dia sulit sekali makan sayuran. aku memberitahu orang tuanya untuk mengganti sayuran dengan permen atau vitamin yang mengandung manfaat seperti sayuran\"]), k=10)\n",
    "print(f\"Top recommendations: {titles[0]}\")"
   ]
  },
  {
   "cell_type": "code",
   "execution_count": 28,
   "metadata": {
    "colab": {
     "base_uri": "https://localhost:8080/"
    },
    "id": "lSagLQTUuTJ3",
    "outputId": "306f4401-c53a-44b1-9958-100d90aced2b"
   },
   "outputs": [
    {
     "name": "stdout",
     "output_type": "stream",
     "text": [
      "WARNING:tensorflow:Compiled the loaded model, but the compiled metrics have yet to be built. `model.compile_metrics` will be empty until you train or evaluate the model.\n",
      "INFO:tensorflow:Assets written to: saved_model/text_query_v1\\assets\n"
     ]
    }
   ],
   "source": [
    "# Save the entire model as a SavedModel.\n",
    "#!mkdir -p saved_model\n",
    "model_nlm_v1.save('saved_model/text_query_v1')"
   ]
  },
  {
   "cell_type": "code",
   "execution_count": 22,
   "metadata": {
    "colab": {
     "base_uri": "https://localhost:8080/"
    },
    "id": "n9r8jfj0up1L",
    "outputId": "5e4274ea-3e0c-4557-970f-f6ca53f96141"
   },
   "outputs": [
    {
     "ename": "OSError",
     "evalue": "No file or directory found at saved_model/my_model",
     "output_type": "error",
     "traceback": [
      "\u001b[1;31m---------------------------------------------------------------------------\u001b[0m",
      "\u001b[1;31mOSError\u001b[0m                                   Traceback (most recent call last)",
      "Input \u001b[1;32mIn [22]\u001b[0m, in \u001b[0;36m<cell line: 1>\u001b[1;34m()\u001b[0m\n\u001b[1;32m----> 1\u001b[0m new_model \u001b[38;5;241m=\u001b[39m \u001b[43mtf\u001b[49m\u001b[38;5;241;43m.\u001b[39;49m\u001b[43mkeras\u001b[49m\u001b[38;5;241;43m.\u001b[39;49m\u001b[43mmodels\u001b[49m\u001b[38;5;241;43m.\u001b[39;49m\u001b[43mload_model\u001b[49m\u001b[43m(\u001b[49m\u001b[38;5;124;43m'\u001b[39;49m\u001b[38;5;124;43msaved_model/my_model\u001b[39;49m\u001b[38;5;124;43m'\u001b[39;49m\u001b[43m)\u001b[49m\n\u001b[0;32m      3\u001b[0m \u001b[38;5;66;03m# Check its architecture\u001b[39;00m\n\u001b[0;32m      4\u001b[0m new_model\u001b[38;5;241m.\u001b[39msummary()\n",
      "File \u001b[1;32m~\\anaconda3\\envs\\notebook\\lib\\site-packages\\keras\\utils\\traceback_utils.py:67\u001b[0m, in \u001b[0;36mfilter_traceback.<locals>.error_handler\u001b[1;34m(*args, **kwargs)\u001b[0m\n\u001b[0;32m     65\u001b[0m \u001b[38;5;28;01mexcept\u001b[39;00m \u001b[38;5;167;01mException\u001b[39;00m \u001b[38;5;28;01mas\u001b[39;00m e:  \u001b[38;5;66;03m# pylint: disable=broad-except\u001b[39;00m\n\u001b[0;32m     66\u001b[0m   filtered_tb \u001b[38;5;241m=\u001b[39m _process_traceback_frames(e\u001b[38;5;241m.\u001b[39m__traceback__)\n\u001b[1;32m---> 67\u001b[0m   \u001b[38;5;28;01mraise\u001b[39;00m e\u001b[38;5;241m.\u001b[39mwith_traceback(filtered_tb) \u001b[38;5;28;01mfrom\u001b[39;00m \u001b[38;5;28mNone\u001b[39m\n\u001b[0;32m     68\u001b[0m \u001b[38;5;28;01mfinally\u001b[39;00m:\n\u001b[0;32m     69\u001b[0m   \u001b[38;5;28;01mdel\u001b[39;00m filtered_tb\n",
      "File \u001b[1;32m~\\anaconda3\\envs\\notebook\\lib\\site-packages\\keras\\saving\\save.py:204\u001b[0m, in \u001b[0;36mload_model\u001b[1;34m(filepath, custom_objects, compile, options)\u001b[0m\n\u001b[0;32m    202\u001b[0m \u001b[38;5;28;01mif\u001b[39;00m \u001b[38;5;28misinstance\u001b[39m(filepath_str, \u001b[38;5;28mstr\u001b[39m):\n\u001b[0;32m    203\u001b[0m   \u001b[38;5;28;01mif\u001b[39;00m \u001b[38;5;129;01mnot\u001b[39;00m tf\u001b[38;5;241m.\u001b[39mio\u001b[38;5;241m.\u001b[39mgfile\u001b[38;5;241m.\u001b[39mexists(filepath_str):\n\u001b[1;32m--> 204\u001b[0m     \u001b[38;5;28;01mraise\u001b[39;00m \u001b[38;5;167;01mIOError\u001b[39;00m(\u001b[38;5;124mf\u001b[39m\u001b[38;5;124m'\u001b[39m\u001b[38;5;124mNo file or directory found at \u001b[39m\u001b[38;5;132;01m{\u001b[39;00mfilepath_str\u001b[38;5;132;01m}\u001b[39;00m\u001b[38;5;124m'\u001b[39m)\n\u001b[0;32m    206\u001b[0m   \u001b[38;5;28;01mif\u001b[39;00m tf\u001b[38;5;241m.\u001b[39mio\u001b[38;5;241m.\u001b[39mgfile\u001b[38;5;241m.\u001b[39misdir(filepath_str):\n\u001b[0;32m    207\u001b[0m     \u001b[38;5;28;01mreturn\u001b[39;00m saved_model_load\u001b[38;5;241m.\u001b[39mload(filepath_str, \u001b[38;5;28mcompile\u001b[39m, options)\n",
      "\u001b[1;31mOSError\u001b[0m: No file or directory found at saved_model/my_model"
     ]
    }
   ],
   "source": [
    "new_model = tf.keras.models.load_model('saved_model/my_model')\n",
    "\n",
    "# Check its architecture\n",
    "new_model.summary()"
   ]
  },
  {
   "cell_type": "code",
   "execution_count": 24,
   "metadata": {},
   "outputs": [],
   "source": [
    "MAIN_TEXT_MODEL = tf.saved_model.load('saved_model_v1/text_query_v1')"
   ]
  },
  {
   "cell_type": "code",
   "execution_count": 27,
   "metadata": {},
   "outputs": [
    {
     "data": {
      "text/plain": [
       "<tf.Tensor: shape=(1, 50), dtype=float32, numpy=\n",
       "array([[-0.05782862,  0.21929573,  0.18777205,  0.33372578,  0.142406  ,\n",
       "        -0.10522849,  0.01588787, -0.03304024, -0.1290548 , -0.13831934,\n",
       "        -0.08788484, -0.11988749,  0.01660339, -0.03562913,  0.23985866,\n",
       "        -0.06470368, -0.04450574,  0.09934431,  0.03945716,  0.01557729,\n",
       "         0.31272936, -0.19971284,  0.18990752, -0.07535635,  0.19861904,\n",
       "        -0.10104373,  0.12897848,  0.07234516, -0.00780594,  0.05731244,\n",
       "        -0.45817783, -0.12164681, -0.36971435, -0.01275987, -0.3043632 ,\n",
       "         0.04738052, -0.09945212,  0.16838874, -0.15171896, -0.12798208,\n",
       "         0.26277593, -0.00205961, -0.0715808 , -0.10713583,  0.11969823,\n",
       "        -0.098451  ,  0.01058216,  0.3175138 ,  0.11783095,  0.02523341]],\n",
       "      dtype=float32)>"
      ]
     },
     "execution_count": 27,
     "metadata": {},
     "output_type": "execute_result"
    }
   ],
   "source": [
    "MAIN_TEXT_MODEL([\"predict this\"])"
   ]
  },
  {
   "cell_type": "code",
   "execution_count": null,
   "metadata": {},
   "outputs": [],
   "source": []
  }
 ],
 "metadata": {
  "colab": {
   "name": "Model_NLM_v1.ipynb",
   "provenance": []
  },
  "kernelspec": {
   "display_name": "Python 3",
   "language": "python",
   "name": "python3"
  },
  "language_info": {
   "codemirror_mode": {
    "name": "ipython",
    "version": 3
   },
   "file_extension": ".py",
   "mimetype": "text/x-python",
   "name": "python",
   "nbconvert_exporter": "python",
   "pygments_lexer": "ipython3",
   "version": "3.9.11"
  }
 },
 "nbformat": 4,
 "nbformat_minor": 1
}
