{
  "nbformat": 4,
  "nbformat_minor": 0,
  "metadata": {
    "colab": {
      "name": "Model_NLM_v1.ipynb",
      "provenance": []
    },
    "kernelspec": {
      "name": "python3",
      "display_name": "Python 3"
    },
    "language_info": {
      "name": "python"
    }
  },
  "cells": [
    {
      "cell_type": "code",
      "execution_count": 1,
      "metadata": {
        "id": "0xAhHOUJqbk-"
      },
      "outputs": [],
      "source": [
        "import pandas as pd"
      ]
    },
    {
      "cell_type": "code",
      "source": [
        "#read file\n",
        "file_content = pd.read_csv(\"deskripsicaregiver.txt\")"
      ],
      "metadata": {
        "id": "yvxyovZFqmwv"
      },
      "execution_count": 2,
      "outputs": []
    },
    {
      "cell_type": "code",
      "source": [
        "file_content"
      ],
      "metadata": {
        "colab": {
          "base_uri": "https://localhost:8080/",
          "height": 676
        },
        "id": "E23Bjud7qtT_",
        "outputId": "e4f84f5d-d200-4f66-c846-37409d599d9b"
      },
      "execution_count": 3,
      "outputs": [
        {
          "output_type": "execute_result",
          "data": {
            "text/plain": [
              "    id                                   deskripsimasalah  \\\n",
              "0    1  aku memiliki teman yang pernah mengalami gangg...   \n",
              "1    2  salah satu saudara ku mengalami permasalahan g...   \n",
              "2    3  Dia kawanku yang sangat aktif dan sulit fokus....   \n",
              "3    4  seseorang pernah curhat kepada ku tentang ruma...   \n",
              "4    5  Penyebab pasti skizofrenia tidak diketahui, na...   \n",
              "5    6  sahabatku memiliki rekan kerja yang pernah men...   \n",
              "6    7  salah satu teman kakakku mengalami permasalaha...   \n",
              "7    8  Dia(laki-laki) kawanku yang sangat aktif dan s...   \n",
              "8    9  seorang kawan pernah curhat kepadaku tentang k...   \n",
              "9   10  skizofrenia penyakit yang unik, namun kombinas...   \n",
              "10  11  kawan lamaku memiliki teman rumah yang mengala...   \n",
              "11  12  salah satu teman kakakku mengalami permasalaha...   \n",
              "12  13  salah satu kawanku mengalami sulit fokus atau ...   \n",
              "13  14  seorang yang sudah berumur pernah curhat kepad...   \n",
              "14  15  Adik temanku mengidap skizofrenia, skizofrenia...   \n",
              "15  16  anak teman orang tuaku mengalami gangguan maka...   \n",
              "16  17  teman ayahku mengalami permasalahan gangguan p...   \n",
              "17  18  salah satu kawanku mengalami sulit fokus atau ...   \n",
              "18  19  seorang wanita paruh baya pernah curhat kepada...   \n",
              "19  20  kakaku temanku mengalami skizofrenia ringan, s...   \n",
              "\n",
              "                   kelas  \n",
              "0         Gangguan makan  \n",
              "1   Gangguan pascatrauma  \n",
              "2                   ADHD  \n",
              "3                Depresi  \n",
              "4            Skizofrenia  \n",
              "5         Gangguan makan  \n",
              "6   Gangguan pascatrauma  \n",
              "7                   ADHD  \n",
              "8                Depresi  \n",
              "9            Skizofrenia  \n",
              "10        Gangguan makan  \n",
              "11  Gangguan pascatrauma  \n",
              "12                  ADHD  \n",
              "13               Depresi  \n",
              "14           Skizofrenia  \n",
              "15        Gangguan makan  \n",
              "16  Gangguan pascatrauma  \n",
              "17                  ADHD  \n",
              "18               Depresi  \n",
              "19           Skizofrenia  "
            ],
            "text/html": [
              "\n",
              "  <div id=\"df-b5b8fc2f-7b43-4cc2-8ad7-965c3894bc8d\">\n",
              "    <div class=\"colab-df-container\">\n",
              "      <div>\n",
              "<style scoped>\n",
              "    .dataframe tbody tr th:only-of-type {\n",
              "        vertical-align: middle;\n",
              "    }\n",
              "\n",
              "    .dataframe tbody tr th {\n",
              "        vertical-align: top;\n",
              "    }\n",
              "\n",
              "    .dataframe thead th {\n",
              "        text-align: right;\n",
              "    }\n",
              "</style>\n",
              "<table border=\"1\" class=\"dataframe\">\n",
              "  <thead>\n",
              "    <tr style=\"text-align: right;\">\n",
              "      <th></th>\n",
              "      <th>id</th>\n",
              "      <th>deskripsimasalah</th>\n",
              "      <th>kelas</th>\n",
              "    </tr>\n",
              "  </thead>\n",
              "  <tbody>\n",
              "    <tr>\n",
              "      <th>0</th>\n",
              "      <td>1</td>\n",
              "      <td>aku memiliki teman yang pernah mengalami gangg...</td>\n",
              "      <td>Gangguan makan</td>\n",
              "    </tr>\n",
              "    <tr>\n",
              "      <th>1</th>\n",
              "      <td>2</td>\n",
              "      <td>salah satu saudara ku mengalami permasalahan g...</td>\n",
              "      <td>Gangguan pascatrauma</td>\n",
              "    </tr>\n",
              "    <tr>\n",
              "      <th>2</th>\n",
              "      <td>3</td>\n",
              "      <td>Dia kawanku yang sangat aktif dan sulit fokus....</td>\n",
              "      <td>ADHD</td>\n",
              "    </tr>\n",
              "    <tr>\n",
              "      <th>3</th>\n",
              "      <td>4</td>\n",
              "      <td>seseorang pernah curhat kepada ku tentang ruma...</td>\n",
              "      <td>Depresi</td>\n",
              "    </tr>\n",
              "    <tr>\n",
              "      <th>4</th>\n",
              "      <td>5</td>\n",
              "      <td>Penyebab pasti skizofrenia tidak diketahui, na...</td>\n",
              "      <td>Skizofrenia</td>\n",
              "    </tr>\n",
              "    <tr>\n",
              "      <th>5</th>\n",
              "      <td>6</td>\n",
              "      <td>sahabatku memiliki rekan kerja yang pernah men...</td>\n",
              "      <td>Gangguan makan</td>\n",
              "    </tr>\n",
              "    <tr>\n",
              "      <th>6</th>\n",
              "      <td>7</td>\n",
              "      <td>salah satu teman kakakku mengalami permasalaha...</td>\n",
              "      <td>Gangguan pascatrauma</td>\n",
              "    </tr>\n",
              "    <tr>\n",
              "      <th>7</th>\n",
              "      <td>8</td>\n",
              "      <td>Dia(laki-laki) kawanku yang sangat aktif dan s...</td>\n",
              "      <td>ADHD</td>\n",
              "    </tr>\n",
              "    <tr>\n",
              "      <th>8</th>\n",
              "      <td>9</td>\n",
              "      <td>seorang kawan pernah curhat kepadaku tentang k...</td>\n",
              "      <td>Depresi</td>\n",
              "    </tr>\n",
              "    <tr>\n",
              "      <th>9</th>\n",
              "      <td>10</td>\n",
              "      <td>skizofrenia penyakit yang unik, namun kombinas...</td>\n",
              "      <td>Skizofrenia</td>\n",
              "    </tr>\n",
              "    <tr>\n",
              "      <th>10</th>\n",
              "      <td>11</td>\n",
              "      <td>kawan lamaku memiliki teman rumah yang mengala...</td>\n",
              "      <td>Gangguan makan</td>\n",
              "    </tr>\n",
              "    <tr>\n",
              "      <th>11</th>\n",
              "      <td>12</td>\n",
              "      <td>salah satu teman kakakku mengalami permasalaha...</td>\n",
              "      <td>Gangguan pascatrauma</td>\n",
              "    </tr>\n",
              "    <tr>\n",
              "      <th>12</th>\n",
              "      <td>13</td>\n",
              "      <td>salah satu kawanku mengalami sulit fokus atau ...</td>\n",
              "      <td>ADHD</td>\n",
              "    </tr>\n",
              "    <tr>\n",
              "      <th>13</th>\n",
              "      <td>14</td>\n",
              "      <td>seorang yang sudah berumur pernah curhat kepad...</td>\n",
              "      <td>Depresi</td>\n",
              "    </tr>\n",
              "    <tr>\n",
              "      <th>14</th>\n",
              "      <td>15</td>\n",
              "      <td>Adik temanku mengidap skizofrenia, skizofrenia...</td>\n",
              "      <td>Skizofrenia</td>\n",
              "    </tr>\n",
              "    <tr>\n",
              "      <th>15</th>\n",
              "      <td>16</td>\n",
              "      <td>anak teman orang tuaku mengalami gangguan maka...</td>\n",
              "      <td>Gangguan makan</td>\n",
              "    </tr>\n",
              "    <tr>\n",
              "      <th>16</th>\n",
              "      <td>17</td>\n",
              "      <td>teman ayahku mengalami permasalahan gangguan p...</td>\n",
              "      <td>Gangguan pascatrauma</td>\n",
              "    </tr>\n",
              "    <tr>\n",
              "      <th>17</th>\n",
              "      <td>18</td>\n",
              "      <td>salah satu kawanku mengalami sulit fokus atau ...</td>\n",
              "      <td>ADHD</td>\n",
              "    </tr>\n",
              "    <tr>\n",
              "      <th>18</th>\n",
              "      <td>19</td>\n",
              "      <td>seorang wanita paruh baya pernah curhat kepada...</td>\n",
              "      <td>Depresi</td>\n",
              "    </tr>\n",
              "    <tr>\n",
              "      <th>19</th>\n",
              "      <td>20</td>\n",
              "      <td>kakaku temanku mengalami skizofrenia ringan, s...</td>\n",
              "      <td>Skizofrenia</td>\n",
              "    </tr>\n",
              "  </tbody>\n",
              "</table>\n",
              "</div>\n",
              "      <button class=\"colab-df-convert\" onclick=\"convertToInteractive('df-b5b8fc2f-7b43-4cc2-8ad7-965c3894bc8d')\"\n",
              "              title=\"Convert this dataframe to an interactive table.\"\n",
              "              style=\"display:none;\">\n",
              "        \n",
              "  <svg xmlns=\"http://www.w3.org/2000/svg\" height=\"24px\"viewBox=\"0 0 24 24\"\n",
              "       width=\"24px\">\n",
              "    <path d=\"M0 0h24v24H0V0z\" fill=\"none\"/>\n",
              "    <path d=\"M18.56 5.44l.94 2.06.94-2.06 2.06-.94-2.06-.94-.94-2.06-.94 2.06-2.06.94zm-11 1L8.5 8.5l.94-2.06 2.06-.94-2.06-.94L8.5 2.5l-.94 2.06-2.06.94zm10 10l.94 2.06.94-2.06 2.06-.94-2.06-.94-.94-2.06-.94 2.06-2.06.94z\"/><path d=\"M17.41 7.96l-1.37-1.37c-.4-.4-.92-.59-1.43-.59-.52 0-1.04.2-1.43.59L10.3 9.45l-7.72 7.72c-.78.78-.78 2.05 0 2.83L4 21.41c.39.39.9.59 1.41.59.51 0 1.02-.2 1.41-.59l7.78-7.78 2.81-2.81c.8-.78.8-2.07 0-2.86zM5.41 20L4 18.59l7.72-7.72 1.47 1.35L5.41 20z\"/>\n",
              "  </svg>\n",
              "      </button>\n",
              "      \n",
              "  <style>\n",
              "    .colab-df-container {\n",
              "      display:flex;\n",
              "      flex-wrap:wrap;\n",
              "      gap: 12px;\n",
              "    }\n",
              "\n",
              "    .colab-df-convert {\n",
              "      background-color: #E8F0FE;\n",
              "      border: none;\n",
              "      border-radius: 50%;\n",
              "      cursor: pointer;\n",
              "      display: none;\n",
              "      fill: #1967D2;\n",
              "      height: 32px;\n",
              "      padding: 0 0 0 0;\n",
              "      width: 32px;\n",
              "    }\n",
              "\n",
              "    .colab-df-convert:hover {\n",
              "      background-color: #E2EBFA;\n",
              "      box-shadow: 0px 1px 2px rgba(60, 64, 67, 0.3), 0px 1px 3px 1px rgba(60, 64, 67, 0.15);\n",
              "      fill: #174EA6;\n",
              "    }\n",
              "\n",
              "    [theme=dark] .colab-df-convert {\n",
              "      background-color: #3B4455;\n",
              "      fill: #D2E3FC;\n",
              "    }\n",
              "\n",
              "    [theme=dark] .colab-df-convert:hover {\n",
              "      background-color: #434B5C;\n",
              "      box-shadow: 0px 1px 3px 1px rgba(0, 0, 0, 0.15);\n",
              "      filter: drop-shadow(0px 1px 2px rgba(0, 0, 0, 0.3));\n",
              "      fill: #FFFFFF;\n",
              "    }\n",
              "  </style>\n",
              "\n",
              "      <script>\n",
              "        const buttonEl =\n",
              "          document.querySelector('#df-b5b8fc2f-7b43-4cc2-8ad7-965c3894bc8d button.colab-df-convert');\n",
              "        buttonEl.style.display =\n",
              "          google.colab.kernel.accessAllowed ? 'block' : 'none';\n",
              "\n",
              "        async function convertToInteractive(key) {\n",
              "          const element = document.querySelector('#df-b5b8fc2f-7b43-4cc2-8ad7-965c3894bc8d');\n",
              "          const dataTable =\n",
              "            await google.colab.kernel.invokeFunction('convertToInteractive',\n",
              "                                                     [key], {});\n",
              "          if (!dataTable) return;\n",
              "\n",
              "          const docLinkHtml = 'Like what you see? Visit the ' +\n",
              "            '<a target=\"_blank\" href=https://colab.research.google.com/notebooks/data_table.ipynb>data table notebook</a>'\n",
              "            + ' to learn more about interactive tables.';\n",
              "          element.innerHTML = '';\n",
              "          dataTable['output_type'] = 'display_data';\n",
              "          await google.colab.output.renderOutput(dataTable, element);\n",
              "          const docLink = document.createElement('div');\n",
              "          docLink.innerHTML = docLinkHtml;\n",
              "          element.appendChild(docLink);\n",
              "        }\n",
              "      </script>\n",
              "    </div>\n",
              "  </div>\n",
              "  "
            ]
          },
          "metadata": {},
          "execution_count": 3
        }
      ]
    },
    {
      "cell_type": "code",
      "source": [
        "file_content.info()"
      ],
      "metadata": {
        "colab": {
          "base_uri": "https://localhost:8080/"
        },
        "id": "PD8Wszwsq0N_",
        "outputId": "38d36570-6efa-4710-f155-7b9013538209"
      },
      "execution_count": 4,
      "outputs": [
        {
          "output_type": "stream",
          "name": "stdout",
          "text": [
            "<class 'pandas.core.frame.DataFrame'>\n",
            "RangeIndex: 20 entries, 0 to 19\n",
            "Data columns (total 3 columns):\n",
            " #   Column            Non-Null Count  Dtype \n",
            "---  ------            --------------  ----- \n",
            " 0   id                20 non-null     int64 \n",
            " 1   deskripsimasalah  20 non-null     object\n",
            " 2   kelas             20 non-null     object\n",
            "dtypes: int64(1), object(2)\n",
            "memory usage: 608.0+ bytes\n"
          ]
        }
      ]
    },
    {
      "cell_type": "code",
      "source": [
        "del file_content['kelas']"
      ],
      "metadata": {
        "id": "veaaE2J9c-zt"
      },
      "execution_count": 5,
      "outputs": []
    },
    {
      "cell_type": "code",
      "source": [
        "file_content.info()"
      ],
      "metadata": {
        "colab": {
          "base_uri": "https://localhost:8080/"
        },
        "id": "O4nXmsUkq4_Y",
        "outputId": "13a77171-32b3-4a4f-f3ab-ea78707f544a"
      },
      "execution_count": 6,
      "outputs": [
        {
          "output_type": "stream",
          "name": "stdout",
          "text": [
            "<class 'pandas.core.frame.DataFrame'>\n",
            "RangeIndex: 20 entries, 0 to 19\n",
            "Data columns (total 2 columns):\n",
            " #   Column            Non-Null Count  Dtype \n",
            "---  ------            --------------  ----- \n",
            " 0   id                20 non-null     int64 \n",
            " 1   deskripsimasalah  20 non-null     object\n",
            "dtypes: int64(1), object(1)\n",
            "memory usage: 448.0+ bytes\n"
          ]
        }
      ]
    },
    {
      "cell_type": "code",
      "source": [
        "\"\"\"\n",
        "KELAS = {\n",
        "    'Gangguan pascatrauma':0,\n",
        "    'Skizofrenia':1,\n",
        "    'Depresi':2,\n",
        "    'Gangguan makan':3,\n",
        "    'ADHD':4\n",
        "}\n",
        "JUMLAH_KELAS = len(KELAS)\n",
        "\"\"\""
      ],
      "metadata": {
        "id": "MHjhCL86q8k-"
      },
      "execution_count": null,
      "outputs": []
    },
    {
      "cell_type": "code",
      "source": [
        "\"\"\"\n",
        "from tensorflow.keras.utils import to_categorical\n",
        "def encode_labels(sources):\n",
        "    kelas = [KELAS[source] for source in sources ]\n",
        "    one_hots = to_categorical(kelas, num_classes=JUMLAH_KELAS)\n",
        "    return one_hot\n",
        "\"\"\""
      ],
      "metadata": {
        "id": "BDCBy024rBXS"
      },
      "execution_count": null,
      "outputs": []
    },
    {
      "cell_type": "code",
      "source": [
        "\"\"\"\n",
        "encode_labels(file_content.kelas[:])\n",
        "\"\"\""
      ],
      "metadata": {
        "colab": {
          "base_uri": "https://localhost:8080/"
        },
        "id": "fcYofdEhrFzE",
        "outputId": "8dcaa227-cdab-41ef-e9d6-485c6d82289e"
      },
      "execution_count": null,
      "outputs": [
        {
          "output_type": "execute_result",
          "data": {
            "text/plain": [
              "array([[0., 0., 0., 1., 0.],\n",
              "       [1., 0., 0., 0., 0.],\n",
              "       [0., 0., 0., 0., 1.],\n",
              "       [0., 0., 1., 0., 0.],\n",
              "       [0., 1., 0., 0., 0.],\n",
              "       [0., 0., 0., 1., 0.],\n",
              "       [1., 0., 0., 0., 0.],\n",
              "       [0., 0., 0., 0., 1.],\n",
              "       [0., 0., 1., 0., 0.],\n",
              "       [0., 1., 0., 0., 0.],\n",
              "       [0., 0., 0., 1., 0.],\n",
              "       [1., 0., 0., 0., 0.],\n",
              "       [0., 0., 0., 0., 1.],\n",
              "       [0., 0., 1., 0., 0.],\n",
              "       [0., 1., 0., 0., 0.],\n",
              "       [0., 0., 0., 1., 0.],\n",
              "       [1., 0., 0., 0., 0.],\n",
              "       [0., 0., 0., 0., 1.],\n",
              "       [0., 0., 1., 0., 0.],\n",
              "       [0., 1., 0., 0., 0.]], dtype=float32)"
            ]
          },
          "metadata": {},
          "execution_count": 9
        }
      ]
    },
    {
      "cell_type": "code",
      "source": [
        "import tensorflow_hub as hub\n",
        "import tensorflow as tf\n",
        "hub_layer = hub.KerasLayer(\"https://tfhub.dev/google/tf2-preview/nnlm-id-dim50-with-normalization/1\", output_shape=[50],\n",
        "                           input_shape=[], dtype=tf.string)"
      ],
      "metadata": {
        "id": "OHrzOJYVrf_T"
      },
      "execution_count": 12,
      "outputs": []
    },
    {
      "cell_type": "code",
      "source": [
        "from tensorflow.keras.utils import to_categorical\n",
        "from keras.layers import Dense, Input, LSTM, Embedding, Dropout, Activation\n",
        "from keras.layers import Bidirectional, GlobalMaxPool1D, Conv1D, SimpleRNN\n",
        "from keras.models import Model\n",
        "from keras.models import Sequential\n",
        "from keras import initializers, regularizers, constraints, optimizers, layers\n",
        "from keras.layers import Dense, Input, Flatten, Dropout, BatchNormalization\n",
        "from keras.layers import Conv1D, MaxPooling1D, Embedding\n",
        "from keras.models import Sequential"
      ],
      "metadata": {
        "id": "m4mcRZjXrjuD"
      },
      "execution_count": 13,
      "outputs": []
    },
    {
      "cell_type": "code",
      "source": [
        "def build_model(hub_module, name):\n",
        "    model = Sequential([\n",
        "    hub_module])\n",
        "    return model"
      ],
      "metadata": {
        "id": "dlPWpDpbroRX"
      },
      "execution_count": 14,
      "outputs": []
    },
    {
      "cell_type": "code",
      "source": [
        "model_nlm_v1 = build_model(hub_layer, 'modelV1')"
      ],
      "metadata": {
        "id": "CBgbydtSr3Rq"
      },
      "execution_count": 15,
      "outputs": []
    },
    {
      "cell_type": "code",
      "source": [
        "predicted=model_nlm_v1.predict([\"seorang teman pernah bercerita kepadaku bahwa dia mengalami begitu banyak tekanan dan pikiran. hal ini terjadi karena ia baru saja di pecat dari kantornya, dia depresi akan hal itu. aku menasihati agar selalu bersabar dan berserah diri kepada Tuhan YME \"])\n",
        "print(predicted)"
      ],
      "metadata": {
        "colab": {
          "base_uri": "https://localhost:8080/"
        },
        "id": "ZSvHIp-OsEBy",
        "outputId": "6a2b0cee-7408-4c50-a141-1d09913ee437"
      },
      "execution_count": 16,
      "outputs": [
        {
          "output_type": "stream",
          "name": "stdout",
          "text": [
            "[[ 0.44878218 -0.2736885   0.07983384 -0.3286827  -0.4381693  -0.0199939\n",
            "   0.4602445  -0.29618526 -0.3113229  -0.03551285  0.12239717  0.07406051\n",
            "  -0.2216775   0.36929092  0.00237952  0.07986394  0.5281271   0.329977\n",
            "   0.11659862  0.30334783  0.22889574  0.7457238  -0.05997754  0.18514386\n",
            "   0.05492761  0.13102876  0.34824023  0.30771142 -0.19460958 -0.08271588\n",
            "  -0.2020501  -0.32940054  0.45329106  0.21837012  0.20129113 -0.00884395\n",
            "   0.1121787  -0.38018116  0.0346257  -0.19626075 -0.43972257  0.6594691\n",
            "  -0.80616546  1.0054116  -0.45770591 -0.7212191   0.13482586  0.08056677\n",
            "   0.3288979   0.07259809]]\n"
          ]
        }
      ]
    },
    {
      "cell_type": "code",
      "source": [
        "!pip install -q tensorflow-recommenders\n",
        "import tensorflow_recommenders as tfrs"
      ],
      "metadata": {
        "colab": {
          "base_uri": "https://localhost:8080/"
        },
        "id": "4EGyWC0ne4JP",
        "outputId": "7b8635b8-2944-488c-8e0a-d0a86e35d2b8"
      },
      "execution_count": 18,
      "outputs": [
        {
          "output_type": "stream",
          "name": "stdout",
          "text": [
            "\u001b[K     |████████████████████████████████| 85 kB 2.3 MB/s \n",
            "\u001b[K     |████████████████████████████████| 462 kB 8.9 MB/s \n",
            "\u001b[?25h"
          ]
        }
      ]
    },
    {
      "cell_type": "code",
      "source": [
        "def df_to_dataset(dataframe, shuffle=True, batch_size=32):\n",
        "  dataframe = dataframe.copy()\n",
        "  ds = tf.data.Dataset.from_tensor_slices(dict(dataframe))\n",
        "  if shuffle:\n",
        "    ds = ds.shuffle(buffer_size=len(dataframe))\n",
        "  ds = ds.batch(batch_size)\n",
        "  return ds"
      ],
      "metadata": {
        "id": "oJMnyAB-fkR_"
      },
      "execution_count": 19,
      "outputs": []
    },
    {
      "cell_type": "code",
      "source": [
        "caregiver_ds = df_to_dataset(file_content) "
      ],
      "metadata": {
        "id": "eUioDLAiftUQ"
      },
      "execution_count": 20,
      "outputs": []
    },
    {
      "cell_type": "code",
      "source": [
        "brute_force = tfrs.layers.factorized_top_k.BruteForce(model_nlm_v1)\n",
        "brute_force.index_from_dataset(  \n",
        "       caregiver_ds.map(lambda features: (features['id'], model_nlm_v1(features['deskripsimasalah'])))\n",
        ")"
      ],
      "metadata": {
        "colab": {
          "base_uri": "https://localhost:8080/"
        },
        "id": "OzRNL7nAfIUa",
        "outputId": "0c55c85c-3509-4a04-bf4d-e035cfdb8d3c"
      },
      "execution_count": 21,
      "outputs": [
        {
          "output_type": "execute_result",
          "data": {
            "text/plain": [
              "<tensorflow_recommenders.layers.factorized_top_k.BruteForce at 0x7f11714fb190>"
            ]
          },
          "metadata": {},
          "execution_count": 21
        }
      ]
    },
    {
      "cell_type": "code",
      "source": [
        "import numpy as np\n",
        "a, titles = brute_force(np.array([\"kakaku temanku mengalami skizofrenia ringan, skizofrenia adalah penyakit yang tidak diketahui penyebabnya.aku terkadang kasihan padanya. dia pribadi yang baik , seringkali dia mengajariku ketika belajar bareng bersama adiknya di rumahnya\"]), k=2)\n",
        "print(f\"Top recommendations: {titles[0]}\")"
      ],
      "metadata": {
        "colab": {
          "base_uri": "https://localhost:8080/"
        },
        "id": "m8sqZgqEghsD",
        "outputId": "3c8c2d5d-a4aa-4d99-d29c-5dcc2c5a4011"
      },
      "execution_count": 25,
      "outputs": [
        {
          "output_type": "stream",
          "name": "stdout",
          "text": [
            "Top recommendations: [4 9]\n"
          ]
        }
      ]
    },
    {
      "cell_type": "code",
      "source": [
        "# Save the entire model as a SavedModel.\n",
        "!mkdir -p saved_model\n",
        "model_nlm_v1.save('saved_model/my_model')"
      ],
      "metadata": {
        "colab": {
          "base_uri": "https://localhost:8080/"
        },
        "id": "lSagLQTUuTJ3",
        "outputId": "306f4401-c53a-44b1-9958-100d90aced2b"
      },
      "execution_count": 26,
      "outputs": [
        {
          "output_type": "stream",
          "name": "stdout",
          "text": [
            "WARNING:tensorflow:Compiled the loaded model, but the compiled metrics have yet to be built. `model.compile_metrics` will be empty until you train or evaluate the model.\n"
          ]
        },
        {
          "output_type": "stream",
          "name": "stderr",
          "text": [
            "WARNING:tensorflow:Compiled the loaded model, but the compiled metrics have yet to be built. `model.compile_metrics` will be empty until you train or evaluate the model.\n"
          ]
        },
        {
          "output_type": "stream",
          "name": "stdout",
          "text": [
            "INFO:tensorflow:Assets written to: saved_model/my_model/assets\n"
          ]
        },
        {
          "output_type": "stream",
          "name": "stderr",
          "text": [
            "INFO:tensorflow:Assets written to: saved_model/my_model/assets\n"
          ]
        }
      ]
    },
    {
      "cell_type": "code",
      "source": [
        "new_model = tf.keras.models.load_model('saved_model/my_model')\n",
        "\n",
        "# Check its architecture\n",
        "new_model.summary()"
      ],
      "metadata": {
        "colab": {
          "base_uri": "https://localhost:8080/"
        },
        "id": "n9r8jfj0up1L",
        "outputId": "5e4274ea-3e0c-4557-970f-f6ca53f96141"
      },
      "execution_count": 27,
      "outputs": [
        {
          "output_type": "stream",
          "name": "stdout",
          "text": [
            "WARNING:tensorflow:No training configuration found in save file, so the model was *not* compiled. Compile it manually.\n"
          ]
        },
        {
          "output_type": "stream",
          "name": "stderr",
          "text": [
            "WARNING:tensorflow:No training configuration found in save file, so the model was *not* compiled. Compile it manually.\n"
          ]
        },
        {
          "output_type": "stream",
          "name": "stdout",
          "text": [
            "Model: \"sequential_1\"\n",
            "_________________________________________________________________\n",
            " Layer (type)                Output Shape              Param #   \n",
            "=================================================================\n",
            " keras_layer_1 (KerasLayer)  (None, 50)                43930400  \n",
            "                                                                 \n",
            "=================================================================\n",
            "Total params: 43,930,400\n",
            "Trainable params: 0\n",
            "Non-trainable params: 43,930,400\n",
            "_________________________________________________________________\n"
          ]
        }
      ]
    }
  ]
}