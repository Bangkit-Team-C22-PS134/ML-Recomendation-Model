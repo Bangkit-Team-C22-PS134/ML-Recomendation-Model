{
 "cells": [
  {
   "cell_type": "code",
   "execution_count": 1,
   "id": "56d883eb",
   "metadata": {},
   "outputs": [],
   "source": [
    "import numpy as np\n",
    "import pandas as pd\n",
    "import tensorflow_recommenders as tfrs\n",
    "import tensorflow as tf\n",
    "from typing import Dict, Text\n",
    "import pickle as pk\n",
    "from tensorflow import feature_column\n",
    "from tensorflow.keras import layers\n",
    "from sklearn.model_selection import train_test_split"
   ]
  },
  {
   "cell_type": "code",
   "execution_count": 2,
   "id": "40eb446c",
   "metadata": {},
   "outputs": [],
   "source": [
    "import pathlib\n",
    "import os\n",
    "\n",
    "user_file = \"\\\\Data\\\\Combined Data.csv\"\n",
    "caregiver_file = \"\\\\Data\\\\Processed Caregiver Data.csv\"\n",
    "\n",
    "path = pathlib.Path().resolve()\n",
    "parent_path = path.parent.absolute()\n",
    "\n",
    "user_dataframe = pd.read_csv(str(parent_path) + user_file)\n",
    "caregiver_dataframe = pd.read_csv(str(parent_path) + caregiver_file)\n",
    "\n"
   ]
  },
  {
   "cell_type": "code",
   "execution_count": 3,
   "id": "352ac361",
   "metadata": {},
   "outputs": [],
   "source": [
    "unique_masalah_user = np.unique(' '.join(user_dataframe['Tipe_Masalah']).split(' '))\n",
    "unique_masalah_caregiver = np.unique(' '.join(user_dataframe['Caregiver_Tipe_Masalah']).split(' '))\n",
    "np.delete(unique_masalah_caregiver, np.where(unique_masalah_caregiver == ''))\n",
    "unique_masalah_caregiver = np.delete(unique_masalah_caregiver, 0)\n",
    "\n",
    "unique_masalah_caregiver = unique_masalah_caregiver.tolist()\n",
    "\n",
    "for index, col in enumerate(unique_masalah_caregiver):\n",
    "        unique_masalah_caregiver[index] = 'Caregiver-'+col\n"
   ]
  },
  {
   "cell_type": "code",
   "execution_count": 4,
   "id": "e9ba1c8a",
   "metadata": {},
   "outputs": [
    {
     "data": {
      "text/plain": [
       "['Caregiver-ADHD-Hiperaktif-dan-kurang-fokus',\n",
       " 'Caregiver-Depresi',\n",
       " 'Caregiver-Gangguan-kecemasan',\n",
       " 'Caregiver-Gangguan-makan',\n",
       " 'Caregiver-Gangguan-stres-pascatrauma',\n",
       " 'Caregiver-Skizofrenia']"
      ]
     },
     "execution_count": 4,
     "metadata": {},
     "output_type": "execute_result"
    }
   ],
   "source": [
    "unique_masalah_caregiver"
   ]
  },
  {
   "cell_type": "code",
   "execution_count": 5,
   "id": "37fce2e7",
   "metadata": {},
   "outputs": [],
   "source": [
    "unique_masalah_caregiver = ['Caregiver-ADHD-Hiperaktif-dan-kurang-fokus',\n",
    " 'Caregiver-Depresi',\n",
    " 'Caregiver-Gangguan-kecemasan',\n",
    " 'Caregiver-Gangguan-makan',\n",
    " 'Caregiver-Gangguan-stres-pascatrauma',\n",
    " 'Caregiver-Skizofrenia']"
   ]
  },
  {
   "cell_type": "code",
   "execution_count": 6,
   "id": "aa1c7286",
   "metadata": {},
   "outputs": [],
   "source": [
    "def convert_categorical_data(df, col='Tipe_Masalah'):\n",
    "    ### Join every string in every row, split the result, pull out the unique values.\n",
    "    genres = np.unique(' '.join(df[col]).split(' '))\n",
    "    ### Drop 'NA'\n",
    "    genres = np.delete(genres, np.where(genres == ''))\n",
    "    if(col=='Tipe_Masalah'):\n",
    "        for genre in genres:\n",
    "            df[genre] = df[col].str.contains(genre).astype('int')\n",
    "    else:\n",
    "        for genre in genres:\n",
    "            df['Caregiver-'+genre] = df[col].str.contains(genre).astype('int')\n",
    "    df.drop(col, axis=1, inplace=True)"
   ]
  },
  {
   "cell_type": "code",
   "execution_count": 7,
   "id": "701cfd6d",
   "metadata": {},
   "outputs": [
    {
     "name": "stderr",
     "output_type": "stream",
     "text": [
      "C:\\Users\\ASUS\\AppData\\Local\\Temp\\ipykernel_11056\\1340759235.py:6: FutureWarning: In a future version of pandas all arguments of DataFrame.drop except for the argument 'labels' will be keyword-only.\n",
      "  user_dataframe.drop([\"USER_ID\"], 1,inplace=True)\n",
      "C:\\Users\\ASUS\\AppData\\Local\\Temp\\ipykernel_11056\\1340759235.py:7: FutureWarning: In a future version of pandas all arguments of DataFrame.drop except for the argument 'labels' will be keyword-only.\n",
      "  user_dataframe.drop([\"CAREGIVER_ID\"], 1,inplace=True)\n"
     ]
    }
   ],
   "source": [
    "convert_categorical_data(user_dataframe)\n",
    "convert_categorical_data(user_dataframe, col='Caregiver_Tipe_Masalah')\n",
    "convert_categorical_data(caregiver_dataframe, col='Caregiver_Tipe_Masalah')\n",
    "\n",
    "\n",
    "user_dataframe.drop([\"USER_ID\"], 1,inplace=True)\n",
    "user_dataframe.drop([\"CAREGIVER_ID\"], 1,inplace=True)"
   ]
  },
  {
   "cell_type": "code",
   "execution_count": 8,
   "id": "118a8f59",
   "metadata": {
    "scrolled": true
   },
   "outputs": [
    {
     "data": {
      "text/html": [
       "<div>\n",
       "<style scoped>\n",
       "    .dataframe tbody tr th:only-of-type {\n",
       "        vertical-align: middle;\n",
       "    }\n",
       "\n",
       "    .dataframe tbody tr th {\n",
       "        vertical-align: top;\n",
       "    }\n",
       "\n",
       "    .dataframe thead th {\n",
       "        text-align: right;\n",
       "    }\n",
       "</style>\n",
       "<table border=\"1\" class=\"dataframe\">\n",
       "  <thead>\n",
       "    <tr style=\"text-align: right;\">\n",
       "      <th></th>\n",
       "      <th>Gender</th>\n",
       "      <th>Age</th>\n",
       "      <th>Caregiver_Gender</th>\n",
       "      <th>Caregiver_Age</th>\n",
       "      <th>ADHD-Hiperaktif-dan-kurang-fokus</th>\n",
       "      <th>Depresi</th>\n",
       "      <th>Gangguan-kecemasan</th>\n",
       "      <th>Gangguan-makan</th>\n",
       "      <th>Gangguan-stres-pascatrauma</th>\n",
       "      <th>Skizofrenia</th>\n",
       "      <th>Caregiver-ADHD-Hiperaktif-dan-kurang-fokus</th>\n",
       "      <th>Caregiver-Depresi</th>\n",
       "      <th>Caregiver-Gangguan-kecemasan</th>\n",
       "      <th>Caregiver-Gangguan-makan</th>\n",
       "      <th>Caregiver-Gangguan-stres-pascatrauma</th>\n",
       "      <th>Caregiver-Skizofrenia</th>\n",
       "    </tr>\n",
       "  </thead>\n",
       "  <tbody>\n",
       "    <tr>\n",
       "      <th>0</th>\n",
       "      <td>Pria</td>\n",
       "      <td>33</td>\n",
       "      <td>Pria</td>\n",
       "      <td>19</td>\n",
       "      <td>1</td>\n",
       "      <td>0</td>\n",
       "      <td>0</td>\n",
       "      <td>0</td>\n",
       "      <td>0</td>\n",
       "      <td>0</td>\n",
       "      <td>1</td>\n",
       "      <td>0</td>\n",
       "      <td>0</td>\n",
       "      <td>0</td>\n",
       "      <td>0</td>\n",
       "      <td>0</td>\n",
       "    </tr>\n",
       "    <tr>\n",
       "      <th>1</th>\n",
       "      <td>Pria</td>\n",
       "      <td>33</td>\n",
       "      <td>Pria</td>\n",
       "      <td>35</td>\n",
       "      <td>1</td>\n",
       "      <td>0</td>\n",
       "      <td>0</td>\n",
       "      <td>0</td>\n",
       "      <td>0</td>\n",
       "      <td>0</td>\n",
       "      <td>1</td>\n",
       "      <td>0</td>\n",
       "      <td>1</td>\n",
       "      <td>0</td>\n",
       "      <td>1</td>\n",
       "      <td>0</td>\n",
       "    </tr>\n",
       "    <tr>\n",
       "      <th>2</th>\n",
       "      <td>Pria</td>\n",
       "      <td>29</td>\n",
       "      <td>Perempuan</td>\n",
       "      <td>33</td>\n",
       "      <td>0</td>\n",
       "      <td>0</td>\n",
       "      <td>0</td>\n",
       "      <td>1</td>\n",
       "      <td>1</td>\n",
       "      <td>0</td>\n",
       "      <td>0</td>\n",
       "      <td>0</td>\n",
       "      <td>0</td>\n",
       "      <td>1</td>\n",
       "      <td>1</td>\n",
       "      <td>0</td>\n",
       "    </tr>\n",
       "    <tr>\n",
       "      <th>3</th>\n",
       "      <td>Pria</td>\n",
       "      <td>29</td>\n",
       "      <td>Pria</td>\n",
       "      <td>38</td>\n",
       "      <td>0</td>\n",
       "      <td>0</td>\n",
       "      <td>0</td>\n",
       "      <td>1</td>\n",
       "      <td>1</td>\n",
       "      <td>0</td>\n",
       "      <td>1</td>\n",
       "      <td>0</td>\n",
       "      <td>0</td>\n",
       "      <td>1</td>\n",
       "      <td>0</td>\n",
       "      <td>0</td>\n",
       "    </tr>\n",
       "    <tr>\n",
       "      <th>4</th>\n",
       "      <td>Perempuan</td>\n",
       "      <td>32</td>\n",
       "      <td>Pria</td>\n",
       "      <td>35</td>\n",
       "      <td>1</td>\n",
       "      <td>0</td>\n",
       "      <td>1</td>\n",
       "      <td>0</td>\n",
       "      <td>0</td>\n",
       "      <td>0</td>\n",
       "      <td>1</td>\n",
       "      <td>0</td>\n",
       "      <td>1</td>\n",
       "      <td>0</td>\n",
       "      <td>1</td>\n",
       "      <td>0</td>\n",
       "    </tr>\n",
       "  </tbody>\n",
       "</table>\n",
       "</div>"
      ],
      "text/plain": [
       "      Gender  Age Caregiver_Gender  Caregiver_Age  \\\n",
       "0       Pria   33             Pria             19   \n",
       "1       Pria   33             Pria             35   \n",
       "2       Pria   29        Perempuan             33   \n",
       "3       Pria   29             Pria             38   \n",
       "4  Perempuan   32             Pria             35   \n",
       "\n",
       "   ADHD-Hiperaktif-dan-kurang-fokus  Depresi  Gangguan-kecemasan  \\\n",
       "0                                 1        0                   0   \n",
       "1                                 1        0                   0   \n",
       "2                                 0        0                   0   \n",
       "3                                 0        0                   0   \n",
       "4                                 1        0                   1   \n",
       "\n",
       "   Gangguan-makan  Gangguan-stres-pascatrauma  Skizofrenia  \\\n",
       "0               0                           0            0   \n",
       "1               0                           0            0   \n",
       "2               1                           1            0   \n",
       "3               1                           1            0   \n",
       "4               0                           0            0   \n",
       "\n",
       "   Caregiver-ADHD-Hiperaktif-dan-kurang-fokus  Caregiver-Depresi  \\\n",
       "0                                           1                  0   \n",
       "1                                           1                  0   \n",
       "2                                           0                  0   \n",
       "3                                           1                  0   \n",
       "4                                           1                  0   \n",
       "\n",
       "   Caregiver-Gangguan-kecemasan  Caregiver-Gangguan-makan  \\\n",
       "0                             0                         0   \n",
       "1                             1                         0   \n",
       "2                             0                         1   \n",
       "3                             0                         1   \n",
       "4                             1                         0   \n",
       "\n",
       "   Caregiver-Gangguan-stres-pascatrauma  Caregiver-Skizofrenia  \n",
       "0                                     0                      0  \n",
       "1                                     1                      0  \n",
       "2                                     1                      0  \n",
       "3                                     0                      0  \n",
       "4                                     1                      0  "
      ]
     },
     "execution_count": 8,
     "metadata": {},
     "output_type": "execute_result"
    }
   ],
   "source": [
    "\n",
    "user_dataframe.head()\n",
    "\n"
   ]
  },
  {
   "cell_type": "code",
   "execution_count": 132,
   "id": "81bc7aa5",
   "metadata": {},
   "outputs": [
    {
     "data": {
      "text/plain": [
       "Gender                                        object\n",
       "Age                                            int64\n",
       "Caregiver_Gender                              object\n",
       "Caregiver_Age                                  int64\n",
       "ADHD-Hiperaktif-dan-kurang-fokus               int32\n",
       "Depresi                                        int32\n",
       "Gangguan-kecemasan                             int32\n",
       "Gangguan-makan                                 int32\n",
       "Gangguan-stres-pascatrauma                     int32\n",
       "Skizofrenia                                    int32\n",
       "Caregiver-ADHD-Hiperaktif-dan-kurang-fokus     int32\n",
       "Caregiver-Depresi                              int32\n",
       "Caregiver-Gangguan-kecemasan                   int32\n",
       "Caregiver-Gangguan-makan                       int32\n",
       "Caregiver-Gangguan-stres-pascatrauma           int32\n",
       "Caregiver-Skizofrenia                          int32\n",
       "dtype: object"
      ]
     },
     "execution_count": 132,
     "metadata": {},
     "output_type": "execute_result"
    }
   ],
   "source": [
    "user_dataframe.dtypes"
   ]
  },
  {
   "cell_type": "code",
   "execution_count": null,
   "id": "58ab5f9a",
   "metadata": {},
   "outputs": [],
   "source": []
  },
  {
   "cell_type": "code",
   "execution_count": 9,
   "id": "5049f45a",
   "metadata": {
    "scrolled": true
   },
   "outputs": [
    {
     "data": {
      "text/html": [
       "<div>\n",
       "<style scoped>\n",
       "    .dataframe tbody tr th:only-of-type {\n",
       "        vertical-align: middle;\n",
       "    }\n",
       "\n",
       "    .dataframe tbody tr th {\n",
       "        vertical-align: top;\n",
       "    }\n",
       "\n",
       "    .dataframe thead th {\n",
       "        text-align: right;\n",
       "    }\n",
       "</style>\n",
       "<table border=\"1\" class=\"dataframe\">\n",
       "  <thead>\n",
       "    <tr style=\"text-align: right;\">\n",
       "      <th></th>\n",
       "      <th>CAREGIVER_ID</th>\n",
       "      <th>Caregiver_Gender</th>\n",
       "      <th>Caregiver_Age</th>\n",
       "      <th>Caregiver-ADHD-Hiperaktif-dan-kurang-fokus</th>\n",
       "      <th>Caregiver-Depresi</th>\n",
       "      <th>Caregiver-Gangguan-kecemasan</th>\n",
       "      <th>Caregiver-Gangguan-makan</th>\n",
       "      <th>Caregiver-Gangguan-stres-pascatrauma</th>\n",
       "      <th>Caregiver-Skizofrenia</th>\n",
       "    </tr>\n",
       "  </thead>\n",
       "  <tbody>\n",
       "    <tr>\n",
       "      <th>0</th>\n",
       "      <td>1</td>\n",
       "      <td>Perempuan</td>\n",
       "      <td>28</td>\n",
       "      <td>1</td>\n",
       "      <td>0</td>\n",
       "      <td>0</td>\n",
       "      <td>1</td>\n",
       "      <td>1</td>\n",
       "      <td>0</td>\n",
       "    </tr>\n",
       "    <tr>\n",
       "      <th>1</th>\n",
       "      <td>2</td>\n",
       "      <td>Pria</td>\n",
       "      <td>33</td>\n",
       "      <td>0</td>\n",
       "      <td>1</td>\n",
       "      <td>0</td>\n",
       "      <td>0</td>\n",
       "      <td>0</td>\n",
       "      <td>1</td>\n",
       "    </tr>\n",
       "    <tr>\n",
       "      <th>2</th>\n",
       "      <td>3</td>\n",
       "      <td>Pria</td>\n",
       "      <td>19</td>\n",
       "      <td>1</td>\n",
       "      <td>0</td>\n",
       "      <td>0</td>\n",
       "      <td>0</td>\n",
       "      <td>0</td>\n",
       "      <td>0</td>\n",
       "    </tr>\n",
       "    <tr>\n",
       "      <th>3</th>\n",
       "      <td>4</td>\n",
       "      <td>Perempuan</td>\n",
       "      <td>18</td>\n",
       "      <td>0</td>\n",
       "      <td>0</td>\n",
       "      <td>0</td>\n",
       "      <td>1</td>\n",
       "      <td>0</td>\n",
       "      <td>1</td>\n",
       "    </tr>\n",
       "    <tr>\n",
       "      <th>4</th>\n",
       "      <td>5</td>\n",
       "      <td>Perempuan</td>\n",
       "      <td>36</td>\n",
       "      <td>0</td>\n",
       "      <td>0</td>\n",
       "      <td>1</td>\n",
       "      <td>0</td>\n",
       "      <td>0</td>\n",
       "      <td>1</td>\n",
       "    </tr>\n",
       "  </tbody>\n",
       "</table>\n",
       "</div>"
      ],
      "text/plain": [
       "   CAREGIVER_ID Caregiver_Gender  Caregiver_Age  \\\n",
       "0             1        Perempuan             28   \n",
       "1             2             Pria             33   \n",
       "2             3             Pria             19   \n",
       "3             4        Perempuan             18   \n",
       "4             5        Perempuan             36   \n",
       "\n",
       "   Caregiver-ADHD-Hiperaktif-dan-kurang-fokus  Caregiver-Depresi  \\\n",
       "0                                           1                  0   \n",
       "1                                           0                  1   \n",
       "2                                           1                  0   \n",
       "3                                           0                  0   \n",
       "4                                           0                  0   \n",
       "\n",
       "   Caregiver-Gangguan-kecemasan  Caregiver-Gangguan-makan  \\\n",
       "0                             0                         1   \n",
       "1                             0                         0   \n",
       "2                             0                         0   \n",
       "3                             0                         1   \n",
       "4                             1                         0   \n",
       "\n",
       "   Caregiver-Gangguan-stres-pascatrauma  Caregiver-Skizofrenia  \n",
       "0                                     1                      0  \n",
       "1                                     0                      1  \n",
       "2                                     0                      0  \n",
       "3                                     0                      1  \n",
       "4                                     0                      1  "
      ]
     },
     "execution_count": 9,
     "metadata": {},
     "output_type": "execute_result"
    }
   ],
   "source": [
    "caregiver_dataframe.head()"
   ]
  },
  {
   "cell_type": "code",
   "execution_count": null,
   "id": "00e2ca4a",
   "metadata": {},
   "outputs": [],
   "source": []
  },
  {
   "cell_type": "code",
   "execution_count": 10,
   "id": "e9aa7bef",
   "metadata": {},
   "outputs": [],
   "source": [
    "# A utility method to create a tf.data dataset from a Pandas Dataframe\n",
    "def df_to_dataset(dataframe, shuffle=True, batch_size=32):\n",
    "  dataframe = dataframe.copy()\n",
    "  ds = tf.data.Dataset.from_tensor_slices(dict(dataframe))\n",
    "  if shuffle:\n",
    "    ds = ds.shuffle(buffer_size=len(dataframe))\n",
    "  if(batch_size == 0 ):\n",
    "    return ds\n",
    "  ds = ds.batch(batch_size)\n",
    "  return ds"
   ]
  },
  {
   "cell_type": "code",
   "execution_count": 11,
   "id": "00024fa1",
   "metadata": {},
   "outputs": [],
   "source": [
    "unbatched_user_ds = df_to_dataset(user_dataframe, batch_size=0)"
   ]
  },
  {
   "cell_type": "code",
   "execution_count": 12,
   "id": "b8651c55",
   "metadata": {},
   "outputs": [],
   "source": [
    "batch_size = 5# A small batch sized is used for demonstration purposes\n",
    "caregiver_ds = df_to_dataset(caregiver_dataframe, batch_size=batch_size,  shuffle=False)\n",
    "user_ds = df_to_dataset(user_dataframe, batch_size=batch_size)"
   ]
  },
  {
   "cell_type": "code",
   "execution_count": 13,
   "id": "2759a6bf",
   "metadata": {},
   "outputs": [
    {
     "name": "stdout",
     "output_type": "stream",
     "text": [
      "['Caregiver-ADHD-Hiperaktif-dan-kurang-fokus', 'Caregiver-Depresi', 'Caregiver-Gangguan-kecemasan', 'Caregiver-Gangguan-makan', 'Caregiver-Gangguan-stres-pascatrauma', 'Caregiver-Skizofrenia']\n"
     ]
    }
   ],
   "source": [
    "feature_columns = []\n",
    "\n",
    "number_feature = [\"Age\"]\n",
    "number_feature += unique_masalah_user.tolist()\n",
    "print(unique_masalah_caregiver)\n",
    "# numeric cols\n",
    "for header in number_feature:\n",
    "    feature_columns.append(feature_column.numeric_column(header))\n",
    "\n",
    "age_feature = [\"Age\"]\n",
    "for col in age_feature:\n",
    "    age = feature_column.numeric_column(col)\n",
    "    age_buckets = feature_column.bucketized_column(age, boundaries=[17, 21, 25, 29, 33, 37, 41, 46])\n",
    "    feature_columns.append(age_buckets)"
   ]
  },
  {
   "cell_type": "code",
   "execution_count": 14,
   "id": "3f1d5dc3",
   "metadata": {},
   "outputs": [],
   "source": [
    "def generate_user_dense_feature():\n",
    "    feature_columns = []\n",
    "\n",
    "    number_feature = [\"Age\"]\n",
    "    number_feature += unique_masalah_user.tolist()\n",
    "    # numeric cols\n",
    "    for header in number_feature:\n",
    "        feature_columns.append(feature_column.numeric_column(header))\n",
    "\n",
    "    age_feature = [\"Age\"]\n",
    "    for col in age_feature:\n",
    "        age = feature_column.numeric_column(col)\n",
    "        age_buckets = feature_column.bucketized_column(age, boundaries=[17, 21, 25, 29, 33, 37, 41, 46])\n",
    "        feature_columns.append(age_buckets)\n",
    "\n",
    "    indicator_column_names = ['Gender']\n",
    "    for col_name in indicator_column_names:\n",
    "      categorical_column = feature_column.categorical_column_with_vocabulary_list(\n",
    "          col_name, user_dataframe[col_name].unique())\n",
    "      indicator_column = feature_column.indicator_column(categorical_column)\n",
    "      feature_columns.append(indicator_column)\n",
    "    \n",
    "    return tf.keras.layers.DenseFeatures(feature_columns)"
   ]
  },
  {
   "cell_type": "code",
   "execution_count": null,
   "id": "c207a630",
   "metadata": {},
   "outputs": [],
   "source": []
  },
  {
   "cell_type": "code",
   "execution_count": 15,
   "id": "d4055c2c",
   "metadata": {},
   "outputs": [],
   "source": [
    "def generate_caregiver_dense_feature():\n",
    "    feature_columns = []\n",
    "\n",
    "    number_feature = [\"Caregiver_Age\"]\n",
    "    number_feature += unique_masalah_caregiver\n",
    "    # numeric cols\n",
    "\n",
    "    for header in number_feature:\n",
    "        feature_columns.append(feature_column.numeric_column(header))\n",
    "\n",
    "    age_feature = [\"Caregiver_Age\"]\n",
    "    for col in age_feature:\n",
    "        age = feature_column.numeric_column(col)\n",
    "        age_buckets = feature_column.bucketized_column(age, boundaries=[17, 21, 25, 29, 33, 37, 41, 46])\n",
    "        feature_columns.append(age_buckets)\n",
    "\n",
    "    col_name = 'Caregiver_Gender'\n",
    "    categorical_column = feature_column.categorical_column_with_vocabulary_list(\n",
    "          col_name, user_dataframe[col_name].unique())\n",
    "    indicator_column = feature_column.indicator_column(categorical_column)\n",
    "    feature_columns.append(indicator_column)\n",
    "    \n",
    "    return  tf.keras.layers.DenseFeatures(feature_columns)"
   ]
  },
  {
   "cell_type": "code",
   "execution_count": 16,
   "id": "e6eb0ccf",
   "metadata": {},
   "outputs": [],
   "source": [
    "feature_layer_caregiver= generate_caregiver_dense_feature()\n",
    "feature_layer_user= generate_user_dense_feature()"
   ]
  },
  {
   "cell_type": "code",
   "execution_count": 95,
   "id": "ecf815dc",
   "metadata": {},
   "outputs": [],
   "source": [
    "\n",
    "class RecomendModel(tfrs.Model):\n",
    "\n",
    "  def __init__(self):\n",
    "    super().__init__()\n",
    "\n",
    "    embedding_dimension = 32\n",
    "\n",
    "    # Set up a model for representing users.\n",
    "    self.user_model = tf.keras.Sequential([\n",
    "        self.generate_user_dense_feature(),\n",
    "        layers.Dense(64),\n",
    "        layers.Dense(32, activation=\"linear\")\n",
    "    ])\n",
    "\n",
    "    # Set up a model for representing caregiver.\n",
    "    self.caregiver_model = tf.keras.Sequential([\n",
    "        self.generate_caregiver_dense_feature(),\n",
    "        layers.Dense(64),\n",
    "        layers.Dense(32, activation=\"linear\")\n",
    "    ])\n",
    "\n",
    "    # Set up a task to optimize the model and compute metrics.\n",
    "    self.task = tfrs.tasks.Retrieval(\n",
    "      metrics=tfrs.metrics.FactorizedTopK(\n",
    "        candidates=caregiver_ds.batch(5).map(self.caregiver_model)\n",
    "      )\n",
    "    )\n",
    "    \n",
    "\n",
    "  def generate_user_dense_feature(self):\n",
    "    feature_columns = []\n",
    "\n",
    "    number_feature = [\"Age\"]\n",
    "    number_feature += unique_masalah_user.tolist()\n",
    "    # numeric cols\n",
    "    for header in number_feature:\n",
    "        feature_columns.append(feature_column.numeric_column(header))\n",
    "\n",
    "    age_feature = [\"Age\"]\n",
    "    for col in age_feature:\n",
    "        age = feature_column.numeric_column(col)\n",
    "        age_buckets = feature_column.bucketized_column(age, boundaries=[17, 21, 25, 29, 33, 37, 41, 46])\n",
    "        feature_columns.append(age_buckets)\n",
    "\n",
    "    indicator_column_names = ['Gender']\n",
    "    for col_name in indicator_column_names:\n",
    "      categorical_column = feature_column.categorical_column_with_vocabulary_list(\n",
    "          col_name, user_dataframe[col_name].unique())\n",
    "      indicator_column = feature_column.indicator_column(categorical_column)\n",
    "      feature_columns.append(indicator_column)\n",
    "    \n",
    "    return tf.keras.layers.DenseFeatures(feature_columns)\n",
    "\n",
    "  def generate_caregiver_dense_feature(self):\n",
    "    feature_columns = []\n",
    "\n",
    "    number_feature = [\"Caregiver_Age\"]\n",
    "    number_feature += unique_masalah_caregiver\n",
    "    # numeric cols\n",
    "\n",
    "    for header in number_feature:\n",
    "        feature_columns.append(feature_column.numeric_column(header))\n",
    "\n",
    "    age_feature = [\"Caregiver_Age\"]\n",
    "    for col in age_feature:\n",
    "        age = feature_column.numeric_column(col)\n",
    "        age_buckets = feature_column.bucketized_column(age, boundaries=[17, 21, 25, 29, 33, 37, 41, 46])\n",
    "        feature_columns.append(age_buckets)\n",
    "\n",
    "    col_name = 'Caregiver_Gender'\n",
    "    categorical_column = feature_column.categorical_column_with_vocabulary_list(\n",
    "          col_name, user_dataframe[col_name].unique())\n",
    "    indicator_column = feature_column.indicator_column(categorical_column)\n",
    "    feature_columns.append(indicator_column)\n",
    "    \n",
    "    return  tf.keras.layers.DenseFeatures(feature_columns)\n",
    "\n",
    "  def call(self, features: Dict[Text, tf.Tensor], training=False) -> tf.Tensor:\n",
    "    user_embeddings = self.user_model({\n",
    "        'Age':[features['Age']],\n",
    "        'Gender':[features['Gender']],\n",
    "        'ADHD-Hiperaktif-dan-kurang-fokus':[features['ADHD-Hiperaktif-dan-kurang-fokus']],\n",
    "        'Depresi':[features['Depresi']],\n",
    "        'Gangguan-kecemasan':[features['Gangguan-kecemasan']],\n",
    "        'Gangguan-makan':[features['Gangguan-makan']],\n",
    "        'Gangguan-stres-pascatrauma':[features['Gangguan-stres-pascatrauma']],\n",
    "        'Skizofrenia':[features['Skizofrenia']]\n",
    "    })\n",
    "    # And pick out the movie features and pass them into the movie model,\n",
    "    # getting embeddings back.\n",
    "    positive_caregiver_embeddings = self.caregiver_model({\n",
    "        'Caregiver_Age':[features['Caregiver_Age']],\n",
    "        'Caregiver_Gender':[features['Caregiver_Gender']],\n",
    "        'Caregiver-ADHD-Hiperaktif-dan-kurang-fokus':[features['Caregiver-ADHD-Hiperaktif-dan-kurang-fokus']],\n",
    "        'Caregiver-Depresi':[features['Caregiver-Depresi']],\n",
    "        'Caregiver-Gangguan-kecemasan':[features['Caregiver-Gangguan-kecemasan']],\n",
    "        'Caregiver-Gangguan-makan':[features['Caregiver-Gangguan-makan']],\n",
    "        'Caregiver-Gangguan-stres-pascatrauma':[features['Caregiver-Gangguan-stres-pascatrauma']],\n",
    "        'Caregiver-Skizofrenia':[features['Caregiver-Skizofrenia']]\n",
    "        \n",
    "    })\n",
    "    return tf.concat([positive_caregiver_embeddings, user_embeddings],0)\n",
    "\n",
    "  def compute_loss(self, features: Dict[Text, tf.Tensor], training=False) -> tf.Tensor:\n",
    "    \n",
    "    caregiver_features = ['Caregiver_Gender', 'Caregiver_Age',  'Caregiver-ADHD-Hiperaktif-dan-kurang-fokus', 'Caregiver-Depresi', 'Caregiver-Gangguan-kecemasan', 'Caregiver-Gangguan-makan', 'Caregiver-Gangguan-stres-pascatrauma', 'Caregiver-Skizofrenia']\n",
    "    user_features = ['Gender', 'Age', 'ADHD-Hiperaktif-dan-kurang-fokus', 'Depresi', 'Gangguan-kecemasan', 'Gangguan-makan','Gangguan-stres-pascatrauma', 'Skizofrenia']\n",
    "    \n",
    "    \n",
    "    # We pick out the user features and pass them into the user model.\n",
    "    \n",
    "    user_embeddings = self.user_model({\n",
    "        'Age':features['Age'],\n",
    "        'Gender':features['Gender'],\n",
    "        'ADHD-Hiperaktif-dan-kurang-fokus':features['ADHD-Hiperaktif-dan-kurang-fokus'],\n",
    "        'Depresi':features['Depresi'],\n",
    "        'Gangguan-kecemasan':features['Gangguan-kecemasan'],\n",
    "        'Gangguan-makan':features['Gangguan-makan'],\n",
    "        'Gangguan-stres-pascatrauma':features['Gangguan-stres-pascatrauma'],\n",
    "        'Skizofrenia':features['Skizofrenia']\n",
    "    })\n",
    "    # And pick out the movie features and pass them into the movie model,\n",
    "    # getting embeddings back.\n",
    "    positive_caregiver_embeddings = self.caregiver_model({\n",
    "        'Caregiver_Age':features['Caregiver_Age'],\n",
    "        'Caregiver_Gender':features['Caregiver_Gender'],\n",
    "        'Caregiver-ADHD-Hiperaktif-dan-kurang-fokus':features['Caregiver-ADHD-Hiperaktif-dan-kurang-fokus'],\n",
    "        'Caregiver-Depresi':features['Caregiver-Depresi'],\n",
    "        'Caregiver-Gangguan-kecemasan':features['Caregiver-Gangguan-kecemasan'],\n",
    "        'Caregiver-Gangguan-makan':features['Caregiver-Gangguan-makan'],\n",
    "        'Caregiver-Gangguan-stres-pascatrauma':features['Caregiver-Gangguan-stres-pascatrauma'],\n",
    "        'Caregiver-Skizofrenia':features['Caregiver-Skizofrenia']\n",
    "        \n",
    "    })\n",
    "    \n",
    "\n",
    "    # The task computes the loss and the metrics.\n",
    "\n",
    "    return self.task(user_embeddings, positive_caregiver_embeddings, compute_metrics=not training)"
   ]
  },
  {
   "cell_type": "code",
   "execution_count": 87,
   "id": "acc13ff0",
   "metadata": {},
   "outputs": [],
   "source": [
    "caregiver_features = ['Caregiver_Gender', 'Caregiver_Age',  'Caregiver-ADHD-Hiperaktif-dan-kurang-fokus', 'Caregiver-Depresi', 'Caregiver-Gangguan-kecemasan', 'Caregiver-Gangguan-makan', 'Caregiver-Gangguan-stres-pascatrauma', 'Caregiver-Skizofrenia']\n",
    "user_features = ['Gender', 'Age', 'ADHD-Hiperaktif-dan-kurang-fokus', 'Depresi', 'Gangguan-kecemasan', 'Gangguan-makan','Gangguan-stres-pascatrauma', 'Skizofrenia']"
   ]
  },
  {
   "cell_type": "code",
   "execution_count": 88,
   "id": "f92c75f5",
   "metadata": {},
   "outputs": [
    {
     "name": "stdout",
     "output_type": "stream",
     "text": [
      "Every feature: ['CAREGIVER_ID', 'Caregiver_Gender', 'Caregiver_Age', 'Caregiver-ADHD-Hiperaktif-dan-kurang-fokus', 'Caregiver-Depresi', 'Caregiver-Gangguan-kecemasan', 'Caregiver-Gangguan-makan', 'Caregiver-Gangguan-stres-pascatrauma', 'Caregiver-Skizofrenia']\n",
      "A batch of ages: tf.Tensor([1 0 1 0 0], shape=(5,), dtype=int32)\n"
     ]
    }
   ],
   "source": [
    "\n",
    "for feature_batch in caregiver_ds.take(1):\n",
    "  print('Every feature:', list(feature_batch.keys()))\n",
    "  print('A batch of ages:', feature_batch['Caregiver-ADHD-Hiperaktif-dan-kurang-fokus'])"
   ]
  },
  {
   "cell_type": "code",
   "execution_count": 89,
   "id": "9916b33a",
   "metadata": {},
   "outputs": [],
   "source": [
    "import tensorflow_datasets as tfds"
   ]
  },
  {
   "cell_type": "code",
   "execution_count": 90,
   "id": "eef5f320",
   "metadata": {},
   "outputs": [],
   "source": [
    "def get_dataset_partitions_tf(ds, ds_size, train_split=0.8, val_split=0.1, test_split=0.1, shuffle=True, shuffle_size=10000):\n",
    "    assert (train_split + test_split + val_split) == 1\n",
    "    \n",
    "    if shuffle:\n",
    "        # Specify seed to always have the same split distribution between runs\n",
    "        ds = ds.shuffle(shuffle_size, seed=12)\n",
    "    \n",
    "    train_size = int(train_split * ds_size)\n",
    "    val_size = int(val_split * ds_size)\n",
    "    \n",
    "    train_ds = ds.take(train_size)    \n",
    "    val_ds = ds.skip(train_size).take(val_size)\n",
    "    test_ds = ds.skip(train_size).skip(val_size)\n",
    "    \n",
    "    return train_ds, val_ds, test_ds"
   ]
  },
  {
   "cell_type": "code",
   "execution_count": 91,
   "id": "7cb52f1f",
   "metadata": {},
   "outputs": [],
   "source": [
    "train_ds, val_ds, test_ds = get_dataset_partitions_tf(user_ds, 200, train_split=0.8, val_split=0.2, test_split=0,)"
   ]
  },
  {
   "cell_type": "code",
   "execution_count": 110,
   "id": "0694d02e",
   "metadata": {
    "scrolled": false
   },
   "outputs": [
    {
     "name": "stdout",
     "output_type": "stream",
     "text": [
      "WARNING:tensorflow:Layers in a Sequential model should only have a single input tensor. Received: inputs={'CAREGIVER_ID': <tf.Tensor 'args_0:0' shape=(None, None) dtype=int64>, 'Caregiver_Gender': <tf.Tensor 'args_8:0' shape=(None, None) dtype=string>, 'Caregiver_Age': <tf.Tensor 'args_7:0' shape=(None, None) dtype=int64>, 'Caregiver-ADHD-Hiperaktif-dan-kurang-fokus': <tf.Tensor 'args_1:0' shape=(None, None) dtype=int32>, 'Caregiver-Depresi': <tf.Tensor 'args_2:0' shape=(None, None) dtype=int32>, 'Caregiver-Gangguan-kecemasan': <tf.Tensor 'args_3:0' shape=(None, None) dtype=int32>, 'Caregiver-Gangguan-makan': <tf.Tensor 'args_4:0' shape=(None, None) dtype=int32>, 'Caregiver-Gangguan-stres-pascatrauma': <tf.Tensor 'args_5:0' shape=(None, None) dtype=int32>, 'Caregiver-Skizofrenia': <tf.Tensor 'args_6:0' shape=(None, None) dtype=int32>}. Consider rewriting this model with the Functional API.\n",
      "Epoch 1/50\n",
      "WARNING:tensorflow:Layers in a Sequential model should only have a single input tensor. Received: inputs={'Age': <tf.Tensor 'IteratorGetNext:1' shape=(None,) dtype=int64>, 'Gender': <tf.Tensor 'IteratorGetNext:14' shape=(None,) dtype=string>, 'ADHD-Hiperaktif-dan-kurang-fokus': <tf.Tensor 'IteratorGetNext:0' shape=(None,) dtype=int32>, 'Depresi': <tf.Tensor 'IteratorGetNext:10' shape=(None,) dtype=int32>, 'Gangguan-kecemasan': <tf.Tensor 'IteratorGetNext:11' shape=(None,) dtype=int32>, 'Gangguan-makan': <tf.Tensor 'IteratorGetNext:12' shape=(None,) dtype=int32>, 'Gangguan-stres-pascatrauma': <tf.Tensor 'IteratorGetNext:13' shape=(None,) dtype=int32>, 'Skizofrenia': <tf.Tensor 'IteratorGetNext:15' shape=(None,) dtype=int32>}. Consider rewriting this model with the Functional API.\n",
      "WARNING:tensorflow:Layers in a Sequential model should only have a single input tensor. Received: inputs={'Caregiver_Age': <tf.Tensor 'IteratorGetNext:8' shape=(None,) dtype=int64>, 'Caregiver_Gender': <tf.Tensor 'IteratorGetNext:9' shape=(None,) dtype=string>, 'Caregiver-ADHD-Hiperaktif-dan-kurang-fokus': <tf.Tensor 'IteratorGetNext:2' shape=(None,) dtype=int32>, 'Caregiver-Depresi': <tf.Tensor 'IteratorGetNext:3' shape=(None,) dtype=int32>, 'Caregiver-Gangguan-kecemasan': <tf.Tensor 'IteratorGetNext:4' shape=(None,) dtype=int32>, 'Caregiver-Gangguan-makan': <tf.Tensor 'IteratorGetNext:5' shape=(None,) dtype=int32>, 'Caregiver-Gangguan-stres-pascatrauma': <tf.Tensor 'IteratorGetNext:6' shape=(None,) dtype=int32>, 'Caregiver-Skizofrenia': <tf.Tensor 'IteratorGetNext:7' shape=(None,) dtype=int32>}. Consider rewriting this model with the Functional API.\n",
      "WARNING:tensorflow:Layers in a Sequential model should only have a single input tensor. Received: inputs={'Age': <tf.Tensor 'IteratorGetNext:1' shape=(None,) dtype=int64>, 'Gender': <tf.Tensor 'IteratorGetNext:14' shape=(None,) dtype=string>, 'ADHD-Hiperaktif-dan-kurang-fokus': <tf.Tensor 'IteratorGetNext:0' shape=(None,) dtype=int32>, 'Depresi': <tf.Tensor 'IteratorGetNext:10' shape=(None,) dtype=int32>, 'Gangguan-kecemasan': <tf.Tensor 'IteratorGetNext:11' shape=(None,) dtype=int32>, 'Gangguan-makan': <tf.Tensor 'IteratorGetNext:12' shape=(None,) dtype=int32>, 'Gangguan-stres-pascatrauma': <tf.Tensor 'IteratorGetNext:13' shape=(None,) dtype=int32>, 'Skizofrenia': <tf.Tensor 'IteratorGetNext:15' shape=(None,) dtype=int32>}. Consider rewriting this model with the Functional API.\n",
      "WARNING:tensorflow:Layers in a Sequential model should only have a single input tensor. Received: inputs={'Caregiver_Age': <tf.Tensor 'IteratorGetNext:8' shape=(None,) dtype=int64>, 'Caregiver_Gender': <tf.Tensor 'IteratorGetNext:9' shape=(None,) dtype=string>, 'Caregiver-ADHD-Hiperaktif-dan-kurang-fokus': <tf.Tensor 'IteratorGetNext:2' shape=(None,) dtype=int32>, 'Caregiver-Depresi': <tf.Tensor 'IteratorGetNext:3' shape=(None,) dtype=int32>, 'Caregiver-Gangguan-kecemasan': <tf.Tensor 'IteratorGetNext:4' shape=(None,) dtype=int32>, 'Caregiver-Gangguan-makan': <tf.Tensor 'IteratorGetNext:5' shape=(None,) dtype=int32>, 'Caregiver-Gangguan-stres-pascatrauma': <tf.Tensor 'IteratorGetNext:6' shape=(None,) dtype=int32>, 'Caregiver-Skizofrenia': <tf.Tensor 'IteratorGetNext:7' shape=(None,) dtype=int32>}. Consider rewriting this model with the Functional API.\n",
      "40/40 [==============================] - 1s 10ms/step - factorized_top_k/top_1_categorical_accuracy: 0.0000e+00 - factorized_top_k/top_5_categorical_accuracy: 0.0000e+00 - factorized_top_k/top_10_categorical_accuracy: 0.0000e+00 - factorized_top_k/top_50_categorical_accuracy: 0.0000e+00 - factorized_top_k/top_100_categorical_accuracy: 0.0000e+00 - loss: 2874.5940 - regularization_loss: 0.0000e+00 - total_loss: 2874.5940\n",
      "Epoch 2/50\n",
      "40/40 [==============================] - 0s 10ms/step - factorized_top_k/top_1_categorical_accuracy: 0.0000e+00 - factorized_top_k/top_5_categorical_accuracy: 0.0000e+00 - factorized_top_k/top_10_categorical_accuracy: 0.0000e+00 - factorized_top_k/top_50_categorical_accuracy: 0.0000e+00 - factorized_top_k/top_100_categorical_accuracy: 0.0000e+00 - loss: 44.6202 - regularization_loss: 0.0000e+00 - total_loss: 44.6202\n",
      "Epoch 3/50\n",
      "40/40 [==============================] - 0s 10ms/step - factorized_top_k/top_1_categorical_accuracy: 0.0000e+00 - factorized_top_k/top_5_categorical_accuracy: 0.0000e+00 - factorized_top_k/top_10_categorical_accuracy: 0.0000e+00 - factorized_top_k/top_50_categorical_accuracy: 0.0000e+00 - factorized_top_k/top_100_categorical_accuracy: 0.0000e+00 - loss: 26.5484 - regularization_loss: 0.0000e+00 - total_loss: 26.5484\n",
      "Epoch 4/50\n",
      "40/40 [==============================] - 0s 10ms/step - factorized_top_k/top_1_categorical_accuracy: 0.0000e+00 - factorized_top_k/top_5_categorical_accuracy: 0.0000e+00 - factorized_top_k/top_10_categorical_accuracy: 0.0000e+00 - factorized_top_k/top_50_categorical_accuracy: 0.0000e+00 - factorized_top_k/top_100_categorical_accuracy: 0.0000e+00 - loss: 21.1012 - regularization_loss: 0.0000e+00 - total_loss: 21.1012\n",
      "Epoch 5/50\n",
      "40/40 [==============================] - 0s 10ms/step - factorized_top_k/top_1_categorical_accuracy: 0.0000e+00 - factorized_top_k/top_5_categorical_accuracy: 0.0000e+00 - factorized_top_k/top_10_categorical_accuracy: 0.0000e+00 - factorized_top_k/top_50_categorical_accuracy: 0.0000e+00 - factorized_top_k/top_100_categorical_accuracy: 0.0000e+00 - loss: 13.3598 - regularization_loss: 0.0000e+00 - total_loss: 13.3598\n",
      "Epoch 6/50\n",
      "40/40 [==============================] - 0s 10ms/step - factorized_top_k/top_1_categorical_accuracy: 0.0000e+00 - factorized_top_k/top_5_categorical_accuracy: 0.0000e+00 - factorized_top_k/top_10_categorical_accuracy: 0.0000e+00 - factorized_top_k/top_50_categorical_accuracy: 0.0000e+00 - factorized_top_k/top_100_categorical_accuracy: 0.0000e+00 - loss: 12.3745 - regularization_loss: 0.0000e+00 - total_loss: 12.3745\n",
      "Epoch 7/50\n",
      "40/40 [==============================] - 0s 9ms/step - factorized_top_k/top_1_categorical_accuracy: 0.0000e+00 - factorized_top_k/top_5_categorical_accuracy: 0.0000e+00 - factorized_top_k/top_10_categorical_accuracy: 0.0000e+00 - factorized_top_k/top_50_categorical_accuracy: 0.0000e+00 - factorized_top_k/top_100_categorical_accuracy: 0.0000e+00 - loss: 10.9401 - regularization_loss: 0.0000e+00 - total_loss: 10.9401\n",
      "Epoch 8/50\n",
      "40/40 [==============================] - 0s 9ms/step - factorized_top_k/top_1_categorical_accuracy: 0.0000e+00 - factorized_top_k/top_5_categorical_accuracy: 0.0000e+00 - factorized_top_k/top_10_categorical_accuracy: 0.0000e+00 - factorized_top_k/top_50_categorical_accuracy: 0.0000e+00 - factorized_top_k/top_100_categorical_accuracy: 0.0000e+00 - loss: 8.8553 - regularization_loss: 0.0000e+00 - total_loss: 8.8553\n",
      "Epoch 9/50\n",
      "40/40 [==============================] - 0s 9ms/step - factorized_top_k/top_1_categorical_accuracy: 0.0000e+00 - factorized_top_k/top_5_categorical_accuracy: 0.0000e+00 - factorized_top_k/top_10_categorical_accuracy: 0.0000e+00 - factorized_top_k/top_50_categorical_accuracy: 0.0000e+00 - factorized_top_k/top_100_categorical_accuracy: 0.0000e+00 - loss: 8.4230 - regularization_loss: 0.0000e+00 - total_loss: 8.4230\n",
      "Epoch 10/50\n"
     ]
    },
    {
     "name": "stdout",
     "output_type": "stream",
     "text": [
      "40/40 [==============================] - 0s 9ms/step - factorized_top_k/top_1_categorical_accuracy: 0.0000e+00 - factorized_top_k/top_5_categorical_accuracy: 0.0000e+00 - factorized_top_k/top_10_categorical_accuracy: 0.0000e+00 - factorized_top_k/top_50_categorical_accuracy: 0.0000e+00 - factorized_top_k/top_100_categorical_accuracy: 0.0000e+00 - loss: 8.1960 - regularization_loss: 0.0000e+00 - total_loss: 8.1960\n",
      "Epoch 11/50\n",
      "40/40 [==============================] - 0s 9ms/step - factorized_top_k/top_1_categorical_accuracy: 0.0000e+00 - factorized_top_k/top_5_categorical_accuracy: 0.0000e+00 - factorized_top_k/top_10_categorical_accuracy: 0.0000e+00 - factorized_top_k/top_50_categorical_accuracy: 0.0000e+00 - factorized_top_k/top_100_categorical_accuracy: 0.0000e+00 - loss: 7.8650 - regularization_loss: 0.0000e+00 - total_loss: 7.8650\n",
      "Epoch 12/50\n",
      "40/40 [==============================] - 0s 9ms/step - factorized_top_k/top_1_categorical_accuracy: 0.0000e+00 - factorized_top_k/top_5_categorical_accuracy: 0.0000e+00 - factorized_top_k/top_10_categorical_accuracy: 0.0000e+00 - factorized_top_k/top_50_categorical_accuracy: 0.0000e+00 - factorized_top_k/top_100_categorical_accuracy: 0.0000e+00 - loss: 7.8888 - regularization_loss: 0.0000e+00 - total_loss: 7.8888\n",
      "Epoch 13/50\n",
      "40/40 [==============================] - 0s 9ms/step - factorized_top_k/top_1_categorical_accuracy: 0.0000e+00 - factorized_top_k/top_5_categorical_accuracy: 0.0000e+00 - factorized_top_k/top_10_categorical_accuracy: 0.0000e+00 - factorized_top_k/top_50_categorical_accuracy: 0.0000e+00 - factorized_top_k/top_100_categorical_accuracy: 0.0000e+00 - loss: 7.4260 - regularization_loss: 0.0000e+00 - total_loss: 7.4260\n",
      "Epoch 14/50\n",
      "40/40 [==============================] - 0s 9ms/step - factorized_top_k/top_1_categorical_accuracy: 0.0000e+00 - factorized_top_k/top_5_categorical_accuracy: 0.0000e+00 - factorized_top_k/top_10_categorical_accuracy: 0.0000e+00 - factorized_top_k/top_50_categorical_accuracy: 0.0000e+00 - factorized_top_k/top_100_categorical_accuracy: 0.0000e+00 - loss: 7.4159 - regularization_loss: 0.0000e+00 - total_loss: 7.4159\n",
      "Epoch 15/50\n",
      "40/40 [==============================] - 0s 9ms/step - factorized_top_k/top_1_categorical_accuracy: 0.0000e+00 - factorized_top_k/top_5_categorical_accuracy: 0.0000e+00 - factorized_top_k/top_10_categorical_accuracy: 0.0000e+00 - factorized_top_k/top_50_categorical_accuracy: 0.0000e+00 - factorized_top_k/top_100_categorical_accuracy: 0.0000e+00 - loss: 7.7699 - regularization_loss: 0.0000e+00 - total_loss: 7.7699\n",
      "Epoch 16/50\n",
      "40/40 [==============================] - 0s 10ms/step - factorized_top_k/top_1_categorical_accuracy: 0.0000e+00 - factorized_top_k/top_5_categorical_accuracy: 0.0000e+00 - factorized_top_k/top_10_categorical_accuracy: 0.0000e+00 - factorized_top_k/top_50_categorical_accuracy: 0.0000e+00 - factorized_top_k/top_100_categorical_accuracy: 0.0000e+00 - loss: 7.2726 - regularization_loss: 0.0000e+00 - total_loss: 7.2726\n",
      "Epoch 17/50\n",
      "40/40 [==============================] - 0s 10ms/step - factorized_top_k/top_1_categorical_accuracy: 0.0000e+00 - factorized_top_k/top_5_categorical_accuracy: 0.0000e+00 - factorized_top_k/top_10_categorical_accuracy: 0.0000e+00 - factorized_top_k/top_50_categorical_accuracy: 0.0000e+00 - factorized_top_k/top_100_categorical_accuracy: 0.0000e+00 - loss: 7.2021 - regularization_loss: 0.0000e+00 - total_loss: 7.2021\n",
      "Epoch 18/50\n",
      "40/40 [==============================] - 0s 9ms/step - factorized_top_k/top_1_categorical_accuracy: 0.0000e+00 - factorized_top_k/top_5_categorical_accuracy: 0.0000e+00 - factorized_top_k/top_10_categorical_accuracy: 0.0000e+00 - factorized_top_k/top_50_categorical_accuracy: 0.0000e+00 - factorized_top_k/top_100_categorical_accuracy: 0.0000e+00 - loss: 7.3797 - regularization_loss: 0.0000e+00 - total_loss: 7.3797\n",
      "Epoch 19/50\n",
      "40/40 [==============================] - 0s 9ms/step - factorized_top_k/top_1_categorical_accuracy: 0.0000e+00 - factorized_top_k/top_5_categorical_accuracy: 0.0000e+00 - factorized_top_k/top_10_categorical_accuracy: 0.0000e+00 - factorized_top_k/top_50_categorical_accuracy: 0.0000e+00 - factorized_top_k/top_100_categorical_accuracy: 0.0000e+00 - loss: 7.2520 - regularization_loss: 0.0000e+00 - total_loss: 7.2520\n",
      "Epoch 20/50\n",
      "40/40 [==============================] - 0s 9ms/step - factorized_top_k/top_1_categorical_accuracy: 0.0000e+00 - factorized_top_k/top_5_categorical_accuracy: 0.0000e+00 - factorized_top_k/top_10_categorical_accuracy: 0.0000e+00 - factorized_top_k/top_50_categorical_accuracy: 0.0000e+00 - factorized_top_k/top_100_categorical_accuracy: 0.0000e+00 - loss: 7.0440 - regularization_loss: 0.0000e+00 - total_loss: 7.0440\n",
      "Epoch 21/50\n",
      "40/40 [==============================] - 0s 9ms/step - factorized_top_k/top_1_categorical_accuracy: 0.0000e+00 - factorized_top_k/top_5_categorical_accuracy: 0.0000e+00 - factorized_top_k/top_10_categorical_accuracy: 0.0000e+00 - factorized_top_k/top_50_categorical_accuracy: 0.0000e+00 - factorized_top_k/top_100_categorical_accuracy: 0.0000e+00 - loss: 6.6220 - regularization_loss: 0.0000e+00 - total_loss: 6.6220\n",
      "Epoch 22/50\n",
      "40/40 [==============================] - 0s 9ms/step - factorized_top_k/top_1_categorical_accuracy: 0.0000e+00 - factorized_top_k/top_5_categorical_accuracy: 0.0000e+00 - factorized_top_k/top_10_categorical_accuracy: 0.0000e+00 - factorized_top_k/top_50_categorical_accuracy: 0.0000e+00 - factorized_top_k/top_100_categorical_accuracy: 0.0000e+00 - loss: 7.3280 - regularization_loss: 0.0000e+00 - total_loss: 7.3280\n",
      "Epoch 23/50\n",
      "40/40 [==============================] - 0s 9ms/step - factorized_top_k/top_1_categorical_accuracy: 0.0000e+00 - factorized_top_k/top_5_categorical_accuracy: 0.0000e+00 - factorized_top_k/top_10_categorical_accuracy: 0.0000e+00 - factorized_top_k/top_50_categorical_accuracy: 0.0000e+00 - factorized_top_k/top_100_categorical_accuracy: 0.0000e+00 - loss: 6.9321 - regularization_loss: 0.0000e+00 - total_loss: 6.9321\n",
      "Epoch 24/50\n",
      "40/40 [==============================] - 0s 9ms/step - factorized_top_k/top_1_categorical_accuracy: 0.0000e+00 - factorized_top_k/top_5_categorical_accuracy: 0.0000e+00 - factorized_top_k/top_10_categorical_accuracy: 0.0000e+00 - factorized_top_k/top_50_categorical_accuracy: 0.0000e+00 - factorized_top_k/top_100_categorical_accuracy: 0.0000e+00 - loss: 6.8587 - regularization_loss: 0.0000e+00 - total_loss: 6.8587\n",
      "Epoch 25/50\n",
      "40/40 [==============================] - 0s 9ms/step - factorized_top_k/top_1_categorical_accuracy: 0.0000e+00 - factorized_top_k/top_5_categorical_accuracy: 0.0000e+00 - factorized_top_k/top_10_categorical_accuracy: 0.0000e+00 - factorized_top_k/top_50_categorical_accuracy: 0.0000e+00 - factorized_top_k/top_100_categorical_accuracy: 0.0000e+00 - loss: 6.6095 - regularization_loss: 0.0000e+00 - total_loss: 6.6095\n",
      "Epoch 26/50\n",
      "40/40 [==============================] - 0s 9ms/step - factorized_top_k/top_1_categorical_accuracy: 0.0000e+00 - factorized_top_k/top_5_categorical_accuracy: 0.0000e+00 - factorized_top_k/top_10_categorical_accuracy: 0.0000e+00 - factorized_top_k/top_50_categorical_accuracy: 0.0000e+00 - factorized_top_k/top_100_categorical_accuracy: 0.0000e+00 - loss: 6.8685 - regularization_loss: 0.0000e+00 - total_loss: 6.8685\n",
      "Epoch 27/50\n",
      "40/40 [==============================] - 0s 9ms/step - factorized_top_k/top_1_categorical_accuracy: 0.0000e+00 - factorized_top_k/top_5_categorical_accuracy: 0.0000e+00 - factorized_top_k/top_10_categorical_accuracy: 0.0000e+00 - factorized_top_k/top_50_categorical_accuracy: 0.0000e+00 - factorized_top_k/top_100_categorical_accuracy: 0.0000e+00 - loss: 6.5623 - regularization_loss: 0.0000e+00 - total_loss: 6.5623\n",
      "Epoch 28/50\n",
      "40/40 [==============================] - 0s 9ms/step - factorized_top_k/top_1_categorical_accuracy: 0.0000e+00 - factorized_top_k/top_5_categorical_accuracy: 0.0000e+00 - factorized_top_k/top_10_categorical_accuracy: 0.0000e+00 - factorized_top_k/top_50_categorical_accuracy: 0.0000e+00 - factorized_top_k/top_100_categorical_accuracy: 0.0000e+00 - loss: 6.5913 - regularization_loss: 0.0000e+00 - total_loss: 6.5913\n",
      "Epoch 29/50\n"
     ]
    },
    {
     "name": "stdout",
     "output_type": "stream",
     "text": [
      "40/40 [==============================] - 0s 9ms/step - factorized_top_k/top_1_categorical_accuracy: 0.0000e+00 - factorized_top_k/top_5_categorical_accuracy: 0.0000e+00 - factorized_top_k/top_10_categorical_accuracy: 0.0000e+00 - factorized_top_k/top_50_categorical_accuracy: 0.0000e+00 - factorized_top_k/top_100_categorical_accuracy: 0.0000e+00 - loss: 6.5812 - regularization_loss: 0.0000e+00 - total_loss: 6.5812\n",
      "Epoch 30/50\n",
      "40/40 [==============================] - 0s 9ms/step - factorized_top_k/top_1_categorical_accuracy: 0.0000e+00 - factorized_top_k/top_5_categorical_accuracy: 0.0000e+00 - factorized_top_k/top_10_categorical_accuracy: 0.0000e+00 - factorized_top_k/top_50_categorical_accuracy: 0.0000e+00 - factorized_top_k/top_100_categorical_accuracy: 0.0000e+00 - loss: 6.9164 - regularization_loss: 0.0000e+00 - total_loss: 6.9164\n",
      "Epoch 31/50\n",
      "40/40 [==============================] - 0s 9ms/step - factorized_top_k/top_1_categorical_accuracy: 0.0000e+00 - factorized_top_k/top_5_categorical_accuracy: 0.0000e+00 - factorized_top_k/top_10_categorical_accuracy: 0.0000e+00 - factorized_top_k/top_50_categorical_accuracy: 0.0000e+00 - factorized_top_k/top_100_categorical_accuracy: 0.0000e+00 - loss: 6.9037 - regularization_loss: 0.0000e+00 - total_loss: 6.9037\n",
      "Epoch 32/50\n",
      "40/40 [==============================] - 0s 9ms/step - factorized_top_k/top_1_categorical_accuracy: 0.0000e+00 - factorized_top_k/top_5_categorical_accuracy: 0.0000e+00 - factorized_top_k/top_10_categorical_accuracy: 0.0000e+00 - factorized_top_k/top_50_categorical_accuracy: 0.0000e+00 - factorized_top_k/top_100_categorical_accuracy: 0.0000e+00 - loss: 6.7480 - regularization_loss: 0.0000e+00 - total_loss: 6.7480\n",
      "Epoch 33/50\n",
      "40/40 [==============================] - 0s 9ms/step - factorized_top_k/top_1_categorical_accuracy: 0.0000e+00 - factorized_top_k/top_5_categorical_accuracy: 0.0000e+00 - factorized_top_k/top_10_categorical_accuracy: 0.0000e+00 - factorized_top_k/top_50_categorical_accuracy: 0.0000e+00 - factorized_top_k/top_100_categorical_accuracy: 0.0000e+00 - loss: 6.6068 - regularization_loss: 0.0000e+00 - total_loss: 6.6068\n",
      "Epoch 34/50\n",
      "40/40 [==============================] - 0s 9ms/step - factorized_top_k/top_1_categorical_accuracy: 0.0000e+00 - factorized_top_k/top_5_categorical_accuracy: 0.0000e+00 - factorized_top_k/top_10_categorical_accuracy: 0.0000e+00 - factorized_top_k/top_50_categorical_accuracy: 0.0000e+00 - factorized_top_k/top_100_categorical_accuracy: 0.0000e+00 - loss: 6.8639 - regularization_loss: 0.0000e+00 - total_loss: 6.8639\n",
      "Epoch 35/50\n",
      "40/40 [==============================] - 0s 10ms/step - factorized_top_k/top_1_categorical_accuracy: 0.0000e+00 - factorized_top_k/top_5_categorical_accuracy: 0.0000e+00 - factorized_top_k/top_10_categorical_accuracy: 0.0000e+00 - factorized_top_k/top_50_categorical_accuracy: 0.0000e+00 - factorized_top_k/top_100_categorical_accuracy: 0.0000e+00 - loss: 6.5787 - regularization_loss: 0.0000e+00 - total_loss: 6.5787\n",
      "Epoch 36/50\n",
      "40/40 [==============================] - 0s 10ms/step - factorized_top_k/top_1_categorical_accuracy: 0.0000e+00 - factorized_top_k/top_5_categorical_accuracy: 0.0000e+00 - factorized_top_k/top_10_categorical_accuracy: 0.0000e+00 - factorized_top_k/top_50_categorical_accuracy: 0.0000e+00 - factorized_top_k/top_100_categorical_accuracy: 0.0000e+00 - loss: 6.5010 - regularization_loss: 0.0000e+00 - total_loss: 6.5010\n",
      "Epoch 37/50\n",
      "40/40 [==============================] - 0s 9ms/step - factorized_top_k/top_1_categorical_accuracy: 0.0000e+00 - factorized_top_k/top_5_categorical_accuracy: 0.0000e+00 - factorized_top_k/top_10_categorical_accuracy: 0.0000e+00 - factorized_top_k/top_50_categorical_accuracy: 0.0000e+00 - factorized_top_k/top_100_categorical_accuracy: 0.0000e+00 - loss: 6.7623 - regularization_loss: 0.0000e+00 - total_loss: 6.7623\n",
      "Epoch 38/50\n",
      "40/40 [==============================] - 0s 9ms/step - factorized_top_k/top_1_categorical_accuracy: 0.0000e+00 - factorized_top_k/top_5_categorical_accuracy: 0.0000e+00 - factorized_top_k/top_10_categorical_accuracy: 0.0000e+00 - factorized_top_k/top_50_categorical_accuracy: 0.0000e+00 - factorized_top_k/top_100_categorical_accuracy: 0.0000e+00 - loss: 6.6497 - regularization_loss: 0.0000e+00 - total_loss: 6.6497\n",
      "Epoch 39/50\n",
      "40/40 [==============================] - 0s 9ms/step - factorized_top_k/top_1_categorical_accuracy: 0.0000e+00 - factorized_top_k/top_5_categorical_accuracy: 0.0000e+00 - factorized_top_k/top_10_categorical_accuracy: 0.0000e+00 - factorized_top_k/top_50_categorical_accuracy: 0.0000e+00 - factorized_top_k/top_100_categorical_accuracy: 0.0000e+00 - loss: 6.6926 - regularization_loss: 0.0000e+00 - total_loss: 6.6926\n",
      "Epoch 40/50\n",
      "40/40 [==============================] - 0s 9ms/step - factorized_top_k/top_1_categorical_accuracy: 0.0000e+00 - factorized_top_k/top_5_categorical_accuracy: 0.0000e+00 - factorized_top_k/top_10_categorical_accuracy: 0.0000e+00 - factorized_top_k/top_50_categorical_accuracy: 0.0000e+00 - factorized_top_k/top_100_categorical_accuracy: 0.0000e+00 - loss: 6.0211 - regularization_loss: 0.0000e+00 - total_loss: 6.0211\n",
      "Epoch 41/50\n",
      "40/40 [==============================] - 0s 9ms/step - factorized_top_k/top_1_categorical_accuracy: 0.0000e+00 - factorized_top_k/top_5_categorical_accuracy: 0.0000e+00 - factorized_top_k/top_10_categorical_accuracy: 0.0000e+00 - factorized_top_k/top_50_categorical_accuracy: 0.0000e+00 - factorized_top_k/top_100_categorical_accuracy: 0.0000e+00 - loss: 6.5983 - regularization_loss: 0.0000e+00 - total_loss: 6.5983\n",
      "Epoch 42/50\n",
      "40/40 [==============================] - 0s 9ms/step - factorized_top_k/top_1_categorical_accuracy: 0.0000e+00 - factorized_top_k/top_5_categorical_accuracy: 0.0000e+00 - factorized_top_k/top_10_categorical_accuracy: 0.0000e+00 - factorized_top_k/top_50_categorical_accuracy: 0.0000e+00 - factorized_top_k/top_100_categorical_accuracy: 0.0000e+00 - loss: 6.6105 - regularization_loss: 0.0000e+00 - total_loss: 6.6105\n",
      "Epoch 43/50\n",
      "40/40 [==============================] - 0s 9ms/step - factorized_top_k/top_1_categorical_accuracy: 0.0000e+00 - factorized_top_k/top_5_categorical_accuracy: 0.0000e+00 - factorized_top_k/top_10_categorical_accuracy: 0.0000e+00 - factorized_top_k/top_50_categorical_accuracy: 0.0000e+00 - factorized_top_k/top_100_categorical_accuracy: 0.0000e+00 - loss: 6.8028 - regularization_loss: 0.0000e+00 - total_loss: 6.8028\n",
      "Epoch 44/50\n",
      "40/40 [==============================] - 0s 9ms/step - factorized_top_k/top_1_categorical_accuracy: 0.0000e+00 - factorized_top_k/top_5_categorical_accuracy: 0.0000e+00 - factorized_top_k/top_10_categorical_accuracy: 0.0000e+00 - factorized_top_k/top_50_categorical_accuracy: 0.0000e+00 - factorized_top_k/top_100_categorical_accuracy: 0.0000e+00 - loss: 6.6204 - regularization_loss: 0.0000e+00 - total_loss: 6.6204\n",
      "Epoch 45/50\n",
      "40/40 [==============================] - 0s 9ms/step - factorized_top_k/top_1_categorical_accuracy: 0.0000e+00 - factorized_top_k/top_5_categorical_accuracy: 0.0000e+00 - factorized_top_k/top_10_categorical_accuracy: 0.0000e+00 - factorized_top_k/top_50_categorical_accuracy: 0.0000e+00 - factorized_top_k/top_100_categorical_accuracy: 0.0000e+00 - loss: 6.6164 - regularization_loss: 0.0000e+00 - total_loss: 6.6164\n",
      "Epoch 46/50\n",
      "40/40 [==============================] - 0s 10ms/step - factorized_top_k/top_1_categorical_accuracy: 0.0000e+00 - factorized_top_k/top_5_categorical_accuracy: 0.0000e+00 - factorized_top_k/top_10_categorical_accuracy: 0.0000e+00 - factorized_top_k/top_50_categorical_accuracy: 0.0000e+00 - factorized_top_k/top_100_categorical_accuracy: 0.0000e+00 - loss: 6.2411 - regularization_loss: 0.0000e+00 - total_loss: 6.2411\n",
      "Epoch 47/50\n",
      "40/40 [==============================] - 0s 9ms/step - factorized_top_k/top_1_categorical_accuracy: 0.0000e+00 - factorized_top_k/top_5_categorical_accuracy: 0.0000e+00 - factorized_top_k/top_10_categorical_accuracy: 0.0000e+00 - factorized_top_k/top_50_categorical_accuracy: 0.0000e+00 - factorized_top_k/top_100_categorical_accuracy: 0.0000e+00 - loss: 6.6757 - regularization_loss: 0.0000e+00 - total_loss: 6.6757\n",
      "Epoch 48/50\n"
     ]
    },
    {
     "name": "stdout",
     "output_type": "stream",
     "text": [
      "40/40 [==============================] - 0s 9ms/step - factorized_top_k/top_1_categorical_accuracy: 0.0000e+00 - factorized_top_k/top_5_categorical_accuracy: 0.0000e+00 - factorized_top_k/top_10_categorical_accuracy: 0.0000e+00 - factorized_top_k/top_50_categorical_accuracy: 0.0000e+00 - factorized_top_k/top_100_categorical_accuracy: 0.0000e+00 - loss: 6.4637 - regularization_loss: 0.0000e+00 - total_loss: 6.4637\n",
      "Epoch 49/50\n",
      "40/40 [==============================] - 0s 9ms/step - factorized_top_k/top_1_categorical_accuracy: 0.0000e+00 - factorized_top_k/top_5_categorical_accuracy: 0.0000e+00 - factorized_top_k/top_10_categorical_accuracy: 0.0000e+00 - factorized_top_k/top_50_categorical_accuracy: 0.0000e+00 - factorized_top_k/top_100_categorical_accuracy: 0.0000e+00 - loss: 6.3220 - regularization_loss: 0.0000e+00 - total_loss: 6.3220\n",
      "Epoch 50/50\n",
      "40/40 [==============================] - 0s 9ms/step - factorized_top_k/top_1_categorical_accuracy: 0.0000e+00 - factorized_top_k/top_5_categorical_accuracy: 0.0000e+00 - factorized_top_k/top_10_categorical_accuracy: 0.0000e+00 - factorized_top_k/top_50_categorical_accuracy: 0.0000e+00 - factorized_top_k/top_100_categorical_accuracy: 0.0000e+00 - loss: 6.3420 - regularization_loss: 0.0000e+00 - total_loss: 6.3420\n"
     ]
    },
    {
     "data": {
      "text/plain": [
       "<keras.callbacks.History at 0x1c9b219c460>"
      ]
     },
     "execution_count": 110,
     "metadata": {},
     "output_type": "execute_result"
    }
   ],
   "source": [
    "model = RecomendModel()\n",
    "\n",
    "model.compile(optimizer=tf.keras.optimizers.Adagrad(learning_rate=0.1))\n",
    "model.fit(train_ds,\n",
    "          validation_data=val_ds,\n",
    "          epochs=50)"
   ]
  },
  {
   "cell_type": "code",
   "execution_count": 24,
   "id": "5ee3cb34",
   "metadata": {},
   "outputs": [],
   "source": [
    "#model.evaluate(unbatched_user_ds.batch(1), return_dict=True)"
   ]
  },
  {
   "cell_type": "code",
   "execution_count": 25,
   "id": "5420b2fe",
   "metadata": {},
   "outputs": [
    {
     "name": "stdout",
     "output_type": "stream",
     "text": [
      "Every feature: ['CAREGIVER_ID', 'Caregiver_Gender', 'Caregiver_Age', 'Caregiver-ADHD-Hiperaktif-dan-kurang-fokus', 'Caregiver-Depresi', 'Caregiver-Gangguan-kecemasan', 'Caregiver-Gangguan-makan', 'Caregiver-Gangguan-stres-pascatrauma', 'Caregiver-Skizofrenia']\n",
      "Every feature: ['CAREGIVER_ID', 'Caregiver_Gender', 'Caregiver_Age', 'Caregiver-ADHD-Hiperaktif-dan-kurang-fokus', 'Caregiver-Depresi', 'Caregiver-Gangguan-kecemasan', 'Caregiver-Gangguan-makan', 'Caregiver-Gangguan-stres-pascatrauma', 'Caregiver-Skizofrenia']\n",
      "Every feature: ['CAREGIVER_ID', 'Caregiver_Gender', 'Caregiver_Age', 'Caregiver-ADHD-Hiperaktif-dan-kurang-fokus', 'Caregiver-Depresi', 'Caregiver-Gangguan-kecemasan', 'Caregiver-Gangguan-makan', 'Caregiver-Gangguan-stres-pascatrauma', 'Caregiver-Skizofrenia']\n",
      "Every feature: ['CAREGIVER_ID', 'Caregiver_Gender', 'Caregiver_Age', 'Caregiver-ADHD-Hiperaktif-dan-kurang-fokus', 'Caregiver-Depresi', 'Caregiver-Gangguan-kecemasan', 'Caregiver-Gangguan-makan', 'Caregiver-Gangguan-stres-pascatrauma', 'Caregiver-Skizofrenia']\n",
      "Every feature: ['CAREGIVER_ID', 'Caregiver_Gender', 'Caregiver_Age', 'Caregiver-ADHD-Hiperaktif-dan-kurang-fokus', 'Caregiver-Depresi', 'Caregiver-Gangguan-kecemasan', 'Caregiver-Gangguan-makan', 'Caregiver-Gangguan-stres-pascatrauma', 'Caregiver-Skizofrenia']\n",
      "Every feature: ['CAREGIVER_ID', 'Caregiver_Gender', 'Caregiver_Age', 'Caregiver-ADHD-Hiperaktif-dan-kurang-fokus', 'Caregiver-Depresi', 'Caregiver-Gangguan-kecemasan', 'Caregiver-Gangguan-makan', 'Caregiver-Gangguan-stres-pascatrauma', 'Caregiver-Skizofrenia']\n"
     ]
    }
   ],
   "source": [
    "for feature_batch in caregiver_ds:\n",
    "  print('Every feature:', list(feature_batch.keys()))"
   ]
  },
  {
   "cell_type": "code",
   "execution_count": 26,
   "id": "6099e2a5",
   "metadata": {},
   "outputs": [
    {
     "name": "stdout",
     "output_type": "stream",
     "text": [
      "WARNING:tensorflow:Layers in a Sequential model should only have a single input tensor. Received: inputs={'CAREGIVER_ID': <tf.Tensor 'args_0:0' shape=(None,) dtype=int64>, 'Caregiver_Gender': <tf.Tensor 'args_8:0' shape=(None,) dtype=string>, 'Caregiver_Age': <tf.Tensor 'args_7:0' shape=(None,) dtype=int64>, 'Caregiver-ADHD-Hiperaktif-dan-kurang-fokus': <tf.Tensor 'args_1:0' shape=(None,) dtype=int32>, 'Caregiver-Depresi': <tf.Tensor 'args_2:0' shape=(None,) dtype=int32>, 'Caregiver-Gangguan-kecemasan': <tf.Tensor 'args_3:0' shape=(None,) dtype=int32>, 'Caregiver-Gangguan-makan': <tf.Tensor 'args_4:0' shape=(None,) dtype=int32>, 'Caregiver-Gangguan-stres-pascatrauma': <tf.Tensor 'args_5:0' shape=(None,) dtype=int32>, 'Caregiver-Skizofrenia': <tf.Tensor 'args_6:0' shape=(None,) dtype=int32>}. Consider rewriting this model with the Functional API.\n"
     ]
    },
    {
     "data": {
      "text/plain": [
       "<tensorflow_recommenders.layers.factorized_top_k.BruteForce at 0x1c87a5d1b80>"
      ]
     },
     "execution_count": 26,
     "metadata": {},
     "output_type": "execute_result"
    }
   ],
   "source": [
    "brute_force = tfrs.layers.factorized_top_k.BruteForce(model.user_model)\n",
    "brute_force.index_from_dataset(  \n",
    "       caregiver_ds.map(lambda features: (features['CAREGIVER_ID'], model.caregiver_model(features)))\n",
    ")\n"
   ]
  },
  {
   "cell_type": "code",
   "execution_count": 27,
   "id": "d510961b",
   "metadata": {},
   "outputs": [
    {
     "name": "stdout",
     "output_type": "stream",
     "text": [
      "{'Gender': ['Pria'], 'Age': [30], 'ADHD-Hiperaktif-dan-kurang-fokus': [0], 'Depresi': [1], 'Gangguan-kecemasan': [0], 'Gangguan-makan': [0], 'Gangguan-stres-pascatrauma': [1], 'Skizofrenia': [0]}\n"
     ]
    }
   ],
   "source": [
    "a =['Gender', 'Age', 'ADHD-Hiperaktif-dan-kurang-fokus', 'Depresi', 'Gangguan-kecemasan', 'Gangguan-makan','Gangguan-stres-pascatrauma', 'Skizofrenia']\n",
    "value = ['Pria', 30, 0, 1, 0, 0, 1, 0]\n",
    "dictionary_Test = dict((el,[value[ix]]) for ix,el in enumerate(a))\n",
    "print(dictionary_Test)"
   ]
  },
  {
   "cell_type": "code",
   "execution_count": 28,
   "id": "6e5dc7f3",
   "metadata": {},
   "outputs": [],
   "source": [
    "#user_model = tf.saved_model(\"temp/user_model_h5.h5\")"
   ]
  },
  {
   "cell_type": "code",
   "execution_count": 29,
   "id": "ce0b86bc",
   "metadata": {},
   "outputs": [
    {
     "name": "stdout",
     "output_type": "stream",
     "text": [
      "{'Caregiver_Gender': ['Pria'], 'Caregiver_Age': [30], 'Caregiver-ADHD-Hiperaktif-dan-kurang-fokus': [0], 'Caregiver-Depresi': [1], 'Caregiver-Gangguan-kecemasan': [0], 'Caregiver-Gangguan-makan': [0], 'Caregiver-Gangguan-stres-pascatrauma': [1], 'Caregiver-Skizofrenia': [0]}\n"
     ]
    }
   ],
   "source": [
    "a =['Caregiver_Gender', 'Caregiver_Age', 'Caregiver-ADHD-Hiperaktif-dan-kurang-fokus', 'Caregiver-Depresi', 'Caregiver-Gangguan-kecemasan', 'Caregiver-Gangguan-makan','Caregiver-Gangguan-stres-pascatrauma', 'Caregiver-Skizofrenia']\n",
    "value = ['Pria', 30, 0, 1, 0, 0, 1, 0]\n",
    "dictionary_Test_Caregiver = dict((el,([value[ix]])) for ix,el in enumerate(a))\n",
    "print(dictionary_Test_Caregiver)"
   ]
  },
  {
   "cell_type": "code",
   "execution_count": 30,
   "id": "ab7cbaaf",
   "metadata": {
    "scrolled": true
   },
   "outputs": [
    {
     "name": "stdout",
     "output_type": "stream",
     "text": [
      "WARNING:tensorflow:Layers in a Sequential model should only have a single input tensor. Received: inputs={'Gender': ['Pria'], 'Age': [<tf.Tensor: shape=(), dtype=int32, numpy=30>], 'ADHD-Hiperaktif-dan-kurang-fokus': [<tf.Tensor: shape=(), dtype=int32, numpy=0>], 'Depresi': [<tf.Tensor: shape=(), dtype=int32, numpy=1>], 'Gangguan-kecemasan': [<tf.Tensor: shape=(), dtype=int32, numpy=0>], 'Gangguan-makan': [<tf.Tensor: shape=(), dtype=int32, numpy=0>], 'Gangguan-stres-pascatrauma': [<tf.Tensor: shape=(), dtype=int32, numpy=1>], 'Skizofrenia': [<tf.Tensor: shape=(), dtype=int32, numpy=0>]}. Consider rewriting this model with the Functional API.\n",
      "Top recommendations: [11 24]\n"
     ]
    }
   ],
   "source": [
    "# Get predictions for user 42.\n",
    "a, titles = brute_force(dictionary_Test, k=2)\n",
    "print(f\"Top recommendations: {titles[0]}\")"
   ]
  },
  {
   "cell_type": "code",
   "execution_count": 31,
   "id": "ab27a59e",
   "metadata": {},
   "outputs": [
    {
     "name": "stdout",
     "output_type": "stream",
     "text": [
      "WARNING:tensorflow:Layers in a Sequential model should only have a single input tensor. Received: inputs={'Caregiver_Gender': ['Pria'], 'Caregiver_Age': [<tf.Tensor: shape=(), dtype=int32, numpy=30>], 'Caregiver-ADHD-Hiperaktif-dan-kurang-fokus': [<tf.Tensor: shape=(), dtype=int32, numpy=0>], 'Caregiver-Depresi': [<tf.Tensor: shape=(), dtype=int32, numpy=1>], 'Caregiver-Gangguan-kecemasan': [<tf.Tensor: shape=(), dtype=int32, numpy=0>], 'Caregiver-Gangguan-makan': [<tf.Tensor: shape=(), dtype=int32, numpy=0>], 'Caregiver-Gangguan-stres-pascatrauma': [<tf.Tensor: shape=(), dtype=int32, numpy=1>], 'Caregiver-Skizofrenia': [<tf.Tensor: shape=(), dtype=int32, numpy=0>]}. Consider rewriting this model with the Functional API.\n"
     ]
    },
    {
     "data": {
      "text/plain": [
       "array([[-0.27607656,  0.7458805 ,  0.26677436,  0.9401697 , -0.73562324,\n",
       "        -1.3847635 , -0.22383349,  1.0094435 , -0.72571903,  0.36106765,\n",
       "        -0.13033764, -0.7086837 ,  0.23650563,  0.06816627,  0.91361624,\n",
       "         0.3600174 , -0.7846898 , -0.15335628,  0.5097748 , -0.29354534,\n",
       "         0.2285167 ,  0.8161843 , -1.4397314 ,  0.28100234, -0.3305266 ,\n",
       "         0.3705951 , -0.29639724, -0.149638  , -0.0569072 , -1.4132204 ,\n",
       "        -0.7104398 , -1.9605787 ]], dtype=float32)"
      ]
     },
     "execution_count": 31,
     "metadata": {},
     "output_type": "execute_result"
    }
   ],
   "source": [
    "tensor = model.caregiver_model(dictionary_Test_Caregiver)\n",
    "tensor.numpy()"
   ]
  },
  {
   "cell_type": "code",
   "execution_count": 32,
   "id": "7089edc3",
   "metadata": {
    "scrolled": true
   },
   "outputs": [
    {
     "name": "stdout",
     "output_type": "stream",
     "text": [
      "WARNING:tensorflow:Layers in a Sequential model should only have a single input tensor. Received: inputs={'Gender': ['Pria'], 'Age': [<tf.Tensor: shape=(), dtype=int32, numpy=30>], 'ADHD-Hiperaktif-dan-kurang-fokus': [<tf.Tensor: shape=(), dtype=int32, numpy=0>], 'Depresi': [<tf.Tensor: shape=(), dtype=int32, numpy=1>], 'Gangguan-kecemasan': [<tf.Tensor: shape=(), dtype=int32, numpy=0>], 'Gangguan-makan': [<tf.Tensor: shape=(), dtype=int32, numpy=0>], 'Gangguan-stres-pascatrauma': [<tf.Tensor: shape=(), dtype=int32, numpy=1>], 'Skizofrenia': [<tf.Tensor: shape=(), dtype=int32, numpy=0>]}. Consider rewriting this model with the Functional API.\n"
     ]
    },
    {
     "data": {
      "text/plain": [
       "array([[-6.9482878e-02,  1.2049565e-01,  1.0947990e+00,  5.1290786e-01,\n",
       "        -6.7551333e-01,  1.8858364e-01, -3.9104661e-01, -1.4123434e+00,\n",
       "        -8.1696218e-01, -3.3430433e-01, -4.1981332e-02, -8.0621308e-01,\n",
       "        -6.2047772e-02,  3.5323638e-01,  1.2322776e-03, -2.6854885e-01,\n",
       "        -1.1595939e+00, -2.5307143e-01,  1.0091046e+00, -9.4284832e-01,\n",
       "         6.0354197e-01,  2.7488318e-01, -1.1548140e+00,  5.2200210e-01,\n",
       "        -2.6280224e-01, -3.4273615e-01, -7.0551366e-02,  8.2959324e-01,\n",
       "        -9.7372420e-02,  2.6178667e-01, -9.1765445e-01, -1.8516840e-01]],\n",
       "      dtype=float32)"
      ]
     },
     "execution_count": 32,
     "metadata": {},
     "output_type": "execute_result"
    }
   ],
   "source": [
    "tensor = model.user_model(dictionary_Test)\n",
    "tensor.numpy()"
   ]
  },
  {
   "cell_type": "code",
   "execution_count": 33,
   "id": "ca36293e",
   "metadata": {},
   "outputs": [
    {
     "name": "stdout",
     "output_type": "stream",
     "text": [
      "WARNING:tensorflow:Layers in a Sequential model should only have a single input tensor. Received: inputs={'CAREGIVER_ID': <tf.Tensor 'args_0:0' shape=(None, None) dtype=int64>, 'Caregiver_Gender': <tf.Tensor 'args_8:0' shape=(None, None) dtype=string>, 'Caregiver_Age': <tf.Tensor 'args_7:0' shape=(None, None) dtype=int64>, 'Caregiver-ADHD-Hiperaktif-dan-kurang-fokus': <tf.Tensor 'args_1:0' shape=(None, None) dtype=int32>, 'Caregiver-Depresi': <tf.Tensor 'args_2:0' shape=(None, None) dtype=int32>, 'Caregiver-Gangguan-kecemasan': <tf.Tensor 'args_3:0' shape=(None, None) dtype=int32>, 'Caregiver-Gangguan-makan': <tf.Tensor 'args_4:0' shape=(None, None) dtype=int32>, 'Caregiver-Gangguan-stres-pascatrauma': <tf.Tensor 'args_5:0' shape=(None, None) dtype=int32>, 'Caregiver-Skizofrenia': <tf.Tensor 'args_6:0' shape=(None, None) dtype=int32>}. Consider rewriting this model with the Functional API.\n"
     ]
    }
   ],
   "source": [
    "processed_ds = caregiver_ds.batch(5).map(model.caregiver_model)\n"
   ]
  },
  {
   "cell_type": "code",
   "execution_count": null,
   "id": "9770b62c",
   "metadata": {
    "scrolled": true
   },
   "outputs": [],
   "source": []
  },
  {
   "cell_type": "code",
   "execution_count": 34,
   "id": "d1df65c0",
   "metadata": {},
   "outputs": [
    {
     "name": "stdout",
     "output_type": "stream",
     "text": [
      "Model: \"sequential\"\n",
      "_________________________________________________________________\n",
      " Layer (type)                Output Shape              Param #   \n",
      "=================================================================\n",
      " dense_features_2 (DenseFeat  multiple                 0         \n",
      " ures)                                                           \n",
      "                                                                 \n",
      " dense (Dense)               multiple                  1216      \n",
      "                                                                 \n",
      " dense_1 (Dense)             multiple                  2080      \n",
      "                                                                 \n",
      "=================================================================\n",
      "Total params: 3,296\n",
      "Trainable params: 3,296\n",
      "Non-trainable params: 0\n",
      "_________________________________________________________________\n"
     ]
    }
   ],
   "source": [
    "model.user_model.summary()"
   ]
  },
  {
   "cell_type": "code",
   "execution_count": 35,
   "id": "03c120b2",
   "metadata": {},
   "outputs": [
    {
     "name": "stdout",
     "output_type": "stream",
     "text": [
      "Model: \"sequential_1\"\n",
      "_________________________________________________________________\n",
      " Layer (type)                Output Shape              Param #   \n",
      "=================================================================\n",
      " dense_features_3 (DenseFeat  multiple                 0         \n",
      " ures)                                                           \n",
      "                                                                 \n",
      " dense_2 (Dense)             multiple                  1216      \n",
      "                                                                 \n",
      " dense_3 (Dense)             multiple                  2080      \n",
      "                                                                 \n",
      "=================================================================\n",
      "Total params: 3,296\n",
      "Trainable params: 3,296\n",
      "Non-trainable params: 0\n",
      "_________________________________________________________________\n"
     ]
    }
   ],
   "source": [
    "model.caregiver_model.summary()"
   ]
  },
  {
   "cell_type": "code",
   "execution_count": 36,
   "id": "b8932037",
   "metadata": {},
   "outputs": [],
   "source": [
    "user_model =tf.keras.models.clone_model(\n",
    "    model.user_model, input_tensors=None, clone_function=None\n",
    ")\n",
    "caregiver_model =tf.keras.models.clone_model(\n",
    "    model.caregiver_model, input_tensors=None, clone_function=None\n",
    ")"
   ]
  },
  {
   "cell_type": "code",
   "execution_count": 37,
   "id": "831f1bf4",
   "metadata": {},
   "outputs": [],
   "source": [
    "#try save the entire model\n",
    "model.save_weights('recommender_weight/')"
   ]
  },
  {
   "cell_type": "code",
   "execution_count": 38,
   "id": "1ab8a463",
   "metadata": {},
   "outputs": [
    {
     "name": "stdout",
     "output_type": "stream",
     "text": [
      "WARNING:tensorflow:Layers in a Sequential model should only have a single input tensor. Received: inputs={'CAREGIVER_ID': <tf.Tensor 'args_0:0' shape=(None, None) dtype=int64>, 'Caregiver_Gender': <tf.Tensor 'args_8:0' shape=(None, None) dtype=string>, 'Caregiver_Age': <tf.Tensor 'args_7:0' shape=(None, None) dtype=int64>, 'Caregiver-ADHD-Hiperaktif-dan-kurang-fokus': <tf.Tensor 'args_1:0' shape=(None, None) dtype=int32>, 'Caregiver-Depresi': <tf.Tensor 'args_2:0' shape=(None, None) dtype=int32>, 'Caregiver-Gangguan-kecemasan': <tf.Tensor 'args_3:0' shape=(None, None) dtype=int32>, 'Caregiver-Gangguan-makan': <tf.Tensor 'args_4:0' shape=(None, None) dtype=int32>, 'Caregiver-Gangguan-stres-pascatrauma': <tf.Tensor 'args_5:0' shape=(None, None) dtype=int32>, 'Caregiver-Skizofrenia': <tf.Tensor 'args_6:0' shape=(None, None) dtype=int32>}. Consider rewriting this model with the Functional API.\n",
      "WARNING:tensorflow:Layers in a Sequential model should only have a single input tensor. Received: inputs={'Gender': ['Pria'], 'Age': [<tf.Tensor: shape=(), dtype=int32, numpy=30>], 'ADHD-Hiperaktif-dan-kurang-fokus': [<tf.Tensor: shape=(), dtype=int32, numpy=0>], 'Depresi': [<tf.Tensor: shape=(), dtype=int32, numpy=1>], 'Gangguan-kecemasan': [<tf.Tensor: shape=(), dtype=int32, numpy=0>], 'Gangguan-makan': [<tf.Tensor: shape=(), dtype=int32, numpy=0>], 'Gangguan-stres-pascatrauma': [<tf.Tensor: shape=(), dtype=int32, numpy=1>], 'Skizofrenia': [<tf.Tensor: shape=(), dtype=int32, numpy=0>]}. Consider rewriting this model with the Functional API.\n"
     ]
    },
    {
     "data": {
      "text/plain": [
       "<tf.Tensor: shape=(1, 32), dtype=float32, numpy=\n",
       "array([[-6.9482878e-02,  1.2049565e-01,  1.0947990e+00,  5.1290786e-01,\n",
       "        -6.7551333e-01,  1.8858364e-01, -3.9104661e-01, -1.4123434e+00,\n",
       "        -8.1696218e-01, -3.3430433e-01, -4.1981332e-02, -8.0621308e-01,\n",
       "        -6.2047772e-02,  3.5323638e-01,  1.2322776e-03, -2.6854885e-01,\n",
       "        -1.1595939e+00, -2.5307143e-01,  1.0091046e+00, -9.4284832e-01,\n",
       "         6.0354197e-01,  2.7488318e-01, -1.1548140e+00,  5.2200210e-01,\n",
       "        -2.6280224e-01, -3.4273615e-01, -7.0551366e-02,  8.2959324e-01,\n",
       "        -9.7372420e-02,  2.6178667e-01, -9.1765445e-01, -1.8516840e-01]],\n",
       "      dtype=float32)>"
      ]
     },
     "execution_count": 38,
     "metadata": {},
     "output_type": "execute_result"
    }
   ],
   "source": [
    "# recreate Saved the model\n",
    "new_model = RecomendModel()\n",
    "new_model.load_weights('recommender_weight/')\n",
    "new_model.user_model(dictionary_Test)"
   ]
  },
  {
   "cell_type": "code",
   "execution_count": 39,
   "id": "5b512cf3",
   "metadata": {},
   "outputs": [
    {
     "name": "stdout",
     "output_type": "stream",
     "text": [
      "WARNING:tensorflow:Layers in a Sequential model should only have a single input tensor. Received: inputs={'Gender': ['Pria'], 'Age': [<tf.Tensor: shape=(), dtype=int32, numpy=30>], 'ADHD-Hiperaktif-dan-kurang-fokus': [<tf.Tensor: shape=(), dtype=int32, numpy=0>], 'Depresi': [<tf.Tensor: shape=(), dtype=int32, numpy=1>], 'Gangguan-kecemasan': [<tf.Tensor: shape=(), dtype=int32, numpy=0>], 'Gangguan-makan': [<tf.Tensor: shape=(), dtype=int32, numpy=0>], 'Gangguan-stres-pascatrauma': [<tf.Tensor: shape=(), dtype=int32, numpy=1>], 'Skizofrenia': [<tf.Tensor: shape=(), dtype=int32, numpy=0>]}. Consider rewriting this model with the Functional API.\n"
     ]
    },
    {
     "data": {
      "text/plain": [
       "<tf.Tensor: shape=(1, 32), dtype=float32, numpy=\n",
       "array([[-6.9482878e-02,  1.2049565e-01,  1.0947990e+00,  5.1290786e-01,\n",
       "        -6.7551333e-01,  1.8858364e-01, -3.9104661e-01, -1.4123434e+00,\n",
       "        -8.1696218e-01, -3.3430433e-01, -4.1981332e-02, -8.0621308e-01,\n",
       "        -6.2047772e-02,  3.5323638e-01,  1.2322776e-03, -2.6854885e-01,\n",
       "        -1.1595939e+00, -2.5307143e-01,  1.0091046e+00, -9.4284832e-01,\n",
       "         6.0354197e-01,  2.7488318e-01, -1.1548140e+00,  5.2200210e-01,\n",
       "        -2.6280224e-01, -3.4273615e-01, -7.0551366e-02,  8.2959324e-01,\n",
       "        -9.7372420e-02,  2.6178667e-01, -9.1765445e-01, -1.8516840e-01]],\n",
       "      dtype=float32)>"
      ]
     },
     "execution_count": 39,
     "metadata": {},
     "output_type": "execute_result"
    }
   ],
   "source": [
    "model.user_model(dictionary_Test)"
   ]
  },
  {
   "cell_type": "code",
   "execution_count": 112,
   "id": "7b0f03cc",
   "metadata": {},
   "outputs": [],
   "source": [
    "model.save_weights('Recommenders_Weights/recommender.hdf5')"
   ]
  },
  {
   "cell_type": "code",
   "execution_count": 114,
   "id": "cf3d0600",
   "metadata": {},
   "outputs": [
    {
     "name": "stdout",
     "output_type": "stream",
     "text": [
      "Model: \"sequential_55\"\n",
      "_________________________________________________________________\n",
      " Layer (type)                Output Shape              Param #   \n",
      "=================================================================\n",
      " dense_features_57 (DenseFea  multiple                 0         \n",
      " tures)                                                          \n",
      "                                                                 \n",
      " dense_110 (Dense)           multiple                  1216      \n",
      "                                                                 \n",
      " dense_111 (Dense)           multiple                  2080      \n",
      "                                                                 \n",
      "=================================================================\n",
      "Total params: 3,296\n",
      "Trainable params: 3,296\n",
      "Non-trainable params: 0\n",
      "_________________________________________________________________\n"
     ]
    }
   ],
   "source": [
    "model.caregiver_model.summary()"
   ]
  },
  {
   "cell_type": "code",
   "execution_count": 115,
   "id": "8a206cb2",
   "metadata": {},
   "outputs": [
    {
     "name": "stdout",
     "output_type": "stream",
     "text": [
      "WARNING:tensorflow:Layers in a Sequential model should only have a single input tensor. Received: inputs={'CAREGIVER_ID': <tf.Tensor 'args_0:0' shape=(None, None) dtype=int64>, 'Caregiver_Gender': <tf.Tensor 'args_8:0' shape=(None, None) dtype=string>, 'Caregiver_Age': <tf.Tensor 'args_7:0' shape=(None, None) dtype=int64>, 'Caregiver-ADHD-Hiperaktif-dan-kurang-fokus': <tf.Tensor 'args_1:0' shape=(None, None) dtype=int32>, 'Caregiver-Depresi': <tf.Tensor 'args_2:0' shape=(None, None) dtype=int32>, 'Caregiver-Gangguan-kecemasan': <tf.Tensor 'args_3:0' shape=(None, None) dtype=int32>, 'Caregiver-Gangguan-makan': <tf.Tensor 'args_4:0' shape=(None, None) dtype=int32>, 'Caregiver-Gangguan-stres-pascatrauma': <tf.Tensor 'args_5:0' shape=(None, None) dtype=int32>, 'Caregiver-Skizofrenia': <tf.Tensor 'args_6:0' shape=(None, None) dtype=int32>}. Consider rewriting this model with the Functional API.\n",
      "WARNING:tensorflow:Layers in a Sequential model should only have a single input tensor. Received: inputs={'Age': [<tf.Tensor: shape=(), dtype=int32, numpy=33>], 'Gender': ['Pria'], 'ADHD-Hiperaktif-dan-kurang-fokus': [<tf.Tensor: shape=(), dtype=int32, numpy=1>], 'Depresi': [<tf.Tensor: shape=(), dtype=int32, numpy=0>], 'Gangguan-kecemasan': [<tf.Tensor: shape=(), dtype=int32, numpy=0>], 'Gangguan-makan': [<tf.Tensor: shape=(), dtype=int32, numpy=0>], 'Gangguan-stres-pascatrauma': [<tf.Tensor: shape=(), dtype=int32, numpy=0>], 'Skizofrenia': [<tf.Tensor: shape=(), dtype=int32, numpy=0>]}. Consider rewriting this model with the Functional API.\n",
      "WARNING:tensorflow:Layers in a Sequential model should only have a single input tensor. Received: inputs={'Caregiver_Age': [<tf.Tensor: shape=(), dtype=int32, numpy=19>], 'Caregiver_Gender': ['Pria'], 'Caregiver-ADHD-Hiperaktif-dan-kurang-fokus': [<tf.Tensor: shape=(), dtype=int32, numpy=1>], 'Caregiver-Depresi': [<tf.Tensor: shape=(), dtype=int32, numpy=0>], 'Caregiver-Gangguan-kecemasan': [<tf.Tensor: shape=(), dtype=int32, numpy=0>], 'Caregiver-Gangguan-makan': [<tf.Tensor: shape=(), dtype=int32, numpy=0>], 'Caregiver-Gangguan-stres-pascatrauma': [<tf.Tensor: shape=(), dtype=int32, numpy=0>], 'Caregiver-Skizofrenia': [<tf.Tensor: shape=(), dtype=int32, numpy=0>]}. Consider rewriting this model with the Functional API.\n"
     ]
    }
   ],
   "source": [
    "new_model = RecomendModel()\n",
    "new_model(user_dataframe.iloc[:1].to_dict(orient='records')[0])\n",
    "new_model.load_weights('Recommenders_Weights/recommender.hdf5')"
   ]
  },
  {
   "cell_type": "code",
   "execution_count": 116,
   "id": "9e63b132",
   "metadata": {},
   "outputs": [
    {
     "name": "stdout",
     "output_type": "stream",
     "text": [
      "WARNING:tensorflow:Layers in a Sequential model should only have a single input tensor. Received: inputs={'Gender': ['Pria'], 'Age': [<tf.Tensor: shape=(), dtype=int32, numpy=30>], 'ADHD-Hiperaktif-dan-kurang-fokus': [<tf.Tensor: shape=(), dtype=int32, numpy=0>], 'Depresi': [<tf.Tensor: shape=(), dtype=int32, numpy=1>], 'Gangguan-kecemasan': [<tf.Tensor: shape=(), dtype=int32, numpy=0>], 'Gangguan-makan': [<tf.Tensor: shape=(), dtype=int32, numpy=0>], 'Gangguan-stres-pascatrauma': [<tf.Tensor: shape=(), dtype=int32, numpy=1>], 'Skizofrenia': [<tf.Tensor: shape=(), dtype=int32, numpy=0>]}. Consider rewriting this model with the Functional API.\n"
     ]
    },
    {
     "data": {
      "text/plain": [
       "<tf.Tensor: shape=(1, 32), dtype=float32, numpy=\n",
       "array([[-0.52645266, -0.5632986 ,  1.1485107 ,  0.2544759 , -0.04736781,\n",
       "         0.2640692 , -0.65278715,  0.5571931 , -0.45335707,  0.34283832,\n",
       "         0.6640647 , -0.01425563,  0.69695026, -0.0617957 , -0.7743329 ,\n",
       "        -0.611668  ,  0.521925  ,  0.18709213, -0.17164159,  0.11589288,\n",
       "        -0.6480204 , -0.24467355, -0.21454862,  0.08349912,  0.69035554,\n",
       "        -0.19064066,  0.97971475,  0.18080468, -0.41349867, -0.17768407,\n",
       "         0.2672113 , -0.5956174 ]], dtype=float32)>"
      ]
     },
     "execution_count": 116,
     "metadata": {},
     "output_type": "execute_result"
    }
   ],
   "source": [
    "model.user_model(dictionary_Test)"
   ]
  },
  {
   "cell_type": "code",
   "execution_count": 117,
   "id": "fedeb9ec",
   "metadata": {},
   "outputs": [
    {
     "name": "stdout",
     "output_type": "stream",
     "text": [
      "WARNING:tensorflow:Layers in a Sequential model should only have a single input tensor. Received: inputs={'Gender': ['Pria'], 'Age': [<tf.Tensor: shape=(), dtype=int32, numpy=30>], 'ADHD-Hiperaktif-dan-kurang-fokus': [<tf.Tensor: shape=(), dtype=int32, numpy=0>], 'Depresi': [<tf.Tensor: shape=(), dtype=int32, numpy=1>], 'Gangguan-kecemasan': [<tf.Tensor: shape=(), dtype=int32, numpy=0>], 'Gangguan-makan': [<tf.Tensor: shape=(), dtype=int32, numpy=0>], 'Gangguan-stres-pascatrauma': [<tf.Tensor: shape=(), dtype=int32, numpy=1>], 'Skizofrenia': [<tf.Tensor: shape=(), dtype=int32, numpy=0>]}. Consider rewriting this model with the Functional API.\n"
     ]
    },
    {
     "data": {
      "text/plain": [
       "<tf.Tensor: shape=(1, 32), dtype=float32, numpy=\n",
       "array([[-0.52645266, -0.5632986 ,  1.1485107 ,  0.2544759 , -0.04736781,\n",
       "         0.2640692 , -0.65278715,  0.5571931 , -0.45335707,  0.34283832,\n",
       "         0.6640647 , -0.01425563,  0.69695026, -0.0617957 , -0.7743329 ,\n",
       "        -0.611668  ,  0.521925  ,  0.18709213, -0.17164159,  0.11589288,\n",
       "        -0.6480204 , -0.24467355, -0.21454862,  0.08349912,  0.69035554,\n",
       "        -0.19064066,  0.97971475,  0.18080468, -0.41349867, -0.17768407,\n",
       "         0.2672113 , -0.5956174 ]], dtype=float32)>"
      ]
     },
     "execution_count": 117,
     "metadata": {},
     "output_type": "execute_result"
    }
   ],
   "source": [
    "new_model.user_model(dictionary_Test)"
   ]
  },
  {
   "cell_type": "code",
   "execution_count": 118,
   "id": "7798ebb7",
   "metadata": {},
   "outputs": [
    {
     "name": "stdout",
     "output_type": "stream",
     "text": [
      "WARNING:tensorflow:Layers in a Sequential model should only have a single input tensor. Received: inputs={'Age': <tf.Tensor 'IteratorGetNext:1' shape=(None,) dtype=int64>, 'Gender': <tf.Tensor 'IteratorGetNext:14' shape=(None,) dtype=string>, 'ADHD-Hiperaktif-dan-kurang-fokus': <tf.Tensor 'IteratorGetNext:0' shape=(None,) dtype=int32>, 'Depresi': <tf.Tensor 'IteratorGetNext:10' shape=(None,) dtype=int32>, 'Gangguan-kecemasan': <tf.Tensor 'IteratorGetNext:11' shape=(None,) dtype=int32>, 'Gangguan-makan': <tf.Tensor 'IteratorGetNext:12' shape=(None,) dtype=int32>, 'Gangguan-stres-pascatrauma': <tf.Tensor 'IteratorGetNext:13' shape=(None,) dtype=int32>, 'Skizofrenia': <tf.Tensor 'IteratorGetNext:15' shape=(None,) dtype=int32>}. Consider rewriting this model with the Functional API.\n",
      "WARNING:tensorflow:Layers in a Sequential model should only have a single input tensor. Received: inputs={'Caregiver_Age': <tf.Tensor 'IteratorGetNext:8' shape=(None,) dtype=int64>, 'Caregiver_Gender': <tf.Tensor 'IteratorGetNext:9' shape=(None,) dtype=string>, 'Caregiver-ADHD-Hiperaktif-dan-kurang-fokus': <tf.Tensor 'IteratorGetNext:2' shape=(None,) dtype=int32>, 'Caregiver-Depresi': <tf.Tensor 'IteratorGetNext:3' shape=(None,) dtype=int32>, 'Caregiver-Gangguan-kecemasan': <tf.Tensor 'IteratorGetNext:4' shape=(None,) dtype=int32>, 'Caregiver-Gangguan-makan': <tf.Tensor 'IteratorGetNext:5' shape=(None,) dtype=int32>, 'Caregiver-Gangguan-stres-pascatrauma': <tf.Tensor 'IteratorGetNext:6' shape=(None,) dtype=int32>, 'Caregiver-Skizofrenia': <tf.Tensor 'IteratorGetNext:7' shape=(None,) dtype=int32>}. Consider rewriting this model with the Functional API.\n"
     ]
    },
    {
     "ename": "InvalidArgumentError",
     "evalue": "Graph execution error:\n\nDetected at node 'sequential_59/dense_features_61/Caregiver-Gangguan-kecemasan/Reshape' defined at (most recent call last):\n    File \"C:\\Users\\ASUS\\anaconda3\\envs\\notebook\\lib\\runpy.py\", line 197, in _run_module_as_main\n      return _run_code(code, main_globals, None,\n    File \"C:\\Users\\ASUS\\anaconda3\\envs\\notebook\\lib\\runpy.py\", line 87, in _run_code\n      exec(code, run_globals)\n    File \"c:\\users\\asus\\anaconda3\\envs\\notebook\\lib\\site-packages\\ipykernel_launcher.py\", line 16, in <module>\n      app.launch_new_instance()\n    File \"c:\\users\\asus\\anaconda3\\envs\\notebook\\lib\\site-packages\\traitlets\\config\\application.py\", line 846, in launch_instance\n      app.start()\n    File \"c:\\users\\asus\\anaconda3\\envs\\notebook\\lib\\site-packages\\ipykernel\\kernelapp.py\", line 677, in start\n      self.io_loop.start()\n    File \"c:\\users\\asus\\anaconda3\\envs\\notebook\\lib\\site-packages\\tornado\\platform\\asyncio.py\", line 199, in start\n      self.asyncio_loop.run_forever()\n    File \"C:\\Users\\ASUS\\anaconda3\\envs\\notebook\\lib\\asyncio\\base_events.py\", line 601, in run_forever\n      self._run_once()\n    File \"C:\\Users\\ASUS\\anaconda3\\envs\\notebook\\lib\\asyncio\\base_events.py\", line 1905, in _run_once\n      handle._run()\n    File \"C:\\Users\\ASUS\\anaconda3\\envs\\notebook\\lib\\asyncio\\events.py\", line 80, in _run\n      self._context.run(self._callback, *self._args)\n    File \"c:\\users\\asus\\anaconda3\\envs\\notebook\\lib\\site-packages\\ipykernel\\kernelbase.py\", line 471, in dispatch_queue\n      await self.process_one()\n    File \"c:\\users\\asus\\anaconda3\\envs\\notebook\\lib\\site-packages\\ipykernel\\kernelbase.py\", line 460, in process_one\n      await dispatch(*args)\n    File \"c:\\users\\asus\\anaconda3\\envs\\notebook\\lib\\site-packages\\ipykernel\\kernelbase.py\", line 367, in dispatch_shell\n      await result\n    File \"c:\\users\\asus\\anaconda3\\envs\\notebook\\lib\\site-packages\\ipykernel\\kernelbase.py\", line 662, in execute_request\n      reply_content = await reply_content\n    File \"c:\\users\\asus\\anaconda3\\envs\\notebook\\lib\\site-packages\\ipykernel\\ipkernel.py\", line 360, in do_execute\n      res = shell.run_cell(code, store_history=store_history, silent=silent)\n    File \"c:\\users\\asus\\anaconda3\\envs\\notebook\\lib\\site-packages\\ipykernel\\zmqshell.py\", line 532, in run_cell\n      return super().run_cell(*args, **kwargs)\n    File \"c:\\users\\asus\\anaconda3\\envs\\notebook\\lib\\site-packages\\IPython\\core\\interactiveshell.py\", line 2854, in run_cell\n      result = self._run_cell(\n    File \"c:\\users\\asus\\anaconda3\\envs\\notebook\\lib\\site-packages\\IPython\\core\\interactiveshell.py\", line 2900, in _run_cell\n      return runner(coro)\n    File \"c:\\users\\asus\\anaconda3\\envs\\notebook\\lib\\site-packages\\IPython\\core\\async_helpers.py\", line 129, in _pseudo_sync_runner\n      coro.send(None)\n    File \"c:\\users\\asus\\anaconda3\\envs\\notebook\\lib\\site-packages\\IPython\\core\\interactiveshell.py\", line 3098, in run_cell_async\n      has_raised = await self.run_ast_nodes(code_ast.body, cell_name,\n    File \"c:\\users\\asus\\anaconda3\\envs\\notebook\\lib\\site-packages\\IPython\\core\\interactiveshell.py\", line 3301, in run_ast_nodes\n      if await self.run_code(code, result, async_=asy):\n    File \"c:\\users\\asus\\anaconda3\\envs\\notebook\\lib\\site-packages\\IPython\\core\\interactiveshell.py\", line 3361, in run_code\n      exec(code_obj, self.user_global_ns, self.user_ns)\n    File \"C:\\Users\\ASUS\\AppData\\Local\\Temp\\ipykernel_11056\\1303903317.py\", line 2, in <cell line: 2>\n      new_model.evaluate(user_ds)\n    File \"c:\\users\\asus\\anaconda3\\envs\\notebook\\lib\\site-packages\\keras\\utils\\traceback_utils.py\", line 64, in error_handler\n      return fn(*args, **kwargs)\n    File \"c:\\users\\asus\\anaconda3\\envs\\notebook\\lib\\site-packages\\keras\\engine\\training.py\", line 1716, in evaluate\n      tmp_logs = self.test_function(iterator)\n    File \"c:\\users\\asus\\anaconda3\\envs\\notebook\\lib\\site-packages\\keras\\engine\\training.py\", line 1525, in test_function\n      return step_function(self, iterator)\n    File \"c:\\users\\asus\\anaconda3\\envs\\notebook\\lib\\site-packages\\keras\\engine\\training.py\", line 1514, in step_function\n      outputs = model.distribute_strategy.run(run_step, args=(data,))\n    File \"c:\\users\\asus\\anaconda3\\envs\\notebook\\lib\\site-packages\\keras\\engine\\training.py\", line 1507, in run_step\n      outputs = model.test_step(data)\n    File \"c:\\users\\asus\\anaconda3\\envs\\notebook\\lib\\site-packages\\tensorflow_recommenders\\models\\base.py\", line 88, in test_step\n      loss = self.compute_loss(inputs, training=False)\n    File \"C:\\Users\\ASUS\\AppData\\Local\\Temp\\ipykernel_11056\\3531141139.py\", line 124, in compute_loss\n      positive_caregiver_embeddings = self.caregiver_model({\n    File \"c:\\users\\asus\\anaconda3\\envs\\notebook\\lib\\site-packages\\keras\\utils\\traceback_utils.py\", line 64, in error_handler\n      return fn(*args, **kwargs)\n    File \"c:\\users\\asus\\anaconda3\\envs\\notebook\\lib\\site-packages\\keras\\engine\\base_layer.py\", line 1096, in __call__\n      outputs = call_fn(inputs, *args, **kwargs)\n    File \"c:\\users\\asus\\anaconda3\\envs\\notebook\\lib\\site-packages\\keras\\utils\\traceback_utils.py\", line 92, in error_handler\n      return fn(*args, **kwargs)\n    File \"c:\\users\\asus\\anaconda3\\envs\\notebook\\lib\\site-packages\\keras\\engine\\sequential.py\", line 388, in call\n      outputs = layer(inputs, **kwargs)\n    File \"c:\\users\\asus\\anaconda3\\envs\\notebook\\lib\\site-packages\\keras\\utils\\traceback_utils.py\", line 64, in error_handler\n      return fn(*args, **kwargs)\n    File \"c:\\users\\asus\\anaconda3\\envs\\notebook\\lib\\site-packages\\keras\\engine\\base_layer.py\", line 1096, in __call__\n      outputs = call_fn(inputs, *args, **kwargs)\n    File \"c:\\users\\asus\\anaconda3\\envs\\notebook\\lib\\site-packages\\keras\\utils\\traceback_utils.py\", line 92, in error_handler\n      return fn(*args, **kwargs)\n    File \"c:\\users\\asus\\anaconda3\\envs\\notebook\\lib\\site-packages\\keras\\feature_column\\dense_features.py\", line 170, in call\n      processed_tensors = self._process_dense_tensor(column, tensor)\n    File \"c:\\users\\asus\\anaconda3\\envs\\notebook\\lib\\site-packages\\keras\\feature_column\\base_feature_layer.py\", line 112, in _process_dense_tensor\n      return tf.reshape(tensor, shape=target_shape)\nNode: 'sequential_59/dense_features_61/Caregiver-Gangguan-kecemasan/Reshape'\nDetected at node 'sequential_59/dense_features_61/Caregiver-Gangguan-kecemasan/Reshape' defined at (most recent call last):\n    File \"C:\\Users\\ASUS\\anaconda3\\envs\\notebook\\lib\\runpy.py\", line 197, in _run_module_as_main\n      return _run_code(code, main_globals, None,\n    File \"C:\\Users\\ASUS\\anaconda3\\envs\\notebook\\lib\\runpy.py\", line 87, in _run_code\n      exec(code, run_globals)\n    File \"c:\\users\\asus\\anaconda3\\envs\\notebook\\lib\\site-packages\\ipykernel_launcher.py\", line 16, in <module>\n      app.launch_new_instance()\n    File \"c:\\users\\asus\\anaconda3\\envs\\notebook\\lib\\site-packages\\traitlets\\config\\application.py\", line 846, in launch_instance\n      app.start()\n    File \"c:\\users\\asus\\anaconda3\\envs\\notebook\\lib\\site-packages\\ipykernel\\kernelapp.py\", line 677, in start\n      self.io_loop.start()\n    File \"c:\\users\\asus\\anaconda3\\envs\\notebook\\lib\\site-packages\\tornado\\platform\\asyncio.py\", line 199, in start\n      self.asyncio_loop.run_forever()\n    File \"C:\\Users\\ASUS\\anaconda3\\envs\\notebook\\lib\\asyncio\\base_events.py\", line 601, in run_forever\n      self._run_once()\n    File \"C:\\Users\\ASUS\\anaconda3\\envs\\notebook\\lib\\asyncio\\base_events.py\", line 1905, in _run_once\n      handle._run()\n    File \"C:\\Users\\ASUS\\anaconda3\\envs\\notebook\\lib\\asyncio\\events.py\", line 80, in _run\n      self._context.run(self._callback, *self._args)\n    File \"c:\\users\\asus\\anaconda3\\envs\\notebook\\lib\\site-packages\\ipykernel\\kernelbase.py\", line 471, in dispatch_queue\n      await self.process_one()\n    File \"c:\\users\\asus\\anaconda3\\envs\\notebook\\lib\\site-packages\\ipykernel\\kernelbase.py\", line 460, in process_one\n      await dispatch(*args)\n    File \"c:\\users\\asus\\anaconda3\\envs\\notebook\\lib\\site-packages\\ipykernel\\kernelbase.py\", line 367, in dispatch_shell\n      await result\n    File \"c:\\users\\asus\\anaconda3\\envs\\notebook\\lib\\site-packages\\ipykernel\\kernelbase.py\", line 662, in execute_request\n      reply_content = await reply_content\n    File \"c:\\users\\asus\\anaconda3\\envs\\notebook\\lib\\site-packages\\ipykernel\\ipkernel.py\", line 360, in do_execute\n      res = shell.run_cell(code, store_history=store_history, silent=silent)\n    File \"c:\\users\\asus\\anaconda3\\envs\\notebook\\lib\\site-packages\\ipykernel\\zmqshell.py\", line 532, in run_cell\n      return super().run_cell(*args, **kwargs)\n    File \"c:\\users\\asus\\anaconda3\\envs\\notebook\\lib\\site-packages\\IPython\\core\\interactiveshell.py\", line 2854, in run_cell\n      result = self._run_cell(\n    File \"c:\\users\\asus\\anaconda3\\envs\\notebook\\lib\\site-packages\\IPython\\core\\interactiveshell.py\", line 2900, in _run_cell\n      return runner(coro)\n    File \"c:\\users\\asus\\anaconda3\\envs\\notebook\\lib\\site-packages\\IPython\\core\\async_helpers.py\", line 129, in _pseudo_sync_runner\n      coro.send(None)\n    File \"c:\\users\\asus\\anaconda3\\envs\\notebook\\lib\\site-packages\\IPython\\core\\interactiveshell.py\", line 3098, in run_cell_async\n      has_raised = await self.run_ast_nodes(code_ast.body, cell_name,\n    File \"c:\\users\\asus\\anaconda3\\envs\\notebook\\lib\\site-packages\\IPython\\core\\interactiveshell.py\", line 3301, in run_ast_nodes\n      if await self.run_code(code, result, async_=asy):\n    File \"c:\\users\\asus\\anaconda3\\envs\\notebook\\lib\\site-packages\\IPython\\core\\interactiveshell.py\", line 3361, in run_code\n      exec(code_obj, self.user_global_ns, self.user_ns)\n    File \"C:\\Users\\ASUS\\AppData\\Local\\Temp\\ipykernel_11056\\1303903317.py\", line 2, in <cell line: 2>\n      new_model.evaluate(user_ds)\n    File \"c:\\users\\asus\\anaconda3\\envs\\notebook\\lib\\site-packages\\keras\\utils\\traceback_utils.py\", line 64, in error_handler\n      return fn(*args, **kwargs)\n    File \"c:\\users\\asus\\anaconda3\\envs\\notebook\\lib\\site-packages\\keras\\engine\\training.py\", line 1716, in evaluate\n      tmp_logs = self.test_function(iterator)\n    File \"c:\\users\\asus\\anaconda3\\envs\\notebook\\lib\\site-packages\\keras\\engine\\training.py\", line 1525, in test_function\n      return step_function(self, iterator)\n    File \"c:\\users\\asus\\anaconda3\\envs\\notebook\\lib\\site-packages\\keras\\engine\\training.py\", line 1514, in step_function\n      outputs = model.distribute_strategy.run(run_step, args=(data,))\n    File \"c:\\users\\asus\\anaconda3\\envs\\notebook\\lib\\site-packages\\keras\\engine\\training.py\", line 1507, in run_step\n      outputs = model.test_step(data)\n    File \"c:\\users\\asus\\anaconda3\\envs\\notebook\\lib\\site-packages\\tensorflow_recommenders\\models\\base.py\", line 88, in test_step\n      loss = self.compute_loss(inputs, training=False)\n    File \"C:\\Users\\ASUS\\AppData\\Local\\Temp\\ipykernel_11056\\3531141139.py\", line 124, in compute_loss\n      positive_caregiver_embeddings = self.caregiver_model({\n    File \"c:\\users\\asus\\anaconda3\\envs\\notebook\\lib\\site-packages\\keras\\utils\\traceback_utils.py\", line 64, in error_handler\n      return fn(*args, **kwargs)\n    File \"c:\\users\\asus\\anaconda3\\envs\\notebook\\lib\\site-packages\\keras\\engine\\base_layer.py\", line 1096, in __call__\n      outputs = call_fn(inputs, *args, **kwargs)\n    File \"c:\\users\\asus\\anaconda3\\envs\\notebook\\lib\\site-packages\\keras\\utils\\traceback_utils.py\", line 92, in error_handler\n      return fn(*args, **kwargs)\n    File \"c:\\users\\asus\\anaconda3\\envs\\notebook\\lib\\site-packages\\keras\\engine\\sequential.py\", line 388, in call\n      outputs = layer(inputs, **kwargs)\n    File \"c:\\users\\asus\\anaconda3\\envs\\notebook\\lib\\site-packages\\keras\\utils\\traceback_utils.py\", line 64, in error_handler\n      return fn(*args, **kwargs)\n    File \"c:\\users\\asus\\anaconda3\\envs\\notebook\\lib\\site-packages\\keras\\engine\\base_layer.py\", line 1096, in __call__\n      outputs = call_fn(inputs, *args, **kwargs)\n    File \"c:\\users\\asus\\anaconda3\\envs\\notebook\\lib\\site-packages\\keras\\utils\\traceback_utils.py\", line 92, in error_handler\n      return fn(*args, **kwargs)\n    File \"c:\\users\\asus\\anaconda3\\envs\\notebook\\lib\\site-packages\\keras\\feature_column\\dense_features.py\", line 170, in call\n      processed_tensors = self._process_dense_tensor(column, tensor)\n    File \"c:\\users\\asus\\anaconda3\\envs\\notebook\\lib\\site-packages\\keras\\feature_column\\base_feature_layer.py\", line 112, in _process_dense_tensor\n      return tf.reshape(tensor, shape=target_shape)\nNode: 'sequential_59/dense_features_61/Caregiver-Gangguan-kecemasan/Reshape'\nDetected at node 'sequential_59/dense_features_61/Caregiver-Gangguan-kecemasan/Reshape' defined at (most recent call last):\n    File \"C:\\Users\\ASUS\\anaconda3\\envs\\notebook\\lib\\runpy.py\", line 197, in _run_module_as_main\n      return _run_code(code, main_globals, None,\n    File \"C:\\Users\\ASUS\\anaconda3\\envs\\notebook\\lib\\runpy.py\", line 87, in _run_code\n      exec(code, run_globals)\n    File \"c:\\users\\asus\\anaconda3\\envs\\notebook\\lib\\site-packages\\ipykernel_launcher.py\", line 16, in <module>\n      app.launch_new_instance()\n    File \"c:\\users\\asus\\anaconda3\\envs\\notebook\\lib\\site-packages\\traitlets\\config\\application.py\", line 846, in launch_instance\n      app.start()\n    File \"c:\\users\\asus\\anaconda3\\envs\\notebook\\lib\\site-packages\\ipykernel\\kernelapp.py\", line 677, in start\n      self.io_loop.start()\n    File \"c:\\users\\asus\\anaconda3\\envs\\notebook\\lib\\site-packages\\tornado\\platform\\asyncio.py\", line 199, in start\n      self.asyncio_loop.run_forever()\n    File \"C:\\Users\\ASUS\\anaconda3\\envs\\notebook\\lib\\asyncio\\base_events.py\", line 601, in run_forever\n      self._run_once()\n    File \"C:\\Users\\ASUS\\anaconda3\\envs\\notebook\\lib\\asyncio\\base_events.py\", line 1905, in _run_once\n      handle._run()\n    File \"C:\\Users\\ASUS\\anaconda3\\envs\\notebook\\lib\\asyncio\\events.py\", line 80, in _run\n      self._context.run(self._callback, *self._args)\n    File \"c:\\users\\asus\\anaconda3\\envs\\notebook\\lib\\site-packages\\ipykernel\\kernelbase.py\", line 471, in dispatch_queue\n      await self.process_one()\n    File \"c:\\users\\asus\\anaconda3\\envs\\notebook\\lib\\site-packages\\ipykernel\\kernelbase.py\", line 460, in process_one\n      await dispatch(*args)\n    File \"c:\\users\\asus\\anaconda3\\envs\\notebook\\lib\\site-packages\\ipykernel\\kernelbase.py\", line 367, in dispatch_shell\n      await result\n    File \"c:\\users\\asus\\anaconda3\\envs\\notebook\\lib\\site-packages\\ipykernel\\kernelbase.py\", line 662, in execute_request\n      reply_content = await reply_content\n    File \"c:\\users\\asus\\anaconda3\\envs\\notebook\\lib\\site-packages\\ipykernel\\ipkernel.py\", line 360, in do_execute\n      res = shell.run_cell(code, store_history=store_history, silent=silent)\n    File \"c:\\users\\asus\\anaconda3\\envs\\notebook\\lib\\site-packages\\ipykernel\\zmqshell.py\", line 532, in run_cell\n      return super().run_cell(*args, **kwargs)\n    File \"c:\\users\\asus\\anaconda3\\envs\\notebook\\lib\\site-packages\\IPython\\core\\interactiveshell.py\", line 2854, in run_cell\n      result = self._run_cell(\n    File \"c:\\users\\asus\\anaconda3\\envs\\notebook\\lib\\site-packages\\IPython\\core\\interactiveshell.py\", line 2900, in _run_cell\n      return runner(coro)\n    File \"c:\\users\\asus\\anaconda3\\envs\\notebook\\lib\\site-packages\\IPython\\core\\async_helpers.py\", line 129, in _pseudo_sync_runner\n      coro.send(None)\n    File \"c:\\users\\asus\\anaconda3\\envs\\notebook\\lib\\site-packages\\IPython\\core\\interactiveshell.py\", line 3098, in run_cell_async\n      has_raised = await self.run_ast_nodes(code_ast.body, cell_name,\n    File \"c:\\users\\asus\\anaconda3\\envs\\notebook\\lib\\site-packages\\IPython\\core\\interactiveshell.py\", line 3301, in run_ast_nodes\n      if await self.run_code(code, result, async_=asy):\n    File \"c:\\users\\asus\\anaconda3\\envs\\notebook\\lib\\site-packages\\IPython\\core\\interactiveshell.py\", line 3361, in run_code\n      exec(code_obj, self.user_global_ns, self.user_ns)\n    File \"C:\\Users\\ASUS\\AppData\\Local\\Temp\\ipykernel_11056\\1303903317.py\", line 2, in <cell line: 2>\n      new_model.evaluate(user_ds)\n    File \"c:\\users\\asus\\anaconda3\\envs\\notebook\\lib\\site-packages\\keras\\utils\\traceback_utils.py\", line 64, in error_handler\n      return fn(*args, **kwargs)\n    File \"c:\\users\\asus\\anaconda3\\envs\\notebook\\lib\\site-packages\\keras\\engine\\training.py\", line 1716, in evaluate\n      tmp_logs = self.test_function(iterator)\n    File \"c:\\users\\asus\\anaconda3\\envs\\notebook\\lib\\site-packages\\keras\\engine\\training.py\", line 1525, in test_function\n      return step_function(self, iterator)\n    File \"c:\\users\\asus\\anaconda3\\envs\\notebook\\lib\\site-packages\\keras\\engine\\training.py\", line 1514, in step_function\n      outputs = model.distribute_strategy.run(run_step, args=(data,))\n    File \"c:\\users\\asus\\anaconda3\\envs\\notebook\\lib\\site-packages\\keras\\engine\\training.py\", line 1507, in run_step\n      outputs = model.test_step(data)\n    File \"c:\\users\\asus\\anaconda3\\envs\\notebook\\lib\\site-packages\\tensorflow_recommenders\\models\\base.py\", line 88, in test_step\n      loss = self.compute_loss(inputs, training=False)\n    File \"C:\\Users\\ASUS\\AppData\\Local\\Temp\\ipykernel_11056\\3531141139.py\", line 124, in compute_loss\n      positive_caregiver_embeddings = self.caregiver_model({\n    File \"c:\\users\\asus\\anaconda3\\envs\\notebook\\lib\\site-packages\\keras\\utils\\traceback_utils.py\", line 64, in error_handler\n      return fn(*args, **kwargs)\n    File \"c:\\users\\asus\\anaconda3\\envs\\notebook\\lib\\site-packages\\keras\\engine\\base_layer.py\", line 1096, in __call__\n      outputs = call_fn(inputs, *args, **kwargs)\n    File \"c:\\users\\asus\\anaconda3\\envs\\notebook\\lib\\site-packages\\keras\\utils\\traceback_utils.py\", line 92, in error_handler\n      return fn(*args, **kwargs)\n    File \"c:\\users\\asus\\anaconda3\\envs\\notebook\\lib\\site-packages\\keras\\engine\\sequential.py\", line 388, in call\n      outputs = layer(inputs, **kwargs)\n    File \"c:\\users\\asus\\anaconda3\\envs\\notebook\\lib\\site-packages\\keras\\utils\\traceback_utils.py\", line 64, in error_handler\n      return fn(*args, **kwargs)\n    File \"c:\\users\\asus\\anaconda3\\envs\\notebook\\lib\\site-packages\\keras\\engine\\base_layer.py\", line 1096, in __call__\n      outputs = call_fn(inputs, *args, **kwargs)\n    File \"c:\\users\\asus\\anaconda3\\envs\\notebook\\lib\\site-packages\\keras\\utils\\traceback_utils.py\", line 92, in error_handler\n      return fn(*args, **kwargs)\n    File \"c:\\users\\asus\\anaconda3\\envs\\notebook\\lib\\site-packages\\keras\\feature_column\\dense_features.py\", line 170, in call\n      processed_tensors = self._process_dense_tensor(column, tensor)\n    File \"c:\\users\\asus\\anaconda3\\envs\\notebook\\lib\\site-packages\\keras\\feature_column\\base_feature_layer.py\", line 112, in _process_dense_tensor\n      return tf.reshape(tensor, shape=target_shape)\nNode: 'sequential_59/dense_features_61/Caregiver-Gangguan-kecemasan/Reshape'\nDetected at node 'sequential_59/dense_features_61/Caregiver-Gangguan-kecemasan/Reshape' defined at (most recent call last):\n    File \"C:\\Users\\ASUS\\anaconda3\\envs\\notebook\\lib\\runpy.py\", line 197, in _run_module_as_main\n      return _run_code(code, main_globals, None,\n    File \"C:\\Users\\ASUS\\anaconda3\\envs\\notebook\\lib\\runpy.py\", line 87, in _run_code\n      exec(code, run_globals)\n    File \"c:\\users\\asus\\anaconda3\\envs\\notebook\\lib\\site-packages\\ipykernel_launcher.py\", line 16, in <module>\n      app.launch_new_instance()\n    File \"c:\\users\\asus\\anaconda3\\envs\\notebook\\lib\\site-packages\\traitlets\\config\\application.py\", line 846, in launch_instance\n      app.start()\n    File \"c:\\users\\asus\\anaconda3\\envs\\notebook\\lib\\site-packages\\ipykernel\\kernelapp.py\", line 677, in start\n      self.io_loop.start()\n    File \"c:\\users\\asus\\anaconda3\\envs\\notebook\\lib\\site-packages\\tornado\\platform\\asyncio.py\", line 199, in start\n      self.asyncio_loop.run_forever()\n    File \"C:\\Users\\ASUS\\anaconda3\\envs\\notebook\\lib\\asyncio\\base_events.py\", line 601, in run_forever\n      self._run_once()\n    File \"C:\\Users\\ASUS\\anaconda3\\envs\\notebook\\lib\\asyncio\\base_events.py\", line 1905, in _run_once\n      handle._run()\n    File \"C:\\Users\\ASUS\\anaconda3\\envs\\notebook\\lib\\asyncio\\events.py\", line 80, in _run\n      self._context.run(self._callback, *self._args)\n    File \"c:\\users\\asus\\anaconda3\\envs\\notebook\\lib\\site-packages\\ipykernel\\kernelbase.py\", line 471, in dispatch_queue\n      await self.process_one()\n    File \"c:\\users\\asus\\anaconda3\\envs\\notebook\\lib\\site-packages\\ipykernel\\kernelbase.py\", line 460, in process_one\n      await dispatch(*args)\n    File \"c:\\users\\asus\\anaconda3\\envs\\notebook\\lib\\site-packages\\ipykernel\\kernelbase.py\", line 367, in dispatch_shell\n      await result\n    File \"c:\\users\\asus\\anaconda3\\envs\\notebook\\lib\\site-packages\\ipykernel\\kernelbase.py\", line 662, in execute_request\n      reply_content = await reply_content\n    File \"c:\\users\\asus\\anaconda3\\envs\\notebook\\lib\\site-packages\\ipykernel\\ipkernel.py\", line 360, in do_execute\n      res = shell.run_cell(code, store_history=store_history, silent=silent)\n    File \"c:\\users\\asus\\anaconda3\\envs\\notebook\\lib\\site-packages\\ipykernel\\zmqshell.py\", line 532, in run_cell\n      return super().run_cell(*args, **kwargs)\n    File \"c:\\users\\asus\\anaconda3\\envs\\notebook\\lib\\site-packages\\IPython\\core\\interactiveshell.py\", line 2854, in run_cell\n      result = self._run_cell(\n    File \"c:\\users\\asus\\anaconda3\\envs\\notebook\\lib\\site-packages\\IPython\\core\\interactiveshell.py\", line 2900, in _run_cell\n      return runner(coro)\n    File \"c:\\users\\asus\\anaconda3\\envs\\notebook\\lib\\site-packages\\IPython\\core\\async_helpers.py\", line 129, in _pseudo_sync_runner\n      coro.send(None)\n    File \"c:\\users\\asus\\anaconda3\\envs\\notebook\\lib\\site-packages\\IPython\\core\\interactiveshell.py\", line 3098, in run_cell_async\n      has_raised = await self.run_ast_nodes(code_ast.body, cell_name,\n    File \"c:\\users\\asus\\anaconda3\\envs\\notebook\\lib\\site-packages\\IPython\\core\\interactiveshell.py\", line 3301, in run_ast_nodes\n      if await self.run_code(code, result, async_=asy):\n    File \"c:\\users\\asus\\anaconda3\\envs\\notebook\\lib\\site-packages\\IPython\\core\\interactiveshell.py\", line 3361, in run_code\n      exec(code_obj, self.user_global_ns, self.user_ns)\n    File \"C:\\Users\\ASUS\\AppData\\Local\\Temp\\ipykernel_11056\\1303903317.py\", line 2, in <cell line: 2>\n      new_model.evaluate(user_ds)\n    File \"c:\\users\\asus\\anaconda3\\envs\\notebook\\lib\\site-packages\\keras\\utils\\traceback_utils.py\", line 64, in error_handler\n      return fn(*args, **kwargs)\n    File \"c:\\users\\asus\\anaconda3\\envs\\notebook\\lib\\site-packages\\keras\\engine\\training.py\", line 1716, in evaluate\n      tmp_logs = self.test_function(iterator)\n    File \"c:\\users\\asus\\anaconda3\\envs\\notebook\\lib\\site-packages\\keras\\engine\\training.py\", line 1525, in test_function\n      return step_function(self, iterator)\n    File \"c:\\users\\asus\\anaconda3\\envs\\notebook\\lib\\site-packages\\keras\\engine\\training.py\", line 1514, in step_function\n      outputs = model.distribute_strategy.run(run_step, args=(data,))\n    File \"c:\\users\\asus\\anaconda3\\envs\\notebook\\lib\\site-packages\\keras\\engine\\training.py\", line 1507, in run_step\n      outputs = model.test_step(data)\n    File \"c:\\users\\asus\\anaconda3\\envs\\notebook\\lib\\site-packages\\tensorflow_recommenders\\models\\base.py\", line 88, in test_step\n      loss = self.compute_loss(inputs, training=False)\n    File \"C:\\Users\\ASUS\\AppData\\Local\\Temp\\ipykernel_11056\\3531141139.py\", line 124, in compute_loss\n      positive_caregiver_embeddings = self.caregiver_model({\n    File \"c:\\users\\asus\\anaconda3\\envs\\notebook\\lib\\site-packages\\keras\\utils\\traceback_utils.py\", line 64, in error_handler\n      return fn(*args, **kwargs)\n    File \"c:\\users\\asus\\anaconda3\\envs\\notebook\\lib\\site-packages\\keras\\engine\\base_layer.py\", line 1096, in __call__\n      outputs = call_fn(inputs, *args, **kwargs)\n    File \"c:\\users\\asus\\anaconda3\\envs\\notebook\\lib\\site-packages\\keras\\utils\\traceback_utils.py\", line 92, in error_handler\n      return fn(*args, **kwargs)\n    File \"c:\\users\\asus\\anaconda3\\envs\\notebook\\lib\\site-packages\\keras\\engine\\sequential.py\", line 388, in call\n      outputs = layer(inputs, **kwargs)\n    File \"c:\\users\\asus\\anaconda3\\envs\\notebook\\lib\\site-packages\\keras\\utils\\traceback_utils.py\", line 64, in error_handler\n      return fn(*args, **kwargs)\n    File \"c:\\users\\asus\\anaconda3\\envs\\notebook\\lib\\site-packages\\keras\\engine\\base_layer.py\", line 1096, in __call__\n      outputs = call_fn(inputs, *args, **kwargs)\n    File \"c:\\users\\asus\\anaconda3\\envs\\notebook\\lib\\site-packages\\keras\\utils\\traceback_utils.py\", line 92, in error_handler\n      return fn(*args, **kwargs)\n    File \"c:\\users\\asus\\anaconda3\\envs\\notebook\\lib\\site-packages\\keras\\feature_column\\dense_features.py\", line 170, in call\n      processed_tensors = self._process_dense_tensor(column, tensor)\n    File \"c:\\users\\asus\\anaconda3\\envs\\notebook\\lib\\site-packages\\keras\\feature_column\\base_feature_layer.py\", line 112, in _process_dense_tensor\n      return tf.reshape(tensor, shape=target_shape)\nNode: 'sequential_59/dense_features_61/Caregiver-Gangguan-kecemasan/Reshape'\n2 root error(s) found.\n  (0) INVALID_ARGUMENT:  2 root error(s) found.\n  (0) INVALID_ARGUMENT:  Input to reshape is a tensor with 25 values, but the requested shape has 5\n\t [[{{node sequential_59/dense_features_61/Caregiver-Gangguan-kecemasan/Reshape}}]]\n\t [[sequential_59/dense_118/MatMul/ReadVariableOp/_1]]\n  (1) INVALID_ARGUMENT:  Input to reshape is a tensor with 25 values, but the requested shape has 5\n\t [[{{node sequential_59/dense_features_61/Caregiver-Gangguan-kecemasan/Reshape}}]]\n0 successful operations.\n0 derived errors ignored.\n\t [[retrieval_27/streaming_27/ReduceDataset]]\n\t [[retrieval_27/streaming_27/ReduceDataset/_82]]\n  (1) INVALID_ARGUMENT:  2 root error(s) found.\n  (0) INVALID_ARGUMENT:  Input to reshape is a tensor with 25 values, but the requested shape has 5\n\t [[{{node sequential_59/dense_features_61/Caregiver-Gangguan-kecemasan/Reshape}}]]\n\t [[sequential_59/dense_118/MatMul/ReadVariableOp/_1]]\n  (1) INVALID_ARGUMENT:  Input to reshape is a tensor with 25 values, but the requested shape has 5\n\t [[{{node sequential_59/dense_features_61/Caregiver-Gangguan-kecemasan/Reshape}}]]\n0 successful operations.\n0 derived errors ignored.\n\t [[retrieval_27/streaming_27/ReduceDataset]]\n0 successful operations.\n0 derived errors ignored. [Op:__inference_test_function_104788]",
     "output_type": "error",
     "traceback": [
      "\u001b[1;31m---------------------------------------------------------------------------\u001b[0m",
      "\u001b[1;31mInvalidArgumentError\u001b[0m                      Traceback (most recent call last)",
      "Input \u001b[1;32mIn [118]\u001b[0m, in \u001b[0;36m<cell line: 2>\u001b[1;34m()\u001b[0m\n\u001b[0;32m      1\u001b[0m new_model\u001b[38;5;241m.\u001b[39mcompile(optimizer\u001b[38;5;241m=\u001b[39mtf\u001b[38;5;241m.\u001b[39mkeras\u001b[38;5;241m.\u001b[39moptimizers\u001b[38;5;241m.\u001b[39mAdagrad(learning_rate\u001b[38;5;241m=\u001b[39m\u001b[38;5;241m0.1\u001b[39m))\n\u001b[1;32m----> 2\u001b[0m \u001b[43mnew_model\u001b[49m\u001b[38;5;241;43m.\u001b[39;49m\u001b[43mevaluate\u001b[49m\u001b[43m(\u001b[49m\u001b[43muser_ds\u001b[49m\u001b[43m)\u001b[49m\n",
      "File \u001b[1;32mc:\\users\\asus\\anaconda3\\envs\\notebook\\lib\\site-packages\\keras\\utils\\traceback_utils.py:67\u001b[0m, in \u001b[0;36mfilter_traceback.<locals>.error_handler\u001b[1;34m(*args, **kwargs)\u001b[0m\n\u001b[0;32m     65\u001b[0m \u001b[38;5;28;01mexcept\u001b[39;00m \u001b[38;5;167;01mException\u001b[39;00m \u001b[38;5;28;01mas\u001b[39;00m e:  \u001b[38;5;66;03m# pylint: disable=broad-except\u001b[39;00m\n\u001b[0;32m     66\u001b[0m   filtered_tb \u001b[38;5;241m=\u001b[39m _process_traceback_frames(e\u001b[38;5;241m.\u001b[39m__traceback__)\n\u001b[1;32m---> 67\u001b[0m   \u001b[38;5;28;01mraise\u001b[39;00m e\u001b[38;5;241m.\u001b[39mwith_traceback(filtered_tb) \u001b[38;5;28;01mfrom\u001b[39;00m \u001b[38;5;28mNone\u001b[39m\n\u001b[0;32m     68\u001b[0m \u001b[38;5;28;01mfinally\u001b[39;00m:\n\u001b[0;32m     69\u001b[0m   \u001b[38;5;28;01mdel\u001b[39;00m filtered_tb\n",
      "File \u001b[1;32mc:\\users\\asus\\anaconda3\\envs\\notebook\\lib\\site-packages\\tensorflow\\python\\eager\\execute.py:54\u001b[0m, in \u001b[0;36mquick_execute\u001b[1;34m(op_name, num_outputs, inputs, attrs, ctx, name)\u001b[0m\n\u001b[0;32m     52\u001b[0m \u001b[38;5;28;01mtry\u001b[39;00m:\n\u001b[0;32m     53\u001b[0m   ctx\u001b[38;5;241m.\u001b[39mensure_initialized()\n\u001b[1;32m---> 54\u001b[0m   tensors \u001b[38;5;241m=\u001b[39m pywrap_tfe\u001b[38;5;241m.\u001b[39mTFE_Py_Execute(ctx\u001b[38;5;241m.\u001b[39m_handle, device_name, op_name,\n\u001b[0;32m     55\u001b[0m                                       inputs, attrs, num_outputs)\n\u001b[0;32m     56\u001b[0m \u001b[38;5;28;01mexcept\u001b[39;00m core\u001b[38;5;241m.\u001b[39m_NotOkStatusException \u001b[38;5;28;01mas\u001b[39;00m e:\n\u001b[0;32m     57\u001b[0m   \u001b[38;5;28;01mif\u001b[39;00m name \u001b[38;5;129;01mis\u001b[39;00m \u001b[38;5;129;01mnot\u001b[39;00m \u001b[38;5;28;01mNone\u001b[39;00m:\n",
      "\u001b[1;31mInvalidArgumentError\u001b[0m: Graph execution error:\n\nDetected at node 'sequential_59/dense_features_61/Caregiver-Gangguan-kecemasan/Reshape' defined at (most recent call last):\n    File \"C:\\Users\\ASUS\\anaconda3\\envs\\notebook\\lib\\runpy.py\", line 197, in _run_module_as_main\n      return _run_code(code, main_globals, None,\n    File \"C:\\Users\\ASUS\\anaconda3\\envs\\notebook\\lib\\runpy.py\", line 87, in _run_code\n      exec(code, run_globals)\n    File \"c:\\users\\asus\\anaconda3\\envs\\notebook\\lib\\site-packages\\ipykernel_launcher.py\", line 16, in <module>\n      app.launch_new_instance()\n    File \"c:\\users\\asus\\anaconda3\\envs\\notebook\\lib\\site-packages\\traitlets\\config\\application.py\", line 846, in launch_instance\n      app.start()\n    File \"c:\\users\\asus\\anaconda3\\envs\\notebook\\lib\\site-packages\\ipykernel\\kernelapp.py\", line 677, in start\n      self.io_loop.start()\n    File \"c:\\users\\asus\\anaconda3\\envs\\notebook\\lib\\site-packages\\tornado\\platform\\asyncio.py\", line 199, in start\n      self.asyncio_loop.run_forever()\n    File \"C:\\Users\\ASUS\\anaconda3\\envs\\notebook\\lib\\asyncio\\base_events.py\", line 601, in run_forever\n      self._run_once()\n    File \"C:\\Users\\ASUS\\anaconda3\\envs\\notebook\\lib\\asyncio\\base_events.py\", line 1905, in _run_once\n      handle._run()\n    File \"C:\\Users\\ASUS\\anaconda3\\envs\\notebook\\lib\\asyncio\\events.py\", line 80, in _run\n      self._context.run(self._callback, *self._args)\n    File \"c:\\users\\asus\\anaconda3\\envs\\notebook\\lib\\site-packages\\ipykernel\\kernelbase.py\", line 471, in dispatch_queue\n      await self.process_one()\n    File \"c:\\users\\asus\\anaconda3\\envs\\notebook\\lib\\site-packages\\ipykernel\\kernelbase.py\", line 460, in process_one\n      await dispatch(*args)\n    File \"c:\\users\\asus\\anaconda3\\envs\\notebook\\lib\\site-packages\\ipykernel\\kernelbase.py\", line 367, in dispatch_shell\n      await result\n    File \"c:\\users\\asus\\anaconda3\\envs\\notebook\\lib\\site-packages\\ipykernel\\kernelbase.py\", line 662, in execute_request\n      reply_content = await reply_content\n    File \"c:\\users\\asus\\anaconda3\\envs\\notebook\\lib\\site-packages\\ipykernel\\ipkernel.py\", line 360, in do_execute\n      res = shell.run_cell(code, store_history=store_history, silent=silent)\n    File \"c:\\users\\asus\\anaconda3\\envs\\notebook\\lib\\site-packages\\ipykernel\\zmqshell.py\", line 532, in run_cell\n      return super().run_cell(*args, **kwargs)\n    File \"c:\\users\\asus\\anaconda3\\envs\\notebook\\lib\\site-packages\\IPython\\core\\interactiveshell.py\", line 2854, in run_cell\n      result = self._run_cell(\n    File \"c:\\users\\asus\\anaconda3\\envs\\notebook\\lib\\site-packages\\IPython\\core\\interactiveshell.py\", line 2900, in _run_cell\n      return runner(coro)\n    File \"c:\\users\\asus\\anaconda3\\envs\\notebook\\lib\\site-packages\\IPython\\core\\async_helpers.py\", line 129, in _pseudo_sync_runner\n      coro.send(None)\n    File \"c:\\users\\asus\\anaconda3\\envs\\notebook\\lib\\site-packages\\IPython\\core\\interactiveshell.py\", line 3098, in run_cell_async\n      has_raised = await self.run_ast_nodes(code_ast.body, cell_name,\n    File \"c:\\users\\asus\\anaconda3\\envs\\notebook\\lib\\site-packages\\IPython\\core\\interactiveshell.py\", line 3301, in run_ast_nodes\n      if await self.run_code(code, result, async_=asy):\n    File \"c:\\users\\asus\\anaconda3\\envs\\notebook\\lib\\site-packages\\IPython\\core\\interactiveshell.py\", line 3361, in run_code\n      exec(code_obj, self.user_global_ns, self.user_ns)\n    File \"C:\\Users\\ASUS\\AppData\\Local\\Temp\\ipykernel_11056\\1303903317.py\", line 2, in <cell line: 2>\n      new_model.evaluate(user_ds)\n    File \"c:\\users\\asus\\anaconda3\\envs\\notebook\\lib\\site-packages\\keras\\utils\\traceback_utils.py\", line 64, in error_handler\n      return fn(*args, **kwargs)\n    File \"c:\\users\\asus\\anaconda3\\envs\\notebook\\lib\\site-packages\\keras\\engine\\training.py\", line 1716, in evaluate\n      tmp_logs = self.test_function(iterator)\n    File \"c:\\users\\asus\\anaconda3\\envs\\notebook\\lib\\site-packages\\keras\\engine\\training.py\", line 1525, in test_function\n      return step_function(self, iterator)\n    File \"c:\\users\\asus\\anaconda3\\envs\\notebook\\lib\\site-packages\\keras\\engine\\training.py\", line 1514, in step_function\n      outputs = model.distribute_strategy.run(run_step, args=(data,))\n    File \"c:\\users\\asus\\anaconda3\\envs\\notebook\\lib\\site-packages\\keras\\engine\\training.py\", line 1507, in run_step\n      outputs = model.test_step(data)\n    File \"c:\\users\\asus\\anaconda3\\envs\\notebook\\lib\\site-packages\\tensorflow_recommenders\\models\\base.py\", line 88, in test_step\n      loss = self.compute_loss(inputs, training=False)\n    File \"C:\\Users\\ASUS\\AppData\\Local\\Temp\\ipykernel_11056\\3531141139.py\", line 124, in compute_loss\n      positive_caregiver_embeddings = self.caregiver_model({\n    File \"c:\\users\\asus\\anaconda3\\envs\\notebook\\lib\\site-packages\\keras\\utils\\traceback_utils.py\", line 64, in error_handler\n      return fn(*args, **kwargs)\n    File \"c:\\users\\asus\\anaconda3\\envs\\notebook\\lib\\site-packages\\keras\\engine\\base_layer.py\", line 1096, in __call__\n      outputs = call_fn(inputs, *args, **kwargs)\n    File \"c:\\users\\asus\\anaconda3\\envs\\notebook\\lib\\site-packages\\keras\\utils\\traceback_utils.py\", line 92, in error_handler\n      return fn(*args, **kwargs)\n    File \"c:\\users\\asus\\anaconda3\\envs\\notebook\\lib\\site-packages\\keras\\engine\\sequential.py\", line 388, in call\n      outputs = layer(inputs, **kwargs)\n    File \"c:\\users\\asus\\anaconda3\\envs\\notebook\\lib\\site-packages\\keras\\utils\\traceback_utils.py\", line 64, in error_handler\n      return fn(*args, **kwargs)\n    File \"c:\\users\\asus\\anaconda3\\envs\\notebook\\lib\\site-packages\\keras\\engine\\base_layer.py\", line 1096, in __call__\n      outputs = call_fn(inputs, *args, **kwargs)\n    File \"c:\\users\\asus\\anaconda3\\envs\\notebook\\lib\\site-packages\\keras\\utils\\traceback_utils.py\", line 92, in error_handler\n      return fn(*args, **kwargs)\n    File \"c:\\users\\asus\\anaconda3\\envs\\notebook\\lib\\site-packages\\keras\\feature_column\\dense_features.py\", line 170, in call\n      processed_tensors = self._process_dense_tensor(column, tensor)\n    File \"c:\\users\\asus\\anaconda3\\envs\\notebook\\lib\\site-packages\\keras\\feature_column\\base_feature_layer.py\", line 112, in _process_dense_tensor\n      return tf.reshape(tensor, shape=target_shape)\nNode: 'sequential_59/dense_features_61/Caregiver-Gangguan-kecemasan/Reshape'\nDetected at node 'sequential_59/dense_features_61/Caregiver-Gangguan-kecemasan/Reshape' defined at (most recent call last):\n    File \"C:\\Users\\ASUS\\anaconda3\\envs\\notebook\\lib\\runpy.py\", line 197, in _run_module_as_main\n      return _run_code(code, main_globals, None,\n    File \"C:\\Users\\ASUS\\anaconda3\\envs\\notebook\\lib\\runpy.py\", line 87, in _run_code\n      exec(code, run_globals)\n    File \"c:\\users\\asus\\anaconda3\\envs\\notebook\\lib\\site-packages\\ipykernel_launcher.py\", line 16, in <module>\n      app.launch_new_instance()\n    File \"c:\\users\\asus\\anaconda3\\envs\\notebook\\lib\\site-packages\\traitlets\\config\\application.py\", line 846, in launch_instance\n      app.start()\n    File \"c:\\users\\asus\\anaconda3\\envs\\notebook\\lib\\site-packages\\ipykernel\\kernelapp.py\", line 677, in start\n      self.io_loop.start()\n    File \"c:\\users\\asus\\anaconda3\\envs\\notebook\\lib\\site-packages\\tornado\\platform\\asyncio.py\", line 199, in start\n      self.asyncio_loop.run_forever()\n    File \"C:\\Users\\ASUS\\anaconda3\\envs\\notebook\\lib\\asyncio\\base_events.py\", line 601, in run_forever\n      self._run_once()\n    File \"C:\\Users\\ASUS\\anaconda3\\envs\\notebook\\lib\\asyncio\\base_events.py\", line 1905, in _run_once\n      handle._run()\n    File \"C:\\Users\\ASUS\\anaconda3\\envs\\notebook\\lib\\asyncio\\events.py\", line 80, in _run\n      self._context.run(self._callback, *self._args)\n    File \"c:\\users\\asus\\anaconda3\\envs\\notebook\\lib\\site-packages\\ipykernel\\kernelbase.py\", line 471, in dispatch_queue\n      await self.process_one()\n    File \"c:\\users\\asus\\anaconda3\\envs\\notebook\\lib\\site-packages\\ipykernel\\kernelbase.py\", line 460, in process_one\n      await dispatch(*args)\n    File \"c:\\users\\asus\\anaconda3\\envs\\notebook\\lib\\site-packages\\ipykernel\\kernelbase.py\", line 367, in dispatch_shell\n      await result\n    File \"c:\\users\\asus\\anaconda3\\envs\\notebook\\lib\\site-packages\\ipykernel\\kernelbase.py\", line 662, in execute_request\n      reply_content = await reply_content\n    File \"c:\\users\\asus\\anaconda3\\envs\\notebook\\lib\\site-packages\\ipykernel\\ipkernel.py\", line 360, in do_execute\n      res = shell.run_cell(code, store_history=store_history, silent=silent)\n    File \"c:\\users\\asus\\anaconda3\\envs\\notebook\\lib\\site-packages\\ipykernel\\zmqshell.py\", line 532, in run_cell\n      return super().run_cell(*args, **kwargs)\n    File \"c:\\users\\asus\\anaconda3\\envs\\notebook\\lib\\site-packages\\IPython\\core\\interactiveshell.py\", line 2854, in run_cell\n      result = self._run_cell(\n    File \"c:\\users\\asus\\anaconda3\\envs\\notebook\\lib\\site-packages\\IPython\\core\\interactiveshell.py\", line 2900, in _run_cell\n      return runner(coro)\n    File \"c:\\users\\asus\\anaconda3\\envs\\notebook\\lib\\site-packages\\IPython\\core\\async_helpers.py\", line 129, in _pseudo_sync_runner\n      coro.send(None)\n    File \"c:\\users\\asus\\anaconda3\\envs\\notebook\\lib\\site-packages\\IPython\\core\\interactiveshell.py\", line 3098, in run_cell_async\n      has_raised = await self.run_ast_nodes(code_ast.body, cell_name,\n    File \"c:\\users\\asus\\anaconda3\\envs\\notebook\\lib\\site-packages\\IPython\\core\\interactiveshell.py\", line 3301, in run_ast_nodes\n      if await self.run_code(code, result, async_=asy):\n    File \"c:\\users\\asus\\anaconda3\\envs\\notebook\\lib\\site-packages\\IPython\\core\\interactiveshell.py\", line 3361, in run_code\n      exec(code_obj, self.user_global_ns, self.user_ns)\n    File \"C:\\Users\\ASUS\\AppData\\Local\\Temp\\ipykernel_11056\\1303903317.py\", line 2, in <cell line: 2>\n      new_model.evaluate(user_ds)\n    File \"c:\\users\\asus\\anaconda3\\envs\\notebook\\lib\\site-packages\\keras\\utils\\traceback_utils.py\", line 64, in error_handler\n      return fn(*args, **kwargs)\n    File \"c:\\users\\asus\\anaconda3\\envs\\notebook\\lib\\site-packages\\keras\\engine\\training.py\", line 1716, in evaluate\n      tmp_logs = self.test_function(iterator)\n    File \"c:\\users\\asus\\anaconda3\\envs\\notebook\\lib\\site-packages\\keras\\engine\\training.py\", line 1525, in test_function\n      return step_function(self, iterator)\n    File \"c:\\users\\asus\\anaconda3\\envs\\notebook\\lib\\site-packages\\keras\\engine\\training.py\", line 1514, in step_function\n      outputs = model.distribute_strategy.run(run_step, args=(data,))\n    File \"c:\\users\\asus\\anaconda3\\envs\\notebook\\lib\\site-packages\\keras\\engine\\training.py\", line 1507, in run_step\n      outputs = model.test_step(data)\n    File \"c:\\users\\asus\\anaconda3\\envs\\notebook\\lib\\site-packages\\tensorflow_recommenders\\models\\base.py\", line 88, in test_step\n      loss = self.compute_loss(inputs, training=False)\n    File \"C:\\Users\\ASUS\\AppData\\Local\\Temp\\ipykernel_11056\\3531141139.py\", line 124, in compute_loss\n      positive_caregiver_embeddings = self.caregiver_model({\n    File \"c:\\users\\asus\\anaconda3\\envs\\notebook\\lib\\site-packages\\keras\\utils\\traceback_utils.py\", line 64, in error_handler\n      return fn(*args, **kwargs)\n    File \"c:\\users\\asus\\anaconda3\\envs\\notebook\\lib\\site-packages\\keras\\engine\\base_layer.py\", line 1096, in __call__\n      outputs = call_fn(inputs, *args, **kwargs)\n    File \"c:\\users\\asus\\anaconda3\\envs\\notebook\\lib\\site-packages\\keras\\utils\\traceback_utils.py\", line 92, in error_handler\n      return fn(*args, **kwargs)\n    File \"c:\\users\\asus\\anaconda3\\envs\\notebook\\lib\\site-packages\\keras\\engine\\sequential.py\", line 388, in call\n      outputs = layer(inputs, **kwargs)\n    File \"c:\\users\\asus\\anaconda3\\envs\\notebook\\lib\\site-packages\\keras\\utils\\traceback_utils.py\", line 64, in error_handler\n      return fn(*args, **kwargs)\n    File \"c:\\users\\asus\\anaconda3\\envs\\notebook\\lib\\site-packages\\keras\\engine\\base_layer.py\", line 1096, in __call__\n      outputs = call_fn(inputs, *args, **kwargs)\n    File \"c:\\users\\asus\\anaconda3\\envs\\notebook\\lib\\site-packages\\keras\\utils\\traceback_utils.py\", line 92, in error_handler\n      return fn(*args, **kwargs)\n    File \"c:\\users\\asus\\anaconda3\\envs\\notebook\\lib\\site-packages\\keras\\feature_column\\dense_features.py\", line 170, in call\n      processed_tensors = self._process_dense_tensor(column, tensor)\n    File \"c:\\users\\asus\\anaconda3\\envs\\notebook\\lib\\site-packages\\keras\\feature_column\\base_feature_layer.py\", line 112, in _process_dense_tensor\n      return tf.reshape(tensor, shape=target_shape)\nNode: 'sequential_59/dense_features_61/Caregiver-Gangguan-kecemasan/Reshape'\nDetected at node 'sequential_59/dense_features_61/Caregiver-Gangguan-kecemasan/Reshape' defined at (most recent call last):\n    File \"C:\\Users\\ASUS\\anaconda3\\envs\\notebook\\lib\\runpy.py\", line 197, in _run_module_as_main\n      return _run_code(code, main_globals, None,\n    File \"C:\\Users\\ASUS\\anaconda3\\envs\\notebook\\lib\\runpy.py\", line 87, in _run_code\n      exec(code, run_globals)\n    File \"c:\\users\\asus\\anaconda3\\envs\\notebook\\lib\\site-packages\\ipykernel_launcher.py\", line 16, in <module>\n      app.launch_new_instance()\n    File \"c:\\users\\asus\\anaconda3\\envs\\notebook\\lib\\site-packages\\traitlets\\config\\application.py\", line 846, in launch_instance\n      app.start()\n    File \"c:\\users\\asus\\anaconda3\\envs\\notebook\\lib\\site-packages\\ipykernel\\kernelapp.py\", line 677, in start\n      self.io_loop.start()\n    File \"c:\\users\\asus\\anaconda3\\envs\\notebook\\lib\\site-packages\\tornado\\platform\\asyncio.py\", line 199, in start\n      self.asyncio_loop.run_forever()\n    File \"C:\\Users\\ASUS\\anaconda3\\envs\\notebook\\lib\\asyncio\\base_events.py\", line 601, in run_forever\n      self._run_once()\n    File \"C:\\Users\\ASUS\\anaconda3\\envs\\notebook\\lib\\asyncio\\base_events.py\", line 1905, in _run_once\n      handle._run()\n    File \"C:\\Users\\ASUS\\anaconda3\\envs\\notebook\\lib\\asyncio\\events.py\", line 80, in _run\n      self._context.run(self._callback, *self._args)\n    File \"c:\\users\\asus\\anaconda3\\envs\\notebook\\lib\\site-packages\\ipykernel\\kernelbase.py\", line 471, in dispatch_queue\n      await self.process_one()\n    File \"c:\\users\\asus\\anaconda3\\envs\\notebook\\lib\\site-packages\\ipykernel\\kernelbase.py\", line 460, in process_one\n      await dispatch(*args)\n    File \"c:\\users\\asus\\anaconda3\\envs\\notebook\\lib\\site-packages\\ipykernel\\kernelbase.py\", line 367, in dispatch_shell\n      await result\n    File \"c:\\users\\asus\\anaconda3\\envs\\notebook\\lib\\site-packages\\ipykernel\\kernelbase.py\", line 662, in execute_request\n      reply_content = await reply_content\n    File \"c:\\users\\asus\\anaconda3\\envs\\notebook\\lib\\site-packages\\ipykernel\\ipkernel.py\", line 360, in do_execute\n      res = shell.run_cell(code, store_history=store_history, silent=silent)\n    File \"c:\\users\\asus\\anaconda3\\envs\\notebook\\lib\\site-packages\\ipykernel\\zmqshell.py\", line 532, in run_cell\n      return super().run_cell(*args, **kwargs)\n    File \"c:\\users\\asus\\anaconda3\\envs\\notebook\\lib\\site-packages\\IPython\\core\\interactiveshell.py\", line 2854, in run_cell\n      result = self._run_cell(\n    File \"c:\\users\\asus\\anaconda3\\envs\\notebook\\lib\\site-packages\\IPython\\core\\interactiveshell.py\", line 2900, in _run_cell\n      return runner(coro)\n    File \"c:\\users\\asus\\anaconda3\\envs\\notebook\\lib\\site-packages\\IPython\\core\\async_helpers.py\", line 129, in _pseudo_sync_runner\n      coro.send(None)\n    File \"c:\\users\\asus\\anaconda3\\envs\\notebook\\lib\\site-packages\\IPython\\core\\interactiveshell.py\", line 3098, in run_cell_async\n      has_raised = await self.run_ast_nodes(code_ast.body, cell_name,\n    File \"c:\\users\\asus\\anaconda3\\envs\\notebook\\lib\\site-packages\\IPython\\core\\interactiveshell.py\", line 3301, in run_ast_nodes\n      if await self.run_code(code, result, async_=asy):\n    File \"c:\\users\\asus\\anaconda3\\envs\\notebook\\lib\\site-packages\\IPython\\core\\interactiveshell.py\", line 3361, in run_code\n      exec(code_obj, self.user_global_ns, self.user_ns)\n    File \"C:\\Users\\ASUS\\AppData\\Local\\Temp\\ipykernel_11056\\1303903317.py\", line 2, in <cell line: 2>\n      new_model.evaluate(user_ds)\n    File \"c:\\users\\asus\\anaconda3\\envs\\notebook\\lib\\site-packages\\keras\\utils\\traceback_utils.py\", line 64, in error_handler\n      return fn(*args, **kwargs)\n    File \"c:\\users\\asus\\anaconda3\\envs\\notebook\\lib\\site-packages\\keras\\engine\\training.py\", line 1716, in evaluate\n      tmp_logs = self.test_function(iterator)\n    File \"c:\\users\\asus\\anaconda3\\envs\\notebook\\lib\\site-packages\\keras\\engine\\training.py\", line 1525, in test_function\n      return step_function(self, iterator)\n    File \"c:\\users\\asus\\anaconda3\\envs\\notebook\\lib\\site-packages\\keras\\engine\\training.py\", line 1514, in step_function\n      outputs = model.distribute_strategy.run(run_step, args=(data,))\n    File \"c:\\users\\asus\\anaconda3\\envs\\notebook\\lib\\site-packages\\keras\\engine\\training.py\", line 1507, in run_step\n      outputs = model.test_step(data)\n    File \"c:\\users\\asus\\anaconda3\\envs\\notebook\\lib\\site-packages\\tensorflow_recommenders\\models\\base.py\", line 88, in test_step\n      loss = self.compute_loss(inputs, training=False)\n    File \"C:\\Users\\ASUS\\AppData\\Local\\Temp\\ipykernel_11056\\3531141139.py\", line 124, in compute_loss\n      positive_caregiver_embeddings = self.caregiver_model({\n    File \"c:\\users\\asus\\anaconda3\\envs\\notebook\\lib\\site-packages\\keras\\utils\\traceback_utils.py\", line 64, in error_handler\n      return fn(*args, **kwargs)\n    File \"c:\\users\\asus\\anaconda3\\envs\\notebook\\lib\\site-packages\\keras\\engine\\base_layer.py\", line 1096, in __call__\n      outputs = call_fn(inputs, *args, **kwargs)\n    File \"c:\\users\\asus\\anaconda3\\envs\\notebook\\lib\\site-packages\\keras\\utils\\traceback_utils.py\", line 92, in error_handler\n      return fn(*args, **kwargs)\n    File \"c:\\users\\asus\\anaconda3\\envs\\notebook\\lib\\site-packages\\keras\\engine\\sequential.py\", line 388, in call\n      outputs = layer(inputs, **kwargs)\n    File \"c:\\users\\asus\\anaconda3\\envs\\notebook\\lib\\site-packages\\keras\\utils\\traceback_utils.py\", line 64, in error_handler\n      return fn(*args, **kwargs)\n    File \"c:\\users\\asus\\anaconda3\\envs\\notebook\\lib\\site-packages\\keras\\engine\\base_layer.py\", line 1096, in __call__\n      outputs = call_fn(inputs, *args, **kwargs)\n    File \"c:\\users\\asus\\anaconda3\\envs\\notebook\\lib\\site-packages\\keras\\utils\\traceback_utils.py\", line 92, in error_handler\n      return fn(*args, **kwargs)\n    File \"c:\\users\\asus\\anaconda3\\envs\\notebook\\lib\\site-packages\\keras\\feature_column\\dense_features.py\", line 170, in call\n      processed_tensors = self._process_dense_tensor(column, tensor)\n    File \"c:\\users\\asus\\anaconda3\\envs\\notebook\\lib\\site-packages\\keras\\feature_column\\base_feature_layer.py\", line 112, in _process_dense_tensor\n      return tf.reshape(tensor, shape=target_shape)\nNode: 'sequential_59/dense_features_61/Caregiver-Gangguan-kecemasan/Reshape'\nDetected at node 'sequential_59/dense_features_61/Caregiver-Gangguan-kecemasan/Reshape' defined at (most recent call last):\n    File \"C:\\Users\\ASUS\\anaconda3\\envs\\notebook\\lib\\runpy.py\", line 197, in _run_module_as_main\n      return _run_code(code, main_globals, None,\n    File \"C:\\Users\\ASUS\\anaconda3\\envs\\notebook\\lib\\runpy.py\", line 87, in _run_code\n      exec(code, run_globals)\n    File \"c:\\users\\asus\\anaconda3\\envs\\notebook\\lib\\site-packages\\ipykernel_launcher.py\", line 16, in <module>\n      app.launch_new_instance()\n    File \"c:\\users\\asus\\anaconda3\\envs\\notebook\\lib\\site-packages\\traitlets\\config\\application.py\", line 846, in launch_instance\n      app.start()\n    File \"c:\\users\\asus\\anaconda3\\envs\\notebook\\lib\\site-packages\\ipykernel\\kernelapp.py\", line 677, in start\n      self.io_loop.start()\n    File \"c:\\users\\asus\\anaconda3\\envs\\notebook\\lib\\site-packages\\tornado\\platform\\asyncio.py\", line 199, in start\n      self.asyncio_loop.run_forever()\n    File \"C:\\Users\\ASUS\\anaconda3\\envs\\notebook\\lib\\asyncio\\base_events.py\", line 601, in run_forever\n      self._run_once()\n    File \"C:\\Users\\ASUS\\anaconda3\\envs\\notebook\\lib\\asyncio\\base_events.py\", line 1905, in _run_once\n      handle._run()\n    File \"C:\\Users\\ASUS\\anaconda3\\envs\\notebook\\lib\\asyncio\\events.py\", line 80, in _run\n      self._context.run(self._callback, *self._args)\n    File \"c:\\users\\asus\\anaconda3\\envs\\notebook\\lib\\site-packages\\ipykernel\\kernelbase.py\", line 471, in dispatch_queue\n      await self.process_one()\n    File \"c:\\users\\asus\\anaconda3\\envs\\notebook\\lib\\site-packages\\ipykernel\\kernelbase.py\", line 460, in process_one\n      await dispatch(*args)\n    File \"c:\\users\\asus\\anaconda3\\envs\\notebook\\lib\\site-packages\\ipykernel\\kernelbase.py\", line 367, in dispatch_shell\n      await result\n    File \"c:\\users\\asus\\anaconda3\\envs\\notebook\\lib\\site-packages\\ipykernel\\kernelbase.py\", line 662, in execute_request\n      reply_content = await reply_content\n    File \"c:\\users\\asus\\anaconda3\\envs\\notebook\\lib\\site-packages\\ipykernel\\ipkernel.py\", line 360, in do_execute\n      res = shell.run_cell(code, store_history=store_history, silent=silent)\n    File \"c:\\users\\asus\\anaconda3\\envs\\notebook\\lib\\site-packages\\ipykernel\\zmqshell.py\", line 532, in run_cell\n      return super().run_cell(*args, **kwargs)\n    File \"c:\\users\\asus\\anaconda3\\envs\\notebook\\lib\\site-packages\\IPython\\core\\interactiveshell.py\", line 2854, in run_cell\n      result = self._run_cell(\n    File \"c:\\users\\asus\\anaconda3\\envs\\notebook\\lib\\site-packages\\IPython\\core\\interactiveshell.py\", line 2900, in _run_cell\n      return runner(coro)\n    File \"c:\\users\\asus\\anaconda3\\envs\\notebook\\lib\\site-packages\\IPython\\core\\async_helpers.py\", line 129, in _pseudo_sync_runner\n      coro.send(None)\n    File \"c:\\users\\asus\\anaconda3\\envs\\notebook\\lib\\site-packages\\IPython\\core\\interactiveshell.py\", line 3098, in run_cell_async\n      has_raised = await self.run_ast_nodes(code_ast.body, cell_name,\n    File \"c:\\users\\asus\\anaconda3\\envs\\notebook\\lib\\site-packages\\IPython\\core\\interactiveshell.py\", line 3301, in run_ast_nodes\n      if await self.run_code(code, result, async_=asy):\n    File \"c:\\users\\asus\\anaconda3\\envs\\notebook\\lib\\site-packages\\IPython\\core\\interactiveshell.py\", line 3361, in run_code\n      exec(code_obj, self.user_global_ns, self.user_ns)\n    File \"C:\\Users\\ASUS\\AppData\\Local\\Temp\\ipykernel_11056\\1303903317.py\", line 2, in <cell line: 2>\n      new_model.evaluate(user_ds)\n    File \"c:\\users\\asus\\anaconda3\\envs\\notebook\\lib\\site-packages\\keras\\utils\\traceback_utils.py\", line 64, in error_handler\n      return fn(*args, **kwargs)\n    File \"c:\\users\\asus\\anaconda3\\envs\\notebook\\lib\\site-packages\\keras\\engine\\training.py\", line 1716, in evaluate\n      tmp_logs = self.test_function(iterator)\n    File \"c:\\users\\asus\\anaconda3\\envs\\notebook\\lib\\site-packages\\keras\\engine\\training.py\", line 1525, in test_function\n      return step_function(self, iterator)\n    File \"c:\\users\\asus\\anaconda3\\envs\\notebook\\lib\\site-packages\\keras\\engine\\training.py\", line 1514, in step_function\n      outputs = model.distribute_strategy.run(run_step, args=(data,))\n    File \"c:\\users\\asus\\anaconda3\\envs\\notebook\\lib\\site-packages\\keras\\engine\\training.py\", line 1507, in run_step\n      outputs = model.test_step(data)\n    File \"c:\\users\\asus\\anaconda3\\envs\\notebook\\lib\\site-packages\\tensorflow_recommenders\\models\\base.py\", line 88, in test_step\n      loss = self.compute_loss(inputs, training=False)\n    File \"C:\\Users\\ASUS\\AppData\\Local\\Temp\\ipykernel_11056\\3531141139.py\", line 124, in compute_loss\n      positive_caregiver_embeddings = self.caregiver_model({\n    File \"c:\\users\\asus\\anaconda3\\envs\\notebook\\lib\\site-packages\\keras\\utils\\traceback_utils.py\", line 64, in error_handler\n      return fn(*args, **kwargs)\n    File \"c:\\users\\asus\\anaconda3\\envs\\notebook\\lib\\site-packages\\keras\\engine\\base_layer.py\", line 1096, in __call__\n      outputs = call_fn(inputs, *args, **kwargs)\n    File \"c:\\users\\asus\\anaconda3\\envs\\notebook\\lib\\site-packages\\keras\\utils\\traceback_utils.py\", line 92, in error_handler\n      return fn(*args, **kwargs)\n    File \"c:\\users\\asus\\anaconda3\\envs\\notebook\\lib\\site-packages\\keras\\engine\\sequential.py\", line 388, in call\n      outputs = layer(inputs, **kwargs)\n    File \"c:\\users\\asus\\anaconda3\\envs\\notebook\\lib\\site-packages\\keras\\utils\\traceback_utils.py\", line 64, in error_handler\n      return fn(*args, **kwargs)\n    File \"c:\\users\\asus\\anaconda3\\envs\\notebook\\lib\\site-packages\\keras\\engine\\base_layer.py\", line 1096, in __call__\n      outputs = call_fn(inputs, *args, **kwargs)\n    File \"c:\\users\\asus\\anaconda3\\envs\\notebook\\lib\\site-packages\\keras\\utils\\traceback_utils.py\", line 92, in error_handler\n      return fn(*args, **kwargs)\n    File \"c:\\users\\asus\\anaconda3\\envs\\notebook\\lib\\site-packages\\keras\\feature_column\\dense_features.py\", line 170, in call\n      processed_tensors = self._process_dense_tensor(column, tensor)\n    File \"c:\\users\\asus\\anaconda3\\envs\\notebook\\lib\\site-packages\\keras\\feature_column\\base_feature_layer.py\", line 112, in _process_dense_tensor\n      return tf.reshape(tensor, shape=target_shape)\nNode: 'sequential_59/dense_features_61/Caregiver-Gangguan-kecemasan/Reshape'\n2 root error(s) found.\n  (0) INVALID_ARGUMENT:  2 root error(s) found.\n  (0) INVALID_ARGUMENT:  Input to reshape is a tensor with 25 values, but the requested shape has 5\n\t [[{{node sequential_59/dense_features_61/Caregiver-Gangguan-kecemasan/Reshape}}]]\n\t [[sequential_59/dense_118/MatMul/ReadVariableOp/_1]]\n  (1) INVALID_ARGUMENT:  Input to reshape is a tensor with 25 values, but the requested shape has 5\n\t [[{{node sequential_59/dense_features_61/Caregiver-Gangguan-kecemasan/Reshape}}]]\n0 successful operations.\n0 derived errors ignored.\n\t [[retrieval_27/streaming_27/ReduceDataset]]\n\t [[retrieval_27/streaming_27/ReduceDataset/_82]]\n  (1) INVALID_ARGUMENT:  2 root error(s) found.\n  (0) INVALID_ARGUMENT:  Input to reshape is a tensor with 25 values, but the requested shape has 5\n\t [[{{node sequential_59/dense_features_61/Caregiver-Gangguan-kecemasan/Reshape}}]]\n\t [[sequential_59/dense_118/MatMul/ReadVariableOp/_1]]\n  (1) INVALID_ARGUMENT:  Input to reshape is a tensor with 25 values, but the requested shape has 5\n\t [[{{node sequential_59/dense_features_61/Caregiver-Gangguan-kecemasan/Reshape}}]]\n0 successful operations.\n0 derived errors ignored.\n\t [[retrieval_27/streaming_27/ReduceDataset]]\n0 successful operations.\n0 derived errors ignored. [Op:__inference_test_function_104788]"
     ]
    }
   ],
   "source": [
    "new_model.compile(optimizer=tf.keras.optimizers.Adagrad(learning_rate=0.1))\n",
    "new_model.evaluate(user_ds)"
   ]
  },
  {
   "cell_type": "code",
   "execution_count": 120,
   "id": "195f3ca0",
   "metadata": {},
   "outputs": [
    {
     "data": {
      "text/plain": [
       "33.02085"
      ]
     },
     "execution_count": 120,
     "metadata": {},
     "output_type": "execute_result"
    }
   ],
   "source": [
    "y_true = [[0, 1, 2], [0, 0, 0]]\n",
    "y_pred = [[-18.6, 0.51, -1.2], [2.94, -12.8, 192]]\n",
    "bce = tf.keras.losses.BinaryCrossentropy(from_logits=True)\n",
    "bce(y_true, y_pred).numpy()"
   ]
  },
  {
   "cell_type": "code",
   "execution_count": 131,
   "id": "322fff8e",
   "metadata": {},
   "outputs": [
    {
     "ename": "InvalidArgumentError",
     "evalue": "Input to reshape is a tensor with 25 values, but the requested shape has 5 [Op:Reshape]",
     "output_type": "error",
     "traceback": [
      "\u001b[1;31m---------------------------------------------------------------------------\u001b[0m",
      "\u001b[1;31mInvalidArgumentError\u001b[0m                      Traceback (most recent call last)",
      "Input \u001b[1;32mIn [131]\u001b[0m, in \u001b[0;36m<cell line: 1>\u001b[1;34m()\u001b[0m\n\u001b[1;32m----> 1\u001b[0m \u001b[43mtf\u001b[49m\u001b[38;5;241;43m.\u001b[39;49m\u001b[43mreshape\u001b[49m\u001b[43m(\u001b[49m\u001b[43m[\u001b[49m\u001b[38;5;241;43m1\u001b[39;49m\u001b[43m,\u001b[49m\u001b[43m \u001b[49m\u001b[38;5;241;43m2\u001b[39;49m\u001b[43m,\u001b[49m\u001b[43m \u001b[49m\u001b[38;5;241;43m3\u001b[39;49m\u001b[43m,\u001b[49m\u001b[38;5;241;43m4\u001b[39;49m\u001b[43m,\u001b[49m\u001b[43m \u001b[49m\u001b[38;5;241;43m5\u001b[39;49m\u001b[43m,\u001b[49m\u001b[38;5;241;43m6\u001b[39;49m\u001b[43m,\u001b[49m\u001b[38;5;241;43m7\u001b[39;49m\u001b[43m,\u001b[49m\u001b[38;5;241;43m8\u001b[39;49m\u001b[43m,\u001b[49m\u001b[38;5;241;43m9\u001b[39;49m\u001b[43m,\u001b[49m\u001b[38;5;241;43m10\u001b[39;49m\u001b[43m,\u001b[49m\u001b[38;5;241;43m11\u001b[39;49m\u001b[43m,\u001b[49m\u001b[38;5;241;43m12\u001b[39;49m\u001b[43m,\u001b[49m\u001b[38;5;241;43m13\u001b[39;49m\u001b[43m,\u001b[49m\u001b[38;5;241;43m14\u001b[39;49m\u001b[43m,\u001b[49m\u001b[38;5;241;43m15\u001b[39;49m\u001b[43m,\u001b[49m\u001b[38;5;241;43m16\u001b[39;49m\u001b[43m,\u001b[49m\u001b[38;5;241;43m17\u001b[39;49m\u001b[43m,\u001b[49m\u001b[38;5;241;43m18\u001b[39;49m\u001b[43m,\u001b[49m\u001b[38;5;241;43m19\u001b[39;49m\u001b[43m,\u001b[49m\u001b[38;5;241;43m20\u001b[39;49m\u001b[43m,\u001b[49m\u001b[38;5;241;43m21\u001b[39;49m\u001b[43m,\u001b[49m\u001b[38;5;241;43m22\u001b[39;49m\u001b[43m,\u001b[49m\u001b[38;5;241;43m23\u001b[39;49m\u001b[43m,\u001b[49m\u001b[38;5;241;43m24\u001b[39;49m\u001b[43m,\u001b[49m\u001b[38;5;241;43m25\u001b[39;49m\u001b[43m]\u001b[49m\u001b[43m,\u001b[49m\u001b[43m \u001b[49m\u001b[43m[\u001b[49m\u001b[38;5;241;43m5\u001b[39;49m\u001b[43m]\u001b[49m\u001b[43m)\u001b[49m\n",
      "File \u001b[1;32mc:\\users\\asus\\anaconda3\\envs\\notebook\\lib\\site-packages\\tensorflow\\python\\util\\traceback_utils.py:153\u001b[0m, in \u001b[0;36mfilter_traceback.<locals>.error_handler\u001b[1;34m(*args, **kwargs)\u001b[0m\n\u001b[0;32m    151\u001b[0m \u001b[38;5;28;01mexcept\u001b[39;00m \u001b[38;5;167;01mException\u001b[39;00m \u001b[38;5;28;01mas\u001b[39;00m e:\n\u001b[0;32m    152\u001b[0m   filtered_tb \u001b[38;5;241m=\u001b[39m _process_traceback_frames(e\u001b[38;5;241m.\u001b[39m__traceback__)\n\u001b[1;32m--> 153\u001b[0m   \u001b[38;5;28;01mraise\u001b[39;00m e\u001b[38;5;241m.\u001b[39mwith_traceback(filtered_tb) \u001b[38;5;28;01mfrom\u001b[39;00m \u001b[38;5;28mNone\u001b[39m\n\u001b[0;32m    154\u001b[0m \u001b[38;5;28;01mfinally\u001b[39;00m:\n\u001b[0;32m    155\u001b[0m   \u001b[38;5;28;01mdel\u001b[39;00m filtered_tb\n",
      "File \u001b[1;32mc:\\users\\asus\\anaconda3\\envs\\notebook\\lib\\site-packages\\tensorflow\\python\\eager\\execute.py:54\u001b[0m, in \u001b[0;36mquick_execute\u001b[1;34m(op_name, num_outputs, inputs, attrs, ctx, name)\u001b[0m\n\u001b[0;32m     52\u001b[0m \u001b[38;5;28;01mtry\u001b[39;00m:\n\u001b[0;32m     53\u001b[0m   ctx\u001b[38;5;241m.\u001b[39mensure_initialized()\n\u001b[1;32m---> 54\u001b[0m   tensors \u001b[38;5;241m=\u001b[39m pywrap_tfe\u001b[38;5;241m.\u001b[39mTFE_Py_Execute(ctx\u001b[38;5;241m.\u001b[39m_handle, device_name, op_name,\n\u001b[0;32m     55\u001b[0m                                       inputs, attrs, num_outputs)\n\u001b[0;32m     56\u001b[0m \u001b[38;5;28;01mexcept\u001b[39;00m core\u001b[38;5;241m.\u001b[39m_NotOkStatusException \u001b[38;5;28;01mas\u001b[39;00m e:\n\u001b[0;32m     57\u001b[0m   \u001b[38;5;28;01mif\u001b[39;00m name \u001b[38;5;129;01mis\u001b[39;00m \u001b[38;5;129;01mnot\u001b[39;00m \u001b[38;5;28;01mNone\u001b[39;00m:\n",
      "\u001b[1;31mInvalidArgumentError\u001b[0m: Input to reshape is a tensor with 25 values, but the requested shape has 5 [Op:Reshape]"
     ]
    }
   ],
   "source": [
    "tf.reshape([1,2,3,4,5,6,7,8,9,10,11,12,13,14,15,16,17,18,19,20,21,22,23,24,25], [5])\n",
    "\n",
    "\n",
    "\n",
    "\n"
   ]
  },
  {
   "cell_type": "code",
   "execution_count": null,
   "id": "307d8978",
   "metadata": {},
   "outputs": [],
   "source": []
  },
  {
   "cell_type": "code",
   "execution_count": null,
   "id": "7813f87b",
   "metadata": {},
   "outputs": [],
   "source": []
  }
 ],
 "metadata": {
  "kernelspec": {
   "display_name": "Python 3",
   "language": "python",
   "name": "python3"
  },
  "language_info": {
   "codemirror_mode": {
    "name": "ipython",
    "version": 3
   },
   "file_extension": ".py",
   "mimetype": "text/x-python",
   "name": "python",
   "nbconvert_exporter": "python",
   "pygments_lexer": "ipython3",
   "version": "3.9.11"
  }
 },
 "nbformat": 4,
 "nbformat_minor": 5
}
